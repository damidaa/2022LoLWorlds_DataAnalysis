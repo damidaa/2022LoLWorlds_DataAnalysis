{
 "cells": [
  {
   "cell_type": "code",
   "execution_count": 1,
   "metadata": {},
   "outputs": [],
   "source": [
    "import numpy as np\n",
    "import pandas as pd\n",
    "import plotly.graph_objects as go\n",
    "import plotly.express as px\n",
    "import chart_studio.plotly as py\n",
    "\n",
    "\n",
    "from sklearn.preprocessing import MinMaxScaler"
   ]
  },
  {
   "cell_type": "code",
   "execution_count": 9,
   "metadata": {},
   "outputs": [
    {
     "name": "stderr",
     "output_type": "stream",
     "text": [
      "C:\\Users\\Admin\\AppData\\Local\\Temp\\ipykernel_6328\\2299288423.py:8: DtypeWarning: Columns (2) have mixed types. Specify dtype option on import or set low_memory=False.\n",
      "  lol2022season = pd.read_csv(PATH + \"2022matchdata.csv\" , encoding='utf-8-sig')\n"
     ]
    }
   ],
   "source": [
    "PATH = \"\"\n",
    "\n",
    "champions = pd.read_csv(PATH + \"wc_champions.csv\", encoding='utf-8-sig')\n",
    "players_main = pd.read_csv(PATH + \"wc_players_main.csv\", encoding='utf-8-sig')\n",
    "players_pi = pd.read_csv(PATH + \"wc_players_play_in.csv\", encoding='utf-8-sig')\n",
    "teams_main = pd.read_csv(PATH + \"wc_teams_main.csv\", encoding='utf-8-sig')\n",
    "teams_pi = pd.read_csv(PATH + \"wc_teams_play_in.csv\", encoding='utf-8-sig')\n",
    "lol2022season = pd.read_csv(PATH + \"2022matchdata.csv\" , encoding='utf-8-sig')\n",
    "lck2022season = pd.read_csv(PATH + \"lck2022.csv\" , encoding='utf-8-sig')\n",
    "\n",
    "lol2022season['date'] = pd.to_datetime(lol2022season['date'], format='%Y-%m-%d %H:%M:%S', errors='raise') #날짜데이터전처리"
   ]
  },
  {
   "cell_type": "markdown",
   "metadata": {},
   "source": [
    "# dataload"
   ]
  },
  {
   "cell_type": "code",
   "execution_count": 26,
   "metadata": {},
   "outputs": [],
   "source": [
    "lck = lol2022season[ lol2022season['league'] == 'LCK' ]\n",
    "lec = lol2022season[ lol2022season['league'] == 'LEC' ]\n",
    "lcs = lol2022season[ lol2022season['league'] == 'LCS' ]\n",
    "#lpl null값 많아 제외\n",
    "third_leagues = pd.concat([lck,lec,lcs], axis=0)\n",
    "\n",
    "\n",
    "lck_spring = lck[ (lck['split'] == 'Spring') & (lck['playoffs']==0) ]\n",
    "lck_summer = lck[ (lck['split'] == 'Summer') & (lck['playoffs']==0) ]\n",
    "lck_spring_po = lck[ (lck['split'] == 'Spring') & (lck['playoffs']==1) ]\n",
    "lck_summer_po = lck[ (lck['split'] == 'Summer') & (lck['playoffs']==1) ]"
   ]
  },
  {
   "cell_type": "code",
   "execution_count": 27,
   "metadata": {},
   "outputs": [
    {
     "data": {
      "text/html": [
       "<div>\n",
       "<style scoped>\n",
       "    .dataframe tbody tr th:only-of-type {\n",
       "        vertical-align: middle;\n",
       "    }\n",
       "\n",
       "    .dataframe tbody tr th {\n",
       "        vertical-align: top;\n",
       "    }\n",
       "\n",
       "    .dataframe thead th {\n",
       "        text-align: right;\n",
       "    }\n",
       "</style>\n",
       "<table border=\"1\" class=\"dataframe\">\n",
       "  <thead>\n",
       "    <tr style=\"text-align: right;\">\n",
       "      <th></th>\n",
       "      <th>gameid</th>\n",
       "      <th>participantid</th>\n",
       "      <th>side</th>\n",
       "      <th>league</th>\n",
       "      <th>split</th>\n",
       "      <th>teamname</th>\n",
       "      <th>date</th>\n",
       "      <th>gamelength</th>\n",
       "      <th>result</th>\n",
       "      <th>totalgold</th>\n",
       "      <th>golddiffat15</th>\n",
       "      <th>xpdiffat15</th>\n",
       "      <th>towers</th>\n",
       "    </tr>\n",
       "  </thead>\n",
       "  <tbody>\n",
       "    <tr>\n",
       "      <th>1450</th>\n",
       "      <td>ESPORTSTMNT01_2700815</td>\n",
       "      <td>100</td>\n",
       "      <td>Blue</td>\n",
       "      <td>LCK</td>\n",
       "      <td>Spring</td>\n",
       "      <td>DRX</td>\n",
       "      <td>2022-01-12 06:20:03</td>\n",
       "      <td>2195</td>\n",
       "      <td>0</td>\n",
       "      <td>63747</td>\n",
       "      <td>4757.0</td>\n",
       "      <td>1540.0</td>\n",
       "      <td>8.0</td>\n",
       "    </tr>\n",
       "    <tr>\n",
       "      <th>1451</th>\n",
       "      <td>ESPORTSTMNT01_2700815</td>\n",
       "      <td>200</td>\n",
       "      <td>Red</td>\n",
       "      <td>LCK</td>\n",
       "      <td>Spring</td>\n",
       "      <td>Liiv SANDBOX</td>\n",
       "      <td>2022-01-12 06:20:03</td>\n",
       "      <td>2195</td>\n",
       "      <td>1</td>\n",
       "      <td>67669</td>\n",
       "      <td>-4757.0</td>\n",
       "      <td>-1540.0</td>\n",
       "      <td>9.0</td>\n",
       "    </tr>\n",
       "    <tr>\n",
       "      <th>1462</th>\n",
       "      <td>ESPORTSTMNT01_2690695</td>\n",
       "      <td>100</td>\n",
       "      <td>Blue</td>\n",
       "      <td>LCK</td>\n",
       "      <td>Spring</td>\n",
       "      <td>DRX</td>\n",
       "      <td>2022-01-12 09:02:13</td>\n",
       "      <td>2070</td>\n",
       "      <td>0</td>\n",
       "      <td>60674</td>\n",
       "      <td>-1045.0</td>\n",
       "      <td>-735.0</td>\n",
       "      <td>3.0</td>\n",
       "    </tr>\n",
       "    <tr>\n",
       "      <th>1463</th>\n",
       "      <td>ESPORTSTMNT01_2690695</td>\n",
       "      <td>200</td>\n",
       "      <td>Red</td>\n",
       "      <td>LCK</td>\n",
       "      <td>Spring</td>\n",
       "      <td>Liiv SANDBOX</td>\n",
       "      <td>2022-01-12 09:02:13</td>\n",
       "      <td>2070</td>\n",
       "      <td>1</td>\n",
       "      <td>67152</td>\n",
       "      <td>1045.0</td>\n",
       "      <td>735.0</td>\n",
       "      <td>9.0</td>\n",
       "    </tr>\n",
       "    <tr>\n",
       "      <th>1486</th>\n",
       "      <td>ESPORTSTMNT01_2690705</td>\n",
       "      <td>100</td>\n",
       "      <td>Blue</td>\n",
       "      <td>LCK</td>\n",
       "      <td>Spring</td>\n",
       "      <td>T1</td>\n",
       "      <td>2022-01-12 10:07:10</td>\n",
       "      <td>2233</td>\n",
       "      <td>1</td>\n",
       "      <td>66455</td>\n",
       "      <td>1309.0</td>\n",
       "      <td>-170.0</td>\n",
       "      <td>7.0</td>\n",
       "    </tr>\n",
       "  </tbody>\n",
       "</table>\n",
       "</div>"
      ],
      "text/plain": [
       "                     gameid  participantid  side league   split      teamname  \\\n",
       "1450  ESPORTSTMNT01_2700815            100  Blue    LCK  Spring           DRX   \n",
       "1451  ESPORTSTMNT01_2700815            200   Red    LCK  Spring  Liiv SANDBOX   \n",
       "1462  ESPORTSTMNT01_2690695            100  Blue    LCK  Spring           DRX   \n",
       "1463  ESPORTSTMNT01_2690695            200   Red    LCK  Spring  Liiv SANDBOX   \n",
       "1486  ESPORTSTMNT01_2690705            100  Blue    LCK  Spring            T1   \n",
       "\n",
       "                    date  gamelength  result  totalgold  golddiffat15  \\\n",
       "1450 2022-01-12 06:20:03        2195       0      63747        4757.0   \n",
       "1451 2022-01-12 06:20:03        2195       1      67669       -4757.0   \n",
       "1462 2022-01-12 09:02:13        2070       0      60674       -1045.0   \n",
       "1463 2022-01-12 09:02:13        2070       1      67152        1045.0   \n",
       "1486 2022-01-12 10:07:10        2233       1      66455        1309.0   \n",
       "\n",
       "      xpdiffat15  towers  \n",
       "1450      1540.0     8.0  \n",
       "1451     -1540.0     9.0  \n",
       "1462      -735.0     3.0  \n",
       "1463       735.0     9.0  \n",
       "1486      -170.0     7.0  "
      ]
     },
     "execution_count": 27,
     "metadata": {},
     "output_type": "execute_result"
    }
   ],
   "source": [
    "# 3대리그 중요요인으로 생각하는 피쳐들 상관관계 분석\n",
    "third_leagues_hm_df = third_leagues[ ['gameid','participantid','side','league','split','teamname','date', \\\n",
    "    'gamelength','result','totalgold','golddiffat15','xpdiffat15','towers'] ]\n",
    "\n",
    "third_leagues_hm_df_team = third_leagues_hm_df[ (third_leagues_hm_df['participantid'] == 100) | (third_leagues_hm_df['participantid'] == 200 ) ]\n",
    "\n",
    "third_leagues_hm_df_team.head()"
   ]
  },
  {
   "cell_type": "code",
   "execution_count": 35,
   "metadata": {},
   "outputs": [
    {
     "data": {
      "text/html": [
       "<div>\n",
       "<style scoped>\n",
       "    .dataframe tbody tr th:only-of-type {\n",
       "        vertical-align: middle;\n",
       "    }\n",
       "\n",
       "    .dataframe tbody tr th {\n",
       "        vertical-align: top;\n",
       "    }\n",
       "\n",
       "    .dataframe thead th {\n",
       "        text-align: right;\n",
       "    }\n",
       "</style>\n",
       "<table border=\"1\" class=\"dataframe\">\n",
       "  <thead>\n",
       "    <tr style=\"text-align: right;\">\n",
       "      <th></th>\n",
       "      <th>gamelength</th>\n",
       "      <th>result</th>\n",
       "      <th>totalgold</th>\n",
       "      <th>golddiffat15</th>\n",
       "      <th>towers</th>\n",
       "    </tr>\n",
       "    <tr>\n",
       "      <th>teamname</th>\n",
       "      <th></th>\n",
       "      <th></th>\n",
       "      <th></th>\n",
       "      <th></th>\n",
       "      <th></th>\n",
       "    </tr>\n",
       "  </thead>\n",
       "  <tbody>\n",
       "    <tr>\n",
       "      <th>100 Thieves</th>\n",
       "      <td>1951.500</td>\n",
       "      <td>0.600</td>\n",
       "      <td>58600.729</td>\n",
       "      <td>238.257</td>\n",
       "      <td>6.414</td>\n",
       "    </tr>\n",
       "    <tr>\n",
       "      <th>Astralis</th>\n",
       "      <td>2076.056</td>\n",
       "      <td>0.278</td>\n",
       "      <td>59932.194</td>\n",
       "      <td>-859.444</td>\n",
       "      <td>4.889</td>\n",
       "    </tr>\n",
       "    <tr>\n",
       "      <th>Cloud9</th>\n",
       "      <td>1973.181</td>\n",
       "      <td>0.611</td>\n",
       "      <td>60595.153</td>\n",
       "      <td>483.278</td>\n",
       "      <td>6.583</td>\n",
       "    </tr>\n",
       "    <tr>\n",
       "      <th>Counter Logic Gaming</th>\n",
       "      <td>2014.121</td>\n",
       "      <td>0.466</td>\n",
       "      <td>59281.552</td>\n",
       "      <td>-746.776</td>\n",
       "      <td>5.845</td>\n",
       "    </tr>\n",
       "    <tr>\n",
       "      <th>DRX</th>\n",
       "      <td>2074.211</td>\n",
       "      <td>0.495</td>\n",
       "      <td>61042.789</td>\n",
       "      <td>-149.495</td>\n",
       "      <td>6.095</td>\n",
       "    </tr>\n",
       "    <tr>\n",
       "      <th>DWG KIA</th>\n",
       "      <td>2078.347</td>\n",
       "      <td>0.604</td>\n",
       "      <td>61938.802</td>\n",
       "      <td>693.436</td>\n",
       "      <td>7.010</td>\n",
       "    </tr>\n",
       "    <tr>\n",
       "      <th>Dignitas</th>\n",
       "      <td>2017.022</td>\n",
       "      <td>0.326</td>\n",
       "      <td>57811.609</td>\n",
       "      <td>-618.522</td>\n",
       "      <td>4.696</td>\n",
       "    </tr>\n",
       "    <tr>\n",
       "      <th>Evil Geniuses</th>\n",
       "      <td>2008.651</td>\n",
       "      <td>0.663</td>\n",
       "      <td>61156.221</td>\n",
       "      <td>527.186</td>\n",
       "      <td>7.233</td>\n",
       "    </tr>\n",
       "    <tr>\n",
       "      <th>Excel Esports</th>\n",
       "      <td>2045.383</td>\n",
       "      <td>0.489</td>\n",
       "      <td>60208.915</td>\n",
       "      <td>-285.447</td>\n",
       "      <td>6.553</td>\n",
       "    </tr>\n",
       "    <tr>\n",
       "      <th>FlyQuest</th>\n",
       "      <td>2046.431</td>\n",
       "      <td>0.448</td>\n",
       "      <td>59111.155</td>\n",
       "      <td>-716.431</td>\n",
       "      <td>5.621</td>\n",
       "    </tr>\n",
       "    <tr>\n",
       "      <th>Fnatic</th>\n",
       "      <td>1986.062</td>\n",
       "      <td>0.585</td>\n",
       "      <td>60272.738</td>\n",
       "      <td>766.969</td>\n",
       "      <td>6.800</td>\n",
       "    </tr>\n",
       "    <tr>\n",
       "      <th>Fredit BRION</th>\n",
       "      <td>2071.506</td>\n",
       "      <td>0.360</td>\n",
       "      <td>59981.472</td>\n",
       "      <td>-597.360</td>\n",
       "      <td>5.236</td>\n",
       "    </tr>\n",
       "    <tr>\n",
       "      <th>G2 Esports</th>\n",
       "      <td>1978.306</td>\n",
       "      <td>0.677</td>\n",
       "      <td>61045.323</td>\n",
       "      <td>97.581</td>\n",
       "      <td>7.371</td>\n",
       "    </tr>\n",
       "    <tr>\n",
       "      <th>Gen.G</th>\n",
       "      <td>1935.083</td>\n",
       "      <td>0.760</td>\n",
       "      <td>61365.479</td>\n",
       "      <td>1081.396</td>\n",
       "      <td>7.917</td>\n",
       "    </tr>\n",
       "    <tr>\n",
       "      <th>Golden Guardians</th>\n",
       "      <td>1968.020</td>\n",
       "      <td>0.333</td>\n",
       "      <td>56554.373</td>\n",
       "      <td>-359.314</td>\n",
       "      <td>4.765</td>\n",
       "    </tr>\n",
       "    <tr>\n",
       "      <th>Hanwha Life Esports</th>\n",
       "      <td>2008.494</td>\n",
       "      <td>0.270</td>\n",
       "      <td>56477.056</td>\n",
       "      <td>-866.607</td>\n",
       "      <td>4.213</td>\n",
       "    </tr>\n",
       "    <tr>\n",
       "      <th>Immortals</th>\n",
       "      <td>1970.150</td>\n",
       "      <td>0.225</td>\n",
       "      <td>55284.750</td>\n",
       "      <td>-799.525</td>\n",
       "      <td>4.275</td>\n",
       "    </tr>\n",
       "    <tr>\n",
       "      <th>KT Rolster</th>\n",
       "      <td>2045.505</td>\n",
       "      <td>0.495</td>\n",
       "      <td>61005.699</td>\n",
       "      <td>5.978</td>\n",
       "      <td>5.946</td>\n",
       "    </tr>\n",
       "    <tr>\n",
       "      <th>Kwangdong Freecs</th>\n",
       "      <td>2081.228</td>\n",
       "      <td>0.391</td>\n",
       "      <td>59318.837</td>\n",
       "      <td>-524.511</td>\n",
       "      <td>5.457</td>\n",
       "    </tr>\n",
       "    <tr>\n",
       "      <th>Liiv SANDBOX</th>\n",
       "      <td>1899.711</td>\n",
       "      <td>0.467</td>\n",
       "      <td>55604.911</td>\n",
       "      <td>-1212.856</td>\n",
       "      <td>5.400</td>\n",
       "    </tr>\n",
       "    <tr>\n",
       "      <th>MAD Lions</th>\n",
       "      <td>2005.978</td>\n",
       "      <td>0.511</td>\n",
       "      <td>60219.044</td>\n",
       "      <td>595.022</td>\n",
       "      <td>6.378</td>\n",
       "    </tr>\n",
       "    <tr>\n",
       "      <th>Misfits Gaming</th>\n",
       "      <td>1953.941</td>\n",
       "      <td>0.490</td>\n",
       "      <td>58511.078</td>\n",
       "      <td>-1171.569</td>\n",
       "      <td>6.196</td>\n",
       "    </tr>\n",
       "    <tr>\n",
       "      <th>Nongshim RedForce</th>\n",
       "      <td>2048.655</td>\n",
       "      <td>0.345</td>\n",
       "      <td>59042.517</td>\n",
       "      <td>-138.655</td>\n",
       "      <td>5.149</td>\n",
       "    </tr>\n",
       "    <tr>\n",
       "      <th>Rogue</th>\n",
       "      <td>1950.635</td>\n",
       "      <td>0.635</td>\n",
       "      <td>60147.079</td>\n",
       "      <td>1023.841</td>\n",
       "      <td>7.349</td>\n",
       "    </tr>\n",
       "    <tr>\n",
       "      <th>SK Gaming</th>\n",
       "      <td>1963.486</td>\n",
       "      <td>0.371</td>\n",
       "      <td>56286.086</td>\n",
       "      <td>-1135.914</td>\n",
       "      <td>4.571</td>\n",
       "    </tr>\n",
       "    <tr>\n",
       "      <th>T1</th>\n",
       "      <td>1960.539</td>\n",
       "      <td>0.745</td>\n",
       "      <td>61533.275</td>\n",
       "      <td>1368.265</td>\n",
       "      <td>7.824</td>\n",
       "    </tr>\n",
       "    <tr>\n",
       "      <th>TSM</th>\n",
       "      <td>1957.700</td>\n",
       "      <td>0.340</td>\n",
       "      <td>57074.840</td>\n",
       "      <td>-675.600</td>\n",
       "      <td>5.480</td>\n",
       "    </tr>\n",
       "    <tr>\n",
       "      <th>Team BDS</th>\n",
       "      <td>1979.571</td>\n",
       "      <td>0.200</td>\n",
       "      <td>55403.057</td>\n",
       "      <td>-793.743</td>\n",
       "      <td>3.771</td>\n",
       "    </tr>\n",
       "    <tr>\n",
       "      <th>Team Liquid</th>\n",
       "      <td>1925.420</td>\n",
       "      <td>0.642</td>\n",
       "      <td>59141.691</td>\n",
       "      <td>1241.877</td>\n",
       "      <td>7.210</td>\n",
       "    </tr>\n",
       "    <tr>\n",
       "      <th>Team Vitality</th>\n",
       "      <td>1999.578</td>\n",
       "      <td>0.467</td>\n",
       "      <td>59961.378</td>\n",
       "      <td>543.622</td>\n",
       "      <td>6.578</td>\n",
       "    </tr>\n",
       "  </tbody>\n",
       "</table>\n",
       "</div>"
      ],
      "text/plain": [
       "                      gamelength  result  totalgold  golddiffat15  towers\n",
       "teamname                                                                 \n",
       "100 Thieves             1951.500   0.600  58600.729       238.257   6.414\n",
       "Astralis                2076.056   0.278  59932.194      -859.444   4.889\n",
       "Cloud9                  1973.181   0.611  60595.153       483.278   6.583\n",
       "Counter Logic Gaming    2014.121   0.466  59281.552      -746.776   5.845\n",
       "DRX                     2074.211   0.495  61042.789      -149.495   6.095\n",
       "DWG KIA                 2078.347   0.604  61938.802       693.436   7.010\n",
       "Dignitas                2017.022   0.326  57811.609      -618.522   4.696\n",
       "Evil Geniuses           2008.651   0.663  61156.221       527.186   7.233\n",
       "Excel Esports           2045.383   0.489  60208.915      -285.447   6.553\n",
       "FlyQuest                2046.431   0.448  59111.155      -716.431   5.621\n",
       "Fnatic                  1986.062   0.585  60272.738       766.969   6.800\n",
       "Fredit BRION            2071.506   0.360  59981.472      -597.360   5.236\n",
       "G2 Esports              1978.306   0.677  61045.323        97.581   7.371\n",
       "Gen.G                   1935.083   0.760  61365.479      1081.396   7.917\n",
       "Golden Guardians        1968.020   0.333  56554.373      -359.314   4.765\n",
       "Hanwha Life Esports     2008.494   0.270  56477.056      -866.607   4.213\n",
       "Immortals               1970.150   0.225  55284.750      -799.525   4.275\n",
       "KT Rolster              2045.505   0.495  61005.699         5.978   5.946\n",
       "Kwangdong Freecs        2081.228   0.391  59318.837      -524.511   5.457\n",
       "Liiv SANDBOX            1899.711   0.467  55604.911     -1212.856   5.400\n",
       "MAD Lions               2005.978   0.511  60219.044       595.022   6.378\n",
       "Misfits Gaming          1953.941   0.490  58511.078     -1171.569   6.196\n",
       "Nongshim RedForce       2048.655   0.345  59042.517      -138.655   5.149\n",
       "Rogue                   1950.635   0.635  60147.079      1023.841   7.349\n",
       "SK Gaming               1963.486   0.371  56286.086     -1135.914   4.571\n",
       "T1                      1960.539   0.745  61533.275      1368.265   7.824\n",
       "TSM                     1957.700   0.340  57074.840      -675.600   5.480\n",
       "Team BDS                1979.571   0.200  55403.057      -793.743   3.771\n",
       "Team Liquid             1925.420   0.642  59141.691      1241.877   7.210\n",
       "Team Vitality           1999.578   0.467  59961.378       543.622   6.578"
      ]
     },
     "execution_count": 35,
     "metadata": {},
     "output_type": "execute_result"
    }
   ],
   "source": [
    "t_l_hm_m = third_leagues_hm_df_team[ ['teamname','gamelength','result','totalgold','golddiffat15','towers'] ].groupby('teamname').mean().round(3)\n",
    "t_l_hm_m"
   ]
  },
  {
   "cell_type": "code",
   "execution_count": 37,
   "metadata": {},
   "outputs": [
    {
     "data": {
      "text/html": [
       "<div>\n",
       "<style scoped>\n",
       "    .dataframe tbody tr th:only-of-type {\n",
       "        vertical-align: middle;\n",
       "    }\n",
       "\n",
       "    .dataframe tbody tr th {\n",
       "        vertical-align: top;\n",
       "    }\n",
       "\n",
       "    .dataframe thead th {\n",
       "        text-align: right;\n",
       "    }\n",
       "</style>\n",
       "<table border=\"1\" class=\"dataframe\">\n",
       "  <thead>\n",
       "    <tr style=\"text-align: right;\">\n",
       "      <th></th>\n",
       "      <th>gamelength</th>\n",
       "      <th>result</th>\n",
       "      <th>totalgold</th>\n",
       "      <th>golddiffat15</th>\n",
       "      <th>towers</th>\n",
       "    </tr>\n",
       "  </thead>\n",
       "  <tbody>\n",
       "    <tr>\n",
       "      <th>gamelength</th>\n",
       "      <td>1.000</td>\n",
       "      <td>-0.291</td>\n",
       "      <td>0.381</td>\n",
       "      <td>-0.169</td>\n",
       "      <td>-0.200</td>\n",
       "    </tr>\n",
       "    <tr>\n",
       "      <th>result</th>\n",
       "      <td>-0.291</td>\n",
       "      <td>1.000</td>\n",
       "      <td>0.733</td>\n",
       "      <td>0.793</td>\n",
       "      <td>0.966</td>\n",
       "    </tr>\n",
       "    <tr>\n",
       "      <th>totalgold</th>\n",
       "      <td>0.381</td>\n",
       "      <td>0.733</td>\n",
       "      <td>1.000</td>\n",
       "      <td>0.687</td>\n",
       "      <td>0.799</td>\n",
       "    </tr>\n",
       "    <tr>\n",
       "      <th>golddiffat15</th>\n",
       "      <td>-0.169</td>\n",
       "      <td>0.793</td>\n",
       "      <td>0.687</td>\n",
       "      <td>1.000</td>\n",
       "      <td>0.825</td>\n",
       "    </tr>\n",
       "    <tr>\n",
       "      <th>towers</th>\n",
       "      <td>-0.200</td>\n",
       "      <td>0.966</td>\n",
       "      <td>0.799</td>\n",
       "      <td>0.825</td>\n",
       "      <td>1.000</td>\n",
       "    </tr>\n",
       "  </tbody>\n",
       "</table>\n",
       "</div>"
      ],
      "text/plain": [
       "              gamelength  result  totalgold  golddiffat15  towers\n",
       "gamelength         1.000  -0.291      0.381        -0.169  -0.200\n",
       "result            -0.291   1.000      0.733         0.793   0.966\n",
       "totalgold          0.381   0.733      1.000         0.687   0.799\n",
       "golddiffat15      -0.169   0.793      0.687         1.000   0.825\n",
       "towers            -0.200   0.966      0.799         0.825   1.000"
      ]
     },
     "execution_count": 37,
     "metadata": {},
     "output_type": "execute_result"
    }
   ],
   "source": [
    "t_l_hm_m.corr().round(3)"
   ]
  },
  {
   "cell_type": "code",
   "execution_count": 33,
   "metadata": {},
   "outputs": [
    {
     "data": {
      "text/html": [
       "<div>\n",
       "<style scoped>\n",
       "    .dataframe tbody tr th:only-of-type {\n",
       "        vertical-align: middle;\n",
       "    }\n",
       "\n",
       "    .dataframe tbody tr th {\n",
       "        vertical-align: top;\n",
       "    }\n",
       "\n",
       "    .dataframe thead th {\n",
       "        text-align: right;\n",
       "    }\n",
       "</style>\n",
       "<table border=\"1\" class=\"dataframe\">\n",
       "  <thead>\n",
       "    <tr style=\"text-align: right;\">\n",
       "      <th></th>\n",
       "      <th>gamelength</th>\n",
       "      <th>result</th>\n",
       "      <th>totalgold</th>\n",
       "      <th>golddiffat15</th>\n",
       "      <th>towers</th>\n",
       "      <th>xpdiffat15</th>\n",
       "    </tr>\n",
       "  </thead>\n",
       "  <tbody>\n",
       "    <tr>\n",
       "      <th>1450</th>\n",
       "      <td>2195</td>\n",
       "      <td>0</td>\n",
       "      <td>63747</td>\n",
       "      <td>4757.0</td>\n",
       "      <td>8.0</td>\n",
       "      <td>1540.0</td>\n",
       "    </tr>\n",
       "    <tr>\n",
       "      <th>1451</th>\n",
       "      <td>2195</td>\n",
       "      <td>1</td>\n",
       "      <td>67669</td>\n",
       "      <td>-4757.0</td>\n",
       "      <td>9.0</td>\n",
       "      <td>-1540.0</td>\n",
       "    </tr>\n",
       "    <tr>\n",
       "      <th>1462</th>\n",
       "      <td>2070</td>\n",
       "      <td>0</td>\n",
       "      <td>60674</td>\n",
       "      <td>-1045.0</td>\n",
       "      <td>3.0</td>\n",
       "      <td>-735.0</td>\n",
       "    </tr>\n",
       "    <tr>\n",
       "      <th>1463</th>\n",
       "      <td>2070</td>\n",
       "      <td>1</td>\n",
       "      <td>67152</td>\n",
       "      <td>1045.0</td>\n",
       "      <td>9.0</td>\n",
       "      <td>735.0</td>\n",
       "    </tr>\n",
       "    <tr>\n",
       "      <th>1486</th>\n",
       "      <td>2233</td>\n",
       "      <td>1</td>\n",
       "      <td>66455</td>\n",
       "      <td>1309.0</td>\n",
       "      <td>7.0</td>\n",
       "      <td>-170.0</td>\n",
       "    </tr>\n",
       "    <tr>\n",
       "      <th>...</th>\n",
       "      <td>...</td>\n",
       "      <td>...</td>\n",
       "      <td>...</td>\n",
       "      <td>...</td>\n",
       "      <td>...</td>\n",
       "      <td>...</td>\n",
       "    </tr>\n",
       "    <tr>\n",
       "      <th>133319</th>\n",
       "      <td>1661</td>\n",
       "      <td>0</td>\n",
       "      <td>43013</td>\n",
       "      <td>-1549.0</td>\n",
       "      <td>2.0</td>\n",
       "      <td>-2604.0</td>\n",
       "    </tr>\n",
       "    <tr>\n",
       "      <th>133354</th>\n",
       "      <td>1493</td>\n",
       "      <td>0</td>\n",
       "      <td>38560</td>\n",
       "      <td>3003.0</td>\n",
       "      <td>2.0</td>\n",
       "      <td>917.0</td>\n",
       "    </tr>\n",
       "    <tr>\n",
       "      <th>133355</th>\n",
       "      <td>1493</td>\n",
       "      <td>1</td>\n",
       "      <td>50003</td>\n",
       "      <td>-3003.0</td>\n",
       "      <td>8.0</td>\n",
       "      <td>-917.0</td>\n",
       "    </tr>\n",
       "    <tr>\n",
       "      <th>133366</th>\n",
       "      <td>1800</td>\n",
       "      <td>0</td>\n",
       "      <td>46204</td>\n",
       "      <td>195.0</td>\n",
       "      <td>1.0</td>\n",
       "      <td>-1700.0</td>\n",
       "    </tr>\n",
       "    <tr>\n",
       "      <th>133367</th>\n",
       "      <td>1800</td>\n",
       "      <td>1</td>\n",
       "      <td>59588</td>\n",
       "      <td>-195.0</td>\n",
       "      <td>10.0</td>\n",
       "      <td>1700.0</td>\n",
       "    </tr>\n",
       "  </tbody>\n",
       "</table>\n",
       "<p>2030 rows × 6 columns</p>\n",
       "</div>"
      ],
      "text/plain": [
       "        gamelength  result  totalgold  golddiffat15  towers  xpdiffat15\n",
       "1450          2195       0      63747        4757.0     8.0      1540.0\n",
       "1451          2195       1      67669       -4757.0     9.0     -1540.0\n",
       "1462          2070       0      60674       -1045.0     3.0      -735.0\n",
       "1463          2070       1      67152        1045.0     9.0       735.0\n",
       "1486          2233       1      66455        1309.0     7.0      -170.0\n",
       "...            ...     ...        ...           ...     ...         ...\n",
       "133319        1661       0      43013       -1549.0     2.0     -2604.0\n",
       "133354        1493       0      38560        3003.0     2.0       917.0\n",
       "133355        1493       1      50003       -3003.0     8.0      -917.0\n",
       "133366        1800       0      46204         195.0     1.0     -1700.0\n",
       "133367        1800       1      59588        -195.0    10.0      1700.0\n",
       "\n",
       "[2030 rows x 6 columns]"
      ]
     },
     "execution_count": 33,
     "metadata": {},
     "output_type": "execute_result"
    }
   ],
   "source": [
    "third_leagues_hm_df_team[ ['gamelength','result','totalgold','golddiffat15','towers','xpdiffat15'] ]"
   ]
  },
  {
   "cell_type": "code",
   "execution_count": 56,
   "metadata": {},
   "outputs": [
    {
     "data": {
      "application/vnd.plotly.v1+json": {
       "config": {
        "plotlyServerURL": "https://plotly.com"
       },
       "data": [
        {
         "coloraxis": "coloraxis",
         "hovertemplate": "x: %{x}<br>y: %{y}<br>color: %{z}<extra></extra>",
         "name": "0",
         "texttemplate": "%{z}",
         "type": "heatmap",
         "x": [
          "gamelength",
          "result",
          "totalgold",
          "golddiffat15",
          "towers"
         ],
         "xaxis": "x",
         "y": [
          "gamelength",
          "result",
          "totalgold",
          "golddiffat15",
          "towers"
         ],
         "yaxis": "y",
         "z": [
          [
           1,
           -0.291,
           0.381,
           -0.169,
           -0.2
          ],
          [
           -0.291,
           1,
           0.733,
           0.793,
           0.966
          ],
          [
           0.381,
           0.733,
           1,
           0.687,
           0.799
          ],
          [
           -0.169,
           0.793,
           0.687,
           1,
           0.825
          ],
          [
           -0.2,
           0.966,
           0.799,
           0.825,
           1
          ]
         ]
        }
       ],
       "layout": {
        "coloraxis": {
         "colorscale": [
          [
           0,
           "#0d0887"
          ],
          [
           0.1111111111111111,
           "#46039f"
          ],
          [
           0.2222222222222222,
           "#7201a8"
          ],
          [
           0.3333333333333333,
           "#9c179e"
          ],
          [
           0.4444444444444444,
           "#bd3786"
          ],
          [
           0.5555555555555556,
           "#d8576b"
          ],
          [
           0.6666666666666666,
           "#ed7953"
          ],
          [
           0.7777777777777778,
           "#fb9f3a"
          ],
          [
           0.8888888888888888,
           "#fdca26"
          ],
          [
           1,
           "#f0f921"
          ]
         ]
        },
        "template": {
         "data": {
          "bar": [
           {
            "error_x": {
             "color": "#2a3f5f"
            },
            "error_y": {
             "color": "#2a3f5f"
            },
            "marker": {
             "line": {
              "color": "#E5ECF6",
              "width": 0.5
             },
             "pattern": {
              "fillmode": "overlay",
              "size": 10,
              "solidity": 0.2
             }
            },
            "type": "bar"
           }
          ],
          "barpolar": [
           {
            "marker": {
             "line": {
              "color": "#E5ECF6",
              "width": 0.5
             },
             "pattern": {
              "fillmode": "overlay",
              "size": 10,
              "solidity": 0.2
             }
            },
            "type": "barpolar"
           }
          ],
          "carpet": [
           {
            "aaxis": {
             "endlinecolor": "#2a3f5f",
             "gridcolor": "white",
             "linecolor": "white",
             "minorgridcolor": "white",
             "startlinecolor": "#2a3f5f"
            },
            "baxis": {
             "endlinecolor": "#2a3f5f",
             "gridcolor": "white",
             "linecolor": "white",
             "minorgridcolor": "white",
             "startlinecolor": "#2a3f5f"
            },
            "type": "carpet"
           }
          ],
          "choropleth": [
           {
            "colorbar": {
             "outlinewidth": 0,
             "ticks": ""
            },
            "type": "choropleth"
           }
          ],
          "contour": [
           {
            "colorbar": {
             "outlinewidth": 0,
             "ticks": ""
            },
            "colorscale": [
             [
              0,
              "#0d0887"
             ],
             [
              0.1111111111111111,
              "#46039f"
             ],
             [
              0.2222222222222222,
              "#7201a8"
             ],
             [
              0.3333333333333333,
              "#9c179e"
             ],
             [
              0.4444444444444444,
              "#bd3786"
             ],
             [
              0.5555555555555556,
              "#d8576b"
             ],
             [
              0.6666666666666666,
              "#ed7953"
             ],
             [
              0.7777777777777778,
              "#fb9f3a"
             ],
             [
              0.8888888888888888,
              "#fdca26"
             ],
             [
              1,
              "#f0f921"
             ]
            ],
            "type": "contour"
           }
          ],
          "contourcarpet": [
           {
            "colorbar": {
             "outlinewidth": 0,
             "ticks": ""
            },
            "type": "contourcarpet"
           }
          ],
          "heatmap": [
           {
            "colorbar": {
             "outlinewidth": 0,
             "ticks": ""
            },
            "colorscale": [
             [
              0,
              "#0d0887"
             ],
             [
              0.1111111111111111,
              "#46039f"
             ],
             [
              0.2222222222222222,
              "#7201a8"
             ],
             [
              0.3333333333333333,
              "#9c179e"
             ],
             [
              0.4444444444444444,
              "#bd3786"
             ],
             [
              0.5555555555555556,
              "#d8576b"
             ],
             [
              0.6666666666666666,
              "#ed7953"
             ],
             [
              0.7777777777777778,
              "#fb9f3a"
             ],
             [
              0.8888888888888888,
              "#fdca26"
             ],
             [
              1,
              "#f0f921"
             ]
            ],
            "type": "heatmap"
           }
          ],
          "heatmapgl": [
           {
            "colorbar": {
             "outlinewidth": 0,
             "ticks": ""
            },
            "colorscale": [
             [
              0,
              "#0d0887"
             ],
             [
              0.1111111111111111,
              "#46039f"
             ],
             [
              0.2222222222222222,
              "#7201a8"
             ],
             [
              0.3333333333333333,
              "#9c179e"
             ],
             [
              0.4444444444444444,
              "#bd3786"
             ],
             [
              0.5555555555555556,
              "#d8576b"
             ],
             [
              0.6666666666666666,
              "#ed7953"
             ],
             [
              0.7777777777777778,
              "#fb9f3a"
             ],
             [
              0.8888888888888888,
              "#fdca26"
             ],
             [
              1,
              "#f0f921"
             ]
            ],
            "type": "heatmapgl"
           }
          ],
          "histogram": [
           {
            "marker": {
             "pattern": {
              "fillmode": "overlay",
              "size": 10,
              "solidity": 0.2
             }
            },
            "type": "histogram"
           }
          ],
          "histogram2d": [
           {
            "colorbar": {
             "outlinewidth": 0,
             "ticks": ""
            },
            "colorscale": [
             [
              0,
              "#0d0887"
             ],
             [
              0.1111111111111111,
              "#46039f"
             ],
             [
              0.2222222222222222,
              "#7201a8"
             ],
             [
              0.3333333333333333,
              "#9c179e"
             ],
             [
              0.4444444444444444,
              "#bd3786"
             ],
             [
              0.5555555555555556,
              "#d8576b"
             ],
             [
              0.6666666666666666,
              "#ed7953"
             ],
             [
              0.7777777777777778,
              "#fb9f3a"
             ],
             [
              0.8888888888888888,
              "#fdca26"
             ],
             [
              1,
              "#f0f921"
             ]
            ],
            "type": "histogram2d"
           }
          ],
          "histogram2dcontour": [
           {
            "colorbar": {
             "outlinewidth": 0,
             "ticks": ""
            },
            "colorscale": [
             [
              0,
              "#0d0887"
             ],
             [
              0.1111111111111111,
              "#46039f"
             ],
             [
              0.2222222222222222,
              "#7201a8"
             ],
             [
              0.3333333333333333,
              "#9c179e"
             ],
             [
              0.4444444444444444,
              "#bd3786"
             ],
             [
              0.5555555555555556,
              "#d8576b"
             ],
             [
              0.6666666666666666,
              "#ed7953"
             ],
             [
              0.7777777777777778,
              "#fb9f3a"
             ],
             [
              0.8888888888888888,
              "#fdca26"
             ],
             [
              1,
              "#f0f921"
             ]
            ],
            "type": "histogram2dcontour"
           }
          ],
          "mesh3d": [
           {
            "colorbar": {
             "outlinewidth": 0,
             "ticks": ""
            },
            "type": "mesh3d"
           }
          ],
          "parcoords": [
           {
            "line": {
             "colorbar": {
              "outlinewidth": 0,
              "ticks": ""
             }
            },
            "type": "parcoords"
           }
          ],
          "pie": [
           {
            "automargin": true,
            "type": "pie"
           }
          ],
          "scatter": [
           {
            "fillpattern": {
             "fillmode": "overlay",
             "size": 10,
             "solidity": 0.2
            },
            "type": "scatter"
           }
          ],
          "scatter3d": [
           {
            "line": {
             "colorbar": {
              "outlinewidth": 0,
              "ticks": ""
             }
            },
            "marker": {
             "colorbar": {
              "outlinewidth": 0,
              "ticks": ""
             }
            },
            "type": "scatter3d"
           }
          ],
          "scattercarpet": [
           {
            "marker": {
             "colorbar": {
              "outlinewidth": 0,
              "ticks": ""
             }
            },
            "type": "scattercarpet"
           }
          ],
          "scattergeo": [
           {
            "marker": {
             "colorbar": {
              "outlinewidth": 0,
              "ticks": ""
             }
            },
            "type": "scattergeo"
           }
          ],
          "scattergl": [
           {
            "marker": {
             "colorbar": {
              "outlinewidth": 0,
              "ticks": ""
             }
            },
            "type": "scattergl"
           }
          ],
          "scattermapbox": [
           {
            "marker": {
             "colorbar": {
              "outlinewidth": 0,
              "ticks": ""
             }
            },
            "type": "scattermapbox"
           }
          ],
          "scatterpolar": [
           {
            "marker": {
             "colorbar": {
              "outlinewidth": 0,
              "ticks": ""
             }
            },
            "type": "scatterpolar"
           }
          ],
          "scatterpolargl": [
           {
            "marker": {
             "colorbar": {
              "outlinewidth": 0,
              "ticks": ""
             }
            },
            "type": "scatterpolargl"
           }
          ],
          "scatterternary": [
           {
            "marker": {
             "colorbar": {
              "outlinewidth": 0,
              "ticks": ""
             }
            },
            "type": "scatterternary"
           }
          ],
          "surface": [
           {
            "colorbar": {
             "outlinewidth": 0,
             "ticks": ""
            },
            "colorscale": [
             [
              0,
              "#0d0887"
             ],
             [
              0.1111111111111111,
              "#46039f"
             ],
             [
              0.2222222222222222,
              "#7201a8"
             ],
             [
              0.3333333333333333,
              "#9c179e"
             ],
             [
              0.4444444444444444,
              "#bd3786"
             ],
             [
              0.5555555555555556,
              "#d8576b"
             ],
             [
              0.6666666666666666,
              "#ed7953"
             ],
             [
              0.7777777777777778,
              "#fb9f3a"
             ],
             [
              0.8888888888888888,
              "#fdca26"
             ],
             [
              1,
              "#f0f921"
             ]
            ],
            "type": "surface"
           }
          ],
          "table": [
           {
            "cells": {
             "fill": {
              "color": "#EBF0F8"
             },
             "line": {
              "color": "white"
             }
            },
            "header": {
             "fill": {
              "color": "#C8D4E3"
             },
             "line": {
              "color": "white"
             }
            },
            "type": "table"
           }
          ]
         },
         "layout": {
          "annotationdefaults": {
           "arrowcolor": "#2a3f5f",
           "arrowhead": 0,
           "arrowwidth": 1
          },
          "autotypenumbers": "strict",
          "coloraxis": {
           "colorbar": {
            "outlinewidth": 0,
            "ticks": ""
           }
          },
          "colorscale": {
           "diverging": [
            [
             0,
             "#8e0152"
            ],
            [
             0.1,
             "#c51b7d"
            ],
            [
             0.2,
             "#de77ae"
            ],
            [
             0.3,
             "#f1b6da"
            ],
            [
             0.4,
             "#fde0ef"
            ],
            [
             0.5,
             "#f7f7f7"
            ],
            [
             0.6,
             "#e6f5d0"
            ],
            [
             0.7,
             "#b8e186"
            ],
            [
             0.8,
             "#7fbc41"
            ],
            [
             0.9,
             "#4d9221"
            ],
            [
             1,
             "#276419"
            ]
           ],
           "sequential": [
            [
             0,
             "#0d0887"
            ],
            [
             0.1111111111111111,
             "#46039f"
            ],
            [
             0.2222222222222222,
             "#7201a8"
            ],
            [
             0.3333333333333333,
             "#9c179e"
            ],
            [
             0.4444444444444444,
             "#bd3786"
            ],
            [
             0.5555555555555556,
             "#d8576b"
            ],
            [
             0.6666666666666666,
             "#ed7953"
            ],
            [
             0.7777777777777778,
             "#fb9f3a"
            ],
            [
             0.8888888888888888,
             "#fdca26"
            ],
            [
             1,
             "#f0f921"
            ]
           ],
           "sequentialminus": [
            [
             0,
             "#0d0887"
            ],
            [
             0.1111111111111111,
             "#46039f"
            ],
            [
             0.2222222222222222,
             "#7201a8"
            ],
            [
             0.3333333333333333,
             "#9c179e"
            ],
            [
             0.4444444444444444,
             "#bd3786"
            ],
            [
             0.5555555555555556,
             "#d8576b"
            ],
            [
             0.6666666666666666,
             "#ed7953"
            ],
            [
             0.7777777777777778,
             "#fb9f3a"
            ],
            [
             0.8888888888888888,
             "#fdca26"
            ],
            [
             1,
             "#f0f921"
            ]
           ]
          },
          "colorway": [
           "#636efa",
           "#EF553B",
           "#00cc96",
           "#ab63fa",
           "#FFA15A",
           "#19d3f3",
           "#FF6692",
           "#B6E880",
           "#FF97FF",
           "#FECB52"
          ],
          "font": {
           "color": "#2a3f5f"
          },
          "geo": {
           "bgcolor": "white",
           "lakecolor": "white",
           "landcolor": "#E5ECF6",
           "showlakes": true,
           "showland": true,
           "subunitcolor": "white"
          },
          "hoverlabel": {
           "align": "left"
          },
          "hovermode": "closest",
          "mapbox": {
           "style": "light"
          },
          "paper_bgcolor": "white",
          "plot_bgcolor": "#E5ECF6",
          "polar": {
           "angularaxis": {
            "gridcolor": "white",
            "linecolor": "white",
            "ticks": ""
           },
           "bgcolor": "#E5ECF6",
           "radialaxis": {
            "gridcolor": "white",
            "linecolor": "white",
            "ticks": ""
           }
          },
          "scene": {
           "xaxis": {
            "backgroundcolor": "#E5ECF6",
            "gridcolor": "white",
            "gridwidth": 2,
            "linecolor": "white",
            "showbackground": true,
            "ticks": "",
            "zerolinecolor": "white"
           },
           "yaxis": {
            "backgroundcolor": "#E5ECF6",
            "gridcolor": "white",
            "gridwidth": 2,
            "linecolor": "white",
            "showbackground": true,
            "ticks": "",
            "zerolinecolor": "white"
           },
           "zaxis": {
            "backgroundcolor": "#E5ECF6",
            "gridcolor": "white",
            "gridwidth": 2,
            "linecolor": "white",
            "showbackground": true,
            "ticks": "",
            "zerolinecolor": "white"
           }
          },
          "shapedefaults": {
           "line": {
            "color": "#2a3f5f"
           }
          },
          "ternary": {
           "aaxis": {
            "gridcolor": "white",
            "linecolor": "white",
            "ticks": ""
           },
           "baxis": {
            "gridcolor": "white",
            "linecolor": "white",
            "ticks": ""
           },
           "bgcolor": "#E5ECF6",
           "caxis": {
            "gridcolor": "white",
            "linecolor": "white",
            "ticks": ""
           }
          },
          "title": {
           "x": 0.05
          },
          "xaxis": {
           "automargin": true,
           "gridcolor": "white",
           "linecolor": "white",
           "ticks": "",
           "title": {
            "standoff": 15
           },
           "zerolinecolor": "white",
           "zerolinewidth": 2
          },
          "yaxis": {
           "automargin": true,
           "gridcolor": "white",
           "linecolor": "white",
           "ticks": "",
           "title": {
            "standoff": 15
           },
           "zerolinecolor": "white",
           "zerolinewidth": 2
          }
         }
        },
        "title": {
         "text": "승패와 주요 경기지표와의 상관관계 히트맵",
         "x": 0.5,
         "xanchor": "auto",
         "y": 0.9,
         "yanchor": "auto"
        },
        "width": 500,
        "xaxis": {
         "anchor": "y",
         "constrain": "domain",
         "domain": [
          0,
          1
         ],
         "scaleanchor": "y"
        },
        "yaxis": {
         "anchor": "x",
         "autorange": "reversed",
         "constrain": "domain",
         "domain": [
          0,
          1
         ]
        }
       }
      }
     },
     "metadata": {},
     "output_type": "display_data"
    }
   ],
   "source": [
    "fig = px.imshow( t_l_hm_m.corr().round(3) , text_auto=True, title=\"승패와 주요 경기지표와의 상관관계 히트맵\" ,width = 500 )\n",
    "\n",
    "fig.update_layout(\n",
    "            title_x = 0.5,\n",
    "            title_y = 0.9,\n",
    "            title_xanchor = \"auto\",\n",
    "            title_yanchor = \"auto\",\n",
    "            )\n",
    "\n",
    "fig.show()"
   ]
  },
  {
   "cell_type": "code",
   "execution_count": 54,
   "metadata": {},
   "outputs": [
    {
     "data": {
      "text/plain": [
       "'https://plotly.com/~damidaa/3/'"
      ]
     },
     "execution_count": 54,
     "metadata": {},
     "output_type": "execute_result"
    }
   ],
   "source": [
    "import chart_studio.tools\n",
    "\n",
    "username = 'damidaa'  # 자신의 username (plotly account를 만들어야 함)\n",
    "api_key = 'OuvIp3oI14tS4Sthfgrv'    # 자신의 api key (settings > regenerate key)\n",
    "  \n",
    "chart_studio.tools.set_credentials_file(username=username, api_key=api_key)\n",
    "\n",
    "py.plot(fig, filename = 'heatmap1', auto_open=False)  # fig: 작성한 차트를 저장한 변수\n",
    "  ## 위 코드를 실행하면 새로운 window로 해당 차트의 링크가 열리고, notebook에도 link를 아래에 return해줌"
   ]
  },
  {
   "cell_type": "markdown",
   "metadata": {},
   "source": [
    "---\n",
    "lck 강 중 약 팀 선택"
   ]
  },
  {
   "cell_type": "code",
   "execution_count": 483,
   "metadata": {},
   "outputs": [
    {
     "name": "stderr",
     "output_type": "stream",
     "text": [
      "C:\\Users\\Admin\\AppData\\Local\\Temp\\ipykernel_6328\\560810934.py:6: SettingWithCopyWarning:\n",
      "\n",
      "\n",
      "A value is trying to be set on a copy of a slice from a DataFrame.\n",
      "Try using .loc[row_indexer,col_indexer] = value instead\n",
      "\n",
      "See the caveats in the documentation: https://pandas.pydata.org/pandas-docs/stable/user_guide/indexing.html#returning-a-view-versus-a-copy\n",
      "\n"
     ]
    },
    {
     "data": {
      "text/html": [
       "<div>\n",
       "<style scoped>\n",
       "    .dataframe tbody tr th:only-of-type {\n",
       "        vertical-align: middle;\n",
       "    }\n",
       "\n",
       "    .dataframe tbody tr th {\n",
       "        vertical-align: top;\n",
       "    }\n",
       "\n",
       "    .dataframe thead th {\n",
       "        text-align: right;\n",
       "    }\n",
       "</style>\n",
       "<table border=\"1\" class=\"dataframe\">\n",
       "  <thead>\n",
       "    <tr style=\"text-align: right;\">\n",
       "      <th></th>\n",
       "      <th>gameid</th>\n",
       "      <th>participantid</th>\n",
       "      <th>side</th>\n",
       "      <th>league</th>\n",
       "      <th>split</th>\n",
       "      <th>teamname</th>\n",
       "      <th>date</th>\n",
       "      <th>gamelength</th>\n",
       "      <th>result</th>\n",
       "      <th>totalgold</th>\n",
       "      <th>golddiffat15</th>\n",
       "      <th>towers</th>\n",
       "    </tr>\n",
       "  </thead>\n",
       "  <tbody>\n",
       "    <tr>\n",
       "      <th>78262</th>\n",
       "      <td>ESPORTSTMNT02_2810546</td>\n",
       "      <td>100</td>\n",
       "      <td>Blue</td>\n",
       "      <td>LCK</td>\n",
       "      <td>Summer</td>\n",
       "      <td>Kwangdong Freecs</td>\n",
       "      <td>2022-06-15 06:51:56</td>\n",
       "      <td>2280</td>\n",
       "      <td>win</td>\n",
       "      <td>70874</td>\n",
       "      <td>-647.0</td>\n",
       "      <td>10.0</td>\n",
       "    </tr>\n",
       "    <tr>\n",
       "      <th>78263</th>\n",
       "      <td>ESPORTSTMNT02_2810546</td>\n",
       "      <td>200</td>\n",
       "      <td>Red</td>\n",
       "      <td>LCK</td>\n",
       "      <td>Summer</td>\n",
       "      <td>Hanwha Life Esports</td>\n",
       "      <td>2022-06-15 06:51:56</td>\n",
       "      <td>2280</td>\n",
       "      <td>lose</td>\n",
       "      <td>61008</td>\n",
       "      <td>647.0</td>\n",
       "      <td>3.0</td>\n",
       "    </tr>\n",
       "    <tr>\n",
       "      <th>78274</th>\n",
       "      <td>ESPORTSTMNT02_2820281</td>\n",
       "      <td>100</td>\n",
       "      <td>Blue</td>\n",
       "      <td>LCK</td>\n",
       "      <td>Summer</td>\n",
       "      <td>Hanwha Life Esports</td>\n",
       "      <td>2022-06-15 09:00:17</td>\n",
       "      <td>2326</td>\n",
       "      <td>win</td>\n",
       "      <td>75752</td>\n",
       "      <td>-1026.0</td>\n",
       "      <td>11.0</td>\n",
       "    </tr>\n",
       "    <tr>\n",
       "      <th>78275</th>\n",
       "      <td>ESPORTSTMNT02_2820281</td>\n",
       "      <td>200</td>\n",
       "      <td>Red</td>\n",
       "      <td>LCK</td>\n",
       "      <td>Summer</td>\n",
       "      <td>Kwangdong Freecs</td>\n",
       "      <td>2022-06-15 09:00:17</td>\n",
       "      <td>2326</td>\n",
       "      <td>lose</td>\n",
       "      <td>65096</td>\n",
       "      <td>1026.0</td>\n",
       "      <td>4.0</td>\n",
       "    </tr>\n",
       "    <tr>\n",
       "      <th>78298</th>\n",
       "      <td>ESPORTSTMNT02_2820291</td>\n",
       "      <td>100</td>\n",
       "      <td>Blue</td>\n",
       "      <td>LCK</td>\n",
       "      <td>Summer</td>\n",
       "      <td>Kwangdong Freecs</td>\n",
       "      <td>2022-06-15 10:02:25</td>\n",
       "      <td>1906</td>\n",
       "      <td>win</td>\n",
       "      <td>65360</td>\n",
       "      <td>1671.0</td>\n",
       "      <td>9.0</td>\n",
       "    </tr>\n",
       "  </tbody>\n",
       "</table>\n",
       "</div>"
      ],
      "text/plain": [
       "                      gameid  participantid  side league   split  \\\n",
       "78262  ESPORTSTMNT02_2810546            100  Blue    LCK  Summer   \n",
       "78263  ESPORTSTMNT02_2810546            200   Red    LCK  Summer   \n",
       "78274  ESPORTSTMNT02_2820281            100  Blue    LCK  Summer   \n",
       "78275  ESPORTSTMNT02_2820281            200   Red    LCK  Summer   \n",
       "78298  ESPORTSTMNT02_2820291            100  Blue    LCK  Summer   \n",
       "\n",
       "                  teamname                date  gamelength result  totalgold  \\\n",
       "78262     Kwangdong Freecs 2022-06-15 06:51:56        2280    win      70874   \n",
       "78263  Hanwha Life Esports 2022-06-15 06:51:56        2280   lose      61008   \n",
       "78274  Hanwha Life Esports 2022-06-15 09:00:17        2326    win      75752   \n",
       "78275     Kwangdong Freecs 2022-06-15 09:00:17        2326   lose      65096   \n",
       "78298     Kwangdong Freecs 2022-06-15 10:02:25        1906    win      65360   \n",
       "\n",
       "       golddiffat15  towers  \n",
       "78262        -647.0    10.0  \n",
       "78263         647.0     3.0  \n",
       "78274       -1026.0    11.0  \n",
       "78275        1026.0     4.0  \n",
       "78298        1671.0     9.0  "
      ]
     },
     "execution_count": 483,
     "metadata": {},
     "output_type": "execute_result"
    }
   ],
   "source": [
    "lck_summer_df = lck_summer[ ['gameid','participantid','side','league','split','teamname','date', \\\n",
    "    'gamelength','result','totalgold','golddiffat15','towers'] ]\n",
    "\n",
    "lck_summer_team_df = lck_summer_df[ (lck_summer_df['participantid'] == 100) | (lck_summer_df['participantid'] == 200 ) ]\n",
    "\n",
    "lck_summer_team_df['result'] = np.where( lck_summer_team_df['result'] == 0 , 'lose', 'win')\n",
    "\n",
    "lck_summer_team_df.head()"
   ]
  },
  {
   "cell_type": "code",
   "execution_count": 484,
   "metadata": {},
   "outputs": [
    {
     "data": {
      "text/plain": [
       "gameid           0\n",
       "participantid    0\n",
       "side             0\n",
       "league           0\n",
       "split            0\n",
       "teamname         0\n",
       "date             0\n",
       "gamelength       0\n",
       "result           0\n",
       "totalgold        0\n",
       "golddiffat15     0\n",
       "towers           0\n",
       "dtype: int64"
      ]
     },
     "execution_count": 484,
     "metadata": {},
     "output_type": "execute_result"
    }
   ],
   "source": [
    "lck_summer_team_df.isna().sum() #결측값확인"
   ]
  },
  {
   "cell_type": "code",
   "execution_count": 485,
   "metadata": {},
   "outputs": [
    {
     "data": {
      "application/vnd.plotly.v1+json": {
       "config": {
        "plotlyServerURL": "https://plotly.com"
       },
       "data": [
        {
         "alignmentgroup": "True",
         "hovertemplate": "y=%{y}<extra></extra>",
         "legendgroup": "",
         "marker": {
          "color": "#636efa"
         },
         "name": "",
         "notched": false,
         "offsetgroup": "",
         "orientation": "v",
         "showlegend": false,
         "type": "box",
         "x0": " ",
         "xaxis": "x",
         "y": [
          70874,
          61008,
          75752,
          65096,
          65360,
          49764,
          88598,
          92246,
          69362,
          76319,
          52677,
          65086,
          57672,
          69706,
          55266,
          60576,
          72094,
          77300,
          65890,
          58742,
          53642,
          60190,
          78805,
          60862,
          83244,
          89598,
          50822,
          34436,
          47948,
          61550,
          81854,
          67709,
          65278,
          73780,
          63105,
          56072,
          61246,
          52646,
          79472,
          85739,
          58805,
          44859,
          41880,
          52616,
          57568,
          50380,
          60842,
          56133,
          62080,
          50127,
          62481,
          68315,
          59523,
          66670,
          81310,
          86480,
          55090,
          64731,
          55585,
          44049,
          36776,
          46404,
          43488,
          56576,
          65617,
          56113,
          62614,
          55035,
          40089,
          53747,
          43470,
          53914,
          52969,
          62002,
          53438,
          61906,
          69498,
          66195,
          68262,
          71125,
          44257,
          53166,
          58363,
          47715,
          58959,
          61435,
          70642,
          60060,
          49535,
          62990,
          55168,
          47818,
          70880,
          76823,
          54441,
          61918,
          54952,
          43593,
          52626,
          57311,
          71047,
          73716,
          74075,
          60604,
          66419,
          59310,
          45336,
          54641,
          67305,
          56035,
          43958,
          53167,
          46134,
          58344,
          72990,
          62922,
          72885,
          66219,
          55967,
          47592,
          63046,
          57373,
          43331,
          53700,
          60313,
          43562,
          60463,
          49312,
          60805,
          47056,
          53444,
          41118,
          60862,
          50649,
          46862,
          61545,
          64413,
          56548,
          64486,
          57333,
          71513,
          72994,
          61237,
          47095,
          85446,
          81184,
          48913,
          63860,
          74747,
          66772,
          55524,
          68013,
          59974,
          55565,
          55128,
          39579,
          46643,
          55840,
          60423,
          47877,
          59098,
          49593,
          51553,
          58096,
          55920,
          45630,
          51976,
          41121,
          64749,
          55526,
          59177,
          68356,
          47971,
          62517,
          77431,
          79074,
          44738,
          58938,
          75472,
          84557,
          46142,
          61433,
          53810,
          45207,
          40300,
          55525,
          54466,
          62272,
          70719,
          63737,
          62667,
          50560,
          44672,
          26879,
          51187,
          59717,
          63729,
          73074,
          81355,
          73069,
          45237,
          57537,
          68488,
          50654,
          46057,
          50175,
          63663,
          59483,
          52351,
          60932,
          58386,
          43922,
          36822,
          48923,
          75819,
          67937,
          51417,
          65693,
          39588,
          52715,
          58231,
          69213,
          56129,
          42601,
          47838,
          57957,
          55969,
          41225,
          33446,
          53005,
          62508,
          49437,
          61277,
          51615,
          67115,
          77821,
          44704,
          55248,
          56779,
          68807,
          53592,
          61114,
          64750,
          53573,
          70460,
          64226,
          47677,
          58443,
          53706,
          58739,
          65785,
          71595,
          55517,
          67242,
          52908,
          42088,
          54372,
          40028,
          63120,
          55941,
          64564,
          55760,
          66593,
          55234,
          62943,
          71249,
          63110,
          48361,
          67792,
          55358,
          62623,
          52225,
          49580,
          59972,
          88132,
          80604,
          42810,
          59977,
          46276,
          55357,
          59845,
          47865,
          62585,
          55668,
          57321,
          52738,
          67734,
          68449,
          43126,
          35298,
          50489,
          59161,
          52016,
          58505,
          55270,
          51374,
          51282,
          40697,
          69884,
          54829,
          47980,
          66265,
          57888,
          50080,
          81377,
          79602,
          54054,
          64661,
          80122,
          82279,
          76193,
          77368,
          63349,
          72033,
          71671,
          58939,
          53357,
          41207,
          58257,
          65422,
          39500,
          50565,
          73158,
          68657,
          61147,
          45672,
          61697,
          74456,
          51499,
          58911,
          51645,
          61649,
          58140,
          45730,
          50745,
          62890,
          38388,
          54897,
          35970,
          53627,
          61333,
          54085,
          61951,
          48470,
          63444,
          53504,
          67435,
          49129,
          42747,
          58277,
          78979,
          64967,
          78856,
          73375,
          52578,
          44209,
          45428,
          56525,
          81808,
          75934,
          75650,
          61285,
          72162,
          69314,
          57907,
          47613,
          55772,
          69559,
          48084,
          59161,
          64280,
          45821,
          66489,
          71113,
          46625,
          58688,
          67059,
          56040,
          67363,
          60008,
          57244,
          69739,
          57187,
          66919,
          63749,
          60358,
          56154,
          65446,
          59785,
          49247,
          38538,
          47997,
          62060,
          74316,
          72158,
          77264,
          37626,
          53005,
          38210,
          48679,
          64730,
          49407,
          53574,
          61946,
          45985,
          56636,
          43507,
          56298,
          70348,
          65612,
          62073,
          46220,
          68618,
          60960,
          61083,
          48424,
          49172,
          64679,
          62031,
          51539,
          65716,
          56511,
          46452,
          65879,
          56892,
          48813,
          37185,
          50953
         ],
         "y0": " ",
         "yaxis": "y"
        }
       ],
       "layout": {
        "boxmode": "group",
        "height": 500,
        "legend": {
         "tracegroupgap": 0
        },
        "margin": {
         "t": 60
        },
        "template": {
         "data": {
          "bar": [
           {
            "error_x": {
             "color": "#2a3f5f"
            },
            "error_y": {
             "color": "#2a3f5f"
            },
            "marker": {
             "line": {
              "color": "#E5ECF6",
              "width": 0.5
             },
             "pattern": {
              "fillmode": "overlay",
              "size": 10,
              "solidity": 0.2
             }
            },
            "type": "bar"
           }
          ],
          "barpolar": [
           {
            "marker": {
             "line": {
              "color": "#E5ECF6",
              "width": 0.5
             },
             "pattern": {
              "fillmode": "overlay",
              "size": 10,
              "solidity": 0.2
             }
            },
            "type": "barpolar"
           }
          ],
          "carpet": [
           {
            "aaxis": {
             "endlinecolor": "#2a3f5f",
             "gridcolor": "white",
             "linecolor": "white",
             "minorgridcolor": "white",
             "startlinecolor": "#2a3f5f"
            },
            "baxis": {
             "endlinecolor": "#2a3f5f",
             "gridcolor": "white",
             "linecolor": "white",
             "minorgridcolor": "white",
             "startlinecolor": "#2a3f5f"
            },
            "type": "carpet"
           }
          ],
          "choropleth": [
           {
            "colorbar": {
             "outlinewidth": 0,
             "ticks": ""
            },
            "type": "choropleth"
           }
          ],
          "contour": [
           {
            "colorbar": {
             "outlinewidth": 0,
             "ticks": ""
            },
            "colorscale": [
             [
              0,
              "#0d0887"
             ],
             [
              0.1111111111111111,
              "#46039f"
             ],
             [
              0.2222222222222222,
              "#7201a8"
             ],
             [
              0.3333333333333333,
              "#9c179e"
             ],
             [
              0.4444444444444444,
              "#bd3786"
             ],
             [
              0.5555555555555556,
              "#d8576b"
             ],
             [
              0.6666666666666666,
              "#ed7953"
             ],
             [
              0.7777777777777778,
              "#fb9f3a"
             ],
             [
              0.8888888888888888,
              "#fdca26"
             ],
             [
              1,
              "#f0f921"
             ]
            ],
            "type": "contour"
           }
          ],
          "contourcarpet": [
           {
            "colorbar": {
             "outlinewidth": 0,
             "ticks": ""
            },
            "type": "contourcarpet"
           }
          ],
          "heatmap": [
           {
            "colorbar": {
             "outlinewidth": 0,
             "ticks": ""
            },
            "colorscale": [
             [
              0,
              "#0d0887"
             ],
             [
              0.1111111111111111,
              "#46039f"
             ],
             [
              0.2222222222222222,
              "#7201a8"
             ],
             [
              0.3333333333333333,
              "#9c179e"
             ],
             [
              0.4444444444444444,
              "#bd3786"
             ],
             [
              0.5555555555555556,
              "#d8576b"
             ],
             [
              0.6666666666666666,
              "#ed7953"
             ],
             [
              0.7777777777777778,
              "#fb9f3a"
             ],
             [
              0.8888888888888888,
              "#fdca26"
             ],
             [
              1,
              "#f0f921"
             ]
            ],
            "type": "heatmap"
           }
          ],
          "heatmapgl": [
           {
            "colorbar": {
             "outlinewidth": 0,
             "ticks": ""
            },
            "colorscale": [
             [
              0,
              "#0d0887"
             ],
             [
              0.1111111111111111,
              "#46039f"
             ],
             [
              0.2222222222222222,
              "#7201a8"
             ],
             [
              0.3333333333333333,
              "#9c179e"
             ],
             [
              0.4444444444444444,
              "#bd3786"
             ],
             [
              0.5555555555555556,
              "#d8576b"
             ],
             [
              0.6666666666666666,
              "#ed7953"
             ],
             [
              0.7777777777777778,
              "#fb9f3a"
             ],
             [
              0.8888888888888888,
              "#fdca26"
             ],
             [
              1,
              "#f0f921"
             ]
            ],
            "type": "heatmapgl"
           }
          ],
          "histogram": [
           {
            "marker": {
             "pattern": {
              "fillmode": "overlay",
              "size": 10,
              "solidity": 0.2
             }
            },
            "type": "histogram"
           }
          ],
          "histogram2d": [
           {
            "colorbar": {
             "outlinewidth": 0,
             "ticks": ""
            },
            "colorscale": [
             [
              0,
              "#0d0887"
             ],
             [
              0.1111111111111111,
              "#46039f"
             ],
             [
              0.2222222222222222,
              "#7201a8"
             ],
             [
              0.3333333333333333,
              "#9c179e"
             ],
             [
              0.4444444444444444,
              "#bd3786"
             ],
             [
              0.5555555555555556,
              "#d8576b"
             ],
             [
              0.6666666666666666,
              "#ed7953"
             ],
             [
              0.7777777777777778,
              "#fb9f3a"
             ],
             [
              0.8888888888888888,
              "#fdca26"
             ],
             [
              1,
              "#f0f921"
             ]
            ],
            "type": "histogram2d"
           }
          ],
          "histogram2dcontour": [
           {
            "colorbar": {
             "outlinewidth": 0,
             "ticks": ""
            },
            "colorscale": [
             [
              0,
              "#0d0887"
             ],
             [
              0.1111111111111111,
              "#46039f"
             ],
             [
              0.2222222222222222,
              "#7201a8"
             ],
             [
              0.3333333333333333,
              "#9c179e"
             ],
             [
              0.4444444444444444,
              "#bd3786"
             ],
             [
              0.5555555555555556,
              "#d8576b"
             ],
             [
              0.6666666666666666,
              "#ed7953"
             ],
             [
              0.7777777777777778,
              "#fb9f3a"
             ],
             [
              0.8888888888888888,
              "#fdca26"
             ],
             [
              1,
              "#f0f921"
             ]
            ],
            "type": "histogram2dcontour"
           }
          ],
          "mesh3d": [
           {
            "colorbar": {
             "outlinewidth": 0,
             "ticks": ""
            },
            "type": "mesh3d"
           }
          ],
          "parcoords": [
           {
            "line": {
             "colorbar": {
              "outlinewidth": 0,
              "ticks": ""
             }
            },
            "type": "parcoords"
           }
          ],
          "pie": [
           {
            "automargin": true,
            "type": "pie"
           }
          ],
          "scatter": [
           {
            "fillpattern": {
             "fillmode": "overlay",
             "size": 10,
             "solidity": 0.2
            },
            "type": "scatter"
           }
          ],
          "scatter3d": [
           {
            "line": {
             "colorbar": {
              "outlinewidth": 0,
              "ticks": ""
             }
            },
            "marker": {
             "colorbar": {
              "outlinewidth": 0,
              "ticks": ""
             }
            },
            "type": "scatter3d"
           }
          ],
          "scattercarpet": [
           {
            "marker": {
             "colorbar": {
              "outlinewidth": 0,
              "ticks": ""
             }
            },
            "type": "scattercarpet"
           }
          ],
          "scattergeo": [
           {
            "marker": {
             "colorbar": {
              "outlinewidth": 0,
              "ticks": ""
             }
            },
            "type": "scattergeo"
           }
          ],
          "scattergl": [
           {
            "marker": {
             "colorbar": {
              "outlinewidth": 0,
              "ticks": ""
             }
            },
            "type": "scattergl"
           }
          ],
          "scattermapbox": [
           {
            "marker": {
             "colorbar": {
              "outlinewidth": 0,
              "ticks": ""
             }
            },
            "type": "scattermapbox"
           }
          ],
          "scatterpolar": [
           {
            "marker": {
             "colorbar": {
              "outlinewidth": 0,
              "ticks": ""
             }
            },
            "type": "scatterpolar"
           }
          ],
          "scatterpolargl": [
           {
            "marker": {
             "colorbar": {
              "outlinewidth": 0,
              "ticks": ""
             }
            },
            "type": "scatterpolargl"
           }
          ],
          "scatterternary": [
           {
            "marker": {
             "colorbar": {
              "outlinewidth": 0,
              "ticks": ""
             }
            },
            "type": "scatterternary"
           }
          ],
          "surface": [
           {
            "colorbar": {
             "outlinewidth": 0,
             "ticks": ""
            },
            "colorscale": [
             [
              0,
              "#0d0887"
             ],
             [
              0.1111111111111111,
              "#46039f"
             ],
             [
              0.2222222222222222,
              "#7201a8"
             ],
             [
              0.3333333333333333,
              "#9c179e"
             ],
             [
              0.4444444444444444,
              "#bd3786"
             ],
             [
              0.5555555555555556,
              "#d8576b"
             ],
             [
              0.6666666666666666,
              "#ed7953"
             ],
             [
              0.7777777777777778,
              "#fb9f3a"
             ],
             [
              0.8888888888888888,
              "#fdca26"
             ],
             [
              1,
              "#f0f921"
             ]
            ],
            "type": "surface"
           }
          ],
          "table": [
           {
            "cells": {
             "fill": {
              "color": "#EBF0F8"
             },
             "line": {
              "color": "white"
             }
            },
            "header": {
             "fill": {
              "color": "#C8D4E3"
             },
             "line": {
              "color": "white"
             }
            },
            "type": "table"
           }
          ]
         },
         "layout": {
          "annotationdefaults": {
           "arrowcolor": "#2a3f5f",
           "arrowhead": 0,
           "arrowwidth": 1
          },
          "autotypenumbers": "strict",
          "coloraxis": {
           "colorbar": {
            "outlinewidth": 0,
            "ticks": ""
           }
          },
          "colorscale": {
           "diverging": [
            [
             0,
             "#8e0152"
            ],
            [
             0.1,
             "#c51b7d"
            ],
            [
             0.2,
             "#de77ae"
            ],
            [
             0.3,
             "#f1b6da"
            ],
            [
             0.4,
             "#fde0ef"
            ],
            [
             0.5,
             "#f7f7f7"
            ],
            [
             0.6,
             "#e6f5d0"
            ],
            [
             0.7,
             "#b8e186"
            ],
            [
             0.8,
             "#7fbc41"
            ],
            [
             0.9,
             "#4d9221"
            ],
            [
             1,
             "#276419"
            ]
           ],
           "sequential": [
            [
             0,
             "#0d0887"
            ],
            [
             0.1111111111111111,
             "#46039f"
            ],
            [
             0.2222222222222222,
             "#7201a8"
            ],
            [
             0.3333333333333333,
             "#9c179e"
            ],
            [
             0.4444444444444444,
             "#bd3786"
            ],
            [
             0.5555555555555556,
             "#d8576b"
            ],
            [
             0.6666666666666666,
             "#ed7953"
            ],
            [
             0.7777777777777778,
             "#fb9f3a"
            ],
            [
             0.8888888888888888,
             "#fdca26"
            ],
            [
             1,
             "#f0f921"
            ]
           ],
           "sequentialminus": [
            [
             0,
             "#0d0887"
            ],
            [
             0.1111111111111111,
             "#46039f"
            ],
            [
             0.2222222222222222,
             "#7201a8"
            ],
            [
             0.3333333333333333,
             "#9c179e"
            ],
            [
             0.4444444444444444,
             "#bd3786"
            ],
            [
             0.5555555555555556,
             "#d8576b"
            ],
            [
             0.6666666666666666,
             "#ed7953"
            ],
            [
             0.7777777777777778,
             "#fb9f3a"
            ],
            [
             0.8888888888888888,
             "#fdca26"
            ],
            [
             1,
             "#f0f921"
            ]
           ]
          },
          "colorway": [
           "#636efa",
           "#EF553B",
           "#00cc96",
           "#ab63fa",
           "#FFA15A",
           "#19d3f3",
           "#FF6692",
           "#B6E880",
           "#FF97FF",
           "#FECB52"
          ],
          "font": {
           "color": "#2a3f5f"
          },
          "geo": {
           "bgcolor": "white",
           "lakecolor": "white",
           "landcolor": "#E5ECF6",
           "showlakes": true,
           "showland": true,
           "subunitcolor": "white"
          },
          "hoverlabel": {
           "align": "left"
          },
          "hovermode": "closest",
          "mapbox": {
           "style": "light"
          },
          "paper_bgcolor": "white",
          "plot_bgcolor": "#E5ECF6",
          "polar": {
           "angularaxis": {
            "gridcolor": "white",
            "linecolor": "white",
            "ticks": ""
           },
           "bgcolor": "#E5ECF6",
           "radialaxis": {
            "gridcolor": "white",
            "linecolor": "white",
            "ticks": ""
           }
          },
          "scene": {
           "xaxis": {
            "backgroundcolor": "#E5ECF6",
            "gridcolor": "white",
            "gridwidth": 2,
            "linecolor": "white",
            "showbackground": true,
            "ticks": "",
            "zerolinecolor": "white"
           },
           "yaxis": {
            "backgroundcolor": "#E5ECF6",
            "gridcolor": "white",
            "gridwidth": 2,
            "linecolor": "white",
            "showbackground": true,
            "ticks": "",
            "zerolinecolor": "white"
           },
           "zaxis": {
            "backgroundcolor": "#E5ECF6",
            "gridcolor": "white",
            "gridwidth": 2,
            "linecolor": "white",
            "showbackground": true,
            "ticks": "",
            "zerolinecolor": "white"
           }
          },
          "shapedefaults": {
           "line": {
            "color": "#2a3f5f"
           }
          },
          "ternary": {
           "aaxis": {
            "gridcolor": "white",
            "linecolor": "white",
            "ticks": ""
           },
           "baxis": {
            "gridcolor": "white",
            "linecolor": "white",
            "ticks": ""
           },
           "bgcolor": "#E5ECF6",
           "caxis": {
            "gridcolor": "white",
            "linecolor": "white",
            "ticks": ""
           }
          },
          "title": {
           "x": 0.05
          },
          "xaxis": {
           "automargin": true,
           "gridcolor": "white",
           "linecolor": "white",
           "ticks": "",
           "title": {
            "standoff": 15
           },
           "zerolinecolor": "white",
           "zerolinewidth": 2
          },
          "yaxis": {
           "automargin": true,
           "gridcolor": "white",
           "linecolor": "white",
           "ticks": "",
           "title": {
            "standoff": 15
           },
           "zerolinecolor": "white",
           "zerolinewidth": 2
          }
         }
        },
        "width": 400,
        "xaxis": {
         "anchor": "y",
         "domain": [
          0,
          1
         ]
        },
        "yaxis": {
         "anchor": "x",
         "domain": [
          0,
          1
         ],
         "title": {
          "text": "y"
         }
        }
       }
      }
     },
     "metadata": {},
     "output_type": "display_data"
    },
    {
     "data": {
      "text/plain": [
       "'https://plotly.com/~damidaa/3/'"
      ]
     },
     "execution_count": 485,
     "metadata": {},
     "output_type": "execute_result"
    }
   ],
   "source": [
    "fig = px.box( y= lck_summer_team_df['totalgold'], width=400, height=500 )\n",
    "# 게임시간이 매우 긴 경기 totalgold 비약적으로 증가\n",
    "# 따라서 15diff 지표로 확인하는것이 적절\n",
    "fig.show()\n",
    "\n",
    "chart_studio.tools.set_credentials_file(username=username, api_key=api_key)\n",
    "\n",
    "py.plot(fig, filename = 'heatmap1', auto_open=False)  # fig: 작성한 차트를 저장한 변수\n",
    "  ## 위 코드를 실행하면 새로운 window로 해당 차트의 링크가 열리고, notebook에도 link를 아래에 return해줌"
   ]
  },
  {
   "cell_type": "code",
   "execution_count": 136,
   "metadata": {},
   "outputs": [],
   "source": [
    "Q1 = lck_summer_team_df['totalgold'].quantile(0.25)\n",
    "Q3 = lck_summer_team_df['totalgold'].quantile(0.75)\n",
    "\n",
    "IQR = Q3-Q1\n",
    "out_min = Q1 - (IQR*1.5)\n",
    "out_max = Q3 + (IQR*1.5)"
   ]
  },
  {
   "cell_type": "code",
   "execution_count": 160,
   "metadata": {},
   "outputs": [],
   "source": [
    "lck_summer_tg_df = lck_summer_team_df.copy()\n",
    "\n",
    "lck_summer_tg_df['teamname'] = np.where( (lck_summer_tg_df['totalgold'] >= out_max) , 'outlier',\\\n",
    "     np.where(lck_summer_tg_df['totalgold'] <= out_min , 'outlier', lck_summer_tg_df['teamname'] )\n",
    ")"
   ]
  },
  {
   "cell_type": "code",
   "execution_count": 161,
   "metadata": {},
   "outputs": [
    {
     "data": {
      "text/html": [
       "<div>\n",
       "<style scoped>\n",
       "    .dataframe tbody tr th:only-of-type {\n",
       "        vertical-align: middle;\n",
       "    }\n",
       "\n",
       "    .dataframe tbody tr th {\n",
       "        vertical-align: top;\n",
       "    }\n",
       "\n",
       "    .dataframe thead th {\n",
       "        text-align: right;\n",
       "    }\n",
       "</style>\n",
       "<table border=\"1\" class=\"dataframe\">\n",
       "  <thead>\n",
       "    <tr style=\"text-align: right;\">\n",
       "      <th></th>\n",
       "      <th>gameid</th>\n",
       "      <th>participantid</th>\n",
       "      <th>side</th>\n",
       "      <th>league</th>\n",
       "      <th>split</th>\n",
       "      <th>teamname</th>\n",
       "      <th>date</th>\n",
       "      <th>gamelength</th>\n",
       "      <th>result</th>\n",
       "      <th>totalgold</th>\n",
       "      <th>golddiffat15</th>\n",
       "      <th>towers</th>\n",
       "    </tr>\n",
       "  </thead>\n",
       "  <tbody>\n",
       "    <tr>\n",
       "      <th>78322</th>\n",
       "      <td>ESPORTSTMNT02_2820303</td>\n",
       "      <td>100</td>\n",
       "      <td>Blue</td>\n",
       "      <td>LCK</td>\n",
       "      <td>Summer</td>\n",
       "      <td>outlier</td>\n",
       "      <td>2022-06-15 10:59:29</td>\n",
       "      <td>2804</td>\n",
       "      <td>lose</td>\n",
       "      <td>88598</td>\n",
       "      <td>-1197.0</td>\n",
       "      <td>6.0</td>\n",
       "    </tr>\n",
       "    <tr>\n",
       "      <th>78323</th>\n",
       "      <td>ESPORTSTMNT02_2820303</td>\n",
       "      <td>200</td>\n",
       "      <td>Red</td>\n",
       "      <td>LCK</td>\n",
       "      <td>Summer</td>\n",
       "      <td>outlier</td>\n",
       "      <td>2022-06-15 10:59:29</td>\n",
       "      <td>2804</td>\n",
       "      <td>win</td>\n",
       "      <td>92246</td>\n",
       "      <td>1197.0</td>\n",
       "      <td>11.0</td>\n",
       "    </tr>\n",
       "    <tr>\n",
       "      <th>80051</th>\n",
       "      <td>ESPORTSTMNT05_2780070</td>\n",
       "      <td>200</td>\n",
       "      <td>Red</td>\n",
       "      <td>LCK</td>\n",
       "      <td>Summer</td>\n",
       "      <td>outlier</td>\n",
       "      <td>2022-06-17 11:56:24</td>\n",
       "      <td>2788</td>\n",
       "      <td>win</td>\n",
       "      <td>89598</td>\n",
       "      <td>570.0</td>\n",
       "      <td>9.0</td>\n",
       "    </tr>\n",
       "    <tr>\n",
       "      <th>99839</th>\n",
       "      <td>ESPORTSTMNT05_2951551</td>\n",
       "      <td>200</td>\n",
       "      <td>Red</td>\n",
       "      <td>LCK</td>\n",
       "      <td>Summer</td>\n",
       "      <td>outlier</td>\n",
       "      <td>2022-07-13 11:25:55</td>\n",
       "      <td>1175</td>\n",
       "      <td>lose</td>\n",
       "      <td>26879</td>\n",
       "      <td>-8521.0</td>\n",
       "      <td>0.0</td>\n",
       "    </tr>\n",
       "    <tr>\n",
       "      <th>108562</th>\n",
       "      <td>ESPORTSTMNT05_2990683</td>\n",
       "      <td>100</td>\n",
       "      <td>Blue</td>\n",
       "      <td>LCK</td>\n",
       "      <td>Summer</td>\n",
       "      <td>outlier</td>\n",
       "      <td>2022-07-24 09:09:13</td>\n",
       "      <td>3036</td>\n",
       "      <td>win</td>\n",
       "      <td>88132</td>\n",
       "      <td>-216.0</td>\n",
       "      <td>11.0</td>\n",
       "    </tr>\n",
       "  </tbody>\n",
       "</table>\n",
       "</div>"
      ],
      "text/plain": [
       "                       gameid  participantid  side league   split teamname  \\\n",
       "78322   ESPORTSTMNT02_2820303            100  Blue    LCK  Summer  outlier   \n",
       "78323   ESPORTSTMNT02_2820303            200   Red    LCK  Summer  outlier   \n",
       "80051   ESPORTSTMNT05_2780070            200   Red    LCK  Summer  outlier   \n",
       "99839   ESPORTSTMNT05_2951551            200   Red    LCK  Summer  outlier   \n",
       "108562  ESPORTSTMNT05_2990683            100  Blue    LCK  Summer  outlier   \n",
       "\n",
       "                      date  gamelength result  totalgold  golddiffat15  towers  \n",
       "78322  2022-06-15 10:59:29        2804   lose      88598       -1197.0     6.0  \n",
       "78323  2022-06-15 10:59:29        2804    win      92246        1197.0    11.0  \n",
       "80051  2022-06-17 11:56:24        2788    win      89598         570.0     9.0  \n",
       "99839  2022-07-13 11:25:55        1175   lose      26879       -8521.0     0.0  \n",
       "108562 2022-07-24 09:09:13        3036    win      88132        -216.0    11.0  "
      ]
     },
     "execution_count": 161,
     "metadata": {},
     "output_type": "execute_result"
    }
   ],
   "source": [
    "lck_summer_tg_df[ lck_summer_tg_df['teamname'] == 'outlier' ]"
   ]
  },
  {
   "cell_type": "code",
   "execution_count": null,
   "metadata": {},
   "outputs": [],
   "source": []
  },
  {
   "cell_type": "code",
   "execution_count": 162,
   "metadata": {},
   "outputs": [],
   "source": [
    "lck_summer_outtg_df = lck_summer_tg_df.groupby('teamname')['totalgold'].mean()\n",
    "\n",
    "lck_summer_outltime_df = lck_summer_tg_df.groupby('teamname')['gamelength'].mean()"
   ]
  },
  {
   "cell_type": "code",
   "execution_count": 165,
   "metadata": {},
   "outputs": [
    {
     "data": {
      "text/plain": [
       "teamname\n",
       "DRX                    2035.977273\n",
       "DWG KIA                1990.048780\n",
       "Fredit BRION           2012.261905\n",
       "Gen.G                  1860.050000\n",
       "Hanwha Life Esports    1929.391304\n",
       "KT Rolster             2040.533333\n",
       "Kwangdong Freecs       2083.261905\n",
       "Liiv SANDBOX           1858.615385\n",
       "Nongshim RedForce      1979.414634\n",
       "T1                     1911.348837\n",
       "outlier                2521.400000\n",
       "Name: gamelength, dtype: float64"
      ]
     },
     "execution_count": 165,
     "metadata": {},
     "output_type": "execute_result"
    }
   ],
   "source": [
    "lck_summer_outltime_df"
   ]
  },
  {
   "cell_type": "code",
   "execution_count": 212,
   "metadata": {},
   "outputs": [
    {
     "data": {
      "application/vnd.plotly.v1+json": {
       "config": {
        "plotlyServerURL": "https://plotly.com"
       },
       "data": [
        {
         "marker": {
          "color": [
           "#5F76C1",
           "#5F76C1",
           "#5F76C1",
           "#5F76C1",
           "#5F76C1",
           "#5F76C1",
           "#5F76C1",
           "#5F76C1",
           "#5F76C1",
           "#5F76C1",
           "#C15F5F"
          ]
         },
         "text": [
          60211.045454545456,
          59745,
          57722.30952380953,
          60752.425,
          53910.913043478264,
          61465.13333333333,
          58772.52380952381,
          56966.256410256414,
          56829.48780487805,
          59874.20930232558,
          77090.6
         ],
         "textposition": "auto",
         "texttemplate": "%{text:.0f} G",
         "type": "bar",
         "x": [
          "DRX",
          "DWG KIA",
          "Fredit BRION",
          "Gen.G",
          "Hanwha Life Esports",
          "KT Rolster",
          "Kwangdong Freecs",
          "Liiv SANDBOX",
          "Nongshim RedForce",
          "T1",
          "outlier"
         ],
         "y": [
          60211.045454545456,
          59745,
          57722.30952380953,
          60752.425,
          53910.913043478264,
          61465.13333333333,
          58772.52380952381,
          56966.256410256414,
          56829.48780487805,
          59874.20930232558,
          77090.6
         ]
        }
       ],
       "layout": {
        "height": 600,
        "template": {
         "data": {
          "bar": [
           {
            "error_x": {
             "color": "#2a3f5f"
            },
            "error_y": {
             "color": "#2a3f5f"
            },
            "marker": {
             "line": {
              "color": "#E5ECF6",
              "width": 0.5
             },
             "pattern": {
              "fillmode": "overlay",
              "size": 10,
              "solidity": 0.2
             }
            },
            "type": "bar"
           }
          ],
          "barpolar": [
           {
            "marker": {
             "line": {
              "color": "#E5ECF6",
              "width": 0.5
             },
             "pattern": {
              "fillmode": "overlay",
              "size": 10,
              "solidity": 0.2
             }
            },
            "type": "barpolar"
           }
          ],
          "carpet": [
           {
            "aaxis": {
             "endlinecolor": "#2a3f5f",
             "gridcolor": "white",
             "linecolor": "white",
             "minorgridcolor": "white",
             "startlinecolor": "#2a3f5f"
            },
            "baxis": {
             "endlinecolor": "#2a3f5f",
             "gridcolor": "white",
             "linecolor": "white",
             "minorgridcolor": "white",
             "startlinecolor": "#2a3f5f"
            },
            "type": "carpet"
           }
          ],
          "choropleth": [
           {
            "colorbar": {
             "outlinewidth": 0,
             "ticks": ""
            },
            "type": "choropleth"
           }
          ],
          "contour": [
           {
            "colorbar": {
             "outlinewidth": 0,
             "ticks": ""
            },
            "colorscale": [
             [
              0,
              "#0d0887"
             ],
             [
              0.1111111111111111,
              "#46039f"
             ],
             [
              0.2222222222222222,
              "#7201a8"
             ],
             [
              0.3333333333333333,
              "#9c179e"
             ],
             [
              0.4444444444444444,
              "#bd3786"
             ],
             [
              0.5555555555555556,
              "#d8576b"
             ],
             [
              0.6666666666666666,
              "#ed7953"
             ],
             [
              0.7777777777777778,
              "#fb9f3a"
             ],
             [
              0.8888888888888888,
              "#fdca26"
             ],
             [
              1,
              "#f0f921"
             ]
            ],
            "type": "contour"
           }
          ],
          "contourcarpet": [
           {
            "colorbar": {
             "outlinewidth": 0,
             "ticks": ""
            },
            "type": "contourcarpet"
           }
          ],
          "heatmap": [
           {
            "colorbar": {
             "outlinewidth": 0,
             "ticks": ""
            },
            "colorscale": [
             [
              0,
              "#0d0887"
             ],
             [
              0.1111111111111111,
              "#46039f"
             ],
             [
              0.2222222222222222,
              "#7201a8"
             ],
             [
              0.3333333333333333,
              "#9c179e"
             ],
             [
              0.4444444444444444,
              "#bd3786"
             ],
             [
              0.5555555555555556,
              "#d8576b"
             ],
             [
              0.6666666666666666,
              "#ed7953"
             ],
             [
              0.7777777777777778,
              "#fb9f3a"
             ],
             [
              0.8888888888888888,
              "#fdca26"
             ],
             [
              1,
              "#f0f921"
             ]
            ],
            "type": "heatmap"
           }
          ],
          "heatmapgl": [
           {
            "colorbar": {
             "outlinewidth": 0,
             "ticks": ""
            },
            "colorscale": [
             [
              0,
              "#0d0887"
             ],
             [
              0.1111111111111111,
              "#46039f"
             ],
             [
              0.2222222222222222,
              "#7201a8"
             ],
             [
              0.3333333333333333,
              "#9c179e"
             ],
             [
              0.4444444444444444,
              "#bd3786"
             ],
             [
              0.5555555555555556,
              "#d8576b"
             ],
             [
              0.6666666666666666,
              "#ed7953"
             ],
             [
              0.7777777777777778,
              "#fb9f3a"
             ],
             [
              0.8888888888888888,
              "#fdca26"
             ],
             [
              1,
              "#f0f921"
             ]
            ],
            "type": "heatmapgl"
           }
          ],
          "histogram": [
           {
            "marker": {
             "pattern": {
              "fillmode": "overlay",
              "size": 10,
              "solidity": 0.2
             }
            },
            "type": "histogram"
           }
          ],
          "histogram2d": [
           {
            "colorbar": {
             "outlinewidth": 0,
             "ticks": ""
            },
            "colorscale": [
             [
              0,
              "#0d0887"
             ],
             [
              0.1111111111111111,
              "#46039f"
             ],
             [
              0.2222222222222222,
              "#7201a8"
             ],
             [
              0.3333333333333333,
              "#9c179e"
             ],
             [
              0.4444444444444444,
              "#bd3786"
             ],
             [
              0.5555555555555556,
              "#d8576b"
             ],
             [
              0.6666666666666666,
              "#ed7953"
             ],
             [
              0.7777777777777778,
              "#fb9f3a"
             ],
             [
              0.8888888888888888,
              "#fdca26"
             ],
             [
              1,
              "#f0f921"
             ]
            ],
            "type": "histogram2d"
           }
          ],
          "histogram2dcontour": [
           {
            "colorbar": {
             "outlinewidth": 0,
             "ticks": ""
            },
            "colorscale": [
             [
              0,
              "#0d0887"
             ],
             [
              0.1111111111111111,
              "#46039f"
             ],
             [
              0.2222222222222222,
              "#7201a8"
             ],
             [
              0.3333333333333333,
              "#9c179e"
             ],
             [
              0.4444444444444444,
              "#bd3786"
             ],
             [
              0.5555555555555556,
              "#d8576b"
             ],
             [
              0.6666666666666666,
              "#ed7953"
             ],
             [
              0.7777777777777778,
              "#fb9f3a"
             ],
             [
              0.8888888888888888,
              "#fdca26"
             ],
             [
              1,
              "#f0f921"
             ]
            ],
            "type": "histogram2dcontour"
           }
          ],
          "mesh3d": [
           {
            "colorbar": {
             "outlinewidth": 0,
             "ticks": ""
            },
            "type": "mesh3d"
           }
          ],
          "parcoords": [
           {
            "line": {
             "colorbar": {
              "outlinewidth": 0,
              "ticks": ""
             }
            },
            "type": "parcoords"
           }
          ],
          "pie": [
           {
            "automargin": true,
            "type": "pie"
           }
          ],
          "scatter": [
           {
            "fillpattern": {
             "fillmode": "overlay",
             "size": 10,
             "solidity": 0.2
            },
            "type": "scatter"
           }
          ],
          "scatter3d": [
           {
            "line": {
             "colorbar": {
              "outlinewidth": 0,
              "ticks": ""
             }
            },
            "marker": {
             "colorbar": {
              "outlinewidth": 0,
              "ticks": ""
             }
            },
            "type": "scatter3d"
           }
          ],
          "scattercarpet": [
           {
            "marker": {
             "colorbar": {
              "outlinewidth": 0,
              "ticks": ""
             }
            },
            "type": "scattercarpet"
           }
          ],
          "scattergeo": [
           {
            "marker": {
             "colorbar": {
              "outlinewidth": 0,
              "ticks": ""
             }
            },
            "type": "scattergeo"
           }
          ],
          "scattergl": [
           {
            "marker": {
             "colorbar": {
              "outlinewidth": 0,
              "ticks": ""
             }
            },
            "type": "scattergl"
           }
          ],
          "scattermapbox": [
           {
            "marker": {
             "colorbar": {
              "outlinewidth": 0,
              "ticks": ""
             }
            },
            "type": "scattermapbox"
           }
          ],
          "scatterpolar": [
           {
            "marker": {
             "colorbar": {
              "outlinewidth": 0,
              "ticks": ""
             }
            },
            "type": "scatterpolar"
           }
          ],
          "scatterpolargl": [
           {
            "marker": {
             "colorbar": {
              "outlinewidth": 0,
              "ticks": ""
             }
            },
            "type": "scatterpolargl"
           }
          ],
          "scatterternary": [
           {
            "marker": {
             "colorbar": {
              "outlinewidth": 0,
              "ticks": ""
             }
            },
            "type": "scatterternary"
           }
          ],
          "surface": [
           {
            "colorbar": {
             "outlinewidth": 0,
             "ticks": ""
            },
            "colorscale": [
             [
              0,
              "#0d0887"
             ],
             [
              0.1111111111111111,
              "#46039f"
             ],
             [
              0.2222222222222222,
              "#7201a8"
             ],
             [
              0.3333333333333333,
              "#9c179e"
             ],
             [
              0.4444444444444444,
              "#bd3786"
             ],
             [
              0.5555555555555556,
              "#d8576b"
             ],
             [
              0.6666666666666666,
              "#ed7953"
             ],
             [
              0.7777777777777778,
              "#fb9f3a"
             ],
             [
              0.8888888888888888,
              "#fdca26"
             ],
             [
              1,
              "#f0f921"
             ]
            ],
            "type": "surface"
           }
          ],
          "table": [
           {
            "cells": {
             "fill": {
              "color": "#EBF0F8"
             },
             "line": {
              "color": "white"
             }
            },
            "header": {
             "fill": {
              "color": "#C8D4E3"
             },
             "line": {
              "color": "white"
             }
            },
            "type": "table"
           }
          ]
         },
         "layout": {
          "annotationdefaults": {
           "arrowcolor": "#2a3f5f",
           "arrowhead": 0,
           "arrowwidth": 1
          },
          "autotypenumbers": "strict",
          "coloraxis": {
           "colorbar": {
            "outlinewidth": 0,
            "ticks": ""
           }
          },
          "colorscale": {
           "diverging": [
            [
             0,
             "#8e0152"
            ],
            [
             0.1,
             "#c51b7d"
            ],
            [
             0.2,
             "#de77ae"
            ],
            [
             0.3,
             "#f1b6da"
            ],
            [
             0.4,
             "#fde0ef"
            ],
            [
             0.5,
             "#f7f7f7"
            ],
            [
             0.6,
             "#e6f5d0"
            ],
            [
             0.7,
             "#b8e186"
            ],
            [
             0.8,
             "#7fbc41"
            ],
            [
             0.9,
             "#4d9221"
            ],
            [
             1,
             "#276419"
            ]
           ],
           "sequential": [
            [
             0,
             "#0d0887"
            ],
            [
             0.1111111111111111,
             "#46039f"
            ],
            [
             0.2222222222222222,
             "#7201a8"
            ],
            [
             0.3333333333333333,
             "#9c179e"
            ],
            [
             0.4444444444444444,
             "#bd3786"
            ],
            [
             0.5555555555555556,
             "#d8576b"
            ],
            [
             0.6666666666666666,
             "#ed7953"
            ],
            [
             0.7777777777777778,
             "#fb9f3a"
            ],
            [
             0.8888888888888888,
             "#fdca26"
            ],
            [
             1,
             "#f0f921"
            ]
           ],
           "sequentialminus": [
            [
             0,
             "#0d0887"
            ],
            [
             0.1111111111111111,
             "#46039f"
            ],
            [
             0.2222222222222222,
             "#7201a8"
            ],
            [
             0.3333333333333333,
             "#9c179e"
            ],
            [
             0.4444444444444444,
             "#bd3786"
            ],
            [
             0.5555555555555556,
             "#d8576b"
            ],
            [
             0.6666666666666666,
             "#ed7953"
            ],
            [
             0.7777777777777778,
             "#fb9f3a"
            ],
            [
             0.8888888888888888,
             "#fdca26"
            ],
            [
             1,
             "#f0f921"
            ]
           ]
          },
          "colorway": [
           "#636efa",
           "#EF553B",
           "#00cc96",
           "#ab63fa",
           "#FFA15A",
           "#19d3f3",
           "#FF6692",
           "#B6E880",
           "#FF97FF",
           "#FECB52"
          ],
          "font": {
           "color": "#2a3f5f"
          },
          "geo": {
           "bgcolor": "white",
           "lakecolor": "white",
           "landcolor": "#E5ECF6",
           "showlakes": true,
           "showland": true,
           "subunitcolor": "white"
          },
          "hoverlabel": {
           "align": "left"
          },
          "hovermode": "closest",
          "mapbox": {
           "style": "light"
          },
          "paper_bgcolor": "white",
          "plot_bgcolor": "#E5ECF6",
          "polar": {
           "angularaxis": {
            "gridcolor": "white",
            "linecolor": "white",
            "ticks": ""
           },
           "bgcolor": "#E5ECF6",
           "radialaxis": {
            "gridcolor": "white",
            "linecolor": "white",
            "ticks": ""
           }
          },
          "scene": {
           "xaxis": {
            "backgroundcolor": "#E5ECF6",
            "gridcolor": "white",
            "gridwidth": 2,
            "linecolor": "white",
            "showbackground": true,
            "ticks": "",
            "zerolinecolor": "white"
           },
           "yaxis": {
            "backgroundcolor": "#E5ECF6",
            "gridcolor": "white",
            "gridwidth": 2,
            "linecolor": "white",
            "showbackground": true,
            "ticks": "",
            "zerolinecolor": "white"
           },
           "zaxis": {
            "backgroundcolor": "#E5ECF6",
            "gridcolor": "white",
            "gridwidth": 2,
            "linecolor": "white",
            "showbackground": true,
            "ticks": "",
            "zerolinecolor": "white"
           }
          },
          "shapedefaults": {
           "line": {
            "color": "#2a3f5f"
           }
          },
          "ternary": {
           "aaxis": {
            "gridcolor": "white",
            "linecolor": "white",
            "ticks": ""
           },
           "baxis": {
            "gridcolor": "white",
            "linecolor": "white",
            "ticks": ""
           },
           "bgcolor": "#E5ECF6",
           "caxis": {
            "gridcolor": "white",
            "linecolor": "white",
            "ticks": ""
           }
          },
          "title": {
           "x": 0.05
          },
          "xaxis": {
           "automargin": true,
           "gridcolor": "white",
           "linecolor": "white",
           "ticks": "",
           "title": {
            "standoff": 15
           },
           "zerolinecolor": "white",
           "zerolinewidth": 2
          },
          "yaxis": {
           "automargin": true,
           "gridcolor": "white",
           "linecolor": "white",
           "ticks": "",
           "title": {
            "standoff": 15
           },
           "zerolinecolor": "white",
           "zerolinewidth": 2
          }
         }
        },
        "title": {
         "text": "LCK Summer 이상치 팀의 경기 총 골드획득",
         "x": 0.5,
         "xanchor": "auto",
         "y": 0.9,
         "yanchor": "auto"
        },
        "width": 800,
        "yaxis": {
         "range": [
          51000,
          78000
         ]
        }
       }
      }
     },
     "metadata": {},
     "output_type": "display_data"
    }
   ],
   "source": [
    "fig = go.Figure()\n",
    "\n",
    "colors = ['#5F76C1',] * len(lck_summer_outtg_df.index)\n",
    "colors[-1] = '#C15F5F'\n",
    "\n",
    "\n",
    "fig.add_trace(go.Bar(\n",
    "    x=lck_summer_outtg_df.index , \n",
    "    y=lck_summer_outtg_df.values,  \n",
    "    marker_color=colors,\n",
    "    text=lck_summer_outtg_df.values, \n",
    "    textposition='auto', \n",
    "    texttemplate='%{text:.0f} G'\n",
    "            ) )\n",
    "\n",
    "fig.update_yaxes(range=[51000, 78000])\n",
    "\n",
    "fig.update_layout(\n",
    "            width = 800,\n",
    "            height = 600,\n",
    "            title_text=\"LCK Summer 이상치 팀의 경기 총 골드획득\",\n",
    "            title_x = 0.5,\n",
    "            title_y = 0.9,\n",
    "            title_xanchor = \"auto\",\n",
    "            title_yanchor = \"auto\",\n",
    "            )\n",
    "\n",
    "\n",
    "fig.show()"
   ]
  },
  {
   "cell_type": "code",
   "execution_count": 182,
   "metadata": {},
   "outputs": [
    {
     "data": {
      "text/plain": [
       "teamname\n",
       "DRX                    2035.977273\n",
       "DWG KIA                1990.048780\n",
       "Fredit BRION           2012.261905\n",
       "Gen.G                  1860.050000\n",
       "Hanwha Life Esports    1929.391304\n",
       "KT Rolster             2040.533333\n",
       "Kwangdong Freecs       2083.261905\n",
       "Liiv SANDBOX           1858.615385\n",
       "Nongshim RedForce      1979.414634\n",
       "T1                     1911.348837\n",
       "outlier                2521.400000\n",
       "Name: gamelength, dtype: float64"
      ]
     },
     "execution_count": 182,
     "metadata": {},
     "output_type": "execute_result"
    }
   ],
   "source": [
    "lck_summer_outltime_df"
   ]
  },
  {
   "cell_type": "code",
   "execution_count": 213,
   "metadata": {},
   "outputs": [
    {
     "data": {
      "application/vnd.plotly.v1+json": {
       "config": {
        "plotlyServerURL": "https://plotly.com"
       },
       "data": [
        {
         "marker": {
          "color": [
           "#5F76C1",
           "#5F76C1",
           "#5F76C1",
           "#5F76C1",
           "#5F76C1",
           "#5F76C1",
           "#5F76C1",
           "#5F76C1",
           "#5F76C1",
           "#5F76C1",
           "#C15F5F"
          ]
         },
         "text": [
          2035.9772727272727,
          1990.0487804878048,
          2012.2619047619048,
          1860.05,
          1929.391304347826,
          2040.5333333333333,
          2083.2619047619046,
          1858.6153846153845,
          1979.4146341463415,
          1911.3488372093022,
          2521.4
         ],
         "textposition": "auto",
         "texttemplate": "%{text:.0f}",
         "type": "bar",
         "x": [
          "DRX",
          "DWG KIA",
          "Fredit BRION",
          "Gen.G",
          "Hanwha Life Esports",
          "KT Rolster",
          "Kwangdong Freecs",
          "Liiv SANDBOX",
          "Nongshim RedForce",
          "T1",
          "outlier"
         ],
         "y": [
          2035.9772727272727,
          1990.0487804878048,
          2012.2619047619048,
          1860.05,
          1929.391304347826,
          2040.5333333333333,
          2083.2619047619046,
          1858.6153846153845,
          1979.4146341463415,
          1911.3488372093022,
          2521.4
         ]
        }
       ],
       "layout": {
        "height": 600,
        "template": {
         "data": {
          "bar": [
           {
            "error_x": {
             "color": "#2a3f5f"
            },
            "error_y": {
             "color": "#2a3f5f"
            },
            "marker": {
             "line": {
              "color": "#E5ECF6",
              "width": 0.5
             },
             "pattern": {
              "fillmode": "overlay",
              "size": 10,
              "solidity": 0.2
             }
            },
            "type": "bar"
           }
          ],
          "barpolar": [
           {
            "marker": {
             "line": {
              "color": "#E5ECF6",
              "width": 0.5
             },
             "pattern": {
              "fillmode": "overlay",
              "size": 10,
              "solidity": 0.2
             }
            },
            "type": "barpolar"
           }
          ],
          "carpet": [
           {
            "aaxis": {
             "endlinecolor": "#2a3f5f",
             "gridcolor": "white",
             "linecolor": "white",
             "minorgridcolor": "white",
             "startlinecolor": "#2a3f5f"
            },
            "baxis": {
             "endlinecolor": "#2a3f5f",
             "gridcolor": "white",
             "linecolor": "white",
             "minorgridcolor": "white",
             "startlinecolor": "#2a3f5f"
            },
            "type": "carpet"
           }
          ],
          "choropleth": [
           {
            "colorbar": {
             "outlinewidth": 0,
             "ticks": ""
            },
            "type": "choropleth"
           }
          ],
          "contour": [
           {
            "colorbar": {
             "outlinewidth": 0,
             "ticks": ""
            },
            "colorscale": [
             [
              0,
              "#0d0887"
             ],
             [
              0.1111111111111111,
              "#46039f"
             ],
             [
              0.2222222222222222,
              "#7201a8"
             ],
             [
              0.3333333333333333,
              "#9c179e"
             ],
             [
              0.4444444444444444,
              "#bd3786"
             ],
             [
              0.5555555555555556,
              "#d8576b"
             ],
             [
              0.6666666666666666,
              "#ed7953"
             ],
             [
              0.7777777777777778,
              "#fb9f3a"
             ],
             [
              0.8888888888888888,
              "#fdca26"
             ],
             [
              1,
              "#f0f921"
             ]
            ],
            "type": "contour"
           }
          ],
          "contourcarpet": [
           {
            "colorbar": {
             "outlinewidth": 0,
             "ticks": ""
            },
            "type": "contourcarpet"
           }
          ],
          "heatmap": [
           {
            "colorbar": {
             "outlinewidth": 0,
             "ticks": ""
            },
            "colorscale": [
             [
              0,
              "#0d0887"
             ],
             [
              0.1111111111111111,
              "#46039f"
             ],
             [
              0.2222222222222222,
              "#7201a8"
             ],
             [
              0.3333333333333333,
              "#9c179e"
             ],
             [
              0.4444444444444444,
              "#bd3786"
             ],
             [
              0.5555555555555556,
              "#d8576b"
             ],
             [
              0.6666666666666666,
              "#ed7953"
             ],
             [
              0.7777777777777778,
              "#fb9f3a"
             ],
             [
              0.8888888888888888,
              "#fdca26"
             ],
             [
              1,
              "#f0f921"
             ]
            ],
            "type": "heatmap"
           }
          ],
          "heatmapgl": [
           {
            "colorbar": {
             "outlinewidth": 0,
             "ticks": ""
            },
            "colorscale": [
             [
              0,
              "#0d0887"
             ],
             [
              0.1111111111111111,
              "#46039f"
             ],
             [
              0.2222222222222222,
              "#7201a8"
             ],
             [
              0.3333333333333333,
              "#9c179e"
             ],
             [
              0.4444444444444444,
              "#bd3786"
             ],
             [
              0.5555555555555556,
              "#d8576b"
             ],
             [
              0.6666666666666666,
              "#ed7953"
             ],
             [
              0.7777777777777778,
              "#fb9f3a"
             ],
             [
              0.8888888888888888,
              "#fdca26"
             ],
             [
              1,
              "#f0f921"
             ]
            ],
            "type": "heatmapgl"
           }
          ],
          "histogram": [
           {
            "marker": {
             "pattern": {
              "fillmode": "overlay",
              "size": 10,
              "solidity": 0.2
             }
            },
            "type": "histogram"
           }
          ],
          "histogram2d": [
           {
            "colorbar": {
             "outlinewidth": 0,
             "ticks": ""
            },
            "colorscale": [
             [
              0,
              "#0d0887"
             ],
             [
              0.1111111111111111,
              "#46039f"
             ],
             [
              0.2222222222222222,
              "#7201a8"
             ],
             [
              0.3333333333333333,
              "#9c179e"
             ],
             [
              0.4444444444444444,
              "#bd3786"
             ],
             [
              0.5555555555555556,
              "#d8576b"
             ],
             [
              0.6666666666666666,
              "#ed7953"
             ],
             [
              0.7777777777777778,
              "#fb9f3a"
             ],
             [
              0.8888888888888888,
              "#fdca26"
             ],
             [
              1,
              "#f0f921"
             ]
            ],
            "type": "histogram2d"
           }
          ],
          "histogram2dcontour": [
           {
            "colorbar": {
             "outlinewidth": 0,
             "ticks": ""
            },
            "colorscale": [
             [
              0,
              "#0d0887"
             ],
             [
              0.1111111111111111,
              "#46039f"
             ],
             [
              0.2222222222222222,
              "#7201a8"
             ],
             [
              0.3333333333333333,
              "#9c179e"
             ],
             [
              0.4444444444444444,
              "#bd3786"
             ],
             [
              0.5555555555555556,
              "#d8576b"
             ],
             [
              0.6666666666666666,
              "#ed7953"
             ],
             [
              0.7777777777777778,
              "#fb9f3a"
             ],
             [
              0.8888888888888888,
              "#fdca26"
             ],
             [
              1,
              "#f0f921"
             ]
            ],
            "type": "histogram2dcontour"
           }
          ],
          "mesh3d": [
           {
            "colorbar": {
             "outlinewidth": 0,
             "ticks": ""
            },
            "type": "mesh3d"
           }
          ],
          "parcoords": [
           {
            "line": {
             "colorbar": {
              "outlinewidth": 0,
              "ticks": ""
             }
            },
            "type": "parcoords"
           }
          ],
          "pie": [
           {
            "automargin": true,
            "type": "pie"
           }
          ],
          "scatter": [
           {
            "fillpattern": {
             "fillmode": "overlay",
             "size": 10,
             "solidity": 0.2
            },
            "type": "scatter"
           }
          ],
          "scatter3d": [
           {
            "line": {
             "colorbar": {
              "outlinewidth": 0,
              "ticks": ""
             }
            },
            "marker": {
             "colorbar": {
              "outlinewidth": 0,
              "ticks": ""
             }
            },
            "type": "scatter3d"
           }
          ],
          "scattercarpet": [
           {
            "marker": {
             "colorbar": {
              "outlinewidth": 0,
              "ticks": ""
             }
            },
            "type": "scattercarpet"
           }
          ],
          "scattergeo": [
           {
            "marker": {
             "colorbar": {
              "outlinewidth": 0,
              "ticks": ""
             }
            },
            "type": "scattergeo"
           }
          ],
          "scattergl": [
           {
            "marker": {
             "colorbar": {
              "outlinewidth": 0,
              "ticks": ""
             }
            },
            "type": "scattergl"
           }
          ],
          "scattermapbox": [
           {
            "marker": {
             "colorbar": {
              "outlinewidth": 0,
              "ticks": ""
             }
            },
            "type": "scattermapbox"
           }
          ],
          "scatterpolar": [
           {
            "marker": {
             "colorbar": {
              "outlinewidth": 0,
              "ticks": ""
             }
            },
            "type": "scatterpolar"
           }
          ],
          "scatterpolargl": [
           {
            "marker": {
             "colorbar": {
              "outlinewidth": 0,
              "ticks": ""
             }
            },
            "type": "scatterpolargl"
           }
          ],
          "scatterternary": [
           {
            "marker": {
             "colorbar": {
              "outlinewidth": 0,
              "ticks": ""
             }
            },
            "type": "scatterternary"
           }
          ],
          "surface": [
           {
            "colorbar": {
             "outlinewidth": 0,
             "ticks": ""
            },
            "colorscale": [
             [
              0,
              "#0d0887"
             ],
             [
              0.1111111111111111,
              "#46039f"
             ],
             [
              0.2222222222222222,
              "#7201a8"
             ],
             [
              0.3333333333333333,
              "#9c179e"
             ],
             [
              0.4444444444444444,
              "#bd3786"
             ],
             [
              0.5555555555555556,
              "#d8576b"
             ],
             [
              0.6666666666666666,
              "#ed7953"
             ],
             [
              0.7777777777777778,
              "#fb9f3a"
             ],
             [
              0.8888888888888888,
              "#fdca26"
             ],
             [
              1,
              "#f0f921"
             ]
            ],
            "type": "surface"
           }
          ],
          "table": [
           {
            "cells": {
             "fill": {
              "color": "#EBF0F8"
             },
             "line": {
              "color": "white"
             }
            },
            "header": {
             "fill": {
              "color": "#C8D4E3"
             },
             "line": {
              "color": "white"
             }
            },
            "type": "table"
           }
          ]
         },
         "layout": {
          "annotationdefaults": {
           "arrowcolor": "#2a3f5f",
           "arrowhead": 0,
           "arrowwidth": 1
          },
          "autotypenumbers": "strict",
          "coloraxis": {
           "colorbar": {
            "outlinewidth": 0,
            "ticks": ""
           }
          },
          "colorscale": {
           "diverging": [
            [
             0,
             "#8e0152"
            ],
            [
             0.1,
             "#c51b7d"
            ],
            [
             0.2,
             "#de77ae"
            ],
            [
             0.3,
             "#f1b6da"
            ],
            [
             0.4,
             "#fde0ef"
            ],
            [
             0.5,
             "#f7f7f7"
            ],
            [
             0.6,
             "#e6f5d0"
            ],
            [
             0.7,
             "#b8e186"
            ],
            [
             0.8,
             "#7fbc41"
            ],
            [
             0.9,
             "#4d9221"
            ],
            [
             1,
             "#276419"
            ]
           ],
           "sequential": [
            [
             0,
             "#0d0887"
            ],
            [
             0.1111111111111111,
             "#46039f"
            ],
            [
             0.2222222222222222,
             "#7201a8"
            ],
            [
             0.3333333333333333,
             "#9c179e"
            ],
            [
             0.4444444444444444,
             "#bd3786"
            ],
            [
             0.5555555555555556,
             "#d8576b"
            ],
            [
             0.6666666666666666,
             "#ed7953"
            ],
            [
             0.7777777777777778,
             "#fb9f3a"
            ],
            [
             0.8888888888888888,
             "#fdca26"
            ],
            [
             1,
             "#f0f921"
            ]
           ],
           "sequentialminus": [
            [
             0,
             "#0d0887"
            ],
            [
             0.1111111111111111,
             "#46039f"
            ],
            [
             0.2222222222222222,
             "#7201a8"
            ],
            [
             0.3333333333333333,
             "#9c179e"
            ],
            [
             0.4444444444444444,
             "#bd3786"
            ],
            [
             0.5555555555555556,
             "#d8576b"
            ],
            [
             0.6666666666666666,
             "#ed7953"
            ],
            [
             0.7777777777777778,
             "#fb9f3a"
            ],
            [
             0.8888888888888888,
             "#fdca26"
            ],
            [
             1,
             "#f0f921"
            ]
           ]
          },
          "colorway": [
           "#636efa",
           "#EF553B",
           "#00cc96",
           "#ab63fa",
           "#FFA15A",
           "#19d3f3",
           "#FF6692",
           "#B6E880",
           "#FF97FF",
           "#FECB52"
          ],
          "font": {
           "color": "#2a3f5f"
          },
          "geo": {
           "bgcolor": "white",
           "lakecolor": "white",
           "landcolor": "#E5ECF6",
           "showlakes": true,
           "showland": true,
           "subunitcolor": "white"
          },
          "hoverlabel": {
           "align": "left"
          },
          "hovermode": "closest",
          "mapbox": {
           "style": "light"
          },
          "paper_bgcolor": "white",
          "plot_bgcolor": "#E5ECF6",
          "polar": {
           "angularaxis": {
            "gridcolor": "white",
            "linecolor": "white",
            "ticks": ""
           },
           "bgcolor": "#E5ECF6",
           "radialaxis": {
            "gridcolor": "white",
            "linecolor": "white",
            "ticks": ""
           }
          },
          "scene": {
           "xaxis": {
            "backgroundcolor": "#E5ECF6",
            "gridcolor": "white",
            "gridwidth": 2,
            "linecolor": "white",
            "showbackground": true,
            "ticks": "",
            "zerolinecolor": "white"
           },
           "yaxis": {
            "backgroundcolor": "#E5ECF6",
            "gridcolor": "white",
            "gridwidth": 2,
            "linecolor": "white",
            "showbackground": true,
            "ticks": "",
            "zerolinecolor": "white"
           },
           "zaxis": {
            "backgroundcolor": "#E5ECF6",
            "gridcolor": "white",
            "gridwidth": 2,
            "linecolor": "white",
            "showbackground": true,
            "ticks": "",
            "zerolinecolor": "white"
           }
          },
          "shapedefaults": {
           "line": {
            "color": "#2a3f5f"
           }
          },
          "ternary": {
           "aaxis": {
            "gridcolor": "white",
            "linecolor": "white",
            "ticks": ""
           },
           "baxis": {
            "gridcolor": "white",
            "linecolor": "white",
            "ticks": ""
           },
           "bgcolor": "#E5ECF6",
           "caxis": {
            "gridcolor": "white",
            "linecolor": "white",
            "ticks": ""
           }
          },
          "title": {
           "x": 0.05
          },
          "xaxis": {
           "automargin": true,
           "gridcolor": "white",
           "linecolor": "white",
           "ticks": "",
           "title": {
            "standoff": 15
           },
           "zerolinecolor": "white",
           "zerolinewidth": 2
          },
          "yaxis": {
           "automargin": true,
           "gridcolor": "white",
           "linecolor": "white",
           "ticks": "",
           "title": {
            "standoff": 15
           },
           "zerolinecolor": "white",
           "zerolinewidth": 2
          }
         }
        },
        "title": {
         "text": "LCK Summer 이상치 팀의 경기시간",
         "x": 0.5,
         "xanchor": "auto",
         "y": 0.9,
         "yanchor": "auto"
        },
        "width": 800,
        "yaxis": {
         "range": [
          1800,
          2550
         ]
        }
       }
      }
     },
     "metadata": {},
     "output_type": "display_data"
    }
   ],
   "source": [
    "fig = go.Figure()\n",
    "colors = ['#5F76C1',] * len(lck_summer_outltime_df.index)\n",
    "colors[-1] = '#C15F5F'\n",
    "\n",
    "\n",
    "fig.add_trace(go.Bar(\n",
    "    x=lck_summer_outltime_df.index , \n",
    "    y=lck_summer_outltime_df.values,  \n",
    "    marker_color=colors,\n",
    "    text=lck_summer_outltime_df.values, \n",
    "    textposition='auto', \n",
    "    texttemplate='%{text:.0f}'\n",
    "            ) )\n",
    "fig.update_yaxes(range=[1800,2550]) #outlier 강조하기\n",
    "fig.update_layout(\n",
    "            width = 800,\n",
    "            height = 600,\n",
    "            title_text=\"LCK Summer 이상치 팀의 경기시간\",\n",
    "            title_x = 0.5,\n",
    "            title_y = 0.9,\n",
    "            title_xanchor = \"auto\",\n",
    "            title_yanchor = \"auto\",\n",
    "            )\n",
    "\n",
    "fig.show()"
   ]
  },
  {
   "cell_type": "code",
   "execution_count": 197,
   "metadata": {},
   "outputs": [
    {
     "data": {
      "text/plain": [
       "teamname\n",
       "DRX                    -276.133333\n",
       "DWG KIA                 655.024390\n",
       "Fredit BRION           -543.904762\n",
       "Gen.G                  2008.775000\n",
       "Hanwha Life Esports   -1190.782609\n",
       "KT Rolster              249.155556\n",
       "Kwangdong Freecs       -704.119048\n",
       "Liiv SANDBOX           -718.390244\n",
       "Nongshim RedForce      -299.190476\n",
       "T1                      982.272727\n",
       "Name: golddiffat15, dtype: float64"
      ]
     },
     "execution_count": 197,
     "metadata": {},
     "output_type": "execute_result"
    }
   ],
   "source": [
    "# 15분 gold차이 평균 지표\n",
    "lck_summer_team_golddiff_mean = lck_summer_team_df.groupby('teamname')['golddiffat15'].mean()\n",
    "lck_summer_team_golddiff_mean"
   ]
  },
  {
   "cell_type": "code",
   "execution_count": 244,
   "metadata": {},
   "outputs": [
    {
     "data": {
      "application/vnd.plotly.v1+json": {
       "config": {
        "plotlyServerURL": "https://plotly.com"
       },
       "data": [
        {
         "marker": {
          "color": [
           "#5F76C1",
           "#C15F5F",
           "#5F76C1",
           "#C15F5F",
           "#5F76C1",
           "#C15F5F",
           "#5F76C1",
           "#5F76C1",
           "#5F76C1",
           "#C15F5F"
          ]
         },
         "text": [
          -276.1333333333333,
          655.0243902439024,
          -543.9047619047619,
          2008.775,
          -1190.7826086956522,
          249.15555555555557,
          -704.1190476190476,
          -718.390243902439,
          -299.1904761904762,
          982.2727272727273
         ],
         "textposition": "auto",
         "texttemplate": "%{text:.0f}",
         "type": "bar",
         "x": [
          "DRX",
          "DWG KIA",
          "Fredit BRION",
          "Gen.G",
          "Hanwha Life Esports",
          "KT Rolster",
          "Kwangdong Freecs",
          "Liiv SANDBOX",
          "Nongshim RedForce",
          "T1"
         ],
         "y": [
          -276.1333333333333,
          655.0243902439024,
          -543.9047619047619,
          2008.775,
          -1190.7826086956522,
          249.15555555555557,
          -704.1190476190476,
          -718.390243902439,
          -299.1904761904762,
          982.2727272727273
         ]
        }
       ],
       "layout": {
        "annotations": [
         {
          "align": "center",
          "arrowcolor": "#77BDD9",
          "arrowhead": 2,
          "arrowsize": 1,
          "arrowwidth": 2,
          "ax": 40,
          "ay": -30,
          "bgcolor": "#F22E62",
          "bordercolor": "#77BDD9",
          "borderpad": 4,
          "borderwidth": 2,
          "font": {
           "color": "#ffffff",
           "size": 10
          },
          "opacity": 0.8,
          "showarrow": true,
          "text": "<b>2022 summer 우승팀 GenG</b>",
          "x": 3,
          "y": 2000
         },
         {
          "align": "center",
          "arrowcolor": "#77BDD9",
          "arrowhead": 2,
          "arrowsize": 1,
          "arrowwidth": 2,
          "ax": 10,
          "ay": -30,
          "bgcolor": "#05E9DA",
          "bordercolor": "#77BDD9",
          "borderpad": 4,
          "borderwidth": 2,
          "font": {
           "color": "#ffffff",
           "size": 10
          },
          "opacity": 0.8,
          "showarrow": true,
          "text": "<b> DRX</b>",
          "x": 0,
          "y": 0
         }
        ],
        "height": 600,
        "template": {
         "data": {
          "bar": [
           {
            "error_x": {
             "color": "#2a3f5f"
            },
            "error_y": {
             "color": "#2a3f5f"
            },
            "marker": {
             "line": {
              "color": "#E5ECF6",
              "width": 0.5
             },
             "pattern": {
              "fillmode": "overlay",
              "size": 10,
              "solidity": 0.2
             }
            },
            "type": "bar"
           }
          ],
          "barpolar": [
           {
            "marker": {
             "line": {
              "color": "#E5ECF6",
              "width": 0.5
             },
             "pattern": {
              "fillmode": "overlay",
              "size": 10,
              "solidity": 0.2
             }
            },
            "type": "barpolar"
           }
          ],
          "carpet": [
           {
            "aaxis": {
             "endlinecolor": "#2a3f5f",
             "gridcolor": "white",
             "linecolor": "white",
             "minorgridcolor": "white",
             "startlinecolor": "#2a3f5f"
            },
            "baxis": {
             "endlinecolor": "#2a3f5f",
             "gridcolor": "white",
             "linecolor": "white",
             "minorgridcolor": "white",
             "startlinecolor": "#2a3f5f"
            },
            "type": "carpet"
           }
          ],
          "choropleth": [
           {
            "colorbar": {
             "outlinewidth": 0,
             "ticks": ""
            },
            "type": "choropleth"
           }
          ],
          "contour": [
           {
            "colorbar": {
             "outlinewidth": 0,
             "ticks": ""
            },
            "colorscale": [
             [
              0,
              "#0d0887"
             ],
             [
              0.1111111111111111,
              "#46039f"
             ],
             [
              0.2222222222222222,
              "#7201a8"
             ],
             [
              0.3333333333333333,
              "#9c179e"
             ],
             [
              0.4444444444444444,
              "#bd3786"
             ],
             [
              0.5555555555555556,
              "#d8576b"
             ],
             [
              0.6666666666666666,
              "#ed7953"
             ],
             [
              0.7777777777777778,
              "#fb9f3a"
             ],
             [
              0.8888888888888888,
              "#fdca26"
             ],
             [
              1,
              "#f0f921"
             ]
            ],
            "type": "contour"
           }
          ],
          "contourcarpet": [
           {
            "colorbar": {
             "outlinewidth": 0,
             "ticks": ""
            },
            "type": "contourcarpet"
           }
          ],
          "heatmap": [
           {
            "colorbar": {
             "outlinewidth": 0,
             "ticks": ""
            },
            "colorscale": [
             [
              0,
              "#0d0887"
             ],
             [
              0.1111111111111111,
              "#46039f"
             ],
             [
              0.2222222222222222,
              "#7201a8"
             ],
             [
              0.3333333333333333,
              "#9c179e"
             ],
             [
              0.4444444444444444,
              "#bd3786"
             ],
             [
              0.5555555555555556,
              "#d8576b"
             ],
             [
              0.6666666666666666,
              "#ed7953"
             ],
             [
              0.7777777777777778,
              "#fb9f3a"
             ],
             [
              0.8888888888888888,
              "#fdca26"
             ],
             [
              1,
              "#f0f921"
             ]
            ],
            "type": "heatmap"
           }
          ],
          "heatmapgl": [
           {
            "colorbar": {
             "outlinewidth": 0,
             "ticks": ""
            },
            "colorscale": [
             [
              0,
              "#0d0887"
             ],
             [
              0.1111111111111111,
              "#46039f"
             ],
             [
              0.2222222222222222,
              "#7201a8"
             ],
             [
              0.3333333333333333,
              "#9c179e"
             ],
             [
              0.4444444444444444,
              "#bd3786"
             ],
             [
              0.5555555555555556,
              "#d8576b"
             ],
             [
              0.6666666666666666,
              "#ed7953"
             ],
             [
              0.7777777777777778,
              "#fb9f3a"
             ],
             [
              0.8888888888888888,
              "#fdca26"
             ],
             [
              1,
              "#f0f921"
             ]
            ],
            "type": "heatmapgl"
           }
          ],
          "histogram": [
           {
            "marker": {
             "pattern": {
              "fillmode": "overlay",
              "size": 10,
              "solidity": 0.2
             }
            },
            "type": "histogram"
           }
          ],
          "histogram2d": [
           {
            "colorbar": {
             "outlinewidth": 0,
             "ticks": ""
            },
            "colorscale": [
             [
              0,
              "#0d0887"
             ],
             [
              0.1111111111111111,
              "#46039f"
             ],
             [
              0.2222222222222222,
              "#7201a8"
             ],
             [
              0.3333333333333333,
              "#9c179e"
             ],
             [
              0.4444444444444444,
              "#bd3786"
             ],
             [
              0.5555555555555556,
              "#d8576b"
             ],
             [
              0.6666666666666666,
              "#ed7953"
             ],
             [
              0.7777777777777778,
              "#fb9f3a"
             ],
             [
              0.8888888888888888,
              "#fdca26"
             ],
             [
              1,
              "#f0f921"
             ]
            ],
            "type": "histogram2d"
           }
          ],
          "histogram2dcontour": [
           {
            "colorbar": {
             "outlinewidth": 0,
             "ticks": ""
            },
            "colorscale": [
             [
              0,
              "#0d0887"
             ],
             [
              0.1111111111111111,
              "#46039f"
             ],
             [
              0.2222222222222222,
              "#7201a8"
             ],
             [
              0.3333333333333333,
              "#9c179e"
             ],
             [
              0.4444444444444444,
              "#bd3786"
             ],
             [
              0.5555555555555556,
              "#d8576b"
             ],
             [
              0.6666666666666666,
              "#ed7953"
             ],
             [
              0.7777777777777778,
              "#fb9f3a"
             ],
             [
              0.8888888888888888,
              "#fdca26"
             ],
             [
              1,
              "#f0f921"
             ]
            ],
            "type": "histogram2dcontour"
           }
          ],
          "mesh3d": [
           {
            "colorbar": {
             "outlinewidth": 0,
             "ticks": ""
            },
            "type": "mesh3d"
           }
          ],
          "parcoords": [
           {
            "line": {
             "colorbar": {
              "outlinewidth": 0,
              "ticks": ""
             }
            },
            "type": "parcoords"
           }
          ],
          "pie": [
           {
            "automargin": true,
            "type": "pie"
           }
          ],
          "scatter": [
           {
            "fillpattern": {
             "fillmode": "overlay",
             "size": 10,
             "solidity": 0.2
            },
            "type": "scatter"
           }
          ],
          "scatter3d": [
           {
            "line": {
             "colorbar": {
              "outlinewidth": 0,
              "ticks": ""
             }
            },
            "marker": {
             "colorbar": {
              "outlinewidth": 0,
              "ticks": ""
             }
            },
            "type": "scatter3d"
           }
          ],
          "scattercarpet": [
           {
            "marker": {
             "colorbar": {
              "outlinewidth": 0,
              "ticks": ""
             }
            },
            "type": "scattercarpet"
           }
          ],
          "scattergeo": [
           {
            "marker": {
             "colorbar": {
              "outlinewidth": 0,
              "ticks": ""
             }
            },
            "type": "scattergeo"
           }
          ],
          "scattergl": [
           {
            "marker": {
             "colorbar": {
              "outlinewidth": 0,
              "ticks": ""
             }
            },
            "type": "scattergl"
           }
          ],
          "scattermapbox": [
           {
            "marker": {
             "colorbar": {
              "outlinewidth": 0,
              "ticks": ""
             }
            },
            "type": "scattermapbox"
           }
          ],
          "scatterpolar": [
           {
            "marker": {
             "colorbar": {
              "outlinewidth": 0,
              "ticks": ""
             }
            },
            "type": "scatterpolar"
           }
          ],
          "scatterpolargl": [
           {
            "marker": {
             "colorbar": {
              "outlinewidth": 0,
              "ticks": ""
             }
            },
            "type": "scatterpolargl"
           }
          ],
          "scatterternary": [
           {
            "marker": {
             "colorbar": {
              "outlinewidth": 0,
              "ticks": ""
             }
            },
            "type": "scatterternary"
           }
          ],
          "surface": [
           {
            "colorbar": {
             "outlinewidth": 0,
             "ticks": ""
            },
            "colorscale": [
             [
              0,
              "#0d0887"
             ],
             [
              0.1111111111111111,
              "#46039f"
             ],
             [
              0.2222222222222222,
              "#7201a8"
             ],
             [
              0.3333333333333333,
              "#9c179e"
             ],
             [
              0.4444444444444444,
              "#bd3786"
             ],
             [
              0.5555555555555556,
              "#d8576b"
             ],
             [
              0.6666666666666666,
              "#ed7953"
             ],
             [
              0.7777777777777778,
              "#fb9f3a"
             ],
             [
              0.8888888888888888,
              "#fdca26"
             ],
             [
              1,
              "#f0f921"
             ]
            ],
            "type": "surface"
           }
          ],
          "table": [
           {
            "cells": {
             "fill": {
              "color": "#EBF0F8"
             },
             "line": {
              "color": "white"
             }
            },
            "header": {
             "fill": {
              "color": "#C8D4E3"
             },
             "line": {
              "color": "white"
             }
            },
            "type": "table"
           }
          ]
         },
         "layout": {
          "annotationdefaults": {
           "arrowcolor": "#2a3f5f",
           "arrowhead": 0,
           "arrowwidth": 1
          },
          "autotypenumbers": "strict",
          "coloraxis": {
           "colorbar": {
            "outlinewidth": 0,
            "ticks": ""
           }
          },
          "colorscale": {
           "diverging": [
            [
             0,
             "#8e0152"
            ],
            [
             0.1,
             "#c51b7d"
            ],
            [
             0.2,
             "#de77ae"
            ],
            [
             0.3,
             "#f1b6da"
            ],
            [
             0.4,
             "#fde0ef"
            ],
            [
             0.5,
             "#f7f7f7"
            ],
            [
             0.6,
             "#e6f5d0"
            ],
            [
             0.7,
             "#b8e186"
            ],
            [
             0.8,
             "#7fbc41"
            ],
            [
             0.9,
             "#4d9221"
            ],
            [
             1,
             "#276419"
            ]
           ],
           "sequential": [
            [
             0,
             "#0d0887"
            ],
            [
             0.1111111111111111,
             "#46039f"
            ],
            [
             0.2222222222222222,
             "#7201a8"
            ],
            [
             0.3333333333333333,
             "#9c179e"
            ],
            [
             0.4444444444444444,
             "#bd3786"
            ],
            [
             0.5555555555555556,
             "#d8576b"
            ],
            [
             0.6666666666666666,
             "#ed7953"
            ],
            [
             0.7777777777777778,
             "#fb9f3a"
            ],
            [
             0.8888888888888888,
             "#fdca26"
            ],
            [
             1,
             "#f0f921"
            ]
           ],
           "sequentialminus": [
            [
             0,
             "#0d0887"
            ],
            [
             0.1111111111111111,
             "#46039f"
            ],
            [
             0.2222222222222222,
             "#7201a8"
            ],
            [
             0.3333333333333333,
             "#9c179e"
            ],
            [
             0.4444444444444444,
             "#bd3786"
            ],
            [
             0.5555555555555556,
             "#d8576b"
            ],
            [
             0.6666666666666666,
             "#ed7953"
            ],
            [
             0.7777777777777778,
             "#fb9f3a"
            ],
            [
             0.8888888888888888,
             "#fdca26"
            ],
            [
             1,
             "#f0f921"
            ]
           ]
          },
          "colorway": [
           "#636efa",
           "#EF553B",
           "#00cc96",
           "#ab63fa",
           "#FFA15A",
           "#19d3f3",
           "#FF6692",
           "#B6E880",
           "#FF97FF",
           "#FECB52"
          ],
          "font": {
           "color": "#2a3f5f"
          },
          "geo": {
           "bgcolor": "white",
           "lakecolor": "white",
           "landcolor": "#E5ECF6",
           "showlakes": true,
           "showland": true,
           "subunitcolor": "white"
          },
          "hoverlabel": {
           "align": "left"
          },
          "hovermode": "closest",
          "mapbox": {
           "style": "light"
          },
          "paper_bgcolor": "white",
          "plot_bgcolor": "#E5ECF6",
          "polar": {
           "angularaxis": {
            "gridcolor": "white",
            "linecolor": "white",
            "ticks": ""
           },
           "bgcolor": "#E5ECF6",
           "radialaxis": {
            "gridcolor": "white",
            "linecolor": "white",
            "ticks": ""
           }
          },
          "scene": {
           "xaxis": {
            "backgroundcolor": "#E5ECF6",
            "gridcolor": "white",
            "gridwidth": 2,
            "linecolor": "white",
            "showbackground": true,
            "ticks": "",
            "zerolinecolor": "white"
           },
           "yaxis": {
            "backgroundcolor": "#E5ECF6",
            "gridcolor": "white",
            "gridwidth": 2,
            "linecolor": "white",
            "showbackground": true,
            "ticks": "",
            "zerolinecolor": "white"
           },
           "zaxis": {
            "backgroundcolor": "#E5ECF6",
            "gridcolor": "white",
            "gridwidth": 2,
            "linecolor": "white",
            "showbackground": true,
            "ticks": "",
            "zerolinecolor": "white"
           }
          },
          "shapedefaults": {
           "line": {
            "color": "#2a3f5f"
           }
          },
          "ternary": {
           "aaxis": {
            "gridcolor": "white",
            "linecolor": "white",
            "ticks": ""
           },
           "baxis": {
            "gridcolor": "white",
            "linecolor": "white",
            "ticks": ""
           },
           "bgcolor": "#E5ECF6",
           "caxis": {
            "gridcolor": "white",
            "linecolor": "white",
            "ticks": ""
           }
          },
          "title": {
           "x": 0.05
          },
          "xaxis": {
           "automargin": true,
           "gridcolor": "white",
           "linecolor": "white",
           "ticks": "",
           "title": {
            "standoff": 15
           },
           "zerolinecolor": "white",
           "zerolinewidth": 2
          },
          "yaxis": {
           "automargin": true,
           "gridcolor": "white",
           "linecolor": "white",
           "ticks": "",
           "title": {
            "standoff": 15
           },
           "zerolinecolor": "white",
           "zerolinewidth": 2
          }
         }
        },
        "title": {
         "text": "LCK Summer 팀 별 15분 상대골드차이",
         "x": 0.5,
         "xanchor": "auto",
         "y": 0.9,
         "yanchor": "auto"
        },
        "width": 900,
        "xaxis": {
         "title": {
          "text": "팀명"
         }
        },
        "yaxis": {
         "title": {
          "text": "15분 당 gold차이"
         }
        }
       }
      }
     },
     "metadata": {},
     "output_type": "display_data"
    }
   ],
   "source": [
    "fig = go.Figure()\n",
    "colors = ['#5F76C1',] * len(lck_summer_team_golddiff_mean.index)\n",
    "colors[1] = '#C15F5F'\n",
    "colors[3] = '#C15F5F'\n",
    "colors[5] = '#C15F5F'\n",
    "colors[9] = '#C15F5F'\n",
    "\n",
    "\n",
    "fig.add_trace(go.Bar(\n",
    "    x=lck_summer_team_golddiff_mean.index , \n",
    "    y=lck_summer_team_golddiff_mean.values,  \n",
    "    marker_color=colors,\n",
    "    text=lck_summer_team_golddiff_mean.values, \n",
    "    textposition='auto', \n",
    "    texttemplate='%{text:.0f}',\n",
    "            ) )\n",
    "\n",
    "fig.update_xaxes(title_text='팀명')\n",
    "fig.update_yaxes(title_text='15분 당 gold차이')\n",
    "\n",
    "fig.update_layout(\n",
    "            width = 900,\n",
    "            height = 600,\n",
    "            title_text=\"LCK Summer 팀 별 15분 상대골드차이\",\n",
    "            title_x = 0.5,\n",
    "            title_y = 0.9,\n",
    "            title_xanchor = \"auto\",\n",
    "            title_yanchor = \"auto\",\n",
    "            )\n",
    "\n",
    "# fig.add_annotation(\n",
    "#             x= 400, y= y 좌표,\n",
    "#             text= 주석 텍스트,\n",
    "#             textangle= 텍스트 각도,\n",
    "#             font_color = 텍스트 색,\n",
    "#             font_family = 텍스트 서체,\n",
    "#             font_size = 텍스트 사이즈,\n",
    "#             arrowhead = 화살표 스타일,\n",
    "#             arrowcolor= 화살표 색,\n",
    "#             arrowside= 화살표 방향,\n",
    "#             arrowsize= 화살표 크기,\n",
    "#             arrowwidth = 화살표 두깨,\n",
    "#             bgcolor=텍스트 백그라운드색,\n",
    "#             bordercolor= 테두리 색,\n",
    "#             borderwidth = 테두리 두깨,\n",
    "#             opacity = 투명도,\n",
    "#             xshift = x축 방향 평행이동,\n",
    "#             yshift = y축 방향 평행이동)\n",
    "fig.add_annotation(\n",
    "            x=3,\n",
    "            y=2000,\n",
    "            text=\"<b>2022 summer 우승팀 GenG</b>\",\n",
    "            showarrow=True,\n",
    "            font=dict(\n",
    "                size=10,\n",
    "                color=\"#ffffff\"\n",
    "                ),\n",
    "            align=\"center\",\n",
    "            arrowhead=2,\n",
    "            arrowsize=1,\n",
    "            arrowwidth=2,\n",
    "            arrowcolor=\"#77BDD9\",\n",
    "            ax=40,\n",
    "            ay=-30,\n",
    "            bordercolor=\"#77BDD9\",\n",
    "            borderwidth=2,\n",
    "            borderpad=4,\n",
    "            bgcolor=\"#F22E62\",\n",
    "            opacity=0.8\n",
    ")\n",
    "\n",
    "fig.add_annotation(\n",
    "            x=0,\n",
    "            y=0,\n",
    "            text=\"<b> DRX</b>\",\n",
    "            showarrow=True,\n",
    "            font=dict(\n",
    "                size=10,\n",
    "                color=\"#ffffff\"\n",
    "                ),\n",
    "            align=\"center\",\n",
    "            arrowhead=2,\n",
    "            arrowsize=1,\n",
    "            arrowwidth=2,\n",
    "            arrowcolor=\"#77BDD9\",\n",
    "            ax=10,\n",
    "            ay=-30,\n",
    "            bordercolor=\"#77BDD9\",\n",
    "            borderwidth=2,\n",
    "            borderpad=4,\n",
    "            bgcolor=\"#05E9DA\",\n",
    "            opacity=0.8\n",
    ")\n",
    "\n",
    "fig.show()"
   ]
  },
  {
   "cell_type": "code",
   "execution_count": 245,
   "metadata": {},
   "outputs": [
    {
     "data": {
      "text/html": [
       "<div>\n",
       "<style scoped>\n",
       "    .dataframe tbody tr th:only-of-type {\n",
       "        vertical-align: middle;\n",
       "    }\n",
       "\n",
       "    .dataframe tbody tr th {\n",
       "        vertical-align: top;\n",
       "    }\n",
       "\n",
       "    .dataframe thead th {\n",
       "        text-align: right;\n",
       "    }\n",
       "</style>\n",
       "<table border=\"1\" class=\"dataframe\">\n",
       "  <thead>\n",
       "    <tr style=\"text-align: right;\">\n",
       "      <th></th>\n",
       "      <th>gameid</th>\n",
       "      <th>participantid</th>\n",
       "      <th>side</th>\n",
       "      <th>league</th>\n",
       "      <th>split</th>\n",
       "      <th>teamname</th>\n",
       "      <th>date</th>\n",
       "      <th>gamelength</th>\n",
       "      <th>result</th>\n",
       "      <th>totalgold</th>\n",
       "      <th>golddiffat15</th>\n",
       "      <th>towers</th>\n",
       "    </tr>\n",
       "  </thead>\n",
       "  <tbody>\n",
       "    <tr>\n",
       "      <th>78262</th>\n",
       "      <td>ESPORTSTMNT02_2810546</td>\n",
       "      <td>100</td>\n",
       "      <td>Blue</td>\n",
       "      <td>LCK</td>\n",
       "      <td>Summer</td>\n",
       "      <td>Kwangdong Freecs</td>\n",
       "      <td>2022-06-15 06:51:56</td>\n",
       "      <td>2280</td>\n",
       "      <td>win</td>\n",
       "      <td>70874</td>\n",
       "      <td>-647.0</td>\n",
       "      <td>10.0</td>\n",
       "    </tr>\n",
       "    <tr>\n",
       "      <th>78263</th>\n",
       "      <td>ESPORTSTMNT02_2810546</td>\n",
       "      <td>200</td>\n",
       "      <td>Red</td>\n",
       "      <td>LCK</td>\n",
       "      <td>Summer</td>\n",
       "      <td>Hanwha Life Esports</td>\n",
       "      <td>2022-06-15 06:51:56</td>\n",
       "      <td>2280</td>\n",
       "      <td>lose</td>\n",
       "      <td>61008</td>\n",
       "      <td>647.0</td>\n",
       "      <td>3.0</td>\n",
       "    </tr>\n",
       "    <tr>\n",
       "      <th>78274</th>\n",
       "      <td>ESPORTSTMNT02_2820281</td>\n",
       "      <td>100</td>\n",
       "      <td>Blue</td>\n",
       "      <td>LCK</td>\n",
       "      <td>Summer</td>\n",
       "      <td>Hanwha Life Esports</td>\n",
       "      <td>2022-06-15 09:00:17</td>\n",
       "      <td>2326</td>\n",
       "      <td>win</td>\n",
       "      <td>75752</td>\n",
       "      <td>-1026.0</td>\n",
       "      <td>11.0</td>\n",
       "    </tr>\n",
       "    <tr>\n",
       "      <th>78275</th>\n",
       "      <td>ESPORTSTMNT02_2820281</td>\n",
       "      <td>200</td>\n",
       "      <td>Red</td>\n",
       "      <td>LCK</td>\n",
       "      <td>Summer</td>\n",
       "      <td>Kwangdong Freecs</td>\n",
       "      <td>2022-06-15 09:00:17</td>\n",
       "      <td>2326</td>\n",
       "      <td>lose</td>\n",
       "      <td>65096</td>\n",
       "      <td>1026.0</td>\n",
       "      <td>4.0</td>\n",
       "    </tr>\n",
       "    <tr>\n",
       "      <th>78298</th>\n",
       "      <td>ESPORTSTMNT02_2820291</td>\n",
       "      <td>100</td>\n",
       "      <td>Blue</td>\n",
       "      <td>LCK</td>\n",
       "      <td>Summer</td>\n",
       "      <td>Kwangdong Freecs</td>\n",
       "      <td>2022-06-15 10:02:25</td>\n",
       "      <td>1906</td>\n",
       "      <td>win</td>\n",
       "      <td>65360</td>\n",
       "      <td>1671.0</td>\n",
       "      <td>9.0</td>\n",
       "    </tr>\n",
       "    <tr>\n",
       "      <th>...</th>\n",
       "      <td>...</td>\n",
       "      <td>...</td>\n",
       "      <td>...</td>\n",
       "      <td>...</td>\n",
       "      <td>...</td>\n",
       "      <td>...</td>\n",
       "      <td>...</td>\n",
       "      <td>...</td>\n",
       "      <td>...</td>\n",
       "      <td>...</td>\n",
       "      <td>...</td>\n",
       "      <td>...</td>\n",
       "    </tr>\n",
       "    <tr>\n",
       "      <th>123323</th>\n",
       "      <td>ESPORTSTMNT04_2471386</td>\n",
       "      <td>200</td>\n",
       "      <td>Red</td>\n",
       "      <td>LCK</td>\n",
       "      <td>Summer</td>\n",
       "      <td>Hanwha Life Esports</td>\n",
       "      <td>2022-08-14 07:38:12</td>\n",
       "      <td>1841</td>\n",
       "      <td>win</td>\n",
       "      <td>65879</td>\n",
       "      <td>6209.0</td>\n",
       "      <td>11.0</td>\n",
       "    </tr>\n",
       "    <tr>\n",
       "      <th>123346</th>\n",
       "      <td>ESPORTSTMNT04_2471388</td>\n",
       "      <td>100</td>\n",
       "      <td>Blue</td>\n",
       "      <td>LCK</td>\n",
       "      <td>Summer</td>\n",
       "      <td>Nongshim RedForce</td>\n",
       "      <td>2022-08-14 08:32:13</td>\n",
       "      <td>1970</td>\n",
       "      <td>win</td>\n",
       "      <td>56892</td>\n",
       "      <td>147.0</td>\n",
       "      <td>7.0</td>\n",
       "    </tr>\n",
       "    <tr>\n",
       "      <th>123347</th>\n",
       "      <td>ESPORTSTMNT04_2471388</td>\n",
       "      <td>200</td>\n",
       "      <td>Red</td>\n",
       "      <td>LCK</td>\n",
       "      <td>Summer</td>\n",
       "      <td>Kwangdong Freecs</td>\n",
       "      <td>2022-08-14 08:32:13</td>\n",
       "      <td>1970</td>\n",
       "      <td>lose</td>\n",
       "      <td>48813</td>\n",
       "      <td>-147.0</td>\n",
       "      <td>0.0</td>\n",
       "    </tr>\n",
       "    <tr>\n",
       "      <th>123430</th>\n",
       "      <td>ESPORTSTMNT04_2471406</td>\n",
       "      <td>100</td>\n",
       "      <td>Blue</td>\n",
       "      <td>LCK</td>\n",
       "      <td>Summer</td>\n",
       "      <td>Kwangdong Freecs</td>\n",
       "      <td>2022-08-14 10:13:38</td>\n",
       "      <td>1471</td>\n",
       "      <td>lose</td>\n",
       "      <td>37185</td>\n",
       "      <td>-3600.0</td>\n",
       "      <td>1.0</td>\n",
       "    </tr>\n",
       "    <tr>\n",
       "      <th>123431</th>\n",
       "      <td>ESPORTSTMNT04_2471406</td>\n",
       "      <td>200</td>\n",
       "      <td>Red</td>\n",
       "      <td>LCK</td>\n",
       "      <td>Summer</td>\n",
       "      <td>Nongshim RedForce</td>\n",
       "      <td>2022-08-14 10:13:38</td>\n",
       "      <td>1471</td>\n",
       "      <td>win</td>\n",
       "      <td>50953</td>\n",
       "      <td>3600.0</td>\n",
       "      <td>9.0</td>\n",
       "    </tr>\n",
       "  </tbody>\n",
       "</table>\n",
       "<p>428 rows × 12 columns</p>\n",
       "</div>"
      ],
      "text/plain": [
       "                       gameid  participantid  side league   split  \\\n",
       "78262   ESPORTSTMNT02_2810546            100  Blue    LCK  Summer   \n",
       "78263   ESPORTSTMNT02_2810546            200   Red    LCK  Summer   \n",
       "78274   ESPORTSTMNT02_2820281            100  Blue    LCK  Summer   \n",
       "78275   ESPORTSTMNT02_2820281            200   Red    LCK  Summer   \n",
       "78298   ESPORTSTMNT02_2820291            100  Blue    LCK  Summer   \n",
       "...                       ...            ...   ...    ...     ...   \n",
       "123323  ESPORTSTMNT04_2471386            200   Red    LCK  Summer   \n",
       "123346  ESPORTSTMNT04_2471388            100  Blue    LCK  Summer   \n",
       "123347  ESPORTSTMNT04_2471388            200   Red    LCK  Summer   \n",
       "123430  ESPORTSTMNT04_2471406            100  Blue    LCK  Summer   \n",
       "123431  ESPORTSTMNT04_2471406            200   Red    LCK  Summer   \n",
       "\n",
       "                   teamname                date  gamelength result  totalgold  \\\n",
       "78262      Kwangdong Freecs 2022-06-15 06:51:56        2280    win      70874   \n",
       "78263   Hanwha Life Esports 2022-06-15 06:51:56        2280   lose      61008   \n",
       "78274   Hanwha Life Esports 2022-06-15 09:00:17        2326    win      75752   \n",
       "78275      Kwangdong Freecs 2022-06-15 09:00:17        2326   lose      65096   \n",
       "78298      Kwangdong Freecs 2022-06-15 10:02:25        1906    win      65360   \n",
       "...                     ...                 ...         ...    ...        ...   \n",
       "123323  Hanwha Life Esports 2022-08-14 07:38:12        1841    win      65879   \n",
       "123346    Nongshim RedForce 2022-08-14 08:32:13        1970    win      56892   \n",
       "123347     Kwangdong Freecs 2022-08-14 08:32:13        1970   lose      48813   \n",
       "123430     Kwangdong Freecs 2022-08-14 10:13:38        1471   lose      37185   \n",
       "123431    Nongshim RedForce 2022-08-14 10:13:38        1471    win      50953   \n",
       "\n",
       "        golddiffat15  towers  \n",
       "78262         -647.0    10.0  \n",
       "78263          647.0     3.0  \n",
       "78274        -1026.0    11.0  \n",
       "78275         1026.0     4.0  \n",
       "78298         1671.0     9.0  \n",
       "...              ...     ...  \n",
       "123323        6209.0    11.0  \n",
       "123346         147.0     7.0  \n",
       "123347        -147.0     0.0  \n",
       "123430       -3600.0     1.0  \n",
       "123431        3600.0     9.0  \n",
       "\n",
       "[428 rows x 12 columns]"
      ]
     },
     "execution_count": 245,
     "metadata": {},
     "output_type": "execute_result"
    }
   ],
   "source": [
    "lck_summer_team_df"
   ]
  },
  {
   "cell_type": "code",
   "execution_count": 256,
   "metadata": {},
   "outputs": [],
   "source": [
    "lck_summer_golddiff_winrate = lck_summer_team_df[lck_summer_team_df['golddiffat15']>=1000].groupby('result').count()['gameid']"
   ]
  },
  {
   "cell_type": "code",
   "execution_count": 281,
   "metadata": {},
   "outputs": [
    {
     "data": {
      "application/vnd.plotly.v1+json": {
       "config": {
        "plotlyServerURL": "https://plotly.com"
       },
       "data": [
        {
         "domain": {
          "x": [
           0,
           1
          ],
          "y": [
           0,
           1
          ]
         },
         "hole": 0.3,
         "hovertemplate": "label=%{label}<br>value=%{value}<extra></extra>",
         "labels": [
          "lose",
          "win"
         ],
         "legendgroup": "",
         "name": "",
         "showlegend": true,
         "textfont": {
          "color": "black",
          "size": 20
         },
         "textinfo": "label+percent+value",
         "textposition": "inside",
         "type": "pie",
         "values": [
          30,
          112
         ]
        }
       ],
       "layout": {
        "legend": {
         "tracegroupgap": 0
        },
        "margin": {
         "t": 60
        },
        "template": {
         "data": {
          "bar": [
           {
            "error_x": {
             "color": "#2a3f5f"
            },
            "error_y": {
             "color": "#2a3f5f"
            },
            "marker": {
             "line": {
              "color": "#E5ECF6",
              "width": 0.5
             },
             "pattern": {
              "fillmode": "overlay",
              "size": 10,
              "solidity": 0.2
             }
            },
            "type": "bar"
           }
          ],
          "barpolar": [
           {
            "marker": {
             "line": {
              "color": "#E5ECF6",
              "width": 0.5
             },
             "pattern": {
              "fillmode": "overlay",
              "size": 10,
              "solidity": 0.2
             }
            },
            "type": "barpolar"
           }
          ],
          "carpet": [
           {
            "aaxis": {
             "endlinecolor": "#2a3f5f",
             "gridcolor": "white",
             "linecolor": "white",
             "minorgridcolor": "white",
             "startlinecolor": "#2a3f5f"
            },
            "baxis": {
             "endlinecolor": "#2a3f5f",
             "gridcolor": "white",
             "linecolor": "white",
             "minorgridcolor": "white",
             "startlinecolor": "#2a3f5f"
            },
            "type": "carpet"
           }
          ],
          "choropleth": [
           {
            "colorbar": {
             "outlinewidth": 0,
             "ticks": ""
            },
            "type": "choropleth"
           }
          ],
          "contour": [
           {
            "colorbar": {
             "outlinewidth": 0,
             "ticks": ""
            },
            "colorscale": [
             [
              0,
              "#0d0887"
             ],
             [
              0.1111111111111111,
              "#46039f"
             ],
             [
              0.2222222222222222,
              "#7201a8"
             ],
             [
              0.3333333333333333,
              "#9c179e"
             ],
             [
              0.4444444444444444,
              "#bd3786"
             ],
             [
              0.5555555555555556,
              "#d8576b"
             ],
             [
              0.6666666666666666,
              "#ed7953"
             ],
             [
              0.7777777777777778,
              "#fb9f3a"
             ],
             [
              0.8888888888888888,
              "#fdca26"
             ],
             [
              1,
              "#f0f921"
             ]
            ],
            "type": "contour"
           }
          ],
          "contourcarpet": [
           {
            "colorbar": {
             "outlinewidth": 0,
             "ticks": ""
            },
            "type": "contourcarpet"
           }
          ],
          "heatmap": [
           {
            "colorbar": {
             "outlinewidth": 0,
             "ticks": ""
            },
            "colorscale": [
             [
              0,
              "#0d0887"
             ],
             [
              0.1111111111111111,
              "#46039f"
             ],
             [
              0.2222222222222222,
              "#7201a8"
             ],
             [
              0.3333333333333333,
              "#9c179e"
             ],
             [
              0.4444444444444444,
              "#bd3786"
             ],
             [
              0.5555555555555556,
              "#d8576b"
             ],
             [
              0.6666666666666666,
              "#ed7953"
             ],
             [
              0.7777777777777778,
              "#fb9f3a"
             ],
             [
              0.8888888888888888,
              "#fdca26"
             ],
             [
              1,
              "#f0f921"
             ]
            ],
            "type": "heatmap"
           }
          ],
          "heatmapgl": [
           {
            "colorbar": {
             "outlinewidth": 0,
             "ticks": ""
            },
            "colorscale": [
             [
              0,
              "#0d0887"
             ],
             [
              0.1111111111111111,
              "#46039f"
             ],
             [
              0.2222222222222222,
              "#7201a8"
             ],
             [
              0.3333333333333333,
              "#9c179e"
             ],
             [
              0.4444444444444444,
              "#bd3786"
             ],
             [
              0.5555555555555556,
              "#d8576b"
             ],
             [
              0.6666666666666666,
              "#ed7953"
             ],
             [
              0.7777777777777778,
              "#fb9f3a"
             ],
             [
              0.8888888888888888,
              "#fdca26"
             ],
             [
              1,
              "#f0f921"
             ]
            ],
            "type": "heatmapgl"
           }
          ],
          "histogram": [
           {
            "marker": {
             "pattern": {
              "fillmode": "overlay",
              "size": 10,
              "solidity": 0.2
             }
            },
            "type": "histogram"
           }
          ],
          "histogram2d": [
           {
            "colorbar": {
             "outlinewidth": 0,
             "ticks": ""
            },
            "colorscale": [
             [
              0,
              "#0d0887"
             ],
             [
              0.1111111111111111,
              "#46039f"
             ],
             [
              0.2222222222222222,
              "#7201a8"
             ],
             [
              0.3333333333333333,
              "#9c179e"
             ],
             [
              0.4444444444444444,
              "#bd3786"
             ],
             [
              0.5555555555555556,
              "#d8576b"
             ],
             [
              0.6666666666666666,
              "#ed7953"
             ],
             [
              0.7777777777777778,
              "#fb9f3a"
             ],
             [
              0.8888888888888888,
              "#fdca26"
             ],
             [
              1,
              "#f0f921"
             ]
            ],
            "type": "histogram2d"
           }
          ],
          "histogram2dcontour": [
           {
            "colorbar": {
             "outlinewidth": 0,
             "ticks": ""
            },
            "colorscale": [
             [
              0,
              "#0d0887"
             ],
             [
              0.1111111111111111,
              "#46039f"
             ],
             [
              0.2222222222222222,
              "#7201a8"
             ],
             [
              0.3333333333333333,
              "#9c179e"
             ],
             [
              0.4444444444444444,
              "#bd3786"
             ],
             [
              0.5555555555555556,
              "#d8576b"
             ],
             [
              0.6666666666666666,
              "#ed7953"
             ],
             [
              0.7777777777777778,
              "#fb9f3a"
             ],
             [
              0.8888888888888888,
              "#fdca26"
             ],
             [
              1,
              "#f0f921"
             ]
            ],
            "type": "histogram2dcontour"
           }
          ],
          "mesh3d": [
           {
            "colorbar": {
             "outlinewidth": 0,
             "ticks": ""
            },
            "type": "mesh3d"
           }
          ],
          "parcoords": [
           {
            "line": {
             "colorbar": {
              "outlinewidth": 0,
              "ticks": ""
             }
            },
            "type": "parcoords"
           }
          ],
          "pie": [
           {
            "automargin": true,
            "type": "pie"
           }
          ],
          "scatter": [
           {
            "fillpattern": {
             "fillmode": "overlay",
             "size": 10,
             "solidity": 0.2
            },
            "type": "scatter"
           }
          ],
          "scatter3d": [
           {
            "line": {
             "colorbar": {
              "outlinewidth": 0,
              "ticks": ""
             }
            },
            "marker": {
             "colorbar": {
              "outlinewidth": 0,
              "ticks": ""
             }
            },
            "type": "scatter3d"
           }
          ],
          "scattercarpet": [
           {
            "marker": {
             "colorbar": {
              "outlinewidth": 0,
              "ticks": ""
             }
            },
            "type": "scattercarpet"
           }
          ],
          "scattergeo": [
           {
            "marker": {
             "colorbar": {
              "outlinewidth": 0,
              "ticks": ""
             }
            },
            "type": "scattergeo"
           }
          ],
          "scattergl": [
           {
            "marker": {
             "colorbar": {
              "outlinewidth": 0,
              "ticks": ""
             }
            },
            "type": "scattergl"
           }
          ],
          "scattermapbox": [
           {
            "marker": {
             "colorbar": {
              "outlinewidth": 0,
              "ticks": ""
             }
            },
            "type": "scattermapbox"
           }
          ],
          "scatterpolar": [
           {
            "marker": {
             "colorbar": {
              "outlinewidth": 0,
              "ticks": ""
             }
            },
            "type": "scatterpolar"
           }
          ],
          "scatterpolargl": [
           {
            "marker": {
             "colorbar": {
              "outlinewidth": 0,
              "ticks": ""
             }
            },
            "type": "scatterpolargl"
           }
          ],
          "scatterternary": [
           {
            "marker": {
             "colorbar": {
              "outlinewidth": 0,
              "ticks": ""
             }
            },
            "type": "scatterternary"
           }
          ],
          "surface": [
           {
            "colorbar": {
             "outlinewidth": 0,
             "ticks": ""
            },
            "colorscale": [
             [
              0,
              "#0d0887"
             ],
             [
              0.1111111111111111,
              "#46039f"
             ],
             [
              0.2222222222222222,
              "#7201a8"
             ],
             [
              0.3333333333333333,
              "#9c179e"
             ],
             [
              0.4444444444444444,
              "#bd3786"
             ],
             [
              0.5555555555555556,
              "#d8576b"
             ],
             [
              0.6666666666666666,
              "#ed7953"
             ],
             [
              0.7777777777777778,
              "#fb9f3a"
             ],
             [
              0.8888888888888888,
              "#fdca26"
             ],
             [
              1,
              "#f0f921"
             ]
            ],
            "type": "surface"
           }
          ],
          "table": [
           {
            "cells": {
             "fill": {
              "color": "#EBF0F8"
             },
             "line": {
              "color": "white"
             }
            },
            "header": {
             "fill": {
              "color": "#C8D4E3"
             },
             "line": {
              "color": "white"
             }
            },
            "type": "table"
           }
          ]
         },
         "layout": {
          "annotationdefaults": {
           "arrowcolor": "#2a3f5f",
           "arrowhead": 0,
           "arrowwidth": 1
          },
          "autotypenumbers": "strict",
          "coloraxis": {
           "colorbar": {
            "outlinewidth": 0,
            "ticks": ""
           }
          },
          "colorscale": {
           "diverging": [
            [
             0,
             "#8e0152"
            ],
            [
             0.1,
             "#c51b7d"
            ],
            [
             0.2,
             "#de77ae"
            ],
            [
             0.3,
             "#f1b6da"
            ],
            [
             0.4,
             "#fde0ef"
            ],
            [
             0.5,
             "#f7f7f7"
            ],
            [
             0.6,
             "#e6f5d0"
            ],
            [
             0.7,
             "#b8e186"
            ],
            [
             0.8,
             "#7fbc41"
            ],
            [
             0.9,
             "#4d9221"
            ],
            [
             1,
             "#276419"
            ]
           ],
           "sequential": [
            [
             0,
             "#0d0887"
            ],
            [
             0.1111111111111111,
             "#46039f"
            ],
            [
             0.2222222222222222,
             "#7201a8"
            ],
            [
             0.3333333333333333,
             "#9c179e"
            ],
            [
             0.4444444444444444,
             "#bd3786"
            ],
            [
             0.5555555555555556,
             "#d8576b"
            ],
            [
             0.6666666666666666,
             "#ed7953"
            ],
            [
             0.7777777777777778,
             "#fb9f3a"
            ],
            [
             0.8888888888888888,
             "#fdca26"
            ],
            [
             1,
             "#f0f921"
            ]
           ],
           "sequentialminus": [
            [
             0,
             "#0d0887"
            ],
            [
             0.1111111111111111,
             "#46039f"
            ],
            [
             0.2222222222222222,
             "#7201a8"
            ],
            [
             0.3333333333333333,
             "#9c179e"
            ],
            [
             0.4444444444444444,
             "#bd3786"
            ],
            [
             0.5555555555555556,
             "#d8576b"
            ],
            [
             0.6666666666666666,
             "#ed7953"
            ],
            [
             0.7777777777777778,
             "#fb9f3a"
            ],
            [
             0.8888888888888888,
             "#fdca26"
            ],
            [
             1,
             "#f0f921"
            ]
           ]
          },
          "colorway": [
           "#636efa",
           "#EF553B",
           "#00cc96",
           "#ab63fa",
           "#FFA15A",
           "#19d3f3",
           "#FF6692",
           "#B6E880",
           "#FF97FF",
           "#FECB52"
          ],
          "font": {
           "color": "#2a3f5f"
          },
          "geo": {
           "bgcolor": "white",
           "lakecolor": "white",
           "landcolor": "#E5ECF6",
           "showlakes": true,
           "showland": true,
           "subunitcolor": "white"
          },
          "hoverlabel": {
           "align": "left"
          },
          "hovermode": "closest",
          "mapbox": {
           "style": "light"
          },
          "paper_bgcolor": "white",
          "plot_bgcolor": "#E5ECF6",
          "polar": {
           "angularaxis": {
            "gridcolor": "white",
            "linecolor": "white",
            "ticks": ""
           },
           "bgcolor": "#E5ECF6",
           "radialaxis": {
            "gridcolor": "white",
            "linecolor": "white",
            "ticks": ""
           }
          },
          "scene": {
           "xaxis": {
            "backgroundcolor": "#E5ECF6",
            "gridcolor": "white",
            "gridwidth": 2,
            "linecolor": "white",
            "showbackground": true,
            "ticks": "",
            "zerolinecolor": "white"
           },
           "yaxis": {
            "backgroundcolor": "#E5ECF6",
            "gridcolor": "white",
            "gridwidth": 2,
            "linecolor": "white",
            "showbackground": true,
            "ticks": "",
            "zerolinecolor": "white"
           },
           "zaxis": {
            "backgroundcolor": "#E5ECF6",
            "gridcolor": "white",
            "gridwidth": 2,
            "linecolor": "white",
            "showbackground": true,
            "ticks": "",
            "zerolinecolor": "white"
           }
          },
          "shapedefaults": {
           "line": {
            "color": "#2a3f5f"
           }
          },
          "ternary": {
           "aaxis": {
            "gridcolor": "white",
            "linecolor": "white",
            "ticks": ""
           },
           "baxis": {
            "gridcolor": "white",
            "linecolor": "white",
            "ticks": ""
           },
           "bgcolor": "#E5ECF6",
           "caxis": {
            "gridcolor": "white",
            "linecolor": "white",
            "ticks": ""
           }
          },
          "title": {
           "x": 0.05
          },
          "xaxis": {
           "automargin": true,
           "gridcolor": "white",
           "linecolor": "white",
           "ticks": "",
           "title": {
            "standoff": 15
           },
           "zerolinecolor": "white",
           "zerolinewidth": 2
          },
          "yaxis": {
           "automargin": true,
           "gridcolor": "white",
           "linecolor": "white",
           "ticks": "",
           "title": {
            "standoff": 15
           },
           "zerolinecolor": "white",
           "zerolinewidth": 2
          }
         }
        },
        "title": {
         "text": "golddiff 가 1000이상 팀의 승률",
         "x": 0.5,
         "xanchor": "auto",
         "y": 0.96,
         "yanchor": "auto"
        },
        "width": 500
       }
      }
     },
     "metadata": {},
     "output_type": "display_data"
    },
    {
     "data": {
      "text/plain": [
       "result\n",
       "lose     30\n",
       "win     112\n",
       "Name: gameid, dtype: int64"
      ]
     },
     "execution_count": 281,
     "metadata": {},
     "output_type": "execute_result"
    }
   ],
   "source": [
    "import plotly.express as px\n",
    "\n",
    "fig = px.pie(values=lck_summer_golddiff_winrate.values, names=lck_summer_golddiff_winrate.index, width=500)\n",
    "\n",
    "fig.update_layout(\n",
    "                title_text=\"golddiff 가 1000이상 팀의 승률\",\n",
    "                title_x = 0.5,\n",
    "                title_y = 0.96,\n",
    "                title_xanchor = \"auto\",\n",
    "                title_yanchor = \"auto\")\n",
    "\n",
    "fig.update_traces(\n",
    "                hole=.3,\n",
    "                textinfo = 'label+percent+value',\n",
    "                textfont_size = 20,\n",
    "                textfont_color = 'black',\n",
    "                textposition = 'inside')\n",
    "\n",
    "fig.show()\n",
    "\n",
    "\n",
    "lck_summer_golddiff_winrate"
   ]
  },
  {
   "cell_type": "code",
   "execution_count": 284,
   "metadata": {},
   "outputs": [
    {
     "data": {
      "text/html": [
       "<div>\n",
       "<style scoped>\n",
       "    .dataframe tbody tr th:only-of-type {\n",
       "        vertical-align: middle;\n",
       "    }\n",
       "\n",
       "    .dataframe tbody tr th {\n",
       "        vertical-align: top;\n",
       "    }\n",
       "\n",
       "    .dataframe thead th {\n",
       "        text-align: right;\n",
       "    }\n",
       "</style>\n",
       "<table border=\"1\" class=\"dataframe\">\n",
       "  <thead>\n",
       "    <tr style=\"text-align: right;\">\n",
       "      <th></th>\n",
       "      <th>gameid</th>\n",
       "      <th>participantid</th>\n",
       "      <th>side</th>\n",
       "      <th>league</th>\n",
       "      <th>split</th>\n",
       "      <th>teamname</th>\n",
       "      <th>date</th>\n",
       "      <th>gamelength</th>\n",
       "      <th>result</th>\n",
       "      <th>totalgold</th>\n",
       "      <th>golddiffat15</th>\n",
       "      <th>towers</th>\n",
       "    </tr>\n",
       "  </thead>\n",
       "  <tbody>\n",
       "    <tr>\n",
       "      <th>78262</th>\n",
       "      <td>ESPORTSTMNT02_2810546</td>\n",
       "      <td>100</td>\n",
       "      <td>Blue</td>\n",
       "      <td>LCK</td>\n",
       "      <td>Summer</td>\n",
       "      <td>Kwangdong Freecs</td>\n",
       "      <td>2022-06-15 06:51:56</td>\n",
       "      <td>2280</td>\n",
       "      <td>win</td>\n",
       "      <td>70874</td>\n",
       "      <td>-647.0</td>\n",
       "      <td>10.0</td>\n",
       "    </tr>\n",
       "    <tr>\n",
       "      <th>78263</th>\n",
       "      <td>ESPORTSTMNT02_2810546</td>\n",
       "      <td>200</td>\n",
       "      <td>Red</td>\n",
       "      <td>LCK</td>\n",
       "      <td>Summer</td>\n",
       "      <td>Hanwha Life Esports</td>\n",
       "      <td>2022-06-15 06:51:56</td>\n",
       "      <td>2280</td>\n",
       "      <td>lose</td>\n",
       "      <td>61008</td>\n",
       "      <td>647.0</td>\n",
       "      <td>3.0</td>\n",
       "    </tr>\n",
       "    <tr>\n",
       "      <th>78274</th>\n",
       "      <td>ESPORTSTMNT02_2820281</td>\n",
       "      <td>100</td>\n",
       "      <td>Blue</td>\n",
       "      <td>LCK</td>\n",
       "      <td>Summer</td>\n",
       "      <td>Hanwha Life Esports</td>\n",
       "      <td>2022-06-15 09:00:17</td>\n",
       "      <td>2326</td>\n",
       "      <td>win</td>\n",
       "      <td>75752</td>\n",
       "      <td>-1026.0</td>\n",
       "      <td>11.0</td>\n",
       "    </tr>\n",
       "    <tr>\n",
       "      <th>78275</th>\n",
       "      <td>ESPORTSTMNT02_2820281</td>\n",
       "      <td>200</td>\n",
       "      <td>Red</td>\n",
       "      <td>LCK</td>\n",
       "      <td>Summer</td>\n",
       "      <td>Kwangdong Freecs</td>\n",
       "      <td>2022-06-15 09:00:17</td>\n",
       "      <td>2326</td>\n",
       "      <td>lose</td>\n",
       "      <td>65096</td>\n",
       "      <td>1026.0</td>\n",
       "      <td>4.0</td>\n",
       "    </tr>\n",
       "    <tr>\n",
       "      <th>78298</th>\n",
       "      <td>ESPORTSTMNT02_2820291</td>\n",
       "      <td>100</td>\n",
       "      <td>Blue</td>\n",
       "      <td>LCK</td>\n",
       "      <td>Summer</td>\n",
       "      <td>Kwangdong Freecs</td>\n",
       "      <td>2022-06-15 10:02:25</td>\n",
       "      <td>1906</td>\n",
       "      <td>win</td>\n",
       "      <td>65360</td>\n",
       "      <td>1671.0</td>\n",
       "      <td>9.0</td>\n",
       "    </tr>\n",
       "    <tr>\n",
       "      <th>...</th>\n",
       "      <td>...</td>\n",
       "      <td>...</td>\n",
       "      <td>...</td>\n",
       "      <td>...</td>\n",
       "      <td>...</td>\n",
       "      <td>...</td>\n",
       "      <td>...</td>\n",
       "      <td>...</td>\n",
       "      <td>...</td>\n",
       "      <td>...</td>\n",
       "      <td>...</td>\n",
       "      <td>...</td>\n",
       "    </tr>\n",
       "    <tr>\n",
       "      <th>123323</th>\n",
       "      <td>ESPORTSTMNT04_2471386</td>\n",
       "      <td>200</td>\n",
       "      <td>Red</td>\n",
       "      <td>LCK</td>\n",
       "      <td>Summer</td>\n",
       "      <td>Hanwha Life Esports</td>\n",
       "      <td>2022-08-14 07:38:12</td>\n",
       "      <td>1841</td>\n",
       "      <td>win</td>\n",
       "      <td>65879</td>\n",
       "      <td>6209.0</td>\n",
       "      <td>11.0</td>\n",
       "    </tr>\n",
       "    <tr>\n",
       "      <th>123346</th>\n",
       "      <td>ESPORTSTMNT04_2471388</td>\n",
       "      <td>100</td>\n",
       "      <td>Blue</td>\n",
       "      <td>LCK</td>\n",
       "      <td>Summer</td>\n",
       "      <td>Nongshim RedForce</td>\n",
       "      <td>2022-08-14 08:32:13</td>\n",
       "      <td>1970</td>\n",
       "      <td>win</td>\n",
       "      <td>56892</td>\n",
       "      <td>147.0</td>\n",
       "      <td>7.0</td>\n",
       "    </tr>\n",
       "    <tr>\n",
       "      <th>123347</th>\n",
       "      <td>ESPORTSTMNT04_2471388</td>\n",
       "      <td>200</td>\n",
       "      <td>Red</td>\n",
       "      <td>LCK</td>\n",
       "      <td>Summer</td>\n",
       "      <td>Kwangdong Freecs</td>\n",
       "      <td>2022-08-14 08:32:13</td>\n",
       "      <td>1970</td>\n",
       "      <td>lose</td>\n",
       "      <td>48813</td>\n",
       "      <td>-147.0</td>\n",
       "      <td>0.0</td>\n",
       "    </tr>\n",
       "    <tr>\n",
       "      <th>123430</th>\n",
       "      <td>ESPORTSTMNT04_2471406</td>\n",
       "      <td>100</td>\n",
       "      <td>Blue</td>\n",
       "      <td>LCK</td>\n",
       "      <td>Summer</td>\n",
       "      <td>Kwangdong Freecs</td>\n",
       "      <td>2022-08-14 10:13:38</td>\n",
       "      <td>1471</td>\n",
       "      <td>lose</td>\n",
       "      <td>37185</td>\n",
       "      <td>-3600.0</td>\n",
       "      <td>1.0</td>\n",
       "    </tr>\n",
       "    <tr>\n",
       "      <th>123431</th>\n",
       "      <td>ESPORTSTMNT04_2471406</td>\n",
       "      <td>200</td>\n",
       "      <td>Red</td>\n",
       "      <td>LCK</td>\n",
       "      <td>Summer</td>\n",
       "      <td>Nongshim RedForce</td>\n",
       "      <td>2022-08-14 10:13:38</td>\n",
       "      <td>1471</td>\n",
       "      <td>win</td>\n",
       "      <td>50953</td>\n",
       "      <td>3600.0</td>\n",
       "      <td>9.0</td>\n",
       "    </tr>\n",
       "  </tbody>\n",
       "</table>\n",
       "<p>428 rows × 12 columns</p>\n",
       "</div>"
      ],
      "text/plain": [
       "                       gameid  participantid  side league   split  \\\n",
       "78262   ESPORTSTMNT02_2810546            100  Blue    LCK  Summer   \n",
       "78263   ESPORTSTMNT02_2810546            200   Red    LCK  Summer   \n",
       "78274   ESPORTSTMNT02_2820281            100  Blue    LCK  Summer   \n",
       "78275   ESPORTSTMNT02_2820281            200   Red    LCK  Summer   \n",
       "78298   ESPORTSTMNT02_2820291            100  Blue    LCK  Summer   \n",
       "...                       ...            ...   ...    ...     ...   \n",
       "123323  ESPORTSTMNT04_2471386            200   Red    LCK  Summer   \n",
       "123346  ESPORTSTMNT04_2471388            100  Blue    LCK  Summer   \n",
       "123347  ESPORTSTMNT04_2471388            200   Red    LCK  Summer   \n",
       "123430  ESPORTSTMNT04_2471406            100  Blue    LCK  Summer   \n",
       "123431  ESPORTSTMNT04_2471406            200   Red    LCK  Summer   \n",
       "\n",
       "                   teamname                date  gamelength result  totalgold  \\\n",
       "78262      Kwangdong Freecs 2022-06-15 06:51:56        2280    win      70874   \n",
       "78263   Hanwha Life Esports 2022-06-15 06:51:56        2280   lose      61008   \n",
       "78274   Hanwha Life Esports 2022-06-15 09:00:17        2326    win      75752   \n",
       "78275      Kwangdong Freecs 2022-06-15 09:00:17        2326   lose      65096   \n",
       "78298      Kwangdong Freecs 2022-06-15 10:02:25        1906    win      65360   \n",
       "...                     ...                 ...         ...    ...        ...   \n",
       "123323  Hanwha Life Esports 2022-08-14 07:38:12        1841    win      65879   \n",
       "123346    Nongshim RedForce 2022-08-14 08:32:13        1970    win      56892   \n",
       "123347     Kwangdong Freecs 2022-08-14 08:32:13        1970   lose      48813   \n",
       "123430     Kwangdong Freecs 2022-08-14 10:13:38        1471   lose      37185   \n",
       "123431    Nongshim RedForce 2022-08-14 10:13:38        1471    win      50953   \n",
       "\n",
       "        golddiffat15  towers  \n",
       "78262         -647.0    10.0  \n",
       "78263          647.0     3.0  \n",
       "78274        -1026.0    11.0  \n",
       "78275         1026.0     4.0  \n",
       "78298         1671.0     9.0  \n",
       "...              ...     ...  \n",
       "123323        6209.0    11.0  \n",
       "123346         147.0     7.0  \n",
       "123347        -147.0     0.0  \n",
       "123430       -3600.0     1.0  \n",
       "123431        3600.0     9.0  \n",
       "\n",
       "[428 rows x 12 columns]"
      ]
     },
     "execution_count": 284,
     "metadata": {},
     "output_type": "execute_result"
    }
   ],
   "source": [
    "lck_summer_team_df"
   ]
  },
  {
   "cell_type": "code",
   "execution_count": 356,
   "metadata": {},
   "outputs": [
    {
     "data": {
      "text/html": [
       "<div>\n",
       "<style scoped>\n",
       "    .dataframe tbody tr th:only-of-type {\n",
       "        vertical-align: middle;\n",
       "    }\n",
       "\n",
       "    .dataframe tbody tr th {\n",
       "        vertical-align: top;\n",
       "    }\n",
       "\n",
       "    .dataframe thead th {\n",
       "        text-align: right;\n",
       "    }\n",
       "</style>\n",
       "<table border=\"1\" class=\"dataframe\">\n",
       "  <thead>\n",
       "    <tr style=\"text-align: right;\">\n",
       "      <th></th>\n",
       "      <th>gameid</th>\n",
       "      <th>participantid</th>\n",
       "      <th>side</th>\n",
       "      <th>league</th>\n",
       "      <th>split</th>\n",
       "      <th>teamname</th>\n",
       "      <th>date</th>\n",
       "      <th>gamelength</th>\n",
       "      <th>result</th>\n",
       "      <th>totalgold</th>\n",
       "      <th>golddiffat15</th>\n",
       "      <th>towers</th>\n",
       "    </tr>\n",
       "  </thead>\n",
       "  <tbody>\n",
       "    <tr>\n",
       "      <th>79223</th>\n",
       "      <td>ESPORTSTMNT02_2840060</td>\n",
       "      <td>200</td>\n",
       "      <td>Red</td>\n",
       "      <td>LCK</td>\n",
       "      <td>Summer</td>\n",
       "      <td>DWG KIA</td>\n",
       "      <td>2022-06-16 10:27:35</td>\n",
       "      <td>2136</td>\n",
       "      <td>win</td>\n",
       "      <td>60576</td>\n",
       "      <td>1369.0</td>\n",
       "      <td>7.0</td>\n",
       "    </tr>\n",
       "    <tr>\n",
       "      <th>79247</th>\n",
       "      <td>ESPORTSTMNT02_2830073</td>\n",
       "      <td>200</td>\n",
       "      <td>Red</td>\n",
       "      <td>LCK</td>\n",
       "      <td>Summer</td>\n",
       "      <td>DWG KIA</td>\n",
       "      <td>2022-06-16 11:48:41</td>\n",
       "      <td>2490</td>\n",
       "      <td>win</td>\n",
       "      <td>77300</td>\n",
       "      <td>5322.0</td>\n",
       "      <td>9.0</td>\n",
       "    </tr>\n",
       "    <tr>\n",
       "      <th>81238</th>\n",
       "      <td>ESPORTSTMNT02_2840747</td>\n",
       "      <td>100</td>\n",
       "      <td>Blue</td>\n",
       "      <td>LCK</td>\n",
       "      <td>Summer</td>\n",
       "      <td>DWG KIA</td>\n",
       "      <td>2022-06-19 12:18:26</td>\n",
       "      <td>1681</td>\n",
       "      <td>win</td>\n",
       "      <td>58805</td>\n",
       "      <td>2110.0</td>\n",
       "      <td>9.0</td>\n",
       "    </tr>\n",
       "    <tr>\n",
       "      <th>81275</th>\n",
       "      <td>ESPORTSTMNT02_2830829</td>\n",
       "      <td>200</td>\n",
       "      <td>Red</td>\n",
       "      <td>LCK</td>\n",
       "      <td>Summer</td>\n",
       "      <td>DWG KIA</td>\n",
       "      <td>2022-06-19 12:52:05</td>\n",
       "      <td>1645</td>\n",
       "      <td>win</td>\n",
       "      <td>52616</td>\n",
       "      <td>1133.0</td>\n",
       "      <td>7.0</td>\n",
       "    </tr>\n",
       "    <tr>\n",
       "      <th>83279</th>\n",
       "      <td>ESPORTSTMNT03_2793981</td>\n",
       "      <td>200</td>\n",
       "      <td>Red</td>\n",
       "      <td>LCK</td>\n",
       "      <td>Summer</td>\n",
       "      <td>DWG KIA</td>\n",
       "      <td>2022-06-22 06:21:27</td>\n",
       "      <td>1801</td>\n",
       "      <td>lose</td>\n",
       "      <td>50380</td>\n",
       "      <td>-341.0</td>\n",
       "      <td>3.0</td>\n",
       "    </tr>\n",
       "  </tbody>\n",
       "</table>\n",
       "</div>"
      ],
      "text/plain": [
       "                      gameid  participantid  side league   split teamname  \\\n",
       "79223  ESPORTSTMNT02_2840060            200   Red    LCK  Summer  DWG KIA   \n",
       "79247  ESPORTSTMNT02_2830073            200   Red    LCK  Summer  DWG KIA   \n",
       "81238  ESPORTSTMNT02_2840747            100  Blue    LCK  Summer  DWG KIA   \n",
       "81275  ESPORTSTMNT02_2830829            200   Red    LCK  Summer  DWG KIA   \n",
       "83279  ESPORTSTMNT03_2793981            200   Red    LCK  Summer  DWG KIA   \n",
       "\n",
       "                     date  gamelength result  totalgold  golddiffat15  towers  \n",
       "79223 2022-06-16 10:27:35        2136    win      60576        1369.0     7.0  \n",
       "79247 2022-06-16 11:48:41        2490    win      77300        5322.0     9.0  \n",
       "81238 2022-06-19 12:18:26        1681    win      58805        2110.0     9.0  \n",
       "81275 2022-06-19 12:52:05        1645    win      52616        1133.0     7.0  \n",
       "83279 2022-06-22 06:21:27        1801   lose      50380        -341.0     3.0  "
      ]
     },
     "execution_count": 356,
     "metadata": {},
     "output_type": "execute_result"
    }
   ],
   "source": [
    "lck_summer_drx_df = lck_summer_team_df[lck_summer_team_df['teamname']=='DRX']\n",
    "\n",
    "lck_summer_geng_df = lck_summer_team_df[lck_summer_team_df['teamname']=='Gen.G']\n",
    "\n",
    "lck_summer_t1_df = lck_summer_team_df[lck_summer_team_df['teamname']=='T1']\n",
    "\n",
    "lck_summer_dk_df = lck_summer_team_df[lck_summer_team_df['teamname']=='DWG KIA']\n",
    "\n",
    "lck_summer_dk_df.head()\n",
    "\n",
    "\n"
   ]
  },
  {
   "cell_type": "code",
   "execution_count": 357,
   "metadata": {},
   "outputs": [
    {
     "data": {
      "text/html": [
       "<div>\n",
       "<style scoped>\n",
       "    .dataframe tbody tr th:only-of-type {\n",
       "        vertical-align: middle;\n",
       "    }\n",
       "\n",
       "    .dataframe tbody tr th {\n",
       "        vertical-align: top;\n",
       "    }\n",
       "\n",
       "    .dataframe thead th {\n",
       "        text-align: right;\n",
       "    }\n",
       "</style>\n",
       "<table border=\"1\" class=\"dataframe\">\n",
       "  <thead>\n",
       "    <tr style=\"text-align: right;\">\n",
       "      <th></th>\n",
       "      <th>participantid</th>\n",
       "      <th>gamelength</th>\n",
       "      <th>totalgold</th>\n",
       "      <th>golddiffat15</th>\n",
       "      <th>towers</th>\n",
       "    </tr>\n",
       "    <tr>\n",
       "      <th>date</th>\n",
       "      <th></th>\n",
       "      <th></th>\n",
       "      <th></th>\n",
       "      <th></th>\n",
       "      <th></th>\n",
       "    </tr>\n",
       "  </thead>\n",
       "  <tbody>\n",
       "    <tr>\n",
       "      <th>2022-06-16</th>\n",
       "      <td>200.000000</td>\n",
       "      <td>2313.0</td>\n",
       "      <td>68938.0</td>\n",
       "      <td>3345.5</td>\n",
       "      <td>8.000000</td>\n",
       "    </tr>\n",
       "    <tr>\n",
       "      <th>2022-06-19</th>\n",
       "      <td>150.000000</td>\n",
       "      <td>1663.0</td>\n",
       "      <td>55710.5</td>\n",
       "      <td>1621.5</td>\n",
       "      <td>8.000000</td>\n",
       "    </tr>\n",
       "    <tr>\n",
       "      <th>2022-06-22</th>\n",
       "      <td>166.666667</td>\n",
       "      <td>1844.0</td>\n",
       "      <td>53783.0</td>\n",
       "      <td>-1279.0</td>\n",
       "      <td>5.666667</td>\n",
       "    </tr>\n",
       "    <tr>\n",
       "      <th>2022-06-25</th>\n",
       "      <td>100.000000</td>\n",
       "      <td>1901.0</td>\n",
       "      <td>53203.5</td>\n",
       "      <td>586.5</td>\n",
       "      <td>2.500000</td>\n",
       "    </tr>\n",
       "    <tr>\n",
       "      <th>2022-07-01</th>\n",
       "      <td>150.000000</td>\n",
       "      <td>1965.0</td>\n",
       "      <td>65667.0</td>\n",
       "      <td>9.5</td>\n",
       "      <td>9.500000</td>\n",
       "    </tr>\n",
       "  </tbody>\n",
       "</table>\n",
       "</div>"
      ],
      "text/plain": [
       "            participantid  gamelength  totalgold  golddiffat15    towers\n",
       "date                                                                    \n",
       "2022-06-16     200.000000      2313.0    68938.0        3345.5  8.000000\n",
       "2022-06-19     150.000000      1663.0    55710.5        1621.5  8.000000\n",
       "2022-06-22     166.666667      1844.0    53783.0       -1279.0  5.666667\n",
       "2022-06-25     100.000000      1901.0    53203.5         586.5  2.500000\n",
       "2022-07-01     150.000000      1965.0    65667.0           9.5  9.500000"
      ]
     },
     "execution_count": 357,
     "metadata": {},
     "output_type": "execute_result"
    }
   ],
   "source": [
    "lck_summer_drx_time_df = lck_summer_drx_df.groupby(pd.Grouper(key='date',freq='D')).mean('golddiffat15')\n",
    "lck_summer_drx_time_df = lck_summer_drx_time_df.dropna()\n",
    "\n",
    "lck_summer_geng_time_df = lck_summer_geng_df.groupby(pd.Grouper(key='date',freq='D')).mean('golddiffat15')\n",
    "lck_summer_geng_time_df = lck_summer_geng_time_df.dropna()\n",
    "\n",
    "\n",
    "lck_summer_t1_time_df = lck_summer_t1_df.groupby(pd.Grouper(key='date',freq='D')).mean('golddiffat15')\n",
    "lck_summer_t1_time_df = lck_summer_t1_time_df.dropna()\n",
    "\n",
    "\n",
    "lck_summer_dk_time_df = lck_summer_dk_df.groupby(pd.Grouper(key='date',freq='D')).mean('golddiffat15')\n",
    "lck_summer_dk_time_df = lck_summer_dk_time_df.dropna()\n",
    "lck_summer_dk_time_df.head()"
   ]
  },
  {
   "cell_type": "code",
   "execution_count": null,
   "metadata": {},
   "outputs": [
    {
     "data": {
      "text/html": [
       "<div>\n",
       "<style scoped>\n",
       "    .dataframe tbody tr th:only-of-type {\n",
       "        vertical-align: middle;\n",
       "    }\n",
       "\n",
       "    .dataframe tbody tr th {\n",
       "        vertical-align: top;\n",
       "    }\n",
       "\n",
       "    .dataframe thead th {\n",
       "        text-align: right;\n",
       "    }\n",
       "</style>\n",
       "<table border=\"1\" class=\"dataframe\">\n",
       "  <thead>\n",
       "    <tr style=\"text-align: right;\">\n",
       "      <th></th>\n",
       "      <th>participantid</th>\n",
       "      <th>gamelength</th>\n",
       "      <th>totalgold</th>\n",
       "      <th>golddiffat15</th>\n",
       "      <th>towers</th>\n",
       "    </tr>\n",
       "    <tr>\n",
       "      <th>date</th>\n",
       "      <th></th>\n",
       "      <th></th>\n",
       "      <th></th>\n",
       "      <th></th>\n",
       "      <th></th>\n",
       "    </tr>\n",
       "  </thead>\n",
       "  <tbody>\n",
       "    <tr>\n",
       "      <th>2022-06-16</th>\n",
       "      <td>200.000000</td>\n",
       "      <td>2313.0</td>\n",
       "      <td>68938.0</td>\n",
       "      <td>3345.5</td>\n",
       "      <td>8.000000</td>\n",
       "    </tr>\n",
       "    <tr>\n",
       "      <th>2022-06-19</th>\n",
       "      <td>150.000000</td>\n",
       "      <td>1663.0</td>\n",
       "      <td>55710.5</td>\n",
       "      <td>1621.5</td>\n",
       "      <td>8.000000</td>\n",
       "    </tr>\n",
       "    <tr>\n",
       "      <th>2022-06-22</th>\n",
       "      <td>166.666667</td>\n",
       "      <td>1844.0</td>\n",
       "      <td>53783.0</td>\n",
       "      <td>-1279.0</td>\n",
       "      <td>5.666667</td>\n",
       "    </tr>\n",
       "    <tr>\n",
       "      <th>2022-06-25</th>\n",
       "      <td>100.000000</td>\n",
       "      <td>1901.0</td>\n",
       "      <td>53203.5</td>\n",
       "      <td>586.5</td>\n",
       "      <td>2.500000</td>\n",
       "    </tr>\n",
       "    <tr>\n",
       "      <th>2022-07-01</th>\n",
       "      <td>150.000000</td>\n",
       "      <td>1965.0</td>\n",
       "      <td>65667.0</td>\n",
       "      <td>9.5</td>\n",
       "      <td>9.500000</td>\n",
       "    </tr>\n",
       "  </tbody>\n",
       "</table>\n",
       "</div>"
      ],
      "text/plain": [
       "            participantid  gamelength  totalgold  golddiffat15    towers\n",
       "date                                                                    \n",
       "2022-06-16     200.000000      2313.0    68938.0        3345.5  8.000000\n",
       "2022-06-19     150.000000      1663.0    55710.5        1621.5  8.000000\n",
       "2022-06-22     166.666667      1844.0    53783.0       -1279.0  5.666667\n",
       "2022-06-25     100.000000      1901.0    53203.5         586.5  2.500000\n",
       "2022-07-01     150.000000      1965.0    65667.0           9.5  9.500000"
      ]
     },
     "metadata": {},
     "output_type": "display_data"
    }
   ],
   "source": [
    "lck_summer_drx_time_df = lck_summer_drx_df.groupby(pd.Grouper(key='date',freq='D')).mean('golddiffat15')\n",
    "lck_summer_drx_time_df = lck_summer_drx_time_df.dropna()\n",
    "\n",
    "lck_summer_geng_time_df = lck_summer_geng_df.groupby(pd.Grouper(key='date',freq='D')).mean('golddiffat15')\n",
    "lck_summer_geng_time_df = lck_summer_geng_time_df.dropna()\n",
    "\n",
    "\n",
    "lck_summer_t1_time_df = lck_summer_t1_df.groupby(pd.Grouper(key='date',freq='D')).mean('golddiffat15')\n",
    "lck_summer_t1_time_df = lck_summer_t1_time_df.dropna()\n",
    "\n",
    "\n",
    "lck_summer_dk_time_df = lck_summer_dk_df.groupby(pd.Grouper(key='date',freq='D')).mean('golddiffat15')\n",
    "lck_summer_dk_time_df = lck_summer_dk_time_df.dropna()\n",
    "lck_summer_dk_time_df.head()"
   ]
  },
  {
   "cell_type": "code",
   "execution_count": 475,
   "metadata": {},
   "outputs": [
    {
     "data": {
      "application/vnd.plotly.v1+json": {
       "config": {
        "plotlyServerURL": "https://plotly.com"
       },
       "data": [
        {
         "mode": "lines+markers",
         "name": "DRX",
         "type": "scatter",
         "x": [
          "2022-06-15T00:00:00",
          "2022-06-18T00:00:00",
          "2022-06-24T00:00:00",
          "2022-06-26T00:00:00",
          "2022-06-29T00:00:00",
          "2022-07-01T00:00:00",
          "2022-07-07T00:00:00",
          "2022-07-10T00:00:00",
          "2022-07-14T00:00:00",
          "2022-07-16T00:00:00",
          "2022-07-20T00:00:00",
          "2022-07-22T00:00:00",
          "2022-07-28T00:00:00",
          "2022-07-30T00:00:00",
          "2022-08-05T00:00:00",
          "2022-08-07T00:00:00",
          "2022-08-11T00:00:00",
          "2022-08-14T00:00:00"
         ],
         "y": [
          -477.5,
          1947,
          -277.3333333333333,
          2228,
          -2.6666666666666665,
          1332,
          2048,
          -1482.5,
          -70,
          602.5,
          26.333333333333332,
          -634,
          -6295.5,
          918.6666666666666,
          -518,
          -632,
          -3309,
          -1575
         ]
        },
        {
         "mode": "lines",
         "name": "Gen.G",
         "type": "scatter",
         "x": [
          "2022-06-16T00:00:00",
          "2022-06-18T00:00:00",
          "2022-06-22T00:00:00",
          "2022-06-24T00:00:00",
          "2022-06-30T00:00:00",
          "2022-07-02T00:00:00",
          "2022-07-08T00:00:00",
          "2022-07-10T00:00:00",
          "2022-07-13T00:00:00",
          "2022-07-17T00:00:00",
          "2022-07-22T00:00:00",
          "2022-07-24T00:00:00",
          "2022-07-28T00:00:00",
          "2022-07-30T00:00:00",
          "2022-08-03T00:00:00",
          "2022-08-05T00:00:00",
          "2022-08-10T00:00:00",
          "2022-08-13T00:00:00"
         ],
         "y": [
          1193.5,
          3344,
          1279,
          -249,
          1739.5,
          3608.5,
          1186.3333333333333,
          1482.5,
          3181,
          4817.5,
          3779,
          2838.5,
          6295.5,
          -1224,
          5733.5,
          436,
          161.5,
          -585.3333333333334
         ]
        },
        {
         "mode": "lines",
         "name": "T1",
         "type": "scatter",
         "x": [
          "2022-06-17T00:00:00",
          "2022-06-19T00:00:00",
          "2022-06-23T00:00:00",
          "2022-06-25T00:00:00",
          "2022-06-29T00:00:00",
          "2022-07-01T00:00:00",
          "2022-07-08T00:00:00",
          "2022-07-10T00:00:00",
          "2022-07-13T00:00:00",
          "2022-07-16T00:00:00",
          "2022-07-21T00:00:00",
          "2022-07-23T00:00:00",
          "2022-07-27T00:00:00",
          "2022-07-30T00:00:00",
          "2022-08-04T00:00:00",
          "2022-08-07T00:00:00",
          "2022-08-10T00:00:00",
          "2022-08-13T00:00:00"
         ],
         "y": [
          1650.5,
          1043.6666666666667,
          4130.5,
          -586.5,
          1294,
          -1332,
          -1186.3333333333333,
          3616.5,
          2910.3333333333335,
          -602.5,
          107.33333333333333,
          1791,
          335.6666666666667,
          1224,
          1594,
          1060.6666666666667,
          -1251.5,
          2132.5
         ]
        },
        {
         "mode": "lines",
         "name": "DWG KIA",
         "type": "scatter",
         "x": [
          "2022-06-16T00:00:00",
          "2022-06-19T00:00:00",
          "2022-06-22T00:00:00",
          "2022-06-25T00:00:00",
          "2022-07-01T00:00:00",
          "2022-07-03T00:00:00",
          "2022-07-07T00:00:00",
          "2022-07-09T00:00:00",
          "2022-07-14T00:00:00",
          "2022-07-17T00:00:00",
          "2022-07-20T00:00:00",
          "2022-07-22T00:00:00",
          "2022-07-27T00:00:00",
          "2022-07-29T00:00:00",
          "2022-08-03T00:00:00",
          "2022-08-05T00:00:00",
          "2022-08-11T00:00:00",
          "2022-08-13T00:00:00"
         ],
         "y": [
          3345.5,
          1621.5,
          -1279,
          586.5,
          9.5,
          1162.5,
          -2048,
          1720,
          1416,
          1085.5,
          2529,
          634,
          1878.3333333333333,
          2588.5,
          637.5,
          -436,
          734.5,
          -2132.5
         ]
        }
       ],
       "layout": {
        "template": {
         "data": {
          "bar": [
           {
            "error_x": {
             "color": "#2a3f5f"
            },
            "error_y": {
             "color": "#2a3f5f"
            },
            "marker": {
             "line": {
              "color": "#E5ECF6",
              "width": 0.5
             },
             "pattern": {
              "fillmode": "overlay",
              "size": 10,
              "solidity": 0.2
             }
            },
            "type": "bar"
           }
          ],
          "barpolar": [
           {
            "marker": {
             "line": {
              "color": "#E5ECF6",
              "width": 0.5
             },
             "pattern": {
              "fillmode": "overlay",
              "size": 10,
              "solidity": 0.2
             }
            },
            "type": "barpolar"
           }
          ],
          "carpet": [
           {
            "aaxis": {
             "endlinecolor": "#2a3f5f",
             "gridcolor": "white",
             "linecolor": "white",
             "minorgridcolor": "white",
             "startlinecolor": "#2a3f5f"
            },
            "baxis": {
             "endlinecolor": "#2a3f5f",
             "gridcolor": "white",
             "linecolor": "white",
             "minorgridcolor": "white",
             "startlinecolor": "#2a3f5f"
            },
            "type": "carpet"
           }
          ],
          "choropleth": [
           {
            "colorbar": {
             "outlinewidth": 0,
             "ticks": ""
            },
            "type": "choropleth"
           }
          ],
          "contour": [
           {
            "colorbar": {
             "outlinewidth": 0,
             "ticks": ""
            },
            "colorscale": [
             [
              0,
              "#0d0887"
             ],
             [
              0.1111111111111111,
              "#46039f"
             ],
             [
              0.2222222222222222,
              "#7201a8"
             ],
             [
              0.3333333333333333,
              "#9c179e"
             ],
             [
              0.4444444444444444,
              "#bd3786"
             ],
             [
              0.5555555555555556,
              "#d8576b"
             ],
             [
              0.6666666666666666,
              "#ed7953"
             ],
             [
              0.7777777777777778,
              "#fb9f3a"
             ],
             [
              0.8888888888888888,
              "#fdca26"
             ],
             [
              1,
              "#f0f921"
             ]
            ],
            "type": "contour"
           }
          ],
          "contourcarpet": [
           {
            "colorbar": {
             "outlinewidth": 0,
             "ticks": ""
            },
            "type": "contourcarpet"
           }
          ],
          "heatmap": [
           {
            "colorbar": {
             "outlinewidth": 0,
             "ticks": ""
            },
            "colorscale": [
             [
              0,
              "#0d0887"
             ],
             [
              0.1111111111111111,
              "#46039f"
             ],
             [
              0.2222222222222222,
              "#7201a8"
             ],
             [
              0.3333333333333333,
              "#9c179e"
             ],
             [
              0.4444444444444444,
              "#bd3786"
             ],
             [
              0.5555555555555556,
              "#d8576b"
             ],
             [
              0.6666666666666666,
              "#ed7953"
             ],
             [
              0.7777777777777778,
              "#fb9f3a"
             ],
             [
              0.8888888888888888,
              "#fdca26"
             ],
             [
              1,
              "#f0f921"
             ]
            ],
            "type": "heatmap"
           }
          ],
          "heatmapgl": [
           {
            "colorbar": {
             "outlinewidth": 0,
             "ticks": ""
            },
            "colorscale": [
             [
              0,
              "#0d0887"
             ],
             [
              0.1111111111111111,
              "#46039f"
             ],
             [
              0.2222222222222222,
              "#7201a8"
             ],
             [
              0.3333333333333333,
              "#9c179e"
             ],
             [
              0.4444444444444444,
              "#bd3786"
             ],
             [
              0.5555555555555556,
              "#d8576b"
             ],
             [
              0.6666666666666666,
              "#ed7953"
             ],
             [
              0.7777777777777778,
              "#fb9f3a"
             ],
             [
              0.8888888888888888,
              "#fdca26"
             ],
             [
              1,
              "#f0f921"
             ]
            ],
            "type": "heatmapgl"
           }
          ],
          "histogram": [
           {
            "marker": {
             "pattern": {
              "fillmode": "overlay",
              "size": 10,
              "solidity": 0.2
             }
            },
            "type": "histogram"
           }
          ],
          "histogram2d": [
           {
            "colorbar": {
             "outlinewidth": 0,
             "ticks": ""
            },
            "colorscale": [
             [
              0,
              "#0d0887"
             ],
             [
              0.1111111111111111,
              "#46039f"
             ],
             [
              0.2222222222222222,
              "#7201a8"
             ],
             [
              0.3333333333333333,
              "#9c179e"
             ],
             [
              0.4444444444444444,
              "#bd3786"
             ],
             [
              0.5555555555555556,
              "#d8576b"
             ],
             [
              0.6666666666666666,
              "#ed7953"
             ],
             [
              0.7777777777777778,
              "#fb9f3a"
             ],
             [
              0.8888888888888888,
              "#fdca26"
             ],
             [
              1,
              "#f0f921"
             ]
            ],
            "type": "histogram2d"
           }
          ],
          "histogram2dcontour": [
           {
            "colorbar": {
             "outlinewidth": 0,
             "ticks": ""
            },
            "colorscale": [
             [
              0,
              "#0d0887"
             ],
             [
              0.1111111111111111,
              "#46039f"
             ],
             [
              0.2222222222222222,
              "#7201a8"
             ],
             [
              0.3333333333333333,
              "#9c179e"
             ],
             [
              0.4444444444444444,
              "#bd3786"
             ],
             [
              0.5555555555555556,
              "#d8576b"
             ],
             [
              0.6666666666666666,
              "#ed7953"
             ],
             [
              0.7777777777777778,
              "#fb9f3a"
             ],
             [
              0.8888888888888888,
              "#fdca26"
             ],
             [
              1,
              "#f0f921"
             ]
            ],
            "type": "histogram2dcontour"
           }
          ],
          "mesh3d": [
           {
            "colorbar": {
             "outlinewidth": 0,
             "ticks": ""
            },
            "type": "mesh3d"
           }
          ],
          "parcoords": [
           {
            "line": {
             "colorbar": {
              "outlinewidth": 0,
              "ticks": ""
             }
            },
            "type": "parcoords"
           }
          ],
          "pie": [
           {
            "automargin": true,
            "type": "pie"
           }
          ],
          "scatter": [
           {
            "fillpattern": {
             "fillmode": "overlay",
             "size": 10,
             "solidity": 0.2
            },
            "type": "scatter"
           }
          ],
          "scatter3d": [
           {
            "line": {
             "colorbar": {
              "outlinewidth": 0,
              "ticks": ""
             }
            },
            "marker": {
             "colorbar": {
              "outlinewidth": 0,
              "ticks": ""
             }
            },
            "type": "scatter3d"
           }
          ],
          "scattercarpet": [
           {
            "marker": {
             "colorbar": {
              "outlinewidth": 0,
              "ticks": ""
             }
            },
            "type": "scattercarpet"
           }
          ],
          "scattergeo": [
           {
            "marker": {
             "colorbar": {
              "outlinewidth": 0,
              "ticks": ""
             }
            },
            "type": "scattergeo"
           }
          ],
          "scattergl": [
           {
            "marker": {
             "colorbar": {
              "outlinewidth": 0,
              "ticks": ""
             }
            },
            "type": "scattergl"
           }
          ],
          "scattermapbox": [
           {
            "marker": {
             "colorbar": {
              "outlinewidth": 0,
              "ticks": ""
             }
            },
            "type": "scattermapbox"
           }
          ],
          "scatterpolar": [
           {
            "marker": {
             "colorbar": {
              "outlinewidth": 0,
              "ticks": ""
             }
            },
            "type": "scatterpolar"
           }
          ],
          "scatterpolargl": [
           {
            "marker": {
             "colorbar": {
              "outlinewidth": 0,
              "ticks": ""
             }
            },
            "type": "scatterpolargl"
           }
          ],
          "scatterternary": [
           {
            "marker": {
             "colorbar": {
              "outlinewidth": 0,
              "ticks": ""
             }
            },
            "type": "scatterternary"
           }
          ],
          "surface": [
           {
            "colorbar": {
             "outlinewidth": 0,
             "ticks": ""
            },
            "colorscale": [
             [
              0,
              "#0d0887"
             ],
             [
              0.1111111111111111,
              "#46039f"
             ],
             [
              0.2222222222222222,
              "#7201a8"
             ],
             [
              0.3333333333333333,
              "#9c179e"
             ],
             [
              0.4444444444444444,
              "#bd3786"
             ],
             [
              0.5555555555555556,
              "#d8576b"
             ],
             [
              0.6666666666666666,
              "#ed7953"
             ],
             [
              0.7777777777777778,
              "#fb9f3a"
             ],
             [
              0.8888888888888888,
              "#fdca26"
             ],
             [
              1,
              "#f0f921"
             ]
            ],
            "type": "surface"
           }
          ],
          "table": [
           {
            "cells": {
             "fill": {
              "color": "#EBF0F8"
             },
             "line": {
              "color": "white"
             }
            },
            "header": {
             "fill": {
              "color": "#C8D4E3"
             },
             "line": {
              "color": "white"
             }
            },
            "type": "table"
           }
          ]
         },
         "layout": {
          "annotationdefaults": {
           "arrowcolor": "#2a3f5f",
           "arrowhead": 0,
           "arrowwidth": 1
          },
          "autotypenumbers": "strict",
          "coloraxis": {
           "colorbar": {
            "outlinewidth": 0,
            "ticks": ""
           }
          },
          "colorscale": {
           "diverging": [
            [
             0,
             "#8e0152"
            ],
            [
             0.1,
             "#c51b7d"
            ],
            [
             0.2,
             "#de77ae"
            ],
            [
             0.3,
             "#f1b6da"
            ],
            [
             0.4,
             "#fde0ef"
            ],
            [
             0.5,
             "#f7f7f7"
            ],
            [
             0.6,
             "#e6f5d0"
            ],
            [
             0.7,
             "#b8e186"
            ],
            [
             0.8,
             "#7fbc41"
            ],
            [
             0.9,
             "#4d9221"
            ],
            [
             1,
             "#276419"
            ]
           ],
           "sequential": [
            [
             0,
             "#0d0887"
            ],
            [
             0.1111111111111111,
             "#46039f"
            ],
            [
             0.2222222222222222,
             "#7201a8"
            ],
            [
             0.3333333333333333,
             "#9c179e"
            ],
            [
             0.4444444444444444,
             "#bd3786"
            ],
            [
             0.5555555555555556,
             "#d8576b"
            ],
            [
             0.6666666666666666,
             "#ed7953"
            ],
            [
             0.7777777777777778,
             "#fb9f3a"
            ],
            [
             0.8888888888888888,
             "#fdca26"
            ],
            [
             1,
             "#f0f921"
            ]
           ],
           "sequentialminus": [
            [
             0,
             "#0d0887"
            ],
            [
             0.1111111111111111,
             "#46039f"
            ],
            [
             0.2222222222222222,
             "#7201a8"
            ],
            [
             0.3333333333333333,
             "#9c179e"
            ],
            [
             0.4444444444444444,
             "#bd3786"
            ],
            [
             0.5555555555555556,
             "#d8576b"
            ],
            [
             0.6666666666666666,
             "#ed7953"
            ],
            [
             0.7777777777777778,
             "#fb9f3a"
            ],
            [
             0.8888888888888888,
             "#fdca26"
            ],
            [
             1,
             "#f0f921"
            ]
           ]
          },
          "colorway": [
           "#636efa",
           "#EF553B",
           "#00cc96",
           "#ab63fa",
           "#FFA15A",
           "#19d3f3",
           "#FF6692",
           "#B6E880",
           "#FF97FF",
           "#FECB52"
          ],
          "font": {
           "color": "#2a3f5f"
          },
          "geo": {
           "bgcolor": "white",
           "lakecolor": "white",
           "landcolor": "#E5ECF6",
           "showlakes": true,
           "showland": true,
           "subunitcolor": "white"
          },
          "hoverlabel": {
           "align": "left"
          },
          "hovermode": "closest",
          "mapbox": {
           "style": "light"
          },
          "paper_bgcolor": "white",
          "plot_bgcolor": "#E5ECF6",
          "polar": {
           "angularaxis": {
            "gridcolor": "white",
            "linecolor": "white",
            "ticks": ""
           },
           "bgcolor": "#E5ECF6",
           "radialaxis": {
            "gridcolor": "white",
            "linecolor": "white",
            "ticks": ""
           }
          },
          "scene": {
           "xaxis": {
            "backgroundcolor": "#E5ECF6",
            "gridcolor": "white",
            "gridwidth": 2,
            "linecolor": "white",
            "showbackground": true,
            "ticks": "",
            "zerolinecolor": "white"
           },
           "yaxis": {
            "backgroundcolor": "#E5ECF6",
            "gridcolor": "white",
            "gridwidth": 2,
            "linecolor": "white",
            "showbackground": true,
            "ticks": "",
            "zerolinecolor": "white"
           },
           "zaxis": {
            "backgroundcolor": "#E5ECF6",
            "gridcolor": "white",
            "gridwidth": 2,
            "linecolor": "white",
            "showbackground": true,
            "ticks": "",
            "zerolinecolor": "white"
           }
          },
          "shapedefaults": {
           "line": {
            "color": "#2a3f5f"
           }
          },
          "ternary": {
           "aaxis": {
            "gridcolor": "white",
            "linecolor": "white",
            "ticks": ""
           },
           "baxis": {
            "gridcolor": "white",
            "linecolor": "white",
            "ticks": ""
           },
           "bgcolor": "#E5ECF6",
           "caxis": {
            "gridcolor": "white",
            "linecolor": "white",
            "ticks": ""
           }
          },
          "title": {
           "x": 0.05
          },
          "xaxis": {
           "automargin": true,
           "gridcolor": "white",
           "linecolor": "white",
           "ticks": "",
           "title": {
            "standoff": 15
           },
           "zerolinecolor": "white",
           "zerolinewidth": 2
          },
          "yaxis": {
           "automargin": true,
           "gridcolor": "white",
           "linecolor": "white",
           "ticks": "",
           "title": {
            "standoff": 15
           },
           "zerolinecolor": "white",
           "zerolinewidth": 2
          }
         }
        },
        "title": {
         "text": "LCK Summer 경기일자별 golddiff 추세",
         "x": 0.5,
         "xanchor": "auto",
         "y": 0.9,
         "yanchor": "auto"
        }
       }
      }
     },
     "metadata": {},
     "output_type": "display_data"
    }
   ],
   "source": [
    "fig_time = go.Figure()\n",
    "\n",
    "\n",
    "# 추가 할 그래프 그리기\n",
    "\n",
    "fig_time.add_trace(go.Scatter(x=lck_summer_drx_time_df.index, y=lck_summer_drx_time_df['golddiffat15'],\n",
    "                    mode='lines+markers',\n",
    "                    name='DRX'))\n",
    "\n",
    "fig_time.add_trace(go.Scatter(x=lck_summer_geng_time_df.index, y=lck_summer_geng_time_df['golddiffat15'],\n",
    "                    mode='lines',\n",
    "                    name='Gen.G'))\n",
    "\n",
    "fig_time.add_trace(go.Scatter(x=lck_summer_t1_time_df.index, y=lck_summer_t1_time_df['golddiffat15'],\n",
    "                    mode='lines',\n",
    "                    name='T1'))\n",
    "\n",
    "fig_time.add_trace(go.Scatter(x=lck_summer_dk_time_df.index, y=lck_summer_dk_time_df['golddiffat15'],\n",
    "                    mode='lines',\n",
    "                    name='DWG KIA'))\n",
    "\n",
    "# fig.add_trace(go.Scatter(x=random_x, y=random_y1,\n",
    "#                     mode='lines+markers',\n",
    "#                     name='lines+markers'))\n",
    "# fig.add_trace(go.Scatter(x=random_x, y=random_y2,\n",
    "#                     mode='markers', \n",
    "#                     name='markers'))\n",
    "\n",
    "fig_time.update_layout(\n",
    "                title_text=\"LCK Summer 경기일자별 golddiff 추세\",\n",
    "                title_x = 0.5,\n",
    "                title_y = 0.9,\n",
    "                title_xanchor = \"auto\",\n",
    "                title_yanchor = \"auto\")\n",
    "fig_time.show()"
   ]
  },
  {
   "cell_type": "code",
   "execution_count": 476,
   "metadata": {},
   "outputs": [
    {
     "data": {
      "text/plain": [
       "'https://plotly.com/~damidaa/7/'"
      ]
     },
     "execution_count": 476,
     "metadata": {},
     "output_type": "execute_result"
    }
   ],
   "source": [
    "username = 'damidaa'  # 자신의 username (plotly account를 만들어야 함)\n",
    "api_key = 'OuvIp3oI14tS4Sthfgrv'    # 자신의 api key (settings > regenerate key)\n",
    "  \n",
    "chart_studio.tools.set_credentials_file(username=username, api_key=api_key)\n",
    "\n",
    "py.plot(fig_time, filename = '', auto_open=False)  # fig: 작성한 차트를 저장한 변수\n",
    "  ## 위 코드를 실행하면 새로운 window로 해당 차트의 링크가 열리고, notebook에도 link를 아래에 return해줌"
   ]
  },
  {
   "cell_type": "code",
   "execution_count": 368,
   "metadata": {},
   "outputs": [
    {
     "name": "stderr",
     "output_type": "stream",
     "text": [
      "C:\\Users\\Admin\\AppData\\Local\\Temp\\ipykernel_6328\\1378851781.py:6: SettingWithCopyWarning:\n",
      "\n",
      "\n",
      "A value is trying to be set on a copy of a slice from a DataFrame.\n",
      "Try using .loc[row_indexer,col_indexer] = value instead\n",
      "\n",
      "See the caveats in the documentation: https://pandas.pydata.org/pandas-docs/stable/user_guide/indexing.html#returning-a-view-versus-a-copy\n",
      "\n"
     ]
    },
    {
     "data": {
      "text/html": [
       "<div>\n",
       "<style scoped>\n",
       "    .dataframe tbody tr th:only-of-type {\n",
       "        vertical-align: middle;\n",
       "    }\n",
       "\n",
       "    .dataframe tbody tr th {\n",
       "        vertical-align: top;\n",
       "    }\n",
       "\n",
       "    .dataframe thead th {\n",
       "        text-align: right;\n",
       "    }\n",
       "</style>\n",
       "<table border=\"1\" class=\"dataframe\">\n",
       "  <thead>\n",
       "    <tr style=\"text-align: right;\">\n",
       "      <th></th>\n",
       "      <th>gameid</th>\n",
       "      <th>participantid</th>\n",
       "      <th>side</th>\n",
       "      <th>league</th>\n",
       "      <th>split</th>\n",
       "      <th>teamname</th>\n",
       "      <th>date</th>\n",
       "      <th>gamelength</th>\n",
       "      <th>result</th>\n",
       "      <th>totalgold</th>\n",
       "      <th>golddiffat15</th>\n",
       "      <th>towers</th>\n",
       "    </tr>\n",
       "  </thead>\n",
       "  <tbody>\n",
       "    <tr>\n",
       "      <th>124666</th>\n",
       "      <td>ESPORTSTMNT04_2451564</td>\n",
       "      <td>100</td>\n",
       "      <td>Blue</td>\n",
       "      <td>LCK</td>\n",
       "      <td>Summer</td>\n",
       "      <td>Liiv SANDBOX</td>\n",
       "      <td>2022-08-17 06:17:37</td>\n",
       "      <td>1832</td>\n",
       "      <td>win</td>\n",
       "      <td>55223</td>\n",
       "      <td>761.0</td>\n",
       "      <td>9.0</td>\n",
       "    </tr>\n",
       "    <tr>\n",
       "      <th>124667</th>\n",
       "      <td>ESPORTSTMNT04_2451564</td>\n",
       "      <td>200</td>\n",
       "      <td>Red</td>\n",
       "      <td>LCK</td>\n",
       "      <td>Summer</td>\n",
       "      <td>DRX</td>\n",
       "      <td>2022-08-17 06:17:37</td>\n",
       "      <td>1832</td>\n",
       "      <td>lose</td>\n",
       "      <td>48921</td>\n",
       "      <td>-761.0</td>\n",
       "      <td>3.0</td>\n",
       "    </tr>\n",
       "    <tr>\n",
       "      <th>124702</th>\n",
       "      <td>ESPORTSTMNT04_2451579</td>\n",
       "      <td>100</td>\n",
       "      <td>Blue</td>\n",
       "      <td>LCK</td>\n",
       "      <td>Summer</td>\n",
       "      <td>DRX</td>\n",
       "      <td>2022-08-17 08:39:14</td>\n",
       "      <td>1918</td>\n",
       "      <td>lose</td>\n",
       "      <td>51592</td>\n",
       "      <td>1099.0</td>\n",
       "      <td>2.0</td>\n",
       "    </tr>\n",
       "    <tr>\n",
       "      <th>124703</th>\n",
       "      <td>ESPORTSTMNT04_2451579</td>\n",
       "      <td>200</td>\n",
       "      <td>Red</td>\n",
       "      <td>LCK</td>\n",
       "      <td>Summer</td>\n",
       "      <td>Liiv SANDBOX</td>\n",
       "      <td>2022-08-17 08:39:14</td>\n",
       "      <td>1918</td>\n",
       "      <td>win</td>\n",
       "      <td>62747</td>\n",
       "      <td>-1099.0</td>\n",
       "      <td>9.0</td>\n",
       "    </tr>\n",
       "    <tr>\n",
       "      <th>124738</th>\n",
       "      <td>ESPORTSTMNT04_2451580</td>\n",
       "      <td>100</td>\n",
       "      <td>Blue</td>\n",
       "      <td>LCK</td>\n",
       "      <td>Summer</td>\n",
       "      <td>DRX</td>\n",
       "      <td>2022-08-17 09:33:42</td>\n",
       "      <td>2110</td>\n",
       "      <td>win</td>\n",
       "      <td>67482</td>\n",
       "      <td>342.0</td>\n",
       "      <td>11.0</td>\n",
       "    </tr>\n",
       "    <tr>\n",
       "      <th>124739</th>\n",
       "      <td>ESPORTSTMNT04_2451580</td>\n",
       "      <td>200</td>\n",
       "      <td>Red</td>\n",
       "      <td>LCK</td>\n",
       "      <td>Summer</td>\n",
       "      <td>Liiv SANDBOX</td>\n",
       "      <td>2022-08-17 09:33:42</td>\n",
       "      <td>2110</td>\n",
       "      <td>lose</td>\n",
       "      <td>55355</td>\n",
       "      <td>-342.0</td>\n",
       "      <td>1.0</td>\n",
       "    </tr>\n",
       "  </tbody>\n",
       "</table>\n",
       "</div>"
      ],
      "text/plain": [
       "                       gameid  participantid  side league   split  \\\n",
       "124666  ESPORTSTMNT04_2451564            100  Blue    LCK  Summer   \n",
       "124667  ESPORTSTMNT04_2451564            200   Red    LCK  Summer   \n",
       "124702  ESPORTSTMNT04_2451579            100  Blue    LCK  Summer   \n",
       "124703  ESPORTSTMNT04_2451579            200   Red    LCK  Summer   \n",
       "124738  ESPORTSTMNT04_2451580            100  Blue    LCK  Summer   \n",
       "124739  ESPORTSTMNT04_2451580            200   Red    LCK  Summer   \n",
       "\n",
       "            teamname                date  gamelength result  totalgold  \\\n",
       "124666  Liiv SANDBOX 2022-08-17 06:17:37        1832    win      55223   \n",
       "124667           DRX 2022-08-17 06:17:37        1832   lose      48921   \n",
       "124702           DRX 2022-08-17 08:39:14        1918   lose      51592   \n",
       "124703  Liiv SANDBOX 2022-08-17 08:39:14        1918    win      62747   \n",
       "124738           DRX 2022-08-17 09:33:42        2110    win      67482   \n",
       "124739  Liiv SANDBOX 2022-08-17 09:33:42        2110   lose      55355   \n",
       "\n",
       "        golddiffat15  towers  \n",
       "124666         761.0     9.0  \n",
       "124667        -761.0     3.0  \n",
       "124702        1099.0     2.0  \n",
       "124703       -1099.0     9.0  \n",
       "124738         342.0    11.0  \n",
       "124739        -342.0     1.0  "
      ]
     },
     "execution_count": 368,
     "metadata": {},
     "output_type": "execute_result"
    }
   ],
   "source": [
    "lck_summer_po_df = lck_summer_po[ ['gameid','participantid','side','league','split','teamname','date', \\\n",
    "    'gamelength','result','totalgold','golddiffat15','towers'] ]\n",
    "\n",
    "lck_summer_po_team_df = lck_summer_po_df[ (lck_summer_po_df['participantid'] == 100) | (lck_summer_po_df['participantid'] == 200 ) ]\n",
    "\n",
    "lck_summer_po_team_df['result'] = np.where( lck_summer_po_team_df['result'] == 0 , 'lose', 'win')\n",
    "\n",
    "lck_summer_po_team_df.head(6)"
   ]
  },
  {
   "cell_type": "code",
   "execution_count": 367,
   "metadata": {},
   "outputs": [
    {
     "data": {
      "text/html": [
       "<div>\n",
       "<style scoped>\n",
       "    .dataframe tbody tr th:only-of-type {\n",
       "        vertical-align: middle;\n",
       "    }\n",
       "\n",
       "    .dataframe tbody tr th {\n",
       "        vertical-align: top;\n",
       "    }\n",
       "\n",
       "    .dataframe thead th {\n",
       "        text-align: right;\n",
       "    }\n",
       "</style>\n",
       "<table border=\"1\" class=\"dataframe\">\n",
       "  <thead>\n",
       "    <tr style=\"text-align: right;\">\n",
       "      <th></th>\n",
       "      <th>gameid</th>\n",
       "      <th>participantid</th>\n",
       "      <th>side</th>\n",
       "      <th>league</th>\n",
       "      <th>split</th>\n",
       "      <th>teamname</th>\n",
       "      <th>date</th>\n",
       "      <th>gamelength</th>\n",
       "      <th>result</th>\n",
       "      <th>totalgold</th>\n",
       "      <th>golddiffat15</th>\n",
       "      <th>towers</th>\n",
       "    </tr>\n",
       "  </thead>\n",
       "  <tbody>\n",
       "    <tr>\n",
       "      <th>124667</th>\n",
       "      <td>ESPORTSTMNT04_2451564</td>\n",
       "      <td>200</td>\n",
       "      <td>Red</td>\n",
       "      <td>LCK</td>\n",
       "      <td>Summer</td>\n",
       "      <td>DRX</td>\n",
       "      <td>2022-08-17 06:17:37</td>\n",
       "      <td>1832</td>\n",
       "      <td>lose</td>\n",
       "      <td>48921</td>\n",
       "      <td>-761.0</td>\n",
       "      <td>3.0</td>\n",
       "    </tr>\n",
       "    <tr>\n",
       "      <th>124702</th>\n",
       "      <td>ESPORTSTMNT04_2451579</td>\n",
       "      <td>100</td>\n",
       "      <td>Blue</td>\n",
       "      <td>LCK</td>\n",
       "      <td>Summer</td>\n",
       "      <td>DRX</td>\n",
       "      <td>2022-08-17 08:39:14</td>\n",
       "      <td>1918</td>\n",
       "      <td>lose</td>\n",
       "      <td>51592</td>\n",
       "      <td>1099.0</td>\n",
       "      <td>2.0</td>\n",
       "    </tr>\n",
       "    <tr>\n",
       "      <th>124738</th>\n",
       "      <td>ESPORTSTMNT04_2451580</td>\n",
       "      <td>100</td>\n",
       "      <td>Blue</td>\n",
       "      <td>LCK</td>\n",
       "      <td>Summer</td>\n",
       "      <td>DRX</td>\n",
       "      <td>2022-08-17 09:33:42</td>\n",
       "      <td>2110</td>\n",
       "      <td>win</td>\n",
       "      <td>67482</td>\n",
       "      <td>342.0</td>\n",
       "      <td>11.0</td>\n",
       "    </tr>\n",
       "    <tr>\n",
       "      <th>124775</th>\n",
       "      <td>ESPORTSTMNT04_2451582</td>\n",
       "      <td>200</td>\n",
       "      <td>Red</td>\n",
       "      <td>LCK</td>\n",
       "      <td>Summer</td>\n",
       "      <td>DRX</td>\n",
       "      <td>2022-08-17 10:32:27</td>\n",
       "      <td>3074</td>\n",
       "      <td>lose</td>\n",
       "      <td>84181</td>\n",
       "      <td>1205.0</td>\n",
       "      <td>5.0</td>\n",
       "    </tr>\n",
       "  </tbody>\n",
       "</table>\n",
       "</div>"
      ],
      "text/plain": [
       "                       gameid  participantid  side league   split teamname  \\\n",
       "124667  ESPORTSTMNT04_2451564            200   Red    LCK  Summer      DRX   \n",
       "124702  ESPORTSTMNT04_2451579            100  Blue    LCK  Summer      DRX   \n",
       "124738  ESPORTSTMNT04_2451580            100  Blue    LCK  Summer      DRX   \n",
       "124775  ESPORTSTMNT04_2451582            200   Red    LCK  Summer      DRX   \n",
       "\n",
       "                      date  gamelength result  totalgold  golddiffat15  towers  \n",
       "124667 2022-08-17 06:17:37        1832   lose      48921        -761.0     3.0  \n",
       "124702 2022-08-17 08:39:14        1918   lose      51592        1099.0     2.0  \n",
       "124738 2022-08-17 09:33:42        2110    win      67482         342.0    11.0  \n",
       "124775 2022-08-17 10:32:27        3074   lose      84181        1205.0     5.0  "
      ]
     },
     "execution_count": 367,
     "metadata": {},
     "output_type": "execute_result"
    }
   ],
   "source": [
    "lck_summer_po_team_df[lck_summer_po_team_df['teamname']=='DRX']"
   ]
  },
  {
   "cell_type": "markdown",
   "metadata": {},
   "source": [
    "---"
   ]
  },
  {
   "cell_type": "code",
   "execution_count": 395,
   "metadata": {},
   "outputs": [
    {
     "data": {
      "text/html": [
       "<div>\n",
       "<style scoped>\n",
       "    .dataframe tbody tr th:only-of-type {\n",
       "        vertical-align: middle;\n",
       "    }\n",
       "\n",
       "    .dataframe tbody tr th {\n",
       "        vertical-align: top;\n",
       "    }\n",
       "\n",
       "    .dataframe thead th {\n",
       "        text-align: right;\n",
       "    }\n",
       "</style>\n",
       "<table border=\"1\" class=\"dataframe\">\n",
       "  <thead>\n",
       "    <tr style=\"text-align: right;\">\n",
       "      <th></th>\n",
       "      <th>gameid</th>\n",
       "      <th>playername</th>\n",
       "      <th>participantid</th>\n",
       "      <th>side</th>\n",
       "      <th>league</th>\n",
       "      <th>split</th>\n",
       "      <th>teamname</th>\n",
       "      <th>date</th>\n",
       "      <th>totalgold</th>\n",
       "      <th>gamelength</th>\n",
       "      <th>result</th>\n",
       "      <th>dpm</th>\n",
       "      <th>damagetakenperminute</th>\n",
       "      <th>goldat15</th>\n",
       "      <th>xpat15</th>\n",
       "      <th>cspm</th>\n",
       "      <th>visionscore</th>\n",
       "    </tr>\n",
       "  </thead>\n",
       "  <tbody>\n",
       "    <tr>\n",
       "      <th>78317</th>\n",
       "      <td>ESPORTSTMNT02_2820303</td>\n",
       "      <td>Kingen</td>\n",
       "      <td>6</td>\n",
       "      <td>Red</td>\n",
       "      <td>LCK</td>\n",
       "      <td>Summer</td>\n",
       "      <td>DRX</td>\n",
       "      <td>2022-06-15 10:59:29</td>\n",
       "      <td>23011</td>\n",
       "      <td>2804</td>\n",
       "      <td>1</td>\n",
       "      <td>445.9558</td>\n",
       "      <td>502.1469</td>\n",
       "      <td>6445.0</td>\n",
       "      <td>7860.0</td>\n",
       "      <td>10.2710</td>\n",
       "      <td>82.0</td>\n",
       "    </tr>\n",
       "    <tr>\n",
       "      <th>78318</th>\n",
       "      <td>ESPORTSTMNT02_2820303</td>\n",
       "      <td>Pyosik</td>\n",
       "      <td>7</td>\n",
       "      <td>Red</td>\n",
       "      <td>LCK</td>\n",
       "      <td>Summer</td>\n",
       "      <td>DRX</td>\n",
       "      <td>2022-06-15 10:59:29</td>\n",
       "      <td>17328</td>\n",
       "      <td>2804</td>\n",
       "      <td>1</td>\n",
       "      <td>212.6106</td>\n",
       "      <td>732.7960</td>\n",
       "      <td>5587.0</td>\n",
       "      <td>5857.0</td>\n",
       "      <td>5.6491</td>\n",
       "      <td>96.0</td>\n",
       "    </tr>\n",
       "    <tr>\n",
       "      <th>78319</th>\n",
       "      <td>ESPORTSTMNT02_2820303</td>\n",
       "      <td>ZEKA</td>\n",
       "      <td>8</td>\n",
       "      <td>Red</td>\n",
       "      <td>LCK</td>\n",
       "      <td>Summer</td>\n",
       "      <td>DRX</td>\n",
       "      <td>2022-06-15 10:59:29</td>\n",
       "      <td>19849</td>\n",
       "      <td>2804</td>\n",
       "      <td>1</td>\n",
       "      <td>415.1213</td>\n",
       "      <td>674.5720</td>\n",
       "      <td>5378.0</td>\n",
       "      <td>7260.0</td>\n",
       "      <td>9.8003</td>\n",
       "      <td>59.0</td>\n",
       "    </tr>\n",
       "    <tr>\n",
       "      <th>78320</th>\n",
       "      <td>ESPORTSTMNT02_2820303</td>\n",
       "      <td>Deft</td>\n",
       "      <td>9</td>\n",
       "      <td>Red</td>\n",
       "      <td>LCK</td>\n",
       "      <td>Summer</td>\n",
       "      <td>DRX</td>\n",
       "      <td>2022-06-15 10:59:29</td>\n",
       "      <td>21633</td>\n",
       "      <td>2804</td>\n",
       "      <td>1</td>\n",
       "      <td>1023.7019</td>\n",
       "      <td>573.9800</td>\n",
       "      <td>5357.0</td>\n",
       "      <td>5778.0</td>\n",
       "      <td>9.5007</td>\n",
       "      <td>59.0</td>\n",
       "    </tr>\n",
       "    <tr>\n",
       "      <th>78321</th>\n",
       "      <td>ESPORTSTMNT02_2820303</td>\n",
       "      <td>BeryL</td>\n",
       "      <td>10</td>\n",
       "      <td>Red</td>\n",
       "      <td>LCK</td>\n",
       "      <td>Summer</td>\n",
       "      <td>DRX</td>\n",
       "      <td>2022-06-15 10:59:29</td>\n",
       "      <td>10425</td>\n",
       "      <td>2804</td>\n",
       "      <td>1</td>\n",
       "      <td>58.3738</td>\n",
       "      <td>407.7175</td>\n",
       "      <td>3568.0</td>\n",
       "      <td>4175.0</td>\n",
       "      <td>0.8987</td>\n",
       "      <td>146.0</td>\n",
       "    </tr>\n",
       "  </tbody>\n",
       "</table>\n",
       "</div>"
      ],
      "text/plain": [
       "                      gameid playername  participantid side league   split  \\\n",
       "78317  ESPORTSTMNT02_2820303     Kingen              6  Red    LCK  Summer   \n",
       "78318  ESPORTSTMNT02_2820303     Pyosik              7  Red    LCK  Summer   \n",
       "78319  ESPORTSTMNT02_2820303       ZEKA              8  Red    LCK  Summer   \n",
       "78320  ESPORTSTMNT02_2820303       Deft              9  Red    LCK  Summer   \n",
       "78321  ESPORTSTMNT02_2820303      BeryL             10  Red    LCK  Summer   \n",
       "\n",
       "      teamname                date  totalgold  gamelength  result        dpm  \\\n",
       "78317      DRX 2022-06-15 10:59:29      23011        2804       1   445.9558   \n",
       "78318      DRX 2022-06-15 10:59:29      17328        2804       1   212.6106   \n",
       "78319      DRX 2022-06-15 10:59:29      19849        2804       1   415.1213   \n",
       "78320      DRX 2022-06-15 10:59:29      21633        2804       1  1023.7019   \n",
       "78321      DRX 2022-06-15 10:59:29      10425        2804       1    58.3738   \n",
       "\n",
       "       damagetakenperminute  goldat15  xpat15     cspm  visionscore  \n",
       "78317              502.1469    6445.0  7860.0  10.2710         82.0  \n",
       "78318              732.7960    5587.0  5857.0   5.6491         96.0  \n",
       "78319              674.5720    5378.0  7260.0   9.8003         59.0  \n",
       "78320              573.9800    5357.0  5778.0   9.5007         59.0  \n",
       "78321              407.7175    3568.0  4175.0   0.8987        146.0  "
      ]
     },
     "execution_count": 395,
     "metadata": {},
     "output_type": "execute_result"
    }
   ],
   "source": [
    "lck_summer_df = lck_summer[ ['gameid','playername','participantid','side','league','split','teamname','date', \\\n",
    "    'totalgold','gamelength','result','dpm','damagetakenperminute','goldat15','xpat15','cspm','visionscore'] ]\n",
    "\n",
    "lck_summer_drxp_df = lck_summer_df[ (lck_summer_df['teamname'] == 'DRX') & (lck_summer_df['participantid'] <= 10 ) ]\n",
    "\n",
    "lck_summer_gengp_df = lck_summer_df[ (lck_summer_df['teamname'] == 'Gen.G') & (lck_summer_df['participantid'] <= 10 ) ]\n",
    "\n",
    "lck_summer_t1p_df = lck_summer_df[ (lck_summer_df['teamname'] == 'T1') & (lck_summer_df['participantid'] <= 10 ) ]\n",
    "\n",
    "lck_summer_dkp_df = lck_summer_df[ (lck_summer_df['teamname'] == 'DWG KIA') & (lck_summer_df['participantid'] <= 10 ) ]\n",
    "\n",
    "lck_summer_drxp_df.head()"
   ]
  },
  {
   "cell_type": "code",
   "execution_count": 396,
   "metadata": {},
   "outputs": [
    {
     "data": {
      "text/html": [
       "<div>\n",
       "<style scoped>\n",
       "    .dataframe tbody tr th:only-of-type {\n",
       "        vertical-align: middle;\n",
       "    }\n",
       "\n",
       "    .dataframe tbody tr th {\n",
       "        vertical-align: top;\n",
       "    }\n",
       "\n",
       "    .dataframe thead th {\n",
       "        text-align: right;\n",
       "    }\n",
       "</style>\n",
       "<table border=\"1\" class=\"dataframe\">\n",
       "  <thead>\n",
       "    <tr style=\"text-align: right;\">\n",
       "      <th></th>\n",
       "      <th>playername</th>\n",
       "      <th>teamname</th>\n",
       "      <th>dpm</th>\n",
       "      <th>damagetakenperminute</th>\n",
       "      <th>goldat15</th>\n",
       "      <th>xpat15</th>\n",
       "      <th>cspm</th>\n",
       "      <th>visionscore</th>\n",
       "    </tr>\n",
       "  </thead>\n",
       "  <tbody>\n",
       "    <tr>\n",
       "      <th>78317</th>\n",
       "      <td>Kingen</td>\n",
       "      <td>DRX</td>\n",
       "      <td>445.9558</td>\n",
       "      <td>502.1469</td>\n",
       "      <td>6445.0</td>\n",
       "      <td>7860.0</td>\n",
       "      <td>10.2710</td>\n",
       "      <td>82.0</td>\n",
       "    </tr>\n",
       "    <tr>\n",
       "      <th>78318</th>\n",
       "      <td>Pyosik</td>\n",
       "      <td>DRX</td>\n",
       "      <td>212.6106</td>\n",
       "      <td>732.7960</td>\n",
       "      <td>5587.0</td>\n",
       "      <td>5857.0</td>\n",
       "      <td>5.6491</td>\n",
       "      <td>96.0</td>\n",
       "    </tr>\n",
       "    <tr>\n",
       "      <th>78319</th>\n",
       "      <td>ZEKA</td>\n",
       "      <td>DRX</td>\n",
       "      <td>415.1213</td>\n",
       "      <td>674.5720</td>\n",
       "      <td>5378.0</td>\n",
       "      <td>7260.0</td>\n",
       "      <td>9.8003</td>\n",
       "      <td>59.0</td>\n",
       "    </tr>\n",
       "    <tr>\n",
       "      <th>78320</th>\n",
       "      <td>Deft</td>\n",
       "      <td>DRX</td>\n",
       "      <td>1023.7019</td>\n",
       "      <td>573.9800</td>\n",
       "      <td>5357.0</td>\n",
       "      <td>5778.0</td>\n",
       "      <td>9.5007</td>\n",
       "      <td>59.0</td>\n",
       "    </tr>\n",
       "    <tr>\n",
       "      <th>78321</th>\n",
       "      <td>BeryL</td>\n",
       "      <td>DRX</td>\n",
       "      <td>58.3738</td>\n",
       "      <td>407.7175</td>\n",
       "      <td>3568.0</td>\n",
       "      <td>4175.0</td>\n",
       "      <td>0.8987</td>\n",
       "      <td>146.0</td>\n",
       "    </tr>\n",
       "  </tbody>\n",
       "</table>\n",
       "</div>"
      ],
      "text/plain": [
       "      playername teamname        dpm  damagetakenperminute  goldat15  xpat15  \\\n",
       "78317     Kingen      DRX   445.9558              502.1469    6445.0  7860.0   \n",
       "78318     Pyosik      DRX   212.6106              732.7960    5587.0  5857.0   \n",
       "78319       ZEKA      DRX   415.1213              674.5720    5378.0  7260.0   \n",
       "78320       Deft      DRX  1023.7019              573.9800    5357.0  5778.0   \n",
       "78321      BeryL      DRX    58.3738              407.7175    3568.0  4175.0   \n",
       "\n",
       "          cspm  visionscore  \n",
       "78317  10.2710         82.0  \n",
       "78318   5.6491         96.0  \n",
       "78319   9.8003         59.0  \n",
       "78320   9.5007         59.0  \n",
       "78321   0.8987        146.0  "
      ]
     },
     "execution_count": 396,
     "metadata": {},
     "output_type": "execute_result"
    }
   ],
   "source": [
    "lck_summer_drxp_score = lck_summer_drxp_df[ ['playername','teamname','dpm','damagetakenperminute','goldat15','xpat15','cspm','visionscore'] ]\n",
    "\n",
    "lck_summer_gengp_score = lck_summer_gengp_df[ ['playername','teamname','dpm','damagetakenperminute','goldat15','xpat15','cspm','visionscore'] ]\n",
    "\n",
    "lck_summer_t1p_score = lck_summer_t1p_df[ ['playername','teamname','dpm','damagetakenperminute','goldat15','xpat15','cspm','visionscore'] ]\n",
    "\n",
    "lck_summer_dkp_score = lck_summer_dkp_df[ ['playername','teamname','dpm','damagetakenperminute','goldat15','xpat15','cspm','visionscore'] ]\n",
    "\n",
    "\n",
    "lck_summer_drxp_score.head()"
   ]
  },
  {
   "cell_type": "code",
   "execution_count": 397,
   "metadata": {},
   "outputs": [],
   "source": [
    "X = lck_summer_drxp_score[['dpm','damagetakenperminute','goldat15','xpat15','cspm','visionscore']]\n",
    "X2 = lck_summer_gengp_score[['dpm','damagetakenperminute','goldat15','xpat15','cspm','visionscore']]\n",
    "X3 = lck_summer_t1p_score[['dpm','damagetakenperminute','goldat15','xpat15','cspm','visionscore']]\n",
    "X4 = lck_summer_dkp_score[['dpm','damagetakenperminute','goldat15','xpat15','cspm','visionscore']]"
   ]
  },
  {
   "cell_type": "code",
   "execution_count": 452,
   "metadata": {},
   "outputs": [
    {
     "data": {
      "text/plain": [
       "array([[0.31387567, 0.36105248, 0.7106599 , 0.90336058, 0.68927431,\n",
       "        0.50769231],\n",
       "       [0.12587431, 0.56466945, 0.5364467 , 0.53950954, 0.37454461,\n",
       "        0.61538462],\n",
       "       [0.28903296, 0.51326932, 0.49401015, 0.79436876, 0.65722185,\n",
       "        0.33076923],\n",
       "       ...,\n",
       "       [0.26993546, 0.290317  , 0.47106599, 0.83324251, 0.59573179,\n",
       "        0.06923077],\n",
       "       [0.29908171, 0.27929763, 0.42010152, 0.39836512, 0.62902358,\n",
       "        0.12307692],\n",
       "       [0.04632341, 0.28646164, 0.06680203, 0.23215259, 0.07420346,\n",
       "        0.46153846]])"
      ]
     },
     "execution_count": 452,
     "metadata": {},
     "output_type": "execute_result"
    }
   ],
   "source": [
    "scaler = MinMaxScaler(feature_range=(0,1)) ## 각 칼럼 데이터 값을 0~1 범위로 변환\n",
    "scaler.fit(X)\n",
    "scaler.fit(X2)\n",
    "scaler.fit(X3)\n",
    "scaler.fit(X4)\n",
    " ## 각 칼럼 데이터마다 변환할 함수 생성\n",
    "transformed_X = scaler.transform(X)\n",
    "transformed_X2 = scaler.transform(X2)\n",
    "transformed_X3 = scaler.transform(X3)\n",
    "transformed_X4 = scaler.transform(X4)\n",
    "\n",
    "\n",
    " ## fit에서 만들어진 함수를 실제로 데이터에 적용\n",
    "transformed_X"
   ]
  },
  {
   "cell_type": "code",
   "execution_count": 453,
   "metadata": {},
   "outputs": [
    {
     "name": "stderr",
     "output_type": "stream",
     "text": [
      "C:\\Users\\Admin\\AppData\\Local\\Temp\\ipykernel_6328\\2021941436.py:1: SettingWithCopyWarning:\n",
      "\n",
      "\n",
      "A value is trying to be set on a copy of a slice from a DataFrame.\n",
      "Try using .loc[row_indexer,col_indexer] = value instead\n",
      "\n",
      "See the caveats in the documentation: https://pandas.pydata.org/pandas-docs/stable/user_guide/indexing.html#returning-a-view-versus-a-copy\n",
      "\n",
      "C:\\Users\\Admin\\AppData\\Local\\Temp\\ipykernel_6328\\2021941436.py:3: SettingWithCopyWarning:\n",
      "\n",
      "\n",
      "A value is trying to be set on a copy of a slice from a DataFrame.\n",
      "Try using .loc[row_indexer,col_indexer] = value instead\n",
      "\n",
      "See the caveats in the documentation: https://pandas.pydata.org/pandas-docs/stable/user_guide/indexing.html#returning-a-view-versus-a-copy\n",
      "\n",
      "C:\\Users\\Admin\\AppData\\Local\\Temp\\ipykernel_6328\\2021941436.py:5: SettingWithCopyWarning:\n",
      "\n",
      "\n",
      "A value is trying to be set on a copy of a slice from a DataFrame.\n",
      "Try using .loc[row_indexer,col_indexer] = value instead\n",
      "\n",
      "See the caveats in the documentation: https://pandas.pydata.org/pandas-docs/stable/user_guide/indexing.html#returning-a-view-versus-a-copy\n",
      "\n",
      "C:\\Users\\Admin\\AppData\\Local\\Temp\\ipykernel_6328\\2021941436.py:7: SettingWithCopyWarning:\n",
      "\n",
      "\n",
      "A value is trying to be set on a copy of a slice from a DataFrame.\n",
      "Try using .loc[row_indexer,col_indexer] = value instead\n",
      "\n",
      "See the caveats in the documentation: https://pandas.pydata.org/pandas-docs/stable/user_guide/indexing.html#returning-a-view-versus-a-copy\n",
      "\n"
     ]
    },
    {
     "data": {
      "text/html": [
       "<div>\n",
       "<style scoped>\n",
       "    .dataframe tbody tr th:only-of-type {\n",
       "        vertical-align: middle;\n",
       "    }\n",
       "\n",
       "    .dataframe tbody tr th {\n",
       "        vertical-align: top;\n",
       "    }\n",
       "\n",
       "    .dataframe thead th {\n",
       "        text-align: right;\n",
       "    }\n",
       "</style>\n",
       "<table border=\"1\" class=\"dataframe\">\n",
       "  <thead>\n",
       "    <tr style=\"text-align: right;\">\n",
       "      <th></th>\n",
       "      <th>playername</th>\n",
       "      <th>teamname</th>\n",
       "      <th>dpm</th>\n",
       "      <th>damagetakenperminute</th>\n",
       "      <th>goldat15</th>\n",
       "      <th>xpat15</th>\n",
       "      <th>cspm</th>\n",
       "      <th>visionscore</th>\n",
       "    </tr>\n",
       "  </thead>\n",
       "  <tbody>\n",
       "    <tr>\n",
       "      <th>80004</th>\n",
       "      <td>Zeus</td>\n",
       "      <td>T1</td>\n",
       "      <td>0.576440</td>\n",
       "      <td>0.480389</td>\n",
       "      <td>0.602843</td>\n",
       "      <td>0.907720</td>\n",
       "      <td>0.669928</td>\n",
       "      <td>0.200000</td>\n",
       "    </tr>\n",
       "    <tr>\n",
       "      <th>80005</th>\n",
       "      <td>Oner</td>\n",
       "      <td>T1</td>\n",
       "      <td>0.261645</td>\n",
       "      <td>0.507555</td>\n",
       "      <td>0.401015</td>\n",
       "      <td>0.461035</td>\n",
       "      <td>0.395048</td>\n",
       "      <td>0.307692</td>\n",
       "    </tr>\n",
       "    <tr>\n",
       "      <th>80006</th>\n",
       "      <td>Faker</td>\n",
       "      <td>T1</td>\n",
       "      <td>0.284220</td>\n",
       "      <td>0.363114</td>\n",
       "      <td>0.520812</td>\n",
       "      <td>0.812716</td>\n",
       "      <td>0.627090</td>\n",
       "      <td>0.284615</td>\n",
       "    </tr>\n",
       "    <tr>\n",
       "      <th>80007</th>\n",
       "      <td>Gumayusi</td>\n",
       "      <td>T1</td>\n",
       "      <td>0.364873</td>\n",
       "      <td>0.020361</td>\n",
       "      <td>0.160000</td>\n",
       "      <td>0.137693</td>\n",
       "      <td>0.132663</td>\n",
       "      <td>1.253846</td>\n",
       "    </tr>\n",
       "    <tr>\n",
       "      <th>80008</th>\n",
       "      <td>Keria</td>\n",
       "      <td>T1</td>\n",
       "      <td>0.142641</td>\n",
       "      <td>0.276847</td>\n",
       "      <td>0.439391</td>\n",
       "      <td>0.551135</td>\n",
       "      <td>0.684208</td>\n",
       "      <td>0.307692</td>\n",
       "    </tr>\n",
       "  </tbody>\n",
       "</table>\n",
       "</div>"
      ],
      "text/plain": [
       "      playername teamname       dpm  damagetakenperminute  goldat15    xpat15  \\\n",
       "80004       Zeus       T1  0.576440              0.480389  0.602843  0.907720   \n",
       "80005       Oner       T1  0.261645              0.507555  0.401015  0.461035   \n",
       "80006      Faker       T1  0.284220              0.363114  0.520812  0.812716   \n",
       "80007   Gumayusi       T1  0.364873              0.020361  0.160000  0.137693   \n",
       "80008      Keria       T1  0.142641              0.276847  0.439391  0.551135   \n",
       "\n",
       "           cspm  visionscore  \n",
       "80004  0.669928     0.200000  \n",
       "80005  0.395048     0.307692  \n",
       "80006  0.627090     0.284615  \n",
       "80007  0.132663     1.253846  \n",
       "80008  0.684208     0.307692  "
      ]
     },
     "execution_count": 453,
     "metadata": {},
     "output_type": "execute_result"
    }
   ],
   "source": [
    "lck_summer_drxp_score[['dpm','damagetakenperminute','goldat15','xpat15','cspm','visionscore']] = transformed_X\n",
    "\n",
    "lck_summer_gengp_score[['dpm','damagetakenperminute','goldat15','xpat15','cspm','visionscore']] = transformed_X2\n",
    "\n",
    "lck_summer_t1p_score[['dpm','damagetakenperminute','goldat15','xpat15','cspm','visionscore']] = transformed_X3\n",
    "\n",
    "lck_summer_dkp_score[['dpm','damagetakenperminute','goldat15','xpat15','cspm','visionscore']] = transformed_X4\n",
    "\n",
    "lck_summer_t1p_score.head()"
   ]
  },
  {
   "cell_type": "code",
   "execution_count": 454,
   "metadata": {},
   "outputs": [
    {
     "data": {
      "text/html": [
       "<div>\n",
       "<style scoped>\n",
       "    .dataframe tbody tr th:only-of-type {\n",
       "        vertical-align: middle;\n",
       "    }\n",
       "\n",
       "    .dataframe tbody tr th {\n",
       "        vertical-align: top;\n",
       "    }\n",
       "\n",
       "    .dataframe thead th {\n",
       "        text-align: right;\n",
       "    }\n",
       "</style>\n",
       "<table border=\"1\" class=\"dataframe\">\n",
       "  <thead>\n",
       "    <tr style=\"text-align: right;\">\n",
       "      <th></th>\n",
       "      <th>dpm</th>\n",
       "      <th>damagetakenperminute</th>\n",
       "      <th>goldat15</th>\n",
       "      <th>xpat15</th>\n",
       "      <th>cspm</th>\n",
       "      <th>visionscore</th>\n",
       "    </tr>\n",
       "    <tr>\n",
       "      <th>playername</th>\n",
       "      <th></th>\n",
       "      <th></th>\n",
       "      <th></th>\n",
       "      <th></th>\n",
       "      <th></th>\n",
       "      <th></th>\n",
       "    </tr>\n",
       "  </thead>\n",
       "  <tbody>\n",
       "    <tr>\n",
       "      <th>BeryL</th>\n",
       "      <td>0.091629</td>\n",
       "      <td>0.322552</td>\n",
       "      <td>0.158312</td>\n",
       "      <td>0.230203</td>\n",
       "      <td>0.120393</td>\n",
       "      <td>0.525812</td>\n",
       "    </tr>\n",
       "    <tr>\n",
       "      <th>Deft</th>\n",
       "      <td>0.422516</td>\n",
       "      <td>0.294916</td>\n",
       "      <td>0.495265</td>\n",
       "      <td>0.446620</td>\n",
       "      <td>0.563941</td>\n",
       "      <td>0.345983</td>\n",
       "    </tr>\n",
       "    <tr>\n",
       "      <th>Juhan</th>\n",
       "      <td>0.139854</td>\n",
       "      <td>0.547867</td>\n",
       "      <td>0.366159</td>\n",
       "      <td>0.372994</td>\n",
       "      <td>0.481484</td>\n",
       "      <td>0.274359</td>\n",
       "    </tr>\n",
       "    <tr>\n",
       "      <th>Kingen</th>\n",
       "      <td>0.354269</td>\n",
       "      <td>0.604925</td>\n",
       "      <td>0.460738</td>\n",
       "      <td>0.836662</td>\n",
       "      <td>0.523728</td>\n",
       "      <td>0.162735</td>\n",
       "    </tr>\n",
       "    <tr>\n",
       "      <th>Pyosik</th>\n",
       "      <td>0.168686</td>\n",
       "      <td>0.617106</td>\n",
       "      <td>0.410950</td>\n",
       "      <td>0.486826</td>\n",
       "      <td>0.398187</td>\n",
       "      <td>0.286630</td>\n",
       "    </tr>\n",
       "    <tr>\n",
       "      <th>ZEKA</th>\n",
       "      <td>0.425493</td>\n",
       "      <td>0.378441</td>\n",
       "      <td>0.528632</td>\n",
       "      <td>0.828616</td>\n",
       "      <td>0.623830</td>\n",
       "      <td>0.164786</td>\n",
       "    </tr>\n",
       "  </tbody>\n",
       "</table>\n",
       "</div>"
      ],
      "text/plain": [
       "                 dpm  damagetakenperminute  goldat15    xpat15      cspm  \\\n",
       "playername                                                                 \n",
       "BeryL       0.091629              0.322552  0.158312  0.230203  0.120393   \n",
       "Deft        0.422516              0.294916  0.495265  0.446620  0.563941   \n",
       "Juhan       0.139854              0.547867  0.366159  0.372994  0.481484   \n",
       "Kingen      0.354269              0.604925  0.460738  0.836662  0.523728   \n",
       "Pyosik      0.168686              0.617106  0.410950  0.486826  0.398187   \n",
       "ZEKA        0.425493              0.378441  0.528632  0.828616  0.623830   \n",
       "\n",
       "            visionscore  \n",
       "playername               \n",
       "BeryL          0.525812  \n",
       "Deft           0.345983  \n",
       "Juhan          0.274359  \n",
       "Kingen         0.162735  \n",
       "Pyosik         0.286630  \n",
       "ZEKA           0.164786  "
      ]
     },
     "execution_count": 454,
     "metadata": {},
     "output_type": "execute_result"
    }
   ],
   "source": [
    "drx_summer_score = lck_summer_drxp_score.groupby('playername')\\\n",
    "    [['dpm','damagetakenperminute','goldat15','xpat15','cspm','visionscore']].mean()\n",
    "\n",
    "geng_summer_score = lck_summer_gengp_score.groupby('playername')\\\n",
    "    [['dpm','damagetakenperminute','goldat15','xpat15','cspm','visionscore']].mean()\n",
    "\n",
    "t1_summer_score = lck_summer_t1p_score.groupby('playername')\\\n",
    "    [['dpm','damagetakenperminute','goldat15','xpat15','cspm','visionscore']].mean()\n",
    "\n",
    "dk_summer_score = lck_summer_dkp_score.groupby('playername')\\\n",
    "    [['dpm','damagetakenperminute','goldat15','xpat15','cspm','visionscore']].mean()\n",
    "\n",
    "\n",
    "\n",
    "\n",
    "drx_summer_score"
   ]
  },
  {
   "cell_type": "code",
   "execution_count": 455,
   "metadata": {},
   "outputs": [
    {
     "data": {
      "text/html": [
       "<div>\n",
       "<style scoped>\n",
       "    .dataframe tbody tr th:only-of-type {\n",
       "        vertical-align: middle;\n",
       "    }\n",
       "\n",
       "    .dataframe tbody tr th {\n",
       "        vertical-align: top;\n",
       "    }\n",
       "\n",
       "    .dataframe thead th {\n",
       "        text-align: right;\n",
       "    }\n",
       "</style>\n",
       "<table border=\"1\" class=\"dataframe\">\n",
       "  <thead>\n",
       "    <tr style=\"text-align: right;\">\n",
       "      <th></th>\n",
       "      <th>direction</th>\n",
       "      <th>player</th>\n",
       "      <th>stats</th>\n",
       "    </tr>\n",
       "  </thead>\n",
       "  <tbody>\n",
       "    <tr>\n",
       "      <th>0</th>\n",
       "      <td>dpm</td>\n",
       "      <td>BeryL</td>\n",
       "      <td>0.091629</td>\n",
       "    </tr>\n",
       "    <tr>\n",
       "      <th>1</th>\n",
       "      <td>damagetakenperminute</td>\n",
       "      <td>BeryL</td>\n",
       "      <td>0.322552</td>\n",
       "    </tr>\n",
       "    <tr>\n",
       "      <th>2</th>\n",
       "      <td>goldat15</td>\n",
       "      <td>BeryL</td>\n",
       "      <td>0.158312</td>\n",
       "    </tr>\n",
       "    <tr>\n",
       "      <th>3</th>\n",
       "      <td>xpat15</td>\n",
       "      <td>BeryL</td>\n",
       "      <td>0.230203</td>\n",
       "    </tr>\n",
       "    <tr>\n",
       "      <th>4</th>\n",
       "      <td>cspm</td>\n",
       "      <td>BeryL</td>\n",
       "      <td>0.120393</td>\n",
       "    </tr>\n",
       "    <tr>\n",
       "      <th>5</th>\n",
       "      <td>visionscore</td>\n",
       "      <td>BeryL</td>\n",
       "      <td>0.525812</td>\n",
       "    </tr>\n",
       "    <tr>\n",
       "      <th>0</th>\n",
       "      <td>dpm</td>\n",
       "      <td>Deft</td>\n",
       "      <td>0.422516</td>\n",
       "    </tr>\n",
       "    <tr>\n",
       "      <th>1</th>\n",
       "      <td>damagetakenperminute</td>\n",
       "      <td>Deft</td>\n",
       "      <td>0.294916</td>\n",
       "    </tr>\n",
       "    <tr>\n",
       "      <th>2</th>\n",
       "      <td>goldat15</td>\n",
       "      <td>Deft</td>\n",
       "      <td>0.495265</td>\n",
       "    </tr>\n",
       "    <tr>\n",
       "      <th>3</th>\n",
       "      <td>xpat15</td>\n",
       "      <td>Deft</td>\n",
       "      <td>0.446620</td>\n",
       "    </tr>\n",
       "    <tr>\n",
       "      <th>4</th>\n",
       "      <td>cspm</td>\n",
       "      <td>Deft</td>\n",
       "      <td>0.563941</td>\n",
       "    </tr>\n",
       "    <tr>\n",
       "      <th>5</th>\n",
       "      <td>visionscore</td>\n",
       "      <td>Deft</td>\n",
       "      <td>0.345983</td>\n",
       "    </tr>\n",
       "    <tr>\n",
       "      <th>0</th>\n",
       "      <td>dpm</td>\n",
       "      <td>ZEKA</td>\n",
       "      <td>0.425493</td>\n",
       "    </tr>\n",
       "    <tr>\n",
       "      <th>1</th>\n",
       "      <td>damagetakenperminute</td>\n",
       "      <td>ZEKA</td>\n",
       "      <td>0.378441</td>\n",
       "    </tr>\n",
       "    <tr>\n",
       "      <th>2</th>\n",
       "      <td>goldat15</td>\n",
       "      <td>ZEKA</td>\n",
       "      <td>0.528632</td>\n",
       "    </tr>\n",
       "    <tr>\n",
       "      <th>3</th>\n",
       "      <td>xpat15</td>\n",
       "      <td>ZEKA</td>\n",
       "      <td>0.828616</td>\n",
       "    </tr>\n",
       "    <tr>\n",
       "      <th>4</th>\n",
       "      <td>cspm</td>\n",
       "      <td>ZEKA</td>\n",
       "      <td>0.623830</td>\n",
       "    </tr>\n",
       "    <tr>\n",
       "      <th>5</th>\n",
       "      <td>visionscore</td>\n",
       "      <td>ZEKA</td>\n",
       "      <td>0.164786</td>\n",
       "    </tr>\n",
       "    <tr>\n",
       "      <th>0</th>\n",
       "      <td>dpm</td>\n",
       "      <td>Pyosik</td>\n",
       "      <td>0.168686</td>\n",
       "    </tr>\n",
       "    <tr>\n",
       "      <th>1</th>\n",
       "      <td>damagetakenperminute</td>\n",
       "      <td>Pyosik</td>\n",
       "      <td>0.617106</td>\n",
       "    </tr>\n",
       "    <tr>\n",
       "      <th>2</th>\n",
       "      <td>goldat15</td>\n",
       "      <td>Pyosik</td>\n",
       "      <td>0.410950</td>\n",
       "    </tr>\n",
       "    <tr>\n",
       "      <th>3</th>\n",
       "      <td>xpat15</td>\n",
       "      <td>Pyosik</td>\n",
       "      <td>0.486826</td>\n",
       "    </tr>\n",
       "    <tr>\n",
       "      <th>4</th>\n",
       "      <td>cspm</td>\n",
       "      <td>Pyosik</td>\n",
       "      <td>0.398187</td>\n",
       "    </tr>\n",
       "    <tr>\n",
       "      <th>5</th>\n",
       "      <td>visionscore</td>\n",
       "      <td>Pyosik</td>\n",
       "      <td>0.286630</td>\n",
       "    </tr>\n",
       "    <tr>\n",
       "      <th>0</th>\n",
       "      <td>dpm</td>\n",
       "      <td>Kingen</td>\n",
       "      <td>0.354269</td>\n",
       "    </tr>\n",
       "    <tr>\n",
       "      <th>1</th>\n",
       "      <td>damagetakenperminute</td>\n",
       "      <td>Kingen</td>\n",
       "      <td>0.604925</td>\n",
       "    </tr>\n",
       "    <tr>\n",
       "      <th>2</th>\n",
       "      <td>goldat15</td>\n",
       "      <td>Kingen</td>\n",
       "      <td>0.460738</td>\n",
       "    </tr>\n",
       "    <tr>\n",
       "      <th>3</th>\n",
       "      <td>xpat15</td>\n",
       "      <td>Kingen</td>\n",
       "      <td>0.836662</td>\n",
       "    </tr>\n",
       "    <tr>\n",
       "      <th>4</th>\n",
       "      <td>cspm</td>\n",
       "      <td>Kingen</td>\n",
       "      <td>0.523728</td>\n",
       "    </tr>\n",
       "    <tr>\n",
       "      <th>5</th>\n",
       "      <td>visionscore</td>\n",
       "      <td>Kingen</td>\n",
       "      <td>0.162735</td>\n",
       "    </tr>\n",
       "  </tbody>\n",
       "</table>\n",
       "</div>"
      ],
      "text/plain": [
       "              direction  player     stats\n",
       "0                   dpm   BeryL  0.091629\n",
       "1  damagetakenperminute   BeryL  0.322552\n",
       "2              goldat15   BeryL  0.158312\n",
       "3                xpat15   BeryL  0.230203\n",
       "4                  cspm   BeryL  0.120393\n",
       "5           visionscore   BeryL  0.525812\n",
       "0                   dpm    Deft  0.422516\n",
       "1  damagetakenperminute    Deft  0.294916\n",
       "2              goldat15    Deft  0.495265\n",
       "3                xpat15    Deft  0.446620\n",
       "4                  cspm    Deft  0.563941\n",
       "5           visionscore    Deft  0.345983\n",
       "0                   dpm    ZEKA  0.425493\n",
       "1  damagetakenperminute    ZEKA  0.378441\n",
       "2              goldat15    ZEKA  0.528632\n",
       "3                xpat15    ZEKA  0.828616\n",
       "4                  cspm    ZEKA  0.623830\n",
       "5           visionscore    ZEKA  0.164786\n",
       "0                   dpm  Pyosik  0.168686\n",
       "1  damagetakenperminute  Pyosik  0.617106\n",
       "2              goldat15  Pyosik  0.410950\n",
       "3                xpat15  Pyosik  0.486826\n",
       "4                  cspm  Pyosik  0.398187\n",
       "5           visionscore  Pyosik  0.286630\n",
       "0                   dpm  Kingen  0.354269\n",
       "1  damagetakenperminute  Kingen  0.604925\n",
       "2              goldat15  Kingen  0.460738\n",
       "3                xpat15  Kingen  0.836662\n",
       "4                  cspm  Kingen  0.523728\n",
       "5           visionscore  Kingen  0.162735"
      ]
     },
     "execution_count": 455,
     "metadata": {},
     "output_type": "execute_result"
    }
   ],
   "source": [
    "drx_summer_score_df1 = pd.DataFrame( { \"direction\" : drx_summer_score.columns ,\n",
    "\"player\" : [drx_summer_score.index[0]] * 6 ,\n",
    "\"stats\" : drx_summer_score.iloc[0].values }\n",
    ")\n",
    "\n",
    "drx_summer_score_df2 = pd.DataFrame( { \"direction\" : drx_summer_score.columns ,\n",
    "\"player\" : [drx_summer_score.index[1]] * 6 ,\n",
    "\"stats\" : drx_summer_score.iloc[1].values }\n",
    ")\n",
    "\n",
    "drx_summer_score_df3 = pd.DataFrame( { \"direction\" : drx_summer_score.columns ,\n",
    "\"player\" : [drx_summer_score.index[5]] * 6 ,\n",
    "\"stats\" : drx_summer_score.iloc[5].values }\n",
    ")\n",
    "\n",
    "drx_summer_score_df4 = pd.DataFrame( { \"direction\" : drx_summer_score.columns ,\n",
    "\"player\" : [drx_summer_score.index[4]] * 6 ,\n",
    "\"stats\" : drx_summer_score.iloc[4].values }\n",
    ")\n",
    "\n",
    "drx_summer_score_df5 = pd.DataFrame( { \"direction\" : drx_summer_score.columns ,\n",
    "\"player\" : [drx_summer_score.index[3]] * 6 ,\n",
    "\"stats\" : drx_summer_score.iloc[3].values }\n",
    ")\n",
    "\n",
    "\n",
    "drx_summer_score_df = pd.concat( [drx_summer_score_df1,drx_summer_score_df2,drx_summer_score_df3,drx_summer_score_df4,drx_summer_score_df5]\\\n",
    "    ,axis=0)\n",
    "\n",
    "drx_summer_score_df"
   ]
  },
  {
   "cell_type": "code",
   "execution_count": 456,
   "metadata": {},
   "outputs": [
    {
     "data": {
      "text/html": [
       "<div>\n",
       "<style scoped>\n",
       "    .dataframe tbody tr th:only-of-type {\n",
       "        vertical-align: middle;\n",
       "    }\n",
       "\n",
       "    .dataframe tbody tr th {\n",
       "        vertical-align: top;\n",
       "    }\n",
       "\n",
       "    .dataframe thead th {\n",
       "        text-align: right;\n",
       "    }\n",
       "</style>\n",
       "<table border=\"1\" class=\"dataframe\">\n",
       "  <thead>\n",
       "    <tr style=\"text-align: right;\">\n",
       "      <th></th>\n",
       "      <th>dpm</th>\n",
       "      <th>damagetakenperminute</th>\n",
       "      <th>goldat15</th>\n",
       "      <th>xpat15</th>\n",
       "      <th>cspm</th>\n",
       "      <th>visionscore</th>\n",
       "    </tr>\n",
       "    <tr>\n",
       "      <th>playername</th>\n",
       "      <th></th>\n",
       "      <th></th>\n",
       "      <th></th>\n",
       "      <th></th>\n",
       "      <th></th>\n",
       "      <th></th>\n",
       "    </tr>\n",
       "  </thead>\n",
       "  <tbody>\n",
       "    <tr>\n",
       "      <th>Chovy</th>\n",
       "      <td>0.437216</td>\n",
       "      <td>0.331229</td>\n",
       "      <td>0.598909</td>\n",
       "      <td>0.888819</td>\n",
       "      <td>0.675920</td>\n",
       "      <td>0.279231</td>\n",
       "    </tr>\n",
       "    <tr>\n",
       "      <th>Doran</th>\n",
       "      <td>0.395149</td>\n",
       "      <td>0.572139</td>\n",
       "      <td>0.538452</td>\n",
       "      <td>0.869401</td>\n",
       "      <td>0.577684</td>\n",
       "      <td>0.113846</td>\n",
       "    </tr>\n",
       "    <tr>\n",
       "      <th>Lehends</th>\n",
       "      <td>0.099411</td>\n",
       "      <td>0.232038</td>\n",
       "      <td>0.114640</td>\n",
       "      <td>0.194478</td>\n",
       "      <td>0.078033</td>\n",
       "      <td>0.490962</td>\n",
       "    </tr>\n",
       "    <tr>\n",
       "      <th>Peanut</th>\n",
       "      <td>0.165431</td>\n",
       "      <td>0.602828</td>\n",
       "      <td>0.479228</td>\n",
       "      <td>0.535863</td>\n",
       "      <td>0.404298</td>\n",
       "      <td>0.255385</td>\n",
       "    </tr>\n",
       "    <tr>\n",
       "      <th>Ruler</th>\n",
       "      <td>0.495687</td>\n",
       "      <td>0.299317</td>\n",
       "      <td>0.603142</td>\n",
       "      <td>0.493960</td>\n",
       "      <td>0.640057</td>\n",
       "      <td>0.318846</td>\n",
       "    </tr>\n",
       "  </tbody>\n",
       "</table>\n",
       "</div>"
      ],
      "text/plain": [
       "                 dpm  damagetakenperminute  goldat15    xpat15      cspm  \\\n",
       "playername                                                                 \n",
       "Chovy       0.437216              0.331229  0.598909  0.888819  0.675920   \n",
       "Doran       0.395149              0.572139  0.538452  0.869401  0.577684   \n",
       "Lehends     0.099411              0.232038  0.114640  0.194478  0.078033   \n",
       "Peanut      0.165431              0.602828  0.479228  0.535863  0.404298   \n",
       "Ruler       0.495687              0.299317  0.603142  0.493960  0.640057   \n",
       "\n",
       "            visionscore  \n",
       "playername               \n",
       "Chovy          0.279231  \n",
       "Doran          0.113846  \n",
       "Lehends        0.490962  \n",
       "Peanut         0.255385  \n",
       "Ruler          0.318846  "
      ]
     },
     "execution_count": 456,
     "metadata": {},
     "output_type": "execute_result"
    }
   ],
   "source": [
    "geng_summer_score"
   ]
  },
  {
   "cell_type": "code",
   "execution_count": 446,
   "metadata": {},
   "outputs": [
    {
     "data": {
      "text/html": [
       "<div>\n",
       "<style scoped>\n",
       "    .dataframe tbody tr th:only-of-type {\n",
       "        vertical-align: middle;\n",
       "    }\n",
       "\n",
       "    .dataframe tbody tr th {\n",
       "        vertical-align: top;\n",
       "    }\n",
       "\n",
       "    .dataframe thead th {\n",
       "        text-align: right;\n",
       "    }\n",
       "</style>\n",
       "<table border=\"1\" class=\"dataframe\">\n",
       "  <thead>\n",
       "    <tr style=\"text-align: right;\">\n",
       "      <th></th>\n",
       "      <th>direction</th>\n",
       "      <th>player</th>\n",
       "      <th>stats</th>\n",
       "    </tr>\n",
       "  </thead>\n",
       "  <tbody>\n",
       "    <tr>\n",
       "      <th>0</th>\n",
       "      <td>dpm</td>\n",
       "      <td>Lehends</td>\n",
       "      <td>0.099411</td>\n",
       "    </tr>\n",
       "    <tr>\n",
       "      <th>1</th>\n",
       "      <td>damagetakenperminute</td>\n",
       "      <td>Lehends</td>\n",
       "      <td>0.232038</td>\n",
       "    </tr>\n",
       "    <tr>\n",
       "      <th>2</th>\n",
       "      <td>goldat15</td>\n",
       "      <td>Lehends</td>\n",
       "      <td>0.114640</td>\n",
       "    </tr>\n",
       "    <tr>\n",
       "      <th>3</th>\n",
       "      <td>xpat15</td>\n",
       "      <td>Lehends</td>\n",
       "      <td>0.194478</td>\n",
       "    </tr>\n",
       "    <tr>\n",
       "      <th>4</th>\n",
       "      <td>cspm</td>\n",
       "      <td>Lehends</td>\n",
       "      <td>0.078033</td>\n",
       "    </tr>\n",
       "    <tr>\n",
       "      <th>5</th>\n",
       "      <td>visionscore</td>\n",
       "      <td>Lehends</td>\n",
       "      <td>0.490962</td>\n",
       "    </tr>\n",
       "    <tr>\n",
       "      <th>0</th>\n",
       "      <td>dpm</td>\n",
       "      <td>Ruler</td>\n",
       "      <td>0.495687</td>\n",
       "    </tr>\n",
       "    <tr>\n",
       "      <th>1</th>\n",
       "      <td>damagetakenperminute</td>\n",
       "      <td>Ruler</td>\n",
       "      <td>0.299317</td>\n",
       "    </tr>\n",
       "    <tr>\n",
       "      <th>2</th>\n",
       "      <td>goldat15</td>\n",
       "      <td>Ruler</td>\n",
       "      <td>0.603142</td>\n",
       "    </tr>\n",
       "    <tr>\n",
       "      <th>3</th>\n",
       "      <td>xpat15</td>\n",
       "      <td>Ruler</td>\n",
       "      <td>0.493960</td>\n",
       "    </tr>\n",
       "    <tr>\n",
       "      <th>4</th>\n",
       "      <td>cspm</td>\n",
       "      <td>Ruler</td>\n",
       "      <td>0.640057</td>\n",
       "    </tr>\n",
       "    <tr>\n",
       "      <th>5</th>\n",
       "      <td>visionscore</td>\n",
       "      <td>Ruler</td>\n",
       "      <td>0.318846</td>\n",
       "    </tr>\n",
       "    <tr>\n",
       "      <th>0</th>\n",
       "      <td>dpm</td>\n",
       "      <td>Chovy</td>\n",
       "      <td>0.437216</td>\n",
       "    </tr>\n",
       "    <tr>\n",
       "      <th>1</th>\n",
       "      <td>damagetakenperminute</td>\n",
       "      <td>Chovy</td>\n",
       "      <td>0.331229</td>\n",
       "    </tr>\n",
       "    <tr>\n",
       "      <th>2</th>\n",
       "      <td>goldat15</td>\n",
       "      <td>Chovy</td>\n",
       "      <td>0.598909</td>\n",
       "    </tr>\n",
       "    <tr>\n",
       "      <th>3</th>\n",
       "      <td>xpat15</td>\n",
       "      <td>Chovy</td>\n",
       "      <td>0.888819</td>\n",
       "    </tr>\n",
       "    <tr>\n",
       "      <th>4</th>\n",
       "      <td>cspm</td>\n",
       "      <td>Chovy</td>\n",
       "      <td>0.675920</td>\n",
       "    </tr>\n",
       "    <tr>\n",
       "      <th>5</th>\n",
       "      <td>visionscore</td>\n",
       "      <td>Chovy</td>\n",
       "      <td>0.279231</td>\n",
       "    </tr>\n",
       "    <tr>\n",
       "      <th>0</th>\n",
       "      <td>dpm</td>\n",
       "      <td>Peanut</td>\n",
       "      <td>0.165431</td>\n",
       "    </tr>\n",
       "    <tr>\n",
       "      <th>1</th>\n",
       "      <td>damagetakenperminute</td>\n",
       "      <td>Peanut</td>\n",
       "      <td>0.602828</td>\n",
       "    </tr>\n",
       "    <tr>\n",
       "      <th>2</th>\n",
       "      <td>goldat15</td>\n",
       "      <td>Peanut</td>\n",
       "      <td>0.479228</td>\n",
       "    </tr>\n",
       "    <tr>\n",
       "      <th>3</th>\n",
       "      <td>xpat15</td>\n",
       "      <td>Peanut</td>\n",
       "      <td>0.535863</td>\n",
       "    </tr>\n",
       "    <tr>\n",
       "      <th>4</th>\n",
       "      <td>cspm</td>\n",
       "      <td>Peanut</td>\n",
       "      <td>0.404298</td>\n",
       "    </tr>\n",
       "    <tr>\n",
       "      <th>5</th>\n",
       "      <td>visionscore</td>\n",
       "      <td>Peanut</td>\n",
       "      <td>0.255385</td>\n",
       "    </tr>\n",
       "    <tr>\n",
       "      <th>0</th>\n",
       "      <td>dpm</td>\n",
       "      <td>Doran</td>\n",
       "      <td>0.395149</td>\n",
       "    </tr>\n",
       "    <tr>\n",
       "      <th>1</th>\n",
       "      <td>damagetakenperminute</td>\n",
       "      <td>Doran</td>\n",
       "      <td>0.572139</td>\n",
       "    </tr>\n",
       "    <tr>\n",
       "      <th>2</th>\n",
       "      <td>goldat15</td>\n",
       "      <td>Doran</td>\n",
       "      <td>0.538452</td>\n",
       "    </tr>\n",
       "    <tr>\n",
       "      <th>3</th>\n",
       "      <td>xpat15</td>\n",
       "      <td>Doran</td>\n",
       "      <td>0.869401</td>\n",
       "    </tr>\n",
       "    <tr>\n",
       "      <th>4</th>\n",
       "      <td>cspm</td>\n",
       "      <td>Doran</td>\n",
       "      <td>0.577684</td>\n",
       "    </tr>\n",
       "    <tr>\n",
       "      <th>5</th>\n",
       "      <td>visionscore</td>\n",
       "      <td>Doran</td>\n",
       "      <td>0.113846</td>\n",
       "    </tr>\n",
       "  </tbody>\n",
       "</table>\n",
       "</div>"
      ],
      "text/plain": [
       "              direction   player     stats\n",
       "0                   dpm  Lehends  0.099411\n",
       "1  damagetakenperminute  Lehends  0.232038\n",
       "2              goldat15  Lehends  0.114640\n",
       "3                xpat15  Lehends  0.194478\n",
       "4                  cspm  Lehends  0.078033\n",
       "5           visionscore  Lehends  0.490962\n",
       "0                   dpm    Ruler  0.495687\n",
       "1  damagetakenperminute    Ruler  0.299317\n",
       "2              goldat15    Ruler  0.603142\n",
       "3                xpat15    Ruler  0.493960\n",
       "4                  cspm    Ruler  0.640057\n",
       "5           visionscore    Ruler  0.318846\n",
       "0                   dpm    Chovy  0.437216\n",
       "1  damagetakenperminute    Chovy  0.331229\n",
       "2              goldat15    Chovy  0.598909\n",
       "3                xpat15    Chovy  0.888819\n",
       "4                  cspm    Chovy  0.675920\n",
       "5           visionscore    Chovy  0.279231\n",
       "0                   dpm   Peanut  0.165431\n",
       "1  damagetakenperminute   Peanut  0.602828\n",
       "2              goldat15   Peanut  0.479228\n",
       "3                xpat15   Peanut  0.535863\n",
       "4                  cspm   Peanut  0.404298\n",
       "5           visionscore   Peanut  0.255385\n",
       "0                   dpm    Doran  0.395149\n",
       "1  damagetakenperminute    Doran  0.572139\n",
       "2              goldat15    Doran  0.538452\n",
       "3                xpat15    Doran  0.869401\n",
       "4                  cspm    Doran  0.577684\n",
       "5           visionscore    Doran  0.113846"
      ]
     },
     "execution_count": 446,
     "metadata": {},
     "output_type": "execute_result"
    }
   ],
   "source": [
    "geng_summer_score_df1 = pd.DataFrame( { \"direction\" : geng_summer_score.columns ,\n",
    "\"player\" : [geng_summer_score.index[2]] * 6 ,\n",
    "\"stats\" : geng_summer_score.iloc[2].values }\n",
    ")\n",
    "\n",
    "geng_summer_score_df2 = pd.DataFrame( { \"direction\" : geng_summer_score.columns ,\n",
    "\"player\" : [geng_summer_score.index[4]] * 6 ,\n",
    "\"stats\" : geng_summer_score.iloc[4].values }\n",
    ")\n",
    "\n",
    "geng_summer_score_df3 = pd.DataFrame( { \"direction\" : geng_summer_score.columns ,\n",
    "\"player\" : [geng_summer_score.index[0]] * 6 ,\n",
    "\"stats\" : geng_summer_score.iloc[0].values }\n",
    ")\n",
    "\n",
    "geng_summer_score_df4 = pd.DataFrame( { \"direction\" : geng_summer_score.columns ,\n",
    "\"player\" : [geng_summer_score.index[3]] * 6 ,\n",
    "\"stats\" : geng_summer_score.iloc[3].values }\n",
    ")\n",
    "\n",
    "geng_summer_score_df5 = pd.DataFrame( { \"direction\" : geng_summer_score.columns ,\n",
    "\"player\" : [geng_summer_score.index[1]] * 6 ,\n",
    "\"stats\" : geng_summer_score.iloc[1].values }\n",
    ")\n",
    "\n",
    "\n",
    "geng_summer_score_df = pd.concat( [geng_summer_score_df1,geng_summer_score_df2,geng_summer_score_df3, geng_summer_score_df4 , geng_summer_score_df5]\\\n",
    "    ,axis=0)\n",
    "\n",
    "geng_summer_score_df"
   ]
  },
  {
   "cell_type": "code",
   "execution_count": 478,
   "metadata": {},
   "outputs": [
    {
     "data": {
      "application/vnd.plotly.v1+json": {
       "config": {
        "plotlyServerURL": "https://plotly.com"
       },
       "data": [
        {
         "hovertemplate": "player=BeryL<br>stats=%{r}<br>direction=%{theta}<extra></extra>",
         "legendgroup": "BeryL",
         "line": {
          "color": "#636efa",
          "dash": "solid"
         },
         "marker": {
          "symbol": "circle"
         },
         "mode": "lines",
         "name": "BeryL",
         "r": [
          0.09162934559491039,
          0.3225518076683774,
          0.158312464749013,
          0.23020284589766885,
          0.12039265266778493,
          0.5258119658119659,
          0.09162934559491039
         ],
         "showlegend": true,
         "subplot": "polar",
         "theta": [
          "dpm",
          "damagetakenperminute",
          "goldat15",
          "xpat15",
          "cspm",
          "visionscore",
          "dpm"
         ],
         "type": "scatterpolar"
        },
        {
         "hovertemplate": "player=Deft<br>stats=%{r}<br>direction=%{theta}<extra></extra>",
         "legendgroup": "Deft",
         "line": {
          "color": "#EF553B",
          "dash": "solid"
         },
         "marker": {
          "symbol": "circle"
         },
         "mode": "lines",
         "name": "Deft",
         "r": [
          0.4225164884696887,
          0.2949160983667684,
          0.4952645234066554,
          0.4466202442224241,
          0.5639408115598591,
          0.34598290598290604,
          0.4225164884696887
         ],
         "showlegend": true,
         "subplot": "polar",
         "theta": [
          "dpm",
          "damagetakenperminute",
          "goldat15",
          "xpat15",
          "cspm",
          "visionscore",
          "dpm"
         ],
         "type": "scatterpolar"
        },
        {
         "hovertemplate": "player=ZEKA<br>stats=%{r}<br>direction=%{theta}<extra></extra>",
         "legendgroup": "ZEKA",
         "line": {
          "color": "#00cc96",
          "dash": "solid"
         },
         "marker": {
          "symbol": "circle"
         },
         "mode": "lines",
         "name": "ZEKA",
         "r": [
          0.4254930324375999,
          0.37844111744676884,
          0.5286316976875353,
          0.8286164093248561,
          0.6238304820315401,
          0.1647863247863248,
          0.4254930324375999
         ],
         "showlegend": true,
         "subplot": "polar",
         "theta": [
          "dpm",
          "damagetakenperminute",
          "goldat15",
          "xpat15",
          "cspm",
          "visionscore",
          "dpm"
         ],
         "type": "scatterpolar"
        },
        {
         "hovertemplate": "player=Pyosik<br>stats=%{r}<br>direction=%{theta}<extra></extra>",
         "legendgroup": "Pyosik",
         "line": {
          "color": "#ab63fa",
          "dash": "solid"
         },
         "marker": {
          "symbol": "circle"
         },
         "mode": "lines",
         "name": "Pyosik",
         "r": [
          0.16868599975087634,
          0.6171064621670252,
          0.4109499637418419,
          0.4868258293326414,
          0.3981866544224821,
          0.2866300366300366,
          0.16868599975087634
         ],
         "showlegend": true,
         "subplot": "polar",
         "theta": [
          "dpm",
          "damagetakenperminute",
          "goldat15",
          "xpat15",
          "cspm",
          "visionscore",
          "dpm"
         ],
         "type": "scatterpolar"
        },
        {
         "hovertemplate": "player=Kingen<br>stats=%{r}<br>direction=%{theta}<extra></extra>",
         "legendgroup": "Kingen",
         "line": {
          "color": "#FFA15A",
          "dash": "solid"
         },
         "marker": {
          "symbol": "circle"
         },
         "mode": "lines",
         "name": "Kingen",
         "r": [
          0.3542694427898928,
          0.6049245121351764,
          0.4607377326565144,
          0.8366616207488142,
          0.5237279607649978,
          0.16273504273504275,
          0.3542694427898928
         ],
         "showlegend": true,
         "subplot": "polar",
         "theta": [
          "dpm",
          "damagetakenperminute",
          "goldat15",
          "xpat15",
          "cspm",
          "visionscore",
          "dpm"
         ],
         "type": "scatterpolar"
        }
       ],
       "layout": {
        "legend": {
         "title": {
          "text": "player"
         },
         "tracegroupgap": 0
        },
        "margin": {
         "t": 60
        },
        "polar": {
         "angularaxis": {
          "direction": "clockwise",
          "rotation": 90
         },
         "domain": {
          "x": [
           0,
           1
          ],
          "y": [
           0,
           1
          ]
         },
         "radialaxis": {
          "range": [
           0,
           1
          ]
         }
        },
        "template": {
         "data": {
          "bar": [
           {
            "error_x": {
             "color": "#2a3f5f"
            },
            "error_y": {
             "color": "#2a3f5f"
            },
            "marker": {
             "line": {
              "color": "#E5ECF6",
              "width": 0.5
             },
             "pattern": {
              "fillmode": "overlay",
              "size": 10,
              "solidity": 0.2
             }
            },
            "type": "bar"
           }
          ],
          "barpolar": [
           {
            "marker": {
             "line": {
              "color": "#E5ECF6",
              "width": 0.5
             },
             "pattern": {
              "fillmode": "overlay",
              "size": 10,
              "solidity": 0.2
             }
            },
            "type": "barpolar"
           }
          ],
          "carpet": [
           {
            "aaxis": {
             "endlinecolor": "#2a3f5f",
             "gridcolor": "white",
             "linecolor": "white",
             "minorgridcolor": "white",
             "startlinecolor": "#2a3f5f"
            },
            "baxis": {
             "endlinecolor": "#2a3f5f",
             "gridcolor": "white",
             "linecolor": "white",
             "minorgridcolor": "white",
             "startlinecolor": "#2a3f5f"
            },
            "type": "carpet"
           }
          ],
          "choropleth": [
           {
            "colorbar": {
             "outlinewidth": 0,
             "ticks": ""
            },
            "type": "choropleth"
           }
          ],
          "contour": [
           {
            "colorbar": {
             "outlinewidth": 0,
             "ticks": ""
            },
            "colorscale": [
             [
              0,
              "#0d0887"
             ],
             [
              0.1111111111111111,
              "#46039f"
             ],
             [
              0.2222222222222222,
              "#7201a8"
             ],
             [
              0.3333333333333333,
              "#9c179e"
             ],
             [
              0.4444444444444444,
              "#bd3786"
             ],
             [
              0.5555555555555556,
              "#d8576b"
             ],
             [
              0.6666666666666666,
              "#ed7953"
             ],
             [
              0.7777777777777778,
              "#fb9f3a"
             ],
             [
              0.8888888888888888,
              "#fdca26"
             ],
             [
              1,
              "#f0f921"
             ]
            ],
            "type": "contour"
           }
          ],
          "contourcarpet": [
           {
            "colorbar": {
             "outlinewidth": 0,
             "ticks": ""
            },
            "type": "contourcarpet"
           }
          ],
          "heatmap": [
           {
            "colorbar": {
             "outlinewidth": 0,
             "ticks": ""
            },
            "colorscale": [
             [
              0,
              "#0d0887"
             ],
             [
              0.1111111111111111,
              "#46039f"
             ],
             [
              0.2222222222222222,
              "#7201a8"
             ],
             [
              0.3333333333333333,
              "#9c179e"
             ],
             [
              0.4444444444444444,
              "#bd3786"
             ],
             [
              0.5555555555555556,
              "#d8576b"
             ],
             [
              0.6666666666666666,
              "#ed7953"
             ],
             [
              0.7777777777777778,
              "#fb9f3a"
             ],
             [
              0.8888888888888888,
              "#fdca26"
             ],
             [
              1,
              "#f0f921"
             ]
            ],
            "type": "heatmap"
           }
          ],
          "heatmapgl": [
           {
            "colorbar": {
             "outlinewidth": 0,
             "ticks": ""
            },
            "colorscale": [
             [
              0,
              "#0d0887"
             ],
             [
              0.1111111111111111,
              "#46039f"
             ],
             [
              0.2222222222222222,
              "#7201a8"
             ],
             [
              0.3333333333333333,
              "#9c179e"
             ],
             [
              0.4444444444444444,
              "#bd3786"
             ],
             [
              0.5555555555555556,
              "#d8576b"
             ],
             [
              0.6666666666666666,
              "#ed7953"
             ],
             [
              0.7777777777777778,
              "#fb9f3a"
             ],
             [
              0.8888888888888888,
              "#fdca26"
             ],
             [
              1,
              "#f0f921"
             ]
            ],
            "type": "heatmapgl"
           }
          ],
          "histogram": [
           {
            "marker": {
             "pattern": {
              "fillmode": "overlay",
              "size": 10,
              "solidity": 0.2
             }
            },
            "type": "histogram"
           }
          ],
          "histogram2d": [
           {
            "colorbar": {
             "outlinewidth": 0,
             "ticks": ""
            },
            "colorscale": [
             [
              0,
              "#0d0887"
             ],
             [
              0.1111111111111111,
              "#46039f"
             ],
             [
              0.2222222222222222,
              "#7201a8"
             ],
             [
              0.3333333333333333,
              "#9c179e"
             ],
             [
              0.4444444444444444,
              "#bd3786"
             ],
             [
              0.5555555555555556,
              "#d8576b"
             ],
             [
              0.6666666666666666,
              "#ed7953"
             ],
             [
              0.7777777777777778,
              "#fb9f3a"
             ],
             [
              0.8888888888888888,
              "#fdca26"
             ],
             [
              1,
              "#f0f921"
             ]
            ],
            "type": "histogram2d"
           }
          ],
          "histogram2dcontour": [
           {
            "colorbar": {
             "outlinewidth": 0,
             "ticks": ""
            },
            "colorscale": [
             [
              0,
              "#0d0887"
             ],
             [
              0.1111111111111111,
              "#46039f"
             ],
             [
              0.2222222222222222,
              "#7201a8"
             ],
             [
              0.3333333333333333,
              "#9c179e"
             ],
             [
              0.4444444444444444,
              "#bd3786"
             ],
             [
              0.5555555555555556,
              "#d8576b"
             ],
             [
              0.6666666666666666,
              "#ed7953"
             ],
             [
              0.7777777777777778,
              "#fb9f3a"
             ],
             [
              0.8888888888888888,
              "#fdca26"
             ],
             [
              1,
              "#f0f921"
             ]
            ],
            "type": "histogram2dcontour"
           }
          ],
          "mesh3d": [
           {
            "colorbar": {
             "outlinewidth": 0,
             "ticks": ""
            },
            "type": "mesh3d"
           }
          ],
          "parcoords": [
           {
            "line": {
             "colorbar": {
              "outlinewidth": 0,
              "ticks": ""
             }
            },
            "type": "parcoords"
           }
          ],
          "pie": [
           {
            "automargin": true,
            "type": "pie"
           }
          ],
          "scatter": [
           {
            "fillpattern": {
             "fillmode": "overlay",
             "size": 10,
             "solidity": 0.2
            },
            "type": "scatter"
           }
          ],
          "scatter3d": [
           {
            "line": {
             "colorbar": {
              "outlinewidth": 0,
              "ticks": ""
             }
            },
            "marker": {
             "colorbar": {
              "outlinewidth": 0,
              "ticks": ""
             }
            },
            "type": "scatter3d"
           }
          ],
          "scattercarpet": [
           {
            "marker": {
             "colorbar": {
              "outlinewidth": 0,
              "ticks": ""
             }
            },
            "type": "scattercarpet"
           }
          ],
          "scattergeo": [
           {
            "marker": {
             "colorbar": {
              "outlinewidth": 0,
              "ticks": ""
             }
            },
            "type": "scattergeo"
           }
          ],
          "scattergl": [
           {
            "marker": {
             "colorbar": {
              "outlinewidth": 0,
              "ticks": ""
             }
            },
            "type": "scattergl"
           }
          ],
          "scattermapbox": [
           {
            "marker": {
             "colorbar": {
              "outlinewidth": 0,
              "ticks": ""
             }
            },
            "type": "scattermapbox"
           }
          ],
          "scatterpolar": [
           {
            "marker": {
             "colorbar": {
              "outlinewidth": 0,
              "ticks": ""
             }
            },
            "type": "scatterpolar"
           }
          ],
          "scatterpolargl": [
           {
            "marker": {
             "colorbar": {
              "outlinewidth": 0,
              "ticks": ""
             }
            },
            "type": "scatterpolargl"
           }
          ],
          "scatterternary": [
           {
            "marker": {
             "colorbar": {
              "outlinewidth": 0,
              "ticks": ""
             }
            },
            "type": "scatterternary"
           }
          ],
          "surface": [
           {
            "colorbar": {
             "outlinewidth": 0,
             "ticks": ""
            },
            "colorscale": [
             [
              0,
              "#0d0887"
             ],
             [
              0.1111111111111111,
              "#46039f"
             ],
             [
              0.2222222222222222,
              "#7201a8"
             ],
             [
              0.3333333333333333,
              "#9c179e"
             ],
             [
              0.4444444444444444,
              "#bd3786"
             ],
             [
              0.5555555555555556,
              "#d8576b"
             ],
             [
              0.6666666666666666,
              "#ed7953"
             ],
             [
              0.7777777777777778,
              "#fb9f3a"
             ],
             [
              0.8888888888888888,
              "#fdca26"
             ],
             [
              1,
              "#f0f921"
             ]
            ],
            "type": "surface"
           }
          ],
          "table": [
           {
            "cells": {
             "fill": {
              "color": "#EBF0F8"
             },
             "line": {
              "color": "white"
             }
            },
            "header": {
             "fill": {
              "color": "#C8D4E3"
             },
             "line": {
              "color": "white"
             }
            },
            "type": "table"
           }
          ]
         },
         "layout": {
          "annotationdefaults": {
           "arrowcolor": "#2a3f5f",
           "arrowhead": 0,
           "arrowwidth": 1
          },
          "autotypenumbers": "strict",
          "coloraxis": {
           "colorbar": {
            "outlinewidth": 0,
            "ticks": ""
           }
          },
          "colorscale": {
           "diverging": [
            [
             0,
             "#8e0152"
            ],
            [
             0.1,
             "#c51b7d"
            ],
            [
             0.2,
             "#de77ae"
            ],
            [
             0.3,
             "#f1b6da"
            ],
            [
             0.4,
             "#fde0ef"
            ],
            [
             0.5,
             "#f7f7f7"
            ],
            [
             0.6,
             "#e6f5d0"
            ],
            [
             0.7,
             "#b8e186"
            ],
            [
             0.8,
             "#7fbc41"
            ],
            [
             0.9,
             "#4d9221"
            ],
            [
             1,
             "#276419"
            ]
           ],
           "sequential": [
            [
             0,
             "#0d0887"
            ],
            [
             0.1111111111111111,
             "#46039f"
            ],
            [
             0.2222222222222222,
             "#7201a8"
            ],
            [
             0.3333333333333333,
             "#9c179e"
            ],
            [
             0.4444444444444444,
             "#bd3786"
            ],
            [
             0.5555555555555556,
             "#d8576b"
            ],
            [
             0.6666666666666666,
             "#ed7953"
            ],
            [
             0.7777777777777778,
             "#fb9f3a"
            ],
            [
             0.8888888888888888,
             "#fdca26"
            ],
            [
             1,
             "#f0f921"
            ]
           ],
           "sequentialminus": [
            [
             0,
             "#0d0887"
            ],
            [
             0.1111111111111111,
             "#46039f"
            ],
            [
             0.2222222222222222,
             "#7201a8"
            ],
            [
             0.3333333333333333,
             "#9c179e"
            ],
            [
             0.4444444444444444,
             "#bd3786"
            ],
            [
             0.5555555555555556,
             "#d8576b"
            ],
            [
             0.6666666666666666,
             "#ed7953"
            ],
            [
             0.7777777777777778,
             "#fb9f3a"
            ],
            [
             0.8888888888888888,
             "#fdca26"
            ],
            [
             1,
             "#f0f921"
            ]
           ]
          },
          "colorway": [
           "#636efa",
           "#EF553B",
           "#00cc96",
           "#ab63fa",
           "#FFA15A",
           "#19d3f3",
           "#FF6692",
           "#B6E880",
           "#FF97FF",
           "#FECB52"
          ],
          "font": {
           "color": "#2a3f5f"
          },
          "geo": {
           "bgcolor": "white",
           "lakecolor": "white",
           "landcolor": "#E5ECF6",
           "showlakes": true,
           "showland": true,
           "subunitcolor": "white"
          },
          "hoverlabel": {
           "align": "left"
          },
          "hovermode": "closest",
          "mapbox": {
           "style": "light"
          },
          "paper_bgcolor": "white",
          "plot_bgcolor": "#E5ECF6",
          "polar": {
           "angularaxis": {
            "gridcolor": "white",
            "linecolor": "white",
            "ticks": ""
           },
           "bgcolor": "#E5ECF6",
           "radialaxis": {
            "gridcolor": "white",
            "linecolor": "white",
            "ticks": ""
           }
          },
          "scene": {
           "xaxis": {
            "backgroundcolor": "#E5ECF6",
            "gridcolor": "white",
            "gridwidth": 2,
            "linecolor": "white",
            "showbackground": true,
            "ticks": "",
            "zerolinecolor": "white"
           },
           "yaxis": {
            "backgroundcolor": "#E5ECF6",
            "gridcolor": "white",
            "gridwidth": 2,
            "linecolor": "white",
            "showbackground": true,
            "ticks": "",
            "zerolinecolor": "white"
           },
           "zaxis": {
            "backgroundcolor": "#E5ECF6",
            "gridcolor": "white",
            "gridwidth": 2,
            "linecolor": "white",
            "showbackground": true,
            "ticks": "",
            "zerolinecolor": "white"
           }
          },
          "shapedefaults": {
           "line": {
            "color": "#2a3f5f"
           }
          },
          "ternary": {
           "aaxis": {
            "gridcolor": "white",
            "linecolor": "white",
            "ticks": ""
           },
           "baxis": {
            "gridcolor": "white",
            "linecolor": "white",
            "ticks": ""
           },
           "bgcolor": "#E5ECF6",
           "caxis": {
            "gridcolor": "white",
            "linecolor": "white",
            "ticks": ""
           }
          },
          "title": {
           "x": 0.05
          },
          "xaxis": {
           "automargin": true,
           "gridcolor": "white",
           "linecolor": "white",
           "ticks": "",
           "title": {
            "standoff": 15
           },
           "zerolinecolor": "white",
           "zerolinewidth": 2
          },
          "yaxis": {
           "automargin": true,
           "gridcolor": "white",
           "linecolor": "white",
           "ticks": "",
           "title": {
            "standoff": 15
           },
           "zerolinecolor": "white",
           "zerolinewidth": 2
          }
         }
        },
        "width": 500
       }
      }
     },
     "metadata": {},
     "output_type": "display_data"
    }
   ],
   "source": [
    "import plotly.express as px\n",
    "\n",
    "fig1 = px.line_polar(drx_summer_score_df , r='stats' , theta='direction', color='player', line_close=True, range_r=(0,1) ,width = 500) \n",
    "fig2 = px.line_polar(geng_summer_score_df, r='stats', theta='direction', color='player', line_close=True, range_r=(0,1) ,width = 500)\n",
    "fig3 = px.line_polar(t1_summer_score_df, r='stats', theta='direction', color='player', line_close=True, range_r=(0,1) ,width = 500)\n",
    "fig4 = px.line_polar(dk_summer_score_df, r='stats', theta='direction', color='player', line_close=True, range_r=(0,1) ,width = 500)\n",
    "\n",
    "fig1.show()"
   ]
  },
  {
   "cell_type": "code",
   "execution_count": 479,
   "metadata": {},
   "outputs": [
    {
     "data": {
      "text/plain": [
       "'https://plotly.com/~damidaa/9/'"
      ]
     },
     "execution_count": 479,
     "metadata": {},
     "output_type": "execute_result"
    }
   ],
   "source": [
    "import chart_studio.tools\n",
    "\n",
    "username = 'damidaa'  # 자신의 username (plotly account를 만들어야 함)\n",
    "api_key = 'OuvIp3oI14tS4Sthfgrv'    # 자신의 api key (settings > regenerate key)\n",
    "  \n",
    "chart_studio.tools.set_credentials_file(username=username, api_key=api_key)\n",
    "\n",
    "py.plot(fig1, filename = 'radermap1', auto_open=False)  # fig: 작성한 차트를 저장한 변수\n",
    "  ## 위 코드를 실행하면 새로운 window로 해당 차트의 링크가 열리고, notebook에도 link를 아래에 return해줌"
   ]
  },
  {
   "cell_type": "code",
   "execution_count": 467,
   "metadata": {},
   "outputs": [
    {
     "data": {
      "application/vnd.plotly.v1+json": {
       "config": {
        "plotlyServerURL": "https://plotly.com"
       },
       "data": [
        {
         "hovertemplate": "player=Lehends<br>stats=%{r}<br>direction=%{theta}<extra></extra>",
         "legendgroup": "Lehends",
         "line": {
          "color": "#636efa",
          "dash": "solid"
         },
         "marker": {
          "symbol": "circle"
         },
         "mode": "lines",
         "name": "Lehends",
         "r": [
          0.09941068599630562,
          0.2320376797479642,
          0.11463959390862948,
          0.1944777475022707,
          0.07803262446119588,
          0.49096153846153845,
          0.09941068599630562
         ],
         "showlegend": true,
         "subplot": "polar",
         "theta": [
          "dpm",
          "damagetakenperminute",
          "goldat15",
          "xpat15",
          "cspm",
          "visionscore",
          "dpm"
         ],
         "type": "scatterpolar"
        },
        {
         "hovertemplate": "player=Ruler<br>stats=%{r}<br>direction=%{theta}<extra></extra>",
         "legendgroup": "Ruler",
         "line": {
          "color": "#EF553B",
          "dash": "solid"
         },
         "marker": {
          "symbol": "circle"
         },
         "mode": "lines",
         "name": "Ruler",
         "r": [
          0.495687334538683,
          0.2993165827668481,
          0.6031421319796955,
          0.4939600363306086,
          0.6400567233900567,
          0.3188461538461539,
          0.495687334538683
         ],
         "showlegend": true,
         "subplot": "polar",
         "theta": [
          "dpm",
          "damagetakenperminute",
          "goldat15",
          "xpat15",
          "cspm",
          "visionscore",
          "dpm"
         ],
         "type": "scatterpolar"
        },
        {
         "hovertemplate": "player=Chovy<br>stats=%{r}<br>direction=%{theta}<extra></extra>",
         "legendgroup": "Chovy",
         "line": {
          "color": "#00cc96",
          "dash": "solid"
         },
         "marker": {
          "symbol": "circle"
         },
         "mode": "lines",
         "name": "Chovy",
         "r": [
          0.4372162065741967,
          0.3312285540348937,
          0.5989086294416244,
          0.888819255222525,
          0.6759201378248997,
          0.2792307692307693,
          0.4372162065741967
         ],
         "showlegend": true,
         "subplot": "polar",
         "theta": [
          "dpm",
          "damagetakenperminute",
          "goldat15",
          "xpat15",
          "cspm",
          "visionscore",
          "dpm"
         ],
         "type": "scatterpolar"
        },
        {
         "hovertemplate": "player=Peanut<br>stats=%{r}<br>direction=%{theta}<extra></extra>",
         "legendgroup": "Peanut",
         "line": {
          "color": "#ab63fa",
          "dash": "solid"
         },
         "marker": {
          "symbol": "circle"
         },
         "mode": "lines",
         "name": "Peanut",
         "r": [
          0.16543107378739852,
          0.6028277025568618,
          0.4792284263959391,
          0.5358628519527702,
          0.4042976650119507,
          0.25538461538461543,
          0.16543107378739852
         ],
         "showlegend": true,
         "subplot": "polar",
         "theta": [
          "dpm",
          "damagetakenperminute",
          "goldat15",
          "xpat15",
          "cspm",
          "visionscore",
          "dpm"
         ],
         "type": "scatterpolar"
        },
        {
         "hovertemplate": "player=Doran<br>stats=%{r}<br>direction=%{theta}<extra></extra>",
         "legendgroup": "Doran",
         "line": {
          "color": "#FFA15A",
          "dash": "solid"
         },
         "marker": {
          "symbol": "circle"
         },
         "mode": "lines",
         "name": "Doran",
         "r": [
          0.3951486212130966,
          0.5721393579768065,
          0.5384517766497462,
          0.869400544959128,
          0.5776841467317657,
          0.11384615384615386,
          0.3951486212130966
         ],
         "showlegend": true,
         "subplot": "polar",
         "theta": [
          "dpm",
          "damagetakenperminute",
          "goldat15",
          "xpat15",
          "cspm",
          "visionscore",
          "dpm"
         ],
         "type": "scatterpolar"
        }
       ],
       "layout": {
        "legend": {
         "title": {
          "text": "player"
         },
         "tracegroupgap": 0
        },
        "margin": {
         "t": 60
        },
        "polar": {
         "angularaxis": {
          "direction": "clockwise",
          "rotation": 90
         },
         "domain": {
          "x": [
           0,
           1
          ],
          "y": [
           0,
           1
          ]
         },
         "radialaxis": {
          "range": [
           0,
           1
          ]
         }
        },
        "template": {
         "data": {
          "bar": [
           {
            "error_x": {
             "color": "#2a3f5f"
            },
            "error_y": {
             "color": "#2a3f5f"
            },
            "marker": {
             "line": {
              "color": "#E5ECF6",
              "width": 0.5
             },
             "pattern": {
              "fillmode": "overlay",
              "size": 10,
              "solidity": 0.2
             }
            },
            "type": "bar"
           }
          ],
          "barpolar": [
           {
            "marker": {
             "line": {
              "color": "#E5ECF6",
              "width": 0.5
             },
             "pattern": {
              "fillmode": "overlay",
              "size": 10,
              "solidity": 0.2
             }
            },
            "type": "barpolar"
           }
          ],
          "carpet": [
           {
            "aaxis": {
             "endlinecolor": "#2a3f5f",
             "gridcolor": "white",
             "linecolor": "white",
             "minorgridcolor": "white",
             "startlinecolor": "#2a3f5f"
            },
            "baxis": {
             "endlinecolor": "#2a3f5f",
             "gridcolor": "white",
             "linecolor": "white",
             "minorgridcolor": "white",
             "startlinecolor": "#2a3f5f"
            },
            "type": "carpet"
           }
          ],
          "choropleth": [
           {
            "colorbar": {
             "outlinewidth": 0,
             "ticks": ""
            },
            "type": "choropleth"
           }
          ],
          "contour": [
           {
            "colorbar": {
             "outlinewidth": 0,
             "ticks": ""
            },
            "colorscale": [
             [
              0,
              "#0d0887"
             ],
             [
              0.1111111111111111,
              "#46039f"
             ],
             [
              0.2222222222222222,
              "#7201a8"
             ],
             [
              0.3333333333333333,
              "#9c179e"
             ],
             [
              0.4444444444444444,
              "#bd3786"
             ],
             [
              0.5555555555555556,
              "#d8576b"
             ],
             [
              0.6666666666666666,
              "#ed7953"
             ],
             [
              0.7777777777777778,
              "#fb9f3a"
             ],
             [
              0.8888888888888888,
              "#fdca26"
             ],
             [
              1,
              "#f0f921"
             ]
            ],
            "type": "contour"
           }
          ],
          "contourcarpet": [
           {
            "colorbar": {
             "outlinewidth": 0,
             "ticks": ""
            },
            "type": "contourcarpet"
           }
          ],
          "heatmap": [
           {
            "colorbar": {
             "outlinewidth": 0,
             "ticks": ""
            },
            "colorscale": [
             [
              0,
              "#0d0887"
             ],
             [
              0.1111111111111111,
              "#46039f"
             ],
             [
              0.2222222222222222,
              "#7201a8"
             ],
             [
              0.3333333333333333,
              "#9c179e"
             ],
             [
              0.4444444444444444,
              "#bd3786"
             ],
             [
              0.5555555555555556,
              "#d8576b"
             ],
             [
              0.6666666666666666,
              "#ed7953"
             ],
             [
              0.7777777777777778,
              "#fb9f3a"
             ],
             [
              0.8888888888888888,
              "#fdca26"
             ],
             [
              1,
              "#f0f921"
             ]
            ],
            "type": "heatmap"
           }
          ],
          "heatmapgl": [
           {
            "colorbar": {
             "outlinewidth": 0,
             "ticks": ""
            },
            "colorscale": [
             [
              0,
              "#0d0887"
             ],
             [
              0.1111111111111111,
              "#46039f"
             ],
             [
              0.2222222222222222,
              "#7201a8"
             ],
             [
              0.3333333333333333,
              "#9c179e"
             ],
             [
              0.4444444444444444,
              "#bd3786"
             ],
             [
              0.5555555555555556,
              "#d8576b"
             ],
             [
              0.6666666666666666,
              "#ed7953"
             ],
             [
              0.7777777777777778,
              "#fb9f3a"
             ],
             [
              0.8888888888888888,
              "#fdca26"
             ],
             [
              1,
              "#f0f921"
             ]
            ],
            "type": "heatmapgl"
           }
          ],
          "histogram": [
           {
            "marker": {
             "pattern": {
              "fillmode": "overlay",
              "size": 10,
              "solidity": 0.2
             }
            },
            "type": "histogram"
           }
          ],
          "histogram2d": [
           {
            "colorbar": {
             "outlinewidth": 0,
             "ticks": ""
            },
            "colorscale": [
             [
              0,
              "#0d0887"
             ],
             [
              0.1111111111111111,
              "#46039f"
             ],
             [
              0.2222222222222222,
              "#7201a8"
             ],
             [
              0.3333333333333333,
              "#9c179e"
             ],
             [
              0.4444444444444444,
              "#bd3786"
             ],
             [
              0.5555555555555556,
              "#d8576b"
             ],
             [
              0.6666666666666666,
              "#ed7953"
             ],
             [
              0.7777777777777778,
              "#fb9f3a"
             ],
             [
              0.8888888888888888,
              "#fdca26"
             ],
             [
              1,
              "#f0f921"
             ]
            ],
            "type": "histogram2d"
           }
          ],
          "histogram2dcontour": [
           {
            "colorbar": {
             "outlinewidth": 0,
             "ticks": ""
            },
            "colorscale": [
             [
              0,
              "#0d0887"
             ],
             [
              0.1111111111111111,
              "#46039f"
             ],
             [
              0.2222222222222222,
              "#7201a8"
             ],
             [
              0.3333333333333333,
              "#9c179e"
             ],
             [
              0.4444444444444444,
              "#bd3786"
             ],
             [
              0.5555555555555556,
              "#d8576b"
             ],
             [
              0.6666666666666666,
              "#ed7953"
             ],
             [
              0.7777777777777778,
              "#fb9f3a"
             ],
             [
              0.8888888888888888,
              "#fdca26"
             ],
             [
              1,
              "#f0f921"
             ]
            ],
            "type": "histogram2dcontour"
           }
          ],
          "mesh3d": [
           {
            "colorbar": {
             "outlinewidth": 0,
             "ticks": ""
            },
            "type": "mesh3d"
           }
          ],
          "parcoords": [
           {
            "line": {
             "colorbar": {
              "outlinewidth": 0,
              "ticks": ""
             }
            },
            "type": "parcoords"
           }
          ],
          "pie": [
           {
            "automargin": true,
            "type": "pie"
           }
          ],
          "scatter": [
           {
            "fillpattern": {
             "fillmode": "overlay",
             "size": 10,
             "solidity": 0.2
            },
            "type": "scatter"
           }
          ],
          "scatter3d": [
           {
            "line": {
             "colorbar": {
              "outlinewidth": 0,
              "ticks": ""
             }
            },
            "marker": {
             "colorbar": {
              "outlinewidth": 0,
              "ticks": ""
             }
            },
            "type": "scatter3d"
           }
          ],
          "scattercarpet": [
           {
            "marker": {
             "colorbar": {
              "outlinewidth": 0,
              "ticks": ""
             }
            },
            "type": "scattercarpet"
           }
          ],
          "scattergeo": [
           {
            "marker": {
             "colorbar": {
              "outlinewidth": 0,
              "ticks": ""
             }
            },
            "type": "scattergeo"
           }
          ],
          "scattergl": [
           {
            "marker": {
             "colorbar": {
              "outlinewidth": 0,
              "ticks": ""
             }
            },
            "type": "scattergl"
           }
          ],
          "scattermapbox": [
           {
            "marker": {
             "colorbar": {
              "outlinewidth": 0,
              "ticks": ""
             }
            },
            "type": "scattermapbox"
           }
          ],
          "scatterpolar": [
           {
            "marker": {
             "colorbar": {
              "outlinewidth": 0,
              "ticks": ""
             }
            },
            "type": "scatterpolar"
           }
          ],
          "scatterpolargl": [
           {
            "marker": {
             "colorbar": {
              "outlinewidth": 0,
              "ticks": ""
             }
            },
            "type": "scatterpolargl"
           }
          ],
          "scatterternary": [
           {
            "marker": {
             "colorbar": {
              "outlinewidth": 0,
              "ticks": ""
             }
            },
            "type": "scatterternary"
           }
          ],
          "surface": [
           {
            "colorbar": {
             "outlinewidth": 0,
             "ticks": ""
            },
            "colorscale": [
             [
              0,
              "#0d0887"
             ],
             [
              0.1111111111111111,
              "#46039f"
             ],
             [
              0.2222222222222222,
              "#7201a8"
             ],
             [
              0.3333333333333333,
              "#9c179e"
             ],
             [
              0.4444444444444444,
              "#bd3786"
             ],
             [
              0.5555555555555556,
              "#d8576b"
             ],
             [
              0.6666666666666666,
              "#ed7953"
             ],
             [
              0.7777777777777778,
              "#fb9f3a"
             ],
             [
              0.8888888888888888,
              "#fdca26"
             ],
             [
              1,
              "#f0f921"
             ]
            ],
            "type": "surface"
           }
          ],
          "table": [
           {
            "cells": {
             "fill": {
              "color": "#EBF0F8"
             },
             "line": {
              "color": "white"
             }
            },
            "header": {
             "fill": {
              "color": "#C8D4E3"
             },
             "line": {
              "color": "white"
             }
            },
            "type": "table"
           }
          ]
         },
         "layout": {
          "annotationdefaults": {
           "arrowcolor": "#2a3f5f",
           "arrowhead": 0,
           "arrowwidth": 1
          },
          "autotypenumbers": "strict",
          "coloraxis": {
           "colorbar": {
            "outlinewidth": 0,
            "ticks": ""
           }
          },
          "colorscale": {
           "diverging": [
            [
             0,
             "#8e0152"
            ],
            [
             0.1,
             "#c51b7d"
            ],
            [
             0.2,
             "#de77ae"
            ],
            [
             0.3,
             "#f1b6da"
            ],
            [
             0.4,
             "#fde0ef"
            ],
            [
             0.5,
             "#f7f7f7"
            ],
            [
             0.6,
             "#e6f5d0"
            ],
            [
             0.7,
             "#b8e186"
            ],
            [
             0.8,
             "#7fbc41"
            ],
            [
             0.9,
             "#4d9221"
            ],
            [
             1,
             "#276419"
            ]
           ],
           "sequential": [
            [
             0,
             "#0d0887"
            ],
            [
             0.1111111111111111,
             "#46039f"
            ],
            [
             0.2222222222222222,
             "#7201a8"
            ],
            [
             0.3333333333333333,
             "#9c179e"
            ],
            [
             0.4444444444444444,
             "#bd3786"
            ],
            [
             0.5555555555555556,
             "#d8576b"
            ],
            [
             0.6666666666666666,
             "#ed7953"
            ],
            [
             0.7777777777777778,
             "#fb9f3a"
            ],
            [
             0.8888888888888888,
             "#fdca26"
            ],
            [
             1,
             "#f0f921"
            ]
           ],
           "sequentialminus": [
            [
             0,
             "#0d0887"
            ],
            [
             0.1111111111111111,
             "#46039f"
            ],
            [
             0.2222222222222222,
             "#7201a8"
            ],
            [
             0.3333333333333333,
             "#9c179e"
            ],
            [
             0.4444444444444444,
             "#bd3786"
            ],
            [
             0.5555555555555556,
             "#d8576b"
            ],
            [
             0.6666666666666666,
             "#ed7953"
            ],
            [
             0.7777777777777778,
             "#fb9f3a"
            ],
            [
             0.8888888888888888,
             "#fdca26"
            ],
            [
             1,
             "#f0f921"
            ]
           ]
          },
          "colorway": [
           "#636efa",
           "#EF553B",
           "#00cc96",
           "#ab63fa",
           "#FFA15A",
           "#19d3f3",
           "#FF6692",
           "#B6E880",
           "#FF97FF",
           "#FECB52"
          ],
          "font": {
           "color": "#2a3f5f"
          },
          "geo": {
           "bgcolor": "white",
           "lakecolor": "white",
           "landcolor": "#E5ECF6",
           "showlakes": true,
           "showland": true,
           "subunitcolor": "white"
          },
          "hoverlabel": {
           "align": "left"
          },
          "hovermode": "closest",
          "mapbox": {
           "style": "light"
          },
          "paper_bgcolor": "white",
          "plot_bgcolor": "#E5ECF6",
          "polar": {
           "angularaxis": {
            "gridcolor": "white",
            "linecolor": "white",
            "ticks": ""
           },
           "bgcolor": "#E5ECF6",
           "radialaxis": {
            "gridcolor": "white",
            "linecolor": "white",
            "ticks": ""
           }
          },
          "scene": {
           "xaxis": {
            "backgroundcolor": "#E5ECF6",
            "gridcolor": "white",
            "gridwidth": 2,
            "linecolor": "white",
            "showbackground": true,
            "ticks": "",
            "zerolinecolor": "white"
           },
           "yaxis": {
            "backgroundcolor": "#E5ECF6",
            "gridcolor": "white",
            "gridwidth": 2,
            "linecolor": "white",
            "showbackground": true,
            "ticks": "",
            "zerolinecolor": "white"
           },
           "zaxis": {
            "backgroundcolor": "#E5ECF6",
            "gridcolor": "white",
            "gridwidth": 2,
            "linecolor": "white",
            "showbackground": true,
            "ticks": "",
            "zerolinecolor": "white"
           }
          },
          "shapedefaults": {
           "line": {
            "color": "#2a3f5f"
           }
          },
          "ternary": {
           "aaxis": {
            "gridcolor": "white",
            "linecolor": "white",
            "ticks": ""
           },
           "baxis": {
            "gridcolor": "white",
            "linecolor": "white",
            "ticks": ""
           },
           "bgcolor": "#E5ECF6",
           "caxis": {
            "gridcolor": "white",
            "linecolor": "white",
            "ticks": ""
           }
          },
          "title": {
           "x": 0.05
          },
          "xaxis": {
           "automargin": true,
           "gridcolor": "white",
           "linecolor": "white",
           "ticks": "",
           "title": {
            "standoff": 15
           },
           "zerolinecolor": "white",
           "zerolinewidth": 2
          },
          "yaxis": {
           "automargin": true,
           "gridcolor": "white",
           "linecolor": "white",
           "ticks": "",
           "title": {
            "standoff": 15
           },
           "zerolinecolor": "white",
           "zerolinewidth": 2
          }
         }
        },
        "width": 500
       }
      }
     },
     "metadata": {},
     "output_type": "display_data"
    }
   ],
   "source": [
    "fig2.show()"
   ]
  },
  {
   "cell_type": "code",
   "execution_count": 480,
   "metadata": {},
   "outputs": [
    {
     "data": {
      "text/plain": [
       "'https://plotly.com/~damidaa/9/'"
      ]
     },
     "execution_count": 480,
     "metadata": {},
     "output_type": "execute_result"
    }
   ],
   "source": [
    "username = 'damidaa'  # 자신의 username (plotly account를 만들어야 함)\n",
    "api_key = 'OuvIp3oI14tS4Sthfgrv'    # 자신의 api key (settings > regenerate key)\n",
    "  \n",
    "chart_studio.tools.set_credentials_file(username=username, api_key=api_key)\n",
    "\n",
    "py.plot(fig2, filename = 'radermap1', auto_open=False)  # fig: 작성한 차트를 저장한 변수\n",
    "  ## 위 코드를 실행하면 새로운 window로 해당 차트의 링크가 열리고, notebook에도 link를 아래에 return해줌"
   ]
  },
  {
   "cell_type": "code",
   "execution_count": 468,
   "metadata": {},
   "outputs": [
    {
     "data": {
      "application/vnd.plotly.v1+json": {
       "config": {
        "plotlyServerURL": "https://plotly.com"
       },
       "data": [
        {
         "hovertemplate": "player=Keria<br>stats=%{r}<br>direction=%{theta}<extra></extra>",
         "legendgroup": "Keria",
         "line": {
          "color": "#636efa",
          "dash": "solid"
         },
         "marker": {
          "symbol": "circle"
         },
         "mode": "lines",
         "name": "Keria",
         "r": [
          0.10658794746933947,
          0.22808925486057713,
          0.14709736963544073,
          0.21158038147138966,
          0.1108023608023608,
          0.5451048951048951,
          0.10658794746933947
         ],
         "showlegend": true,
         "subplot": "polar",
         "theta": [
          "dpm",
          "damagetakenperminute",
          "goldat15",
          "xpat15",
          "cspm",
          "visionscore",
          "dpm"
         ],
         "type": "scatterpolar"
        },
        {
         "hovertemplate": "player=Gumayusi<br>stats=%{r}<br>direction=%{theta}<extra></extra>",
         "legendgroup": "Gumayusi",
         "line": {
          "color": "#EF553B",
          "dash": "solid"
         },
         "marker": {
          "symbol": "circle"
         },
         "mode": "lines",
         "name": "Gumayusi",
         "r": [
          0.36975615220066976,
          0.23705530436379882,
          0.5264651592062759,
          0.42821402031211303,
          0.606932535503964,
          0.23723776223776225,
          0.36975615220066976
         ],
         "showlegend": true,
         "subplot": "polar",
         "theta": [
          "dpm",
          "damagetakenperminute",
          "goldat15",
          "xpat15",
          "cspm",
          "visionscore",
          "dpm"
         ],
         "type": "scatterpolar"
        },
        {
         "hovertemplate": "player=Faker<br>stats=%{r}<br>direction=%{theta}<extra></extra>",
         "legendgroup": "Faker",
         "line": {
          "color": "#00cc96",
          "dash": "solid"
         },
         "marker": {
          "symbol": "circle"
         },
         "mode": "lines",
         "name": "Faker",
         "r": [
          0.37986908248725365,
          0.36658440524419333,
          0.5189986155976004,
          0.8063619849723392,
          0.5867780272542177,
          0.1839160839160839,
          0.37986908248725365
         ],
         "showlegend": true,
         "subplot": "polar",
         "theta": [
          "dpm",
          "damagetakenperminute",
          "goldat15",
          "xpat15",
          "cspm",
          "visionscore",
          "dpm"
         ],
         "type": "scatterpolar"
        },
        {
         "hovertemplate": "player=Oner<br>stats=%{r}<br>direction=%{theta}<extra></extra>",
         "legendgroup": "Oner",
         "line": {
          "color": "#ab63fa",
          "dash": "solid"
         },
         "marker": {
          "symbol": "circle"
         },
         "mode": "lines",
         "name": "Oner",
         "r": [
          0.19108514168808777,
          0.6044248957977262,
          0.4626580526072912,
          0.5083890677896128,
          0.4079289555480031,
          0.20069930069930073,
          0.19108514168808777
         ],
         "showlegend": true,
         "subplot": "polar",
         "theta": [
          "dpm",
          "damagetakenperminute",
          "goldat15",
          "xpat15",
          "cspm",
          "visionscore",
          "dpm"
         ],
         "type": "scatterpolar"
        },
        {
         "hovertemplate": "player=Zeus<br>stats=%{r}<br>direction=%{theta}<extra></extra>",
         "legendgroup": "Zeus",
         "line": {
          "color": "#FFA15A",
          "dash": "solid"
         },
         "marker": {
          "symbol": "circle"
         },
         "mode": "lines",
         "name": "Zeus",
         "r": [
          0.40002578649316867,
          0.5885987096179999,
          0.5296215966774342,
          0.8283874163983156,
          0.5440161868733298,
          0.125,
          0.40002578649316867
         ],
         "showlegend": true,
         "subplot": "polar",
         "theta": [
          "dpm",
          "damagetakenperminute",
          "goldat15",
          "xpat15",
          "cspm",
          "visionscore",
          "dpm"
         ],
         "type": "scatterpolar"
        }
       ],
       "layout": {
        "legend": {
         "title": {
          "text": "player"
         },
         "tracegroupgap": 0
        },
        "margin": {
         "t": 60
        },
        "polar": {
         "angularaxis": {
          "direction": "clockwise",
          "rotation": 90
         },
         "domain": {
          "x": [
           0,
           1
          ],
          "y": [
           0,
           1
          ]
         },
         "radialaxis": {
          "range": [
           0,
           1
          ]
         }
        },
        "template": {
         "data": {
          "bar": [
           {
            "error_x": {
             "color": "#2a3f5f"
            },
            "error_y": {
             "color": "#2a3f5f"
            },
            "marker": {
             "line": {
              "color": "#E5ECF6",
              "width": 0.5
             },
             "pattern": {
              "fillmode": "overlay",
              "size": 10,
              "solidity": 0.2
             }
            },
            "type": "bar"
           }
          ],
          "barpolar": [
           {
            "marker": {
             "line": {
              "color": "#E5ECF6",
              "width": 0.5
             },
             "pattern": {
              "fillmode": "overlay",
              "size": 10,
              "solidity": 0.2
             }
            },
            "type": "barpolar"
           }
          ],
          "carpet": [
           {
            "aaxis": {
             "endlinecolor": "#2a3f5f",
             "gridcolor": "white",
             "linecolor": "white",
             "minorgridcolor": "white",
             "startlinecolor": "#2a3f5f"
            },
            "baxis": {
             "endlinecolor": "#2a3f5f",
             "gridcolor": "white",
             "linecolor": "white",
             "minorgridcolor": "white",
             "startlinecolor": "#2a3f5f"
            },
            "type": "carpet"
           }
          ],
          "choropleth": [
           {
            "colorbar": {
             "outlinewidth": 0,
             "ticks": ""
            },
            "type": "choropleth"
           }
          ],
          "contour": [
           {
            "colorbar": {
             "outlinewidth": 0,
             "ticks": ""
            },
            "colorscale": [
             [
              0,
              "#0d0887"
             ],
             [
              0.1111111111111111,
              "#46039f"
             ],
             [
              0.2222222222222222,
              "#7201a8"
             ],
             [
              0.3333333333333333,
              "#9c179e"
             ],
             [
              0.4444444444444444,
              "#bd3786"
             ],
             [
              0.5555555555555556,
              "#d8576b"
             ],
             [
              0.6666666666666666,
              "#ed7953"
             ],
             [
              0.7777777777777778,
              "#fb9f3a"
             ],
             [
              0.8888888888888888,
              "#fdca26"
             ],
             [
              1,
              "#f0f921"
             ]
            ],
            "type": "contour"
           }
          ],
          "contourcarpet": [
           {
            "colorbar": {
             "outlinewidth": 0,
             "ticks": ""
            },
            "type": "contourcarpet"
           }
          ],
          "heatmap": [
           {
            "colorbar": {
             "outlinewidth": 0,
             "ticks": ""
            },
            "colorscale": [
             [
              0,
              "#0d0887"
             ],
             [
              0.1111111111111111,
              "#46039f"
             ],
             [
              0.2222222222222222,
              "#7201a8"
             ],
             [
              0.3333333333333333,
              "#9c179e"
             ],
             [
              0.4444444444444444,
              "#bd3786"
             ],
             [
              0.5555555555555556,
              "#d8576b"
             ],
             [
              0.6666666666666666,
              "#ed7953"
             ],
             [
              0.7777777777777778,
              "#fb9f3a"
             ],
             [
              0.8888888888888888,
              "#fdca26"
             ],
             [
              1,
              "#f0f921"
             ]
            ],
            "type": "heatmap"
           }
          ],
          "heatmapgl": [
           {
            "colorbar": {
             "outlinewidth": 0,
             "ticks": ""
            },
            "colorscale": [
             [
              0,
              "#0d0887"
             ],
             [
              0.1111111111111111,
              "#46039f"
             ],
             [
              0.2222222222222222,
              "#7201a8"
             ],
             [
              0.3333333333333333,
              "#9c179e"
             ],
             [
              0.4444444444444444,
              "#bd3786"
             ],
             [
              0.5555555555555556,
              "#d8576b"
             ],
             [
              0.6666666666666666,
              "#ed7953"
             ],
             [
              0.7777777777777778,
              "#fb9f3a"
             ],
             [
              0.8888888888888888,
              "#fdca26"
             ],
             [
              1,
              "#f0f921"
             ]
            ],
            "type": "heatmapgl"
           }
          ],
          "histogram": [
           {
            "marker": {
             "pattern": {
              "fillmode": "overlay",
              "size": 10,
              "solidity": 0.2
             }
            },
            "type": "histogram"
           }
          ],
          "histogram2d": [
           {
            "colorbar": {
             "outlinewidth": 0,
             "ticks": ""
            },
            "colorscale": [
             [
              0,
              "#0d0887"
             ],
             [
              0.1111111111111111,
              "#46039f"
             ],
             [
              0.2222222222222222,
              "#7201a8"
             ],
             [
              0.3333333333333333,
              "#9c179e"
             ],
             [
              0.4444444444444444,
              "#bd3786"
             ],
             [
              0.5555555555555556,
              "#d8576b"
             ],
             [
              0.6666666666666666,
              "#ed7953"
             ],
             [
              0.7777777777777778,
              "#fb9f3a"
             ],
             [
              0.8888888888888888,
              "#fdca26"
             ],
             [
              1,
              "#f0f921"
             ]
            ],
            "type": "histogram2d"
           }
          ],
          "histogram2dcontour": [
           {
            "colorbar": {
             "outlinewidth": 0,
             "ticks": ""
            },
            "colorscale": [
             [
              0,
              "#0d0887"
             ],
             [
              0.1111111111111111,
              "#46039f"
             ],
             [
              0.2222222222222222,
              "#7201a8"
             ],
             [
              0.3333333333333333,
              "#9c179e"
             ],
             [
              0.4444444444444444,
              "#bd3786"
             ],
             [
              0.5555555555555556,
              "#d8576b"
             ],
             [
              0.6666666666666666,
              "#ed7953"
             ],
             [
              0.7777777777777778,
              "#fb9f3a"
             ],
             [
              0.8888888888888888,
              "#fdca26"
             ],
             [
              1,
              "#f0f921"
             ]
            ],
            "type": "histogram2dcontour"
           }
          ],
          "mesh3d": [
           {
            "colorbar": {
             "outlinewidth": 0,
             "ticks": ""
            },
            "type": "mesh3d"
           }
          ],
          "parcoords": [
           {
            "line": {
             "colorbar": {
              "outlinewidth": 0,
              "ticks": ""
             }
            },
            "type": "parcoords"
           }
          ],
          "pie": [
           {
            "automargin": true,
            "type": "pie"
           }
          ],
          "scatter": [
           {
            "fillpattern": {
             "fillmode": "overlay",
             "size": 10,
             "solidity": 0.2
            },
            "type": "scatter"
           }
          ],
          "scatter3d": [
           {
            "line": {
             "colorbar": {
              "outlinewidth": 0,
              "ticks": ""
             }
            },
            "marker": {
             "colorbar": {
              "outlinewidth": 0,
              "ticks": ""
             }
            },
            "type": "scatter3d"
           }
          ],
          "scattercarpet": [
           {
            "marker": {
             "colorbar": {
              "outlinewidth": 0,
              "ticks": ""
             }
            },
            "type": "scattercarpet"
           }
          ],
          "scattergeo": [
           {
            "marker": {
             "colorbar": {
              "outlinewidth": 0,
              "ticks": ""
             }
            },
            "type": "scattergeo"
           }
          ],
          "scattergl": [
           {
            "marker": {
             "colorbar": {
              "outlinewidth": 0,
              "ticks": ""
             }
            },
            "type": "scattergl"
           }
          ],
          "scattermapbox": [
           {
            "marker": {
             "colorbar": {
              "outlinewidth": 0,
              "ticks": ""
             }
            },
            "type": "scattermapbox"
           }
          ],
          "scatterpolar": [
           {
            "marker": {
             "colorbar": {
              "outlinewidth": 0,
              "ticks": ""
             }
            },
            "type": "scatterpolar"
           }
          ],
          "scatterpolargl": [
           {
            "marker": {
             "colorbar": {
              "outlinewidth": 0,
              "ticks": ""
             }
            },
            "type": "scatterpolargl"
           }
          ],
          "scatterternary": [
           {
            "marker": {
             "colorbar": {
              "outlinewidth": 0,
              "ticks": ""
             }
            },
            "type": "scatterternary"
           }
          ],
          "surface": [
           {
            "colorbar": {
             "outlinewidth": 0,
             "ticks": ""
            },
            "colorscale": [
             [
              0,
              "#0d0887"
             ],
             [
              0.1111111111111111,
              "#46039f"
             ],
             [
              0.2222222222222222,
              "#7201a8"
             ],
             [
              0.3333333333333333,
              "#9c179e"
             ],
             [
              0.4444444444444444,
              "#bd3786"
             ],
             [
              0.5555555555555556,
              "#d8576b"
             ],
             [
              0.6666666666666666,
              "#ed7953"
             ],
             [
              0.7777777777777778,
              "#fb9f3a"
             ],
             [
              0.8888888888888888,
              "#fdca26"
             ],
             [
              1,
              "#f0f921"
             ]
            ],
            "type": "surface"
           }
          ],
          "table": [
           {
            "cells": {
             "fill": {
              "color": "#EBF0F8"
             },
             "line": {
              "color": "white"
             }
            },
            "header": {
             "fill": {
              "color": "#C8D4E3"
             },
             "line": {
              "color": "white"
             }
            },
            "type": "table"
           }
          ]
         },
         "layout": {
          "annotationdefaults": {
           "arrowcolor": "#2a3f5f",
           "arrowhead": 0,
           "arrowwidth": 1
          },
          "autotypenumbers": "strict",
          "coloraxis": {
           "colorbar": {
            "outlinewidth": 0,
            "ticks": ""
           }
          },
          "colorscale": {
           "diverging": [
            [
             0,
             "#8e0152"
            ],
            [
             0.1,
             "#c51b7d"
            ],
            [
             0.2,
             "#de77ae"
            ],
            [
             0.3,
             "#f1b6da"
            ],
            [
             0.4,
             "#fde0ef"
            ],
            [
             0.5,
             "#f7f7f7"
            ],
            [
             0.6,
             "#e6f5d0"
            ],
            [
             0.7,
             "#b8e186"
            ],
            [
             0.8,
             "#7fbc41"
            ],
            [
             0.9,
             "#4d9221"
            ],
            [
             1,
             "#276419"
            ]
           ],
           "sequential": [
            [
             0,
             "#0d0887"
            ],
            [
             0.1111111111111111,
             "#46039f"
            ],
            [
             0.2222222222222222,
             "#7201a8"
            ],
            [
             0.3333333333333333,
             "#9c179e"
            ],
            [
             0.4444444444444444,
             "#bd3786"
            ],
            [
             0.5555555555555556,
             "#d8576b"
            ],
            [
             0.6666666666666666,
             "#ed7953"
            ],
            [
             0.7777777777777778,
             "#fb9f3a"
            ],
            [
             0.8888888888888888,
             "#fdca26"
            ],
            [
             1,
             "#f0f921"
            ]
           ],
           "sequentialminus": [
            [
             0,
             "#0d0887"
            ],
            [
             0.1111111111111111,
             "#46039f"
            ],
            [
             0.2222222222222222,
             "#7201a8"
            ],
            [
             0.3333333333333333,
             "#9c179e"
            ],
            [
             0.4444444444444444,
             "#bd3786"
            ],
            [
             0.5555555555555556,
             "#d8576b"
            ],
            [
             0.6666666666666666,
             "#ed7953"
            ],
            [
             0.7777777777777778,
             "#fb9f3a"
            ],
            [
             0.8888888888888888,
             "#fdca26"
            ],
            [
             1,
             "#f0f921"
            ]
           ]
          },
          "colorway": [
           "#636efa",
           "#EF553B",
           "#00cc96",
           "#ab63fa",
           "#FFA15A",
           "#19d3f3",
           "#FF6692",
           "#B6E880",
           "#FF97FF",
           "#FECB52"
          ],
          "font": {
           "color": "#2a3f5f"
          },
          "geo": {
           "bgcolor": "white",
           "lakecolor": "white",
           "landcolor": "#E5ECF6",
           "showlakes": true,
           "showland": true,
           "subunitcolor": "white"
          },
          "hoverlabel": {
           "align": "left"
          },
          "hovermode": "closest",
          "mapbox": {
           "style": "light"
          },
          "paper_bgcolor": "white",
          "plot_bgcolor": "#E5ECF6",
          "polar": {
           "angularaxis": {
            "gridcolor": "white",
            "linecolor": "white",
            "ticks": ""
           },
           "bgcolor": "#E5ECF6",
           "radialaxis": {
            "gridcolor": "white",
            "linecolor": "white",
            "ticks": ""
           }
          },
          "scene": {
           "xaxis": {
            "backgroundcolor": "#E5ECF6",
            "gridcolor": "white",
            "gridwidth": 2,
            "linecolor": "white",
            "showbackground": true,
            "ticks": "",
            "zerolinecolor": "white"
           },
           "yaxis": {
            "backgroundcolor": "#E5ECF6",
            "gridcolor": "white",
            "gridwidth": 2,
            "linecolor": "white",
            "showbackground": true,
            "ticks": "",
            "zerolinecolor": "white"
           },
           "zaxis": {
            "backgroundcolor": "#E5ECF6",
            "gridcolor": "white",
            "gridwidth": 2,
            "linecolor": "white",
            "showbackground": true,
            "ticks": "",
            "zerolinecolor": "white"
           }
          },
          "shapedefaults": {
           "line": {
            "color": "#2a3f5f"
           }
          },
          "ternary": {
           "aaxis": {
            "gridcolor": "white",
            "linecolor": "white",
            "ticks": ""
           },
           "baxis": {
            "gridcolor": "white",
            "linecolor": "white",
            "ticks": ""
           },
           "bgcolor": "#E5ECF6",
           "caxis": {
            "gridcolor": "white",
            "linecolor": "white",
            "ticks": ""
           }
          },
          "title": {
           "x": 0.05
          },
          "xaxis": {
           "automargin": true,
           "gridcolor": "white",
           "linecolor": "white",
           "ticks": "",
           "title": {
            "standoff": 15
           },
           "zerolinecolor": "white",
           "zerolinewidth": 2
          },
          "yaxis": {
           "automargin": true,
           "gridcolor": "white",
           "linecolor": "white",
           "ticks": "",
           "title": {
            "standoff": 15
           },
           "zerolinecolor": "white",
           "zerolinewidth": 2
          }
         }
        },
        "width": 500
       }
      }
     },
     "metadata": {},
     "output_type": "display_data"
    }
   ],
   "source": [
    "fig3.show()"
   ]
  },
  {
   "cell_type": "code",
   "execution_count": 481,
   "metadata": {},
   "outputs": [
    {
     "data": {
      "text/plain": [
       "'https://plotly.com/~damidaa/12/'"
      ]
     },
     "execution_count": 481,
     "metadata": {},
     "output_type": "execute_result"
    }
   ],
   "source": [
    "username = 'damidaa'  # 자신의 username (plotly account를 만들어야 함)\n",
    "api_key = 'OuvIp3oI14tS4Sthfgrv'    # 자신의 api key (settings > regenerate key)\n",
    "  \n",
    "chart_studio.tools.set_credentials_file(username=username, api_key=api_key)\n",
    "\n",
    "py.plot(fig3, filename = 'radermap3', auto_open=False)  # fig: 작성한 차트를 저장한 변수\n",
    "  ## 위 코드를 실행하면 새로운 window로 해당 차트의 링크가 열리고, notebook에도 link를 아래에 return해줌"
   ]
  },
  {
   "cell_type": "code",
   "execution_count": 469,
   "metadata": {},
   "outputs": [
    {
     "data": {
      "application/vnd.plotly.v1+json": {
       "config": {
        "plotlyServerURL": "https://plotly.com"
       },
       "data": [
        {
         "hovertemplate": "player=Kellin<br>stats=%{r}<br>direction=%{theta}<extra></extra>",
         "legendgroup": "Kellin",
         "line": {
          "color": "#636efa",
          "dash": "solid"
         },
         "marker": {
          "symbol": "circle"
         },
         "mode": "lines",
         "name": "Kellin",
         "r": [
          0.11728757716805949,
          0.16599002761917542,
          0.12271855611957139,
          0.1861085881521849,
          0.05138982519934901,
          0.551923076923077,
          0.11728757716805949
         ],
         "showlegend": true,
         "subplot": "polar",
         "theta": [
          "dpm",
          "damagetakenperminute",
          "goldat15",
          "xpat15",
          "cspm",
          "visionscore",
          "dpm"
         ],
         "type": "scatterpolar"
        },
        {
         "hovertemplate": "player=deokdam<br>stats=%{r}<br>direction=%{theta}<extra></extra>",
         "legendgroup": "deokdam",
         "line": {
          "color": "#EF553B",
          "dash": "solid"
         },
         "marker": {
          "symbol": "circle"
         },
         "mode": "lines",
         "name": "deokdam",
         "r": [
          0.45095774802651895,
          0.28325263578118753,
          0.5429045437662499,
          0.4516780753638599,
          0.6125299017285079,
          0.19174484052532834,
          0.45095774802651895
         ],
         "showlegend": true,
         "subplot": "polar",
         "theta": [
          "dpm",
          "damagetakenperminute",
          "goldat15",
          "xpat15",
          "cspm",
          "visionscore",
          "dpm"
         ],
         "type": "scatterpolar"
        },
        {
         "hovertemplate": "player=ShowMaker<br>stats=%{r}<br>direction=%{theta}<extra></extra>",
         "legendgroup": "ShowMaker",
         "line": {
          "color": "#00cc96",
          "dash": "solid"
         },
         "marker": {
          "symbol": "circle"
         },
         "mode": "lines",
         "name": "ShowMaker",
         "r": [
          0.35689547925950127,
          0.32918952002902246,
          0.5351987123932154,
          0.8678806406592677,
          0.5972918330641908,
          0.22833020637898688,
          0.35689547925950127
         ],
         "showlegend": true,
         "subplot": "polar",
         "theta": [
          "dpm",
          "damagetakenperminute",
          "goldat15",
          "xpat15",
          "cspm",
          "visionscore",
          "dpm"
         ],
         "type": "scatterpolar"
        },
        {
         "hovertemplate": "player=Canyon<br>stats=%{r}<br>direction=%{theta}<extra></extra>",
         "legendgroup": "Canyon",
         "line": {
          "color": "#ab63fa",
          "dash": "solid"
         },
         "marker": {
          "symbol": "circle"
         },
         "mode": "lines",
         "name": "Canyon",
         "r": [
          0.2286974717664927,
          0.6335057173568793,
          0.4311501795220998,
          0.5121463857690348,
          0.41965393301049514,
          0.28123827392120077,
          0.2286974717664927
         ],
         "showlegend": true,
         "subplot": "polar",
         "theta": [
          "dpm",
          "damagetakenperminute",
          "goldat15",
          "xpat15",
          "cspm",
          "visionscore",
          "dpm"
         ],
         "type": "scatterpolar"
        },
        {
         "hovertemplate": "player=Nuguri<br>stats=%{r}<br>direction=%{theta}<extra></extra>",
         "legendgroup": "Nuguri",
         "line": {
          "color": "#FFA15A",
          "dash": "solid"
         },
         "marker": {
          "symbol": "circle"
         },
         "mode": "lines",
         "name": "Nuguri",
         "r": [
          0.3720193873360787,
          0.5943947873283361,
          0.5317419834096818,
          0.8678186127910327,
          0.5369735090989446,
          0.1647279549718574,
          0.3720193873360787
         ],
         "showlegend": true,
         "subplot": "polar",
         "theta": [
          "dpm",
          "damagetakenperminute",
          "goldat15",
          "xpat15",
          "cspm",
          "visionscore",
          "dpm"
         ],
         "type": "scatterpolar"
        }
       ],
       "layout": {
        "legend": {
         "title": {
          "text": "player"
         },
         "tracegroupgap": 0
        },
        "margin": {
         "t": 60
        },
        "polar": {
         "angularaxis": {
          "direction": "clockwise",
          "rotation": 90
         },
         "domain": {
          "x": [
           0,
           1
          ],
          "y": [
           0,
           1
          ]
         },
         "radialaxis": {
          "range": [
           0,
           1
          ]
         }
        },
        "template": {
         "data": {
          "bar": [
           {
            "error_x": {
             "color": "#2a3f5f"
            },
            "error_y": {
             "color": "#2a3f5f"
            },
            "marker": {
             "line": {
              "color": "#E5ECF6",
              "width": 0.5
             },
             "pattern": {
              "fillmode": "overlay",
              "size": 10,
              "solidity": 0.2
             }
            },
            "type": "bar"
           }
          ],
          "barpolar": [
           {
            "marker": {
             "line": {
              "color": "#E5ECF6",
              "width": 0.5
             },
             "pattern": {
              "fillmode": "overlay",
              "size": 10,
              "solidity": 0.2
             }
            },
            "type": "barpolar"
           }
          ],
          "carpet": [
           {
            "aaxis": {
             "endlinecolor": "#2a3f5f",
             "gridcolor": "white",
             "linecolor": "white",
             "minorgridcolor": "white",
             "startlinecolor": "#2a3f5f"
            },
            "baxis": {
             "endlinecolor": "#2a3f5f",
             "gridcolor": "white",
             "linecolor": "white",
             "minorgridcolor": "white",
             "startlinecolor": "#2a3f5f"
            },
            "type": "carpet"
           }
          ],
          "choropleth": [
           {
            "colorbar": {
             "outlinewidth": 0,
             "ticks": ""
            },
            "type": "choropleth"
           }
          ],
          "contour": [
           {
            "colorbar": {
             "outlinewidth": 0,
             "ticks": ""
            },
            "colorscale": [
             [
              0,
              "#0d0887"
             ],
             [
              0.1111111111111111,
              "#46039f"
             ],
             [
              0.2222222222222222,
              "#7201a8"
             ],
             [
              0.3333333333333333,
              "#9c179e"
             ],
             [
              0.4444444444444444,
              "#bd3786"
             ],
             [
              0.5555555555555556,
              "#d8576b"
             ],
             [
              0.6666666666666666,
              "#ed7953"
             ],
             [
              0.7777777777777778,
              "#fb9f3a"
             ],
             [
              0.8888888888888888,
              "#fdca26"
             ],
             [
              1,
              "#f0f921"
             ]
            ],
            "type": "contour"
           }
          ],
          "contourcarpet": [
           {
            "colorbar": {
             "outlinewidth": 0,
             "ticks": ""
            },
            "type": "contourcarpet"
           }
          ],
          "heatmap": [
           {
            "colorbar": {
             "outlinewidth": 0,
             "ticks": ""
            },
            "colorscale": [
             [
              0,
              "#0d0887"
             ],
             [
              0.1111111111111111,
              "#46039f"
             ],
             [
              0.2222222222222222,
              "#7201a8"
             ],
             [
              0.3333333333333333,
              "#9c179e"
             ],
             [
              0.4444444444444444,
              "#bd3786"
             ],
             [
              0.5555555555555556,
              "#d8576b"
             ],
             [
              0.6666666666666666,
              "#ed7953"
             ],
             [
              0.7777777777777778,
              "#fb9f3a"
             ],
             [
              0.8888888888888888,
              "#fdca26"
             ],
             [
              1,
              "#f0f921"
             ]
            ],
            "type": "heatmap"
           }
          ],
          "heatmapgl": [
           {
            "colorbar": {
             "outlinewidth": 0,
             "ticks": ""
            },
            "colorscale": [
             [
              0,
              "#0d0887"
             ],
             [
              0.1111111111111111,
              "#46039f"
             ],
             [
              0.2222222222222222,
              "#7201a8"
             ],
             [
              0.3333333333333333,
              "#9c179e"
             ],
             [
              0.4444444444444444,
              "#bd3786"
             ],
             [
              0.5555555555555556,
              "#d8576b"
             ],
             [
              0.6666666666666666,
              "#ed7953"
             ],
             [
              0.7777777777777778,
              "#fb9f3a"
             ],
             [
              0.8888888888888888,
              "#fdca26"
             ],
             [
              1,
              "#f0f921"
             ]
            ],
            "type": "heatmapgl"
           }
          ],
          "histogram": [
           {
            "marker": {
             "pattern": {
              "fillmode": "overlay",
              "size": 10,
              "solidity": 0.2
             }
            },
            "type": "histogram"
           }
          ],
          "histogram2d": [
           {
            "colorbar": {
             "outlinewidth": 0,
             "ticks": ""
            },
            "colorscale": [
             [
              0,
              "#0d0887"
             ],
             [
              0.1111111111111111,
              "#46039f"
             ],
             [
              0.2222222222222222,
              "#7201a8"
             ],
             [
              0.3333333333333333,
              "#9c179e"
             ],
             [
              0.4444444444444444,
              "#bd3786"
             ],
             [
              0.5555555555555556,
              "#d8576b"
             ],
             [
              0.6666666666666666,
              "#ed7953"
             ],
             [
              0.7777777777777778,
              "#fb9f3a"
             ],
             [
              0.8888888888888888,
              "#fdca26"
             ],
             [
              1,
              "#f0f921"
             ]
            ],
            "type": "histogram2d"
           }
          ],
          "histogram2dcontour": [
           {
            "colorbar": {
             "outlinewidth": 0,
             "ticks": ""
            },
            "colorscale": [
             [
              0,
              "#0d0887"
             ],
             [
              0.1111111111111111,
              "#46039f"
             ],
             [
              0.2222222222222222,
              "#7201a8"
             ],
             [
              0.3333333333333333,
              "#9c179e"
             ],
             [
              0.4444444444444444,
              "#bd3786"
             ],
             [
              0.5555555555555556,
              "#d8576b"
             ],
             [
              0.6666666666666666,
              "#ed7953"
             ],
             [
              0.7777777777777778,
              "#fb9f3a"
             ],
             [
              0.8888888888888888,
              "#fdca26"
             ],
             [
              1,
              "#f0f921"
             ]
            ],
            "type": "histogram2dcontour"
           }
          ],
          "mesh3d": [
           {
            "colorbar": {
             "outlinewidth": 0,
             "ticks": ""
            },
            "type": "mesh3d"
           }
          ],
          "parcoords": [
           {
            "line": {
             "colorbar": {
              "outlinewidth": 0,
              "ticks": ""
             }
            },
            "type": "parcoords"
           }
          ],
          "pie": [
           {
            "automargin": true,
            "type": "pie"
           }
          ],
          "scatter": [
           {
            "fillpattern": {
             "fillmode": "overlay",
             "size": 10,
             "solidity": 0.2
            },
            "type": "scatter"
           }
          ],
          "scatter3d": [
           {
            "line": {
             "colorbar": {
              "outlinewidth": 0,
              "ticks": ""
             }
            },
            "marker": {
             "colorbar": {
              "outlinewidth": 0,
              "ticks": ""
             }
            },
            "type": "scatter3d"
           }
          ],
          "scattercarpet": [
           {
            "marker": {
             "colorbar": {
              "outlinewidth": 0,
              "ticks": ""
             }
            },
            "type": "scattercarpet"
           }
          ],
          "scattergeo": [
           {
            "marker": {
             "colorbar": {
              "outlinewidth": 0,
              "ticks": ""
             }
            },
            "type": "scattergeo"
           }
          ],
          "scattergl": [
           {
            "marker": {
             "colorbar": {
              "outlinewidth": 0,
              "ticks": ""
             }
            },
            "type": "scattergl"
           }
          ],
          "scattermapbox": [
           {
            "marker": {
             "colorbar": {
              "outlinewidth": 0,
              "ticks": ""
             }
            },
            "type": "scattermapbox"
           }
          ],
          "scatterpolar": [
           {
            "marker": {
             "colorbar": {
              "outlinewidth": 0,
              "ticks": ""
             }
            },
            "type": "scatterpolar"
           }
          ],
          "scatterpolargl": [
           {
            "marker": {
             "colorbar": {
              "outlinewidth": 0,
              "ticks": ""
             }
            },
            "type": "scatterpolargl"
           }
          ],
          "scatterternary": [
           {
            "marker": {
             "colorbar": {
              "outlinewidth": 0,
              "ticks": ""
             }
            },
            "type": "scatterternary"
           }
          ],
          "surface": [
           {
            "colorbar": {
             "outlinewidth": 0,
             "ticks": ""
            },
            "colorscale": [
             [
              0,
              "#0d0887"
             ],
             [
              0.1111111111111111,
              "#46039f"
             ],
             [
              0.2222222222222222,
              "#7201a8"
             ],
             [
              0.3333333333333333,
              "#9c179e"
             ],
             [
              0.4444444444444444,
              "#bd3786"
             ],
             [
              0.5555555555555556,
              "#d8576b"
             ],
             [
              0.6666666666666666,
              "#ed7953"
             ],
             [
              0.7777777777777778,
              "#fb9f3a"
             ],
             [
              0.8888888888888888,
              "#fdca26"
             ],
             [
              1,
              "#f0f921"
             ]
            ],
            "type": "surface"
           }
          ],
          "table": [
           {
            "cells": {
             "fill": {
              "color": "#EBF0F8"
             },
             "line": {
              "color": "white"
             }
            },
            "header": {
             "fill": {
              "color": "#C8D4E3"
             },
             "line": {
              "color": "white"
             }
            },
            "type": "table"
           }
          ]
         },
         "layout": {
          "annotationdefaults": {
           "arrowcolor": "#2a3f5f",
           "arrowhead": 0,
           "arrowwidth": 1
          },
          "autotypenumbers": "strict",
          "coloraxis": {
           "colorbar": {
            "outlinewidth": 0,
            "ticks": ""
           }
          },
          "colorscale": {
           "diverging": [
            [
             0,
             "#8e0152"
            ],
            [
             0.1,
             "#c51b7d"
            ],
            [
             0.2,
             "#de77ae"
            ],
            [
             0.3,
             "#f1b6da"
            ],
            [
             0.4,
             "#fde0ef"
            ],
            [
             0.5,
             "#f7f7f7"
            ],
            [
             0.6,
             "#e6f5d0"
            ],
            [
             0.7,
             "#b8e186"
            ],
            [
             0.8,
             "#7fbc41"
            ],
            [
             0.9,
             "#4d9221"
            ],
            [
             1,
             "#276419"
            ]
           ],
           "sequential": [
            [
             0,
             "#0d0887"
            ],
            [
             0.1111111111111111,
             "#46039f"
            ],
            [
             0.2222222222222222,
             "#7201a8"
            ],
            [
             0.3333333333333333,
             "#9c179e"
            ],
            [
             0.4444444444444444,
             "#bd3786"
            ],
            [
             0.5555555555555556,
             "#d8576b"
            ],
            [
             0.6666666666666666,
             "#ed7953"
            ],
            [
             0.7777777777777778,
             "#fb9f3a"
            ],
            [
             0.8888888888888888,
             "#fdca26"
            ],
            [
             1,
             "#f0f921"
            ]
           ],
           "sequentialminus": [
            [
             0,
             "#0d0887"
            ],
            [
             0.1111111111111111,
             "#46039f"
            ],
            [
             0.2222222222222222,
             "#7201a8"
            ],
            [
             0.3333333333333333,
             "#9c179e"
            ],
            [
             0.4444444444444444,
             "#bd3786"
            ],
            [
             0.5555555555555556,
             "#d8576b"
            ],
            [
             0.6666666666666666,
             "#ed7953"
            ],
            [
             0.7777777777777778,
             "#fb9f3a"
            ],
            [
             0.8888888888888888,
             "#fdca26"
            ],
            [
             1,
             "#f0f921"
            ]
           ]
          },
          "colorway": [
           "#636efa",
           "#EF553B",
           "#00cc96",
           "#ab63fa",
           "#FFA15A",
           "#19d3f3",
           "#FF6692",
           "#B6E880",
           "#FF97FF",
           "#FECB52"
          ],
          "font": {
           "color": "#2a3f5f"
          },
          "geo": {
           "bgcolor": "white",
           "lakecolor": "white",
           "landcolor": "#E5ECF6",
           "showlakes": true,
           "showland": true,
           "subunitcolor": "white"
          },
          "hoverlabel": {
           "align": "left"
          },
          "hovermode": "closest",
          "mapbox": {
           "style": "light"
          },
          "paper_bgcolor": "white",
          "plot_bgcolor": "#E5ECF6",
          "polar": {
           "angularaxis": {
            "gridcolor": "white",
            "linecolor": "white",
            "ticks": ""
           },
           "bgcolor": "#E5ECF6",
           "radialaxis": {
            "gridcolor": "white",
            "linecolor": "white",
            "ticks": ""
           }
          },
          "scene": {
           "xaxis": {
            "backgroundcolor": "#E5ECF6",
            "gridcolor": "white",
            "gridwidth": 2,
            "linecolor": "white",
            "showbackground": true,
            "ticks": "",
            "zerolinecolor": "white"
           },
           "yaxis": {
            "backgroundcolor": "#E5ECF6",
            "gridcolor": "white",
            "gridwidth": 2,
            "linecolor": "white",
            "showbackground": true,
            "ticks": "",
            "zerolinecolor": "white"
           },
           "zaxis": {
            "backgroundcolor": "#E5ECF6",
            "gridcolor": "white",
            "gridwidth": 2,
            "linecolor": "white",
            "showbackground": true,
            "ticks": "",
            "zerolinecolor": "white"
           }
          },
          "shapedefaults": {
           "line": {
            "color": "#2a3f5f"
           }
          },
          "ternary": {
           "aaxis": {
            "gridcolor": "white",
            "linecolor": "white",
            "ticks": ""
           },
           "baxis": {
            "gridcolor": "white",
            "linecolor": "white",
            "ticks": ""
           },
           "bgcolor": "#E5ECF6",
           "caxis": {
            "gridcolor": "white",
            "linecolor": "white",
            "ticks": ""
           }
          },
          "title": {
           "x": 0.05
          },
          "xaxis": {
           "automargin": true,
           "gridcolor": "white",
           "linecolor": "white",
           "ticks": "",
           "title": {
            "standoff": 15
           },
           "zerolinecolor": "white",
           "zerolinewidth": 2
          },
          "yaxis": {
           "automargin": true,
           "gridcolor": "white",
           "linecolor": "white",
           "ticks": "",
           "title": {
            "standoff": 15
           },
           "zerolinecolor": "white",
           "zerolinewidth": 2
          }
         }
        },
        "width": 500
       }
      }
     },
     "metadata": {},
     "output_type": "display_data"
    }
   ],
   "source": [
    "fig4.show()"
   ]
  },
  {
   "cell_type": "code",
   "execution_count": 482,
   "metadata": {},
   "outputs": [
    {
     "data": {
      "text/plain": [
       "'https://plotly.com/~damidaa/14/'"
      ]
     },
     "execution_count": 482,
     "metadata": {},
     "output_type": "execute_result"
    }
   ],
   "source": [
    "username = 'damidaa'  # 자신의 username (plotly account를 만들어야 함)\n",
    "api_key = 'OuvIp3oI14tS4Sthfgrv'    # 자신의 api key (settings > regenerate key)\n",
    "  \n",
    "chart_studio.tools.set_credentials_file(username=username, api_key=api_key)\n",
    "\n",
    "py.plot(fig4, filename = 'radermap4', auto_open=False)  # fig: 작성한 차트를 저장한 변수\n",
    "  ## 위 코드를 실행하면 새로운 window로 해당 차트의 링크가 열리고, notebook에도 link를 아래에 return해줌"
   ]
  },
  {
   "cell_type": "code",
   "execution_count": 450,
   "metadata": {},
   "outputs": [
    {
     "data": {
      "text/html": [
       "<div>\n",
       "<style scoped>\n",
       "    .dataframe tbody tr th:only-of-type {\n",
       "        vertical-align: middle;\n",
       "    }\n",
       "\n",
       "    .dataframe tbody tr th {\n",
       "        vertical-align: top;\n",
       "    }\n",
       "\n",
       "    .dataframe thead th {\n",
       "        text-align: right;\n",
       "    }\n",
       "</style>\n",
       "<table border=\"1\" class=\"dataframe\">\n",
       "  <thead>\n",
       "    <tr style=\"text-align: right;\">\n",
       "      <th></th>\n",
       "      <th>dpm</th>\n",
       "      <th>damagetakenperminute</th>\n",
       "      <th>goldat15</th>\n",
       "      <th>xpat15</th>\n",
       "      <th>cspm</th>\n",
       "      <th>visionscore</th>\n",
       "    </tr>\n",
       "    <tr>\n",
       "      <th>playername</th>\n",
       "      <th></th>\n",
       "      <th></th>\n",
       "      <th></th>\n",
       "      <th></th>\n",
       "      <th></th>\n",
       "      <th></th>\n",
       "    </tr>\n",
       "  </thead>\n",
       "  <tbody>\n",
       "    <tr>\n",
       "      <th>Faker</th>\n",
       "      <td>0.379869</td>\n",
       "      <td>0.366584</td>\n",
       "      <td>0.518999</td>\n",
       "      <td>0.806362</td>\n",
       "      <td>0.586778</td>\n",
       "      <td>0.183916</td>\n",
       "    </tr>\n",
       "    <tr>\n",
       "      <th>Gumayusi</th>\n",
       "      <td>0.369756</td>\n",
       "      <td>0.237055</td>\n",
       "      <td>0.526465</td>\n",
       "      <td>0.428214</td>\n",
       "      <td>0.606933</td>\n",
       "      <td>0.237238</td>\n",
       "    </tr>\n",
       "    <tr>\n",
       "      <th>Keria</th>\n",
       "      <td>0.106588</td>\n",
       "      <td>0.228089</td>\n",
       "      <td>0.147097</td>\n",
       "      <td>0.211580</td>\n",
       "      <td>0.110802</td>\n",
       "      <td>0.545105</td>\n",
       "    </tr>\n",
       "    <tr>\n",
       "      <th>Oner</th>\n",
       "      <td>0.191085</td>\n",
       "      <td>0.604425</td>\n",
       "      <td>0.462658</td>\n",
       "      <td>0.508389</td>\n",
       "      <td>0.407929</td>\n",
       "      <td>0.200699</td>\n",
       "    </tr>\n",
       "    <tr>\n",
       "      <th>Zeus</th>\n",
       "      <td>0.400026</td>\n",
       "      <td>0.588599</td>\n",
       "      <td>0.529622</td>\n",
       "      <td>0.828387</td>\n",
       "      <td>0.544016</td>\n",
       "      <td>0.125000</td>\n",
       "    </tr>\n",
       "  </tbody>\n",
       "</table>\n",
       "</div>"
      ],
      "text/plain": [
       "                 dpm  damagetakenperminute  goldat15    xpat15      cspm  \\\n",
       "playername                                                                 \n",
       "Faker       0.379869              0.366584  0.518999  0.806362  0.586778   \n",
       "Gumayusi    0.369756              0.237055  0.526465  0.428214  0.606933   \n",
       "Keria       0.106588              0.228089  0.147097  0.211580  0.110802   \n",
       "Oner        0.191085              0.604425  0.462658  0.508389  0.407929   \n",
       "Zeus        0.400026              0.588599  0.529622  0.828387  0.544016   \n",
       "\n",
       "            visionscore  \n",
       "playername               \n",
       "Faker          0.183916  \n",
       "Gumayusi       0.237238  \n",
       "Keria          0.545105  \n",
       "Oner           0.200699  \n",
       "Zeus           0.125000  "
      ]
     },
     "execution_count": 450,
     "metadata": {},
     "output_type": "execute_result"
    }
   ],
   "source": [
    "t1_summer_score"
   ]
  },
  {
   "cell_type": "code",
   "execution_count": 462,
   "metadata": {},
   "outputs": [
    {
     "data": {
      "text/html": [
       "<div>\n",
       "<style scoped>\n",
       "    .dataframe tbody tr th:only-of-type {\n",
       "        vertical-align: middle;\n",
       "    }\n",
       "\n",
       "    .dataframe tbody tr th {\n",
       "        vertical-align: top;\n",
       "    }\n",
       "\n",
       "    .dataframe thead th {\n",
       "        text-align: right;\n",
       "    }\n",
       "</style>\n",
       "<table border=\"1\" class=\"dataframe\">\n",
       "  <thead>\n",
       "    <tr style=\"text-align: right;\">\n",
       "      <th></th>\n",
       "      <th>direction</th>\n",
       "      <th>player</th>\n",
       "      <th>stats</th>\n",
       "    </tr>\n",
       "  </thead>\n",
       "  <tbody>\n",
       "    <tr>\n",
       "      <th>0</th>\n",
       "      <td>dpm</td>\n",
       "      <td>Keria</td>\n",
       "      <td>0.106588</td>\n",
       "    </tr>\n",
       "    <tr>\n",
       "      <th>1</th>\n",
       "      <td>damagetakenperminute</td>\n",
       "      <td>Keria</td>\n",
       "      <td>0.228089</td>\n",
       "    </tr>\n",
       "    <tr>\n",
       "      <th>2</th>\n",
       "      <td>goldat15</td>\n",
       "      <td>Keria</td>\n",
       "      <td>0.147097</td>\n",
       "    </tr>\n",
       "    <tr>\n",
       "      <th>3</th>\n",
       "      <td>xpat15</td>\n",
       "      <td>Keria</td>\n",
       "      <td>0.211580</td>\n",
       "    </tr>\n",
       "    <tr>\n",
       "      <th>4</th>\n",
       "      <td>cspm</td>\n",
       "      <td>Keria</td>\n",
       "      <td>0.110802</td>\n",
       "    </tr>\n",
       "  </tbody>\n",
       "</table>\n",
       "</div>"
      ],
      "text/plain": [
       "              direction player     stats\n",
       "0                   dpm  Keria  0.106588\n",
       "1  damagetakenperminute  Keria  0.228089\n",
       "2              goldat15  Keria  0.147097\n",
       "3                xpat15  Keria  0.211580\n",
       "4                  cspm  Keria  0.110802"
      ]
     },
     "execution_count": 462,
     "metadata": {},
     "output_type": "execute_result"
    }
   ],
   "source": [
    "t1_summer_score_df1 = pd.DataFrame( { \"direction\" : t1_summer_score.columns ,\n",
    "\"player\" : [t1_summer_score.index[2]] * 6 ,\n",
    "\"stats\" : t1_summer_score.iloc[2].values }\n",
    ")\n",
    "\n",
    "t1_summer_score_df2 = pd.DataFrame( { \"direction\" : t1_summer_score.columns ,\n",
    "\"player\" : [t1_summer_score.index[1]] * 6 ,\n",
    "\"stats\" : t1_summer_score.iloc[1].values }\n",
    ")\n",
    "\n",
    "t1_summer_score_df3 = pd.DataFrame( { \"direction\" : t1_summer_score.columns ,\n",
    "\"player\" : [t1_summer_score.index[0]] * 6 ,\n",
    "\"stats\" : t1_summer_score.iloc[0].values }\n",
    ")\n",
    "\n",
    "t1_summer_score_df4 = pd.DataFrame( { \"direction\" : t1_summer_score.columns ,\n",
    "\"player\" : [t1_summer_score.index[3]] * 6 ,\n",
    "\"stats\" : t1_summer_score.iloc[3].values }\n",
    ")\n",
    "\n",
    "t1_summer_score_df5 = pd.DataFrame( { \"direction\" : t1_summer_score.columns ,\n",
    "\"player\" : [t1_summer_score.index[4]] * 6 ,\n",
    "\"stats\" : t1_summer_score.iloc[4].values }\n",
    ")\n",
    "\n",
    "\n",
    "t1_summer_score_df = pd.concat( [t1_summer_score_df1 , t1_summer_score_df2 , t1_summer_score_df3 , t1_summer_score_df4 , t1_summer_score_df5]\\\n",
    "    ,axis=0)\n",
    "\n",
    "t1_summer_score_df.head()"
   ]
  },
  {
   "cell_type": "code",
   "execution_count": 463,
   "metadata": {},
   "outputs": [
    {
     "data": {
      "text/html": [
       "<div>\n",
       "<style scoped>\n",
       "    .dataframe tbody tr th:only-of-type {\n",
       "        vertical-align: middle;\n",
       "    }\n",
       "\n",
       "    .dataframe tbody tr th {\n",
       "        vertical-align: top;\n",
       "    }\n",
       "\n",
       "    .dataframe thead th {\n",
       "        text-align: right;\n",
       "    }\n",
       "</style>\n",
       "<table border=\"1\" class=\"dataframe\">\n",
       "  <thead>\n",
       "    <tr style=\"text-align: right;\">\n",
       "      <th></th>\n",
       "      <th>dpm</th>\n",
       "      <th>damagetakenperminute</th>\n",
       "      <th>goldat15</th>\n",
       "      <th>xpat15</th>\n",
       "      <th>cspm</th>\n",
       "      <th>visionscore</th>\n",
       "    </tr>\n",
       "    <tr>\n",
       "      <th>playername</th>\n",
       "      <th></th>\n",
       "      <th></th>\n",
       "      <th></th>\n",
       "      <th></th>\n",
       "      <th></th>\n",
       "      <th></th>\n",
       "    </tr>\n",
       "  </thead>\n",
       "  <tbody>\n",
       "    <tr>\n",
       "      <th>Bible</th>\n",
       "      <td>0.059637</td>\n",
       "      <td>0.344219</td>\n",
       "      <td>0.113015</td>\n",
       "      <td>0.186994</td>\n",
       "      <td>0.050577</td>\n",
       "      <td>0.466154</td>\n",
       "    </tr>\n",
       "    <tr>\n",
       "      <th>Canyon</th>\n",
       "      <td>0.228697</td>\n",
       "      <td>0.633506</td>\n",
       "      <td>0.431150</td>\n",
       "      <td>0.512146</td>\n",
       "      <td>0.419654</td>\n",
       "      <td>0.281238</td>\n",
       "    </tr>\n",
       "    <tr>\n",
       "      <th>Kellin</th>\n",
       "      <td>0.117288</td>\n",
       "      <td>0.165990</td>\n",
       "      <td>0.122719</td>\n",
       "      <td>0.186109</td>\n",
       "      <td>0.051390</td>\n",
       "      <td>0.551923</td>\n",
       "    </tr>\n",
       "    <tr>\n",
       "      <th>Nuguri</th>\n",
       "      <td>0.372019</td>\n",
       "      <td>0.594395</td>\n",
       "      <td>0.531742</td>\n",
       "      <td>0.867819</td>\n",
       "      <td>0.536974</td>\n",
       "      <td>0.164728</td>\n",
       "    </tr>\n",
       "    <tr>\n",
       "      <th>ShowMaker</th>\n",
       "      <td>0.356895</td>\n",
       "      <td>0.329190</td>\n",
       "      <td>0.535199</td>\n",
       "      <td>0.867881</td>\n",
       "      <td>0.597292</td>\n",
       "      <td>0.228330</td>\n",
       "    </tr>\n",
       "    <tr>\n",
       "      <th>deokdam</th>\n",
       "      <td>0.450958</td>\n",
       "      <td>0.283253</td>\n",
       "      <td>0.542905</td>\n",
       "      <td>0.451678</td>\n",
       "      <td>0.612530</td>\n",
       "      <td>0.191745</td>\n",
       "    </tr>\n",
       "  </tbody>\n",
       "</table>\n",
       "</div>"
      ],
      "text/plain": [
       "                 dpm  damagetakenperminute  goldat15    xpat15      cspm  \\\n",
       "playername                                                                 \n",
       "Bible       0.059637              0.344219  0.113015  0.186994  0.050577   \n",
       "Canyon      0.228697              0.633506  0.431150  0.512146  0.419654   \n",
       "Kellin      0.117288              0.165990  0.122719  0.186109  0.051390   \n",
       "Nuguri      0.372019              0.594395  0.531742  0.867819  0.536974   \n",
       "ShowMaker   0.356895              0.329190  0.535199  0.867881  0.597292   \n",
       "deokdam     0.450958              0.283253  0.542905  0.451678  0.612530   \n",
       "\n",
       "            visionscore  \n",
       "playername               \n",
       "Bible          0.466154  \n",
       "Canyon         0.281238  \n",
       "Kellin         0.551923  \n",
       "Nuguri         0.164728  \n",
       "ShowMaker      0.228330  \n",
       "deokdam        0.191745  "
      ]
     },
     "execution_count": 463,
     "metadata": {},
     "output_type": "execute_result"
    }
   ],
   "source": [
    "dk_summer_score"
   ]
  },
  {
   "cell_type": "code",
   "execution_count": 465,
   "metadata": {},
   "outputs": [
    {
     "data": {
      "text/html": [
       "<div>\n",
       "<style scoped>\n",
       "    .dataframe tbody tr th:only-of-type {\n",
       "        vertical-align: middle;\n",
       "    }\n",
       "\n",
       "    .dataframe tbody tr th {\n",
       "        vertical-align: top;\n",
       "    }\n",
       "\n",
       "    .dataframe thead th {\n",
       "        text-align: right;\n",
       "    }\n",
       "</style>\n",
       "<table border=\"1\" class=\"dataframe\">\n",
       "  <thead>\n",
       "    <tr style=\"text-align: right;\">\n",
       "      <th></th>\n",
       "      <th>direction</th>\n",
       "      <th>player</th>\n",
       "      <th>stats</th>\n",
       "    </tr>\n",
       "  </thead>\n",
       "  <tbody>\n",
       "    <tr>\n",
       "      <th>0</th>\n",
       "      <td>dpm</td>\n",
       "      <td>Kellin</td>\n",
       "      <td>0.117288</td>\n",
       "    </tr>\n",
       "    <tr>\n",
       "      <th>1</th>\n",
       "      <td>damagetakenperminute</td>\n",
       "      <td>Kellin</td>\n",
       "      <td>0.165990</td>\n",
       "    </tr>\n",
       "    <tr>\n",
       "      <th>2</th>\n",
       "      <td>goldat15</td>\n",
       "      <td>Kellin</td>\n",
       "      <td>0.122719</td>\n",
       "    </tr>\n",
       "    <tr>\n",
       "      <th>3</th>\n",
       "      <td>xpat15</td>\n",
       "      <td>Kellin</td>\n",
       "      <td>0.186109</td>\n",
       "    </tr>\n",
       "    <tr>\n",
       "      <th>4</th>\n",
       "      <td>cspm</td>\n",
       "      <td>Kellin</td>\n",
       "      <td>0.051390</td>\n",
       "    </tr>\n",
       "  </tbody>\n",
       "</table>\n",
       "</div>"
      ],
      "text/plain": [
       "              direction  player     stats\n",
       "0                   dpm  Kellin  0.117288\n",
       "1  damagetakenperminute  Kellin  0.165990\n",
       "2              goldat15  Kellin  0.122719\n",
       "3                xpat15  Kellin  0.186109\n",
       "4                  cspm  Kellin  0.051390"
      ]
     },
     "execution_count": 465,
     "metadata": {},
     "output_type": "execute_result"
    }
   ],
   "source": [
    "dk_summer_score_df1 = pd.DataFrame( { \"direction\" : dk_summer_score.columns ,\n",
    "\"player\" : [dk_summer_score.index[2]] * 6 ,\n",
    "\"stats\" : dk_summer_score.iloc[2].values }\n",
    ")\n",
    "\n",
    "dk_summer_score_df2 = pd.DataFrame( { \"direction\" : dk_summer_score.columns ,\n",
    "\"player\" : [dk_summer_score.index[5]] * 6 ,\n",
    "\"stats\" : dk_summer_score.iloc[5].values }\n",
    ")\n",
    "\n",
    "dk_summer_score_df3 = pd.DataFrame( { \"direction\" : dk_summer_score.columns ,\n",
    "\"player\" : [dk_summer_score.index[4]] * 6 ,\n",
    "\"stats\" : dk_summer_score.iloc[4].values }\n",
    ")\n",
    "\n",
    "dk_summer_score_df4 = pd.DataFrame( { \"direction\" : dk_summer_score.columns ,\n",
    "\"player\" : [dk_summer_score.index[1]] * 6 ,\n",
    "\"stats\" : dk_summer_score.iloc[1].values }\n",
    ")\n",
    "\n",
    "dk_summer_score_df5 = pd.DataFrame( { \"direction\" : dk_summer_score.columns ,\n",
    "\"player\" : [dk_summer_score.index[3]] * 6 ,\n",
    "\"stats\" : dk_summer_score.iloc[3].values }\n",
    ")\n",
    "\n",
    "\n",
    "dk_summer_score_df = pd.concat( [dk_summer_score_df1 , dk_summer_score_df2 , dk_summer_score_df3 , dk_summer_score_df4 , dk_summer_score_df5]\\\n",
    "    ,axis=0)\n",
    "\n",
    "dk_summer_score_df.head()"
   ]
  },
  {
   "cell_type": "code",
   "execution_count": null,
   "metadata": {},
   "outputs": [],
   "source": []
  }
 ],
 "metadata": {
  "kernelspec": {
   "display_name": "Python 3",
   "language": "python",
   "name": "python3"
  },
  "language_info": {
   "codemirror_mode": {
    "name": "ipython",
    "version": 3
   },
   "file_extension": ".py",
   "mimetype": "text/x-python",
   "name": "python",
   "nbconvert_exporter": "python",
   "pygments_lexer": "ipython3",
   "version": "3.11.4"
  },
  "orig_nbformat": 4
 },
 "nbformat": 4,
 "nbformat_minor": 2
}
