{
 "cells": [
  {
   "cell_type": "markdown",
   "metadata": {},
   "source": [
    "# 2022 LOL WORLD CHAMPIONSHIP DA"
   ]
  },
  {
   "cell_type": "markdown",
   "metadata": {},
   "source": [
    "## DATA LOAD & library load"
   ]
  },
  {
   "cell_type": "code",
   "execution_count": 121,
   "metadata": {},
   "outputs": [],
   "source": [
    "import numpy as np\n",
    "import plotly.graph_objects as go\n",
    "import plotly.express as px\n",
    "\n",
    "from sklearn.preprocessing import MinMaxScaler"
   ]
  },
  {
   "cell_type": "code",
   "execution_count": 1,
   "metadata": {},
   "outputs": [
    {
     "name": "stderr",
     "output_type": "stream",
     "text": [
      "C:\\Users\\Admin\\AppData\\Local\\Temp\\ipykernel_18404\\2608461288.py:9: DtypeWarning: Columns (2) have mixed types. Specify dtype option on import or set low_memory=False.\n",
      "  lol2022season = pd.read_csv(PATH + \"2022matchdata.csv\" , encoding='utf-8-sig')\n"
     ]
    }
   ],
   "source": [
    "import pandas as pd\n",
    "PATH = \"\"\n",
    "\n",
    "champions = pd.read_csv(PATH + \"wc_champions.csv\", encoding='utf-8-sig')\n",
    "players_main = pd.read_csv(PATH + \"wc_players_main.csv\", encoding='utf-8-sig')\n",
    "players_pi = pd.read_csv(PATH + \"wc_players_play_in.csv\", encoding='utf-8-sig')\n",
    "teams_main = pd.read_csv(PATH + \"wc_teams_main.csv\", encoding='utf-8-sig')\n",
    "teams_pi = pd.read_csv(PATH + \"wc_teams_play_in.csv\", encoding='utf-8-sig')\n",
    "lol2022season = pd.read_csv(PATH + \"2022matchdata.csv\" , encoding='utf-8-sig')\n",
    "lck2022season = pd.read_csv(PATH + \"lck2022.csv\" , encoding='utf-8-sig')"
   ]
  },
  {
   "cell_type": "markdown",
   "metadata": {},
   "source": [
    "### DATA 확인 및 결측값 확인\n",
    "\n",
    "\n",
    "> 데이터\n",
    "- lol2022season\n",
    "    - 2022시즌 모든 lolesports 경기데이터\n",
    "- cahmpions\n",
    "    - 게임 내 champion 통계\n",
    "- players_main\n",
    "    - main stage player들의 통계\n",
    "- players_pi\n",
    "    - playin stage player들의 통계\n",
    "- teams_main\n",
    "    - main stage team들의 통계\n",
    "- players_main\n",
    "    - palyin stage team들의 통계"
   ]
  },
  {
   "cell_type": "markdown",
   "metadata": {},
   "source": [
    "---"
   ]
  },
  {
   "cell_type": "markdown",
   "metadata": {},
   "source": [
    "관심 column 선택 및 정의서\n",
    "\n",
    "- 팀분석\n",
    "\n",
    "    - 게임 고유 ID 매치별, 정규시즌경기 다전제 3판2선승 ->경기승리, 플레이오프 5판3선승 경기승리\n",
    "    - participantid : (1,2,3...10) 선수데이터, 100블루팀 200레드팀 팀데이터\n",
    "    - side : blue,red team\n",
    "    - league : 리그명\n",
    "    - split : 시즌(spring,summer)\n",
    "    - team : 팀명\n",
    "    - playoffs : playoff 유무\n",
    "    - date : 경기날짜(시간 별 분석시 사용)\n",
    "    - gamelength : 경기시간(강약팀구분)\n",
    "    - result(승,패) 0 : 패 1 : 승\n",
    "    - totalgold 총 골드획득\n",
    "    - towers\n",
    "    - exp\n",
    "\n",
    "\n",
    "| Stats | Definitions |\n",
    "|------|:-------------------------------------|\n",
    "gameid\t| 게임고유ID( 다전제에서 각 매치별)\n",
    "participantid\t| 선수,팀 데이터 구분\n"
   ]
  },
  {
   "cell_type": "markdown",
   "metadata": {},
   "source": [
    "#게임ID #팀인지 선수인지 participantid 100 blue 200 red (1,2,3...10 선수개인) #팀  #리그 #시간 #스플릿 #플레이오프 #승패 "
   ]
  },
  {
   "cell_type": "code",
   "execution_count": 3,
   "metadata": {},
   "outputs": [
    {
     "name": "stdout",
     "output_type": "stream",
     "text": [
      "<class 'pandas.core.frame.DataFrame'>\n",
      "RangeIndex: 149232 entries, 0 to 149231\n",
      "Columns: 123 entries, gameid to opp_deathsat15\n",
      "dtypes: float64(93), int64(12), object(18)\n",
      "memory usage: 140.0+ MB\n"
     ]
    }
   ],
   "source": [
    "lol2022season.info(show_counts = True)"
   ]
  },
  {
   "cell_type": "code",
   "execution_count": 63,
   "metadata": {},
   "outputs": [
    {
     "name": "stdout",
     "output_type": "stream",
     "text": [
      "<class 'pandas.core.frame.DataFrame'>\n",
      "Index: 24872 entries, 10 to 149231\n",
      "Columns: 123 entries, gameid to opp_deathsat15\n",
      "dtypes: float64(93), int64(12), object(18)\n",
      "memory usage: 23.5+ MB\n"
     ]
    }
   ],
   "source": [
    "lol2022season[ (lol2022season['participantid'] == 100) | (lol2022season['participantid']==200 ) ].isna().sum()"
   ]
  },
  {
   "cell_type": "code",
   "execution_count": 57,
   "metadata": {},
   "outputs": [
    {
     "data": {
      "text/plain": [
       "gameid                   0\n",
       "datacompleteness         0\n",
       "url                 126828\n",
       "league                   0\n",
       "year                     0\n",
       "                     ...  \n",
       "assistsat15          21828\n",
       "deathsat15           21828\n",
       "opp_killsat15        21828\n",
       "opp_assistsat15      21828\n",
       "opp_deathsat15       21828\n",
       "Length: 123, dtype: int64"
      ]
     },
     "execution_count": 57,
     "metadata": {},
     "output_type": "execute_result"
    }
   ],
   "source": [
    "lol2022season.isna().sum()\n",
    "#participate가 선수지표면 팀단위의 지표는 결측값이지만. 예외있음 ( 측정되지않거나 기입오류 ) \n",
    "#url은 중국공식통계 링크만 있으므로 필요하지 않음 컬럼"
   ]
  },
  {
   "cell_type": "markdown",
   "metadata": {},
   "source": [
    "----"
   ]
  },
  {
   "cell_type": "code",
   "execution_count": 123,
   "metadata": {},
   "outputs": [
    {
     "data": {
      "text/html": [
       "<div>\n",
       "<style scoped>\n",
       "    .dataframe tbody tr th:only-of-type {\n",
       "        vertical-align: middle;\n",
       "    }\n",
       "\n",
       "    .dataframe tbody tr th {\n",
       "        vertical-align: top;\n",
       "    }\n",
       "\n",
       "    .dataframe thead th {\n",
       "        text-align: right;\n",
       "    }\n",
       "</style>\n",
       "<table border=\"1\" class=\"dataframe\">\n",
       "  <thead>\n",
       "    <tr style=\"text-align: right;\">\n",
       "      <th></th>\n",
       "      <th>gameid</th>\n",
       "      <th>playername</th>\n",
       "      <th>participantid</th>\n",
       "      <th>side</th>\n",
       "      <th>league</th>\n",
       "      <th>split</th>\n",
       "      <th>teamname</th>\n",
       "      <th>date</th>\n",
       "      <th>gamelength</th>\n",
       "      <th>result</th>\n",
       "      <th>dpm</th>\n",
       "      <th>damagetakenperminute</th>\n",
       "      <th>goldat15</th>\n",
       "      <th>xpat15</th>\n",
       "      <th>cspm</th>\n",
       "      <th>visionscore</th>\n",
       "    </tr>\n",
       "  </thead>\n",
       "  <tbody>\n",
       "    <tr>\n",
       "      <th>52044</th>\n",
       "      <td>ESPORTSTMNT02_2663759</td>\n",
       "      <td>Kingen</td>\n",
       "      <td>1</td>\n",
       "      <td>Blue</td>\n",
       "      <td>LCK</td>\n",
       "      <td>Spring</td>\n",
       "      <td>DRX</td>\n",
       "      <td>2022-03-24 06:05:22</td>\n",
       "      <td>2247</td>\n",
       "      <td>0</td>\n",
       "      <td>837.1963</td>\n",
       "      <td>387.6903</td>\n",
       "      <td>5873.0</td>\n",
       "      <td>7471.0</td>\n",
       "      <td>7.7437</td>\n",
       "      <td>53.0</td>\n",
       "    </tr>\n",
       "    <tr>\n",
       "      <th>52045</th>\n",
       "      <td>ESPORTSTMNT02_2663759</td>\n",
       "      <td>Pyosik</td>\n",
       "      <td>2</td>\n",
       "      <td>Blue</td>\n",
       "      <td>LCK</td>\n",
       "      <td>Spring</td>\n",
       "      <td>DRX</td>\n",
       "      <td>2022-03-24 06:05:22</td>\n",
       "      <td>2247</td>\n",
       "      <td>0</td>\n",
       "      <td>206.9693</td>\n",
       "      <td>651.1081</td>\n",
       "      <td>5592.0</td>\n",
       "      <td>5445.0</td>\n",
       "      <td>5.6609</td>\n",
       "      <td>72.0</td>\n",
       "    </tr>\n",
       "    <tr>\n",
       "      <th>52046</th>\n",
       "      <td>ESPORTSTMNT02_2663759</td>\n",
       "      <td>ZEKA</td>\n",
       "      <td>3</td>\n",
       "      <td>Blue</td>\n",
       "      <td>LCK</td>\n",
       "      <td>Spring</td>\n",
       "      <td>DRX</td>\n",
       "      <td>2022-03-24 06:05:22</td>\n",
       "      <td>2247</td>\n",
       "      <td>0</td>\n",
       "      <td>340.2670</td>\n",
       "      <td>509.5327</td>\n",
       "      <td>5807.0</td>\n",
       "      <td>7161.0</td>\n",
       "      <td>8.2510</td>\n",
       "      <td>36.0</td>\n",
       "    </tr>\n",
       "    <tr>\n",
       "      <th>52047</th>\n",
       "      <td>ESPORTSTMNT02_2663759</td>\n",
       "      <td>Deft</td>\n",
       "      <td>4</td>\n",
       "      <td>Blue</td>\n",
       "      <td>LCK</td>\n",
       "      <td>Spring</td>\n",
       "      <td>DRX</td>\n",
       "      <td>2022-03-24 06:05:22</td>\n",
       "      <td>2247</td>\n",
       "      <td>0</td>\n",
       "      <td>719.4927</td>\n",
       "      <td>520.4806</td>\n",
       "      <td>5071.0</td>\n",
       "      <td>6108.0</td>\n",
       "      <td>9.1055</td>\n",
       "      <td>50.0</td>\n",
       "    </tr>\n",
       "    <tr>\n",
       "      <th>52048</th>\n",
       "      <td>ESPORTSTMNT02_2663759</td>\n",
       "      <td>BeryL</td>\n",
       "      <td>5</td>\n",
       "      <td>Blue</td>\n",
       "      <td>LCK</td>\n",
       "      <td>Spring</td>\n",
       "      <td>DRX</td>\n",
       "      <td>2022-03-24 06:05:22</td>\n",
       "      <td>2247</td>\n",
       "      <td>0</td>\n",
       "      <td>82.8037</td>\n",
       "      <td>486.8358</td>\n",
       "      <td>3123.0</td>\n",
       "      <td>3018.0</td>\n",
       "      <td>1.3885</td>\n",
       "      <td>106.0</td>\n",
       "    </tr>\n",
       "  </tbody>\n",
       "</table>\n",
       "</div>"
      ],
      "text/plain": [
       "                      gameid playername  participantid  side league   split  \\\n",
       "52044  ESPORTSTMNT02_2663759     Kingen              1  Blue    LCK  Spring   \n",
       "52045  ESPORTSTMNT02_2663759     Pyosik              2  Blue    LCK  Spring   \n",
       "52046  ESPORTSTMNT02_2663759       ZEKA              3  Blue    LCK  Spring   \n",
       "52047  ESPORTSTMNT02_2663759       Deft              4  Blue    LCK  Spring   \n",
       "52048  ESPORTSTMNT02_2663759      BeryL              5  Blue    LCK  Spring   \n",
       "\n",
       "      teamname                 date  gamelength  result       dpm  \\\n",
       "52044      DRX  2022-03-24 06:05:22        2247       0  837.1963   \n",
       "52045      DRX  2022-03-24 06:05:22        2247       0  206.9693   \n",
       "52046      DRX  2022-03-24 06:05:22        2247       0  340.2670   \n",
       "52047      DRX  2022-03-24 06:05:22        2247       0  719.4927   \n",
       "52048      DRX  2022-03-24 06:05:22        2247       0   82.8037   \n",
       "\n",
       "       damagetakenperminute  goldat15  xpat15    cspm  visionscore  \n",
       "52044              387.6903    5873.0  7471.0  7.7437         53.0  \n",
       "52045              651.1081    5592.0  5445.0  5.6609         72.0  \n",
       "52046              509.5327    5807.0  7161.0  8.2510         36.0  \n",
       "52047              520.4806    5071.0  6108.0  9.1055         50.0  \n",
       "52048              486.8358    3123.0  3018.0  1.3885        106.0  "
      ]
     },
     "execution_count": 123,
     "metadata": {},
     "output_type": "execute_result"
    }
   ],
   "source": [
    "#추후 해보자 ( drx 선수별 지표,능력치차트 )\n",
    "\n",
    "lck_spring_po_df = lck_spring_po[ ['gameid','playername','participantid','side','league','split','teamname','date', \\\n",
    "    'gamelength','result','dpm','damagetakenperminute','goldat15','xpat15','cspm','visionscore'] ]\n",
    "\n",
    "lck_spring_po_drxplyaer_df = lck_spring_po_df[ (lck_spring_po_df['teamname'] == 'DRX') & (lck_spring_po_df['participantid'] <= 10 ) ]\n",
    "\n",
    "lck_spring_po_drxplyaer_df.head()"
   ]
  },
  {
   "cell_type": "code",
   "execution_count": 127,
   "metadata": {},
   "outputs": [
    {
     "data": {
      "text/html": [
       "<div>\n",
       "<style scoped>\n",
       "    .dataframe tbody tr th:only-of-type {\n",
       "        vertical-align: middle;\n",
       "    }\n",
       "\n",
       "    .dataframe tbody tr th {\n",
       "        vertical-align: top;\n",
       "    }\n",
       "\n",
       "    .dataframe thead th {\n",
       "        text-align: right;\n",
       "    }\n",
       "</style>\n",
       "<table border=\"1\" class=\"dataframe\">\n",
       "  <thead>\n",
       "    <tr style=\"text-align: right;\">\n",
       "      <th></th>\n",
       "      <th>playername</th>\n",
       "      <th>teamname</th>\n",
       "      <th>dpm</th>\n",
       "      <th>damagetakenperminute</th>\n",
       "      <th>goldat15</th>\n",
       "      <th>xpat15</th>\n",
       "      <th>cspm</th>\n",
       "      <th>visionscore</th>\n",
       "    </tr>\n",
       "  </thead>\n",
       "  <tbody>\n",
       "    <tr>\n",
       "      <th>52044</th>\n",
       "      <td>Kingen</td>\n",
       "      <td>DRX</td>\n",
       "      <td>837.1963</td>\n",
       "      <td>387.6903</td>\n",
       "      <td>5873.0</td>\n",
       "      <td>7471.0</td>\n",
       "      <td>7.7437</td>\n",
       "      <td>53.0</td>\n",
       "    </tr>\n",
       "    <tr>\n",
       "      <th>52045</th>\n",
       "      <td>Pyosik</td>\n",
       "      <td>DRX</td>\n",
       "      <td>206.9693</td>\n",
       "      <td>651.1081</td>\n",
       "      <td>5592.0</td>\n",
       "      <td>5445.0</td>\n",
       "      <td>5.6609</td>\n",
       "      <td>72.0</td>\n",
       "    </tr>\n",
       "    <tr>\n",
       "      <th>52046</th>\n",
       "      <td>ZEKA</td>\n",
       "      <td>DRX</td>\n",
       "      <td>340.2670</td>\n",
       "      <td>509.5327</td>\n",
       "      <td>5807.0</td>\n",
       "      <td>7161.0</td>\n",
       "      <td>8.2510</td>\n",
       "      <td>36.0</td>\n",
       "    </tr>\n",
       "    <tr>\n",
       "      <th>52047</th>\n",
       "      <td>Deft</td>\n",
       "      <td>DRX</td>\n",
       "      <td>719.4927</td>\n",
       "      <td>520.4806</td>\n",
       "      <td>5071.0</td>\n",
       "      <td>6108.0</td>\n",
       "      <td>9.1055</td>\n",
       "      <td>50.0</td>\n",
       "    </tr>\n",
       "    <tr>\n",
       "      <th>52048</th>\n",
       "      <td>BeryL</td>\n",
       "      <td>DRX</td>\n",
       "      <td>82.8037</td>\n",
       "      <td>486.8358</td>\n",
       "      <td>3123.0</td>\n",
       "      <td>3018.0</td>\n",
       "      <td>1.3885</td>\n",
       "      <td>106.0</td>\n",
       "    </tr>\n",
       "  </tbody>\n",
       "</table>\n",
       "</div>"
      ],
      "text/plain": [
       "      playername teamname       dpm  damagetakenperminute  goldat15  xpat15  \\\n",
       "52044     Kingen      DRX  837.1963              387.6903    5873.0  7471.0   \n",
       "52045     Pyosik      DRX  206.9693              651.1081    5592.0  5445.0   \n",
       "52046       ZEKA      DRX  340.2670              509.5327    5807.0  7161.0   \n",
       "52047       Deft      DRX  719.4927              520.4806    5071.0  6108.0   \n",
       "52048      BeryL      DRX   82.8037              486.8358    3123.0  3018.0   \n",
       "\n",
       "         cspm  visionscore  \n",
       "52044  7.7437         53.0  \n",
       "52045  5.6609         72.0  \n",
       "52046  8.2510         36.0  \n",
       "52047  9.1055         50.0  \n",
       "52048  1.3885        106.0  "
      ]
     },
     "execution_count": 127,
     "metadata": {},
     "output_type": "execute_result"
    }
   ],
   "source": [
    "lck_spring_po_drxplayer_score = lck_spring_po_drxplyaer_df[ ['playername','teamname','dpm','damagetakenperminute','goldat15','xpat15','cspm','visionscore'] ]\n",
    "lck_spring_po_drxplayer_score.head()"
   ]
  },
  {
   "cell_type": "code",
   "execution_count": 129,
   "metadata": {},
   "outputs": [],
   "source": [
    "X = lck_spring_po_drxplayer_score[['dpm','damagetakenperminute','goldat15','xpat15','cspm','visionscore']]"
   ]
  },
  {
   "cell_type": "code",
   "execution_count": 130,
   "metadata": {},
   "outputs": [
    {
     "data": {
      "text/plain": [
       "array([[3.83221559e+00, 1.00744343e+00, 5.00000000e+00, 4.81509516e+00,\n",
       "        3.90702800e+00, 1.49038462e+00],\n",
       "       [7.21579819e-01, 3.22792786e+00, 4.48909091e+00, 2.62435121e+00,\n",
       "        2.69266649e+00, 2.40384615e+00],\n",
       "       [1.37950243e+00, 2.03451583e+00, 4.88000000e+00, 4.47988754e+00,\n",
       "        4.20280560e+00, 6.73076923e-01],\n",
       "       [3.25126138e+00, 2.12680132e+00, 3.54181818e+00, 3.34126298e+00,\n",
       "        4.70101566e+00, 1.34615385e+00],\n",
       "       [1.08730868e-01, 1.84319196e+00, 0.00000000e+00, 0.00000000e+00,\n",
       "        2.01674499e-01, 4.03846154e+00],\n",
       "       [2.78841298e+00, 2.66164481e-01, 2.70000000e+00, 4.62694637e+00,\n",
       "        3.77759250e+00, 1.73076923e+00],\n",
       "       [1.29323362e+00, 3.86724508e+00, 2.63454545e+00, 2.35618512e+00,\n",
       "        2.63418730e+00, 1.49038462e+00],\n",
       "       [2.57007268e+00, 1.28042655e+00, 4.33818182e+00, 4.19117647e+00,\n",
       "        4.16840608e+00, 2.06730769e+00],\n",
       "       [5.00000000e+00, 1.64787924e+00, 4.22363636e+00, 2.24913495e+00,\n",
       "        4.50126520e+00, 1.39423077e+00],\n",
       "       [1.96874769e-01, 1.68010444e+00, 1.57818182e+00, 7.92603806e-01,\n",
       "        0.00000000e+00, 5.00000000e+00],\n",
       "       [1.52489991e+00, 2.45074255e+00, 3.84727273e+00, 4.79671280e+00,\n",
       "        3.93489744e+00, 1.34615385e+00],\n",
       "       [4.44604922e-01, 2.72088576e+00, 2.75818182e+00, 1.96799308e+00,\n",
       "        2.27695698e+00, 1.77884615e+00],\n",
       "       [2.73431975e+00, 1.20884647e+00, 3.95272727e+00, 4.71669550e+00,\n",
       "        4.36594097e+00, 1.44230769e+00],\n",
       "       [1.83325525e+00, 7.63241209e-01, 3.98727273e+00, 2.53784602e+00,\n",
       "        4.74725095e+00, 1.00961538e+00],\n",
       "       [3.17023975e-01, 9.99858553e-02, 8.36363636e-02, 1.24675606e+00,\n",
       "        2.87381788e-01, 4.71153846e+00],\n",
       "       [1.94582168e+00, 4.11007497e+00, 2.84545455e+00, 4.91349481e+00,\n",
       "        2.93999324e+00, 0.00000000e+00],\n",
       "       [1.61027733e+00, 4.75704282e+00, 4.60363636e+00, 3.19744810e+00,\n",
       "        2.61570484e+00, 1.53846154e+00],\n",
       "       [2.43993354e+00, 5.00000000e+00, 3.99454545e+00, 4.70804498e+00,\n",
       "        4.25609571e+00, 4.32692308e-01],\n",
       "       [4.23779115e+00, 6.78609717e-01, 4.48000000e+00, 3.06660900e+00,\n",
       "        5.00000000e+00, 9.61538462e-01],\n",
       "       [6.96008251e-01, 3.61192938e-01, 8.80000000e-01, 7.85034602e-01,\n",
       "        7.88273844e-02, 3.31730769e+00],\n",
       "       [3.34240818e-01, 2.07235508e+00, 2.33454545e+00, 3.77487024e+00,\n",
       "        2.77096913e+00, 1.73076923e+00],\n",
       "       [4.50257330e-01, 3.72990298e+00, 3.26909091e+00, 2.62218858e+00,\n",
       "        2.58159684e+00, 2.16346154e+00],\n",
       "       [1.01801140e+00, 1.16672671e+00, 4.28909091e+00, 5.00000000e+00,\n",
       "        3.14959712e+00, 1.87500000e+00],\n",
       "       [1.95169175e+00, 0.00000000e+00, 3.04181818e+00, 2.27724913e+00,\n",
       "        4.89726786e+00, 1.39423077e+00],\n",
       "       [0.00000000e+00, 1.89716783e+00, 4.65454545e-01, 1.37326990e+00,\n",
       "        3.78977809e-03, 4.66346154e+00]])"
      ]
     },
     "execution_count": 130,
     "metadata": {},
     "output_type": "execute_result"
    }
   ],
   "source": [
    "scaler = MinMaxScaler(feature_range=(0,5)) ## 각 칼럼 데이터 값을 0~6 범위로 변환\n",
    "scaler.fit(X) ## 각 칼럼 데이터마다 변환할 함수 생\n",
    "transformed_X = scaler.transform(X) ## fit에서 만들어진 함수를 실제로 데이터에 적용\n",
    "transformed_X"
   ]
  },
  {
   "cell_type": "code",
   "execution_count": 133,
   "metadata": {},
   "outputs": [
    {
     "name": "stderr",
     "output_type": "stream",
     "text": [
      "C:\\Users\\Admin\\AppData\\Local\\Temp\\ipykernel_18404\\4169893245.py:1: SettingWithCopyWarning:\n",
      "\n",
      "\n",
      "A value is trying to be set on a copy of a slice from a DataFrame.\n",
      "Try using .loc[row_indexer,col_indexer] = value instead\n",
      "\n",
      "See the caveats in the documentation: https://pandas.pydata.org/pandas-docs/stable/user_guide/indexing.html#returning-a-view-versus-a-copy\n",
      "\n"
     ]
    },
    {
     "data": {
      "text/html": [
       "<div>\n",
       "<style scoped>\n",
       "    .dataframe tbody tr th:only-of-type {\n",
       "        vertical-align: middle;\n",
       "    }\n",
       "\n",
       "    .dataframe tbody tr th {\n",
       "        vertical-align: top;\n",
       "    }\n",
       "\n",
       "    .dataframe thead th {\n",
       "        text-align: right;\n",
       "    }\n",
       "</style>\n",
       "<table border=\"1\" class=\"dataframe\">\n",
       "  <thead>\n",
       "    <tr style=\"text-align: right;\">\n",
       "      <th></th>\n",
       "      <th>playername</th>\n",
       "      <th>teamname</th>\n",
       "      <th>dpm</th>\n",
       "      <th>damagetakenperminute</th>\n",
       "      <th>goldat15</th>\n",
       "      <th>xpat15</th>\n",
       "      <th>cspm</th>\n",
       "      <th>visionscore</th>\n",
       "    </tr>\n",
       "  </thead>\n",
       "  <tbody>\n",
       "    <tr>\n",
       "      <th>52044</th>\n",
       "      <td>Kingen</td>\n",
       "      <td>DRX</td>\n",
       "      <td>3.832216</td>\n",
       "      <td>1.007443</td>\n",
       "      <td>5.000000</td>\n",
       "      <td>4.815095</td>\n",
       "      <td>3.907028</td>\n",
       "      <td>1.490385</td>\n",
       "    </tr>\n",
       "    <tr>\n",
       "      <th>52045</th>\n",
       "      <td>Pyosik</td>\n",
       "      <td>DRX</td>\n",
       "      <td>0.721580</td>\n",
       "      <td>3.227928</td>\n",
       "      <td>4.489091</td>\n",
       "      <td>2.624351</td>\n",
       "      <td>2.692666</td>\n",
       "      <td>2.403846</td>\n",
       "    </tr>\n",
       "    <tr>\n",
       "      <th>52046</th>\n",
       "      <td>ZEKA</td>\n",
       "      <td>DRX</td>\n",
       "      <td>1.379502</td>\n",
       "      <td>2.034516</td>\n",
       "      <td>4.880000</td>\n",
       "      <td>4.479888</td>\n",
       "      <td>4.202806</td>\n",
       "      <td>0.673077</td>\n",
       "    </tr>\n",
       "    <tr>\n",
       "      <th>52047</th>\n",
       "      <td>Deft</td>\n",
       "      <td>DRX</td>\n",
       "      <td>3.251261</td>\n",
       "      <td>2.126801</td>\n",
       "      <td>3.541818</td>\n",
       "      <td>3.341263</td>\n",
       "      <td>4.701016</td>\n",
       "      <td>1.346154</td>\n",
       "    </tr>\n",
       "    <tr>\n",
       "      <th>52048</th>\n",
       "      <td>BeryL</td>\n",
       "      <td>DRX</td>\n",
       "      <td>0.108731</td>\n",
       "      <td>1.843192</td>\n",
       "      <td>0.000000</td>\n",
       "      <td>0.000000</td>\n",
       "      <td>0.201674</td>\n",
       "      <td>4.038462</td>\n",
       "    </tr>\n",
       "  </tbody>\n",
       "</table>\n",
       "</div>"
      ],
      "text/plain": [
       "      playername teamname       dpm  damagetakenperminute  goldat15    xpat15  \\\n",
       "52044     Kingen      DRX  3.832216              1.007443  5.000000  4.815095   \n",
       "52045     Pyosik      DRX  0.721580              3.227928  4.489091  2.624351   \n",
       "52046       ZEKA      DRX  1.379502              2.034516  4.880000  4.479888   \n",
       "52047       Deft      DRX  3.251261              2.126801  3.541818  3.341263   \n",
       "52048      BeryL      DRX  0.108731              1.843192  0.000000  0.000000   \n",
       "\n",
       "           cspm  visionscore  \n",
       "52044  3.907028     1.490385  \n",
       "52045  2.692666     2.403846  \n",
       "52046  4.202806     0.673077  \n",
       "52047  4.701016     1.346154  \n",
       "52048  0.201674     4.038462  "
      ]
     },
     "execution_count": 133,
     "metadata": {},
     "output_type": "execute_result"
    }
   ],
   "source": [
    "lck_spring_po_drxplayer_score[['dpm','damagetakenperminute','goldat15','xpat15','cspm','visionscore']] = transformed_X\n",
    "lck_spring_po_drxplayer_score.head()"
   ]
  },
  {
   "cell_type": "code",
   "execution_count": 139,
   "metadata": {},
   "outputs": [
    {
     "data": {
      "text/html": [
       "<div>\n",
       "<style scoped>\n",
       "    .dataframe tbody tr th:only-of-type {\n",
       "        vertical-align: middle;\n",
       "    }\n",
       "\n",
       "    .dataframe tbody tr th {\n",
       "        vertical-align: top;\n",
       "    }\n",
       "\n",
       "    .dataframe thead th {\n",
       "        text-align: right;\n",
       "    }\n",
       "</style>\n",
       "<table border=\"1\" class=\"dataframe\">\n",
       "  <thead>\n",
       "    <tr style=\"text-align: right;\">\n",
       "      <th></th>\n",
       "      <th>dpm</th>\n",
       "      <th>damagetakenperminute</th>\n",
       "      <th>goldat15</th>\n",
       "      <th>xpat15</th>\n",
       "      <th>cspm</th>\n",
       "      <th>visionscore</th>\n",
       "    </tr>\n",
       "    <tr>\n",
       "      <th>playername</th>\n",
       "      <th></th>\n",
       "      <th></th>\n",
       "      <th></th>\n",
       "      <th></th>\n",
       "      <th></th>\n",
       "      <th></th>\n",
       "    </tr>\n",
       "  </thead>\n",
       "  <tbody>\n",
       "    <tr>\n",
       "      <th>BeryL</th>\n",
       "      <td>0.263728</td>\n",
       "      <td>1.176329</td>\n",
       "      <td>0.601455</td>\n",
       "      <td>0.839533</td>\n",
       "      <td>0.114335</td>\n",
       "      <td>4.346154</td>\n",
       "    </tr>\n",
       "    <tr>\n",
       "      <th>Deft</th>\n",
       "      <td>3.254800</td>\n",
       "      <td>1.043306</td>\n",
       "      <td>3.854909</td>\n",
       "      <td>2.694420</td>\n",
       "      <td>4.769360</td>\n",
       "      <td>1.221154</td>\n",
       "    </tr>\n",
       "    <tr>\n",
       "      <th>Kingen</th>\n",
       "      <td>2.085118</td>\n",
       "      <td>1.981356</td>\n",
       "      <td>3.345455</td>\n",
       "      <td>4.585424</td>\n",
       "      <td>3.466096</td>\n",
       "      <td>1.259615</td>\n",
       "    </tr>\n",
       "    <tr>\n",
       "      <th>Pyosik</th>\n",
       "      <td>0.903991</td>\n",
       "      <td>3.660601</td>\n",
       "      <td>3.550909</td>\n",
       "      <td>2.553633</td>\n",
       "      <td>2.560222</td>\n",
       "      <td>1.875000</td>\n",
       "    </tr>\n",
       "    <tr>\n",
       "      <th>ZEKA</th>\n",
       "      <td>2.028368</td>\n",
       "      <td>2.138103</td>\n",
       "      <td>4.290909</td>\n",
       "      <td>4.619161</td>\n",
       "      <td>4.028569</td>\n",
       "      <td>1.298077</td>\n",
       "    </tr>\n",
       "  </tbody>\n",
       "</table>\n",
       "</div>"
      ],
      "text/plain": [
       "                 dpm  damagetakenperminute  goldat15    xpat15      cspm  \\\n",
       "playername                                                                 \n",
       "BeryL       0.263728              1.176329  0.601455  0.839533  0.114335   \n",
       "Deft        3.254800              1.043306  3.854909  2.694420  4.769360   \n",
       "Kingen      2.085118              1.981356  3.345455  4.585424  3.466096   \n",
       "Pyosik      0.903991              3.660601  3.550909  2.553633  2.560222   \n",
       "ZEKA        2.028368              2.138103  4.290909  4.619161  4.028569   \n",
       "\n",
       "            visionscore  \n",
       "playername               \n",
       "BeryL          4.346154  \n",
       "Deft           1.221154  \n",
       "Kingen         1.259615  \n",
       "Pyosik         1.875000  \n",
       "ZEKA           1.298077  "
      ]
     },
     "execution_count": 139,
     "metadata": {},
     "output_type": "execute_result"
    }
   ],
   "source": [
    "drx_spring_po_score = lck_spring_po_drxplayer_score.groupby('playername')\\\n",
    "    [['dpm','damagetakenperminute','goldat15','xpat15','cspm','visionscore']].mean()\n",
    "\n",
    "drx_spring_po_score"
   ]
  },
  {
   "cell_type": "code",
   "execution_count": 149,
   "metadata": {},
   "outputs": [
    {
     "data": {
      "text/plain": [
       "Index(['dpm', 'damagetakenperminute', 'goldat15', 'xpat15', 'cspm',\n",
       "       'visionscore'],\n",
       "      dtype='object')"
      ]
     },
     "execution_count": 149,
     "metadata": {},
     "output_type": "execute_result"
    }
   ],
   "source": [
    "drx_spring_po_score.iloc[0].index"
   ]
  },
  {
   "cell_type": "code",
   "execution_count": 151,
   "metadata": {},
   "outputs": [
    {
     "data": {
      "application/vnd.plotly.v1+json": {
       "config": {
        "plotlyServerURL": "https://plot.ly"
       },
       "data": [
        {
         "hovertemplate": "r=%{r}<br>theta=%{theta}<extra></extra>",
         "legendgroup": "",
         "line": {
          "color": "#636efa",
          "dash": "solid"
         },
         "marker": {
          "symbol": "circle"
         },
         "mode": "lines",
         "name": "",
         "r": [
          3.254799907129141,
          1.043306298753157,
          3.854909090909092,
          2.6944204152249136,
          4.769359935632077,
          1.2211538461538463,
          3.254799907129141
         ],
         "showlegend": false,
         "subplot": "polar",
         "theta": [
          "dpm",
          "damagetakenperminute",
          "goldat15",
          "xpat15",
          "cspm",
          "visionscore",
          "dpm"
         ],
         "type": "scatterpolar"
        }
       ],
       "layout": {
        "legend": {
         "tracegroupgap": 0
        },
        "margin": {
         "t": 60
        },
        "polar": {
         "angularaxis": {
          "direction": "clockwise",
          "rotation": 90
         },
         "domain": {
          "x": [
           0,
           1
          ],
          "y": [
           0,
           1
          ]
         }
        },
        "template": {
         "data": {
          "bar": [
           {
            "error_x": {
             "color": "#2a3f5f"
            },
            "error_y": {
             "color": "#2a3f5f"
            },
            "marker": {
             "line": {
              "color": "#E5ECF6",
              "width": 0.5
             },
             "pattern": {
              "fillmode": "overlay",
              "size": 10,
              "solidity": 0.2
             }
            },
            "type": "bar"
           }
          ],
          "barpolar": [
           {
            "marker": {
             "line": {
              "color": "#E5ECF6",
              "width": 0.5
             },
             "pattern": {
              "fillmode": "overlay",
              "size": 10,
              "solidity": 0.2
             }
            },
            "type": "barpolar"
           }
          ],
          "carpet": [
           {
            "aaxis": {
             "endlinecolor": "#2a3f5f",
             "gridcolor": "white",
             "linecolor": "white",
             "minorgridcolor": "white",
             "startlinecolor": "#2a3f5f"
            },
            "baxis": {
             "endlinecolor": "#2a3f5f",
             "gridcolor": "white",
             "linecolor": "white",
             "minorgridcolor": "white",
             "startlinecolor": "#2a3f5f"
            },
            "type": "carpet"
           }
          ],
          "choropleth": [
           {
            "colorbar": {
             "outlinewidth": 0,
             "ticks": ""
            },
            "type": "choropleth"
           }
          ],
          "contour": [
           {
            "colorbar": {
             "outlinewidth": 0,
             "ticks": ""
            },
            "colorscale": [
             [
              0,
              "#0d0887"
             ],
             [
              0.1111111111111111,
              "#46039f"
             ],
             [
              0.2222222222222222,
              "#7201a8"
             ],
             [
              0.3333333333333333,
              "#9c179e"
             ],
             [
              0.4444444444444444,
              "#bd3786"
             ],
             [
              0.5555555555555556,
              "#d8576b"
             ],
             [
              0.6666666666666666,
              "#ed7953"
             ],
             [
              0.7777777777777778,
              "#fb9f3a"
             ],
             [
              0.8888888888888888,
              "#fdca26"
             ],
             [
              1,
              "#f0f921"
             ]
            ],
            "type": "contour"
           }
          ],
          "contourcarpet": [
           {
            "colorbar": {
             "outlinewidth": 0,
             "ticks": ""
            },
            "type": "contourcarpet"
           }
          ],
          "heatmap": [
           {
            "colorbar": {
             "outlinewidth": 0,
             "ticks": ""
            },
            "colorscale": [
             [
              0,
              "#0d0887"
             ],
             [
              0.1111111111111111,
              "#46039f"
             ],
             [
              0.2222222222222222,
              "#7201a8"
             ],
             [
              0.3333333333333333,
              "#9c179e"
             ],
             [
              0.4444444444444444,
              "#bd3786"
             ],
             [
              0.5555555555555556,
              "#d8576b"
             ],
             [
              0.6666666666666666,
              "#ed7953"
             ],
             [
              0.7777777777777778,
              "#fb9f3a"
             ],
             [
              0.8888888888888888,
              "#fdca26"
             ],
             [
              1,
              "#f0f921"
             ]
            ],
            "type": "heatmap"
           }
          ],
          "heatmapgl": [
           {
            "colorbar": {
             "outlinewidth": 0,
             "ticks": ""
            },
            "colorscale": [
             [
              0,
              "#0d0887"
             ],
             [
              0.1111111111111111,
              "#46039f"
             ],
             [
              0.2222222222222222,
              "#7201a8"
             ],
             [
              0.3333333333333333,
              "#9c179e"
             ],
             [
              0.4444444444444444,
              "#bd3786"
             ],
             [
              0.5555555555555556,
              "#d8576b"
             ],
             [
              0.6666666666666666,
              "#ed7953"
             ],
             [
              0.7777777777777778,
              "#fb9f3a"
             ],
             [
              0.8888888888888888,
              "#fdca26"
             ],
             [
              1,
              "#f0f921"
             ]
            ],
            "type": "heatmapgl"
           }
          ],
          "histogram": [
           {
            "marker": {
             "pattern": {
              "fillmode": "overlay",
              "size": 10,
              "solidity": 0.2
             }
            },
            "type": "histogram"
           }
          ],
          "histogram2d": [
           {
            "colorbar": {
             "outlinewidth": 0,
             "ticks": ""
            },
            "colorscale": [
             [
              0,
              "#0d0887"
             ],
             [
              0.1111111111111111,
              "#46039f"
             ],
             [
              0.2222222222222222,
              "#7201a8"
             ],
             [
              0.3333333333333333,
              "#9c179e"
             ],
             [
              0.4444444444444444,
              "#bd3786"
             ],
             [
              0.5555555555555556,
              "#d8576b"
             ],
             [
              0.6666666666666666,
              "#ed7953"
             ],
             [
              0.7777777777777778,
              "#fb9f3a"
             ],
             [
              0.8888888888888888,
              "#fdca26"
             ],
             [
              1,
              "#f0f921"
             ]
            ],
            "type": "histogram2d"
           }
          ],
          "histogram2dcontour": [
           {
            "colorbar": {
             "outlinewidth": 0,
             "ticks": ""
            },
            "colorscale": [
             [
              0,
              "#0d0887"
             ],
             [
              0.1111111111111111,
              "#46039f"
             ],
             [
              0.2222222222222222,
              "#7201a8"
             ],
             [
              0.3333333333333333,
              "#9c179e"
             ],
             [
              0.4444444444444444,
              "#bd3786"
             ],
             [
              0.5555555555555556,
              "#d8576b"
             ],
             [
              0.6666666666666666,
              "#ed7953"
             ],
             [
              0.7777777777777778,
              "#fb9f3a"
             ],
             [
              0.8888888888888888,
              "#fdca26"
             ],
             [
              1,
              "#f0f921"
             ]
            ],
            "type": "histogram2dcontour"
           }
          ],
          "mesh3d": [
           {
            "colorbar": {
             "outlinewidth": 0,
             "ticks": ""
            },
            "type": "mesh3d"
           }
          ],
          "parcoords": [
           {
            "line": {
             "colorbar": {
              "outlinewidth": 0,
              "ticks": ""
             }
            },
            "type": "parcoords"
           }
          ],
          "pie": [
           {
            "automargin": true,
            "type": "pie"
           }
          ],
          "scatter": [
           {
            "fillpattern": {
             "fillmode": "overlay",
             "size": 10,
             "solidity": 0.2
            },
            "type": "scatter"
           }
          ],
          "scatter3d": [
           {
            "line": {
             "colorbar": {
              "outlinewidth": 0,
              "ticks": ""
             }
            },
            "marker": {
             "colorbar": {
              "outlinewidth": 0,
              "ticks": ""
             }
            },
            "type": "scatter3d"
           }
          ],
          "scattercarpet": [
           {
            "marker": {
             "colorbar": {
              "outlinewidth": 0,
              "ticks": ""
             }
            },
            "type": "scattercarpet"
           }
          ],
          "scattergeo": [
           {
            "marker": {
             "colorbar": {
              "outlinewidth": 0,
              "ticks": ""
             }
            },
            "type": "scattergeo"
           }
          ],
          "scattergl": [
           {
            "marker": {
             "colorbar": {
              "outlinewidth": 0,
              "ticks": ""
             }
            },
            "type": "scattergl"
           }
          ],
          "scattermapbox": [
           {
            "marker": {
             "colorbar": {
              "outlinewidth": 0,
              "ticks": ""
             }
            },
            "type": "scattermapbox"
           }
          ],
          "scatterpolar": [
           {
            "marker": {
             "colorbar": {
              "outlinewidth": 0,
              "ticks": ""
             }
            },
            "type": "scatterpolar"
           }
          ],
          "scatterpolargl": [
           {
            "marker": {
             "colorbar": {
              "outlinewidth": 0,
              "ticks": ""
             }
            },
            "type": "scatterpolargl"
           }
          ],
          "scatterternary": [
           {
            "marker": {
             "colorbar": {
              "outlinewidth": 0,
              "ticks": ""
             }
            },
            "type": "scatterternary"
           }
          ],
          "surface": [
           {
            "colorbar": {
             "outlinewidth": 0,
             "ticks": ""
            },
            "colorscale": [
             [
              0,
              "#0d0887"
             ],
             [
              0.1111111111111111,
              "#46039f"
             ],
             [
              0.2222222222222222,
              "#7201a8"
             ],
             [
              0.3333333333333333,
              "#9c179e"
             ],
             [
              0.4444444444444444,
              "#bd3786"
             ],
             [
              0.5555555555555556,
              "#d8576b"
             ],
             [
              0.6666666666666666,
              "#ed7953"
             ],
             [
              0.7777777777777778,
              "#fb9f3a"
             ],
             [
              0.8888888888888888,
              "#fdca26"
             ],
             [
              1,
              "#f0f921"
             ]
            ],
            "type": "surface"
           }
          ],
          "table": [
           {
            "cells": {
             "fill": {
              "color": "#EBF0F8"
             },
             "line": {
              "color": "white"
             }
            },
            "header": {
             "fill": {
              "color": "#C8D4E3"
             },
             "line": {
              "color": "white"
             }
            },
            "type": "table"
           }
          ]
         },
         "layout": {
          "annotationdefaults": {
           "arrowcolor": "#2a3f5f",
           "arrowhead": 0,
           "arrowwidth": 1
          },
          "autotypenumbers": "strict",
          "coloraxis": {
           "colorbar": {
            "outlinewidth": 0,
            "ticks": ""
           }
          },
          "colorscale": {
           "diverging": [
            [
             0,
             "#8e0152"
            ],
            [
             0.1,
             "#c51b7d"
            ],
            [
             0.2,
             "#de77ae"
            ],
            [
             0.3,
             "#f1b6da"
            ],
            [
             0.4,
             "#fde0ef"
            ],
            [
             0.5,
             "#f7f7f7"
            ],
            [
             0.6,
             "#e6f5d0"
            ],
            [
             0.7,
             "#b8e186"
            ],
            [
             0.8,
             "#7fbc41"
            ],
            [
             0.9,
             "#4d9221"
            ],
            [
             1,
             "#276419"
            ]
           ],
           "sequential": [
            [
             0,
             "#0d0887"
            ],
            [
             0.1111111111111111,
             "#46039f"
            ],
            [
             0.2222222222222222,
             "#7201a8"
            ],
            [
             0.3333333333333333,
             "#9c179e"
            ],
            [
             0.4444444444444444,
             "#bd3786"
            ],
            [
             0.5555555555555556,
             "#d8576b"
            ],
            [
             0.6666666666666666,
             "#ed7953"
            ],
            [
             0.7777777777777778,
             "#fb9f3a"
            ],
            [
             0.8888888888888888,
             "#fdca26"
            ],
            [
             1,
             "#f0f921"
            ]
           ],
           "sequentialminus": [
            [
             0,
             "#0d0887"
            ],
            [
             0.1111111111111111,
             "#46039f"
            ],
            [
             0.2222222222222222,
             "#7201a8"
            ],
            [
             0.3333333333333333,
             "#9c179e"
            ],
            [
             0.4444444444444444,
             "#bd3786"
            ],
            [
             0.5555555555555556,
             "#d8576b"
            ],
            [
             0.6666666666666666,
             "#ed7953"
            ],
            [
             0.7777777777777778,
             "#fb9f3a"
            ],
            [
             0.8888888888888888,
             "#fdca26"
            ],
            [
             1,
             "#f0f921"
            ]
           ]
          },
          "colorway": [
           "#636efa",
           "#EF553B",
           "#00cc96",
           "#ab63fa",
           "#FFA15A",
           "#19d3f3",
           "#FF6692",
           "#B6E880",
           "#FF97FF",
           "#FECB52"
          ],
          "font": {
           "color": "#2a3f5f"
          },
          "geo": {
           "bgcolor": "white",
           "lakecolor": "white",
           "landcolor": "#E5ECF6",
           "showlakes": true,
           "showland": true,
           "subunitcolor": "white"
          },
          "hoverlabel": {
           "align": "left"
          },
          "hovermode": "closest",
          "mapbox": {
           "style": "light"
          },
          "paper_bgcolor": "white",
          "plot_bgcolor": "#E5ECF6",
          "polar": {
           "angularaxis": {
            "gridcolor": "white",
            "linecolor": "white",
            "ticks": ""
           },
           "bgcolor": "#E5ECF6",
           "radialaxis": {
            "gridcolor": "white",
            "linecolor": "white",
            "ticks": ""
           }
          },
          "scene": {
           "xaxis": {
            "backgroundcolor": "#E5ECF6",
            "gridcolor": "white",
            "gridwidth": 2,
            "linecolor": "white",
            "showbackground": true,
            "ticks": "",
            "zerolinecolor": "white"
           },
           "yaxis": {
            "backgroundcolor": "#E5ECF6",
            "gridcolor": "white",
            "gridwidth": 2,
            "linecolor": "white",
            "showbackground": true,
            "ticks": "",
            "zerolinecolor": "white"
           },
           "zaxis": {
            "backgroundcolor": "#E5ECF6",
            "gridcolor": "white",
            "gridwidth": 2,
            "linecolor": "white",
            "showbackground": true,
            "ticks": "",
            "zerolinecolor": "white"
           }
          },
          "shapedefaults": {
           "line": {
            "color": "#2a3f5f"
           }
          },
          "ternary": {
           "aaxis": {
            "gridcolor": "white",
            "linecolor": "white",
            "ticks": ""
           },
           "baxis": {
            "gridcolor": "white",
            "linecolor": "white",
            "ticks": ""
           },
           "bgcolor": "#E5ECF6",
           "caxis": {
            "gridcolor": "white",
            "linecolor": "white",
            "ticks": ""
           }
          },
          "title": {
           "x": 0.05
          },
          "xaxis": {
           "automargin": true,
           "gridcolor": "white",
           "linecolor": "white",
           "ticks": "",
           "title": {
            "standoff": 15
           },
           "zerolinecolor": "white",
           "zerolinewidth": 2
          },
          "yaxis": {
           "automargin": true,
           "gridcolor": "white",
           "linecolor": "white",
           "ticks": "",
           "title": {
            "standoff": 15
           },
           "zerolinecolor": "white",
           "zerolinewidth": 2
          }
         }
        }
       }
      }
     },
     "metadata": {},
     "output_type": "display_data"
    }
   ],
   "source": [
    "import plotly.express as px\n",
    "\n",
    "fig = px.line_polar(r=drx_spring_po_score.iloc[1].values , theta=drx_spring_po_score.iloc[1].index, line_close=True)\n",
    "\n",
    "fig.show()"
   ]
  },
  {
   "cell_type": "markdown",
   "metadata": {},
   "source": [
    "---"
   ]
  },
  {
   "cell_type": "markdown",
   "metadata": {},
   "source": [
    "### lck리그\n",
    "#### split 별 분류\n",
    "##### playoff 유무"
   ]
  },
  {
   "cell_type": "code",
   "execution_count": 12,
   "metadata": {},
   "outputs": [],
   "source": [
    "lck = lol2022season[ lol2022season['league'] == 'LCK' ]\n",
    "lck_spring = lck[ (lck['split'] == 'Spring') & (lck['playoffs']==0) ]\n",
    "lck_summer = lck[ (lck['split'] == 'Summer') & (lck['playoffs']==0) ]\n",
    "lck_spring_po = lck[ (lck['split'] == 'Spring') & (lck['playoffs']==1) ]\n",
    "lck_summer_po = lck[ (lck['split'] == 'Summer') & (lck['playoffs']==1) ]"
   ]
  },
  {
   "cell_type": "code",
   "execution_count": 29,
   "metadata": {},
   "outputs": [
    {
     "data": {
      "text/html": [
       "<div>\n",
       "<style scoped>\n",
       "    .dataframe tbody tr th:only-of-type {\n",
       "        vertical-align: middle;\n",
       "    }\n",
       "\n",
       "    .dataframe tbody tr th {\n",
       "        vertical-align: top;\n",
       "    }\n",
       "\n",
       "    .dataframe thead th {\n",
       "        text-align: right;\n",
       "    }\n",
       "</style>\n",
       "<table border=\"1\" class=\"dataframe\">\n",
       "  <thead>\n",
       "    <tr style=\"text-align: right;\">\n",
       "      <th></th>\n",
       "      <th>gameid</th>\n",
       "      <th>participantid</th>\n",
       "      <th>side</th>\n",
       "      <th>league</th>\n",
       "      <th>split</th>\n",
       "      <th>teamname</th>\n",
       "      <th>date</th>\n",
       "      <th>gamelength</th>\n",
       "      <th>result</th>\n",
       "      <th>totalgold</th>\n",
       "      <th>golddiffat15</th>\n",
       "      <th>towers</th>\n",
       "    </tr>\n",
       "  </thead>\n",
       "  <tbody>\n",
       "    <tr>\n",
       "      <th>1440</th>\n",
       "      <td>ESPORTSTMNT01_2700815</td>\n",
       "      <td>1</td>\n",
       "      <td>Blue</td>\n",
       "      <td>LCK</td>\n",
       "      <td>Spring</td>\n",
       "      <td>DRX</td>\n",
       "      <td>2022-01-12 06:20:03</td>\n",
       "      <td>2195</td>\n",
       "      <td>0</td>\n",
       "      <td>13189</td>\n",
       "      <td>-202.0</td>\n",
       "      <td>NaN</td>\n",
       "    </tr>\n",
       "    <tr>\n",
       "      <th>1441</th>\n",
       "      <td>ESPORTSTMNT01_2700815</td>\n",
       "      <td>2</td>\n",
       "      <td>Blue</td>\n",
       "      <td>LCK</td>\n",
       "      <td>Spring</td>\n",
       "      <td>DRX</td>\n",
       "      <td>2022-01-12 06:20:03</td>\n",
       "      <td>2195</td>\n",
       "      <td>0</td>\n",
       "      <td>10792</td>\n",
       "      <td>240.0</td>\n",
       "      <td>NaN</td>\n",
       "    </tr>\n",
       "    <tr>\n",
       "      <th>1442</th>\n",
       "      <td>ESPORTSTMNT01_2700815</td>\n",
       "      <td>3</td>\n",
       "      <td>Blue</td>\n",
       "      <td>LCK</td>\n",
       "      <td>Spring</td>\n",
       "      <td>DRX</td>\n",
       "      <td>2022-01-12 06:20:03</td>\n",
       "      <td>2195</td>\n",
       "      <td>0</td>\n",
       "      <td>14226</td>\n",
       "      <td>438.0</td>\n",
       "      <td>NaN</td>\n",
       "    </tr>\n",
       "    <tr>\n",
       "      <th>1443</th>\n",
       "      <td>ESPORTSTMNT01_2700815</td>\n",
       "      <td>4</td>\n",
       "      <td>Blue</td>\n",
       "      <td>LCK</td>\n",
       "      <td>Spring</td>\n",
       "      <td>DRX</td>\n",
       "      <td>2022-01-12 06:20:03</td>\n",
       "      <td>2195</td>\n",
       "      <td>0</td>\n",
       "      <td>16249</td>\n",
       "      <td>2849.0</td>\n",
       "      <td>NaN</td>\n",
       "    </tr>\n",
       "    <tr>\n",
       "      <th>1444</th>\n",
       "      <td>ESPORTSTMNT01_2700815</td>\n",
       "      <td>5</td>\n",
       "      <td>Blue</td>\n",
       "      <td>LCK</td>\n",
       "      <td>Spring</td>\n",
       "      <td>DRX</td>\n",
       "      <td>2022-01-12 06:20:03</td>\n",
       "      <td>2195</td>\n",
       "      <td>0</td>\n",
       "      <td>9291</td>\n",
       "      <td>1432.0</td>\n",
       "      <td>NaN</td>\n",
       "    </tr>\n",
       "    <tr>\n",
       "      <th>...</th>\n",
       "      <td>...</td>\n",
       "      <td>...</td>\n",
       "      <td>...</td>\n",
       "      <td>...</td>\n",
       "      <td>...</td>\n",
       "      <td>...</td>\n",
       "      <td>...</td>\n",
       "      <td>...</td>\n",
       "      <td>...</td>\n",
       "      <td>...</td>\n",
       "      <td>...</td>\n",
       "      <td>...</td>\n",
       "    </tr>\n",
       "    <tr>\n",
       "      <th>49051</th>\n",
       "      <td>ESPORTSTMNT02_2672758</td>\n",
       "      <td>8</td>\n",
       "      <td>Red</td>\n",
       "      <td>LCK</td>\n",
       "      <td>Spring</td>\n",
       "      <td>Fredit BRION</td>\n",
       "      <td>2022-03-20 10:37:02</td>\n",
       "      <td>2499</td>\n",
       "      <td>0</td>\n",
       "      <td>14050</td>\n",
       "      <td>-944.0</td>\n",
       "      <td>NaN</td>\n",
       "    </tr>\n",
       "    <tr>\n",
       "      <th>49052</th>\n",
       "      <td>ESPORTSTMNT02_2672758</td>\n",
       "      <td>9</td>\n",
       "      <td>Red</td>\n",
       "      <td>LCK</td>\n",
       "      <td>Spring</td>\n",
       "      <td>Fredit BRION</td>\n",
       "      <td>2022-03-20 10:37:02</td>\n",
       "      <td>2499</td>\n",
       "      <td>0</td>\n",
       "      <td>18472</td>\n",
       "      <td>686.0</td>\n",
       "      <td>NaN</td>\n",
       "    </tr>\n",
       "    <tr>\n",
       "      <th>49053</th>\n",
       "      <td>ESPORTSTMNT02_2672758</td>\n",
       "      <td>10</td>\n",
       "      <td>Red</td>\n",
       "      <td>LCK</td>\n",
       "      <td>Spring</td>\n",
       "      <td>Fredit BRION</td>\n",
       "      <td>2022-03-20 10:37:02</td>\n",
       "      <td>2499</td>\n",
       "      <td>0</td>\n",
       "      <td>8375</td>\n",
       "      <td>-1017.0</td>\n",
       "      <td>NaN</td>\n",
       "    </tr>\n",
       "    <tr>\n",
       "      <th>49054</th>\n",
       "      <td>ESPORTSTMNT02_2672758</td>\n",
       "      <td>100</td>\n",
       "      <td>Blue</td>\n",
       "      <td>LCK</td>\n",
       "      <td>Spring</td>\n",
       "      <td>Kwangdong Freecs</td>\n",
       "      <td>2022-03-20 10:37:02</td>\n",
       "      <td>2499</td>\n",
       "      <td>1</td>\n",
       "      <td>71556</td>\n",
       "      <td>703.0</td>\n",
       "      <td>11.0</td>\n",
       "    </tr>\n",
       "    <tr>\n",
       "      <th>49055</th>\n",
       "      <td>ESPORTSTMNT02_2672758</td>\n",
       "      <td>200</td>\n",
       "      <td>Red</td>\n",
       "      <td>LCK</td>\n",
       "      <td>Spring</td>\n",
       "      <td>Fredit BRION</td>\n",
       "      <td>2022-03-20 10:37:02</td>\n",
       "      <td>2499</td>\n",
       "      <td>0</td>\n",
       "      <td>67695</td>\n",
       "      <td>-703.0</td>\n",
       "      <td>3.0</td>\n",
       "    </tr>\n",
       "  </tbody>\n",
       "</table>\n",
       "<p>2544 rows × 12 columns</p>\n",
       "</div>"
      ],
      "text/plain": [
       "                      gameid  participantid  side league   split  \\\n",
       "1440   ESPORTSTMNT01_2700815              1  Blue    LCK  Spring   \n",
       "1441   ESPORTSTMNT01_2700815              2  Blue    LCK  Spring   \n",
       "1442   ESPORTSTMNT01_2700815              3  Blue    LCK  Spring   \n",
       "1443   ESPORTSTMNT01_2700815              4  Blue    LCK  Spring   \n",
       "1444   ESPORTSTMNT01_2700815              5  Blue    LCK  Spring   \n",
       "...                      ...            ...   ...    ...     ...   \n",
       "49051  ESPORTSTMNT02_2672758              8   Red    LCK  Spring   \n",
       "49052  ESPORTSTMNT02_2672758              9   Red    LCK  Spring   \n",
       "49053  ESPORTSTMNT02_2672758             10   Red    LCK  Spring   \n",
       "49054  ESPORTSTMNT02_2672758            100  Blue    LCK  Spring   \n",
       "49055  ESPORTSTMNT02_2672758            200   Red    LCK  Spring   \n",
       "\n",
       "               teamname                 date  gamelength  result  totalgold  \\\n",
       "1440                DRX  2022-01-12 06:20:03        2195       0      13189   \n",
       "1441                DRX  2022-01-12 06:20:03        2195       0      10792   \n",
       "1442                DRX  2022-01-12 06:20:03        2195       0      14226   \n",
       "1443                DRX  2022-01-12 06:20:03        2195       0      16249   \n",
       "1444                DRX  2022-01-12 06:20:03        2195       0       9291   \n",
       "...                 ...                  ...         ...     ...        ...   \n",
       "49051      Fredit BRION  2022-03-20 10:37:02        2499       0      14050   \n",
       "49052      Fredit BRION  2022-03-20 10:37:02        2499       0      18472   \n",
       "49053      Fredit BRION  2022-03-20 10:37:02        2499       0       8375   \n",
       "49054  Kwangdong Freecs  2022-03-20 10:37:02        2499       1      71556   \n",
       "49055      Fredit BRION  2022-03-20 10:37:02        2499       0      67695   \n",
       "\n",
       "       golddiffat15  towers  \n",
       "1440         -202.0     NaN  \n",
       "1441          240.0     NaN  \n",
       "1442          438.0     NaN  \n",
       "1443         2849.0     NaN  \n",
       "1444         1432.0     NaN  \n",
       "...             ...     ...  \n",
       "49051        -944.0     NaN  \n",
       "49052         686.0     NaN  \n",
       "49053       -1017.0     NaN  \n",
       "49054         703.0    11.0  \n",
       "49055        -703.0     3.0  \n",
       "\n",
       "[2544 rows x 12 columns]"
      ]
     },
     "execution_count": 29,
     "metadata": {},
     "output_type": "execute_result"
    }
   ],
   "source": [
    "lck_spring_df = lck_spring[ ['gameid','participantid','side','league','split','teamname','date', \\\n",
    "    'gamelength','result','totalgold','golddiffat15','towers'] ]\n",
    "lck_spring_df"
   ]
  },
  {
   "cell_type": "code",
   "execution_count": 91,
   "metadata": {},
   "outputs": [
    {
     "name": "stderr",
     "output_type": "stream",
     "text": [
      "C:\\Users\\Admin\\AppData\\Local\\Temp\\ipykernel_18404\\3910339335.py:3: SettingWithCopyWarning:\n",
      "\n",
      "\n",
      "A value is trying to be set on a copy of a slice from a DataFrame.\n",
      "Try using .loc[row_indexer,col_indexer] = value instead\n",
      "\n",
      "See the caveats in the documentation: https://pandas.pydata.org/pandas-docs/stable/user_guide/indexing.html#returning-a-view-versus-a-copy\n",
      "\n"
     ]
    },
    {
     "data": {
      "text/html": [
       "<div>\n",
       "<style scoped>\n",
       "    .dataframe tbody tr th:only-of-type {\n",
       "        vertical-align: middle;\n",
       "    }\n",
       "\n",
       "    .dataframe tbody tr th {\n",
       "        vertical-align: top;\n",
       "    }\n",
       "\n",
       "    .dataframe thead th {\n",
       "        text-align: right;\n",
       "    }\n",
       "</style>\n",
       "<table border=\"1\" class=\"dataframe\">\n",
       "  <thead>\n",
       "    <tr style=\"text-align: right;\">\n",
       "      <th></th>\n",
       "      <th>gameid</th>\n",
       "      <th>participantid</th>\n",
       "      <th>side</th>\n",
       "      <th>league</th>\n",
       "      <th>split</th>\n",
       "      <th>teamname</th>\n",
       "      <th>date</th>\n",
       "      <th>gamelength</th>\n",
       "      <th>result</th>\n",
       "      <th>totalgold</th>\n",
       "      <th>golddiffat15</th>\n",
       "      <th>towers</th>\n",
       "    </tr>\n",
       "  </thead>\n",
       "  <tbody>\n",
       "    <tr>\n",
       "      <th>1450</th>\n",
       "      <td>ESPORTSTMNT01_2700815</td>\n",
       "      <td>100</td>\n",
       "      <td>Blue</td>\n",
       "      <td>LCK</td>\n",
       "      <td>Spring</td>\n",
       "      <td>DRX</td>\n",
       "      <td>2022-01-12 06:20:03</td>\n",
       "      <td>2195</td>\n",
       "      <td>lose</td>\n",
       "      <td>63747</td>\n",
       "      <td>4757.0</td>\n",
       "      <td>8.0</td>\n",
       "    </tr>\n",
       "    <tr>\n",
       "      <th>1451</th>\n",
       "      <td>ESPORTSTMNT01_2700815</td>\n",
       "      <td>200</td>\n",
       "      <td>Red</td>\n",
       "      <td>LCK</td>\n",
       "      <td>Spring</td>\n",
       "      <td>Liiv SANDBOX</td>\n",
       "      <td>2022-01-12 06:20:03</td>\n",
       "      <td>2195</td>\n",
       "      <td>win</td>\n",
       "      <td>67669</td>\n",
       "      <td>-4757.0</td>\n",
       "      <td>9.0</td>\n",
       "    </tr>\n",
       "    <tr>\n",
       "      <th>1462</th>\n",
       "      <td>ESPORTSTMNT01_2690695</td>\n",
       "      <td>100</td>\n",
       "      <td>Blue</td>\n",
       "      <td>LCK</td>\n",
       "      <td>Spring</td>\n",
       "      <td>DRX</td>\n",
       "      <td>2022-01-12 09:02:13</td>\n",
       "      <td>2070</td>\n",
       "      <td>lose</td>\n",
       "      <td>60674</td>\n",
       "      <td>-1045.0</td>\n",
       "      <td>3.0</td>\n",
       "    </tr>\n",
       "    <tr>\n",
       "      <th>1463</th>\n",
       "      <td>ESPORTSTMNT01_2690695</td>\n",
       "      <td>200</td>\n",
       "      <td>Red</td>\n",
       "      <td>LCK</td>\n",
       "      <td>Spring</td>\n",
       "      <td>Liiv SANDBOX</td>\n",
       "      <td>2022-01-12 09:02:13</td>\n",
       "      <td>2070</td>\n",
       "      <td>win</td>\n",
       "      <td>67152</td>\n",
       "      <td>1045.0</td>\n",
       "      <td>9.0</td>\n",
       "    </tr>\n",
       "    <tr>\n",
       "      <th>1486</th>\n",
       "      <td>ESPORTSTMNT01_2690705</td>\n",
       "      <td>100</td>\n",
       "      <td>Blue</td>\n",
       "      <td>LCK</td>\n",
       "      <td>Spring</td>\n",
       "      <td>T1</td>\n",
       "      <td>2022-01-12 10:07:10</td>\n",
       "      <td>2233</td>\n",
       "      <td>win</td>\n",
       "      <td>66455</td>\n",
       "      <td>1309.0</td>\n",
       "      <td>7.0</td>\n",
       "    </tr>\n",
       "  </tbody>\n",
       "</table>\n",
       "</div>"
      ],
      "text/plain": [
       "                     gameid  participantid  side league   split      teamname  \\\n",
       "1450  ESPORTSTMNT01_2700815            100  Blue    LCK  Spring           DRX   \n",
       "1451  ESPORTSTMNT01_2700815            200   Red    LCK  Spring  Liiv SANDBOX   \n",
       "1462  ESPORTSTMNT01_2690695            100  Blue    LCK  Spring           DRX   \n",
       "1463  ESPORTSTMNT01_2690695            200   Red    LCK  Spring  Liiv SANDBOX   \n",
       "1486  ESPORTSTMNT01_2690705            100  Blue    LCK  Spring            T1   \n",
       "\n",
       "                     date  gamelength result  totalgold  golddiffat15  towers  \n",
       "1450  2022-01-12 06:20:03        2195   lose      63747        4757.0     8.0  \n",
       "1451  2022-01-12 06:20:03        2195    win      67669       -4757.0     9.0  \n",
       "1462  2022-01-12 09:02:13        2070   lose      60674       -1045.0     3.0  \n",
       "1463  2022-01-12 09:02:13        2070    win      67152        1045.0     9.0  \n",
       "1486  2022-01-12 10:07:10        2233    win      66455        1309.0     7.0  "
      ]
     },
     "execution_count": 91,
     "metadata": {},
     "output_type": "execute_result"
    }
   ],
   "source": [
    "lck_spring_team_df = lck_spring_df[ (lck_spring_df['participantid'] == 100) | (lck_spring_df['participantid'] == 200 ) ]\n",
    "\n",
    "lck_spring_team_df['result'] = np.where( lck_spring_team_df['result'] == 0 , 'lose', 'win')\n",
    "\n",
    "lck_spring_team_df.head()"
   ]
  },
  {
   "cell_type": "code",
   "execution_count": 67,
   "metadata": {},
   "outputs": [
    {
     "data": {
      "text/plain": [
       "gameid           0\n",
       "participantid    0\n",
       "side             0\n",
       "league           0\n",
       "split            0\n",
       "teamname         0\n",
       "date             0\n",
       "gamelength       0\n",
       "result           0\n",
       "totalgold        0\n",
       "golddiffat15     0\n",
       "towers           0\n",
       "dtype: int64"
      ]
     },
     "execution_count": 67,
     "metadata": {},
     "output_type": "execute_result"
    }
   ],
   "source": [
    "lck_spring_team_df.isna().sum() #결측값확인"
   ]
  },
  {
   "cell_type": "code",
   "execution_count": 88,
   "metadata": {},
   "outputs": [
    {
     "data": {
      "application/vnd.plotly.v1+json": {
       "config": {
        "plotlyServerURL": "https://plot.ly"
       },
       "data": [
        {
         "alignmentgroup": "True",
         "hovertemplate": "y=%{y}<extra></extra>",
         "legendgroup": "",
         "marker": {
          "color": "#636efa"
         },
         "name": "",
         "notched": false,
         "offsetgroup": "",
         "orientation": "v",
         "showlegend": false,
         "type": "box",
         "x0": " ",
         "xaxis": "x",
         "y": [
          63747,
          67669,
          60674,
          67152,
          66455,
          58806,
          38495,
          51002,
          67791,
          57396,
          61659,
          52660,
          60614,
          72967,
          68723,
          76622,
          40836,
          49166,
          45102,
          58528,
          57160,
          40047,
          76283,
          74244,
          86941,
          79989,
          64683,
          78702,
          59460,
          49296,
          52525,
          41451,
          58171,
          72584,
          48618,
          59968,
          62902,
          54301,
          69908,
          67756,
          67073,
          52857,
          68151,
          62844,
          85927,
          83643,
          59877,
          64447,
          72494,
          62148,
          70724,
          61626,
          67031,
          57621,
          66654,
          63454,
          57793,
          68414,
          46838,
          56513,
          56180,
          43350,
          62370,
          74783,
          56307,
          66704,
          51343,
          62310,
          53670,
          59347,
          55192,
          65576,
          54859,
          44050,
          48688,
          61059,
          48660,
          44931,
          59464,
          64701,
          51782,
          60800,
          74328,
          61324,
          43591,
          54888,
          52397,
          63409,
          39175,
          45382,
          63992,
          69709,
          81313,
          83529,
          54829,
          43810,
          48141,
          58195,
          73651,
          64973,
          39605,
          53257,
          56640,
          42756,
          70230,
          68687,
          56468,
          61464,
          85071,
          77831,
          57055,
          52279,
          72433,
          62900,
          48396,
          61874,
          40917,
          53076,
          72807,
          69948,
          73734,
          75416,
          77917,
          71123,
          59835,
          69775,
          61603,
          75115,
          80091,
          87529,
          100872,
          93420,
          61237,
          48749,
          62876,
          66074,
          65935,
          55884,
          40966,
          50055,
          55377,
          63141,
          49360,
          40384,
          81816,
          85166,
          54642,
          48843,
          84304,
          80023,
          60688,
          50401,
          72711,
          63031,
          51767,
          60564,
          63721,
          51703,
          45334,
          57222,
          52601,
          63406,
          68731,
          75812,
          76440,
          73175,
          69474,
          59224,
          67362,
          56967,
          71659,
          73865,
          74581,
          66923,
          90436,
          81188,
          59815,
          47902,
          55020,
          60900,
          59624,
          67474,
          58226,
          46113,
          41854,
          56336,
          78846,
          82576,
          73425,
          63235,
          68496,
          63446,
          56749,
          51877,
          67437,
          54768,
          57801,
          46823,
          48613,
          60878,
          49334,
          57636,
          55164,
          66292,
          77283,
          78560,
          63683,
          59543,
          61049,
          52271,
          74250,
          78974,
          62311,
          66357,
          39050,
          49266,
          56948,
          42626,
          53890,
          63254,
          65482,
          52020,
          65661,
          74698,
          53867,
          46345,
          80663,
          79070,
          80689,
          75050,
          55057,
          66235,
          52492,
          47542,
          72730,
          69082,
          63310,
          70969,
          79682,
          73532,
          56410,
          46699,
          56057,
          65675,
          41768,
          55164,
          62459,
          48760,
          79673,
          82121,
          50534,
          62410,
          63808,
          54640,
          56398,
          43437,
          75303,
          67121,
          60948,
          68083,
          54743,
          42486,
          51311,
          36321,
          54519,
          66520,
          56899,
          64488,
          51019,
          65425,
          54615,
          67728,
          51257,
          61114,
          43255,
          53010,
          49796,
          60474,
          54246,
          62249,
          45484,
          55353,
          79200,
          74213,
          77447,
          63800,
          66073,
          55625,
          56100,
          45969,
          64940,
          62671,
          55126,
          46844,
          39946,
          53986,
          51840,
          63687,
          59195,
          66592,
          45974,
          59504,
          73635,
          68488,
          77197,
          75093,
          59151,
          47466,
          83517,
          81598,
          54687,
          62462,
          57004,
          66286,
          61138,
          68616,
          65265,
          54995,
          83859,
          74902,
          76406,
          67399,
          74473,
          60722,
          47690,
          63357,
          45032,
          58403,
          67146,
          63145,
          61108,
          65082,
          55036,
          65485,
          50097,
          57067,
          69531,
          80232,
          66414,
          59141,
          76746,
          64975,
          49897,
          63493,
          64605,
          56448,
          59774,
          41422,
          47967,
          55811,
          57179,
          68918,
          57875,
          51753,
          47405,
          61598,
          76069,
          67193,
          51128,
          67843,
          47181,
          62534,
          60173,
          68234,
          44051,
          59413,
          72938,
          82946,
          44789,
          28982,
          29452,
          46550,
          53568,
          62893,
          76511,
          66821,
          48585,
          60094,
          69821,
          60112,
          64174,
          56905,
          38022,
          53758,
          39051,
          49286,
          39804,
          54936,
          58541,
          48423,
          56512,
          46886,
          68968,
          55140,
          74734,
          77923,
          32310,
          48669,
          53036,
          38115,
          65912,
          50085,
          42289,
          33042,
          58052,
          46314,
          78374,
          71760,
          43255,
          54413,
          72947,
          63054,
          42419,
          50586,
          59595,
          51994,
          55138,
          65894,
          56210,
          43828,
          49537,
          60657,
          71556,
          67695
         ],
         "y0": " ",
         "yaxis": "y"
        }
       ],
       "layout": {
        "boxmode": "group",
        "legend": {
         "tracegroupgap": 0
        },
        "margin": {
         "t": 60
        },
        "template": {
         "data": {
          "bar": [
           {
            "error_x": {
             "color": "#2a3f5f"
            },
            "error_y": {
             "color": "#2a3f5f"
            },
            "marker": {
             "line": {
              "color": "#E5ECF6",
              "width": 0.5
             },
             "pattern": {
              "fillmode": "overlay",
              "size": 10,
              "solidity": 0.2
             }
            },
            "type": "bar"
           }
          ],
          "barpolar": [
           {
            "marker": {
             "line": {
              "color": "#E5ECF6",
              "width": 0.5
             },
             "pattern": {
              "fillmode": "overlay",
              "size": 10,
              "solidity": 0.2
             }
            },
            "type": "barpolar"
           }
          ],
          "carpet": [
           {
            "aaxis": {
             "endlinecolor": "#2a3f5f",
             "gridcolor": "white",
             "linecolor": "white",
             "minorgridcolor": "white",
             "startlinecolor": "#2a3f5f"
            },
            "baxis": {
             "endlinecolor": "#2a3f5f",
             "gridcolor": "white",
             "linecolor": "white",
             "minorgridcolor": "white",
             "startlinecolor": "#2a3f5f"
            },
            "type": "carpet"
           }
          ],
          "choropleth": [
           {
            "colorbar": {
             "outlinewidth": 0,
             "ticks": ""
            },
            "type": "choropleth"
           }
          ],
          "contour": [
           {
            "colorbar": {
             "outlinewidth": 0,
             "ticks": ""
            },
            "colorscale": [
             [
              0,
              "#0d0887"
             ],
             [
              0.1111111111111111,
              "#46039f"
             ],
             [
              0.2222222222222222,
              "#7201a8"
             ],
             [
              0.3333333333333333,
              "#9c179e"
             ],
             [
              0.4444444444444444,
              "#bd3786"
             ],
             [
              0.5555555555555556,
              "#d8576b"
             ],
             [
              0.6666666666666666,
              "#ed7953"
             ],
             [
              0.7777777777777778,
              "#fb9f3a"
             ],
             [
              0.8888888888888888,
              "#fdca26"
             ],
             [
              1,
              "#f0f921"
             ]
            ],
            "type": "contour"
           }
          ],
          "contourcarpet": [
           {
            "colorbar": {
             "outlinewidth": 0,
             "ticks": ""
            },
            "type": "contourcarpet"
           }
          ],
          "heatmap": [
           {
            "colorbar": {
             "outlinewidth": 0,
             "ticks": ""
            },
            "colorscale": [
             [
              0,
              "#0d0887"
             ],
             [
              0.1111111111111111,
              "#46039f"
             ],
             [
              0.2222222222222222,
              "#7201a8"
             ],
             [
              0.3333333333333333,
              "#9c179e"
             ],
             [
              0.4444444444444444,
              "#bd3786"
             ],
             [
              0.5555555555555556,
              "#d8576b"
             ],
             [
              0.6666666666666666,
              "#ed7953"
             ],
             [
              0.7777777777777778,
              "#fb9f3a"
             ],
             [
              0.8888888888888888,
              "#fdca26"
             ],
             [
              1,
              "#f0f921"
             ]
            ],
            "type": "heatmap"
           }
          ],
          "heatmapgl": [
           {
            "colorbar": {
             "outlinewidth": 0,
             "ticks": ""
            },
            "colorscale": [
             [
              0,
              "#0d0887"
             ],
             [
              0.1111111111111111,
              "#46039f"
             ],
             [
              0.2222222222222222,
              "#7201a8"
             ],
             [
              0.3333333333333333,
              "#9c179e"
             ],
             [
              0.4444444444444444,
              "#bd3786"
             ],
             [
              0.5555555555555556,
              "#d8576b"
             ],
             [
              0.6666666666666666,
              "#ed7953"
             ],
             [
              0.7777777777777778,
              "#fb9f3a"
             ],
             [
              0.8888888888888888,
              "#fdca26"
             ],
             [
              1,
              "#f0f921"
             ]
            ],
            "type": "heatmapgl"
           }
          ],
          "histogram": [
           {
            "marker": {
             "pattern": {
              "fillmode": "overlay",
              "size": 10,
              "solidity": 0.2
             }
            },
            "type": "histogram"
           }
          ],
          "histogram2d": [
           {
            "colorbar": {
             "outlinewidth": 0,
             "ticks": ""
            },
            "colorscale": [
             [
              0,
              "#0d0887"
             ],
             [
              0.1111111111111111,
              "#46039f"
             ],
             [
              0.2222222222222222,
              "#7201a8"
             ],
             [
              0.3333333333333333,
              "#9c179e"
             ],
             [
              0.4444444444444444,
              "#bd3786"
             ],
             [
              0.5555555555555556,
              "#d8576b"
             ],
             [
              0.6666666666666666,
              "#ed7953"
             ],
             [
              0.7777777777777778,
              "#fb9f3a"
             ],
             [
              0.8888888888888888,
              "#fdca26"
             ],
             [
              1,
              "#f0f921"
             ]
            ],
            "type": "histogram2d"
           }
          ],
          "histogram2dcontour": [
           {
            "colorbar": {
             "outlinewidth": 0,
             "ticks": ""
            },
            "colorscale": [
             [
              0,
              "#0d0887"
             ],
             [
              0.1111111111111111,
              "#46039f"
             ],
             [
              0.2222222222222222,
              "#7201a8"
             ],
             [
              0.3333333333333333,
              "#9c179e"
             ],
             [
              0.4444444444444444,
              "#bd3786"
             ],
             [
              0.5555555555555556,
              "#d8576b"
             ],
             [
              0.6666666666666666,
              "#ed7953"
             ],
             [
              0.7777777777777778,
              "#fb9f3a"
             ],
             [
              0.8888888888888888,
              "#fdca26"
             ],
             [
              1,
              "#f0f921"
             ]
            ],
            "type": "histogram2dcontour"
           }
          ],
          "mesh3d": [
           {
            "colorbar": {
             "outlinewidth": 0,
             "ticks": ""
            },
            "type": "mesh3d"
           }
          ],
          "parcoords": [
           {
            "line": {
             "colorbar": {
              "outlinewidth": 0,
              "ticks": ""
             }
            },
            "type": "parcoords"
           }
          ],
          "pie": [
           {
            "automargin": true,
            "type": "pie"
           }
          ],
          "scatter": [
           {
            "fillpattern": {
             "fillmode": "overlay",
             "size": 10,
             "solidity": 0.2
            },
            "type": "scatter"
           }
          ],
          "scatter3d": [
           {
            "line": {
             "colorbar": {
              "outlinewidth": 0,
              "ticks": ""
             }
            },
            "marker": {
             "colorbar": {
              "outlinewidth": 0,
              "ticks": ""
             }
            },
            "type": "scatter3d"
           }
          ],
          "scattercarpet": [
           {
            "marker": {
             "colorbar": {
              "outlinewidth": 0,
              "ticks": ""
             }
            },
            "type": "scattercarpet"
           }
          ],
          "scattergeo": [
           {
            "marker": {
             "colorbar": {
              "outlinewidth": 0,
              "ticks": ""
             }
            },
            "type": "scattergeo"
           }
          ],
          "scattergl": [
           {
            "marker": {
             "colorbar": {
              "outlinewidth": 0,
              "ticks": ""
             }
            },
            "type": "scattergl"
           }
          ],
          "scattermapbox": [
           {
            "marker": {
             "colorbar": {
              "outlinewidth": 0,
              "ticks": ""
             }
            },
            "type": "scattermapbox"
           }
          ],
          "scatterpolar": [
           {
            "marker": {
             "colorbar": {
              "outlinewidth": 0,
              "ticks": ""
             }
            },
            "type": "scatterpolar"
           }
          ],
          "scatterpolargl": [
           {
            "marker": {
             "colorbar": {
              "outlinewidth": 0,
              "ticks": ""
             }
            },
            "type": "scatterpolargl"
           }
          ],
          "scatterternary": [
           {
            "marker": {
             "colorbar": {
              "outlinewidth": 0,
              "ticks": ""
             }
            },
            "type": "scatterternary"
           }
          ],
          "surface": [
           {
            "colorbar": {
             "outlinewidth": 0,
             "ticks": ""
            },
            "colorscale": [
             [
              0,
              "#0d0887"
             ],
             [
              0.1111111111111111,
              "#46039f"
             ],
             [
              0.2222222222222222,
              "#7201a8"
             ],
             [
              0.3333333333333333,
              "#9c179e"
             ],
             [
              0.4444444444444444,
              "#bd3786"
             ],
             [
              0.5555555555555556,
              "#d8576b"
             ],
             [
              0.6666666666666666,
              "#ed7953"
             ],
             [
              0.7777777777777778,
              "#fb9f3a"
             ],
             [
              0.8888888888888888,
              "#fdca26"
             ],
             [
              1,
              "#f0f921"
             ]
            ],
            "type": "surface"
           }
          ],
          "table": [
           {
            "cells": {
             "fill": {
              "color": "#EBF0F8"
             },
             "line": {
              "color": "white"
             }
            },
            "header": {
             "fill": {
              "color": "#C8D4E3"
             },
             "line": {
              "color": "white"
             }
            },
            "type": "table"
           }
          ]
         },
         "layout": {
          "annotationdefaults": {
           "arrowcolor": "#2a3f5f",
           "arrowhead": 0,
           "arrowwidth": 1
          },
          "autotypenumbers": "strict",
          "coloraxis": {
           "colorbar": {
            "outlinewidth": 0,
            "ticks": ""
           }
          },
          "colorscale": {
           "diverging": [
            [
             0,
             "#8e0152"
            ],
            [
             0.1,
             "#c51b7d"
            ],
            [
             0.2,
             "#de77ae"
            ],
            [
             0.3,
             "#f1b6da"
            ],
            [
             0.4,
             "#fde0ef"
            ],
            [
             0.5,
             "#f7f7f7"
            ],
            [
             0.6,
             "#e6f5d0"
            ],
            [
             0.7,
             "#b8e186"
            ],
            [
             0.8,
             "#7fbc41"
            ],
            [
             0.9,
             "#4d9221"
            ],
            [
             1,
             "#276419"
            ]
           ],
           "sequential": [
            [
             0,
             "#0d0887"
            ],
            [
             0.1111111111111111,
             "#46039f"
            ],
            [
             0.2222222222222222,
             "#7201a8"
            ],
            [
             0.3333333333333333,
             "#9c179e"
            ],
            [
             0.4444444444444444,
             "#bd3786"
            ],
            [
             0.5555555555555556,
             "#d8576b"
            ],
            [
             0.6666666666666666,
             "#ed7953"
            ],
            [
             0.7777777777777778,
             "#fb9f3a"
            ],
            [
             0.8888888888888888,
             "#fdca26"
            ],
            [
             1,
             "#f0f921"
            ]
           ],
           "sequentialminus": [
            [
             0,
             "#0d0887"
            ],
            [
             0.1111111111111111,
             "#46039f"
            ],
            [
             0.2222222222222222,
             "#7201a8"
            ],
            [
             0.3333333333333333,
             "#9c179e"
            ],
            [
             0.4444444444444444,
             "#bd3786"
            ],
            [
             0.5555555555555556,
             "#d8576b"
            ],
            [
             0.6666666666666666,
             "#ed7953"
            ],
            [
             0.7777777777777778,
             "#fb9f3a"
            ],
            [
             0.8888888888888888,
             "#fdca26"
            ],
            [
             1,
             "#f0f921"
            ]
           ]
          },
          "colorway": [
           "#636efa",
           "#EF553B",
           "#00cc96",
           "#ab63fa",
           "#FFA15A",
           "#19d3f3",
           "#FF6692",
           "#B6E880",
           "#FF97FF",
           "#FECB52"
          ],
          "font": {
           "color": "#2a3f5f"
          },
          "geo": {
           "bgcolor": "white",
           "lakecolor": "white",
           "landcolor": "#E5ECF6",
           "showlakes": true,
           "showland": true,
           "subunitcolor": "white"
          },
          "hoverlabel": {
           "align": "left"
          },
          "hovermode": "closest",
          "mapbox": {
           "style": "light"
          },
          "paper_bgcolor": "white",
          "plot_bgcolor": "#E5ECF6",
          "polar": {
           "angularaxis": {
            "gridcolor": "white",
            "linecolor": "white",
            "ticks": ""
           },
           "bgcolor": "#E5ECF6",
           "radialaxis": {
            "gridcolor": "white",
            "linecolor": "white",
            "ticks": ""
           }
          },
          "scene": {
           "xaxis": {
            "backgroundcolor": "#E5ECF6",
            "gridcolor": "white",
            "gridwidth": 2,
            "linecolor": "white",
            "showbackground": true,
            "ticks": "",
            "zerolinecolor": "white"
           },
           "yaxis": {
            "backgroundcolor": "#E5ECF6",
            "gridcolor": "white",
            "gridwidth": 2,
            "linecolor": "white",
            "showbackground": true,
            "ticks": "",
            "zerolinecolor": "white"
           },
           "zaxis": {
            "backgroundcolor": "#E5ECF6",
            "gridcolor": "white",
            "gridwidth": 2,
            "linecolor": "white",
            "showbackground": true,
            "ticks": "",
            "zerolinecolor": "white"
           }
          },
          "shapedefaults": {
           "line": {
            "color": "#2a3f5f"
           }
          },
          "ternary": {
           "aaxis": {
            "gridcolor": "white",
            "linecolor": "white",
            "ticks": ""
           },
           "baxis": {
            "gridcolor": "white",
            "linecolor": "white",
            "ticks": ""
           },
           "bgcolor": "#E5ECF6",
           "caxis": {
            "gridcolor": "white",
            "linecolor": "white",
            "ticks": ""
           }
          },
          "title": {
           "x": 0.05
          },
          "xaxis": {
           "automargin": true,
           "gridcolor": "white",
           "linecolor": "white",
           "ticks": "",
           "title": {
            "standoff": 15
           },
           "zerolinecolor": "white",
           "zerolinewidth": 2
          },
          "yaxis": {
           "automargin": true,
           "gridcolor": "white",
           "linecolor": "white",
           "ticks": "",
           "title": {
            "standoff": 15
           },
           "zerolinecolor": "white",
           "zerolinewidth": 2
          }
         }
        },
        "xaxis": {
         "anchor": "y",
         "domain": [
          0,
          1
         ]
        },
        "yaxis": {
         "anchor": "x",
         "domain": [
          0,
          1
         ],
         "title": {
          "text": "y"
         }
        }
       }
      }
     },
     "metadata": {},
     "output_type": "display_data"
    }
   ],
   "source": [
    "px.box( y= lck_spring_team_df['totalgold'] )\n",
    "# 게임시간이 매우 긴 경기 totalgold 비약적으로 증가\n",
    "# 따라서 15diff 지표로 확인하는것이 적절"
   ]
  },
  {
   "cell_type": "code",
   "execution_count": 89,
   "metadata": {},
   "outputs": [
    {
     "data": {
      "text/html": [
       "<div>\n",
       "<style scoped>\n",
       "    .dataframe tbody tr th:only-of-type {\n",
       "        vertical-align: middle;\n",
       "    }\n",
       "\n",
       "    .dataframe tbody tr th {\n",
       "        vertical-align: top;\n",
       "    }\n",
       "\n",
       "    .dataframe thead th {\n",
       "        text-align: right;\n",
       "    }\n",
       "</style>\n",
       "<table border=\"1\" class=\"dataframe\">\n",
       "  <thead>\n",
       "    <tr style=\"text-align: right;\">\n",
       "      <th></th>\n",
       "      <th>gameid</th>\n",
       "      <th>participantid</th>\n",
       "      <th>side</th>\n",
       "      <th>league</th>\n",
       "      <th>split</th>\n",
       "      <th>teamname</th>\n",
       "      <th>date</th>\n",
       "      <th>gamelength</th>\n",
       "      <th>result</th>\n",
       "      <th>totalgold</th>\n",
       "      <th>golddiffat15</th>\n",
       "      <th>towers</th>\n",
       "    </tr>\n",
       "  </thead>\n",
       "  <tbody>\n",
       "    <tr>\n",
       "      <th>10750</th>\n",
       "      <td>ESPORTSTMNT02_2552430</td>\n",
       "      <td>100</td>\n",
       "      <td>Blue</td>\n",
       "      <td>LCK</td>\n",
       "      <td>Spring</td>\n",
       "      <td>DWG KIA</td>\n",
       "      <td>2022-01-30 06:56:25</td>\n",
       "      <td>3326</td>\n",
       "      <td>1</td>\n",
       "      <td>100872</td>\n",
       "      <td>448.0</td>\n",
       "      <td>10.0</td>\n",
       "    </tr>\n",
       "    <tr>\n",
       "      <th>10751</th>\n",
       "      <td>ESPORTSTMNT02_2552430</td>\n",
       "      <td>200</td>\n",
       "      <td>Red</td>\n",
       "      <td>LCK</td>\n",
       "      <td>Spring</td>\n",
       "      <td>T1</td>\n",
       "      <td>2022-01-30 06:56:25</td>\n",
       "      <td>3326</td>\n",
       "      <td>0</td>\n",
       "      <td>93420</td>\n",
       "      <td>-448.0</td>\n",
       "      <td>7.0</td>\n",
       "    </tr>\n",
       "    <tr>\n",
       "      <th>18922</th>\n",
       "      <td>ESPORTSTMNT02_2578644</td>\n",
       "      <td>100</td>\n",
       "      <td>Blue</td>\n",
       "      <td>LCK</td>\n",
       "      <td>Spring</td>\n",
       "      <td>T1</td>\n",
       "      <td>2022-02-12 06:05:04</td>\n",
       "      <td>2746</td>\n",
       "      <td>1</td>\n",
       "      <td>90436</td>\n",
       "      <td>-567.0</td>\n",
       "      <td>8.0</td>\n",
       "    </tr>\n",
       "  </tbody>\n",
       "</table>\n",
       "</div>"
      ],
      "text/plain": [
       "                      gameid  participantid  side league   split teamname  \\\n",
       "10750  ESPORTSTMNT02_2552430            100  Blue    LCK  Spring  DWG KIA   \n",
       "10751  ESPORTSTMNT02_2552430            200   Red    LCK  Spring       T1   \n",
       "18922  ESPORTSTMNT02_2578644            100  Blue    LCK  Spring       T1   \n",
       "\n",
       "                      date  gamelength  result  totalgold  golddiffat15  \\\n",
       "10750  2022-01-30 06:56:25        3326       1     100872         448.0   \n",
       "10751  2022-01-30 06:56:25        3326       0      93420        -448.0   \n",
       "18922  2022-02-12 06:05:04        2746       1      90436        -567.0   \n",
       "\n",
       "       towers  \n",
       "10750    10.0  \n",
       "10751     7.0  \n",
       "18922     8.0  "
      ]
     },
     "execution_count": 89,
     "metadata": {},
     "output_type": "execute_result"
    }
   ],
   "source": [
    "lck_spring_team_df[ lck_spring_team_df['totalgold'] >= 90000 ]"
   ]
  },
  {
   "cell_type": "code",
   "execution_count": 54,
   "metadata": {},
   "outputs": [
    {
     "data": {
      "text/plain": [
       "array(['DRX', 'Liiv SANDBOX', 'T1', 'Kwangdong Freecs',\n",
       "       'Nongshim RedForce', 'Hanwha Life Esports', 'KT Rolster',\n",
       "       'DWG KIA', 'Gen.G', 'Fredit BRION'], dtype=object)"
      ]
     },
     "execution_count": 54,
     "metadata": {},
     "output_type": "execute_result"
    }
   ],
   "source": [
    "lck_spring_team_df['teamname'].unique()"
   ]
  },
  {
   "cell_type": "code",
   "execution_count": 92,
   "metadata": {},
   "outputs": [
    {
     "data": {
      "text/html": [
       "<div>\n",
       "<style scoped>\n",
       "    .dataframe tbody tr th:only-of-type {\n",
       "        vertical-align: middle;\n",
       "    }\n",
       "\n",
       "    .dataframe tbody tr th {\n",
       "        vertical-align: top;\n",
       "    }\n",
       "\n",
       "    .dataframe thead th {\n",
       "        text-align: right;\n",
       "    }\n",
       "</style>\n",
       "<table border=\"1\" class=\"dataframe\">\n",
       "  <thead>\n",
       "    <tr style=\"text-align: right;\">\n",
       "      <th></th>\n",
       "      <th>participantid</th>\n",
       "      <th>gamelength</th>\n",
       "      <th>totalgold</th>\n",
       "      <th>golddiffat15</th>\n",
       "      <th>towers</th>\n",
       "    </tr>\n",
       "  </thead>\n",
       "  <tbody>\n",
       "    <tr>\n",
       "      <th>count</th>\n",
       "      <td>424.000000</td>\n",
       "      <td>424.000000</td>\n",
       "      <td>424.000000</td>\n",
       "      <td>424.000000</td>\n",
       "      <td>424.000000</td>\n",
       "    </tr>\n",
       "    <tr>\n",
       "      <th>mean</th>\n",
       "      <td>150.000000</td>\n",
       "      <td>2057.292453</td>\n",
       "      <td>60717.971698</td>\n",
       "      <td>0.000000</td>\n",
       "      <td>6.202830</td>\n",
       "    </tr>\n",
       "    <tr>\n",
       "      <th>std</th>\n",
       "      <td>50.059067</td>\n",
       "      <td>378.859068</td>\n",
       "      <td>11860.644727</td>\n",
       "      <td>2590.450046</td>\n",
       "      <td>3.571809</td>\n",
       "    </tr>\n",
       "    <tr>\n",
       "      <th>min</th>\n",
       "      <td>100.000000</td>\n",
       "      <td>1145.000000</td>\n",
       "      <td>28982.000000</td>\n",
       "      <td>-10037.000000</td>\n",
       "      <td>0.000000</td>\n",
       "    </tr>\n",
       "    <tr>\n",
       "      <th>25%</th>\n",
       "      <td>100.000000</td>\n",
       "      <td>1780.000000</td>\n",
       "      <td>52468.250000</td>\n",
       "      <td>-1474.500000</td>\n",
       "      <td>3.000000</td>\n",
       "    </tr>\n",
       "    <tr>\n",
       "      <th>50%</th>\n",
       "      <td>150.000000</td>\n",
       "      <td>2030.500000</td>\n",
       "      <td>60665.500000</td>\n",
       "      <td>0.000000</td>\n",
       "      <td>7.000000</td>\n",
       "    </tr>\n",
       "    <tr>\n",
       "      <th>75%</th>\n",
       "      <td>200.000000</td>\n",
       "      <td>2316.250000</td>\n",
       "      <td>68100.000000</td>\n",
       "      <td>1474.500000</td>\n",
       "      <td>9.000000</td>\n",
       "    </tr>\n",
       "    <tr>\n",
       "      <th>max</th>\n",
       "      <td>200.000000</td>\n",
       "      <td>3326.000000</td>\n",
       "      <td>100872.000000</td>\n",
       "      <td>10037.000000</td>\n",
       "      <td>11.000000</td>\n",
       "    </tr>\n",
       "  </tbody>\n",
       "</table>\n",
       "</div>"
      ],
      "text/plain": [
       "       participantid   gamelength      totalgold  golddiffat15      towers\n",
       "count     424.000000   424.000000     424.000000    424.000000  424.000000\n",
       "mean      150.000000  2057.292453   60717.971698      0.000000    6.202830\n",
       "std        50.059067   378.859068   11860.644727   2590.450046    3.571809\n",
       "min       100.000000  1145.000000   28982.000000 -10037.000000    0.000000\n",
       "25%       100.000000  1780.000000   52468.250000  -1474.500000    3.000000\n",
       "50%       150.000000  2030.500000   60665.500000      0.000000    7.000000\n",
       "75%       200.000000  2316.250000   68100.000000   1474.500000    9.000000\n",
       "max       200.000000  3326.000000  100872.000000  10037.000000   11.000000"
      ]
     },
     "execution_count": 92,
     "metadata": {},
     "output_type": "execute_result"
    }
   ],
   "source": [
    "lck_spring_team_df.describe()"
   ]
  },
  {
   "cell_type": "markdown",
   "metadata": {},
   "source": [
    "> ### DRX 경기만 확인"
   ]
  },
  {
   "cell_type": "code",
   "execution_count": 42,
   "metadata": {},
   "outputs": [
    {
     "name": "stderr",
     "output_type": "stream",
     "text": [
      "C:\\Users\\Admin\\AppData\\Local\\Temp\\ipykernel_18404\\2011406639.py:4: SettingWithCopyWarning: \n",
      "A value is trying to be set on a copy of a slice from a DataFrame.\n",
      "Try using .loc[row_indexer,col_indexer] = value instead\n",
      "\n",
      "See the caveats in the documentation: https://pandas.pydata.org/pandas-docs/stable/user_guide/indexing.html#returning-a-view-versus-a-copy\n",
      "  lck_spring_drx_df['result'] = np.where( lck_spring_drx_df['result'] == 0 , 'lose', 'win')\n"
     ]
    },
    {
     "data": {
      "text/html": [
       "<div>\n",
       "<style scoped>\n",
       "    .dataframe tbody tr th:only-of-type {\n",
       "        vertical-align: middle;\n",
       "    }\n",
       "\n",
       "    .dataframe tbody tr th {\n",
       "        vertical-align: top;\n",
       "    }\n",
       "\n",
       "    .dataframe thead th {\n",
       "        text-align: right;\n",
       "    }\n",
       "</style>\n",
       "<table border=\"1\" class=\"dataframe\">\n",
       "  <thead>\n",
       "    <tr style=\"text-align: right;\">\n",
       "      <th></th>\n",
       "      <th>gameid</th>\n",
       "      <th>participantid</th>\n",
       "      <th>side</th>\n",
       "      <th>league</th>\n",
       "      <th>split</th>\n",
       "      <th>teamname</th>\n",
       "      <th>date</th>\n",
       "      <th>gamelength</th>\n",
       "      <th>result</th>\n",
       "      <th>totalgold</th>\n",
       "      <th>golddiffat15</th>\n",
       "      <th>towers</th>\n",
       "    </tr>\n",
       "  </thead>\n",
       "  <tbody>\n",
       "    <tr>\n",
       "      <th>1450</th>\n",
       "      <td>ESPORTSTMNT01_2700815</td>\n",
       "      <td>100</td>\n",
       "      <td>Blue</td>\n",
       "      <td>LCK</td>\n",
       "      <td>Spring</td>\n",
       "      <td>DRX</td>\n",
       "      <td>2022-01-12 06:20:03</td>\n",
       "      <td>2195</td>\n",
       "      <td>lose</td>\n",
       "      <td>63747</td>\n",
       "      <td>4757.0</td>\n",
       "      <td>8.0</td>\n",
       "    </tr>\n",
       "    <tr>\n",
       "      <th>1462</th>\n",
       "      <td>ESPORTSTMNT01_2690695</td>\n",
       "      <td>100</td>\n",
       "      <td>Blue</td>\n",
       "      <td>LCK</td>\n",
       "      <td>Spring</td>\n",
       "      <td>DRX</td>\n",
       "      <td>2022-01-12 09:02:13</td>\n",
       "      <td>2070</td>\n",
       "      <td>lose</td>\n",
       "      <td>60674</td>\n",
       "      <td>-1045.0</td>\n",
       "      <td>3.0</td>\n",
       "    </tr>\n",
       "    <tr>\n",
       "      <th>2386</th>\n",
       "      <td>ESPORTSTMNT01_2691507</td>\n",
       "      <td>100</td>\n",
       "      <td>Blue</td>\n",
       "      <td>LCK</td>\n",
       "      <td>Spring</td>\n",
       "      <td>DRX</td>\n",
       "      <td>2022-01-14 07:15:41</td>\n",
       "      <td>1778</td>\n",
       "      <td>lose</td>\n",
       "      <td>45102</td>\n",
       "      <td>-787.0</td>\n",
       "      <td>4.0</td>\n",
       "    </tr>\n",
       "    <tr>\n",
       "      <th>2423</th>\n",
       "      <td>ESPORTSTMNT01_2691515</td>\n",
       "      <td>200</td>\n",
       "      <td>Red</td>\n",
       "      <td>LCK</td>\n",
       "      <td>Spring</td>\n",
       "      <td>DRX</td>\n",
       "      <td>2022-01-14 08:42:06</td>\n",
       "      <td>1556</td>\n",
       "      <td>lose</td>\n",
       "      <td>40047</td>\n",
       "      <td>-6103.0</td>\n",
       "      <td>0.0</td>\n",
       "    </tr>\n",
       "    <tr>\n",
       "      <th>4978</th>\n",
       "      <td>ESPORTSTMNT01_2704285</td>\n",
       "      <td>100</td>\n",
       "      <td>Blue</td>\n",
       "      <td>LCK</td>\n",
       "      <td>Spring</td>\n",
       "      <td>DRX</td>\n",
       "      <td>2022-01-20 06:11:55</td>\n",
       "      <td>1676</td>\n",
       "      <td>lose</td>\n",
       "      <td>46838</td>\n",
       "      <td>-2197.0</td>\n",
       "      <td>1.0</td>\n",
       "    </tr>\n",
       "  </tbody>\n",
       "</table>\n",
       "</div>"
      ],
      "text/plain": [
       "                     gameid  participantid  side league   split teamname  \\\n",
       "1450  ESPORTSTMNT01_2700815            100  Blue    LCK  Spring      DRX   \n",
       "1462  ESPORTSTMNT01_2690695            100  Blue    LCK  Spring      DRX   \n",
       "2386  ESPORTSTMNT01_2691507            100  Blue    LCK  Spring      DRX   \n",
       "2423  ESPORTSTMNT01_2691515            200   Red    LCK  Spring      DRX   \n",
       "4978  ESPORTSTMNT01_2704285            100  Blue    LCK  Spring      DRX   \n",
       "\n",
       "                     date  gamelength result  totalgold  golddiffat15  towers  \n",
       "1450  2022-01-12 06:20:03        2195   lose      63747        4757.0     8.0  \n",
       "1462  2022-01-12 09:02:13        2070   lose      60674       -1045.0     3.0  \n",
       "2386  2022-01-14 07:15:41        1778   lose      45102        -787.0     4.0  \n",
       "2423  2022-01-14 08:42:06        1556   lose      40047       -6103.0     0.0  \n",
       "4978  2022-01-20 06:11:55        1676   lose      46838       -2197.0     1.0  "
      ]
     },
     "execution_count": 42,
     "metadata": {},
     "output_type": "execute_result"
    }
   ],
   "source": [
    "lck_spring_drx_df = lck_spring_df[ (lck_spring_df['teamname'] == 'DRX') & ( (lck_spring_df['participantid'] == 100) \\\n",
    "    | (lck_spring_df['participantid'] == 200 ) ) ]\n",
    "\n",
    "lck_spring_drx_df['result'] = np.where( lck_spring_drx_df['result'] == 0 , 'lose', 'win')\n",
    "\n",
    "lck_spring_drx_df.head()"
   ]
  },
  {
   "cell_type": "code",
   "execution_count": 43,
   "metadata": {},
   "outputs": [
    {
     "data": {
      "text/html": [
       "<div>\n",
       "<style scoped>\n",
       "    .dataframe tbody tr th:only-of-type {\n",
       "        vertical-align: middle;\n",
       "    }\n",
       "\n",
       "    .dataframe tbody tr th {\n",
       "        vertical-align: top;\n",
       "    }\n",
       "\n",
       "    .dataframe thead th {\n",
       "        text-align: right;\n",
       "    }\n",
       "</style>\n",
       "<table border=\"1\" class=\"dataframe\">\n",
       "  <thead>\n",
       "    <tr style=\"text-align: right;\">\n",
       "      <th></th>\n",
       "      <th>participantid</th>\n",
       "      <th>gamelength</th>\n",
       "      <th>totalgold</th>\n",
       "      <th>golddiffat15</th>\n",
       "      <th>towers</th>\n",
       "    </tr>\n",
       "  </thead>\n",
       "  <tbody>\n",
       "    <tr>\n",
       "      <th>count</th>\n",
       "      <td>41.000000</td>\n",
       "      <td>41.000000</td>\n",
       "      <td>41.000000</td>\n",
       "      <td>41.000000</td>\n",
       "      <td>41.000000</td>\n",
       "    </tr>\n",
       "    <tr>\n",
       "      <th>mean</th>\n",
       "      <td>148.780488</td>\n",
       "      <td>2066.317073</td>\n",
       "      <td>60768.268293</td>\n",
       "      <td>20.097561</td>\n",
       "      <td>6.439024</td>\n",
       "    </tr>\n",
       "    <tr>\n",
       "      <th>std</th>\n",
       "      <td>50.606083</td>\n",
       "      <td>380.109355</td>\n",
       "      <td>12588.163567</td>\n",
       "      <td>2302.973337</td>\n",
       "      <td>3.721886</td>\n",
       "    </tr>\n",
       "    <tr>\n",
       "      <th>min</th>\n",
       "      <td>100.000000</td>\n",
       "      <td>1537.000000</td>\n",
       "      <td>39051.000000</td>\n",
       "      <td>-6103.000000</td>\n",
       "      <td>0.000000</td>\n",
       "    </tr>\n",
       "    <tr>\n",
       "      <th>25%</th>\n",
       "      <td>100.000000</td>\n",
       "      <td>1778.000000</td>\n",
       "      <td>53257.000000</td>\n",
       "      <td>-1469.000000</td>\n",
       "      <td>3.000000</td>\n",
       "    </tr>\n",
       "    <tr>\n",
       "      <th>50%</th>\n",
       "      <td>100.000000</td>\n",
       "      <td>1967.000000</td>\n",
       "      <td>60094.000000</td>\n",
       "      <td>-378.000000</td>\n",
       "      <td>8.000000</td>\n",
       "    </tr>\n",
       "    <tr>\n",
       "      <th>75%</th>\n",
       "      <td>200.000000</td>\n",
       "      <td>2367.000000</td>\n",
       "      <td>69709.000000</td>\n",
       "      <td>1079.000000</td>\n",
       "      <td>10.000000</td>\n",
       "    </tr>\n",
       "    <tr>\n",
       "      <th>max</th>\n",
       "      <td>200.000000</td>\n",
       "      <td>2887.000000</td>\n",
       "      <td>87529.000000</td>\n",
       "      <td>4904.000000</td>\n",
       "      <td>11.000000</td>\n",
       "    </tr>\n",
       "  </tbody>\n",
       "</table>\n",
       "</div>"
      ],
      "text/plain": [
       "       participantid   gamelength     totalgold  golddiffat15     towers\n",
       "count      41.000000    41.000000     41.000000     41.000000  41.000000\n",
       "mean      148.780488  2066.317073  60768.268293     20.097561   6.439024\n",
       "std        50.606083   380.109355  12588.163567   2302.973337   3.721886\n",
       "min       100.000000  1537.000000  39051.000000  -6103.000000   0.000000\n",
       "25%       100.000000  1778.000000  53257.000000  -1469.000000   3.000000\n",
       "50%       100.000000  1967.000000  60094.000000   -378.000000   8.000000\n",
       "75%       200.000000  2367.000000  69709.000000   1079.000000  10.000000\n",
       "max       200.000000  2887.000000  87529.000000   4904.000000  11.000000"
      ]
     },
     "execution_count": 43,
     "metadata": {},
     "output_type": "execute_result"
    }
   ],
   "source": [
    "lck_spring_drx_df.describe() #drx 지표통계확인"
   ]
  },
  {
   "cell_type": "code",
   "execution_count": 52,
   "metadata": {},
   "outputs": [
    {
     "data": {
      "text/plain": [
       "60768.26829268293"
      ]
     },
     "execution_count": 52,
     "metadata": {},
     "output_type": "execute_result"
    }
   ],
   "source": [
    "lck_spring_drx_df['totalgold'].mean() #drx 지표통계확인"
   ]
  },
  {
   "cell_type": "code",
   "execution_count": 98,
   "metadata": {},
   "outputs": [
    {
     "data": {
      "text/html": [
       "<div>\n",
       "<style scoped>\n",
       "    .dataframe tbody tr th:only-of-type {\n",
       "        vertical-align: middle;\n",
       "    }\n",
       "\n",
       "    .dataframe tbody tr th {\n",
       "        vertical-align: top;\n",
       "    }\n",
       "\n",
       "    .dataframe thead th {\n",
       "        text-align: right;\n",
       "    }\n",
       "</style>\n",
       "<table border=\"1\" class=\"dataframe\">\n",
       "  <thead>\n",
       "    <tr style=\"text-align: right;\">\n",
       "      <th></th>\n",
       "      <th>towers</th>\n",
       "      <th>gamelength</th>\n",
       "    </tr>\n",
       "    <tr>\n",
       "      <th>teamname</th>\n",
       "      <th></th>\n",
       "      <th></th>\n",
       "    </tr>\n",
       "  </thead>\n",
       "  <tbody>\n",
       "    <tr>\n",
       "      <th>DRX</th>\n",
       "      <td>6.439024</td>\n",
       "      <td>2066.317073</td>\n",
       "    </tr>\n",
       "    <tr>\n",
       "      <th>DWG KIA</th>\n",
       "      <td>7.166667</td>\n",
       "      <td>2143.571429</td>\n",
       "    </tr>\n",
       "    <tr>\n",
       "      <th>Fredit BRION</th>\n",
       "      <td>6.000000</td>\n",
       "      <td>2133.750000</td>\n",
       "    </tr>\n",
       "    <tr>\n",
       "      <th>Gen.G</th>\n",
       "      <td>7.750000</td>\n",
       "      <td>1992.350000</td>\n",
       "    </tr>\n",
       "    <tr>\n",
       "      <th>Hanwha Life Esports</th>\n",
       "      <td>4.465116</td>\n",
       "      <td>2093.116279</td>\n",
       "    </tr>\n",
       "    <tr>\n",
       "      <th>KT Rolster</th>\n",
       "      <td>5.418605</td>\n",
       "      <td>2015.186047</td>\n",
       "    </tr>\n",
       "    <tr>\n",
       "      <th>Kwangdong Freecs</th>\n",
       "      <td>6.571429</td>\n",
       "      <td>2101.309524</td>\n",
       "    </tr>\n",
       "    <tr>\n",
       "      <th>Liiv SANDBOX</th>\n",
       "      <td>4.121951</td>\n",
       "      <td>1906.585366</td>\n",
       "    </tr>\n",
       "    <tr>\n",
       "      <th>Nongshim RedForce</th>\n",
       "      <td>5.466667</td>\n",
       "      <td>2094.955556</td>\n",
       "    </tr>\n",
       "    <tr>\n",
       "      <th>T1</th>\n",
       "      <td>8.720930</td>\n",
       "      <td>2014.162791</td>\n",
       "    </tr>\n",
       "  </tbody>\n",
       "</table>\n",
       "</div>"
      ],
      "text/plain": [
       "                       towers   gamelength\n",
       "teamname                                  \n",
       "DRX                  6.439024  2066.317073\n",
       "DWG KIA              7.166667  2143.571429\n",
       "Fredit BRION         6.000000  2133.750000\n",
       "Gen.G                7.750000  1992.350000\n",
       "Hanwha Life Esports  4.465116  2093.116279\n",
       "KT Rolster           5.418605  2015.186047\n",
       "Kwangdong Freecs     6.571429  2101.309524\n",
       "Liiv SANDBOX         4.121951  1906.585366\n",
       "Nongshim RedForce    5.466667  2094.955556\n",
       "T1                   8.720930  2014.162791"
      ]
     },
     "execution_count": 98,
     "metadata": {},
     "output_type": "execute_result"
    }
   ],
   "source": [
    "# totalgold 평균 지표\n",
    "lck_spring_team_scored = lck_spring_team_df.groupby('teamname')[ ['towers','gamelength'] ].mean()\n",
    "lck_spring_team_scored"
   ]
  },
  {
   "cell_type": "code",
   "execution_count": 107,
   "metadata": {},
   "outputs": [
    {
     "data": {
      "application/vnd.plotly.v1+json": {
       "config": {
        "plotlyServerURL": "https://plot.ly"
       },
       "data": [
        {
         "type": "bar",
         "x": [
          "DRX",
          "DWG KIA",
          "Fredit BRION",
          "Gen.G",
          "Hanwha Life Esports",
          "KT Rolster",
          "Kwangdong Freecs",
          "Liiv SANDBOX",
          "Nongshim RedForce",
          "T1"
         ],
         "y": [
          2066.317073170732,
          2143.5714285714284,
          2133.75,
          1992.35,
          2093.1162790697676,
          2015.1860465116279,
          2101.309523809524,
          1906.5853658536585,
          2094.9555555555557,
          2014.1627906976744
         ]
        }
       ],
       "layout": {
        "template": {
         "data": {
          "bar": [
           {
            "error_x": {
             "color": "#2a3f5f"
            },
            "error_y": {
             "color": "#2a3f5f"
            },
            "marker": {
             "line": {
              "color": "#E5ECF6",
              "width": 0.5
             },
             "pattern": {
              "fillmode": "overlay",
              "size": 10,
              "solidity": 0.2
             }
            },
            "type": "bar"
           }
          ],
          "barpolar": [
           {
            "marker": {
             "line": {
              "color": "#E5ECF6",
              "width": 0.5
             },
             "pattern": {
              "fillmode": "overlay",
              "size": 10,
              "solidity": 0.2
             }
            },
            "type": "barpolar"
           }
          ],
          "carpet": [
           {
            "aaxis": {
             "endlinecolor": "#2a3f5f",
             "gridcolor": "white",
             "linecolor": "white",
             "minorgridcolor": "white",
             "startlinecolor": "#2a3f5f"
            },
            "baxis": {
             "endlinecolor": "#2a3f5f",
             "gridcolor": "white",
             "linecolor": "white",
             "minorgridcolor": "white",
             "startlinecolor": "#2a3f5f"
            },
            "type": "carpet"
           }
          ],
          "choropleth": [
           {
            "colorbar": {
             "outlinewidth": 0,
             "ticks": ""
            },
            "type": "choropleth"
           }
          ],
          "contour": [
           {
            "colorbar": {
             "outlinewidth": 0,
             "ticks": ""
            },
            "colorscale": [
             [
              0,
              "#0d0887"
             ],
             [
              0.1111111111111111,
              "#46039f"
             ],
             [
              0.2222222222222222,
              "#7201a8"
             ],
             [
              0.3333333333333333,
              "#9c179e"
             ],
             [
              0.4444444444444444,
              "#bd3786"
             ],
             [
              0.5555555555555556,
              "#d8576b"
             ],
             [
              0.6666666666666666,
              "#ed7953"
             ],
             [
              0.7777777777777778,
              "#fb9f3a"
             ],
             [
              0.8888888888888888,
              "#fdca26"
             ],
             [
              1,
              "#f0f921"
             ]
            ],
            "type": "contour"
           }
          ],
          "contourcarpet": [
           {
            "colorbar": {
             "outlinewidth": 0,
             "ticks": ""
            },
            "type": "contourcarpet"
           }
          ],
          "heatmap": [
           {
            "colorbar": {
             "outlinewidth": 0,
             "ticks": ""
            },
            "colorscale": [
             [
              0,
              "#0d0887"
             ],
             [
              0.1111111111111111,
              "#46039f"
             ],
             [
              0.2222222222222222,
              "#7201a8"
             ],
             [
              0.3333333333333333,
              "#9c179e"
             ],
             [
              0.4444444444444444,
              "#bd3786"
             ],
             [
              0.5555555555555556,
              "#d8576b"
             ],
             [
              0.6666666666666666,
              "#ed7953"
             ],
             [
              0.7777777777777778,
              "#fb9f3a"
             ],
             [
              0.8888888888888888,
              "#fdca26"
             ],
             [
              1,
              "#f0f921"
             ]
            ],
            "type": "heatmap"
           }
          ],
          "heatmapgl": [
           {
            "colorbar": {
             "outlinewidth": 0,
             "ticks": ""
            },
            "colorscale": [
             [
              0,
              "#0d0887"
             ],
             [
              0.1111111111111111,
              "#46039f"
             ],
             [
              0.2222222222222222,
              "#7201a8"
             ],
             [
              0.3333333333333333,
              "#9c179e"
             ],
             [
              0.4444444444444444,
              "#bd3786"
             ],
             [
              0.5555555555555556,
              "#d8576b"
             ],
             [
              0.6666666666666666,
              "#ed7953"
             ],
             [
              0.7777777777777778,
              "#fb9f3a"
             ],
             [
              0.8888888888888888,
              "#fdca26"
             ],
             [
              1,
              "#f0f921"
             ]
            ],
            "type": "heatmapgl"
           }
          ],
          "histogram": [
           {
            "marker": {
             "pattern": {
              "fillmode": "overlay",
              "size": 10,
              "solidity": 0.2
             }
            },
            "type": "histogram"
           }
          ],
          "histogram2d": [
           {
            "colorbar": {
             "outlinewidth": 0,
             "ticks": ""
            },
            "colorscale": [
             [
              0,
              "#0d0887"
             ],
             [
              0.1111111111111111,
              "#46039f"
             ],
             [
              0.2222222222222222,
              "#7201a8"
             ],
             [
              0.3333333333333333,
              "#9c179e"
             ],
             [
              0.4444444444444444,
              "#bd3786"
             ],
             [
              0.5555555555555556,
              "#d8576b"
             ],
             [
              0.6666666666666666,
              "#ed7953"
             ],
             [
              0.7777777777777778,
              "#fb9f3a"
             ],
             [
              0.8888888888888888,
              "#fdca26"
             ],
             [
              1,
              "#f0f921"
             ]
            ],
            "type": "histogram2d"
           }
          ],
          "histogram2dcontour": [
           {
            "colorbar": {
             "outlinewidth": 0,
             "ticks": ""
            },
            "colorscale": [
             [
              0,
              "#0d0887"
             ],
             [
              0.1111111111111111,
              "#46039f"
             ],
             [
              0.2222222222222222,
              "#7201a8"
             ],
             [
              0.3333333333333333,
              "#9c179e"
             ],
             [
              0.4444444444444444,
              "#bd3786"
             ],
             [
              0.5555555555555556,
              "#d8576b"
             ],
             [
              0.6666666666666666,
              "#ed7953"
             ],
             [
              0.7777777777777778,
              "#fb9f3a"
             ],
             [
              0.8888888888888888,
              "#fdca26"
             ],
             [
              1,
              "#f0f921"
             ]
            ],
            "type": "histogram2dcontour"
           }
          ],
          "mesh3d": [
           {
            "colorbar": {
             "outlinewidth": 0,
             "ticks": ""
            },
            "type": "mesh3d"
           }
          ],
          "parcoords": [
           {
            "line": {
             "colorbar": {
              "outlinewidth": 0,
              "ticks": ""
             }
            },
            "type": "parcoords"
           }
          ],
          "pie": [
           {
            "automargin": true,
            "type": "pie"
           }
          ],
          "scatter": [
           {
            "fillpattern": {
             "fillmode": "overlay",
             "size": 10,
             "solidity": 0.2
            },
            "type": "scatter"
           }
          ],
          "scatter3d": [
           {
            "line": {
             "colorbar": {
              "outlinewidth": 0,
              "ticks": ""
             }
            },
            "marker": {
             "colorbar": {
              "outlinewidth": 0,
              "ticks": ""
             }
            },
            "type": "scatter3d"
           }
          ],
          "scattercarpet": [
           {
            "marker": {
             "colorbar": {
              "outlinewidth": 0,
              "ticks": ""
             }
            },
            "type": "scattercarpet"
           }
          ],
          "scattergeo": [
           {
            "marker": {
             "colorbar": {
              "outlinewidth": 0,
              "ticks": ""
             }
            },
            "type": "scattergeo"
           }
          ],
          "scattergl": [
           {
            "marker": {
             "colorbar": {
              "outlinewidth": 0,
              "ticks": ""
             }
            },
            "type": "scattergl"
           }
          ],
          "scattermapbox": [
           {
            "marker": {
             "colorbar": {
              "outlinewidth": 0,
              "ticks": ""
             }
            },
            "type": "scattermapbox"
           }
          ],
          "scatterpolar": [
           {
            "marker": {
             "colorbar": {
              "outlinewidth": 0,
              "ticks": ""
             }
            },
            "type": "scatterpolar"
           }
          ],
          "scatterpolargl": [
           {
            "marker": {
             "colorbar": {
              "outlinewidth": 0,
              "ticks": ""
             }
            },
            "type": "scatterpolargl"
           }
          ],
          "scatterternary": [
           {
            "marker": {
             "colorbar": {
              "outlinewidth": 0,
              "ticks": ""
             }
            },
            "type": "scatterternary"
           }
          ],
          "surface": [
           {
            "colorbar": {
             "outlinewidth": 0,
             "ticks": ""
            },
            "colorscale": [
             [
              0,
              "#0d0887"
             ],
             [
              0.1111111111111111,
              "#46039f"
             ],
             [
              0.2222222222222222,
              "#7201a8"
             ],
             [
              0.3333333333333333,
              "#9c179e"
             ],
             [
              0.4444444444444444,
              "#bd3786"
             ],
             [
              0.5555555555555556,
              "#d8576b"
             ],
             [
              0.6666666666666666,
              "#ed7953"
             ],
             [
              0.7777777777777778,
              "#fb9f3a"
             ],
             [
              0.8888888888888888,
              "#fdca26"
             ],
             [
              1,
              "#f0f921"
             ]
            ],
            "type": "surface"
           }
          ],
          "table": [
           {
            "cells": {
             "fill": {
              "color": "#EBF0F8"
             },
             "line": {
              "color": "white"
             }
            },
            "header": {
             "fill": {
              "color": "#C8D4E3"
             },
             "line": {
              "color": "white"
             }
            },
            "type": "table"
           }
          ]
         },
         "layout": {
          "annotationdefaults": {
           "arrowcolor": "#2a3f5f",
           "arrowhead": 0,
           "arrowwidth": 1
          },
          "autotypenumbers": "strict",
          "coloraxis": {
           "colorbar": {
            "outlinewidth": 0,
            "ticks": ""
           }
          },
          "colorscale": {
           "diverging": [
            [
             0,
             "#8e0152"
            ],
            [
             0.1,
             "#c51b7d"
            ],
            [
             0.2,
             "#de77ae"
            ],
            [
             0.3,
             "#f1b6da"
            ],
            [
             0.4,
             "#fde0ef"
            ],
            [
             0.5,
             "#f7f7f7"
            ],
            [
             0.6,
             "#e6f5d0"
            ],
            [
             0.7,
             "#b8e186"
            ],
            [
             0.8,
             "#7fbc41"
            ],
            [
             0.9,
             "#4d9221"
            ],
            [
             1,
             "#276419"
            ]
           ],
           "sequential": [
            [
             0,
             "#0d0887"
            ],
            [
             0.1111111111111111,
             "#46039f"
            ],
            [
             0.2222222222222222,
             "#7201a8"
            ],
            [
             0.3333333333333333,
             "#9c179e"
            ],
            [
             0.4444444444444444,
             "#bd3786"
            ],
            [
             0.5555555555555556,
             "#d8576b"
            ],
            [
             0.6666666666666666,
             "#ed7953"
            ],
            [
             0.7777777777777778,
             "#fb9f3a"
            ],
            [
             0.8888888888888888,
             "#fdca26"
            ],
            [
             1,
             "#f0f921"
            ]
           ],
           "sequentialminus": [
            [
             0,
             "#0d0887"
            ],
            [
             0.1111111111111111,
             "#46039f"
            ],
            [
             0.2222222222222222,
             "#7201a8"
            ],
            [
             0.3333333333333333,
             "#9c179e"
            ],
            [
             0.4444444444444444,
             "#bd3786"
            ],
            [
             0.5555555555555556,
             "#d8576b"
            ],
            [
             0.6666666666666666,
             "#ed7953"
            ],
            [
             0.7777777777777778,
             "#fb9f3a"
            ],
            [
             0.8888888888888888,
             "#fdca26"
            ],
            [
             1,
             "#f0f921"
            ]
           ]
          },
          "colorway": [
           "#636efa",
           "#EF553B",
           "#00cc96",
           "#ab63fa",
           "#FFA15A",
           "#19d3f3",
           "#FF6692",
           "#B6E880",
           "#FF97FF",
           "#FECB52"
          ],
          "font": {
           "color": "#2a3f5f"
          },
          "geo": {
           "bgcolor": "white",
           "lakecolor": "white",
           "landcolor": "#E5ECF6",
           "showlakes": true,
           "showland": true,
           "subunitcolor": "white"
          },
          "hoverlabel": {
           "align": "left"
          },
          "hovermode": "closest",
          "mapbox": {
           "style": "light"
          },
          "paper_bgcolor": "white",
          "plot_bgcolor": "#E5ECF6",
          "polar": {
           "angularaxis": {
            "gridcolor": "white",
            "linecolor": "white",
            "ticks": ""
           },
           "bgcolor": "#E5ECF6",
           "radialaxis": {
            "gridcolor": "white",
            "linecolor": "white",
            "ticks": ""
           }
          },
          "scene": {
           "xaxis": {
            "backgroundcolor": "#E5ECF6",
            "gridcolor": "white",
            "gridwidth": 2,
            "linecolor": "white",
            "showbackground": true,
            "ticks": "",
            "zerolinecolor": "white"
           },
           "yaxis": {
            "backgroundcolor": "#E5ECF6",
            "gridcolor": "white",
            "gridwidth": 2,
            "linecolor": "white",
            "showbackground": true,
            "ticks": "",
            "zerolinecolor": "white"
           },
           "zaxis": {
            "backgroundcolor": "#E5ECF6",
            "gridcolor": "white",
            "gridwidth": 2,
            "linecolor": "white",
            "showbackground": true,
            "ticks": "",
            "zerolinecolor": "white"
           }
          },
          "shapedefaults": {
           "line": {
            "color": "#2a3f5f"
           }
          },
          "ternary": {
           "aaxis": {
            "gridcolor": "white",
            "linecolor": "white",
            "ticks": ""
           },
           "baxis": {
            "gridcolor": "white",
            "linecolor": "white",
            "ticks": ""
           },
           "bgcolor": "#E5ECF6",
           "caxis": {
            "gridcolor": "white",
            "linecolor": "white",
            "ticks": ""
           }
          },
          "title": {
           "x": 0.05
          },
          "xaxis": {
           "automargin": true,
           "gridcolor": "white",
           "linecolor": "white",
           "ticks": "",
           "title": {
            "standoff": 15
           },
           "zerolinecolor": "white",
           "zerolinewidth": 2
          },
          "yaxis": {
           "automargin": true,
           "gridcolor": "white",
           "linecolor": "white",
           "ticks": "",
           "title": {
            "standoff": 15
           },
           "zerolinecolor": "white",
           "zerolinewidth": 2
          }
         }
        },
        "yaxis": {
         "range": [
          1900,
          2200
         ]
        }
       }
      }
     },
     "metadata": {},
     "output_type": "display_data"
    }
   ],
   "source": [
    "fig = go.Figure()\n",
    "\n",
    "fig.add_trace(go.Bar(x=lck_spring_team_scored.index , y=lck_spring_team_scored['gamelength']) )\n",
    "fig.update_yaxes(range=[1900,2200])\n",
    "\n",
    "fig.show()"
   ]
  },
  {
   "cell_type": "code",
   "execution_count": 101,
   "metadata": {},
   "outputs": [
    {
     "data": {
      "application/vnd.plotly.v1+json": {
       "config": {
        "plotlyServerURL": "https://plot.ly"
       },
       "data": [
        {
         "type": "bar",
         "x": [
          "DRX",
          "DWG KIA",
          "Fredit BRION",
          "Gen.G",
          "Hanwha Life Esports",
          "KT Rolster",
          "Kwangdong Freecs",
          "Liiv SANDBOX",
          "Nongshim RedForce",
          "T1"
         ],
         "y": [
          6.439024390243903,
          7.166666666666667,
          6,
          7.75,
          4.465116279069767,
          5.4186046511627906,
          6.571428571428571,
          4.121951219512195,
          5.466666666666667,
          8.720930232558139
         ]
        }
       ],
       "layout": {
        "template": {
         "data": {
          "bar": [
           {
            "error_x": {
             "color": "#2a3f5f"
            },
            "error_y": {
             "color": "#2a3f5f"
            },
            "marker": {
             "line": {
              "color": "#E5ECF6",
              "width": 0.5
             },
             "pattern": {
              "fillmode": "overlay",
              "size": 10,
              "solidity": 0.2
             }
            },
            "type": "bar"
           }
          ],
          "barpolar": [
           {
            "marker": {
             "line": {
              "color": "#E5ECF6",
              "width": 0.5
             },
             "pattern": {
              "fillmode": "overlay",
              "size": 10,
              "solidity": 0.2
             }
            },
            "type": "barpolar"
           }
          ],
          "carpet": [
           {
            "aaxis": {
             "endlinecolor": "#2a3f5f",
             "gridcolor": "white",
             "linecolor": "white",
             "minorgridcolor": "white",
             "startlinecolor": "#2a3f5f"
            },
            "baxis": {
             "endlinecolor": "#2a3f5f",
             "gridcolor": "white",
             "linecolor": "white",
             "minorgridcolor": "white",
             "startlinecolor": "#2a3f5f"
            },
            "type": "carpet"
           }
          ],
          "choropleth": [
           {
            "colorbar": {
             "outlinewidth": 0,
             "ticks": ""
            },
            "type": "choropleth"
           }
          ],
          "contour": [
           {
            "colorbar": {
             "outlinewidth": 0,
             "ticks": ""
            },
            "colorscale": [
             [
              0,
              "#0d0887"
             ],
             [
              0.1111111111111111,
              "#46039f"
             ],
             [
              0.2222222222222222,
              "#7201a8"
             ],
             [
              0.3333333333333333,
              "#9c179e"
             ],
             [
              0.4444444444444444,
              "#bd3786"
             ],
             [
              0.5555555555555556,
              "#d8576b"
             ],
             [
              0.6666666666666666,
              "#ed7953"
             ],
             [
              0.7777777777777778,
              "#fb9f3a"
             ],
             [
              0.8888888888888888,
              "#fdca26"
             ],
             [
              1,
              "#f0f921"
             ]
            ],
            "type": "contour"
           }
          ],
          "contourcarpet": [
           {
            "colorbar": {
             "outlinewidth": 0,
             "ticks": ""
            },
            "type": "contourcarpet"
           }
          ],
          "heatmap": [
           {
            "colorbar": {
             "outlinewidth": 0,
             "ticks": ""
            },
            "colorscale": [
             [
              0,
              "#0d0887"
             ],
             [
              0.1111111111111111,
              "#46039f"
             ],
             [
              0.2222222222222222,
              "#7201a8"
             ],
             [
              0.3333333333333333,
              "#9c179e"
             ],
             [
              0.4444444444444444,
              "#bd3786"
             ],
             [
              0.5555555555555556,
              "#d8576b"
             ],
             [
              0.6666666666666666,
              "#ed7953"
             ],
             [
              0.7777777777777778,
              "#fb9f3a"
             ],
             [
              0.8888888888888888,
              "#fdca26"
             ],
             [
              1,
              "#f0f921"
             ]
            ],
            "type": "heatmap"
           }
          ],
          "heatmapgl": [
           {
            "colorbar": {
             "outlinewidth": 0,
             "ticks": ""
            },
            "colorscale": [
             [
              0,
              "#0d0887"
             ],
             [
              0.1111111111111111,
              "#46039f"
             ],
             [
              0.2222222222222222,
              "#7201a8"
             ],
             [
              0.3333333333333333,
              "#9c179e"
             ],
             [
              0.4444444444444444,
              "#bd3786"
             ],
             [
              0.5555555555555556,
              "#d8576b"
             ],
             [
              0.6666666666666666,
              "#ed7953"
             ],
             [
              0.7777777777777778,
              "#fb9f3a"
             ],
             [
              0.8888888888888888,
              "#fdca26"
             ],
             [
              1,
              "#f0f921"
             ]
            ],
            "type": "heatmapgl"
           }
          ],
          "histogram": [
           {
            "marker": {
             "pattern": {
              "fillmode": "overlay",
              "size": 10,
              "solidity": 0.2
             }
            },
            "type": "histogram"
           }
          ],
          "histogram2d": [
           {
            "colorbar": {
             "outlinewidth": 0,
             "ticks": ""
            },
            "colorscale": [
             [
              0,
              "#0d0887"
             ],
             [
              0.1111111111111111,
              "#46039f"
             ],
             [
              0.2222222222222222,
              "#7201a8"
             ],
             [
              0.3333333333333333,
              "#9c179e"
             ],
             [
              0.4444444444444444,
              "#bd3786"
             ],
             [
              0.5555555555555556,
              "#d8576b"
             ],
             [
              0.6666666666666666,
              "#ed7953"
             ],
             [
              0.7777777777777778,
              "#fb9f3a"
             ],
             [
              0.8888888888888888,
              "#fdca26"
             ],
             [
              1,
              "#f0f921"
             ]
            ],
            "type": "histogram2d"
           }
          ],
          "histogram2dcontour": [
           {
            "colorbar": {
             "outlinewidth": 0,
             "ticks": ""
            },
            "colorscale": [
             [
              0,
              "#0d0887"
             ],
             [
              0.1111111111111111,
              "#46039f"
             ],
             [
              0.2222222222222222,
              "#7201a8"
             ],
             [
              0.3333333333333333,
              "#9c179e"
             ],
             [
              0.4444444444444444,
              "#bd3786"
             ],
             [
              0.5555555555555556,
              "#d8576b"
             ],
             [
              0.6666666666666666,
              "#ed7953"
             ],
             [
              0.7777777777777778,
              "#fb9f3a"
             ],
             [
              0.8888888888888888,
              "#fdca26"
             ],
             [
              1,
              "#f0f921"
             ]
            ],
            "type": "histogram2dcontour"
           }
          ],
          "mesh3d": [
           {
            "colorbar": {
             "outlinewidth": 0,
             "ticks": ""
            },
            "type": "mesh3d"
           }
          ],
          "parcoords": [
           {
            "line": {
             "colorbar": {
              "outlinewidth": 0,
              "ticks": ""
             }
            },
            "type": "parcoords"
           }
          ],
          "pie": [
           {
            "automargin": true,
            "type": "pie"
           }
          ],
          "scatter": [
           {
            "fillpattern": {
             "fillmode": "overlay",
             "size": 10,
             "solidity": 0.2
            },
            "type": "scatter"
           }
          ],
          "scatter3d": [
           {
            "line": {
             "colorbar": {
              "outlinewidth": 0,
              "ticks": ""
             }
            },
            "marker": {
             "colorbar": {
              "outlinewidth": 0,
              "ticks": ""
             }
            },
            "type": "scatter3d"
           }
          ],
          "scattercarpet": [
           {
            "marker": {
             "colorbar": {
              "outlinewidth": 0,
              "ticks": ""
             }
            },
            "type": "scattercarpet"
           }
          ],
          "scattergeo": [
           {
            "marker": {
             "colorbar": {
              "outlinewidth": 0,
              "ticks": ""
             }
            },
            "type": "scattergeo"
           }
          ],
          "scattergl": [
           {
            "marker": {
             "colorbar": {
              "outlinewidth": 0,
              "ticks": ""
             }
            },
            "type": "scattergl"
           }
          ],
          "scattermapbox": [
           {
            "marker": {
             "colorbar": {
              "outlinewidth": 0,
              "ticks": ""
             }
            },
            "type": "scattermapbox"
           }
          ],
          "scatterpolar": [
           {
            "marker": {
             "colorbar": {
              "outlinewidth": 0,
              "ticks": ""
             }
            },
            "type": "scatterpolar"
           }
          ],
          "scatterpolargl": [
           {
            "marker": {
             "colorbar": {
              "outlinewidth": 0,
              "ticks": ""
             }
            },
            "type": "scatterpolargl"
           }
          ],
          "scatterternary": [
           {
            "marker": {
             "colorbar": {
              "outlinewidth": 0,
              "ticks": ""
             }
            },
            "type": "scatterternary"
           }
          ],
          "surface": [
           {
            "colorbar": {
             "outlinewidth": 0,
             "ticks": ""
            },
            "colorscale": [
             [
              0,
              "#0d0887"
             ],
             [
              0.1111111111111111,
              "#46039f"
             ],
             [
              0.2222222222222222,
              "#7201a8"
             ],
             [
              0.3333333333333333,
              "#9c179e"
             ],
             [
              0.4444444444444444,
              "#bd3786"
             ],
             [
              0.5555555555555556,
              "#d8576b"
             ],
             [
              0.6666666666666666,
              "#ed7953"
             ],
             [
              0.7777777777777778,
              "#fb9f3a"
             ],
             [
              0.8888888888888888,
              "#fdca26"
             ],
             [
              1,
              "#f0f921"
             ]
            ],
            "type": "surface"
           }
          ],
          "table": [
           {
            "cells": {
             "fill": {
              "color": "#EBF0F8"
             },
             "line": {
              "color": "white"
             }
            },
            "header": {
             "fill": {
              "color": "#C8D4E3"
             },
             "line": {
              "color": "white"
             }
            },
            "type": "table"
           }
          ]
         },
         "layout": {
          "annotationdefaults": {
           "arrowcolor": "#2a3f5f",
           "arrowhead": 0,
           "arrowwidth": 1
          },
          "autotypenumbers": "strict",
          "coloraxis": {
           "colorbar": {
            "outlinewidth": 0,
            "ticks": ""
           }
          },
          "colorscale": {
           "diverging": [
            [
             0,
             "#8e0152"
            ],
            [
             0.1,
             "#c51b7d"
            ],
            [
             0.2,
             "#de77ae"
            ],
            [
             0.3,
             "#f1b6da"
            ],
            [
             0.4,
             "#fde0ef"
            ],
            [
             0.5,
             "#f7f7f7"
            ],
            [
             0.6,
             "#e6f5d0"
            ],
            [
             0.7,
             "#b8e186"
            ],
            [
             0.8,
             "#7fbc41"
            ],
            [
             0.9,
             "#4d9221"
            ],
            [
             1,
             "#276419"
            ]
           ],
           "sequential": [
            [
             0,
             "#0d0887"
            ],
            [
             0.1111111111111111,
             "#46039f"
            ],
            [
             0.2222222222222222,
             "#7201a8"
            ],
            [
             0.3333333333333333,
             "#9c179e"
            ],
            [
             0.4444444444444444,
             "#bd3786"
            ],
            [
             0.5555555555555556,
             "#d8576b"
            ],
            [
             0.6666666666666666,
             "#ed7953"
            ],
            [
             0.7777777777777778,
             "#fb9f3a"
            ],
            [
             0.8888888888888888,
             "#fdca26"
            ],
            [
             1,
             "#f0f921"
            ]
           ],
           "sequentialminus": [
            [
             0,
             "#0d0887"
            ],
            [
             0.1111111111111111,
             "#46039f"
            ],
            [
             0.2222222222222222,
             "#7201a8"
            ],
            [
             0.3333333333333333,
             "#9c179e"
            ],
            [
             0.4444444444444444,
             "#bd3786"
            ],
            [
             0.5555555555555556,
             "#d8576b"
            ],
            [
             0.6666666666666666,
             "#ed7953"
            ],
            [
             0.7777777777777778,
             "#fb9f3a"
            ],
            [
             0.8888888888888888,
             "#fdca26"
            ],
            [
             1,
             "#f0f921"
            ]
           ]
          },
          "colorway": [
           "#636efa",
           "#EF553B",
           "#00cc96",
           "#ab63fa",
           "#FFA15A",
           "#19d3f3",
           "#FF6692",
           "#B6E880",
           "#FF97FF",
           "#FECB52"
          ],
          "font": {
           "color": "#2a3f5f"
          },
          "geo": {
           "bgcolor": "white",
           "lakecolor": "white",
           "landcolor": "#E5ECF6",
           "showlakes": true,
           "showland": true,
           "subunitcolor": "white"
          },
          "hoverlabel": {
           "align": "left"
          },
          "hovermode": "closest",
          "mapbox": {
           "style": "light"
          },
          "paper_bgcolor": "white",
          "plot_bgcolor": "#E5ECF6",
          "polar": {
           "angularaxis": {
            "gridcolor": "white",
            "linecolor": "white",
            "ticks": ""
           },
           "bgcolor": "#E5ECF6",
           "radialaxis": {
            "gridcolor": "white",
            "linecolor": "white",
            "ticks": ""
           }
          },
          "scene": {
           "xaxis": {
            "backgroundcolor": "#E5ECF6",
            "gridcolor": "white",
            "gridwidth": 2,
            "linecolor": "white",
            "showbackground": true,
            "ticks": "",
            "zerolinecolor": "white"
           },
           "yaxis": {
            "backgroundcolor": "#E5ECF6",
            "gridcolor": "white",
            "gridwidth": 2,
            "linecolor": "white",
            "showbackground": true,
            "ticks": "",
            "zerolinecolor": "white"
           },
           "zaxis": {
            "backgroundcolor": "#E5ECF6",
            "gridcolor": "white",
            "gridwidth": 2,
            "linecolor": "white",
            "showbackground": true,
            "ticks": "",
            "zerolinecolor": "white"
           }
          },
          "shapedefaults": {
           "line": {
            "color": "#2a3f5f"
           }
          },
          "ternary": {
           "aaxis": {
            "gridcolor": "white",
            "linecolor": "white",
            "ticks": ""
           },
           "baxis": {
            "gridcolor": "white",
            "linecolor": "white",
            "ticks": ""
           },
           "bgcolor": "#E5ECF6",
           "caxis": {
            "gridcolor": "white",
            "linecolor": "white",
            "ticks": ""
           }
          },
          "title": {
           "x": 0.05
          },
          "xaxis": {
           "automargin": true,
           "gridcolor": "white",
           "linecolor": "white",
           "ticks": "",
           "title": {
            "standoff": 15
           },
           "zerolinecolor": "white",
           "zerolinewidth": 2
          },
          "yaxis": {
           "automargin": true,
           "gridcolor": "white",
           "linecolor": "white",
           "ticks": "",
           "title": {
            "standoff": 15
           },
           "zerolinecolor": "white",
           "zerolinewidth": 2
          }
         }
        },
        "yaxis": {
         "range": [
          3,
          9
         ]
        }
       }
      }
     },
     "metadata": {},
     "output_type": "display_data"
    }
   ],
   "source": [
    "fig = go.Figure()\n",
    "\n",
    "fig.add_trace(go.Bar(x=lck_spring_team_scored.index , y=lck_spring_team_scored['towers']) )\n",
    "fig.update_yaxes(range=[3, 9])\n",
    "\n",
    "fig.show()"
   ]
  },
  {
   "cell_type": "code",
   "execution_count": 84,
   "metadata": {},
   "outputs": [
    {
     "data": {
      "application/vnd.plotly.v1+json": {
       "config": {
        "plotlyServerURL": "https://plot.ly"
       },
       "data": [
        {
         "type": "bar",
         "x": [
          "DRX",
          "DWG KIA",
          "Fredit BRION",
          "Gen.G",
          "Hanwha Life Esports",
          "KT Rolster",
          "Kwangdong Freecs",
          "Liiv SANDBOX",
          "Nongshim RedForce",
          "T1"
         ],
         "y": [
          60768.26829268293,
          63570.26190476191,
          62632.36363636364,
          62042.275,
          59222.232558139534,
          59835.441860465115,
          60822.28571428572,
          53638.829268292684,
          60402.044444444444,
          64050.11627906977
         ]
        }
       ],
       "layout": {
        "template": {
         "data": {
          "bar": [
           {
            "error_x": {
             "color": "#2a3f5f"
            },
            "error_y": {
             "color": "#2a3f5f"
            },
            "marker": {
             "line": {
              "color": "#E5ECF6",
              "width": 0.5
             },
             "pattern": {
              "fillmode": "overlay",
              "size": 10,
              "solidity": 0.2
             }
            },
            "type": "bar"
           }
          ],
          "barpolar": [
           {
            "marker": {
             "line": {
              "color": "#E5ECF6",
              "width": 0.5
             },
             "pattern": {
              "fillmode": "overlay",
              "size": 10,
              "solidity": 0.2
             }
            },
            "type": "barpolar"
           }
          ],
          "carpet": [
           {
            "aaxis": {
             "endlinecolor": "#2a3f5f",
             "gridcolor": "white",
             "linecolor": "white",
             "minorgridcolor": "white",
             "startlinecolor": "#2a3f5f"
            },
            "baxis": {
             "endlinecolor": "#2a3f5f",
             "gridcolor": "white",
             "linecolor": "white",
             "minorgridcolor": "white",
             "startlinecolor": "#2a3f5f"
            },
            "type": "carpet"
           }
          ],
          "choropleth": [
           {
            "colorbar": {
             "outlinewidth": 0,
             "ticks": ""
            },
            "type": "choropleth"
           }
          ],
          "contour": [
           {
            "colorbar": {
             "outlinewidth": 0,
             "ticks": ""
            },
            "colorscale": [
             [
              0,
              "#0d0887"
             ],
             [
              0.1111111111111111,
              "#46039f"
             ],
             [
              0.2222222222222222,
              "#7201a8"
             ],
             [
              0.3333333333333333,
              "#9c179e"
             ],
             [
              0.4444444444444444,
              "#bd3786"
             ],
             [
              0.5555555555555556,
              "#d8576b"
             ],
             [
              0.6666666666666666,
              "#ed7953"
             ],
             [
              0.7777777777777778,
              "#fb9f3a"
             ],
             [
              0.8888888888888888,
              "#fdca26"
             ],
             [
              1,
              "#f0f921"
             ]
            ],
            "type": "contour"
           }
          ],
          "contourcarpet": [
           {
            "colorbar": {
             "outlinewidth": 0,
             "ticks": ""
            },
            "type": "contourcarpet"
           }
          ],
          "heatmap": [
           {
            "colorbar": {
             "outlinewidth": 0,
             "ticks": ""
            },
            "colorscale": [
             [
              0,
              "#0d0887"
             ],
             [
              0.1111111111111111,
              "#46039f"
             ],
             [
              0.2222222222222222,
              "#7201a8"
             ],
             [
              0.3333333333333333,
              "#9c179e"
             ],
             [
              0.4444444444444444,
              "#bd3786"
             ],
             [
              0.5555555555555556,
              "#d8576b"
             ],
             [
              0.6666666666666666,
              "#ed7953"
             ],
             [
              0.7777777777777778,
              "#fb9f3a"
             ],
             [
              0.8888888888888888,
              "#fdca26"
             ],
             [
              1,
              "#f0f921"
             ]
            ],
            "type": "heatmap"
           }
          ],
          "heatmapgl": [
           {
            "colorbar": {
             "outlinewidth": 0,
             "ticks": ""
            },
            "colorscale": [
             [
              0,
              "#0d0887"
             ],
             [
              0.1111111111111111,
              "#46039f"
             ],
             [
              0.2222222222222222,
              "#7201a8"
             ],
             [
              0.3333333333333333,
              "#9c179e"
             ],
             [
              0.4444444444444444,
              "#bd3786"
             ],
             [
              0.5555555555555556,
              "#d8576b"
             ],
             [
              0.6666666666666666,
              "#ed7953"
             ],
             [
              0.7777777777777778,
              "#fb9f3a"
             ],
             [
              0.8888888888888888,
              "#fdca26"
             ],
             [
              1,
              "#f0f921"
             ]
            ],
            "type": "heatmapgl"
           }
          ],
          "histogram": [
           {
            "marker": {
             "pattern": {
              "fillmode": "overlay",
              "size": 10,
              "solidity": 0.2
             }
            },
            "type": "histogram"
           }
          ],
          "histogram2d": [
           {
            "colorbar": {
             "outlinewidth": 0,
             "ticks": ""
            },
            "colorscale": [
             [
              0,
              "#0d0887"
             ],
             [
              0.1111111111111111,
              "#46039f"
             ],
             [
              0.2222222222222222,
              "#7201a8"
             ],
             [
              0.3333333333333333,
              "#9c179e"
             ],
             [
              0.4444444444444444,
              "#bd3786"
             ],
             [
              0.5555555555555556,
              "#d8576b"
             ],
             [
              0.6666666666666666,
              "#ed7953"
             ],
             [
              0.7777777777777778,
              "#fb9f3a"
             ],
             [
              0.8888888888888888,
              "#fdca26"
             ],
             [
              1,
              "#f0f921"
             ]
            ],
            "type": "histogram2d"
           }
          ],
          "histogram2dcontour": [
           {
            "colorbar": {
             "outlinewidth": 0,
             "ticks": ""
            },
            "colorscale": [
             [
              0,
              "#0d0887"
             ],
             [
              0.1111111111111111,
              "#46039f"
             ],
             [
              0.2222222222222222,
              "#7201a8"
             ],
             [
              0.3333333333333333,
              "#9c179e"
             ],
             [
              0.4444444444444444,
              "#bd3786"
             ],
             [
              0.5555555555555556,
              "#d8576b"
             ],
             [
              0.6666666666666666,
              "#ed7953"
             ],
             [
              0.7777777777777778,
              "#fb9f3a"
             ],
             [
              0.8888888888888888,
              "#fdca26"
             ],
             [
              1,
              "#f0f921"
             ]
            ],
            "type": "histogram2dcontour"
           }
          ],
          "mesh3d": [
           {
            "colorbar": {
             "outlinewidth": 0,
             "ticks": ""
            },
            "type": "mesh3d"
           }
          ],
          "parcoords": [
           {
            "line": {
             "colorbar": {
              "outlinewidth": 0,
              "ticks": ""
             }
            },
            "type": "parcoords"
           }
          ],
          "pie": [
           {
            "automargin": true,
            "type": "pie"
           }
          ],
          "scatter": [
           {
            "fillpattern": {
             "fillmode": "overlay",
             "size": 10,
             "solidity": 0.2
            },
            "type": "scatter"
           }
          ],
          "scatter3d": [
           {
            "line": {
             "colorbar": {
              "outlinewidth": 0,
              "ticks": ""
             }
            },
            "marker": {
             "colorbar": {
              "outlinewidth": 0,
              "ticks": ""
             }
            },
            "type": "scatter3d"
           }
          ],
          "scattercarpet": [
           {
            "marker": {
             "colorbar": {
              "outlinewidth": 0,
              "ticks": ""
             }
            },
            "type": "scattercarpet"
           }
          ],
          "scattergeo": [
           {
            "marker": {
             "colorbar": {
              "outlinewidth": 0,
              "ticks": ""
             }
            },
            "type": "scattergeo"
           }
          ],
          "scattergl": [
           {
            "marker": {
             "colorbar": {
              "outlinewidth": 0,
              "ticks": ""
             }
            },
            "type": "scattergl"
           }
          ],
          "scattermapbox": [
           {
            "marker": {
             "colorbar": {
              "outlinewidth": 0,
              "ticks": ""
             }
            },
            "type": "scattermapbox"
           }
          ],
          "scatterpolar": [
           {
            "marker": {
             "colorbar": {
              "outlinewidth": 0,
              "ticks": ""
             }
            },
            "type": "scatterpolar"
           }
          ],
          "scatterpolargl": [
           {
            "marker": {
             "colorbar": {
              "outlinewidth": 0,
              "ticks": ""
             }
            },
            "type": "scatterpolargl"
           }
          ],
          "scatterternary": [
           {
            "marker": {
             "colorbar": {
              "outlinewidth": 0,
              "ticks": ""
             }
            },
            "type": "scatterternary"
           }
          ],
          "surface": [
           {
            "colorbar": {
             "outlinewidth": 0,
             "ticks": ""
            },
            "colorscale": [
             [
              0,
              "#0d0887"
             ],
             [
              0.1111111111111111,
              "#46039f"
             ],
             [
              0.2222222222222222,
              "#7201a8"
             ],
             [
              0.3333333333333333,
              "#9c179e"
             ],
             [
              0.4444444444444444,
              "#bd3786"
             ],
             [
              0.5555555555555556,
              "#d8576b"
             ],
             [
              0.6666666666666666,
              "#ed7953"
             ],
             [
              0.7777777777777778,
              "#fb9f3a"
             ],
             [
              0.8888888888888888,
              "#fdca26"
             ],
             [
              1,
              "#f0f921"
             ]
            ],
            "type": "surface"
           }
          ],
          "table": [
           {
            "cells": {
             "fill": {
              "color": "#EBF0F8"
             },
             "line": {
              "color": "white"
             }
            },
            "header": {
             "fill": {
              "color": "#C8D4E3"
             },
             "line": {
              "color": "white"
             }
            },
            "type": "table"
           }
          ]
         },
         "layout": {
          "annotationdefaults": {
           "arrowcolor": "#2a3f5f",
           "arrowhead": 0,
           "arrowwidth": 1
          },
          "autotypenumbers": "strict",
          "coloraxis": {
           "colorbar": {
            "outlinewidth": 0,
            "ticks": ""
           }
          },
          "colorscale": {
           "diverging": [
            [
             0,
             "#8e0152"
            ],
            [
             0.1,
             "#c51b7d"
            ],
            [
             0.2,
             "#de77ae"
            ],
            [
             0.3,
             "#f1b6da"
            ],
            [
             0.4,
             "#fde0ef"
            ],
            [
             0.5,
             "#f7f7f7"
            ],
            [
             0.6,
             "#e6f5d0"
            ],
            [
             0.7,
             "#b8e186"
            ],
            [
             0.8,
             "#7fbc41"
            ],
            [
             0.9,
             "#4d9221"
            ],
            [
             1,
             "#276419"
            ]
           ],
           "sequential": [
            [
             0,
             "#0d0887"
            ],
            [
             0.1111111111111111,
             "#46039f"
            ],
            [
             0.2222222222222222,
             "#7201a8"
            ],
            [
             0.3333333333333333,
             "#9c179e"
            ],
            [
             0.4444444444444444,
             "#bd3786"
            ],
            [
             0.5555555555555556,
             "#d8576b"
            ],
            [
             0.6666666666666666,
             "#ed7953"
            ],
            [
             0.7777777777777778,
             "#fb9f3a"
            ],
            [
             0.8888888888888888,
             "#fdca26"
            ],
            [
             1,
             "#f0f921"
            ]
           ],
           "sequentialminus": [
            [
             0,
             "#0d0887"
            ],
            [
             0.1111111111111111,
             "#46039f"
            ],
            [
             0.2222222222222222,
             "#7201a8"
            ],
            [
             0.3333333333333333,
             "#9c179e"
            ],
            [
             0.4444444444444444,
             "#bd3786"
            ],
            [
             0.5555555555555556,
             "#d8576b"
            ],
            [
             0.6666666666666666,
             "#ed7953"
            ],
            [
             0.7777777777777778,
             "#fb9f3a"
            ],
            [
             0.8888888888888888,
             "#fdca26"
            ],
            [
             1,
             "#f0f921"
            ]
           ]
          },
          "colorway": [
           "#636efa",
           "#EF553B",
           "#00cc96",
           "#ab63fa",
           "#FFA15A",
           "#19d3f3",
           "#FF6692",
           "#B6E880",
           "#FF97FF",
           "#FECB52"
          ],
          "font": {
           "color": "#2a3f5f"
          },
          "geo": {
           "bgcolor": "white",
           "lakecolor": "white",
           "landcolor": "#E5ECF6",
           "showlakes": true,
           "showland": true,
           "subunitcolor": "white"
          },
          "hoverlabel": {
           "align": "left"
          },
          "hovermode": "closest",
          "mapbox": {
           "style": "light"
          },
          "paper_bgcolor": "white",
          "plot_bgcolor": "#E5ECF6",
          "polar": {
           "angularaxis": {
            "gridcolor": "white",
            "linecolor": "white",
            "ticks": ""
           },
           "bgcolor": "#E5ECF6",
           "radialaxis": {
            "gridcolor": "white",
            "linecolor": "white",
            "ticks": ""
           }
          },
          "scene": {
           "xaxis": {
            "backgroundcolor": "#E5ECF6",
            "gridcolor": "white",
            "gridwidth": 2,
            "linecolor": "white",
            "showbackground": true,
            "ticks": "",
            "zerolinecolor": "white"
           },
           "yaxis": {
            "backgroundcolor": "#E5ECF6",
            "gridcolor": "white",
            "gridwidth": 2,
            "linecolor": "white",
            "showbackground": true,
            "ticks": "",
            "zerolinecolor": "white"
           },
           "zaxis": {
            "backgroundcolor": "#E5ECF6",
            "gridcolor": "white",
            "gridwidth": 2,
            "linecolor": "white",
            "showbackground": true,
            "ticks": "",
            "zerolinecolor": "white"
           }
          },
          "shapedefaults": {
           "line": {
            "color": "#2a3f5f"
           }
          },
          "ternary": {
           "aaxis": {
            "gridcolor": "white",
            "linecolor": "white",
            "ticks": ""
           },
           "baxis": {
            "gridcolor": "white",
            "linecolor": "white",
            "ticks": ""
           },
           "bgcolor": "#E5ECF6",
           "caxis": {
            "gridcolor": "white",
            "linecolor": "white",
            "ticks": ""
           }
          },
          "title": {
           "x": 0.05
          },
          "xaxis": {
           "automargin": true,
           "gridcolor": "white",
           "linecolor": "white",
           "ticks": "",
           "title": {
            "standoff": 15
           },
           "zerolinecolor": "white",
           "zerolinewidth": 2
          },
          "yaxis": {
           "automargin": true,
           "gridcolor": "white",
           "linecolor": "white",
           "ticks": "",
           "title": {
            "standoff": 15
           },
           "zerolinecolor": "white",
           "zerolinewidth": 2
          }
         }
        },
        "yaxis": {
         "range": [
          58000,
          65000
         ]
        }
       }
      }
     },
     "metadata": {},
     "output_type": "display_data"
    }
   ],
   "source": [
    "fig = go.Figure()\n",
    "\n",
    "fig.add_trace(go.Bar(x=lck_spring_team_total_gold.index , y=lck_spring_team_total_gold.values) )\n",
    "fig.update_yaxes(range=[58000, 65000])\n",
    "\n",
    "fig.show()"
   ]
  },
  {
   "cell_type": "code",
   "execution_count": 74,
   "metadata": {},
   "outputs": [
    {
     "data": {
      "text/plain": [
       "teamname\n",
       "DRX                      20.097561\n",
       "DWG KIA                 722.666667\n",
       "Fredit BRION           -586.863636\n",
       "Gen.G                   619.775000\n",
       "Hanwha Life Esports    -519.813953\n",
       "KT Rolster             -221.209302\n",
       "Kwangdong Freecs       -221.333333\n",
       "Liiv SANDBOX          -1731.609756\n",
       "Nongshim RedForce        11.177778\n",
       "T1                     1895.534884\n",
       "Name: golddiffat15, dtype: float64"
      ]
     },
     "execution_count": 74,
     "metadata": {},
     "output_type": "execute_result"
    }
   ],
   "source": [
    "# 15분 gold차이 평균 지표\n",
    "lck_spring_team_golddiff_mean = lck_spring_team_df.groupby('teamname')['golddiffat15'].mean()\n",
    "lck_spring_team_golddiff_mean"
   ]
  },
  {
   "cell_type": "code",
   "execution_count": 75,
   "metadata": {},
   "outputs": [
    {
     "data": {
      "application/vnd.plotly.v1+json": {
       "config": {
        "plotlyServerURL": "https://plot.ly"
       },
       "data": [
        {
         "type": "bar",
         "x": [
          "DRX",
          "DWG KIA",
          "Fredit BRION",
          "Gen.G",
          "Hanwha Life Esports",
          "KT Rolster",
          "Kwangdong Freecs",
          "Liiv SANDBOX",
          "Nongshim RedForce",
          "T1"
         ],
         "y": [
          20.097560975609756,
          722.6666666666666,
          -586.8636363636364,
          619.775,
          -519.8139534883721,
          -221.2093023255814,
          -221.33333333333334,
          -1731.6097560975609,
          11.177777777777777,
          1895.5348837209303
         ]
        }
       ],
       "layout": {
        "template": {
         "data": {
          "bar": [
           {
            "error_x": {
             "color": "#2a3f5f"
            },
            "error_y": {
             "color": "#2a3f5f"
            },
            "marker": {
             "line": {
              "color": "#E5ECF6",
              "width": 0.5
             },
             "pattern": {
              "fillmode": "overlay",
              "size": 10,
              "solidity": 0.2
             }
            },
            "type": "bar"
           }
          ],
          "barpolar": [
           {
            "marker": {
             "line": {
              "color": "#E5ECF6",
              "width": 0.5
             },
             "pattern": {
              "fillmode": "overlay",
              "size": 10,
              "solidity": 0.2
             }
            },
            "type": "barpolar"
           }
          ],
          "carpet": [
           {
            "aaxis": {
             "endlinecolor": "#2a3f5f",
             "gridcolor": "white",
             "linecolor": "white",
             "minorgridcolor": "white",
             "startlinecolor": "#2a3f5f"
            },
            "baxis": {
             "endlinecolor": "#2a3f5f",
             "gridcolor": "white",
             "linecolor": "white",
             "minorgridcolor": "white",
             "startlinecolor": "#2a3f5f"
            },
            "type": "carpet"
           }
          ],
          "choropleth": [
           {
            "colorbar": {
             "outlinewidth": 0,
             "ticks": ""
            },
            "type": "choropleth"
           }
          ],
          "contour": [
           {
            "colorbar": {
             "outlinewidth": 0,
             "ticks": ""
            },
            "colorscale": [
             [
              0,
              "#0d0887"
             ],
             [
              0.1111111111111111,
              "#46039f"
             ],
             [
              0.2222222222222222,
              "#7201a8"
             ],
             [
              0.3333333333333333,
              "#9c179e"
             ],
             [
              0.4444444444444444,
              "#bd3786"
             ],
             [
              0.5555555555555556,
              "#d8576b"
             ],
             [
              0.6666666666666666,
              "#ed7953"
             ],
             [
              0.7777777777777778,
              "#fb9f3a"
             ],
             [
              0.8888888888888888,
              "#fdca26"
             ],
             [
              1,
              "#f0f921"
             ]
            ],
            "type": "contour"
           }
          ],
          "contourcarpet": [
           {
            "colorbar": {
             "outlinewidth": 0,
             "ticks": ""
            },
            "type": "contourcarpet"
           }
          ],
          "heatmap": [
           {
            "colorbar": {
             "outlinewidth": 0,
             "ticks": ""
            },
            "colorscale": [
             [
              0,
              "#0d0887"
             ],
             [
              0.1111111111111111,
              "#46039f"
             ],
             [
              0.2222222222222222,
              "#7201a8"
             ],
             [
              0.3333333333333333,
              "#9c179e"
             ],
             [
              0.4444444444444444,
              "#bd3786"
             ],
             [
              0.5555555555555556,
              "#d8576b"
             ],
             [
              0.6666666666666666,
              "#ed7953"
             ],
             [
              0.7777777777777778,
              "#fb9f3a"
             ],
             [
              0.8888888888888888,
              "#fdca26"
             ],
             [
              1,
              "#f0f921"
             ]
            ],
            "type": "heatmap"
           }
          ],
          "heatmapgl": [
           {
            "colorbar": {
             "outlinewidth": 0,
             "ticks": ""
            },
            "colorscale": [
             [
              0,
              "#0d0887"
             ],
             [
              0.1111111111111111,
              "#46039f"
             ],
             [
              0.2222222222222222,
              "#7201a8"
             ],
             [
              0.3333333333333333,
              "#9c179e"
             ],
             [
              0.4444444444444444,
              "#bd3786"
             ],
             [
              0.5555555555555556,
              "#d8576b"
             ],
             [
              0.6666666666666666,
              "#ed7953"
             ],
             [
              0.7777777777777778,
              "#fb9f3a"
             ],
             [
              0.8888888888888888,
              "#fdca26"
             ],
             [
              1,
              "#f0f921"
             ]
            ],
            "type": "heatmapgl"
           }
          ],
          "histogram": [
           {
            "marker": {
             "pattern": {
              "fillmode": "overlay",
              "size": 10,
              "solidity": 0.2
             }
            },
            "type": "histogram"
           }
          ],
          "histogram2d": [
           {
            "colorbar": {
             "outlinewidth": 0,
             "ticks": ""
            },
            "colorscale": [
             [
              0,
              "#0d0887"
             ],
             [
              0.1111111111111111,
              "#46039f"
             ],
             [
              0.2222222222222222,
              "#7201a8"
             ],
             [
              0.3333333333333333,
              "#9c179e"
             ],
             [
              0.4444444444444444,
              "#bd3786"
             ],
             [
              0.5555555555555556,
              "#d8576b"
             ],
             [
              0.6666666666666666,
              "#ed7953"
             ],
             [
              0.7777777777777778,
              "#fb9f3a"
             ],
             [
              0.8888888888888888,
              "#fdca26"
             ],
             [
              1,
              "#f0f921"
             ]
            ],
            "type": "histogram2d"
           }
          ],
          "histogram2dcontour": [
           {
            "colorbar": {
             "outlinewidth": 0,
             "ticks": ""
            },
            "colorscale": [
             [
              0,
              "#0d0887"
             ],
             [
              0.1111111111111111,
              "#46039f"
             ],
             [
              0.2222222222222222,
              "#7201a8"
             ],
             [
              0.3333333333333333,
              "#9c179e"
             ],
             [
              0.4444444444444444,
              "#bd3786"
             ],
             [
              0.5555555555555556,
              "#d8576b"
             ],
             [
              0.6666666666666666,
              "#ed7953"
             ],
             [
              0.7777777777777778,
              "#fb9f3a"
             ],
             [
              0.8888888888888888,
              "#fdca26"
             ],
             [
              1,
              "#f0f921"
             ]
            ],
            "type": "histogram2dcontour"
           }
          ],
          "mesh3d": [
           {
            "colorbar": {
             "outlinewidth": 0,
             "ticks": ""
            },
            "type": "mesh3d"
           }
          ],
          "parcoords": [
           {
            "line": {
             "colorbar": {
              "outlinewidth": 0,
              "ticks": ""
             }
            },
            "type": "parcoords"
           }
          ],
          "pie": [
           {
            "automargin": true,
            "type": "pie"
           }
          ],
          "scatter": [
           {
            "fillpattern": {
             "fillmode": "overlay",
             "size": 10,
             "solidity": 0.2
            },
            "type": "scatter"
           }
          ],
          "scatter3d": [
           {
            "line": {
             "colorbar": {
              "outlinewidth": 0,
              "ticks": ""
             }
            },
            "marker": {
             "colorbar": {
              "outlinewidth": 0,
              "ticks": ""
             }
            },
            "type": "scatter3d"
           }
          ],
          "scattercarpet": [
           {
            "marker": {
             "colorbar": {
              "outlinewidth": 0,
              "ticks": ""
             }
            },
            "type": "scattercarpet"
           }
          ],
          "scattergeo": [
           {
            "marker": {
             "colorbar": {
              "outlinewidth": 0,
              "ticks": ""
             }
            },
            "type": "scattergeo"
           }
          ],
          "scattergl": [
           {
            "marker": {
             "colorbar": {
              "outlinewidth": 0,
              "ticks": ""
             }
            },
            "type": "scattergl"
           }
          ],
          "scattermapbox": [
           {
            "marker": {
             "colorbar": {
              "outlinewidth": 0,
              "ticks": ""
             }
            },
            "type": "scattermapbox"
           }
          ],
          "scatterpolar": [
           {
            "marker": {
             "colorbar": {
              "outlinewidth": 0,
              "ticks": ""
             }
            },
            "type": "scatterpolar"
           }
          ],
          "scatterpolargl": [
           {
            "marker": {
             "colorbar": {
              "outlinewidth": 0,
              "ticks": ""
             }
            },
            "type": "scatterpolargl"
           }
          ],
          "scatterternary": [
           {
            "marker": {
             "colorbar": {
              "outlinewidth": 0,
              "ticks": ""
             }
            },
            "type": "scatterternary"
           }
          ],
          "surface": [
           {
            "colorbar": {
             "outlinewidth": 0,
             "ticks": ""
            },
            "colorscale": [
             [
              0,
              "#0d0887"
             ],
             [
              0.1111111111111111,
              "#46039f"
             ],
             [
              0.2222222222222222,
              "#7201a8"
             ],
             [
              0.3333333333333333,
              "#9c179e"
             ],
             [
              0.4444444444444444,
              "#bd3786"
             ],
             [
              0.5555555555555556,
              "#d8576b"
             ],
             [
              0.6666666666666666,
              "#ed7953"
             ],
             [
              0.7777777777777778,
              "#fb9f3a"
             ],
             [
              0.8888888888888888,
              "#fdca26"
             ],
             [
              1,
              "#f0f921"
             ]
            ],
            "type": "surface"
           }
          ],
          "table": [
           {
            "cells": {
             "fill": {
              "color": "#EBF0F8"
             },
             "line": {
              "color": "white"
             }
            },
            "header": {
             "fill": {
              "color": "#C8D4E3"
             },
             "line": {
              "color": "white"
             }
            },
            "type": "table"
           }
          ]
         },
         "layout": {
          "annotationdefaults": {
           "arrowcolor": "#2a3f5f",
           "arrowhead": 0,
           "arrowwidth": 1
          },
          "autotypenumbers": "strict",
          "coloraxis": {
           "colorbar": {
            "outlinewidth": 0,
            "ticks": ""
           }
          },
          "colorscale": {
           "diverging": [
            [
             0,
             "#8e0152"
            ],
            [
             0.1,
             "#c51b7d"
            ],
            [
             0.2,
             "#de77ae"
            ],
            [
             0.3,
             "#f1b6da"
            ],
            [
             0.4,
             "#fde0ef"
            ],
            [
             0.5,
             "#f7f7f7"
            ],
            [
             0.6,
             "#e6f5d0"
            ],
            [
             0.7,
             "#b8e186"
            ],
            [
             0.8,
             "#7fbc41"
            ],
            [
             0.9,
             "#4d9221"
            ],
            [
             1,
             "#276419"
            ]
           ],
           "sequential": [
            [
             0,
             "#0d0887"
            ],
            [
             0.1111111111111111,
             "#46039f"
            ],
            [
             0.2222222222222222,
             "#7201a8"
            ],
            [
             0.3333333333333333,
             "#9c179e"
            ],
            [
             0.4444444444444444,
             "#bd3786"
            ],
            [
             0.5555555555555556,
             "#d8576b"
            ],
            [
             0.6666666666666666,
             "#ed7953"
            ],
            [
             0.7777777777777778,
             "#fb9f3a"
            ],
            [
             0.8888888888888888,
             "#fdca26"
            ],
            [
             1,
             "#f0f921"
            ]
           ],
           "sequentialminus": [
            [
             0,
             "#0d0887"
            ],
            [
             0.1111111111111111,
             "#46039f"
            ],
            [
             0.2222222222222222,
             "#7201a8"
            ],
            [
             0.3333333333333333,
             "#9c179e"
            ],
            [
             0.4444444444444444,
             "#bd3786"
            ],
            [
             0.5555555555555556,
             "#d8576b"
            ],
            [
             0.6666666666666666,
             "#ed7953"
            ],
            [
             0.7777777777777778,
             "#fb9f3a"
            ],
            [
             0.8888888888888888,
             "#fdca26"
            ],
            [
             1,
             "#f0f921"
            ]
           ]
          },
          "colorway": [
           "#636efa",
           "#EF553B",
           "#00cc96",
           "#ab63fa",
           "#FFA15A",
           "#19d3f3",
           "#FF6692",
           "#B6E880",
           "#FF97FF",
           "#FECB52"
          ],
          "font": {
           "color": "#2a3f5f"
          },
          "geo": {
           "bgcolor": "white",
           "lakecolor": "white",
           "landcolor": "#E5ECF6",
           "showlakes": true,
           "showland": true,
           "subunitcolor": "white"
          },
          "hoverlabel": {
           "align": "left"
          },
          "hovermode": "closest",
          "mapbox": {
           "style": "light"
          },
          "paper_bgcolor": "white",
          "plot_bgcolor": "#E5ECF6",
          "polar": {
           "angularaxis": {
            "gridcolor": "white",
            "linecolor": "white",
            "ticks": ""
           },
           "bgcolor": "#E5ECF6",
           "radialaxis": {
            "gridcolor": "white",
            "linecolor": "white",
            "ticks": ""
           }
          },
          "scene": {
           "xaxis": {
            "backgroundcolor": "#E5ECF6",
            "gridcolor": "white",
            "gridwidth": 2,
            "linecolor": "white",
            "showbackground": true,
            "ticks": "",
            "zerolinecolor": "white"
           },
           "yaxis": {
            "backgroundcolor": "#E5ECF6",
            "gridcolor": "white",
            "gridwidth": 2,
            "linecolor": "white",
            "showbackground": true,
            "ticks": "",
            "zerolinecolor": "white"
           },
           "zaxis": {
            "backgroundcolor": "#E5ECF6",
            "gridcolor": "white",
            "gridwidth": 2,
            "linecolor": "white",
            "showbackground": true,
            "ticks": "",
            "zerolinecolor": "white"
           }
          },
          "shapedefaults": {
           "line": {
            "color": "#2a3f5f"
           }
          },
          "ternary": {
           "aaxis": {
            "gridcolor": "white",
            "linecolor": "white",
            "ticks": ""
           },
           "baxis": {
            "gridcolor": "white",
            "linecolor": "white",
            "ticks": ""
           },
           "bgcolor": "#E5ECF6",
           "caxis": {
            "gridcolor": "white",
            "linecolor": "white",
            "ticks": ""
           }
          },
          "title": {
           "x": 0.05
          },
          "xaxis": {
           "automargin": true,
           "gridcolor": "white",
           "linecolor": "white",
           "ticks": "",
           "title": {
            "standoff": 15
           },
           "zerolinecolor": "white",
           "zerolinewidth": 2
          },
          "yaxis": {
           "automargin": true,
           "gridcolor": "white",
           "linecolor": "white",
           "ticks": "",
           "title": {
            "standoff": 15
           },
           "zerolinecolor": "white",
           "zerolinewidth": 2
          }
         }
        }
       }
      }
     },
     "metadata": {},
     "output_type": "display_data"
    }
   ],
   "source": [
    "fig = go.Figure()\n",
    "\n",
    "fig.add_trace(go.Bar(x=lck_spring_team_golddiff_mean.index , y=lck_spring_team_golddiff_mean.values) )\n",
    "\n",
    "fig.show()"
   ]
  },
  {
   "cell_type": "code",
   "execution_count": null,
   "metadata": {},
   "outputs": [],
   "source": [
    "# 15분 gold차이 평균 지표\n",
    "lck_spring_team_golddiff_mean = lck_spring_team_df.groupby('teamname')['tower'].mean()\n",
    "lck_spring_team_golddiff_mean"
   ]
  },
  {
   "cell_type": "code",
   "execution_count": null,
   "metadata": {},
   "outputs": [],
   "source": [
    "def lck_spring_team_goldmean_cal:\n",
    "    for i in range\n"
   ]
  },
  {
   "cell_type": "code",
   "execution_count": 2,
   "metadata": {},
   "outputs": [
    {
     "data": {
      "text/html": [
       "<div>\n",
       "<style scoped>\n",
       "    .dataframe tbody tr th:only-of-type {\n",
       "        vertical-align: middle;\n",
       "    }\n",
       "\n",
       "    .dataframe tbody tr th {\n",
       "        vertical-align: top;\n",
       "    }\n",
       "\n",
       "    .dataframe thead th {\n",
       "        text-align: right;\n",
       "    }\n",
       "</style>\n",
       "<table border=\"1\" class=\"dataframe\">\n",
       "  <thead>\n",
       "    <tr style=\"text-align: right;\">\n",
       "      <th></th>\n",
       "      <th>gameid</th>\n",
       "      <th>datacompleteness</th>\n",
       "      <th>url</th>\n",
       "      <th>league</th>\n",
       "      <th>year</th>\n",
       "      <th>split</th>\n",
       "      <th>playoffs</th>\n",
       "      <th>date</th>\n",
       "      <th>game</th>\n",
       "      <th>patch</th>\n",
       "      <th>...</th>\n",
       "      <th>opp_csat15</th>\n",
       "      <th>golddiffat15</th>\n",
       "      <th>xpdiffat15</th>\n",
       "      <th>csdiffat15</th>\n",
       "      <th>killsat15</th>\n",
       "      <th>assistsat15</th>\n",
       "      <th>deathsat15</th>\n",
       "      <th>opp_killsat15</th>\n",
       "      <th>opp_assistsat15</th>\n",
       "      <th>opp_deathsat15</th>\n",
       "    </tr>\n",
       "  </thead>\n",
       "  <tbody>\n",
       "    <tr>\n",
       "      <th>0</th>\n",
       "      <td>ESPORTSTMNT01_2690210</td>\n",
       "      <td>complete</td>\n",
       "      <td>NaN</td>\n",
       "      <td>LCK CL</td>\n",
       "      <td>2022</td>\n",
       "      <td>Spring</td>\n",
       "      <td>0</td>\n",
       "      <td>2022-01-10 07:44:08</td>\n",
       "      <td>1</td>\n",
       "      <td>12.01</td>\n",
       "      <td>...</td>\n",
       "      <td>121.0</td>\n",
       "      <td>391.0</td>\n",
       "      <td>345.0</td>\n",
       "      <td>14.0</td>\n",
       "      <td>0.0</td>\n",
       "      <td>1.0</td>\n",
       "      <td>0.0</td>\n",
       "      <td>0.0</td>\n",
       "      <td>1.0</td>\n",
       "      <td>0.0</td>\n",
       "    </tr>\n",
       "    <tr>\n",
       "      <th>1</th>\n",
       "      <td>ESPORTSTMNT01_2690210</td>\n",
       "      <td>complete</td>\n",
       "      <td>NaN</td>\n",
       "      <td>LCK CL</td>\n",
       "      <td>2022</td>\n",
       "      <td>Spring</td>\n",
       "      <td>0</td>\n",
       "      <td>2022-01-10 07:44:08</td>\n",
       "      <td>1</td>\n",
       "      <td>12.01</td>\n",
       "      <td>...</td>\n",
       "      <td>100.0</td>\n",
       "      <td>541.0</td>\n",
       "      <td>-275.0</td>\n",
       "      <td>-11.0</td>\n",
       "      <td>2.0</td>\n",
       "      <td>3.0</td>\n",
       "      <td>2.0</td>\n",
       "      <td>0.0</td>\n",
       "      <td>5.0</td>\n",
       "      <td>1.0</td>\n",
       "    </tr>\n",
       "    <tr>\n",
       "      <th>2</th>\n",
       "      <td>ESPORTSTMNT01_2690210</td>\n",
       "      <td>complete</td>\n",
       "      <td>NaN</td>\n",
       "      <td>LCK CL</td>\n",
       "      <td>2022</td>\n",
       "      <td>Spring</td>\n",
       "      <td>0</td>\n",
       "      <td>2022-01-10 07:44:08</td>\n",
       "      <td>1</td>\n",
       "      <td>12.01</td>\n",
       "      <td>...</td>\n",
       "      <td>119.0</td>\n",
       "      <td>-475.0</td>\n",
       "      <td>153.0</td>\n",
       "      <td>1.0</td>\n",
       "      <td>0.0</td>\n",
       "      <td>3.0</td>\n",
       "      <td>0.0</td>\n",
       "      <td>3.0</td>\n",
       "      <td>3.0</td>\n",
       "      <td>2.0</td>\n",
       "    </tr>\n",
       "    <tr>\n",
       "      <th>3</th>\n",
       "      <td>ESPORTSTMNT01_2690210</td>\n",
       "      <td>complete</td>\n",
       "      <td>NaN</td>\n",
       "      <td>LCK CL</td>\n",
       "      <td>2022</td>\n",
       "      <td>Spring</td>\n",
       "      <td>0</td>\n",
       "      <td>2022-01-10 07:44:08</td>\n",
       "      <td>1</td>\n",
       "      <td>12.01</td>\n",
       "      <td>...</td>\n",
       "      <td>149.0</td>\n",
       "      <td>-793.0</td>\n",
       "      <td>-1343.0</td>\n",
       "      <td>-34.0</td>\n",
       "      <td>2.0</td>\n",
       "      <td>1.0</td>\n",
       "      <td>2.0</td>\n",
       "      <td>3.0</td>\n",
       "      <td>3.0</td>\n",
       "      <td>0.0</td>\n",
       "    </tr>\n",
       "    <tr>\n",
       "      <th>4</th>\n",
       "      <td>ESPORTSTMNT01_2690210</td>\n",
       "      <td>complete</td>\n",
       "      <td>NaN</td>\n",
       "      <td>LCK CL</td>\n",
       "      <td>2022</td>\n",
       "      <td>Spring</td>\n",
       "      <td>0</td>\n",
       "      <td>2022-01-10 07:44:08</td>\n",
       "      <td>1</td>\n",
       "      <td>12.01</td>\n",
       "      <td>...</td>\n",
       "      <td>21.0</td>\n",
       "      <td>443.0</td>\n",
       "      <td>-497.0</td>\n",
       "      <td>7.0</td>\n",
       "      <td>1.0</td>\n",
       "      <td>2.0</td>\n",
       "      <td>2.0</td>\n",
       "      <td>0.0</td>\n",
       "      <td>6.0</td>\n",
       "      <td>2.0</td>\n",
       "    </tr>\n",
       "  </tbody>\n",
       "</table>\n",
       "<p>5 rows × 123 columns</p>\n",
       "</div>"
      ],
      "text/plain": [
       "                  gameid datacompleteness  url  league  year   split  \\\n",
       "0  ESPORTSTMNT01_2690210         complete  NaN  LCK CL  2022  Spring   \n",
       "1  ESPORTSTMNT01_2690210         complete  NaN  LCK CL  2022  Spring   \n",
       "2  ESPORTSTMNT01_2690210         complete  NaN  LCK CL  2022  Spring   \n",
       "3  ESPORTSTMNT01_2690210         complete  NaN  LCK CL  2022  Spring   \n",
       "4  ESPORTSTMNT01_2690210         complete  NaN  LCK CL  2022  Spring   \n",
       "\n",
       "   playoffs                 date  game  patch  ...  opp_csat15 golddiffat15  \\\n",
       "0         0  2022-01-10 07:44:08     1  12.01  ...       121.0        391.0   \n",
       "1         0  2022-01-10 07:44:08     1  12.01  ...       100.0        541.0   \n",
       "2         0  2022-01-10 07:44:08     1  12.01  ...       119.0       -475.0   \n",
       "3         0  2022-01-10 07:44:08     1  12.01  ...       149.0       -793.0   \n",
       "4         0  2022-01-10 07:44:08     1  12.01  ...        21.0        443.0   \n",
       "\n",
       "  xpdiffat15 csdiffat15 killsat15 assistsat15 deathsat15 opp_killsat15  \\\n",
       "0      345.0       14.0       0.0         1.0        0.0           0.0   \n",
       "1     -275.0      -11.0       2.0         3.0        2.0           0.0   \n",
       "2      153.0        1.0       0.0         3.0        0.0           3.0   \n",
       "3    -1343.0      -34.0       2.0         1.0        2.0           3.0   \n",
       "4     -497.0        7.0       1.0         2.0        2.0           0.0   \n",
       "\n",
       "  opp_assistsat15 opp_deathsat15  \n",
       "0             1.0            0.0  \n",
       "1             5.0            1.0  \n",
       "2             3.0            2.0  \n",
       "3             3.0            0.0  \n",
       "4             6.0            2.0  \n",
       "\n",
       "[5 rows x 123 columns]"
      ]
     },
     "execution_count": 2,
     "metadata": {},
     "output_type": "execute_result"
    }
   ],
   "source": [
    "# 승패 확인을 위한 전처리\n",
    "lol2022season.head()"
   ]
  },
  {
   "cell_type": "code",
   "execution_count": null,
   "metadata": {},
   "outputs": [],
   "source": []
  }
 ],
 "metadata": {
  "kernelspec": {
   "display_name": "Python 3",
   "language": "python",
   "name": "python3"
  },
  "language_info": {
   "codemirror_mode": {
    "name": "ipython",
    "version": 3
   },
   "file_extension": ".py",
   "mimetype": "text/x-python",
   "name": "python",
   "nbconvert_exporter": "python",
   "pygments_lexer": "ipython3",
   "version": "3.11.4"
  },
  "orig_nbformat": 4
 },
 "nbformat": 4,
 "nbformat_minor": 2
}
