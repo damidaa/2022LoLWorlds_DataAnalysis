{
 "cells": [
  {
   "cell_type": "markdown",
   "metadata": {},
   "source": [
    "# 2022 LOL WORLD CHAMPIONSHIP DA"
   ]
  },
  {
   "cell_type": "markdown",
   "metadata": {},
   "source": [
    "## DATA LOAD & library load"
   ]
  },
  {
   "cell_type": "code",
   "execution_count": 2,
   "metadata": {},
   "outputs": [
    {
     "ename": "ModuleNotFoundError",
     "evalue": "No module named 'chart_studio'",
     "output_type": "error",
     "traceback": [
      "\u001b[1;31m---------------------------------------------------------------------------\u001b[0m",
      "\u001b[1;31mModuleNotFoundError\u001b[0m                       Traceback (most recent call last)",
      "Cell \u001b[1;32mIn[2], line 5\u001b[0m\n\u001b[0;32m      3\u001b[0m \u001b[39mimport\u001b[39;00m \u001b[39mplotly\u001b[39;00m\u001b[39m.\u001b[39;00m\u001b[39mgraph_objects\u001b[39;00m \u001b[39mas\u001b[39;00m \u001b[39mgo\u001b[39;00m\n\u001b[0;32m      4\u001b[0m \u001b[39mimport\u001b[39;00m \u001b[39mplotly\u001b[39;00m\u001b[39m.\u001b[39;00m\u001b[39mexpress\u001b[39;00m \u001b[39mas\u001b[39;00m \u001b[39mpx\u001b[39;00m\n\u001b[1;32m----> 5\u001b[0m \u001b[39mimport\u001b[39;00m \u001b[39mchart_studio\u001b[39;00m\u001b[39m.\u001b[39;00m\u001b[39mplotly\u001b[39;00m \u001b[39mas\u001b[39;00m \u001b[39mpy\u001b[39;00m\n\u001b[0;32m      8\u001b[0m \u001b[39mfrom\u001b[39;00m \u001b[39msklearn\u001b[39;00m\u001b[39m.\u001b[39;00m\u001b[39mpreprocessing\u001b[39;00m \u001b[39mimport\u001b[39;00m MinMaxScaler\n",
      "\u001b[1;31mModuleNotFoundError\u001b[0m: No module named 'chart_studio'"
     ]
    }
   ],
   "source": [
    "import numpy as np\n",
    "import pandas as pd\n",
    "import plotly.graph_objects as go\n",
    "import plotly.express as px\n",
    "import chart_studio.plotly as py\n",
    "\n",
    "\n",
    "from sklearn.preprocessing import MinMaxScaler"
   ]
  },
  {
   "cell_type": "code",
   "execution_count": 5,
   "metadata": {},
   "outputs": [
    {
     "name": "stderr",
     "output_type": "stream",
     "text": [
      "C:\\Users\\Admin\\AppData\\Local\\Temp\\ipykernel_24688\\1530908161.py:8: DtypeWarning: Columns (2) have mixed types. Specify dtype option on import or set low_memory=False.\n",
      "  lol2022season = pd.read_csv(PATH + \"2022matchdata.csv\" , encoding='utf-8-sig')\n"
     ]
    }
   ],
   "source": [
    "PATH = \"\"\n",
    "\n",
    "champions = pd.read_csv(PATH + \"wc_champions.csv\", encoding='utf-8-sig')\n",
    "players_main = pd.read_csv(PATH + \"wc_players_main.csv\", encoding='utf-8-sig')\n",
    "players_pi = pd.read_csv(PATH + \"wc_players_play_in.csv\", encoding='utf-8-sig')\n",
    "teams_main = pd.read_csv(PATH + \"wc_teams_main.csv\", encoding='utf-8-sig')\n",
    "teams_pi = pd.read_csv(PATH + \"wc_teams_play_in.csv\", encoding='utf-8-sig')\n",
    "lol2022season = pd.read_csv(PATH + \"2022matchdata.csv\" , encoding='utf-8-sig')\n",
    "lck2022season = pd.read_csv(PATH + \"lck2022.csv\" , encoding='utf-8-sig')"
   ]
  },
  {
   "cell_type": "markdown",
   "metadata": {},
   "source": [
    "### DATA 확인 및 결측값 확인\n",
    "\n",
    "\n",
    "> 데이터\n",
    "- lol2022season\n",
    "    - 2022시즌 모든 lolesports 경기데이터\n",
    "- cahmpions\n",
    "    - 게임 내 champion 통계\n",
    "- players_main\n",
    "    - main stage player들의 통계\n",
    "- players_pi\n",
    "    - playin stage player들의 통계\n",
    "- teams_main\n",
    "    - main stage team들의 통계\n",
    "- players_main\n",
    "    - palyin stage team들의 통계"
   ]
  },
  {
   "cell_type": "markdown",
   "metadata": {},
   "source": [
    "---"
   ]
  },
  {
   "cell_type": "markdown",
   "metadata": {},
   "source": [
    "관심 column 선택 및 정의서\n",
    "\n",
    "- 팀분석\n",
    "\n",
    "    - 게임 고유 ID 매치별, 정규시즌경기 다전제 3판2선승 ->경기승리, 플레이오프 5판3선승 경기승리\n",
    "    - participantid : (1,2,3...10) 선수데이터, 100블루팀 200레드팀 팀데이터\n",
    "    - side : blue,red team\n",
    "    - league : 리그명\n",
    "    - split : 시즌(spring,summer)\n",
    "    - team : 팀명\n",
    "    - playoffs : playoff 유무\n",
    "    - date : 경기날짜(시간 별 분석시 사용)\n",
    "    - gamelength : 경기시간(강약팀구분)\n",
    "    - result(승,패) 0 : 패 1 : 승\n",
    "    - totalgold 총 골드획득\n",
    "    - towers\n",
    "    - exp\n",
    "\n",
    "\n",
    "| Stats | Definitions |\n",
    "|------|:-------------------------------------|\n",
    "gameid\t| 게임고유ID( 다전제에서 각 매치별)\n",
    "participantid\t| 선수,팀 데이터 구분\n"
   ]
  },
  {
   "cell_type": "markdown",
   "metadata": {},
   "source": [
    "#게임ID #팀인지 선수인지 participantid 100 blue 200 red (1,2,3...10 선수개인) #팀  #리그 #시간 #스플릿 #플레이오프 #승패 "
   ]
  },
  {
   "cell_type": "code",
   "execution_count": 4,
   "metadata": {},
   "outputs": [
    {
     "ename": "NameError",
     "evalue": "name 'lol2022season' is not defined",
     "output_type": "error",
     "traceback": [
      "\u001b[1;31m---------------------------------------------------------------------------\u001b[0m",
      "\u001b[1;31mNameError\u001b[0m                                 Traceback (most recent call last)",
      "Cell \u001b[1;32mIn[4], line 1\u001b[0m\n\u001b[1;32m----> 1\u001b[0m lol2022season\u001b[39m.\u001b[39minfo(show_counts \u001b[39m=\u001b[39m \u001b[39mTrue\u001b[39;00m)\n",
      "\u001b[1;31mNameError\u001b[0m: name 'lol2022season' is not defined"
     ]
    }
   ],
   "source": [
    "lol2022season.info(show_counts = True)"
   ]
  },
  {
   "cell_type": "code",
   "execution_count": null,
   "metadata": {},
   "outputs": [
    {
     "name": "stdout",
     "output_type": "stream",
     "text": [
      "<class 'pandas.core.frame.DataFrame'>\n",
      "Index: 24872 entries, 10 to 149231\n",
      "Columns: 123 entries, gameid to opp_deathsat15\n",
      "dtypes: float64(93), int64(12), object(18)\n",
      "memory usage: 23.5+ MB\n"
     ]
    }
   ],
   "source": [
    "lol2022season[ (lol2022season['participantid'] == 100) | (lol2022season['participantid']==200 ) ].isna().sum()"
   ]
  },
  {
   "cell_type": "code",
   "execution_count": 3,
   "metadata": {},
   "outputs": [
    {
     "ename": "NameError",
     "evalue": "name 'lol2022season' is not defined",
     "output_type": "error",
     "traceback": [
      "\u001b[1;31m---------------------------------------------------------------------------\u001b[0m",
      "\u001b[1;31mNameError\u001b[0m                                 Traceback (most recent call last)",
      "Cell \u001b[1;32mIn[3], line 1\u001b[0m\n\u001b[1;32m----> 1\u001b[0m lol2022season\u001b[39m.\u001b[39misna()\u001b[39m.\u001b[39msum()\n",
      "\u001b[1;31mNameError\u001b[0m: name 'lol2022season' is not defined"
     ]
    }
   ],
   "source": [
    "lol2022season.isna().sum()\n",
    "#participate가 선수지표면 팀단위의 지표는 결측값이지만. 예외있음 ( 측정되지않거나 기입오류 )\n",
    "#url은 중국공식통계 링크만 있으므로 필요하지 않음 컬럼"
   ]
  },
  {
   "cell_type": "markdown",
   "metadata": {},
   "source": [
    "---\n",
    "날짜 데이터 타입 전처리"
   ]
  },
  {
   "cell_type": "code",
   "execution_count": 219,
   "metadata": {},
   "outputs": [],
   "source": [
    "lol2022season['date'] = pd.to_datetime(lol2022season['date'], format='%Y-%m-%d %H:%M:%S', errors='raise')"
   ]
  },
  {
   "cell_type": "markdown",
   "metadata": {},
   "source": [
    "----\n",
    "\n",
    "> #### 추후 해보자 ( drx 선수별 지표,능력치차트 )"
   ]
  },
  {
   "cell_type": "code",
   "execution_count": 182,
   "metadata": {},
   "outputs": [
    {
     "data": {
      "text/html": [
       "<div>\n",
       "<style scoped>\n",
       "    .dataframe tbody tr th:only-of-type {\n",
       "        vertical-align: middle;\n",
       "    }\n",
       "\n",
       "    .dataframe tbody tr th {\n",
       "        vertical-align: top;\n",
       "    }\n",
       "\n",
       "    .dataframe thead th {\n",
       "        text-align: right;\n",
       "    }\n",
       "</style>\n",
       "<table border=\"1\" class=\"dataframe\">\n",
       "  <thead>\n",
       "    <tr style=\"text-align: right;\">\n",
       "      <th></th>\n",
       "      <th>gameid</th>\n",
       "      <th>playername</th>\n",
       "      <th>participantid</th>\n",
       "      <th>side</th>\n",
       "      <th>league</th>\n",
       "      <th>split</th>\n",
       "      <th>teamname</th>\n",
       "      <th>date</th>\n",
       "      <th>totalgold</th>\n",
       "      <th>gamelength</th>\n",
       "      <th>result</th>\n",
       "      <th>dpm</th>\n",
       "      <th>damagetakenperminute</th>\n",
       "      <th>goldat15</th>\n",
       "      <th>xpat15</th>\n",
       "      <th>cspm</th>\n",
       "      <th>visionscore</th>\n",
       "    </tr>\n",
       "  </thead>\n",
       "  <tbody>\n",
       "    <tr>\n",
       "      <th>1440</th>\n",
       "      <td>ESPORTSTMNT01_2700815</td>\n",
       "      <td>Kingen</td>\n",
       "      <td>1</td>\n",
       "      <td>Blue</td>\n",
       "      <td>LCK</td>\n",
       "      <td>Spring</td>\n",
       "      <td>DRX</td>\n",
       "      <td>2022-01-12 06:20:03</td>\n",
       "      <td>13189</td>\n",
       "      <td>2195</td>\n",
       "      <td>0</td>\n",
       "      <td>505.2301</td>\n",
       "      <td>474.5877</td>\n",
       "      <td>4763.0</td>\n",
       "      <td>6943.0</td>\n",
       "      <td>8.6105</td>\n",
       "      <td>35.0</td>\n",
       "    </tr>\n",
       "    <tr>\n",
       "      <th>1441</th>\n",
       "      <td>ESPORTSTMNT01_2700815</td>\n",
       "      <td>Pyosik</td>\n",
       "      <td>2</td>\n",
       "      <td>Blue</td>\n",
       "      <td>LCK</td>\n",
       "      <td>Spring</td>\n",
       "      <td>DRX</td>\n",
       "      <td>2022-01-12 06:20:03</td>\n",
       "      <td>10792</td>\n",
       "      <td>2195</td>\n",
       "      <td>0</td>\n",
       "      <td>103.8451</td>\n",
       "      <td>640.0456</td>\n",
       "      <td>5107.0</td>\n",
       "      <td>5355.0</td>\n",
       "      <td>4.8656</td>\n",
       "      <td>58.0</td>\n",
       "    </tr>\n",
       "    <tr>\n",
       "      <th>1442</th>\n",
       "      <td>ESPORTSTMNT01_2700815</td>\n",
       "      <td>ZEKA</td>\n",
       "      <td>3</td>\n",
       "      <td>Blue</td>\n",
       "      <td>LCK</td>\n",
       "      <td>Spring</td>\n",
       "      <td>DRX</td>\n",
       "      <td>2022-01-12 06:20:03</td>\n",
       "      <td>14226</td>\n",
       "      <td>2195</td>\n",
       "      <td>0</td>\n",
       "      <td>209.3303</td>\n",
       "      <td>490.6879</td>\n",
       "      <td>5589.0</td>\n",
       "      <td>7592.0</td>\n",
       "      <td>9.5945</td>\n",
       "      <td>39.0</td>\n",
       "    </tr>\n",
       "    <tr>\n",
       "      <th>1443</th>\n",
       "      <td>ESPORTSTMNT01_2700815</td>\n",
       "      <td>Deft</td>\n",
       "      <td>4</td>\n",
       "      <td>Blue</td>\n",
       "      <td>LCK</td>\n",
       "      <td>Spring</td>\n",
       "      <td>DRX</td>\n",
       "      <td>2022-01-12 06:20:03</td>\n",
       "      <td>16249</td>\n",
       "      <td>2195</td>\n",
       "      <td>0</td>\n",
       "      <td>410.1048</td>\n",
       "      <td>302.7062</td>\n",
       "      <td>7171.0</td>\n",
       "      <td>5691.0</td>\n",
       "      <td>9.6219</td>\n",
       "      <td>58.0</td>\n",
       "    </tr>\n",
       "    <tr>\n",
       "      <th>1444</th>\n",
       "      <td>ESPORTSTMNT01_2700815</td>\n",
       "      <td>BeryL</td>\n",
       "      <td>5</td>\n",
       "      <td>Blue</td>\n",
       "      <td>LCK</td>\n",
       "      <td>Spring</td>\n",
       "      <td>DRX</td>\n",
       "      <td>2022-01-12 06:20:03</td>\n",
       "      <td>9291</td>\n",
       "      <td>2195</td>\n",
       "      <td>0</td>\n",
       "      <td>139.2711</td>\n",
       "      <td>319.4897</td>\n",
       "      <td>4568.0</td>\n",
       "      <td>4744.0</td>\n",
       "      <td>0.9841</td>\n",
       "      <td>115.0</td>\n",
       "    </tr>\n",
       "  </tbody>\n",
       "</table>\n",
       "</div>"
      ],
      "text/plain": [
       "                     gameid playername  participantid  side league   split  \\\n",
       "1440  ESPORTSTMNT01_2700815     Kingen              1  Blue    LCK  Spring   \n",
       "1441  ESPORTSTMNT01_2700815     Pyosik              2  Blue    LCK  Spring   \n",
       "1442  ESPORTSTMNT01_2700815       ZEKA              3  Blue    LCK  Spring   \n",
       "1443  ESPORTSTMNT01_2700815       Deft              4  Blue    LCK  Spring   \n",
       "1444  ESPORTSTMNT01_2700815      BeryL              5  Blue    LCK  Spring   \n",
       "\n",
       "     teamname                 date  totalgold  gamelength  result       dpm  \\\n",
       "1440      DRX  2022-01-12 06:20:03      13189        2195       0  505.2301   \n",
       "1441      DRX  2022-01-12 06:20:03      10792        2195       0  103.8451   \n",
       "1442      DRX  2022-01-12 06:20:03      14226        2195       0  209.3303   \n",
       "1443      DRX  2022-01-12 06:20:03      16249        2195       0  410.1048   \n",
       "1444      DRX  2022-01-12 06:20:03       9291        2195       0  139.2711   \n",
       "\n",
       "      damagetakenperminute  goldat15  xpat15    cspm  visionscore  \n",
       "1440              474.5877    4763.0  6943.0  8.6105         35.0  \n",
       "1441              640.0456    5107.0  5355.0  4.8656         58.0  \n",
       "1442              490.6879    5589.0  7592.0  9.5945         39.0  \n",
       "1443              302.7062    7171.0  5691.0  9.6219         58.0  \n",
       "1444              319.4897    4568.0  4744.0  0.9841        115.0  "
      ]
     },
     "execution_count": 182,
     "metadata": {},
     "output_type": "execute_result"
    }
   ],
   "source": [
    "#추후 해보자 ( drx 선수별 지표,능력치차트 )\n",
    "\n",
    "# lck_spring_po_df = lck_spring_po[ ['gameid','playername','participantid','side','league','split','teamname','date', \\\n",
    "#     'gamelength','result','dpm','damagetakenperminute','goldat15','xpat15','cspm','visionscore'] ]\n",
    "\n",
    "# lck_spring_po_drxplyaer_df = lck_spring_po_df[ (lck_spring_po_df['teamname'] == 'DRX') & (lck_spring_po_df['participantid'] <= 10 ) ]\n",
    "\n",
    "# lck_spring_po_drxplyaer_df.head()\n",
    "\n",
    "lck_spring_df = lck_spring[ ['gameid','playername','participantid','side','league','split','teamname','date', \\\n",
    "    'totalgold','gamelength','result','dpm','damagetakenperminute','goldat15','xpat15','cspm','visionscore'] ]\n",
    "\n",
    "lck_spring_drxplyaer_df = lck_spring_df[ (lck_spring_df['teamname'] == 'DRX') & (lck_spring_df['participantid'] <= 10 ) ]\n",
    "\n",
    "lck_spring_drxplyaer_df.head()"
   ]
  },
  {
   "cell_type": "code",
   "execution_count": 81,
   "metadata": {},
   "outputs": [
    {
     "data": {
      "text/html": [
       "<div>\n",
       "<style scoped>\n",
       "    .dataframe tbody tr th:only-of-type {\n",
       "        vertical-align: middle;\n",
       "    }\n",
       "\n",
       "    .dataframe tbody tr th {\n",
       "        vertical-align: top;\n",
       "    }\n",
       "\n",
       "    .dataframe thead th {\n",
       "        text-align: right;\n",
       "    }\n",
       "</style>\n",
       "<table border=\"1\" class=\"dataframe\">\n",
       "  <thead>\n",
       "    <tr style=\"text-align: right;\">\n",
       "      <th></th>\n",
       "      <th>playername</th>\n",
       "      <th>teamname</th>\n",
       "      <th>dpm</th>\n",
       "      <th>damagetakenperminute</th>\n",
       "      <th>goldat15</th>\n",
       "      <th>xpat15</th>\n",
       "      <th>cspm</th>\n",
       "      <th>visionscore</th>\n",
       "    </tr>\n",
       "  </thead>\n",
       "  <tbody>\n",
       "    <tr>\n",
       "      <th>1440</th>\n",
       "      <td>Kingen</td>\n",
       "      <td>DRX</td>\n",
       "      <td>505.2301</td>\n",
       "      <td>474.5877</td>\n",
       "      <td>4763.0</td>\n",
       "      <td>6943.0</td>\n",
       "      <td>8.6105</td>\n",
       "      <td>35.0</td>\n",
       "    </tr>\n",
       "    <tr>\n",
       "      <th>1441</th>\n",
       "      <td>Pyosik</td>\n",
       "      <td>DRX</td>\n",
       "      <td>103.8451</td>\n",
       "      <td>640.0456</td>\n",
       "      <td>5107.0</td>\n",
       "      <td>5355.0</td>\n",
       "      <td>4.8656</td>\n",
       "      <td>58.0</td>\n",
       "    </tr>\n",
       "    <tr>\n",
       "      <th>1442</th>\n",
       "      <td>ZEKA</td>\n",
       "      <td>DRX</td>\n",
       "      <td>209.3303</td>\n",
       "      <td>490.6879</td>\n",
       "      <td>5589.0</td>\n",
       "      <td>7592.0</td>\n",
       "      <td>9.5945</td>\n",
       "      <td>39.0</td>\n",
       "    </tr>\n",
       "    <tr>\n",
       "      <th>1443</th>\n",
       "      <td>Deft</td>\n",
       "      <td>DRX</td>\n",
       "      <td>410.1048</td>\n",
       "      <td>302.7062</td>\n",
       "      <td>7171.0</td>\n",
       "      <td>5691.0</td>\n",
       "      <td>9.6219</td>\n",
       "      <td>58.0</td>\n",
       "    </tr>\n",
       "    <tr>\n",
       "      <th>1444</th>\n",
       "      <td>BeryL</td>\n",
       "      <td>DRX</td>\n",
       "      <td>139.2711</td>\n",
       "      <td>319.4897</td>\n",
       "      <td>4568.0</td>\n",
       "      <td>4744.0</td>\n",
       "      <td>0.9841</td>\n",
       "      <td>115.0</td>\n",
       "    </tr>\n",
       "  </tbody>\n",
       "</table>\n",
       "</div>"
      ],
      "text/plain": [
       "     playername teamname       dpm  damagetakenperminute  goldat15  xpat15  \\\n",
       "1440     Kingen      DRX  505.2301              474.5877    4763.0  6943.0   \n",
       "1441     Pyosik      DRX  103.8451              640.0456    5107.0  5355.0   \n",
       "1442       ZEKA      DRX  209.3303              490.6879    5589.0  7592.0   \n",
       "1443       Deft      DRX  410.1048              302.7062    7171.0  5691.0   \n",
       "1444      BeryL      DRX  139.2711              319.4897    4568.0  4744.0   \n",
       "\n",
       "        cspm  visionscore  \n",
       "1440  8.6105         35.0  \n",
       "1441  4.8656         58.0  \n",
       "1442  9.5945         39.0  \n",
       "1443  9.6219         58.0  \n",
       "1444  0.9841        115.0  "
      ]
     },
     "execution_count": 81,
     "metadata": {},
     "output_type": "execute_result"
    }
   ],
   "source": [
    "# lck_spring_po_drxplayer_score = lck_spring_po_drxplyaer_df[ ['playername','teamname','dpm','damagetakenperminute','goldat15','xpat15','cspm','visionscore'] ]\n",
    "# lck_spring_po_drxplayer_score.head()\n",
    "\n",
    "lck_spring_drxplayer_score = lck_spring_drxplyaer_df[ ['playername','teamname','dpm','damagetakenperminute','goldat15','xpat15','cspm','visionscore'] ]\n",
    "lck_spring_drxplayer_score.head()"
   ]
  },
  {
   "cell_type": "code",
   "execution_count": 1,
   "metadata": {},
   "outputs": [
    {
     "ename": "NameError",
     "evalue": "name 'lck_spring_drxplayer_score' is not defined",
     "output_type": "error",
     "traceback": [
      "\u001b[1;31m---------------------------------------------------------------------------\u001b[0m",
      "\u001b[1;31mNameError\u001b[0m                                 Traceback (most recent call last)",
      "Cell \u001b[1;32mIn[1], line 2\u001b[0m\n\u001b[0;32m      1\u001b[0m \u001b[39m# X = lck_spring_po_drxplayer_score[['dpm','damagetakenperminute','goldat15','xpat15','cspm','visionscore']]\u001b[39;00m\n\u001b[1;32m----> 2\u001b[0m A \u001b[39m=\u001b[39m lck_spring_drxplayer_score[\u001b[39m'\u001b[39m\u001b[39mdpm\u001b[39m\u001b[39m'\u001b[39m]\n\u001b[0;32m      3\u001b[0m B \u001b[39m=\u001b[39m lck_spring_drxplayer_score[\u001b[39m'\u001b[39m\u001b[39mdamagetakenperminute\u001b[39m\u001b[39m'\u001b[39m]\n\u001b[0;32m      4\u001b[0m C \u001b[39m=\u001b[39m lck_spring_drxplayer_score[\u001b[39m'\u001b[39m\u001b[39mgoldat15\u001b[39m\u001b[39m'\u001b[39m]\n",
      "\u001b[1;31mNameError\u001b[0m: name 'lck_spring_drxplayer_score' is not defined"
     ]
    }
   ],
   "source": [
    "# X = lck_spring_po_drxplayer_score[['dpm','damagetakenperminute','goldat15','xpat15','cspm','visionscore']]\n",
    "A = lck_spring_drxplayer_score[['dpm','damagetakenperminute','goldat15','xpat15','cspm','visionscore']]\n",
    "# B = lck_spring_drxplayer_score['damagetakenperminute']\n",
    "# C ]lck_spring_drxplayer_score['goldat15'\n",
    "# D 'xpat15'\n",
    "# E 'cspm'\n",
    "# F = 'visionscore'"
   ]
  },
  {
   "cell_type": "code",
   "execution_count": 98,
   "metadata": {},
   "outputs": [
    {
     "data": {
      "text/plain": [
       "array([[1.9559718 , 1.47733052, 1.81535492, 3.70483038, 3.46924819,\n",
       "        0.63291139],\n",
       "       [0.27190837, 2.26943991, 2.18421617, 2.24096608, 1.8380521 ,\n",
       "        1.36075949],\n",
       "       [0.71448537, 1.55440826, 2.70105083, 4.30309735, 3.89785696,\n",
       "        0.75949367],\n",
       "       ...,\n",
       "       [0.68684203, 1.16469947, 3.29830581, 4.03300147, 4.07208816,\n",
       "        0.94936709],\n",
       "       [1.93686951, 0.95589562, 3.0688398 , 2.10822271, 3.50117606,\n",
       "        0.85443038],\n",
       "       [0.70925216, 0.49498991, 0.66802488, 0.49963127, 0.01842495,\n",
       "        2.21518987]])"
      ]
     },
     "execution_count": 98,
     "metadata": {},
     "output_type": "execute_result"
    }
   ],
   "source": [
    "scaler = MinMaxScaler(feature_range=(0,5)) ## 각 칼럼 데이터 값을 0~6 범위로 변환\n",
    "scaler.fit(X) ## 각 칼럼 데이터마다 변환할 함수 생\n",
    "transformed_X = scaler.transform(X) ## fit에서 만들어진 함수를 실제로 데이터에 적용\n",
    "transformed_X"
   ]
  },
  {
   "cell_type": "code",
   "execution_count": 99,
   "metadata": {},
   "outputs": [
    {
     "name": "stderr",
     "output_type": "stream",
     "text": [
      "C:\\Users\\Public\\Documents\\ESTsoft\\CreatorTemp\\ipykernel_19940\\3632916184.py:4: SettingWithCopyWarning:\n",
      "\n",
      "\n",
      "A value is trying to be set on a copy of a slice from a DataFrame.\n",
      "Try using .loc[row_indexer,col_indexer] = value instead\n",
      "\n",
      "See the caveats in the documentation: https://pandas.pydata.org/pandas-docs/stable/user_guide/indexing.html#returning-a-view-versus-a-copy\n",
      "\n"
     ]
    },
    {
     "data": {
      "text/html": [
       "<div>\n",
       "<style scoped>\n",
       "    .dataframe tbody tr th:only-of-type {\n",
       "        vertical-align: middle;\n",
       "    }\n",
       "\n",
       "    .dataframe tbody tr th {\n",
       "        vertical-align: top;\n",
       "    }\n",
       "\n",
       "    .dataframe thead th {\n",
       "        text-align: right;\n",
       "    }\n",
       "</style>\n",
       "<table border=\"1\" class=\"dataframe\">\n",
       "  <thead>\n",
       "    <tr style=\"text-align: right;\">\n",
       "      <th></th>\n",
       "      <th>playername</th>\n",
       "      <th>teamname</th>\n",
       "      <th>dpm</th>\n",
       "      <th>damagetakenperminute</th>\n",
       "      <th>goldat15</th>\n",
       "      <th>xpat15</th>\n",
       "      <th>cspm</th>\n",
       "      <th>visionscore</th>\n",
       "    </tr>\n",
       "  </thead>\n",
       "  <tbody>\n",
       "    <tr>\n",
       "      <th>1440</th>\n",
       "      <td>Kingen</td>\n",
       "      <td>DRX</td>\n",
       "      <td>1.955972</td>\n",
       "      <td>1.477331</td>\n",
       "      <td>1.815355</td>\n",
       "      <td>3.704830</td>\n",
       "      <td>3.469248</td>\n",
       "      <td>0.632911</td>\n",
       "    </tr>\n",
       "    <tr>\n",
       "      <th>1441</th>\n",
       "      <td>Pyosik</td>\n",
       "      <td>DRX</td>\n",
       "      <td>0.271908</td>\n",
       "      <td>2.269440</td>\n",
       "      <td>2.184216</td>\n",
       "      <td>2.240966</td>\n",
       "      <td>1.838052</td>\n",
       "      <td>1.360759</td>\n",
       "    </tr>\n",
       "    <tr>\n",
       "      <th>1442</th>\n",
       "      <td>ZEKA</td>\n",
       "      <td>DRX</td>\n",
       "      <td>0.714485</td>\n",
       "      <td>1.554408</td>\n",
       "      <td>2.701051</td>\n",
       "      <td>4.303097</td>\n",
       "      <td>3.897857</td>\n",
       "      <td>0.759494</td>\n",
       "    </tr>\n",
       "    <tr>\n",
       "      <th>1443</th>\n",
       "      <td>Deft</td>\n",
       "      <td>DRX</td>\n",
       "      <td>1.556861</td>\n",
       "      <td>0.654469</td>\n",
       "      <td>4.397384</td>\n",
       "      <td>2.550701</td>\n",
       "      <td>3.909792</td>\n",
       "      <td>1.360759</td>\n",
       "    </tr>\n",
       "    <tr>\n",
       "      <th>1444</th>\n",
       "      <td>BeryL</td>\n",
       "      <td>DRX</td>\n",
       "      <td>0.420543</td>\n",
       "      <td>0.734818</td>\n",
       "      <td>1.606262</td>\n",
       "      <td>1.677729</td>\n",
       "      <td>0.147356</td>\n",
       "      <td>3.164557</td>\n",
       "    </tr>\n",
       "  </tbody>\n",
       "</table>\n",
       "</div>"
      ],
      "text/plain": [
       "     playername teamname       dpm  damagetakenperminute  goldat15    xpat15  \\\n",
       "1440     Kingen      DRX  1.955972              1.477331  1.815355  3.704830   \n",
       "1441     Pyosik      DRX  0.271908              2.269440  2.184216  2.240966   \n",
       "1442       ZEKA      DRX  0.714485              1.554408  2.701051  4.303097   \n",
       "1443       Deft      DRX  1.556861              0.654469  4.397384  2.550701   \n",
       "1444      BeryL      DRX  0.420543              0.734818  1.606262  1.677729   \n",
       "\n",
       "          cspm  visionscore  \n",
       "1440  3.469248     0.632911  \n",
       "1441  1.838052     1.360759  \n",
       "1442  3.897857     0.759494  \n",
       "1443  3.909792     1.360759  \n",
       "1444  0.147356     3.164557  "
      ]
     },
     "execution_count": 99,
     "metadata": {},
     "output_type": "execute_result"
    }
   ],
   "source": [
    "# lck_spring_po_drxplayer_score[['dpm','damagetakenperminute','goldat15','xpat15','cspm','visionscore']] = transformed_X\n",
    "# lck_spring_po_drxplayer_score.head()\n",
    "\n",
    "lck_spring_drxplayer_score[['dpm','damagetakenperminute','goldat15','xpat15','cspm','visionscore']] = transformed_X\n",
    "lck_spring_drxplayer_score.head()"
   ]
  },
  {
   "cell_type": "code",
   "execution_count": 133,
   "metadata": {},
   "outputs": [
    {
     "data": {
      "text/html": [
       "<div>\n",
       "<style scoped>\n",
       "    .dataframe tbody tr th:only-of-type {\n",
       "        vertical-align: middle;\n",
       "    }\n",
       "\n",
       "    .dataframe tbody tr th {\n",
       "        vertical-align: top;\n",
       "    }\n",
       "\n",
       "    .dataframe thead th {\n",
       "        text-align: right;\n",
       "    }\n",
       "</style>\n",
       "<table border=\"1\" class=\"dataframe\">\n",
       "  <thead>\n",
       "    <tr style=\"text-align: right;\">\n",
       "      <th></th>\n",
       "      <th>dpm</th>\n",
       "      <th>damagetakenperminute</th>\n",
       "      <th>goldat15</th>\n",
       "      <th>xpat15</th>\n",
       "      <th>cspm</th>\n",
       "      <th>visionscore</th>\n",
       "    </tr>\n",
       "    <tr>\n",
       "      <th>playername</th>\n",
       "      <th></th>\n",
       "      <th></th>\n",
       "      <th></th>\n",
       "      <th></th>\n",
       "      <th></th>\n",
       "      <th></th>\n",
       "    </tr>\n",
       "  </thead>\n",
       "  <tbody>\n",
       "    <tr>\n",
       "      <th>BeryL</th>\n",
       "      <td>0.384423</td>\n",
       "      <td>1.152002</td>\n",
       "      <td>0.470941</td>\n",
       "      <td>0.787772</td>\n",
       "      <td>0.245233</td>\n",
       "      <td>2.657437</td>\n",
       "    </tr>\n",
       "    <tr>\n",
       "      <th>Clear</th>\n",
       "      <td>2.681472</td>\n",
       "      <td>2.521164</td>\n",
       "      <td>1.834656</td>\n",
       "      <td>4.209993</td>\n",
       "      <td>3.267837</td>\n",
       "      <td>0.348101</td>\n",
       "    </tr>\n",
       "    <tr>\n",
       "      <th>Deft</th>\n",
       "      <td>2.104303</td>\n",
       "      <td>0.992412</td>\n",
       "      <td>2.691910</td>\n",
       "      <td>2.492095</td>\n",
       "      <td>3.965646</td>\n",
       "      <td>1.041930</td>\n",
       "    </tr>\n",
       "    <tr>\n",
       "      <th>Jun</th>\n",
       "      <td>0.460189</td>\n",
       "      <td>0.315424</td>\n",
       "      <td>0.365644</td>\n",
       "      <td>1.120944</td>\n",
       "      <td>0.070694</td>\n",
       "      <td>1.803797</td>\n",
       "    </tr>\n",
       "    <tr>\n",
       "      <th>Kingen</th>\n",
       "      <td>1.948548</td>\n",
       "      <td>2.288996</td>\n",
       "      <td>2.143282</td>\n",
       "      <td>4.065381</td>\n",
       "      <td>3.272257</td>\n",
       "      <td>0.690665</td>\n",
       "    </tr>\n",
       "    <tr>\n",
       "      <th>Peach</th>\n",
       "      <td>0.667710</td>\n",
       "      <td>2.659788</td>\n",
       "      <td>1.322110</td>\n",
       "      <td>1.857485</td>\n",
       "      <td>3.869152</td>\n",
       "      <td>1.044304</td>\n",
       "    </tr>\n",
       "    <tr>\n",
       "      <th>Pyosik</th>\n",
       "      <td>0.750299</td>\n",
       "      <td>3.083310</td>\n",
       "      <td>2.032222</td>\n",
       "      <td>2.411850</td>\n",
       "      <td>2.373365</td>\n",
       "      <td>1.218354</td>\n",
       "    </tr>\n",
       "    <tr>\n",
       "      <th>SeTab</th>\n",
       "      <td>3.168278</td>\n",
       "      <td>1.495182</td>\n",
       "      <td>2.672100</td>\n",
       "      <td>4.821165</td>\n",
       "      <td>3.605192</td>\n",
       "      <td>0.253165</td>\n",
       "    </tr>\n",
       "    <tr>\n",
       "      <th>Taeyoon</th>\n",
       "      <td>1.134702</td>\n",
       "      <td>1.754415</td>\n",
       "      <td>2.733219</td>\n",
       "      <td>2.363569</td>\n",
       "      <td>3.289485</td>\n",
       "      <td>0.443038</td>\n",
       "    </tr>\n",
       "    <tr>\n",
       "      <th>ZEKA</th>\n",
       "      <td>1.860949</td>\n",
       "      <td>1.564580</td>\n",
       "      <td>2.609077</td>\n",
       "      <td>4.289477</td>\n",
       "      <td>3.649967</td>\n",
       "      <td>0.773734</td>\n",
       "    </tr>\n",
       "  </tbody>\n",
       "</table>\n",
       "</div>"
      ],
      "text/plain": [
       "                 dpm  damagetakenperminute  goldat15    xpat15      cspm  \\\n",
       "playername                                                                 \n",
       "BeryL       0.384423              1.152002  0.470941  0.787772  0.245233   \n",
       "Clear       2.681472              2.521164  1.834656  4.209993  3.267837   \n",
       "Deft        2.104303              0.992412  2.691910  2.492095  3.965646   \n",
       "Jun         0.460189              0.315424  0.365644  1.120944  0.070694   \n",
       "Kingen      1.948548              2.288996  2.143282  4.065381  3.272257   \n",
       "Peach       0.667710              2.659788  1.322110  1.857485  3.869152   \n",
       "Pyosik      0.750299              3.083310  2.032222  2.411850  2.373365   \n",
       "SeTab       3.168278              1.495182  2.672100  4.821165  3.605192   \n",
       "Taeyoon     1.134702              1.754415  2.733219  2.363569  3.289485   \n",
       "ZEKA        1.860949              1.564580  2.609077  4.289477  3.649967   \n",
       "\n",
       "            visionscore  \n",
       "playername               \n",
       "BeryL          2.657437  \n",
       "Clear          0.348101  \n",
       "Deft           1.041930  \n",
       "Jun            1.803797  \n",
       "Kingen         0.690665  \n",
       "Peach          1.044304  \n",
       "Pyosik         1.218354  \n",
       "SeTab          0.253165  \n",
       "Taeyoon        0.443038  \n",
       "ZEKA           0.773734  "
      ]
     },
     "execution_count": 133,
     "metadata": {},
     "output_type": "execute_result"
    }
   ],
   "source": [
    "# drx_spring_po_score = lck_spring_po_drxplayer_score.groupby('playername')\\\n",
    "#     [['dpm','damagetakenperminute','goldat15','xpat15','cspm','visionscore']].mean()\n",
    "\n",
    "# drx_spring_po_score\n",
    "\n",
    "drx_spring_score = lck_spring_drxplayer_score.groupby('playername')\\\n",
    "    [['dpm','damagetakenperminute','goldat15','xpat15','cspm','visionscore']].mean()\n",
    "\n",
    "drx_spring_score"
   ]
  },
  {
   "cell_type": "code",
   "execution_count": 141,
   "metadata": {},
   "outputs": [
    {
     "data": {
      "text/plain": [
       "array([0.38442297, 1.15200197, 0.47094145, 0.78777194, 0.2452326 ,\n",
       "       2.65743671])"
      ]
     },
     "execution_count": 141,
     "metadata": {},
     "output_type": "execute_result"
    }
   ],
   "source": [
    "# drx_spring_po_score.loc['BeryL'].index\n",
    "# drx_spring_score.columns\n",
    "drx_spring_score.iloc[0].values"
   ]
  },
  {
   "cell_type": "code",
   "execution_count": 131,
   "metadata": {},
   "outputs": [
    {
     "data": {
      "text/html": [
       "<div>\n",
       "<style scoped>\n",
       "    .dataframe tbody tr th:only-of-type {\n",
       "        vertical-align: middle;\n",
       "    }\n",
       "\n",
       "    .dataframe tbody tr th {\n",
       "        vertical-align: top;\n",
       "    }\n",
       "\n",
       "    .dataframe thead th {\n",
       "        text-align: right;\n",
       "    }\n",
       "</style>\n",
       "<table border=\"1\" class=\"dataframe\">\n",
       "  <thead>\n",
       "    <tr style=\"text-align: right;\">\n",
       "      <th></th>\n",
       "      <th>dpm</th>\n",
       "      <th>damagetakenperminute</th>\n",
       "      <th>goldat15</th>\n",
       "      <th>xpat15</th>\n",
       "      <th>cspm</th>\n",
       "      <th>visionscore</th>\n",
       "    </tr>\n",
       "    <tr>\n",
       "      <th>playername</th>\n",
       "      <th></th>\n",
       "      <th></th>\n",
       "      <th></th>\n",
       "      <th></th>\n",
       "      <th></th>\n",
       "      <th></th>\n",
       "    </tr>\n",
       "  </thead>\n",
       "  <tbody>\n",
       "    <tr>\n",
       "      <th>BeryL</th>\n",
       "      <td>0.384423</td>\n",
       "      <td>1.152002</td>\n",
       "      <td>0.470941</td>\n",
       "      <td>0.787772</td>\n",
       "      <td>0.245233</td>\n",
       "      <td>2.657437</td>\n",
       "    </tr>\n",
       "    <tr>\n",
       "      <th>Clear</th>\n",
       "      <td>2.681472</td>\n",
       "      <td>2.521164</td>\n",
       "      <td>1.834656</td>\n",
       "      <td>4.209993</td>\n",
       "      <td>3.267837</td>\n",
       "      <td>0.348101</td>\n",
       "    </tr>\n",
       "    <tr>\n",
       "      <th>Deft</th>\n",
       "      <td>2.104303</td>\n",
       "      <td>0.992412</td>\n",
       "      <td>2.691910</td>\n",
       "      <td>2.492095</td>\n",
       "      <td>3.965646</td>\n",
       "      <td>1.041930</td>\n",
       "    </tr>\n",
       "    <tr>\n",
       "      <th>Jun</th>\n",
       "      <td>0.460189</td>\n",
       "      <td>0.315424</td>\n",
       "      <td>0.365644</td>\n",
       "      <td>1.120944</td>\n",
       "      <td>0.070694</td>\n",
       "      <td>1.803797</td>\n",
       "    </tr>\n",
       "    <tr>\n",
       "      <th>Kingen</th>\n",
       "      <td>1.948548</td>\n",
       "      <td>2.288996</td>\n",
       "      <td>2.143282</td>\n",
       "      <td>4.065381</td>\n",
       "      <td>3.272257</td>\n",
       "      <td>0.690665</td>\n",
       "    </tr>\n",
       "    <tr>\n",
       "      <th>Peach</th>\n",
       "      <td>0.667710</td>\n",
       "      <td>2.659788</td>\n",
       "      <td>1.322110</td>\n",
       "      <td>1.857485</td>\n",
       "      <td>3.869152</td>\n",
       "      <td>1.044304</td>\n",
       "    </tr>\n",
       "    <tr>\n",
       "      <th>Pyosik</th>\n",
       "      <td>0.750299</td>\n",
       "      <td>3.083310</td>\n",
       "      <td>2.032222</td>\n",
       "      <td>2.411850</td>\n",
       "      <td>2.373365</td>\n",
       "      <td>1.218354</td>\n",
       "    </tr>\n",
       "    <tr>\n",
       "      <th>SeTab</th>\n",
       "      <td>3.168278</td>\n",
       "      <td>1.495182</td>\n",
       "      <td>2.672100</td>\n",
       "      <td>4.821165</td>\n",
       "      <td>3.605192</td>\n",
       "      <td>0.253165</td>\n",
       "    </tr>\n",
       "    <tr>\n",
       "      <th>Taeyoon</th>\n",
       "      <td>1.134702</td>\n",
       "      <td>1.754415</td>\n",
       "      <td>2.733219</td>\n",
       "      <td>2.363569</td>\n",
       "      <td>3.289485</td>\n",
       "      <td>0.443038</td>\n",
       "    </tr>\n",
       "    <tr>\n",
       "      <th>ZEKA</th>\n",
       "      <td>1.860949</td>\n",
       "      <td>1.564580</td>\n",
       "      <td>2.609077</td>\n",
       "      <td>4.289477</td>\n",
       "      <td>3.649967</td>\n",
       "      <td>0.773734</td>\n",
       "    </tr>\n",
       "  </tbody>\n",
       "</table>\n",
       "</div>"
      ],
      "text/plain": [
       "                 dpm  damagetakenperminute  goldat15    xpat15      cspm  \\\n",
       "playername                                                                 \n",
       "BeryL       0.384423              1.152002  0.470941  0.787772  0.245233   \n",
       "Clear       2.681472              2.521164  1.834656  4.209993  3.267837   \n",
       "Deft        2.104303              0.992412  2.691910  2.492095  3.965646   \n",
       "Jun         0.460189              0.315424  0.365644  1.120944  0.070694   \n",
       "Kingen      1.948548              2.288996  2.143282  4.065381  3.272257   \n",
       "Peach       0.667710              2.659788  1.322110  1.857485  3.869152   \n",
       "Pyosik      0.750299              3.083310  2.032222  2.411850  2.373365   \n",
       "SeTab       3.168278              1.495182  2.672100  4.821165  3.605192   \n",
       "Taeyoon     1.134702              1.754415  2.733219  2.363569  3.289485   \n",
       "ZEKA        1.860949              1.564580  2.609077  4.289477  3.649967   \n",
       "\n",
       "            visionscore  \n",
       "playername               \n",
       "BeryL          2.657437  \n",
       "Clear          0.348101  \n",
       "Deft           1.041930  \n",
       "Jun            1.803797  \n",
       "Kingen         0.690665  \n",
       "Peach          1.044304  \n",
       "Pyosik         1.218354  \n",
       "SeTab          0.253165  \n",
       "Taeyoon        0.443038  \n",
       "ZEKA           0.773734  "
      ]
     },
     "execution_count": 131,
     "metadata": {},
     "output_type": "execute_result"
    }
   ],
   "source": [
    "drx_spring_score"
   ]
  },
  {
   "cell_type": "code",
   "execution_count": 143,
   "metadata": {},
   "outputs": [
    {
     "data": {
      "text/plain": [
       "Index(['dpm', 'damagetakenperminute', 'goldat15', 'xpat15', 'cspm',\n",
       "       'visionscore'],\n",
       "      dtype='object')"
      ]
     },
     "execution_count": 143,
     "metadata": {},
     "output_type": "execute_result"
    }
   ],
   "source": [
    "drx_spring_score.columns"
   ]
  },
  {
   "cell_type": "code",
   "execution_count": 160,
   "metadata": {},
   "outputs": [
    {
     "data": {
      "text/plain": [
       "[Index(['dpm', 'damagetakenperminute', 'goldat15', 'xpat15', 'cspm',\n",
       "        'visionscore'],\n",
       "       dtype='object'),\n",
       " Index(['dpm', 'damagetakenperminute', 'goldat15', 'xpat15', 'cspm',\n",
       "        'visionscore'],\n",
       "       dtype='object'),\n",
       " Index(['dpm', 'damagetakenperminute', 'goldat15', 'xpat15', 'cspm',\n",
       "        'visionscore'],\n",
       "       dtype='object'),\n",
       " Index(['dpm', 'damagetakenperminute', 'goldat15', 'xpat15', 'cspm',\n",
       "        'visionscore'],\n",
       "       dtype='object'),\n",
       " Index(['dpm', 'damagetakenperminute', 'goldat15', 'xpat15', 'cspm',\n",
       "        'visionscore'],\n",
       "       dtype='object')]"
      ]
     },
     "execution_count": 160,
     "metadata": {},
     "output_type": "execute_result"
    }
   ],
   "source": [
    "[drx_spring_score.columns] * 5"
   ]
  },
  {
   "cell_type": "code",
   "execution_count": 151,
   "metadata": {},
   "outputs": [
    {
     "data": {
      "text/plain": [
       "['BeryL', 'BeryL', 'BeryL', 'BeryL', 'BeryL', 'BeryL']"
      ]
     },
     "execution_count": 151,
     "metadata": {},
     "output_type": "execute_result"
    }
   ],
   "source": [
    "[drx_spring_score.index[0]] * 6"
   ]
  },
  {
   "cell_type": "code",
   "execution_count": 163,
   "metadata": {},
   "outputs": [
    {
     "data": {
      "text/html": [
       "<div>\n",
       "<style scoped>\n",
       "    .dataframe tbody tr th:only-of-type {\n",
       "        vertical-align: middle;\n",
       "    }\n",
       "\n",
       "    .dataframe tbody tr th {\n",
       "        vertical-align: top;\n",
       "    }\n",
       "\n",
       "    .dataframe thead th {\n",
       "        text-align: right;\n",
       "    }\n",
       "</style>\n",
       "<table border=\"1\" class=\"dataframe\">\n",
       "  <thead>\n",
       "    <tr style=\"text-align: right;\">\n",
       "      <th></th>\n",
       "      <th>direction</th>\n",
       "      <th>player</th>\n",
       "      <th>stats</th>\n",
       "    </tr>\n",
       "  </thead>\n",
       "  <tbody>\n",
       "    <tr>\n",
       "      <th>0</th>\n",
       "      <td>dpm</td>\n",
       "      <td>BeryL</td>\n",
       "      <td>0.384423</td>\n",
       "    </tr>\n",
       "    <tr>\n",
       "      <th>1</th>\n",
       "      <td>damagetakenperminute</td>\n",
       "      <td>BeryL</td>\n",
       "      <td>1.152002</td>\n",
       "    </tr>\n",
       "    <tr>\n",
       "      <th>2</th>\n",
       "      <td>goldat15</td>\n",
       "      <td>BeryL</td>\n",
       "      <td>0.470941</td>\n",
       "    </tr>\n",
       "    <tr>\n",
       "      <th>3</th>\n",
       "      <td>xpat15</td>\n",
       "      <td>BeryL</td>\n",
       "      <td>0.787772</td>\n",
       "    </tr>\n",
       "    <tr>\n",
       "      <th>4</th>\n",
       "      <td>cspm</td>\n",
       "      <td>BeryL</td>\n",
       "      <td>0.245233</td>\n",
       "    </tr>\n",
       "    <tr>\n",
       "      <th>5</th>\n",
       "      <td>visionscore</td>\n",
       "      <td>BeryL</td>\n",
       "      <td>2.657437</td>\n",
       "    </tr>\n",
       "    <tr>\n",
       "      <th>0</th>\n",
       "      <td>dpm</td>\n",
       "      <td>Deft</td>\n",
       "      <td>2.104303</td>\n",
       "    </tr>\n",
       "    <tr>\n",
       "      <th>1</th>\n",
       "      <td>damagetakenperminute</td>\n",
       "      <td>Deft</td>\n",
       "      <td>0.992412</td>\n",
       "    </tr>\n",
       "    <tr>\n",
       "      <th>2</th>\n",
       "      <td>goldat15</td>\n",
       "      <td>Deft</td>\n",
       "      <td>2.691910</td>\n",
       "    </tr>\n",
       "    <tr>\n",
       "      <th>3</th>\n",
       "      <td>xpat15</td>\n",
       "      <td>Deft</td>\n",
       "      <td>2.492095</td>\n",
       "    </tr>\n",
       "    <tr>\n",
       "      <th>4</th>\n",
       "      <td>cspm</td>\n",
       "      <td>Deft</td>\n",
       "      <td>3.965646</td>\n",
       "    </tr>\n",
       "    <tr>\n",
       "      <th>5</th>\n",
       "      <td>visionscore</td>\n",
       "      <td>Deft</td>\n",
       "      <td>1.041930</td>\n",
       "    </tr>\n",
       "    <tr>\n",
       "      <th>0</th>\n",
       "      <td>dpm</td>\n",
       "      <td>Kingen</td>\n",
       "      <td>1.948548</td>\n",
       "    </tr>\n",
       "    <tr>\n",
       "      <th>1</th>\n",
       "      <td>damagetakenperminute</td>\n",
       "      <td>Kingen</td>\n",
       "      <td>2.288996</td>\n",
       "    </tr>\n",
       "    <tr>\n",
       "      <th>2</th>\n",
       "      <td>goldat15</td>\n",
       "      <td>Kingen</td>\n",
       "      <td>2.143282</td>\n",
       "    </tr>\n",
       "    <tr>\n",
       "      <th>3</th>\n",
       "      <td>xpat15</td>\n",
       "      <td>Kingen</td>\n",
       "      <td>4.065381</td>\n",
       "    </tr>\n",
       "    <tr>\n",
       "      <th>4</th>\n",
       "      <td>cspm</td>\n",
       "      <td>Kingen</td>\n",
       "      <td>3.272257</td>\n",
       "    </tr>\n",
       "    <tr>\n",
       "      <th>5</th>\n",
       "      <td>visionscore</td>\n",
       "      <td>Kingen</td>\n",
       "      <td>0.690665</td>\n",
       "    </tr>\n",
       "    <tr>\n",
       "      <th>0</th>\n",
       "      <td>dpm</td>\n",
       "      <td>Pyosik</td>\n",
       "      <td>0.750299</td>\n",
       "    </tr>\n",
       "    <tr>\n",
       "      <th>1</th>\n",
       "      <td>damagetakenperminute</td>\n",
       "      <td>Pyosik</td>\n",
       "      <td>3.083310</td>\n",
       "    </tr>\n",
       "    <tr>\n",
       "      <th>2</th>\n",
       "      <td>goldat15</td>\n",
       "      <td>Pyosik</td>\n",
       "      <td>2.032222</td>\n",
       "    </tr>\n",
       "    <tr>\n",
       "      <th>3</th>\n",
       "      <td>xpat15</td>\n",
       "      <td>Pyosik</td>\n",
       "      <td>2.411850</td>\n",
       "    </tr>\n",
       "    <tr>\n",
       "      <th>4</th>\n",
       "      <td>cspm</td>\n",
       "      <td>Pyosik</td>\n",
       "      <td>2.373365</td>\n",
       "    </tr>\n",
       "    <tr>\n",
       "      <th>5</th>\n",
       "      <td>visionscore</td>\n",
       "      <td>Pyosik</td>\n",
       "      <td>1.218354</td>\n",
       "    </tr>\n",
       "    <tr>\n",
       "      <th>0</th>\n",
       "      <td>dpm</td>\n",
       "      <td>ZEKA</td>\n",
       "      <td>1.860949</td>\n",
       "    </tr>\n",
       "    <tr>\n",
       "      <th>1</th>\n",
       "      <td>damagetakenperminute</td>\n",
       "      <td>ZEKA</td>\n",
       "      <td>1.564580</td>\n",
       "    </tr>\n",
       "    <tr>\n",
       "      <th>2</th>\n",
       "      <td>goldat15</td>\n",
       "      <td>ZEKA</td>\n",
       "      <td>2.609077</td>\n",
       "    </tr>\n",
       "    <tr>\n",
       "      <th>3</th>\n",
       "      <td>xpat15</td>\n",
       "      <td>ZEKA</td>\n",
       "      <td>4.289477</td>\n",
       "    </tr>\n",
       "    <tr>\n",
       "      <th>4</th>\n",
       "      <td>cspm</td>\n",
       "      <td>ZEKA</td>\n",
       "      <td>3.649967</td>\n",
       "    </tr>\n",
       "    <tr>\n",
       "      <th>5</th>\n",
       "      <td>visionscore</td>\n",
       "      <td>ZEKA</td>\n",
       "      <td>0.773734</td>\n",
       "    </tr>\n",
       "  </tbody>\n",
       "</table>\n",
       "</div>"
      ],
      "text/plain": [
       "              direction  player     stats\n",
       "0                   dpm   BeryL  0.384423\n",
       "1  damagetakenperminute   BeryL  1.152002\n",
       "2              goldat15   BeryL  0.470941\n",
       "3                xpat15   BeryL  0.787772\n",
       "4                  cspm   BeryL  0.245233\n",
       "5           visionscore   BeryL  2.657437\n",
       "0                   dpm    Deft  2.104303\n",
       "1  damagetakenperminute    Deft  0.992412\n",
       "2              goldat15    Deft  2.691910\n",
       "3                xpat15    Deft  2.492095\n",
       "4                  cspm    Deft  3.965646\n",
       "5           visionscore    Deft  1.041930\n",
       "0                   dpm  Kingen  1.948548\n",
       "1  damagetakenperminute  Kingen  2.288996\n",
       "2              goldat15  Kingen  2.143282\n",
       "3                xpat15  Kingen  4.065381\n",
       "4                  cspm  Kingen  3.272257\n",
       "5           visionscore  Kingen  0.690665\n",
       "0                   dpm  Pyosik  0.750299\n",
       "1  damagetakenperminute  Pyosik  3.083310\n",
       "2              goldat15  Pyosik  2.032222\n",
       "3                xpat15  Pyosik  2.411850\n",
       "4                  cspm  Pyosik  2.373365\n",
       "5           visionscore  Pyosik  1.218354\n",
       "0                   dpm    ZEKA  1.860949\n",
       "1  damagetakenperminute    ZEKA  1.564580\n",
       "2              goldat15    ZEKA  2.609077\n",
       "3                xpat15    ZEKA  4.289477\n",
       "4                  cspm    ZEKA  3.649967\n",
       "5           visionscore    ZEKA  0.773734"
      ]
     },
     "execution_count": 163,
     "metadata": {},
     "output_type": "execute_result"
    }
   ],
   "source": [
    "drx_spring_score_df1 = pd.DataFrame( { \"direction\" : drx_spring_score.columns ,\n",
    "\"player\" : [drx_spring_score.index[0]] * 6 ,\n",
    "\"stats\" : drx_spring_score.iloc[0].values }\n",
    ")\n",
    "\n",
    "drx_spring_score_df2 = pd.DataFrame( { \"direction\" : drx_spring_score.columns ,\n",
    "\"player\" : [drx_spring_score.index[2]] * 6 ,\n",
    "\"stats\" : drx_spring_score.iloc[2].values }\n",
    ")\n",
    "\n",
    "drx_spring_score_df3 = pd.DataFrame( { \"direction\" : drx_spring_score.columns ,\n",
    "\"player\" : [drx_spring_score.index[4]] * 6 ,\n",
    "\"stats\" : drx_spring_score.iloc[4].values }\n",
    ")\n",
    "\n",
    "drx_spring_score_df4 = pd.DataFrame( { \"direction\" : drx_spring_score.columns ,\n",
    "\"player\" : [drx_spring_score.index[6]] * 6 ,\n",
    "\"stats\" : drx_spring_score.iloc[6].values }\n",
    ")\n",
    "\n",
    "drx_spring_score_df5 = pd.DataFrame( { \"direction\" : drx_spring_score.columns ,\n",
    "\"player\" : [drx_spring_score.index[9]] * 6 ,\n",
    "\"stats\" : drx_spring_score.iloc[9].values }\n",
    ")\n",
    "\n",
    "\n",
    "drx_spring_score_df = pd.concat( [drx_spring_score_df1,drx_spring_score_df2,drx_spring_score_df3,drx_spring_score_df4,drx_spring_score_df5]\\\n",
    "    ,axis=0)\n",
    "\n",
    "drx_spring_score_df"
   ]
  },
  {
   "cell_type": "code",
   "execution_count": 173,
   "metadata": {},
   "outputs": [
    {
     "data": {
      "application/vnd.plotly.v1+json": {
       "config": {
        "plotlyServerURL": "https://plotly.com"
       },
       "data": [
        {
         "hovertemplate": "player=BeryL<br>stats=%{r}<br>direction=%{theta}<extra></extra>",
         "legendgroup": "BeryL",
         "line": {
          "color": "#636efa",
          "dash": "solid"
         },
         "marker": {
          "symbol": "circle"
         },
         "mode": "lines",
         "name": "BeryL",
         "r": [
          0.3844229681271324,
          1.1520019686652754,
          0.4709414539995711,
          0.7877719395280234,
          0.2452325986584197,
          2.65743670886076,
          0.3844229681271324
         ],
         "showlegend": true,
         "subplot": "polar",
         "theta": [
          "dpm",
          "damagetakenperminute",
          "goldat15",
          "xpat15",
          "cspm",
          "visionscore",
          "dpm"
         ],
         "type": "scatterpolar"
        },
        {
         "hovertemplate": "player=Deft<br>stats=%{r}<br>direction=%{theta}<extra></extra>",
         "legendgroup": "Deft",
         "line": {
          "color": "#EF553B",
          "dash": "solid"
         },
         "marker": {
          "symbol": "circle"
         },
         "mode": "lines",
         "name": "Deft",
         "r": [
          2.1043033813095375,
          0.9924116240583709,
          2.6919097147758952,
          2.4920953171091442,
          3.965645962191828,
          1.0419303797468356,
          2.1043033813095375
         ],
         "showlegend": true,
         "subplot": "polar",
         "theta": [
          "dpm",
          "damagetakenperminute",
          "goldat15",
          "xpat15",
          "cspm",
          "visionscore",
          "dpm"
         ],
         "type": "scatterpolar"
        },
        {
         "hovertemplate": "player=Kingen<br>stats=%{r}<br>direction=%{theta}<extra></extra>",
         "legendgroup": "Kingen",
         "line": {
          "color": "#00cc96",
          "dash": "solid"
         },
         "marker": {
          "symbol": "circle"
         },
         "mode": "lines",
         "name": "Kingen",
         "r": [
          1.9485475165303676,
          2.2889964551386366,
          2.143282221745657,
          4.0653807153392325,
          3.272256947469292,
          0.6906645569620253,
          1.9485475165303676
         ],
         "showlegend": true,
         "subplot": "polar",
         "theta": [
          "dpm",
          "damagetakenperminute",
          "goldat15",
          "xpat15",
          "cspm",
          "visionscore",
          "dpm"
         ],
         "type": "scatterpolar"
        },
        {
         "hovertemplate": "player=Pyosik<br>stats=%{r}<br>direction=%{theta}<extra></extra>",
         "legendgroup": "Pyosik",
         "line": {
          "color": "#ab63fa",
          "dash": "solid"
         },
         "marker": {
          "symbol": "circle"
         },
         "mode": "lines",
         "name": "Pyosik",
         "r": [
          0.7502987813873074,
          3.0833104177541992,
          2.032221745657302,
          2.411850110619469,
          2.373365493509888,
          1.2183544303797469,
          0.7502987813873074
         ],
         "showlegend": true,
         "subplot": "polar",
         "theta": [
          "dpm",
          "damagetakenperminute",
          "goldat15",
          "xpat15",
          "cspm",
          "visionscore",
          "dpm"
         ],
         "type": "scatterpolar"
        },
        {
         "hovertemplate": "player=ZEKA<br>stats=%{r}<br>direction=%{theta}<extra></extra>",
         "legendgroup": "ZEKA",
         "line": {
          "color": "#FFA15A",
          "dash": "solid"
         },
         "marker": {
          "symbol": "circle"
         },
         "mode": "lines",
         "name": "ZEKA",
         "r": [
          1.8609492296737193,
          1.5645804505343288,
          2.6090767746086208,
          4.28947732300885,
          3.6499673316490986,
          0.7737341772151899,
          1.8609492296737193
         ],
         "showlegend": true,
         "subplot": "polar",
         "theta": [
          "dpm",
          "damagetakenperminute",
          "goldat15",
          "xpat15",
          "cspm",
          "visionscore",
          "dpm"
         ],
         "type": "scatterpolar"
        }
       ],
       "layout": {
        "legend": {
         "title": {
          "text": "player"
         },
         "tracegroupgap": 0
        },
        "margin": {
         "t": 60
        },
        "polar": {
         "angularaxis": {
          "direction": "clockwise",
          "rotation": 90
         },
         "domain": {
          "x": [
           0,
           1
          ],
          "y": [
           0,
           1
          ]
         },
         "radialaxis": {
          "range": [
           0,
           5
          ]
         }
        },
        "template": {
         "data": {
          "bar": [
           {
            "error_x": {
             "color": "#2a3f5f"
            },
            "error_y": {
             "color": "#2a3f5f"
            },
            "marker": {
             "line": {
              "color": "#E5ECF6",
              "width": 0.5
             },
             "pattern": {
              "fillmode": "overlay",
              "size": 10,
              "solidity": 0.2
             }
            },
            "type": "bar"
           }
          ],
          "barpolar": [
           {
            "marker": {
             "line": {
              "color": "#E5ECF6",
              "width": 0.5
             },
             "pattern": {
              "fillmode": "overlay",
              "size": 10,
              "solidity": 0.2
             }
            },
            "type": "barpolar"
           }
          ],
          "carpet": [
           {
            "aaxis": {
             "endlinecolor": "#2a3f5f",
             "gridcolor": "white",
             "linecolor": "white",
             "minorgridcolor": "white",
             "startlinecolor": "#2a3f5f"
            },
            "baxis": {
             "endlinecolor": "#2a3f5f",
             "gridcolor": "white",
             "linecolor": "white",
             "minorgridcolor": "white",
             "startlinecolor": "#2a3f5f"
            },
            "type": "carpet"
           }
          ],
          "choropleth": [
           {
            "colorbar": {
             "outlinewidth": 0,
             "ticks": ""
            },
            "type": "choropleth"
           }
          ],
          "contour": [
           {
            "colorbar": {
             "outlinewidth": 0,
             "ticks": ""
            },
            "colorscale": [
             [
              0,
              "#0d0887"
             ],
             [
              0.1111111111111111,
              "#46039f"
             ],
             [
              0.2222222222222222,
              "#7201a8"
             ],
             [
              0.3333333333333333,
              "#9c179e"
             ],
             [
              0.4444444444444444,
              "#bd3786"
             ],
             [
              0.5555555555555556,
              "#d8576b"
             ],
             [
              0.6666666666666666,
              "#ed7953"
             ],
             [
              0.7777777777777778,
              "#fb9f3a"
             ],
             [
              0.8888888888888888,
              "#fdca26"
             ],
             [
              1,
              "#f0f921"
             ]
            ],
            "type": "contour"
           }
          ],
          "contourcarpet": [
           {
            "colorbar": {
             "outlinewidth": 0,
             "ticks": ""
            },
            "type": "contourcarpet"
           }
          ],
          "heatmap": [
           {
            "colorbar": {
             "outlinewidth": 0,
             "ticks": ""
            },
            "colorscale": [
             [
              0,
              "#0d0887"
             ],
             [
              0.1111111111111111,
              "#46039f"
             ],
             [
              0.2222222222222222,
              "#7201a8"
             ],
             [
              0.3333333333333333,
              "#9c179e"
             ],
             [
              0.4444444444444444,
              "#bd3786"
             ],
             [
              0.5555555555555556,
              "#d8576b"
             ],
             [
              0.6666666666666666,
              "#ed7953"
             ],
             [
              0.7777777777777778,
              "#fb9f3a"
             ],
             [
              0.8888888888888888,
              "#fdca26"
             ],
             [
              1,
              "#f0f921"
             ]
            ],
            "type": "heatmap"
           }
          ],
          "heatmapgl": [
           {
            "colorbar": {
             "outlinewidth": 0,
             "ticks": ""
            },
            "colorscale": [
             [
              0,
              "#0d0887"
             ],
             [
              0.1111111111111111,
              "#46039f"
             ],
             [
              0.2222222222222222,
              "#7201a8"
             ],
             [
              0.3333333333333333,
              "#9c179e"
             ],
             [
              0.4444444444444444,
              "#bd3786"
             ],
             [
              0.5555555555555556,
              "#d8576b"
             ],
             [
              0.6666666666666666,
              "#ed7953"
             ],
             [
              0.7777777777777778,
              "#fb9f3a"
             ],
             [
              0.8888888888888888,
              "#fdca26"
             ],
             [
              1,
              "#f0f921"
             ]
            ],
            "type": "heatmapgl"
           }
          ],
          "histogram": [
           {
            "marker": {
             "pattern": {
              "fillmode": "overlay",
              "size": 10,
              "solidity": 0.2
             }
            },
            "type": "histogram"
           }
          ],
          "histogram2d": [
           {
            "colorbar": {
             "outlinewidth": 0,
             "ticks": ""
            },
            "colorscale": [
             [
              0,
              "#0d0887"
             ],
             [
              0.1111111111111111,
              "#46039f"
             ],
             [
              0.2222222222222222,
              "#7201a8"
             ],
             [
              0.3333333333333333,
              "#9c179e"
             ],
             [
              0.4444444444444444,
              "#bd3786"
             ],
             [
              0.5555555555555556,
              "#d8576b"
             ],
             [
              0.6666666666666666,
              "#ed7953"
             ],
             [
              0.7777777777777778,
              "#fb9f3a"
             ],
             [
              0.8888888888888888,
              "#fdca26"
             ],
             [
              1,
              "#f0f921"
             ]
            ],
            "type": "histogram2d"
           }
          ],
          "histogram2dcontour": [
           {
            "colorbar": {
             "outlinewidth": 0,
             "ticks": ""
            },
            "colorscale": [
             [
              0,
              "#0d0887"
             ],
             [
              0.1111111111111111,
              "#46039f"
             ],
             [
              0.2222222222222222,
              "#7201a8"
             ],
             [
              0.3333333333333333,
              "#9c179e"
             ],
             [
              0.4444444444444444,
              "#bd3786"
             ],
             [
              0.5555555555555556,
              "#d8576b"
             ],
             [
              0.6666666666666666,
              "#ed7953"
             ],
             [
              0.7777777777777778,
              "#fb9f3a"
             ],
             [
              0.8888888888888888,
              "#fdca26"
             ],
             [
              1,
              "#f0f921"
             ]
            ],
            "type": "histogram2dcontour"
           }
          ],
          "mesh3d": [
           {
            "colorbar": {
             "outlinewidth": 0,
             "ticks": ""
            },
            "type": "mesh3d"
           }
          ],
          "parcoords": [
           {
            "line": {
             "colorbar": {
              "outlinewidth": 0,
              "ticks": ""
             }
            },
            "type": "parcoords"
           }
          ],
          "pie": [
           {
            "automargin": true,
            "type": "pie"
           }
          ],
          "scatter": [
           {
            "fillpattern": {
             "fillmode": "overlay",
             "size": 10,
             "solidity": 0.2
            },
            "type": "scatter"
           }
          ],
          "scatter3d": [
           {
            "line": {
             "colorbar": {
              "outlinewidth": 0,
              "ticks": ""
             }
            },
            "marker": {
             "colorbar": {
              "outlinewidth": 0,
              "ticks": ""
             }
            },
            "type": "scatter3d"
           }
          ],
          "scattercarpet": [
           {
            "marker": {
             "colorbar": {
              "outlinewidth": 0,
              "ticks": ""
             }
            },
            "type": "scattercarpet"
           }
          ],
          "scattergeo": [
           {
            "marker": {
             "colorbar": {
              "outlinewidth": 0,
              "ticks": ""
             }
            },
            "type": "scattergeo"
           }
          ],
          "scattergl": [
           {
            "marker": {
             "colorbar": {
              "outlinewidth": 0,
              "ticks": ""
             }
            },
            "type": "scattergl"
           }
          ],
          "scattermapbox": [
           {
            "marker": {
             "colorbar": {
              "outlinewidth": 0,
              "ticks": ""
             }
            },
            "type": "scattermapbox"
           }
          ],
          "scatterpolar": [
           {
            "marker": {
             "colorbar": {
              "outlinewidth": 0,
              "ticks": ""
             }
            },
            "type": "scatterpolar"
           }
          ],
          "scatterpolargl": [
           {
            "marker": {
             "colorbar": {
              "outlinewidth": 0,
              "ticks": ""
             }
            },
            "type": "scatterpolargl"
           }
          ],
          "scatterternary": [
           {
            "marker": {
             "colorbar": {
              "outlinewidth": 0,
              "ticks": ""
             }
            },
            "type": "scatterternary"
           }
          ],
          "surface": [
           {
            "colorbar": {
             "outlinewidth": 0,
             "ticks": ""
            },
            "colorscale": [
             [
              0,
              "#0d0887"
             ],
             [
              0.1111111111111111,
              "#46039f"
             ],
             [
              0.2222222222222222,
              "#7201a8"
             ],
             [
              0.3333333333333333,
              "#9c179e"
             ],
             [
              0.4444444444444444,
              "#bd3786"
             ],
             [
              0.5555555555555556,
              "#d8576b"
             ],
             [
              0.6666666666666666,
              "#ed7953"
             ],
             [
              0.7777777777777778,
              "#fb9f3a"
             ],
             [
              0.8888888888888888,
              "#fdca26"
             ],
             [
              1,
              "#f0f921"
             ]
            ],
            "type": "surface"
           }
          ],
          "table": [
           {
            "cells": {
             "fill": {
              "color": "#EBF0F8"
             },
             "line": {
              "color": "white"
             }
            },
            "header": {
             "fill": {
              "color": "#C8D4E3"
             },
             "line": {
              "color": "white"
             }
            },
            "type": "table"
           }
          ]
         },
         "layout": {
          "annotationdefaults": {
           "arrowcolor": "#2a3f5f",
           "arrowhead": 0,
           "arrowwidth": 1
          },
          "autotypenumbers": "strict",
          "coloraxis": {
           "colorbar": {
            "outlinewidth": 0,
            "ticks": ""
           }
          },
          "colorscale": {
           "diverging": [
            [
             0,
             "#8e0152"
            ],
            [
             0.1,
             "#c51b7d"
            ],
            [
             0.2,
             "#de77ae"
            ],
            [
             0.3,
             "#f1b6da"
            ],
            [
             0.4,
             "#fde0ef"
            ],
            [
             0.5,
             "#f7f7f7"
            ],
            [
             0.6,
             "#e6f5d0"
            ],
            [
             0.7,
             "#b8e186"
            ],
            [
             0.8,
             "#7fbc41"
            ],
            [
             0.9,
             "#4d9221"
            ],
            [
             1,
             "#276419"
            ]
           ],
           "sequential": [
            [
             0,
             "#0d0887"
            ],
            [
             0.1111111111111111,
             "#46039f"
            ],
            [
             0.2222222222222222,
             "#7201a8"
            ],
            [
             0.3333333333333333,
             "#9c179e"
            ],
            [
             0.4444444444444444,
             "#bd3786"
            ],
            [
             0.5555555555555556,
             "#d8576b"
            ],
            [
             0.6666666666666666,
             "#ed7953"
            ],
            [
             0.7777777777777778,
             "#fb9f3a"
            ],
            [
             0.8888888888888888,
             "#fdca26"
            ],
            [
             1,
             "#f0f921"
            ]
           ],
           "sequentialminus": [
            [
             0,
             "#0d0887"
            ],
            [
             0.1111111111111111,
             "#46039f"
            ],
            [
             0.2222222222222222,
             "#7201a8"
            ],
            [
             0.3333333333333333,
             "#9c179e"
            ],
            [
             0.4444444444444444,
             "#bd3786"
            ],
            [
             0.5555555555555556,
             "#d8576b"
            ],
            [
             0.6666666666666666,
             "#ed7953"
            ],
            [
             0.7777777777777778,
             "#fb9f3a"
            ],
            [
             0.8888888888888888,
             "#fdca26"
            ],
            [
             1,
             "#f0f921"
            ]
           ]
          },
          "colorway": [
           "#636efa",
           "#EF553B",
           "#00cc96",
           "#ab63fa",
           "#FFA15A",
           "#19d3f3",
           "#FF6692",
           "#B6E880",
           "#FF97FF",
           "#FECB52"
          ],
          "font": {
           "color": "#2a3f5f"
          },
          "geo": {
           "bgcolor": "white",
           "lakecolor": "white",
           "landcolor": "#E5ECF6",
           "showlakes": true,
           "showland": true,
           "subunitcolor": "white"
          },
          "hoverlabel": {
           "align": "left"
          },
          "hovermode": "closest",
          "mapbox": {
           "style": "light"
          },
          "paper_bgcolor": "white",
          "plot_bgcolor": "#E5ECF6",
          "polar": {
           "angularaxis": {
            "gridcolor": "white",
            "linecolor": "white",
            "ticks": ""
           },
           "bgcolor": "#E5ECF6",
           "radialaxis": {
            "gridcolor": "white",
            "linecolor": "white",
            "ticks": ""
           }
          },
          "scene": {
           "xaxis": {
            "backgroundcolor": "#E5ECF6",
            "gridcolor": "white",
            "gridwidth": 2,
            "linecolor": "white",
            "showbackground": true,
            "ticks": "",
            "zerolinecolor": "white"
           },
           "yaxis": {
            "backgroundcolor": "#E5ECF6",
            "gridcolor": "white",
            "gridwidth": 2,
            "linecolor": "white",
            "showbackground": true,
            "ticks": "",
            "zerolinecolor": "white"
           },
           "zaxis": {
            "backgroundcolor": "#E5ECF6",
            "gridcolor": "white",
            "gridwidth": 2,
            "linecolor": "white",
            "showbackground": true,
            "ticks": "",
            "zerolinecolor": "white"
           }
          },
          "shapedefaults": {
           "line": {
            "color": "#2a3f5f"
           }
          },
          "ternary": {
           "aaxis": {
            "gridcolor": "white",
            "linecolor": "white",
            "ticks": ""
           },
           "baxis": {
            "gridcolor": "white",
            "linecolor": "white",
            "ticks": ""
           },
           "bgcolor": "#E5ECF6",
           "caxis": {
            "gridcolor": "white",
            "linecolor": "white",
            "ticks": ""
           }
          },
          "title": {
           "x": 0.05
          },
          "xaxis": {
           "automargin": true,
           "gridcolor": "white",
           "linecolor": "white",
           "ticks": "",
           "title": {
            "standoff": 15
           },
           "zerolinecolor": "white",
           "zerolinewidth": 2
          },
          "yaxis": {
           "automargin": true,
           "gridcolor": "white",
           "linecolor": "white",
           "ticks": "",
           "title": {
            "standoff": 15
           },
           "zerolinecolor": "white",
           "zerolinewidth": 2
          }
         }
        },
        "width": 800
       }
      }
     },
     "metadata": {},
     "output_type": "display_data"
    }
   ],
   "source": [
    "import plotly.express as px\n",
    "\n",
    "fig = px.line_polar(drx_spring_score_df , r='stats' , theta='direction', color='player', line_close=True, range_r=(0,5) ,width = 800)\n",
    "\n",
    "fig.show()"
   ]
  },
  {
   "cell_type": "code",
   "execution_count": 172,
   "metadata": {},
   "outputs": [],
   "source": [
    "import chart_studio.tools\n",
    "\n",
    "username = 'damidaa'  # 자신의 username (plotly account를 만들어야 함)\n",
    "api_key = 'OuvIp3oI14tS4Sthfgrv'    # 자신의 api key (settings > regenerate key)\n",
    "  \n",
    "chart_studio.tools.set_credentials_file(username=username, api_key=api_key)"
   ]
  },
  {
   "cell_type": "code",
   "execution_count": 174,
   "metadata": {},
   "outputs": [
    {
     "data": {
      "text/plain": [
       "'https://plotly.com/~damidaa/1/'"
      ]
     },
     "execution_count": 174,
     "metadata": {},
     "output_type": "execute_result"
    }
   ],
   "source": [
    "chart_studio.plotly.plot(fig, filename = 'example1', auto_open=True)  # fig: 작성한 차트를 저장한 변수\n",
    "  ## 위 코드를 실행하면 새로운 window로 해당 차트의 링크가 열리고, notebook에도 link를 아래에 return해줌"
   ]
  },
  {
   "cell_type": "markdown",
   "metadata": {},
   "source": [
    "---"
   ]
  },
  {
   "cell_type": "markdown",
   "metadata": {},
   "source": [
    "### lck리그\n",
    "#### split 별 분류\n",
    "##### playoff 유무"
   ]
  },
  {
   "cell_type": "code",
   "execution_count": 28,
   "metadata": {},
   "outputs": [],
   "source": [
    "lck = lol2022season[ lol2022season['league'] == 'LCK' ]\n",
    "lck_spring = lck[ (lck['split'] == 'Spring') & (lck['playoffs']==0) ]\n",
    "lck_summer = lck[ (lck['split'] == 'Summer') & (lck['playoffs']==0) ]\n",
    "lck_spring_po = lck[ (lck['split'] == 'Spring') & (lck['playoffs']==1) ]\n",
    "lck_summer_po = lck[ (lck['split'] == 'Summer') & (lck['playoffs']==1) ]"
   ]
  },
  {
   "cell_type": "markdown",
   "metadata": {},
   "source": [
    "---\n",
    "\n",
    "상관관계 분석"
   ]
  },
  {
   "cell_type": "code",
   "execution_count": 23,
   "metadata": {},
   "outputs": [
    {
     "data": {
      "text/html": [
       "<div>\n",
       "<style scoped>\n",
       "    .dataframe tbody tr th:only-of-type {\n",
       "        vertical-align: middle;\n",
       "    }\n",
       "\n",
       "    .dataframe tbody tr th {\n",
       "        vertical-align: top;\n",
       "    }\n",
       "\n",
       "    .dataframe thead th {\n",
       "        text-align: right;\n",
       "    }\n",
       "</style>\n",
       "<table border=\"1\" class=\"dataframe\">\n",
       "  <thead>\n",
       "    <tr style=\"text-align: right;\">\n",
       "      <th></th>\n",
       "      <th>gameid</th>\n",
       "      <th>participantid</th>\n",
       "      <th>side</th>\n",
       "      <th>league</th>\n",
       "      <th>split</th>\n",
       "      <th>teamname</th>\n",
       "      <th>date</th>\n",
       "      <th>gamelength</th>\n",
       "      <th>result</th>\n",
       "      <th>totalgold</th>\n",
       "      <th>golddiffat15</th>\n",
       "      <th>xpdiffat15</th>\n",
       "      <th>towers</th>\n",
       "    </tr>\n",
       "  </thead>\n",
       "  <tbody>\n",
       "    <tr>\n",
       "      <th>1450</th>\n",
       "      <td>ESPORTSTMNT01_2700815</td>\n",
       "      <td>100</td>\n",
       "      <td>Blue</td>\n",
       "      <td>LCK</td>\n",
       "      <td>Spring</td>\n",
       "      <td>DRX</td>\n",
       "      <td>2022-01-12 06:20:03</td>\n",
       "      <td>2195</td>\n",
       "      <td>0</td>\n",
       "      <td>63747</td>\n",
       "      <td>4757.0</td>\n",
       "      <td>1540.0</td>\n",
       "      <td>8.0</td>\n",
       "    </tr>\n",
       "    <tr>\n",
       "      <th>1451</th>\n",
       "      <td>ESPORTSTMNT01_2700815</td>\n",
       "      <td>200</td>\n",
       "      <td>Red</td>\n",
       "      <td>LCK</td>\n",
       "      <td>Spring</td>\n",
       "      <td>Liiv SANDBOX</td>\n",
       "      <td>2022-01-12 06:20:03</td>\n",
       "      <td>2195</td>\n",
       "      <td>1</td>\n",
       "      <td>67669</td>\n",
       "      <td>-4757.0</td>\n",
       "      <td>-1540.0</td>\n",
       "      <td>9.0</td>\n",
       "    </tr>\n",
       "    <tr>\n",
       "      <th>1462</th>\n",
       "      <td>ESPORTSTMNT01_2690695</td>\n",
       "      <td>100</td>\n",
       "      <td>Blue</td>\n",
       "      <td>LCK</td>\n",
       "      <td>Spring</td>\n",
       "      <td>DRX</td>\n",
       "      <td>2022-01-12 09:02:13</td>\n",
       "      <td>2070</td>\n",
       "      <td>0</td>\n",
       "      <td>60674</td>\n",
       "      <td>-1045.0</td>\n",
       "      <td>-735.0</td>\n",
       "      <td>3.0</td>\n",
       "    </tr>\n",
       "    <tr>\n",
       "      <th>1463</th>\n",
       "      <td>ESPORTSTMNT01_2690695</td>\n",
       "      <td>200</td>\n",
       "      <td>Red</td>\n",
       "      <td>LCK</td>\n",
       "      <td>Spring</td>\n",
       "      <td>Liiv SANDBOX</td>\n",
       "      <td>2022-01-12 09:02:13</td>\n",
       "      <td>2070</td>\n",
       "      <td>1</td>\n",
       "      <td>67152</td>\n",
       "      <td>1045.0</td>\n",
       "      <td>735.0</td>\n",
       "      <td>9.0</td>\n",
       "    </tr>\n",
       "    <tr>\n",
       "      <th>1486</th>\n",
       "      <td>ESPORTSTMNT01_2690705</td>\n",
       "      <td>100</td>\n",
       "      <td>Blue</td>\n",
       "      <td>LCK</td>\n",
       "      <td>Spring</td>\n",
       "      <td>T1</td>\n",
       "      <td>2022-01-12 10:07:10</td>\n",
       "      <td>2233</td>\n",
       "      <td>1</td>\n",
       "      <td>66455</td>\n",
       "      <td>1309.0</td>\n",
       "      <td>-170.0</td>\n",
       "      <td>7.0</td>\n",
       "    </tr>\n",
       "  </tbody>\n",
       "</table>\n",
       "</div>"
      ],
      "text/plain": [
       "                     gameid  participantid  side league   split      teamname  \\\n",
       "1450  ESPORTSTMNT01_2700815            100  Blue    LCK  Spring           DRX   \n",
       "1451  ESPORTSTMNT01_2700815            200   Red    LCK  Spring  Liiv SANDBOX   \n",
       "1462  ESPORTSTMNT01_2690695            100  Blue    LCK  Spring           DRX   \n",
       "1463  ESPORTSTMNT01_2690695            200   Red    LCK  Spring  Liiv SANDBOX   \n",
       "1486  ESPORTSTMNT01_2690705            100  Blue    LCK  Spring            T1   \n",
       "\n",
       "                     date  gamelength  result  totalgold  golddiffat15  \\\n",
       "1450  2022-01-12 06:20:03        2195       0      63747        4757.0   \n",
       "1451  2022-01-12 06:20:03        2195       1      67669       -4757.0   \n",
       "1462  2022-01-12 09:02:13        2070       0      60674       -1045.0   \n",
       "1463  2022-01-12 09:02:13        2070       1      67152        1045.0   \n",
       "1486  2022-01-12 10:07:10        2233       1      66455        1309.0   \n",
       "\n",
       "      xpdiffat15  towers  \n",
       "1450      1540.0     8.0  \n",
       "1451     -1540.0     9.0  \n",
       "1462      -735.0     3.0  \n",
       "1463       735.0     9.0  \n",
       "1486      -170.0     7.0  "
      ]
     },
     "execution_count": 23,
     "metadata": {},
     "output_type": "execute_result"
    }
   ],
   "source": [
    "lck_hm_df = lck[ ['gameid','participantid','side','league','split','teamname','date', \\\n",
    "    'gamelength','result','totalgold','golddiffat15','xpdiffat15','towers'] ]\n",
    "\n",
    "lck_hm_df_team = lck_hm_df[ (lck_hm_df['participantid'] == 100) | (lck_hm_df['participantid'] == 200 ) ]\n",
    "\n",
    "lck_hm_df_team.head()"
   ]
  },
  {
   "cell_type": "code",
   "execution_count": 24,
   "metadata": {},
   "outputs": [
    {
     "data": {
      "text/html": [
       "<div>\n",
       "<style scoped>\n",
       "    .dataframe tbody tr th:only-of-type {\n",
       "        vertical-align: middle;\n",
       "    }\n",
       "\n",
       "    .dataframe tbody tr th {\n",
       "        vertical-align: top;\n",
       "    }\n",
       "\n",
       "    .dataframe thead th {\n",
       "        text-align: right;\n",
       "    }\n",
       "</style>\n",
       "<table border=\"1\" class=\"dataframe\">\n",
       "  <thead>\n",
       "    <tr style=\"text-align: right;\">\n",
       "      <th></th>\n",
       "      <th></th>\n",
       "      <th>gamelength</th>\n",
       "      <th>totalgold</th>\n",
       "      <th>golddiffat15</th>\n",
       "      <th>towers</th>\n",
       "    </tr>\n",
       "    <tr>\n",
       "      <th>result</th>\n",
       "      <th></th>\n",
       "      <th></th>\n",
       "      <th></th>\n",
       "      <th></th>\n",
       "      <th></th>\n",
       "    </tr>\n",
       "  </thead>\n",
       "  <tbody>\n",
       "    <tr>\n",
       "      <th rowspan=\"4\" valign=\"top\">0</th>\n",
       "      <th>gamelength</th>\n",
       "      <td>1.000</td>\n",
       "      <td>0.967</td>\n",
       "      <td>0.402</td>\n",
       "      <td>0.651</td>\n",
       "    </tr>\n",
       "    <tr>\n",
       "      <th>totalgold</th>\n",
       "      <td>0.967</td>\n",
       "      <td>1.000</td>\n",
       "      <td>0.440</td>\n",
       "      <td>0.749</td>\n",
       "    </tr>\n",
       "    <tr>\n",
       "      <th>golddiffat15</th>\n",
       "      <td>0.402</td>\n",
       "      <td>0.440</td>\n",
       "      <td>1.000</td>\n",
       "      <td>0.464</td>\n",
       "    </tr>\n",
       "    <tr>\n",
       "      <th>towers</th>\n",
       "      <td>0.651</td>\n",
       "      <td>0.749</td>\n",
       "      <td>0.464</td>\n",
       "      <td>1.000</td>\n",
       "    </tr>\n",
       "    <tr>\n",
       "      <th rowspan=\"4\" valign=\"top\">1</th>\n",
       "      <th>gamelength</th>\n",
       "      <td>1.000</td>\n",
       "      <td>0.956</td>\n",
       "      <td>-0.402</td>\n",
       "      <td>-0.023</td>\n",
       "    </tr>\n",
       "    <tr>\n",
       "      <th>totalgold</th>\n",
       "      <td>0.956</td>\n",
       "      <td>1.000</td>\n",
       "      <td>-0.306</td>\n",
       "      <td>0.123</td>\n",
       "    </tr>\n",
       "    <tr>\n",
       "      <th>golddiffat15</th>\n",
       "      <td>-0.402</td>\n",
       "      <td>-0.306</td>\n",
       "      <td>1.000</td>\n",
       "      <td>0.201</td>\n",
       "    </tr>\n",
       "    <tr>\n",
       "      <th>towers</th>\n",
       "      <td>-0.023</td>\n",
       "      <td>0.123</td>\n",
       "      <td>0.201</td>\n",
       "      <td>1.000</td>\n",
       "    </tr>\n",
       "  </tbody>\n",
       "</table>\n",
       "</div>"
      ],
      "text/plain": [
       "                     gamelength  totalgold  golddiffat15  towers\n",
       "result                                                          \n",
       "0      gamelength         1.000      0.967         0.402   0.651\n",
       "       totalgold          0.967      1.000         0.440   0.749\n",
       "       golddiffat15       0.402      0.440         1.000   0.464\n",
       "       towers             0.651      0.749         0.464   1.000\n",
       "1      gamelength         1.000      0.956        -0.402  -0.023\n",
       "       totalgold          0.956      1.000        -0.306   0.123\n",
       "       golddiffat15      -0.402     -0.306         1.000   0.201\n",
       "       towers            -0.023      0.123         0.201   1.000"
      ]
     },
     "execution_count": 24,
     "metadata": {},
     "output_type": "execute_result"
    }
   ],
   "source": [
    "lck_hm_df_team[ ['gamelength','result','totalgold','golddiffat15','towers'] ].groupby('result').corr().round(3)"
   ]
  },
  {
   "cell_type": "code",
   "execution_count": 25,
   "metadata": {},
   "outputs": [
    {
     "data": {
      "application/vnd.plotly.v1+json": {
       "config": {
        "plotlyServerURL": "https://plot.ly"
       },
       "data": [
        {
         "coloraxis": "coloraxis",
         "hovertemplate": "x: %{x}<br>y: %{y}<br>color: %{z}<extra></extra>",
         "name": "0",
         "texttemplate": "%{z}",
         "type": "heatmap",
         "x": [
          "gamelength",
          "result",
          "totalgold",
          "golddiffat15",
          "towers",
          "xpdiffat15"
         ],
         "xaxis": "x",
         "y": [
          "gamelength",
          "result",
          "totalgold",
          "golddiffat15",
          "towers",
          "xpdiffat15"
         ],
         "yaxis": "y",
         "z": [
          [
           1,
           0,
           0.87,
           0,
           0.18,
           0
          ],
          [
           0,
           1,
           0.416,
           0.5,
           0.882,
           0.41
          ],
          [
           0.87,
           0.416,
           1,
           0.29,
           0.595,
           0.236
          ],
          [
           0,
           0.5,
           0.29,
           1,
           0.586,
           0.792
          ],
          [
           0.18,
           0.882,
           0.595,
           0.586,
           1,
           0.481
          ],
          [
           0,
           0.41,
           0.236,
           0.792,
           0.481,
           1
          ]
         ]
        }
       ],
       "layout": {
        "coloraxis": {
         "colorscale": [
          [
           0,
           "#0d0887"
          ],
          [
           0.1111111111111111,
           "#46039f"
          ],
          [
           0.2222222222222222,
           "#7201a8"
          ],
          [
           0.3333333333333333,
           "#9c179e"
          ],
          [
           0.4444444444444444,
           "#bd3786"
          ],
          [
           0.5555555555555556,
           "#d8576b"
          ],
          [
           0.6666666666666666,
           "#ed7953"
          ],
          [
           0.7777777777777778,
           "#fb9f3a"
          ],
          [
           0.8888888888888888,
           "#fdca26"
          ],
          [
           1,
           "#f0f921"
          ]
         ]
        },
        "margin": {
         "t": 60
        },
        "template": {
         "data": {
          "bar": [
           {
            "error_x": {
             "color": "#2a3f5f"
            },
            "error_y": {
             "color": "#2a3f5f"
            },
            "marker": {
             "line": {
              "color": "#E5ECF6",
              "width": 0.5
             },
             "pattern": {
              "fillmode": "overlay",
              "size": 10,
              "solidity": 0.2
             }
            },
            "type": "bar"
           }
          ],
          "barpolar": [
           {
            "marker": {
             "line": {
              "color": "#E5ECF6",
              "width": 0.5
             },
             "pattern": {
              "fillmode": "overlay",
              "size": 10,
              "solidity": 0.2
             }
            },
            "type": "barpolar"
           }
          ],
          "carpet": [
           {
            "aaxis": {
             "endlinecolor": "#2a3f5f",
             "gridcolor": "white",
             "linecolor": "white",
             "minorgridcolor": "white",
             "startlinecolor": "#2a3f5f"
            },
            "baxis": {
             "endlinecolor": "#2a3f5f",
             "gridcolor": "white",
             "linecolor": "white",
             "minorgridcolor": "white",
             "startlinecolor": "#2a3f5f"
            },
            "type": "carpet"
           }
          ],
          "choropleth": [
           {
            "colorbar": {
             "outlinewidth": 0,
             "ticks": ""
            },
            "type": "choropleth"
           }
          ],
          "contour": [
           {
            "colorbar": {
             "outlinewidth": 0,
             "ticks": ""
            },
            "colorscale": [
             [
              0,
              "#0d0887"
             ],
             [
              0.1111111111111111,
              "#46039f"
             ],
             [
              0.2222222222222222,
              "#7201a8"
             ],
             [
              0.3333333333333333,
              "#9c179e"
             ],
             [
              0.4444444444444444,
              "#bd3786"
             ],
             [
              0.5555555555555556,
              "#d8576b"
             ],
             [
              0.6666666666666666,
              "#ed7953"
             ],
             [
              0.7777777777777778,
              "#fb9f3a"
             ],
             [
              0.8888888888888888,
              "#fdca26"
             ],
             [
              1,
              "#f0f921"
             ]
            ],
            "type": "contour"
           }
          ],
          "contourcarpet": [
           {
            "colorbar": {
             "outlinewidth": 0,
             "ticks": ""
            },
            "type": "contourcarpet"
           }
          ],
          "heatmap": [
           {
            "colorbar": {
             "outlinewidth": 0,
             "ticks": ""
            },
            "colorscale": [
             [
              0,
              "#0d0887"
             ],
             [
              0.1111111111111111,
              "#46039f"
             ],
             [
              0.2222222222222222,
              "#7201a8"
             ],
             [
              0.3333333333333333,
              "#9c179e"
             ],
             [
              0.4444444444444444,
              "#bd3786"
             ],
             [
              0.5555555555555556,
              "#d8576b"
             ],
             [
              0.6666666666666666,
              "#ed7953"
             ],
             [
              0.7777777777777778,
              "#fb9f3a"
             ],
             [
              0.8888888888888888,
              "#fdca26"
             ],
             [
              1,
              "#f0f921"
             ]
            ],
            "type": "heatmap"
           }
          ],
          "heatmapgl": [
           {
            "colorbar": {
             "outlinewidth": 0,
             "ticks": ""
            },
            "colorscale": [
             [
              0,
              "#0d0887"
             ],
             [
              0.1111111111111111,
              "#46039f"
             ],
             [
              0.2222222222222222,
              "#7201a8"
             ],
             [
              0.3333333333333333,
              "#9c179e"
             ],
             [
              0.4444444444444444,
              "#bd3786"
             ],
             [
              0.5555555555555556,
              "#d8576b"
             ],
             [
              0.6666666666666666,
              "#ed7953"
             ],
             [
              0.7777777777777778,
              "#fb9f3a"
             ],
             [
              0.8888888888888888,
              "#fdca26"
             ],
             [
              1,
              "#f0f921"
             ]
            ],
            "type": "heatmapgl"
           }
          ],
          "histogram": [
           {
            "marker": {
             "pattern": {
              "fillmode": "overlay",
              "size": 10,
              "solidity": 0.2
             }
            },
            "type": "histogram"
           }
          ],
          "histogram2d": [
           {
            "colorbar": {
             "outlinewidth": 0,
             "ticks": ""
            },
            "colorscale": [
             [
              0,
              "#0d0887"
             ],
             [
              0.1111111111111111,
              "#46039f"
             ],
             [
              0.2222222222222222,
              "#7201a8"
             ],
             [
              0.3333333333333333,
              "#9c179e"
             ],
             [
              0.4444444444444444,
              "#bd3786"
             ],
             [
              0.5555555555555556,
              "#d8576b"
             ],
             [
              0.6666666666666666,
              "#ed7953"
             ],
             [
              0.7777777777777778,
              "#fb9f3a"
             ],
             [
              0.8888888888888888,
              "#fdca26"
             ],
             [
              1,
              "#f0f921"
             ]
            ],
            "type": "histogram2d"
           }
          ],
          "histogram2dcontour": [
           {
            "colorbar": {
             "outlinewidth": 0,
             "ticks": ""
            },
            "colorscale": [
             [
              0,
              "#0d0887"
             ],
             [
              0.1111111111111111,
              "#46039f"
             ],
             [
              0.2222222222222222,
              "#7201a8"
             ],
             [
              0.3333333333333333,
              "#9c179e"
             ],
             [
              0.4444444444444444,
              "#bd3786"
             ],
             [
              0.5555555555555556,
              "#d8576b"
             ],
             [
              0.6666666666666666,
              "#ed7953"
             ],
             [
              0.7777777777777778,
              "#fb9f3a"
             ],
             [
              0.8888888888888888,
              "#fdca26"
             ],
             [
              1,
              "#f0f921"
             ]
            ],
            "type": "histogram2dcontour"
           }
          ],
          "mesh3d": [
           {
            "colorbar": {
             "outlinewidth": 0,
             "ticks": ""
            },
            "type": "mesh3d"
           }
          ],
          "parcoords": [
           {
            "line": {
             "colorbar": {
              "outlinewidth": 0,
              "ticks": ""
             }
            },
            "type": "parcoords"
           }
          ],
          "pie": [
           {
            "automargin": true,
            "type": "pie"
           }
          ],
          "scatter": [
           {
            "fillpattern": {
             "fillmode": "overlay",
             "size": 10,
             "solidity": 0.2
            },
            "type": "scatter"
           }
          ],
          "scatter3d": [
           {
            "line": {
             "colorbar": {
              "outlinewidth": 0,
              "ticks": ""
             }
            },
            "marker": {
             "colorbar": {
              "outlinewidth": 0,
              "ticks": ""
             }
            },
            "type": "scatter3d"
           }
          ],
          "scattercarpet": [
           {
            "marker": {
             "colorbar": {
              "outlinewidth": 0,
              "ticks": ""
             }
            },
            "type": "scattercarpet"
           }
          ],
          "scattergeo": [
           {
            "marker": {
             "colorbar": {
              "outlinewidth": 0,
              "ticks": ""
             }
            },
            "type": "scattergeo"
           }
          ],
          "scattergl": [
           {
            "marker": {
             "colorbar": {
              "outlinewidth": 0,
              "ticks": ""
             }
            },
            "type": "scattergl"
           }
          ],
          "scattermapbox": [
           {
            "marker": {
             "colorbar": {
              "outlinewidth": 0,
              "ticks": ""
             }
            },
            "type": "scattermapbox"
           }
          ],
          "scatterpolar": [
           {
            "marker": {
             "colorbar": {
              "outlinewidth": 0,
              "ticks": ""
             }
            },
            "type": "scatterpolar"
           }
          ],
          "scatterpolargl": [
           {
            "marker": {
             "colorbar": {
              "outlinewidth": 0,
              "ticks": ""
             }
            },
            "type": "scatterpolargl"
           }
          ],
          "scatterternary": [
           {
            "marker": {
             "colorbar": {
              "outlinewidth": 0,
              "ticks": ""
             }
            },
            "type": "scatterternary"
           }
          ],
          "surface": [
           {
            "colorbar": {
             "outlinewidth": 0,
             "ticks": ""
            },
            "colorscale": [
             [
              0,
              "#0d0887"
             ],
             [
              0.1111111111111111,
              "#46039f"
             ],
             [
              0.2222222222222222,
              "#7201a8"
             ],
             [
              0.3333333333333333,
              "#9c179e"
             ],
             [
              0.4444444444444444,
              "#bd3786"
             ],
             [
              0.5555555555555556,
              "#d8576b"
             ],
             [
              0.6666666666666666,
              "#ed7953"
             ],
             [
              0.7777777777777778,
              "#fb9f3a"
             ],
             [
              0.8888888888888888,
              "#fdca26"
             ],
             [
              1,
              "#f0f921"
             ]
            ],
            "type": "surface"
           }
          ],
          "table": [
           {
            "cells": {
             "fill": {
              "color": "#EBF0F8"
             },
             "line": {
              "color": "white"
             }
            },
            "header": {
             "fill": {
              "color": "#C8D4E3"
             },
             "line": {
              "color": "white"
             }
            },
            "type": "table"
           }
          ]
         },
         "layout": {
          "annotationdefaults": {
           "arrowcolor": "#2a3f5f",
           "arrowhead": 0,
           "arrowwidth": 1
          },
          "autotypenumbers": "strict",
          "coloraxis": {
           "colorbar": {
            "outlinewidth": 0,
            "ticks": ""
           }
          },
          "colorscale": {
           "diverging": [
            [
             0,
             "#8e0152"
            ],
            [
             0.1,
             "#c51b7d"
            ],
            [
             0.2,
             "#de77ae"
            ],
            [
             0.3,
             "#f1b6da"
            ],
            [
             0.4,
             "#fde0ef"
            ],
            [
             0.5,
             "#f7f7f7"
            ],
            [
             0.6,
             "#e6f5d0"
            ],
            [
             0.7,
             "#b8e186"
            ],
            [
             0.8,
             "#7fbc41"
            ],
            [
             0.9,
             "#4d9221"
            ],
            [
             1,
             "#276419"
            ]
           ],
           "sequential": [
            [
             0,
             "#0d0887"
            ],
            [
             0.1111111111111111,
             "#46039f"
            ],
            [
             0.2222222222222222,
             "#7201a8"
            ],
            [
             0.3333333333333333,
             "#9c179e"
            ],
            [
             0.4444444444444444,
             "#bd3786"
            ],
            [
             0.5555555555555556,
             "#d8576b"
            ],
            [
             0.6666666666666666,
             "#ed7953"
            ],
            [
             0.7777777777777778,
             "#fb9f3a"
            ],
            [
             0.8888888888888888,
             "#fdca26"
            ],
            [
             1,
             "#f0f921"
            ]
           ],
           "sequentialminus": [
            [
             0,
             "#0d0887"
            ],
            [
             0.1111111111111111,
             "#46039f"
            ],
            [
             0.2222222222222222,
             "#7201a8"
            ],
            [
             0.3333333333333333,
             "#9c179e"
            ],
            [
             0.4444444444444444,
             "#bd3786"
            ],
            [
             0.5555555555555556,
             "#d8576b"
            ],
            [
             0.6666666666666666,
             "#ed7953"
            ],
            [
             0.7777777777777778,
             "#fb9f3a"
            ],
            [
             0.8888888888888888,
             "#fdca26"
            ],
            [
             1,
             "#f0f921"
            ]
           ]
          },
          "colorway": [
           "#636efa",
           "#EF553B",
           "#00cc96",
           "#ab63fa",
           "#FFA15A",
           "#19d3f3",
           "#FF6692",
           "#B6E880",
           "#FF97FF",
           "#FECB52"
          ],
          "font": {
           "color": "#2a3f5f"
          },
          "geo": {
           "bgcolor": "white",
           "lakecolor": "white",
           "landcolor": "#E5ECF6",
           "showlakes": true,
           "showland": true,
           "subunitcolor": "white"
          },
          "hoverlabel": {
           "align": "left"
          },
          "hovermode": "closest",
          "mapbox": {
           "style": "light"
          },
          "paper_bgcolor": "white",
          "plot_bgcolor": "#E5ECF6",
          "polar": {
           "angularaxis": {
            "gridcolor": "white",
            "linecolor": "white",
            "ticks": ""
           },
           "bgcolor": "#E5ECF6",
           "radialaxis": {
            "gridcolor": "white",
            "linecolor": "white",
            "ticks": ""
           }
          },
          "scene": {
           "xaxis": {
            "backgroundcolor": "#E5ECF6",
            "gridcolor": "white",
            "gridwidth": 2,
            "linecolor": "white",
            "showbackground": true,
            "ticks": "",
            "zerolinecolor": "white"
           },
           "yaxis": {
            "backgroundcolor": "#E5ECF6",
            "gridcolor": "white",
            "gridwidth": 2,
            "linecolor": "white",
            "showbackground": true,
            "ticks": "",
            "zerolinecolor": "white"
           },
           "zaxis": {
            "backgroundcolor": "#E5ECF6",
            "gridcolor": "white",
            "gridwidth": 2,
            "linecolor": "white",
            "showbackground": true,
            "ticks": "",
            "zerolinecolor": "white"
           }
          },
          "shapedefaults": {
           "line": {
            "color": "#2a3f5f"
           }
          },
          "ternary": {
           "aaxis": {
            "gridcolor": "white",
            "linecolor": "white",
            "ticks": ""
           },
           "baxis": {
            "gridcolor": "white",
            "linecolor": "white",
            "ticks": ""
           },
           "bgcolor": "#E5ECF6",
           "caxis": {
            "gridcolor": "white",
            "linecolor": "white",
            "ticks": ""
           }
          },
          "title": {
           "x": 0.05
          },
          "xaxis": {
           "automargin": true,
           "gridcolor": "white",
           "linecolor": "white",
           "ticks": "",
           "title": {
            "standoff": 15
           },
           "zerolinecolor": "white",
           "zerolinewidth": 2
          },
          "yaxis": {
           "automargin": true,
           "gridcolor": "white",
           "linecolor": "white",
           "ticks": "",
           "title": {
            "standoff": 15
           },
           "zerolinecolor": "white",
           "zerolinewidth": 2
          }
         }
        },
        "xaxis": {
         "anchor": "y",
         "constrain": "domain",
         "domain": [
          0,
          1
         ],
         "scaleanchor": "y"
        },
        "yaxis": {
         "anchor": "x",
         "autorange": "reversed",
         "constrain": "domain",
         "domain": [
          0,
          1
         ]
        }
       }
      }
     },
     "metadata": {},
     "output_type": "display_data"
    }
   ],
   "source": [
    "fig = px.imshow( lck_hm_df_team[ ['gamelength','result','totalgold','golddiffat15','towers','xpdiffat15'] ].corr().round(3) , text_auto=True)\n",
    "\n",
    "fig.show()"
   ]
  },
  {
   "cell_type": "code",
   "execution_count": 30,
   "metadata": {},
   "outputs": [
    {
     "data": {
      "text/html": [
       "<div>\n",
       "<style scoped>\n",
       "    .dataframe tbody tr th:only-of-type {\n",
       "        vertical-align: middle;\n",
       "    }\n",
       "\n",
       "    .dataframe tbody tr th {\n",
       "        vertical-align: top;\n",
       "    }\n",
       "\n",
       "    .dataframe thead th {\n",
       "        text-align: right;\n",
       "    }\n",
       "</style>\n",
       "<table border=\"1\" class=\"dataframe\">\n",
       "  <thead>\n",
       "    <tr style=\"text-align: right;\">\n",
       "      <th></th>\n",
       "      <th>gameid</th>\n",
       "      <th>participantid</th>\n",
       "      <th>side</th>\n",
       "      <th>league</th>\n",
       "      <th>split</th>\n",
       "      <th>teamname</th>\n",
       "      <th>date</th>\n",
       "      <th>gamelength</th>\n",
       "      <th>result</th>\n",
       "      <th>totalgold</th>\n",
       "      <th>golddiffat15</th>\n",
       "      <th>towers</th>\n",
       "    </tr>\n",
       "  </thead>\n",
       "  <tbody>\n",
       "    <tr>\n",
       "      <th>1440</th>\n",
       "      <td>ESPORTSTMNT01_2700815</td>\n",
       "      <td>1</td>\n",
       "      <td>Blue</td>\n",
       "      <td>LCK</td>\n",
       "      <td>Spring</td>\n",
       "      <td>DRX</td>\n",
       "      <td>2022-01-12 06:20:03</td>\n",
       "      <td>2195</td>\n",
       "      <td>0</td>\n",
       "      <td>13189</td>\n",
       "      <td>-202.0</td>\n",
       "      <td>NaN</td>\n",
       "    </tr>\n",
       "    <tr>\n",
       "      <th>1441</th>\n",
       "      <td>ESPORTSTMNT01_2700815</td>\n",
       "      <td>2</td>\n",
       "      <td>Blue</td>\n",
       "      <td>LCK</td>\n",
       "      <td>Spring</td>\n",
       "      <td>DRX</td>\n",
       "      <td>2022-01-12 06:20:03</td>\n",
       "      <td>2195</td>\n",
       "      <td>0</td>\n",
       "      <td>10792</td>\n",
       "      <td>240.0</td>\n",
       "      <td>NaN</td>\n",
       "    </tr>\n",
       "    <tr>\n",
       "      <th>1442</th>\n",
       "      <td>ESPORTSTMNT01_2700815</td>\n",
       "      <td>3</td>\n",
       "      <td>Blue</td>\n",
       "      <td>LCK</td>\n",
       "      <td>Spring</td>\n",
       "      <td>DRX</td>\n",
       "      <td>2022-01-12 06:20:03</td>\n",
       "      <td>2195</td>\n",
       "      <td>0</td>\n",
       "      <td>14226</td>\n",
       "      <td>438.0</td>\n",
       "      <td>NaN</td>\n",
       "    </tr>\n",
       "    <tr>\n",
       "      <th>1443</th>\n",
       "      <td>ESPORTSTMNT01_2700815</td>\n",
       "      <td>4</td>\n",
       "      <td>Blue</td>\n",
       "      <td>LCK</td>\n",
       "      <td>Spring</td>\n",
       "      <td>DRX</td>\n",
       "      <td>2022-01-12 06:20:03</td>\n",
       "      <td>2195</td>\n",
       "      <td>0</td>\n",
       "      <td>16249</td>\n",
       "      <td>2849.0</td>\n",
       "      <td>NaN</td>\n",
       "    </tr>\n",
       "    <tr>\n",
       "      <th>1444</th>\n",
       "      <td>ESPORTSTMNT01_2700815</td>\n",
       "      <td>5</td>\n",
       "      <td>Blue</td>\n",
       "      <td>LCK</td>\n",
       "      <td>Spring</td>\n",
       "      <td>DRX</td>\n",
       "      <td>2022-01-12 06:20:03</td>\n",
       "      <td>2195</td>\n",
       "      <td>0</td>\n",
       "      <td>9291</td>\n",
       "      <td>1432.0</td>\n",
       "      <td>NaN</td>\n",
       "    </tr>\n",
       "    <tr>\n",
       "      <th>...</th>\n",
       "      <td>...</td>\n",
       "      <td>...</td>\n",
       "      <td>...</td>\n",
       "      <td>...</td>\n",
       "      <td>...</td>\n",
       "      <td>...</td>\n",
       "      <td>...</td>\n",
       "      <td>...</td>\n",
       "      <td>...</td>\n",
       "      <td>...</td>\n",
       "      <td>...</td>\n",
       "      <td>...</td>\n",
       "    </tr>\n",
       "    <tr>\n",
       "      <th>49051</th>\n",
       "      <td>ESPORTSTMNT02_2672758</td>\n",
       "      <td>8</td>\n",
       "      <td>Red</td>\n",
       "      <td>LCK</td>\n",
       "      <td>Spring</td>\n",
       "      <td>Fredit BRION</td>\n",
       "      <td>2022-03-20 10:37:02</td>\n",
       "      <td>2499</td>\n",
       "      <td>0</td>\n",
       "      <td>14050</td>\n",
       "      <td>-944.0</td>\n",
       "      <td>NaN</td>\n",
       "    </tr>\n",
       "    <tr>\n",
       "      <th>49052</th>\n",
       "      <td>ESPORTSTMNT02_2672758</td>\n",
       "      <td>9</td>\n",
       "      <td>Red</td>\n",
       "      <td>LCK</td>\n",
       "      <td>Spring</td>\n",
       "      <td>Fredit BRION</td>\n",
       "      <td>2022-03-20 10:37:02</td>\n",
       "      <td>2499</td>\n",
       "      <td>0</td>\n",
       "      <td>18472</td>\n",
       "      <td>686.0</td>\n",
       "      <td>NaN</td>\n",
       "    </tr>\n",
       "    <tr>\n",
       "      <th>49053</th>\n",
       "      <td>ESPORTSTMNT02_2672758</td>\n",
       "      <td>10</td>\n",
       "      <td>Red</td>\n",
       "      <td>LCK</td>\n",
       "      <td>Spring</td>\n",
       "      <td>Fredit BRION</td>\n",
       "      <td>2022-03-20 10:37:02</td>\n",
       "      <td>2499</td>\n",
       "      <td>0</td>\n",
       "      <td>8375</td>\n",
       "      <td>-1017.0</td>\n",
       "      <td>NaN</td>\n",
       "    </tr>\n",
       "    <tr>\n",
       "      <th>49054</th>\n",
       "      <td>ESPORTSTMNT02_2672758</td>\n",
       "      <td>100</td>\n",
       "      <td>Blue</td>\n",
       "      <td>LCK</td>\n",
       "      <td>Spring</td>\n",
       "      <td>Kwangdong Freecs</td>\n",
       "      <td>2022-03-20 10:37:02</td>\n",
       "      <td>2499</td>\n",
       "      <td>1</td>\n",
       "      <td>71556</td>\n",
       "      <td>703.0</td>\n",
       "      <td>11.0</td>\n",
       "    </tr>\n",
       "    <tr>\n",
       "      <th>49055</th>\n",
       "      <td>ESPORTSTMNT02_2672758</td>\n",
       "      <td>200</td>\n",
       "      <td>Red</td>\n",
       "      <td>LCK</td>\n",
       "      <td>Spring</td>\n",
       "      <td>Fredit BRION</td>\n",
       "      <td>2022-03-20 10:37:02</td>\n",
       "      <td>2499</td>\n",
       "      <td>0</td>\n",
       "      <td>67695</td>\n",
       "      <td>-703.0</td>\n",
       "      <td>3.0</td>\n",
       "    </tr>\n",
       "  </tbody>\n",
       "</table>\n",
       "<p>2544 rows × 12 columns</p>\n",
       "</div>"
      ],
      "text/plain": [
       "                      gameid  participantid  side league   split  \\\n",
       "1440   ESPORTSTMNT01_2700815              1  Blue    LCK  Spring   \n",
       "1441   ESPORTSTMNT01_2700815              2  Blue    LCK  Spring   \n",
       "1442   ESPORTSTMNT01_2700815              3  Blue    LCK  Spring   \n",
       "1443   ESPORTSTMNT01_2700815              4  Blue    LCK  Spring   \n",
       "1444   ESPORTSTMNT01_2700815              5  Blue    LCK  Spring   \n",
       "...                      ...            ...   ...    ...     ...   \n",
       "49051  ESPORTSTMNT02_2672758              8   Red    LCK  Spring   \n",
       "49052  ESPORTSTMNT02_2672758              9   Red    LCK  Spring   \n",
       "49053  ESPORTSTMNT02_2672758             10   Red    LCK  Spring   \n",
       "49054  ESPORTSTMNT02_2672758            100  Blue    LCK  Spring   \n",
       "49055  ESPORTSTMNT02_2672758            200   Red    LCK  Spring   \n",
       "\n",
       "               teamname                 date  gamelength  result  totalgold  \\\n",
       "1440                DRX  2022-01-12 06:20:03        2195       0      13189   \n",
       "1441                DRX  2022-01-12 06:20:03        2195       0      10792   \n",
       "1442                DRX  2022-01-12 06:20:03        2195       0      14226   \n",
       "1443                DRX  2022-01-12 06:20:03        2195       0      16249   \n",
       "1444                DRX  2022-01-12 06:20:03        2195       0       9291   \n",
       "...                 ...                  ...         ...     ...        ...   \n",
       "49051      Fredit BRION  2022-03-20 10:37:02        2499       0      14050   \n",
       "49052      Fredit BRION  2022-03-20 10:37:02        2499       0      18472   \n",
       "49053      Fredit BRION  2022-03-20 10:37:02        2499       0       8375   \n",
       "49054  Kwangdong Freecs  2022-03-20 10:37:02        2499       1      71556   \n",
       "49055      Fredit BRION  2022-03-20 10:37:02        2499       0      67695   \n",
       "\n",
       "       golddiffat15  towers  \n",
       "1440         -202.0     NaN  \n",
       "1441          240.0     NaN  \n",
       "1442          438.0     NaN  \n",
       "1443         2849.0     NaN  \n",
       "1444         1432.0     NaN  \n",
       "...             ...     ...  \n",
       "49051        -944.0     NaN  \n",
       "49052         686.0     NaN  \n",
       "49053       -1017.0     NaN  \n",
       "49054         703.0    11.0  \n",
       "49055        -703.0     3.0  \n",
       "\n",
       "[2544 rows x 12 columns]"
      ]
     },
     "execution_count": 30,
     "metadata": {},
     "output_type": "execute_result"
    }
   ],
   "source": [
    "lck_spring_df = lck_spring[ ['gameid','participantid','side','league','split','teamname','date', \\\n",
    "    'gamelength','result','totalgold','golddiffat15','towers'] ]\n",
    "lck_spring_df"
   ]
  },
  {
   "cell_type": "code",
   "execution_count": null,
   "metadata": {},
   "outputs": [],
   "source": []
  },
  {
   "cell_type": "code",
   "execution_count": 31,
   "metadata": {},
   "outputs": [
    {
     "name": "stderr",
     "output_type": "stream",
     "text": [
      "C:\\Users\\Public\\Documents\\ESTsoft\\CreatorTemp\\ipykernel_19940\\3910339335.py:3: SettingWithCopyWarning:\n",
      "\n",
      "\n",
      "A value is trying to be set on a copy of a slice from a DataFrame.\n",
      "Try using .loc[row_indexer,col_indexer] = value instead\n",
      "\n",
      "See the caveats in the documentation: https://pandas.pydata.org/pandas-docs/stable/user_guide/indexing.html#returning-a-view-versus-a-copy\n",
      "\n"
     ]
    },
    {
     "data": {
      "text/html": [
       "<div>\n",
       "<style scoped>\n",
       "    .dataframe tbody tr th:only-of-type {\n",
       "        vertical-align: middle;\n",
       "    }\n",
       "\n",
       "    .dataframe tbody tr th {\n",
       "        vertical-align: top;\n",
       "    }\n",
       "\n",
       "    .dataframe thead th {\n",
       "        text-align: right;\n",
       "    }\n",
       "</style>\n",
       "<table border=\"1\" class=\"dataframe\">\n",
       "  <thead>\n",
       "    <tr style=\"text-align: right;\">\n",
       "      <th></th>\n",
       "      <th>gameid</th>\n",
       "      <th>participantid</th>\n",
       "      <th>side</th>\n",
       "      <th>league</th>\n",
       "      <th>split</th>\n",
       "      <th>teamname</th>\n",
       "      <th>date</th>\n",
       "      <th>gamelength</th>\n",
       "      <th>result</th>\n",
       "      <th>totalgold</th>\n",
       "      <th>golddiffat15</th>\n",
       "      <th>towers</th>\n",
       "    </tr>\n",
       "  </thead>\n",
       "  <tbody>\n",
       "    <tr>\n",
       "      <th>1450</th>\n",
       "      <td>ESPORTSTMNT01_2700815</td>\n",
       "      <td>100</td>\n",
       "      <td>Blue</td>\n",
       "      <td>LCK</td>\n",
       "      <td>Spring</td>\n",
       "      <td>DRX</td>\n",
       "      <td>2022-01-12 06:20:03</td>\n",
       "      <td>2195</td>\n",
       "      <td>lose</td>\n",
       "      <td>63747</td>\n",
       "      <td>4757.0</td>\n",
       "      <td>8.0</td>\n",
       "    </tr>\n",
       "    <tr>\n",
       "      <th>1451</th>\n",
       "      <td>ESPORTSTMNT01_2700815</td>\n",
       "      <td>200</td>\n",
       "      <td>Red</td>\n",
       "      <td>LCK</td>\n",
       "      <td>Spring</td>\n",
       "      <td>Liiv SANDBOX</td>\n",
       "      <td>2022-01-12 06:20:03</td>\n",
       "      <td>2195</td>\n",
       "      <td>win</td>\n",
       "      <td>67669</td>\n",
       "      <td>-4757.0</td>\n",
       "      <td>9.0</td>\n",
       "    </tr>\n",
       "    <tr>\n",
       "      <th>1462</th>\n",
       "      <td>ESPORTSTMNT01_2690695</td>\n",
       "      <td>100</td>\n",
       "      <td>Blue</td>\n",
       "      <td>LCK</td>\n",
       "      <td>Spring</td>\n",
       "      <td>DRX</td>\n",
       "      <td>2022-01-12 09:02:13</td>\n",
       "      <td>2070</td>\n",
       "      <td>lose</td>\n",
       "      <td>60674</td>\n",
       "      <td>-1045.0</td>\n",
       "      <td>3.0</td>\n",
       "    </tr>\n",
       "    <tr>\n",
       "      <th>1463</th>\n",
       "      <td>ESPORTSTMNT01_2690695</td>\n",
       "      <td>200</td>\n",
       "      <td>Red</td>\n",
       "      <td>LCK</td>\n",
       "      <td>Spring</td>\n",
       "      <td>Liiv SANDBOX</td>\n",
       "      <td>2022-01-12 09:02:13</td>\n",
       "      <td>2070</td>\n",
       "      <td>win</td>\n",
       "      <td>67152</td>\n",
       "      <td>1045.0</td>\n",
       "      <td>9.0</td>\n",
       "    </tr>\n",
       "    <tr>\n",
       "      <th>1486</th>\n",
       "      <td>ESPORTSTMNT01_2690705</td>\n",
       "      <td>100</td>\n",
       "      <td>Blue</td>\n",
       "      <td>LCK</td>\n",
       "      <td>Spring</td>\n",
       "      <td>T1</td>\n",
       "      <td>2022-01-12 10:07:10</td>\n",
       "      <td>2233</td>\n",
       "      <td>win</td>\n",
       "      <td>66455</td>\n",
       "      <td>1309.0</td>\n",
       "      <td>7.0</td>\n",
       "    </tr>\n",
       "  </tbody>\n",
       "</table>\n",
       "</div>"
      ],
      "text/plain": [
       "                     gameid  participantid  side league   split      teamname  \\\n",
       "1450  ESPORTSTMNT01_2700815            100  Blue    LCK  Spring           DRX   \n",
       "1451  ESPORTSTMNT01_2700815            200   Red    LCK  Spring  Liiv SANDBOX   \n",
       "1462  ESPORTSTMNT01_2690695            100  Blue    LCK  Spring           DRX   \n",
       "1463  ESPORTSTMNT01_2690695            200   Red    LCK  Spring  Liiv SANDBOX   \n",
       "1486  ESPORTSTMNT01_2690705            100  Blue    LCK  Spring            T1   \n",
       "\n",
       "                     date  gamelength result  totalgold  golddiffat15  towers  \n",
       "1450  2022-01-12 06:20:03        2195   lose      63747        4757.0     8.0  \n",
       "1451  2022-01-12 06:20:03        2195    win      67669       -4757.0     9.0  \n",
       "1462  2022-01-12 09:02:13        2070   lose      60674       -1045.0     3.0  \n",
       "1463  2022-01-12 09:02:13        2070    win      67152        1045.0     9.0  \n",
       "1486  2022-01-12 10:07:10        2233    win      66455        1309.0     7.0  "
      ]
     },
     "execution_count": 31,
     "metadata": {},
     "output_type": "execute_result"
    }
   ],
   "source": [
    "lck_spring_team_df = lck_spring_df[ (lck_spring_df['participantid'] == 100) | (lck_spring_df['participantid'] == 200 ) ]\n",
    "\n",
    "lck_spring_team_df['result'] = np.where( lck_spring_team_df['result'] == 0 , 'lose', 'win')\n",
    "\n",
    "lck_spring_team_df.head()"
   ]
  },
  {
   "cell_type": "code",
   "execution_count": 67,
   "metadata": {},
   "outputs": [
    {
     "data": {
      "text/plain": [
       "gameid           0\n",
       "participantid    0\n",
       "side             0\n",
       "league           0\n",
       "split            0\n",
       "teamname         0\n",
       "date             0\n",
       "gamelength       0\n",
       "result           0\n",
       "totalgold        0\n",
       "golddiffat15     0\n",
       "towers           0\n",
       "dtype: int64"
      ]
     },
     "execution_count": 67,
     "metadata": {},
     "output_type": "execute_result"
    }
   ],
   "source": [
    "lck_spring_team_df.isna().sum() #결측값확인"
   ]
  },
  {
   "cell_type": "code",
   "execution_count": 33,
   "metadata": {},
   "outputs": [
    {
     "data": {
      "application/vnd.plotly.v1+json": {
       "config": {
        "plotlyServerURL": "https://plot.ly"
       },
       "data": [
        {
         "alignmentgroup": "True",
         "hovertemplate": "y=%{y}<extra></extra>",
         "legendgroup": "",
         "marker": {
          "color": "#636efa"
         },
         "name": "",
         "notched": false,
         "offsetgroup": "",
         "orientation": "v",
         "showlegend": false,
         "type": "box",
         "x0": " ",
         "xaxis": "x",
         "y": [
          63747,
          67669,
          60674,
          67152,
          66455,
          58806,
          38495,
          51002,
          67791,
          57396,
          61659,
          52660,
          60614,
          72967,
          68723,
          76622,
          40836,
          49166,
          45102,
          58528,
          57160,
          40047,
          76283,
          74244,
          86941,
          79989,
          64683,
          78702,
          59460,
          49296,
          52525,
          41451,
          58171,
          72584,
          48618,
          59968,
          62902,
          54301,
          69908,
          67756,
          67073,
          52857,
          68151,
          62844,
          85927,
          83643,
          59877,
          64447,
          72494,
          62148,
          70724,
          61626,
          67031,
          57621,
          66654,
          63454,
          57793,
          68414,
          46838,
          56513,
          56180,
          43350,
          62370,
          74783,
          56307,
          66704,
          51343,
          62310,
          53670,
          59347,
          55192,
          65576,
          54859,
          44050,
          48688,
          61059,
          48660,
          44931,
          59464,
          64701,
          51782,
          60800,
          74328,
          61324,
          43591,
          54888,
          52397,
          63409,
          39175,
          45382,
          63992,
          69709,
          81313,
          83529,
          54829,
          43810,
          48141,
          58195,
          73651,
          64973,
          39605,
          53257,
          56640,
          42756,
          70230,
          68687,
          56468,
          61464,
          85071,
          77831,
          57055,
          52279,
          72433,
          62900,
          48396,
          61874,
          40917,
          53076,
          72807,
          69948,
          73734,
          75416,
          77917,
          71123,
          59835,
          69775,
          61603,
          75115,
          80091,
          87529,
          100872,
          93420,
          61237,
          48749,
          62876,
          66074,
          65935,
          55884,
          40966,
          50055,
          55377,
          63141,
          49360,
          40384,
          81816,
          85166,
          54642,
          48843,
          84304,
          80023,
          60688,
          50401,
          72711,
          63031,
          51767,
          60564,
          63721,
          51703,
          45334,
          57222,
          52601,
          63406,
          68731,
          75812,
          76440,
          73175,
          69474,
          59224,
          67362,
          56967,
          71659,
          73865,
          74581,
          66923,
          90436,
          81188,
          59815,
          47902,
          55020,
          60900,
          59624,
          67474,
          58226,
          46113,
          41854,
          56336,
          78846,
          82576,
          73425,
          63235,
          68496,
          63446,
          56749,
          51877,
          67437,
          54768,
          57801,
          46823,
          48613,
          60878,
          49334,
          57636,
          55164,
          66292,
          77283,
          78560,
          63683,
          59543,
          61049,
          52271,
          74250,
          78974,
          62311,
          66357,
          39050,
          49266,
          56948,
          42626,
          53890,
          63254,
          65482,
          52020,
          65661,
          74698,
          53867,
          46345,
          80663,
          79070,
          80689,
          75050,
          55057,
          66235,
          52492,
          47542,
          72730,
          69082,
          63310,
          70969,
          79682,
          73532,
          56410,
          46699,
          56057,
          65675,
          41768,
          55164,
          62459,
          48760,
          79673,
          82121,
          50534,
          62410,
          63808,
          54640,
          56398,
          43437,
          75303,
          67121,
          60948,
          68083,
          54743,
          42486,
          51311,
          36321,
          54519,
          66520,
          56899,
          64488,
          51019,
          65425,
          54615,
          67728,
          51257,
          61114,
          43255,
          53010,
          49796,
          60474,
          54246,
          62249,
          45484,
          55353,
          79200,
          74213,
          77447,
          63800,
          66073,
          55625,
          56100,
          45969,
          64940,
          62671,
          55126,
          46844,
          39946,
          53986,
          51840,
          63687,
          59195,
          66592,
          45974,
          59504,
          73635,
          68488,
          77197,
          75093,
          59151,
          47466,
          83517,
          81598,
          54687,
          62462,
          57004,
          66286,
          61138,
          68616,
          65265,
          54995,
          83859,
          74902,
          76406,
          67399,
          74473,
          60722,
          47690,
          63357,
          45032,
          58403,
          67146,
          63145,
          61108,
          65082,
          55036,
          65485,
          50097,
          57067,
          69531,
          80232,
          66414,
          59141,
          76746,
          64975,
          49897,
          63493,
          64605,
          56448,
          59774,
          41422,
          47967,
          55811,
          57179,
          68918,
          57875,
          51753,
          47405,
          61598,
          76069,
          67193,
          51128,
          67843,
          47181,
          62534,
          60173,
          68234,
          44051,
          59413,
          72938,
          82946,
          44789,
          28982,
          29452,
          46550,
          53568,
          62893,
          76511,
          66821,
          48585,
          60094,
          69821,
          60112,
          64174,
          56905,
          38022,
          53758,
          39051,
          49286,
          39804,
          54936,
          58541,
          48423,
          56512,
          46886,
          68968,
          55140,
          74734,
          77923,
          32310,
          48669,
          53036,
          38115,
          65912,
          50085,
          42289,
          33042,
          58052,
          46314,
          78374,
          71760,
          43255,
          54413,
          72947,
          63054,
          42419,
          50586,
          59595,
          51994,
          55138,
          65894,
          56210,
          43828,
          49537,
          60657,
          71556,
          67695
         ],
         "y0": " ",
         "yaxis": "y"
        }
       ],
       "layout": {
        "boxmode": "group",
        "height": 500,
        "legend": {
         "tracegroupgap": 0
        },
        "margin": {
         "t": 60
        },
        "template": {
         "data": {
          "bar": [
           {
            "error_x": {
             "color": "#2a3f5f"
            },
            "error_y": {
             "color": "#2a3f5f"
            },
            "marker": {
             "line": {
              "color": "#E5ECF6",
              "width": 0.5
             },
             "pattern": {
              "fillmode": "overlay",
              "size": 10,
              "solidity": 0.2
             }
            },
            "type": "bar"
           }
          ],
          "barpolar": [
           {
            "marker": {
             "line": {
              "color": "#E5ECF6",
              "width": 0.5
             },
             "pattern": {
              "fillmode": "overlay",
              "size": 10,
              "solidity": 0.2
             }
            },
            "type": "barpolar"
           }
          ],
          "carpet": [
           {
            "aaxis": {
             "endlinecolor": "#2a3f5f",
             "gridcolor": "white",
             "linecolor": "white",
             "minorgridcolor": "white",
             "startlinecolor": "#2a3f5f"
            },
            "baxis": {
             "endlinecolor": "#2a3f5f",
             "gridcolor": "white",
             "linecolor": "white",
             "minorgridcolor": "white",
             "startlinecolor": "#2a3f5f"
            },
            "type": "carpet"
           }
          ],
          "choropleth": [
           {
            "colorbar": {
             "outlinewidth": 0,
             "ticks": ""
            },
            "type": "choropleth"
           }
          ],
          "contour": [
           {
            "colorbar": {
             "outlinewidth": 0,
             "ticks": ""
            },
            "colorscale": [
             [
              0,
              "#0d0887"
             ],
             [
              0.1111111111111111,
              "#46039f"
             ],
             [
              0.2222222222222222,
              "#7201a8"
             ],
             [
              0.3333333333333333,
              "#9c179e"
             ],
             [
              0.4444444444444444,
              "#bd3786"
             ],
             [
              0.5555555555555556,
              "#d8576b"
             ],
             [
              0.6666666666666666,
              "#ed7953"
             ],
             [
              0.7777777777777778,
              "#fb9f3a"
             ],
             [
              0.8888888888888888,
              "#fdca26"
             ],
             [
              1,
              "#f0f921"
             ]
            ],
            "type": "contour"
           }
          ],
          "contourcarpet": [
           {
            "colorbar": {
             "outlinewidth": 0,
             "ticks": ""
            },
            "type": "contourcarpet"
           }
          ],
          "heatmap": [
           {
            "colorbar": {
             "outlinewidth": 0,
             "ticks": ""
            },
            "colorscale": [
             [
              0,
              "#0d0887"
             ],
             [
              0.1111111111111111,
              "#46039f"
             ],
             [
              0.2222222222222222,
              "#7201a8"
             ],
             [
              0.3333333333333333,
              "#9c179e"
             ],
             [
              0.4444444444444444,
              "#bd3786"
             ],
             [
              0.5555555555555556,
              "#d8576b"
             ],
             [
              0.6666666666666666,
              "#ed7953"
             ],
             [
              0.7777777777777778,
              "#fb9f3a"
             ],
             [
              0.8888888888888888,
              "#fdca26"
             ],
             [
              1,
              "#f0f921"
             ]
            ],
            "type": "heatmap"
           }
          ],
          "heatmapgl": [
           {
            "colorbar": {
             "outlinewidth": 0,
             "ticks": ""
            },
            "colorscale": [
             [
              0,
              "#0d0887"
             ],
             [
              0.1111111111111111,
              "#46039f"
             ],
             [
              0.2222222222222222,
              "#7201a8"
             ],
             [
              0.3333333333333333,
              "#9c179e"
             ],
             [
              0.4444444444444444,
              "#bd3786"
             ],
             [
              0.5555555555555556,
              "#d8576b"
             ],
             [
              0.6666666666666666,
              "#ed7953"
             ],
             [
              0.7777777777777778,
              "#fb9f3a"
             ],
             [
              0.8888888888888888,
              "#fdca26"
             ],
             [
              1,
              "#f0f921"
             ]
            ],
            "type": "heatmapgl"
           }
          ],
          "histogram": [
           {
            "marker": {
             "pattern": {
              "fillmode": "overlay",
              "size": 10,
              "solidity": 0.2
             }
            },
            "type": "histogram"
           }
          ],
          "histogram2d": [
           {
            "colorbar": {
             "outlinewidth": 0,
             "ticks": ""
            },
            "colorscale": [
             [
              0,
              "#0d0887"
             ],
             [
              0.1111111111111111,
              "#46039f"
             ],
             [
              0.2222222222222222,
              "#7201a8"
             ],
             [
              0.3333333333333333,
              "#9c179e"
             ],
             [
              0.4444444444444444,
              "#bd3786"
             ],
             [
              0.5555555555555556,
              "#d8576b"
             ],
             [
              0.6666666666666666,
              "#ed7953"
             ],
             [
              0.7777777777777778,
              "#fb9f3a"
             ],
             [
              0.8888888888888888,
              "#fdca26"
             ],
             [
              1,
              "#f0f921"
             ]
            ],
            "type": "histogram2d"
           }
          ],
          "histogram2dcontour": [
           {
            "colorbar": {
             "outlinewidth": 0,
             "ticks": ""
            },
            "colorscale": [
             [
              0,
              "#0d0887"
             ],
             [
              0.1111111111111111,
              "#46039f"
             ],
             [
              0.2222222222222222,
              "#7201a8"
             ],
             [
              0.3333333333333333,
              "#9c179e"
             ],
             [
              0.4444444444444444,
              "#bd3786"
             ],
             [
              0.5555555555555556,
              "#d8576b"
             ],
             [
              0.6666666666666666,
              "#ed7953"
             ],
             [
              0.7777777777777778,
              "#fb9f3a"
             ],
             [
              0.8888888888888888,
              "#fdca26"
             ],
             [
              1,
              "#f0f921"
             ]
            ],
            "type": "histogram2dcontour"
           }
          ],
          "mesh3d": [
           {
            "colorbar": {
             "outlinewidth": 0,
             "ticks": ""
            },
            "type": "mesh3d"
           }
          ],
          "parcoords": [
           {
            "line": {
             "colorbar": {
              "outlinewidth": 0,
              "ticks": ""
             }
            },
            "type": "parcoords"
           }
          ],
          "pie": [
           {
            "automargin": true,
            "type": "pie"
           }
          ],
          "scatter": [
           {
            "fillpattern": {
             "fillmode": "overlay",
             "size": 10,
             "solidity": 0.2
            },
            "type": "scatter"
           }
          ],
          "scatter3d": [
           {
            "line": {
             "colorbar": {
              "outlinewidth": 0,
              "ticks": ""
             }
            },
            "marker": {
             "colorbar": {
              "outlinewidth": 0,
              "ticks": ""
             }
            },
            "type": "scatter3d"
           }
          ],
          "scattercarpet": [
           {
            "marker": {
             "colorbar": {
              "outlinewidth": 0,
              "ticks": ""
             }
            },
            "type": "scattercarpet"
           }
          ],
          "scattergeo": [
           {
            "marker": {
             "colorbar": {
              "outlinewidth": 0,
              "ticks": ""
             }
            },
            "type": "scattergeo"
           }
          ],
          "scattergl": [
           {
            "marker": {
             "colorbar": {
              "outlinewidth": 0,
              "ticks": ""
             }
            },
            "type": "scattergl"
           }
          ],
          "scattermapbox": [
           {
            "marker": {
             "colorbar": {
              "outlinewidth": 0,
              "ticks": ""
             }
            },
            "type": "scattermapbox"
           }
          ],
          "scatterpolar": [
           {
            "marker": {
             "colorbar": {
              "outlinewidth": 0,
              "ticks": ""
             }
            },
            "type": "scatterpolar"
           }
          ],
          "scatterpolargl": [
           {
            "marker": {
             "colorbar": {
              "outlinewidth": 0,
              "ticks": ""
             }
            },
            "type": "scatterpolargl"
           }
          ],
          "scatterternary": [
           {
            "marker": {
             "colorbar": {
              "outlinewidth": 0,
              "ticks": ""
             }
            },
            "type": "scatterternary"
           }
          ],
          "surface": [
           {
            "colorbar": {
             "outlinewidth": 0,
             "ticks": ""
            },
            "colorscale": [
             [
              0,
              "#0d0887"
             ],
             [
              0.1111111111111111,
              "#46039f"
             ],
             [
              0.2222222222222222,
              "#7201a8"
             ],
             [
              0.3333333333333333,
              "#9c179e"
             ],
             [
              0.4444444444444444,
              "#bd3786"
             ],
             [
              0.5555555555555556,
              "#d8576b"
             ],
             [
              0.6666666666666666,
              "#ed7953"
             ],
             [
              0.7777777777777778,
              "#fb9f3a"
             ],
             [
              0.8888888888888888,
              "#fdca26"
             ],
             [
              1,
              "#f0f921"
             ]
            ],
            "type": "surface"
           }
          ],
          "table": [
           {
            "cells": {
             "fill": {
              "color": "#EBF0F8"
             },
             "line": {
              "color": "white"
             }
            },
            "header": {
             "fill": {
              "color": "#C8D4E3"
             },
             "line": {
              "color": "white"
             }
            },
            "type": "table"
           }
          ]
         },
         "layout": {
          "annotationdefaults": {
           "arrowcolor": "#2a3f5f",
           "arrowhead": 0,
           "arrowwidth": 1
          },
          "autotypenumbers": "strict",
          "coloraxis": {
           "colorbar": {
            "outlinewidth": 0,
            "ticks": ""
           }
          },
          "colorscale": {
           "diverging": [
            [
             0,
             "#8e0152"
            ],
            [
             0.1,
             "#c51b7d"
            ],
            [
             0.2,
             "#de77ae"
            ],
            [
             0.3,
             "#f1b6da"
            ],
            [
             0.4,
             "#fde0ef"
            ],
            [
             0.5,
             "#f7f7f7"
            ],
            [
             0.6,
             "#e6f5d0"
            ],
            [
             0.7,
             "#b8e186"
            ],
            [
             0.8,
             "#7fbc41"
            ],
            [
             0.9,
             "#4d9221"
            ],
            [
             1,
             "#276419"
            ]
           ],
           "sequential": [
            [
             0,
             "#0d0887"
            ],
            [
             0.1111111111111111,
             "#46039f"
            ],
            [
             0.2222222222222222,
             "#7201a8"
            ],
            [
             0.3333333333333333,
             "#9c179e"
            ],
            [
             0.4444444444444444,
             "#bd3786"
            ],
            [
             0.5555555555555556,
             "#d8576b"
            ],
            [
             0.6666666666666666,
             "#ed7953"
            ],
            [
             0.7777777777777778,
             "#fb9f3a"
            ],
            [
             0.8888888888888888,
             "#fdca26"
            ],
            [
             1,
             "#f0f921"
            ]
           ],
           "sequentialminus": [
            [
             0,
             "#0d0887"
            ],
            [
             0.1111111111111111,
             "#46039f"
            ],
            [
             0.2222222222222222,
             "#7201a8"
            ],
            [
             0.3333333333333333,
             "#9c179e"
            ],
            [
             0.4444444444444444,
             "#bd3786"
            ],
            [
             0.5555555555555556,
             "#d8576b"
            ],
            [
             0.6666666666666666,
             "#ed7953"
            ],
            [
             0.7777777777777778,
             "#fb9f3a"
            ],
            [
             0.8888888888888888,
             "#fdca26"
            ],
            [
             1,
             "#f0f921"
            ]
           ]
          },
          "colorway": [
           "#636efa",
           "#EF553B",
           "#00cc96",
           "#ab63fa",
           "#FFA15A",
           "#19d3f3",
           "#FF6692",
           "#B6E880",
           "#FF97FF",
           "#FECB52"
          ],
          "font": {
           "color": "#2a3f5f"
          },
          "geo": {
           "bgcolor": "white",
           "lakecolor": "white",
           "landcolor": "#E5ECF6",
           "showlakes": true,
           "showland": true,
           "subunitcolor": "white"
          },
          "hoverlabel": {
           "align": "left"
          },
          "hovermode": "closest",
          "mapbox": {
           "style": "light"
          },
          "paper_bgcolor": "white",
          "plot_bgcolor": "#E5ECF6",
          "polar": {
           "angularaxis": {
            "gridcolor": "white",
            "linecolor": "white",
            "ticks": ""
           },
           "bgcolor": "#E5ECF6",
           "radialaxis": {
            "gridcolor": "white",
            "linecolor": "white",
            "ticks": ""
           }
          },
          "scene": {
           "xaxis": {
            "backgroundcolor": "#E5ECF6",
            "gridcolor": "white",
            "gridwidth": 2,
            "linecolor": "white",
            "showbackground": true,
            "ticks": "",
            "zerolinecolor": "white"
           },
           "yaxis": {
            "backgroundcolor": "#E5ECF6",
            "gridcolor": "white",
            "gridwidth": 2,
            "linecolor": "white",
            "showbackground": true,
            "ticks": "",
            "zerolinecolor": "white"
           },
           "zaxis": {
            "backgroundcolor": "#E5ECF6",
            "gridcolor": "white",
            "gridwidth": 2,
            "linecolor": "white",
            "showbackground": true,
            "ticks": "",
            "zerolinecolor": "white"
           }
          },
          "shapedefaults": {
           "line": {
            "color": "#2a3f5f"
           }
          },
          "ternary": {
           "aaxis": {
            "gridcolor": "white",
            "linecolor": "white",
            "ticks": ""
           },
           "baxis": {
            "gridcolor": "white",
            "linecolor": "white",
            "ticks": ""
           },
           "bgcolor": "#E5ECF6",
           "caxis": {
            "gridcolor": "white",
            "linecolor": "white",
            "ticks": ""
           }
          },
          "title": {
           "x": 0.05
          },
          "xaxis": {
           "automargin": true,
           "gridcolor": "white",
           "linecolor": "white",
           "ticks": "",
           "title": {
            "standoff": 15
           },
           "zerolinecolor": "white",
           "zerolinewidth": 2
          },
          "yaxis": {
           "automargin": true,
           "gridcolor": "white",
           "linecolor": "white",
           "ticks": "",
           "title": {
            "standoff": 15
           },
           "zerolinecolor": "white",
           "zerolinewidth": 2
          }
         }
        },
        "width": 400,
        "xaxis": {
         "anchor": "y",
         "domain": [
          0,
          1
         ]
        },
        "yaxis": {
         "anchor": "x",
         "domain": [
          0,
          1
         ],
         "title": {
          "text": "y"
         }
        }
       }
      }
     },
     "metadata": {},
     "output_type": "display_data"
    }
   ],
   "source": [
    "px.box( y= lck_spring_team_df['totalgold'], width=400, height=500 )\n",
    "# 게임시간이 매우 긴 경기 totalgold 비약적으로 증가\n",
    "# 따라서 15diff 지표로 확인하는것이 적절"
   ]
  },
  {
   "cell_type": "code",
   "execution_count": 67,
   "metadata": {},
   "outputs": [
    {
     "data": {
      "text/html": [
       "<div>\n",
       "<style scoped>\n",
       "    .dataframe tbody tr th:only-of-type {\n",
       "        vertical-align: middle;\n",
       "    }\n",
       "\n",
       "    .dataframe tbody tr th {\n",
       "        vertical-align: top;\n",
       "    }\n",
       "\n",
       "    .dataframe thead th {\n",
       "        text-align: right;\n",
       "    }\n",
       "</style>\n",
       "<table border=\"1\" class=\"dataframe\">\n",
       "  <thead>\n",
       "    <tr style=\"text-align: right;\">\n",
       "      <th></th>\n",
       "      <th>gameid</th>\n",
       "      <th>participantid</th>\n",
       "      <th>side</th>\n",
       "      <th>league</th>\n",
       "      <th>split</th>\n",
       "      <th>teamname</th>\n",
       "      <th>date</th>\n",
       "      <th>gamelength</th>\n",
       "      <th>result</th>\n",
       "      <th>totalgold</th>\n",
       "      <th>golddiffat15</th>\n",
       "      <th>towers</th>\n",
       "    </tr>\n",
       "  </thead>\n",
       "  <tbody>\n",
       "    <tr>\n",
       "      <th>10750</th>\n",
       "      <td>ESPORTSTMNT02_2552430</td>\n",
       "      <td>100</td>\n",
       "      <td>Blue</td>\n",
       "      <td>LCK</td>\n",
       "      <td>Spring</td>\n",
       "      <td>DWG KIA</td>\n",
       "      <td>2022-01-30 06:56:25</td>\n",
       "      <td>3326</td>\n",
       "      <td>win</td>\n",
       "      <td>100872</td>\n",
       "      <td>448.0</td>\n",
       "      <td>10.0</td>\n",
       "    </tr>\n",
       "    <tr>\n",
       "      <th>10751</th>\n",
       "      <td>ESPORTSTMNT02_2552430</td>\n",
       "      <td>200</td>\n",
       "      <td>Red</td>\n",
       "      <td>LCK</td>\n",
       "      <td>Spring</td>\n",
       "      <td>T1</td>\n",
       "      <td>2022-01-30 06:56:25</td>\n",
       "      <td>3326</td>\n",
       "      <td>lose</td>\n",
       "      <td>93420</td>\n",
       "      <td>-448.0</td>\n",
       "      <td>7.0</td>\n",
       "    </tr>\n",
       "    <tr>\n",
       "      <th>18922</th>\n",
       "      <td>ESPORTSTMNT02_2578644</td>\n",
       "      <td>100</td>\n",
       "      <td>Blue</td>\n",
       "      <td>LCK</td>\n",
       "      <td>Spring</td>\n",
       "      <td>T1</td>\n",
       "      <td>2022-02-12 06:05:04</td>\n",
       "      <td>2746</td>\n",
       "      <td>win</td>\n",
       "      <td>90436</td>\n",
       "      <td>-567.0</td>\n",
       "      <td>8.0</td>\n",
       "    </tr>\n",
       "  </tbody>\n",
       "</table>\n",
       "</div>"
      ],
      "text/plain": [
       "                      gameid  participantid  side league   split teamname  \\\n",
       "10750  ESPORTSTMNT02_2552430            100  Blue    LCK  Spring  DWG KIA   \n",
       "10751  ESPORTSTMNT02_2552430            200   Red    LCK  Spring       T1   \n",
       "18922  ESPORTSTMNT02_2578644            100  Blue    LCK  Spring       T1   \n",
       "\n",
       "                      date  gamelength result  totalgold  golddiffat15  towers  \n",
       "10750  2022-01-30 06:56:25        3326    win     100872         448.0    10.0  \n",
       "10751  2022-01-30 06:56:25        3326   lose      93420        -448.0     7.0  \n",
       "18922  2022-02-12 06:05:04        2746    win      90436        -567.0     8.0  "
      ]
     },
     "execution_count": 67,
     "metadata": {},
     "output_type": "execute_result"
    }
   ],
   "source": [
    "lck_spring_team_df[ lck_spring_team_df['totalgold'] >= 90000 ]['teamname'] = 'outlier'"
   ]
  },
  {
   "cell_type": "code",
   "execution_count": 54,
   "metadata": {},
   "outputs": [
    {
     "data": {
      "text/plain": [
       "array(['DRX', 'Liiv SANDBOX', 'T1', 'Kwangdong Freecs',\n",
       "       'Nongshim RedForce', 'Hanwha Life Esports', 'KT Rolster',\n",
       "       'DWG KIA', 'Gen.G', 'Fredit BRION'], dtype=object)"
      ]
     },
     "execution_count": 54,
     "metadata": {},
     "output_type": "execute_result"
    }
   ],
   "source": [
    "lck_spring_team_df['teamname'].unique()"
   ]
  },
  {
   "cell_type": "code",
   "execution_count": 176,
   "metadata": {},
   "outputs": [
    {
     "data": {
      "text/html": [
       "<div>\n",
       "<style scoped>\n",
       "    .dataframe tbody tr th:only-of-type {\n",
       "        vertical-align: middle;\n",
       "    }\n",
       "\n",
       "    .dataframe tbody tr th {\n",
       "        vertical-align: top;\n",
       "    }\n",
       "\n",
       "    .dataframe thead th {\n",
       "        text-align: right;\n",
       "    }\n",
       "</style>\n",
       "<table border=\"1\" class=\"dataframe\">\n",
       "  <thead>\n",
       "    <tr style=\"text-align: right;\">\n",
       "      <th></th>\n",
       "      <th>participantid</th>\n",
       "      <th>gamelength</th>\n",
       "      <th>totalgold</th>\n",
       "      <th>golddiffat15</th>\n",
       "      <th>towers</th>\n",
       "    </tr>\n",
       "  </thead>\n",
       "  <tbody>\n",
       "    <tr>\n",
       "      <th>count</th>\n",
       "      <td>424.000000</td>\n",
       "      <td>424.000000</td>\n",
       "      <td>424.000000</td>\n",
       "      <td>424.000000</td>\n",
       "      <td>424.000000</td>\n",
       "    </tr>\n",
       "    <tr>\n",
       "      <th>mean</th>\n",
       "      <td>150.000000</td>\n",
       "      <td>2057.292453</td>\n",
       "      <td>60717.971698</td>\n",
       "      <td>0.000000</td>\n",
       "      <td>6.202830</td>\n",
       "    </tr>\n",
       "    <tr>\n",
       "      <th>std</th>\n",
       "      <td>50.059067</td>\n",
       "      <td>378.859068</td>\n",
       "      <td>11860.644727</td>\n",
       "      <td>2590.450046</td>\n",
       "      <td>3.571809</td>\n",
       "    </tr>\n",
       "    <tr>\n",
       "      <th>min</th>\n",
       "      <td>100.000000</td>\n",
       "      <td>1145.000000</td>\n",
       "      <td>28982.000000</td>\n",
       "      <td>-10037.000000</td>\n",
       "      <td>0.000000</td>\n",
       "    </tr>\n",
       "    <tr>\n",
       "      <th>25%</th>\n",
       "      <td>100.000000</td>\n",
       "      <td>1780.000000</td>\n",
       "      <td>52468.250000</td>\n",
       "      <td>-1474.500000</td>\n",
       "      <td>3.000000</td>\n",
       "    </tr>\n",
       "    <tr>\n",
       "      <th>50%</th>\n",
       "      <td>150.000000</td>\n",
       "      <td>2030.500000</td>\n",
       "      <td>60665.500000</td>\n",
       "      <td>0.000000</td>\n",
       "      <td>7.000000</td>\n",
       "    </tr>\n",
       "    <tr>\n",
       "      <th>75%</th>\n",
       "      <td>200.000000</td>\n",
       "      <td>2316.250000</td>\n",
       "      <td>68100.000000</td>\n",
       "      <td>1474.500000</td>\n",
       "      <td>9.000000</td>\n",
       "    </tr>\n",
       "    <tr>\n",
       "      <th>max</th>\n",
       "      <td>200.000000</td>\n",
       "      <td>3326.000000</td>\n",
       "      <td>100872.000000</td>\n",
       "      <td>10037.000000</td>\n",
       "      <td>11.000000</td>\n",
       "    </tr>\n",
       "  </tbody>\n",
       "</table>\n",
       "</div>"
      ],
      "text/plain": [
       "       participantid   gamelength      totalgold  golddiffat15      towers\n",
       "count     424.000000   424.000000     424.000000    424.000000  424.000000\n",
       "mean      150.000000  2057.292453   60717.971698      0.000000    6.202830\n",
       "std        50.059067   378.859068   11860.644727   2590.450046    3.571809\n",
       "min       100.000000  1145.000000   28982.000000 -10037.000000    0.000000\n",
       "25%       100.000000  1780.000000   52468.250000  -1474.500000    3.000000\n",
       "50%       150.000000  2030.500000   60665.500000      0.000000    7.000000\n",
       "75%       200.000000  2316.250000   68100.000000   1474.500000    9.000000\n",
       "max       200.000000  3326.000000  100872.000000  10037.000000   11.000000"
      ]
     },
     "execution_count": 176,
     "metadata": {},
     "output_type": "execute_result"
    }
   ],
   "source": [
    "lck_spring_team_df.describe()"
   ]
  },
  {
   "cell_type": "markdown",
   "metadata": {},
   "source": [
    "> ### DRX 경기만 확인"
   ]
  },
  {
   "cell_type": "code",
   "execution_count": 183,
   "metadata": {},
   "outputs": [
    {
     "name": "stderr",
     "output_type": "stream",
     "text": [
      "C:\\Users\\Public\\Documents\\ESTsoft\\CreatorTemp\\ipykernel_19940\\2011406639.py:4: SettingWithCopyWarning:\n",
      "\n",
      "\n",
      "A value is trying to be set on a copy of a slice from a DataFrame.\n",
      "Try using .loc[row_indexer,col_indexer] = value instead\n",
      "\n",
      "See the caveats in the documentation: https://pandas.pydata.org/pandas-docs/stable/user_guide/indexing.html#returning-a-view-versus-a-copy\n",
      "\n"
     ]
    },
    {
     "data": {
      "text/html": [
       "<div>\n",
       "<style scoped>\n",
       "    .dataframe tbody tr th:only-of-type {\n",
       "        vertical-align: middle;\n",
       "    }\n",
       "\n",
       "    .dataframe tbody tr th {\n",
       "        vertical-align: top;\n",
       "    }\n",
       "\n",
       "    .dataframe thead th {\n",
       "        text-align: right;\n",
       "    }\n",
       "</style>\n",
       "<table border=\"1\" class=\"dataframe\">\n",
       "  <thead>\n",
       "    <tr style=\"text-align: right;\">\n",
       "      <th></th>\n",
       "      <th>gameid</th>\n",
       "      <th>playername</th>\n",
       "      <th>participantid</th>\n",
       "      <th>side</th>\n",
       "      <th>league</th>\n",
       "      <th>split</th>\n",
       "      <th>teamname</th>\n",
       "      <th>date</th>\n",
       "      <th>totalgold</th>\n",
       "      <th>gamelength</th>\n",
       "      <th>result</th>\n",
       "      <th>dpm</th>\n",
       "      <th>damagetakenperminute</th>\n",
       "      <th>goldat15</th>\n",
       "      <th>xpat15</th>\n",
       "      <th>cspm</th>\n",
       "      <th>visionscore</th>\n",
       "    </tr>\n",
       "  </thead>\n",
       "  <tbody>\n",
       "    <tr>\n",
       "      <th>1450</th>\n",
       "      <td>ESPORTSTMNT01_2700815</td>\n",
       "      <td>NaN</td>\n",
       "      <td>100</td>\n",
       "      <td>Blue</td>\n",
       "      <td>LCK</td>\n",
       "      <td>Spring</td>\n",
       "      <td>DRX</td>\n",
       "      <td>2022-01-12 06:20:03</td>\n",
       "      <td>63747</td>\n",
       "      <td>2195</td>\n",
       "      <td>lose</td>\n",
       "      <td>1367.7813</td>\n",
       "      <td>2227.5171</td>\n",
       "      <td>27198.0</td>\n",
       "      <td>30325.0</td>\n",
       "      <td>33.6765</td>\n",
       "      <td>305.0</td>\n",
       "    </tr>\n",
       "    <tr>\n",
       "      <th>1462</th>\n",
       "      <td>ESPORTSTMNT01_2690695</td>\n",
       "      <td>NaN</td>\n",
       "      <td>100</td>\n",
       "      <td>Blue</td>\n",
       "      <td>LCK</td>\n",
       "      <td>Spring</td>\n",
       "      <td>DRX</td>\n",
       "      <td>2022-01-12 09:02:13</td>\n",
       "      <td>60674</td>\n",
       "      <td>2070</td>\n",
       "      <td>lose</td>\n",
       "      <td>1935.4783</td>\n",
       "      <td>2318.4928</td>\n",
       "      <td>23612.0</td>\n",
       "      <td>29371.0</td>\n",
       "      <td>34.2029</td>\n",
       "      <td>262.0</td>\n",
       "    </tr>\n",
       "    <tr>\n",
       "      <th>2386</th>\n",
       "      <td>ESPORTSTMNT01_2691507</td>\n",
       "      <td>NaN</td>\n",
       "      <td>100</td>\n",
       "      <td>Blue</td>\n",
       "      <td>LCK</td>\n",
       "      <td>Spring</td>\n",
       "      <td>DRX</td>\n",
       "      <td>2022-01-14 07:15:41</td>\n",
       "      <td>45102</td>\n",
       "      <td>1778</td>\n",
       "      <td>lose</td>\n",
       "      <td>1804.2520</td>\n",
       "      <td>2773.2958</td>\n",
       "      <td>22904.0</td>\n",
       "      <td>29856.0</td>\n",
       "      <td>30.3375</td>\n",
       "      <td>188.0</td>\n",
       "    </tr>\n",
       "    <tr>\n",
       "      <th>2423</th>\n",
       "      <td>ESPORTSTMNT01_2691515</td>\n",
       "      <td>NaN</td>\n",
       "      <td>200</td>\n",
       "      <td>Red</td>\n",
       "      <td>LCK</td>\n",
       "      <td>Spring</td>\n",
       "      <td>DRX</td>\n",
       "      <td>2022-01-14 08:42:06</td>\n",
       "      <td>40047</td>\n",
       "      <td>1556</td>\n",
       "      <td>lose</td>\n",
       "      <td>1806.4396</td>\n",
       "      <td>3931.2725</td>\n",
       "      <td>23642.0</td>\n",
       "      <td>27936.0</td>\n",
       "      <td>29.5758</td>\n",
       "      <td>162.0</td>\n",
       "    </tr>\n",
       "    <tr>\n",
       "      <th>4978</th>\n",
       "      <td>ESPORTSTMNT01_2704285</td>\n",
       "      <td>NaN</td>\n",
       "      <td>100</td>\n",
       "      <td>Blue</td>\n",
       "      <td>LCK</td>\n",
       "      <td>Spring</td>\n",
       "      <td>DRX</td>\n",
       "      <td>2022-01-20 06:11:55</td>\n",
       "      <td>46838</td>\n",
       "      <td>1676</td>\n",
       "      <td>lose</td>\n",
       "      <td>1674.5585</td>\n",
       "      <td>2282.4344</td>\n",
       "      <td>25652.0</td>\n",
       "      <td>30068.0</td>\n",
       "      <td>34.2959</td>\n",
       "      <td>214.0</td>\n",
       "    </tr>\n",
       "  </tbody>\n",
       "</table>\n",
       "</div>"
      ],
      "text/plain": [
       "                     gameid playername  participantid  side league   split  \\\n",
       "1450  ESPORTSTMNT01_2700815        NaN            100  Blue    LCK  Spring   \n",
       "1462  ESPORTSTMNT01_2690695        NaN            100  Blue    LCK  Spring   \n",
       "2386  ESPORTSTMNT01_2691507        NaN            100  Blue    LCK  Spring   \n",
       "2423  ESPORTSTMNT01_2691515        NaN            200   Red    LCK  Spring   \n",
       "4978  ESPORTSTMNT01_2704285        NaN            100  Blue    LCK  Spring   \n",
       "\n",
       "     teamname                 date  totalgold  gamelength result        dpm  \\\n",
       "1450      DRX  2022-01-12 06:20:03      63747        2195   lose  1367.7813   \n",
       "1462      DRX  2022-01-12 09:02:13      60674        2070   lose  1935.4783   \n",
       "2386      DRX  2022-01-14 07:15:41      45102        1778   lose  1804.2520   \n",
       "2423      DRX  2022-01-14 08:42:06      40047        1556   lose  1806.4396   \n",
       "4978      DRX  2022-01-20 06:11:55      46838        1676   lose  1674.5585   \n",
       "\n",
       "      damagetakenperminute  goldat15   xpat15     cspm  visionscore  \n",
       "1450             2227.5171   27198.0  30325.0  33.6765        305.0  \n",
       "1462             2318.4928   23612.0  29371.0  34.2029        262.0  \n",
       "2386             2773.2958   22904.0  29856.0  30.3375        188.0  \n",
       "2423             3931.2725   23642.0  27936.0  29.5758        162.0  \n",
       "4978             2282.4344   25652.0  30068.0  34.2959        214.0  "
      ]
     },
     "execution_count": 183,
     "metadata": {},
     "output_type": "execute_result"
    }
   ],
   "source": [
    "lck_spring_drx_df = lck_spring_df[ (lck_spring_df['teamname'] == 'DRX') & ( (lck_spring_df['participantid'] == 100) \\\n",
    "    | (lck_spring_df['participantid'] == 200 ) ) ]\n",
    "\n",
    "lck_spring_drx_df['result'] = np.where( lck_spring_drx_df['result'] == 0 , 'lose', 'win')\n",
    "\n",
    "lck_spring_drx_df.head()"
   ]
  },
  {
   "cell_type": "code",
   "execution_count": 184,
   "metadata": {},
   "outputs": [
    {
     "data": {
      "text/html": [
       "<div>\n",
       "<style scoped>\n",
       "    .dataframe tbody tr th:only-of-type {\n",
       "        vertical-align: middle;\n",
       "    }\n",
       "\n",
       "    .dataframe tbody tr th {\n",
       "        vertical-align: top;\n",
       "    }\n",
       "\n",
       "    .dataframe thead th {\n",
       "        text-align: right;\n",
       "    }\n",
       "</style>\n",
       "<table border=\"1\" class=\"dataframe\">\n",
       "  <thead>\n",
       "    <tr style=\"text-align: right;\">\n",
       "      <th></th>\n",
       "      <th>participantid</th>\n",
       "      <th>totalgold</th>\n",
       "      <th>gamelength</th>\n",
       "      <th>dpm</th>\n",
       "      <th>damagetakenperminute</th>\n",
       "      <th>goldat15</th>\n",
       "      <th>xpat15</th>\n",
       "      <th>cspm</th>\n",
       "      <th>visionscore</th>\n",
       "    </tr>\n",
       "  </thead>\n",
       "  <tbody>\n",
       "    <tr>\n",
       "      <th>count</th>\n",
       "      <td>41.000000</td>\n",
       "      <td>41.000000</td>\n",
       "      <td>41.000000</td>\n",
       "      <td>41.000000</td>\n",
       "      <td>41.000000</td>\n",
       "      <td>41.000000</td>\n",
       "      <td>41.000000</td>\n",
       "      <td>41.000000</td>\n",
       "      <td>41.000000</td>\n",
       "    </tr>\n",
       "    <tr>\n",
       "      <th>mean</th>\n",
       "      <td>148.780488</td>\n",
       "      <td>60768.268293</td>\n",
       "      <td>2066.317073</td>\n",
       "      <td>1881.339295</td>\n",
       "      <td>2725.212710</td>\n",
       "      <td>24603.780488</td>\n",
       "      <td>29866.365854</td>\n",
       "      <td>34.270524</td>\n",
       "      <td>274.756098</td>\n",
       "    </tr>\n",
       "    <tr>\n",
       "      <th>std</th>\n",
       "      <td>50.606083</td>\n",
       "      <td>12588.163567</td>\n",
       "      <td>380.109355</td>\n",
       "      <td>520.052907</td>\n",
       "      <td>490.141631</td>\n",
       "      <td>1418.306711</td>\n",
       "      <td>1147.955808</td>\n",
       "      <td>3.726990</td>\n",
       "      <td>79.211041</td>\n",
       "    </tr>\n",
       "    <tr>\n",
       "      <th>min</th>\n",
       "      <td>100.000000</td>\n",
       "      <td>39051.000000</td>\n",
       "      <td>1537.000000</td>\n",
       "      <td>1074.502300</td>\n",
       "      <td>1703.685900</td>\n",
       "      <td>22491.000000</td>\n",
       "      <td>27861.000000</td>\n",
       "      <td>29.575800</td>\n",
       "      <td>157.000000</td>\n",
       "    </tr>\n",
       "    <tr>\n",
       "      <th>25%</th>\n",
       "      <td>100.000000</td>\n",
       "      <td>53257.000000</td>\n",
       "      <td>1778.000000</td>\n",
       "      <td>1452.704700</td>\n",
       "      <td>2321.787600</td>\n",
       "      <td>23642.000000</td>\n",
       "      <td>28938.000000</td>\n",
       "      <td>31.812700</td>\n",
       "      <td>213.000000</td>\n",
       "    </tr>\n",
       "    <tr>\n",
       "      <th>50%</th>\n",
       "      <td>100.000000</td>\n",
       "      <td>60094.000000</td>\n",
       "      <td>1967.000000</td>\n",
       "      <td>1806.439600</td>\n",
       "      <td>2771.448100</td>\n",
       "      <td>24295.000000</td>\n",
       "      <td>29926.000000</td>\n",
       "      <td>33.676500</td>\n",
       "      <td>264.000000</td>\n",
       "    </tr>\n",
       "    <tr>\n",
       "      <th>75%</th>\n",
       "      <td>200.000000</td>\n",
       "      <td>69709.000000</td>\n",
       "      <td>2367.000000</td>\n",
       "      <td>2185.279000</td>\n",
       "      <td>3020.104200</td>\n",
       "      <td>25546.000000</td>\n",
       "      <td>30474.000000</td>\n",
       "      <td>34.933000</td>\n",
       "      <td>326.000000</td>\n",
       "    </tr>\n",
       "    <tr>\n",
       "      <th>max</th>\n",
       "      <td>200.000000</td>\n",
       "      <td>87529.000000</td>\n",
       "      <td>2887.000000</td>\n",
       "      <td>2990.254500</td>\n",
       "      <td>3948.720100</td>\n",
       "      <td>28141.000000</td>\n",
       "      <td>32598.000000</td>\n",
       "      <td>43.109000</td>\n",
       "      <td>457.000000</td>\n",
       "    </tr>\n",
       "  </tbody>\n",
       "</table>\n",
       "</div>"
      ],
      "text/plain": [
       "       participantid     totalgold   gamelength          dpm  \\\n",
       "count      41.000000     41.000000    41.000000    41.000000   \n",
       "mean      148.780488  60768.268293  2066.317073  1881.339295   \n",
       "std        50.606083  12588.163567   380.109355   520.052907   \n",
       "min       100.000000  39051.000000  1537.000000  1074.502300   \n",
       "25%       100.000000  53257.000000  1778.000000  1452.704700   \n",
       "50%       100.000000  60094.000000  1967.000000  1806.439600   \n",
       "75%       200.000000  69709.000000  2367.000000  2185.279000   \n",
       "max       200.000000  87529.000000  2887.000000  2990.254500   \n",
       "\n",
       "       damagetakenperminute      goldat15        xpat15       cspm  \\\n",
       "count             41.000000     41.000000     41.000000  41.000000   \n",
       "mean            2725.212710  24603.780488  29866.365854  34.270524   \n",
       "std              490.141631   1418.306711   1147.955808   3.726990   \n",
       "min             1703.685900  22491.000000  27861.000000  29.575800   \n",
       "25%             2321.787600  23642.000000  28938.000000  31.812700   \n",
       "50%             2771.448100  24295.000000  29926.000000  33.676500   \n",
       "75%             3020.104200  25546.000000  30474.000000  34.933000   \n",
       "max             3948.720100  28141.000000  32598.000000  43.109000   \n",
       "\n",
       "       visionscore  \n",
       "count    41.000000  \n",
       "mean    274.756098  \n",
       "std      79.211041  \n",
       "min     157.000000  \n",
       "25%     213.000000  \n",
       "50%     264.000000  \n",
       "75%     326.000000  \n",
       "max     457.000000  "
      ]
     },
     "execution_count": 184,
     "metadata": {},
     "output_type": "execute_result"
    }
   ],
   "source": [
    "lck_spring_drx_df.describe() #drx 지표통계확인"
   ]
  },
  {
   "cell_type": "code",
   "execution_count": 185,
   "metadata": {},
   "outputs": [
    {
     "data": {
      "text/plain": [
       "60768.26829268293"
      ]
     },
     "execution_count": 185,
     "metadata": {},
     "output_type": "execute_result"
    }
   ],
   "source": [
    "lck_spring_drx_df['totalgold'].mean() #drx 지표통계확인"
   ]
  },
  {
   "cell_type": "code",
   "execution_count": 186,
   "metadata": {},
   "outputs": [
    {
     "name": "stderr",
     "output_type": "stream",
     "text": [
      "C:\\Users\\Public\\Documents\\ESTsoft\\CreatorTemp\\ipykernel_19940\\3986707623.py:1: SettingWithCopyWarning:\n",
      "\n",
      "\n",
      "A value is trying to be set on a copy of a slice from a DataFrame.\n",
      "Try using .loc[row_indexer,col_indexer] = value instead\n",
      "\n",
      "See the caveats in the documentation: https://pandas.pydata.org/pandas-docs/stable/user_guide/indexing.html#returning-a-view-versus-a-copy\n",
      "\n"
     ]
    },
    {
     "data": {
      "text/html": [
       "<div>\n",
       "<style scoped>\n",
       "    .dataframe tbody tr th:only-of-type {\n",
       "        vertical-align: middle;\n",
       "    }\n",
       "\n",
       "    .dataframe tbody tr th {\n",
       "        vertical-align: top;\n",
       "    }\n",
       "\n",
       "    .dataframe thead th {\n",
       "        text-align: right;\n",
       "    }\n",
       "</style>\n",
       "<table border=\"1\" class=\"dataframe\">\n",
       "  <thead>\n",
       "    <tr style=\"text-align: right;\">\n",
       "      <th></th>\n",
       "      <th>gameid</th>\n",
       "      <th>participantid</th>\n",
       "      <th>side</th>\n",
       "      <th>league</th>\n",
       "      <th>split</th>\n",
       "      <th>teamname</th>\n",
       "      <th>date</th>\n",
       "      <th>gamelength</th>\n",
       "      <th>result</th>\n",
       "      <th>totalgold</th>\n",
       "      <th>golddiffat15</th>\n",
       "      <th>towers</th>\n",
       "    </tr>\n",
       "  </thead>\n",
       "  <tbody>\n",
       "    <tr>\n",
       "      <th>10750</th>\n",
       "      <td>ESPORTSTMNT02_2552430</td>\n",
       "      <td>100</td>\n",
       "      <td>Blue</td>\n",
       "      <td>LCK</td>\n",
       "      <td>Spring</td>\n",
       "      <td>outlier</td>\n",
       "      <td>2022-01-30 06:56:25</td>\n",
       "      <td>3326</td>\n",
       "      <td>win</td>\n",
       "      <td>100872</td>\n",
       "      <td>448.0</td>\n",
       "      <td>10.0</td>\n",
       "    </tr>\n",
       "    <tr>\n",
       "      <th>10751</th>\n",
       "      <td>ESPORTSTMNT02_2552430</td>\n",
       "      <td>200</td>\n",
       "      <td>Red</td>\n",
       "      <td>LCK</td>\n",
       "      <td>Spring</td>\n",
       "      <td>outlier</td>\n",
       "      <td>2022-01-30 06:56:25</td>\n",
       "      <td>3326</td>\n",
       "      <td>lose</td>\n",
       "      <td>93420</td>\n",
       "      <td>-448.0</td>\n",
       "      <td>7.0</td>\n",
       "    </tr>\n",
       "    <tr>\n",
       "      <th>18922</th>\n",
       "      <td>ESPORTSTMNT02_2578644</td>\n",
       "      <td>100</td>\n",
       "      <td>Blue</td>\n",
       "      <td>LCK</td>\n",
       "      <td>Spring</td>\n",
       "      <td>outlier</td>\n",
       "      <td>2022-02-12 06:05:04</td>\n",
       "      <td>2746</td>\n",
       "      <td>win</td>\n",
       "      <td>90436</td>\n",
       "      <td>-567.0</td>\n",
       "      <td>8.0</td>\n",
       "    </tr>\n",
       "  </tbody>\n",
       "</table>\n",
       "</div>"
      ],
      "text/plain": [
       "                      gameid  participantid  side league   split teamname  \\\n",
       "10750  ESPORTSTMNT02_2552430            100  Blue    LCK  Spring  outlier   \n",
       "10751  ESPORTSTMNT02_2552430            200   Red    LCK  Spring  outlier   \n",
       "18922  ESPORTSTMNT02_2578644            100  Blue    LCK  Spring  outlier   \n",
       "\n",
       "                      date  gamelength result  totalgold  golddiffat15  towers  \n",
       "10750  2022-01-30 06:56:25        3326    win     100872         448.0    10.0  \n",
       "10751  2022-01-30 06:56:25        3326   lose      93420        -448.0     7.0  \n",
       "18922  2022-02-12 06:05:04        2746    win      90436        -567.0     8.0  "
      ]
     },
     "execution_count": 186,
     "metadata": {},
     "output_type": "execute_result"
    }
   ],
   "source": [
    "lck_spring_team_df['teamname'] = np.where( lck_spring_team_df['totalgold'] >= 90000 , 'outlier', lck_spring_team_df['teamname'] )\n",
    "\n",
    "lck_spring_team_df[ lck_spring_team_df['totalgold'] >= 90000 ] "
   ]
  },
  {
   "cell_type": "code",
   "execution_count": 187,
   "metadata": {},
   "outputs": [
    {
     "name": "stderr",
     "output_type": "stream",
     "text": [
      "C:\\Users\\Public\\Documents\\ESTsoft\\CreatorTemp\\ipykernel_19940\\4283900237.py:2: SettingWithCopyWarning:\n",
      "\n",
      "\n",
      "A value is trying to be set on a copy of a slice from a DataFrame.\n",
      "Try using .loc[row_indexer,col_indexer] = value instead\n",
      "\n",
      "See the caveats in the documentation: https://pandas.pydata.org/pandas-docs/stable/user_guide/indexing.html#returning-a-view-versus-a-copy\n",
      "\n"
     ]
    },
    {
     "data": {
      "text/html": [
       "<div>\n",
       "<style scoped>\n",
       "    .dataframe tbody tr th:only-of-type {\n",
       "        vertical-align: middle;\n",
       "    }\n",
       "\n",
       "    .dataframe tbody tr th {\n",
       "        vertical-align: top;\n",
       "    }\n",
       "\n",
       "    .dataframe thead th {\n",
       "        text-align: right;\n",
       "    }\n",
       "</style>\n",
       "<table border=\"1\" class=\"dataframe\">\n",
       "  <thead>\n",
       "    <tr style=\"text-align: right;\">\n",
       "      <th></th>\n",
       "      <th>towers</th>\n",
       "      <th>gamelength</th>\n",
       "    </tr>\n",
       "    <tr>\n",
       "      <th>teamname</th>\n",
       "      <th></th>\n",
       "      <th></th>\n",
       "    </tr>\n",
       "  </thead>\n",
       "  <tbody>\n",
       "    <tr>\n",
       "      <th>DRX</th>\n",
       "      <td>6.439024</td>\n",
       "      <td>2066.317073</td>\n",
       "    </tr>\n",
       "    <tr>\n",
       "      <th>DWG KIA</th>\n",
       "      <td>7.097561</td>\n",
       "      <td>2114.731707</td>\n",
       "    </tr>\n",
       "    <tr>\n",
       "      <th>Fredit BRION</th>\n",
       "      <td>6.000000</td>\n",
       "      <td>2133.750000</td>\n",
       "    </tr>\n",
       "    <tr>\n",
       "      <th>Gen.G</th>\n",
       "      <td>7.750000</td>\n",
       "      <td>1992.350000</td>\n",
       "    </tr>\n",
       "    <tr>\n",
       "      <th>Hanwha Life Esports</th>\n",
       "      <td>4.465116</td>\n",
       "      <td>2093.116279</td>\n",
       "    </tr>\n",
       "    <tr>\n",
       "      <th>KT Rolster</th>\n",
       "      <td>5.418605</td>\n",
       "      <td>2015.186047</td>\n",
       "    </tr>\n",
       "    <tr>\n",
       "      <th>Kwangdong Freecs</th>\n",
       "      <td>6.571429</td>\n",
       "      <td>2101.309524</td>\n",
       "    </tr>\n",
       "    <tr>\n",
       "      <th>Liiv SANDBOX</th>\n",
       "      <td>4.121951</td>\n",
       "      <td>1906.585366</td>\n",
       "    </tr>\n",
       "    <tr>\n",
       "      <th>Nongshim RedForce</th>\n",
       "      <td>5.466667</td>\n",
       "      <td>2094.955556</td>\n",
       "    </tr>\n",
       "    <tr>\n",
       "      <th>T1</th>\n",
       "      <td>8.780488</td>\n",
       "      <td>1964.317073</td>\n",
       "    </tr>\n",
       "    <tr>\n",
       "      <th>outlier</th>\n",
       "      <td>8.333333</td>\n",
       "      <td>3132.666667</td>\n",
       "    </tr>\n",
       "  </tbody>\n",
       "</table>\n",
       "</div>"
      ],
      "text/plain": [
       "                       towers   gamelength\n",
       "teamname                                  \n",
       "DRX                  6.439024  2066.317073\n",
       "DWG KIA              7.097561  2114.731707\n",
       "Fredit BRION         6.000000  2133.750000\n",
       "Gen.G                7.750000  1992.350000\n",
       "Hanwha Life Esports  4.465116  2093.116279\n",
       "KT Rolster           5.418605  2015.186047\n",
       "Kwangdong Freecs     6.571429  2101.309524\n",
       "Liiv SANDBOX         4.121951  1906.585366\n",
       "Nongshim RedForce    5.466667  2094.955556\n",
       "T1                   8.780488  1964.317073\n",
       "outlier              8.333333  3132.666667"
      ]
     },
     "execution_count": 187,
     "metadata": {},
     "output_type": "execute_result"
    }
   ],
   "source": [
    "# totalgold 평균 지표\n",
    "lck_spring_team_df[ lck_spring_team_df['totalgold'] >= 90000 ]['teamname'] = 'outlier'\n",
    "\n",
    "lck_spring_team_scored = lck_spring_team_df.groupby('teamname')[ ['towers','gamelength'] ].mean()\n",
    "lck_spring_team_scored"
   ]
  },
  {
   "cell_type": "code",
   "execution_count": 215,
   "metadata": {},
   "outputs": [
    {
     "data": {
      "application/vnd.plotly.v1+json": {
       "config": {
        "plotlyServerURL": "https://plotly.com"
       },
       "data": [
        {
         "marker": {
          "color": [
           "#5F76C1",
           "#5F76C1",
           "#5F76C1",
           "#5F76C1",
           "#5F76C1",
           "#5F76C1",
           "#5F76C1",
           "#5F76C1",
           "#5F76C1",
           "#5F76C1",
           "#C15F5F"
          ]
         },
         "type": "bar",
         "x": [
          "DRX",
          "DWG KIA",
          "Fredit BRION",
          "Gen.G",
          "Hanwha Life Esports",
          "KT Rolster",
          "Kwangdong Freecs",
          "Liiv SANDBOX",
          "Nongshim RedForce",
          "T1",
          "outlier"
         ],
         "y": [
          2066.317073170732,
          2114.731707317073,
          2133.75,
          1992.35,
          2093.1162790697676,
          2015.1860465116279,
          2101.309523809524,
          1906.5853658536585,
          2094.9555555555557,
          1964.3170731707316,
          3132.6666666666665
         ]
        }
       ],
       "layout": {
        "template": {
         "data": {
          "bar": [
           {
            "error_x": {
             "color": "#2a3f5f"
            },
            "error_y": {
             "color": "#2a3f5f"
            },
            "marker": {
             "line": {
              "color": "#E5ECF6",
              "width": 0.5
             },
             "pattern": {
              "fillmode": "overlay",
              "size": 10,
              "solidity": 0.2
             }
            },
            "type": "bar"
           }
          ],
          "barpolar": [
           {
            "marker": {
             "line": {
              "color": "#E5ECF6",
              "width": 0.5
             },
             "pattern": {
              "fillmode": "overlay",
              "size": 10,
              "solidity": 0.2
             }
            },
            "type": "barpolar"
           }
          ],
          "carpet": [
           {
            "aaxis": {
             "endlinecolor": "#2a3f5f",
             "gridcolor": "white",
             "linecolor": "white",
             "minorgridcolor": "white",
             "startlinecolor": "#2a3f5f"
            },
            "baxis": {
             "endlinecolor": "#2a3f5f",
             "gridcolor": "white",
             "linecolor": "white",
             "minorgridcolor": "white",
             "startlinecolor": "#2a3f5f"
            },
            "type": "carpet"
           }
          ],
          "choropleth": [
           {
            "colorbar": {
             "outlinewidth": 0,
             "ticks": ""
            },
            "type": "choropleth"
           }
          ],
          "contour": [
           {
            "colorbar": {
             "outlinewidth": 0,
             "ticks": ""
            },
            "colorscale": [
             [
              0,
              "#0d0887"
             ],
             [
              0.1111111111111111,
              "#46039f"
             ],
             [
              0.2222222222222222,
              "#7201a8"
             ],
             [
              0.3333333333333333,
              "#9c179e"
             ],
             [
              0.4444444444444444,
              "#bd3786"
             ],
             [
              0.5555555555555556,
              "#d8576b"
             ],
             [
              0.6666666666666666,
              "#ed7953"
             ],
             [
              0.7777777777777778,
              "#fb9f3a"
             ],
             [
              0.8888888888888888,
              "#fdca26"
             ],
             [
              1,
              "#f0f921"
             ]
            ],
            "type": "contour"
           }
          ],
          "contourcarpet": [
           {
            "colorbar": {
             "outlinewidth": 0,
             "ticks": ""
            },
            "type": "contourcarpet"
           }
          ],
          "heatmap": [
           {
            "colorbar": {
             "outlinewidth": 0,
             "ticks": ""
            },
            "colorscale": [
             [
              0,
              "#0d0887"
             ],
             [
              0.1111111111111111,
              "#46039f"
             ],
             [
              0.2222222222222222,
              "#7201a8"
             ],
             [
              0.3333333333333333,
              "#9c179e"
             ],
             [
              0.4444444444444444,
              "#bd3786"
             ],
             [
              0.5555555555555556,
              "#d8576b"
             ],
             [
              0.6666666666666666,
              "#ed7953"
             ],
             [
              0.7777777777777778,
              "#fb9f3a"
             ],
             [
              0.8888888888888888,
              "#fdca26"
             ],
             [
              1,
              "#f0f921"
             ]
            ],
            "type": "heatmap"
           }
          ],
          "heatmapgl": [
           {
            "colorbar": {
             "outlinewidth": 0,
             "ticks": ""
            },
            "colorscale": [
             [
              0,
              "#0d0887"
             ],
             [
              0.1111111111111111,
              "#46039f"
             ],
             [
              0.2222222222222222,
              "#7201a8"
             ],
             [
              0.3333333333333333,
              "#9c179e"
             ],
             [
              0.4444444444444444,
              "#bd3786"
             ],
             [
              0.5555555555555556,
              "#d8576b"
             ],
             [
              0.6666666666666666,
              "#ed7953"
             ],
             [
              0.7777777777777778,
              "#fb9f3a"
             ],
             [
              0.8888888888888888,
              "#fdca26"
             ],
             [
              1,
              "#f0f921"
             ]
            ],
            "type": "heatmapgl"
           }
          ],
          "histogram": [
           {
            "marker": {
             "pattern": {
              "fillmode": "overlay",
              "size": 10,
              "solidity": 0.2
             }
            },
            "type": "histogram"
           }
          ],
          "histogram2d": [
           {
            "colorbar": {
             "outlinewidth": 0,
             "ticks": ""
            },
            "colorscale": [
             [
              0,
              "#0d0887"
             ],
             [
              0.1111111111111111,
              "#46039f"
             ],
             [
              0.2222222222222222,
              "#7201a8"
             ],
             [
              0.3333333333333333,
              "#9c179e"
             ],
             [
              0.4444444444444444,
              "#bd3786"
             ],
             [
              0.5555555555555556,
              "#d8576b"
             ],
             [
              0.6666666666666666,
              "#ed7953"
             ],
             [
              0.7777777777777778,
              "#fb9f3a"
             ],
             [
              0.8888888888888888,
              "#fdca26"
             ],
             [
              1,
              "#f0f921"
             ]
            ],
            "type": "histogram2d"
           }
          ],
          "histogram2dcontour": [
           {
            "colorbar": {
             "outlinewidth": 0,
             "ticks": ""
            },
            "colorscale": [
             [
              0,
              "#0d0887"
             ],
             [
              0.1111111111111111,
              "#46039f"
             ],
             [
              0.2222222222222222,
              "#7201a8"
             ],
             [
              0.3333333333333333,
              "#9c179e"
             ],
             [
              0.4444444444444444,
              "#bd3786"
             ],
             [
              0.5555555555555556,
              "#d8576b"
             ],
             [
              0.6666666666666666,
              "#ed7953"
             ],
             [
              0.7777777777777778,
              "#fb9f3a"
             ],
             [
              0.8888888888888888,
              "#fdca26"
             ],
             [
              1,
              "#f0f921"
             ]
            ],
            "type": "histogram2dcontour"
           }
          ],
          "mesh3d": [
           {
            "colorbar": {
             "outlinewidth": 0,
             "ticks": ""
            },
            "type": "mesh3d"
           }
          ],
          "parcoords": [
           {
            "line": {
             "colorbar": {
              "outlinewidth": 0,
              "ticks": ""
             }
            },
            "type": "parcoords"
           }
          ],
          "pie": [
           {
            "automargin": true,
            "type": "pie"
           }
          ],
          "scatter": [
           {
            "fillpattern": {
             "fillmode": "overlay",
             "size": 10,
             "solidity": 0.2
            },
            "type": "scatter"
           }
          ],
          "scatter3d": [
           {
            "line": {
             "colorbar": {
              "outlinewidth": 0,
              "ticks": ""
             }
            },
            "marker": {
             "colorbar": {
              "outlinewidth": 0,
              "ticks": ""
             }
            },
            "type": "scatter3d"
           }
          ],
          "scattercarpet": [
           {
            "marker": {
             "colorbar": {
              "outlinewidth": 0,
              "ticks": ""
             }
            },
            "type": "scattercarpet"
           }
          ],
          "scattergeo": [
           {
            "marker": {
             "colorbar": {
              "outlinewidth": 0,
              "ticks": ""
             }
            },
            "type": "scattergeo"
           }
          ],
          "scattergl": [
           {
            "marker": {
             "colorbar": {
              "outlinewidth": 0,
              "ticks": ""
             }
            },
            "type": "scattergl"
           }
          ],
          "scattermapbox": [
           {
            "marker": {
             "colorbar": {
              "outlinewidth": 0,
              "ticks": ""
             }
            },
            "type": "scattermapbox"
           }
          ],
          "scatterpolar": [
           {
            "marker": {
             "colorbar": {
              "outlinewidth": 0,
              "ticks": ""
             }
            },
            "type": "scatterpolar"
           }
          ],
          "scatterpolargl": [
           {
            "marker": {
             "colorbar": {
              "outlinewidth": 0,
              "ticks": ""
             }
            },
            "type": "scatterpolargl"
           }
          ],
          "scatterternary": [
           {
            "marker": {
             "colorbar": {
              "outlinewidth": 0,
              "ticks": ""
             }
            },
            "type": "scatterternary"
           }
          ],
          "surface": [
           {
            "colorbar": {
             "outlinewidth": 0,
             "ticks": ""
            },
            "colorscale": [
             [
              0,
              "#0d0887"
             ],
             [
              0.1111111111111111,
              "#46039f"
             ],
             [
              0.2222222222222222,
              "#7201a8"
             ],
             [
              0.3333333333333333,
              "#9c179e"
             ],
             [
              0.4444444444444444,
              "#bd3786"
             ],
             [
              0.5555555555555556,
              "#d8576b"
             ],
             [
              0.6666666666666666,
              "#ed7953"
             ],
             [
              0.7777777777777778,
              "#fb9f3a"
             ],
             [
              0.8888888888888888,
              "#fdca26"
             ],
             [
              1,
              "#f0f921"
             ]
            ],
            "type": "surface"
           }
          ],
          "table": [
           {
            "cells": {
             "fill": {
              "color": "#EBF0F8"
             },
             "line": {
              "color": "white"
             }
            },
            "header": {
             "fill": {
              "color": "#C8D4E3"
             },
             "line": {
              "color": "white"
             }
            },
            "type": "table"
           }
          ]
         },
         "layout": {
          "annotationdefaults": {
           "arrowcolor": "#2a3f5f",
           "arrowhead": 0,
           "arrowwidth": 1
          },
          "autotypenumbers": "strict",
          "coloraxis": {
           "colorbar": {
            "outlinewidth": 0,
            "ticks": ""
           }
          },
          "colorscale": {
           "diverging": [
            [
             0,
             "#8e0152"
            ],
            [
             0.1,
             "#c51b7d"
            ],
            [
             0.2,
             "#de77ae"
            ],
            [
             0.3,
             "#f1b6da"
            ],
            [
             0.4,
             "#fde0ef"
            ],
            [
             0.5,
             "#f7f7f7"
            ],
            [
             0.6,
             "#e6f5d0"
            ],
            [
             0.7,
             "#b8e186"
            ],
            [
             0.8,
             "#7fbc41"
            ],
            [
             0.9,
             "#4d9221"
            ],
            [
             1,
             "#276419"
            ]
           ],
           "sequential": [
            [
             0,
             "#0d0887"
            ],
            [
             0.1111111111111111,
             "#46039f"
            ],
            [
             0.2222222222222222,
             "#7201a8"
            ],
            [
             0.3333333333333333,
             "#9c179e"
            ],
            [
             0.4444444444444444,
             "#bd3786"
            ],
            [
             0.5555555555555556,
             "#d8576b"
            ],
            [
             0.6666666666666666,
             "#ed7953"
            ],
            [
             0.7777777777777778,
             "#fb9f3a"
            ],
            [
             0.8888888888888888,
             "#fdca26"
            ],
            [
             1,
             "#f0f921"
            ]
           ],
           "sequentialminus": [
            [
             0,
             "#0d0887"
            ],
            [
             0.1111111111111111,
             "#46039f"
            ],
            [
             0.2222222222222222,
             "#7201a8"
            ],
            [
             0.3333333333333333,
             "#9c179e"
            ],
            [
             0.4444444444444444,
             "#bd3786"
            ],
            [
             0.5555555555555556,
             "#d8576b"
            ],
            [
             0.6666666666666666,
             "#ed7953"
            ],
            [
             0.7777777777777778,
             "#fb9f3a"
            ],
            [
             0.8888888888888888,
             "#fdca26"
            ],
            [
             1,
             "#f0f921"
            ]
           ]
          },
          "colorway": [
           "#636efa",
           "#EF553B",
           "#00cc96",
           "#ab63fa",
           "#FFA15A",
           "#19d3f3",
           "#FF6692",
           "#B6E880",
           "#FF97FF",
           "#FECB52"
          ],
          "font": {
           "color": "#2a3f5f"
          },
          "geo": {
           "bgcolor": "white",
           "lakecolor": "white",
           "landcolor": "#E5ECF6",
           "showlakes": true,
           "showland": true,
           "subunitcolor": "white"
          },
          "hoverlabel": {
           "align": "left"
          },
          "hovermode": "closest",
          "mapbox": {
           "style": "light"
          },
          "paper_bgcolor": "white",
          "plot_bgcolor": "#E5ECF6",
          "polar": {
           "angularaxis": {
            "gridcolor": "white",
            "linecolor": "white",
            "ticks": ""
           },
           "bgcolor": "#E5ECF6",
           "radialaxis": {
            "gridcolor": "white",
            "linecolor": "white",
            "ticks": ""
           }
          },
          "scene": {
           "xaxis": {
            "backgroundcolor": "#E5ECF6",
            "gridcolor": "white",
            "gridwidth": 2,
            "linecolor": "white",
            "showbackground": true,
            "ticks": "",
            "zerolinecolor": "white"
           },
           "yaxis": {
            "backgroundcolor": "#E5ECF6",
            "gridcolor": "white",
            "gridwidth": 2,
            "linecolor": "white",
            "showbackground": true,
            "ticks": "",
            "zerolinecolor": "white"
           },
           "zaxis": {
            "backgroundcolor": "#E5ECF6",
            "gridcolor": "white",
            "gridwidth": 2,
            "linecolor": "white",
            "showbackground": true,
            "ticks": "",
            "zerolinecolor": "white"
           }
          },
          "shapedefaults": {
           "line": {
            "color": "#2a3f5f"
           }
          },
          "ternary": {
           "aaxis": {
            "gridcolor": "white",
            "linecolor": "white",
            "ticks": ""
           },
           "baxis": {
            "gridcolor": "white",
            "linecolor": "white",
            "ticks": ""
           },
           "bgcolor": "#E5ECF6",
           "caxis": {
            "gridcolor": "white",
            "linecolor": "white",
            "ticks": ""
           }
          },
          "title": {
           "x": 0.05
          },
          "xaxis": {
           "automargin": true,
           "gridcolor": "white",
           "linecolor": "white",
           "ticks": "",
           "title": {
            "standoff": 15
           },
           "zerolinecolor": "white",
           "zerolinewidth": 2
          },
          "yaxis": {
           "automargin": true,
           "gridcolor": "white",
           "linecolor": "white",
           "ticks": "",
           "title": {
            "standoff": 15
           },
           "zerolinecolor": "white",
           "zerolinewidth": 2
          }
         }
        },
        "yaxis": {
         "range": [
          1900,
          3200
         ]
        }
       }
      }
     },
     "metadata": {},
     "output_type": "display_data"
    }
   ],
   "source": [
    "fig = go.Figure()\n",
    "colors = ['#5F76C1',] * len(lck_spring_team_scored.index)\n",
    "colors[-1] = '#C15F5F'\n",
    "\n",
    "\n",
    "fig.add_trace(go.Bar(x=lck_spring_team_scored.index , y=lck_spring_team_scored['gamelength'], marker_color=colors) )\n",
    "fig.update_yaxes(range=[1900,3200]) #outlier 강조하기\n",
    "\n",
    "fig.show()"
   ]
  },
  {
   "cell_type": "code",
   "execution_count": 216,
   "metadata": {},
   "outputs": [
    {
     "data": {
      "application/vnd.plotly.v1+json": {
       "config": {
        "plotlyServerURL": "https://plotly.com"
       },
       "data": [
        {
         "type": "bar",
         "x": [
          "DRX",
          "DWG KIA",
          "Fredit BRION",
          "Gen.G",
          "Hanwha Life Esports",
          "KT Rolster",
          "Kwangdong Freecs",
          "Liiv SANDBOX",
          "Nongshim RedForce",
          "T1"
         ],
         "y": [
          6.439024390243903,
          7.097560975609756,
          6,
          7.75,
          4.465116279069767,
          5.4186046511627906,
          6.571428571428571,
          4.121951219512195,
          5.466666666666667,
          8.78048780487805
         ]
        }
       ],
       "layout": {
        "template": {
         "data": {
          "bar": [
           {
            "error_x": {
             "color": "#2a3f5f"
            },
            "error_y": {
             "color": "#2a3f5f"
            },
            "marker": {
             "line": {
              "color": "#E5ECF6",
              "width": 0.5
             },
             "pattern": {
              "fillmode": "overlay",
              "size": 10,
              "solidity": 0.2
             }
            },
            "type": "bar"
           }
          ],
          "barpolar": [
           {
            "marker": {
             "line": {
              "color": "#E5ECF6",
              "width": 0.5
             },
             "pattern": {
              "fillmode": "overlay",
              "size": 10,
              "solidity": 0.2
             }
            },
            "type": "barpolar"
           }
          ],
          "carpet": [
           {
            "aaxis": {
             "endlinecolor": "#2a3f5f",
             "gridcolor": "white",
             "linecolor": "white",
             "minorgridcolor": "white",
             "startlinecolor": "#2a3f5f"
            },
            "baxis": {
             "endlinecolor": "#2a3f5f",
             "gridcolor": "white",
             "linecolor": "white",
             "minorgridcolor": "white",
             "startlinecolor": "#2a3f5f"
            },
            "type": "carpet"
           }
          ],
          "choropleth": [
           {
            "colorbar": {
             "outlinewidth": 0,
             "ticks": ""
            },
            "type": "choropleth"
           }
          ],
          "contour": [
           {
            "colorbar": {
             "outlinewidth": 0,
             "ticks": ""
            },
            "colorscale": [
             [
              0,
              "#0d0887"
             ],
             [
              0.1111111111111111,
              "#46039f"
             ],
             [
              0.2222222222222222,
              "#7201a8"
             ],
             [
              0.3333333333333333,
              "#9c179e"
             ],
             [
              0.4444444444444444,
              "#bd3786"
             ],
             [
              0.5555555555555556,
              "#d8576b"
             ],
             [
              0.6666666666666666,
              "#ed7953"
             ],
             [
              0.7777777777777778,
              "#fb9f3a"
             ],
             [
              0.8888888888888888,
              "#fdca26"
             ],
             [
              1,
              "#f0f921"
             ]
            ],
            "type": "contour"
           }
          ],
          "contourcarpet": [
           {
            "colorbar": {
             "outlinewidth": 0,
             "ticks": ""
            },
            "type": "contourcarpet"
           }
          ],
          "heatmap": [
           {
            "colorbar": {
             "outlinewidth": 0,
             "ticks": ""
            },
            "colorscale": [
             [
              0,
              "#0d0887"
             ],
             [
              0.1111111111111111,
              "#46039f"
             ],
             [
              0.2222222222222222,
              "#7201a8"
             ],
             [
              0.3333333333333333,
              "#9c179e"
             ],
             [
              0.4444444444444444,
              "#bd3786"
             ],
             [
              0.5555555555555556,
              "#d8576b"
             ],
             [
              0.6666666666666666,
              "#ed7953"
             ],
             [
              0.7777777777777778,
              "#fb9f3a"
             ],
             [
              0.8888888888888888,
              "#fdca26"
             ],
             [
              1,
              "#f0f921"
             ]
            ],
            "type": "heatmap"
           }
          ],
          "heatmapgl": [
           {
            "colorbar": {
             "outlinewidth": 0,
             "ticks": ""
            },
            "colorscale": [
             [
              0,
              "#0d0887"
             ],
             [
              0.1111111111111111,
              "#46039f"
             ],
             [
              0.2222222222222222,
              "#7201a8"
             ],
             [
              0.3333333333333333,
              "#9c179e"
             ],
             [
              0.4444444444444444,
              "#bd3786"
             ],
             [
              0.5555555555555556,
              "#d8576b"
             ],
             [
              0.6666666666666666,
              "#ed7953"
             ],
             [
              0.7777777777777778,
              "#fb9f3a"
             ],
             [
              0.8888888888888888,
              "#fdca26"
             ],
             [
              1,
              "#f0f921"
             ]
            ],
            "type": "heatmapgl"
           }
          ],
          "histogram": [
           {
            "marker": {
             "pattern": {
              "fillmode": "overlay",
              "size": 10,
              "solidity": 0.2
             }
            },
            "type": "histogram"
           }
          ],
          "histogram2d": [
           {
            "colorbar": {
             "outlinewidth": 0,
             "ticks": ""
            },
            "colorscale": [
             [
              0,
              "#0d0887"
             ],
             [
              0.1111111111111111,
              "#46039f"
             ],
             [
              0.2222222222222222,
              "#7201a8"
             ],
             [
              0.3333333333333333,
              "#9c179e"
             ],
             [
              0.4444444444444444,
              "#bd3786"
             ],
             [
              0.5555555555555556,
              "#d8576b"
             ],
             [
              0.6666666666666666,
              "#ed7953"
             ],
             [
              0.7777777777777778,
              "#fb9f3a"
             ],
             [
              0.8888888888888888,
              "#fdca26"
             ],
             [
              1,
              "#f0f921"
             ]
            ],
            "type": "histogram2d"
           }
          ],
          "histogram2dcontour": [
           {
            "colorbar": {
             "outlinewidth": 0,
             "ticks": ""
            },
            "colorscale": [
             [
              0,
              "#0d0887"
             ],
             [
              0.1111111111111111,
              "#46039f"
             ],
             [
              0.2222222222222222,
              "#7201a8"
             ],
             [
              0.3333333333333333,
              "#9c179e"
             ],
             [
              0.4444444444444444,
              "#bd3786"
             ],
             [
              0.5555555555555556,
              "#d8576b"
             ],
             [
              0.6666666666666666,
              "#ed7953"
             ],
             [
              0.7777777777777778,
              "#fb9f3a"
             ],
             [
              0.8888888888888888,
              "#fdca26"
             ],
             [
              1,
              "#f0f921"
             ]
            ],
            "type": "histogram2dcontour"
           }
          ],
          "mesh3d": [
           {
            "colorbar": {
             "outlinewidth": 0,
             "ticks": ""
            },
            "type": "mesh3d"
           }
          ],
          "parcoords": [
           {
            "line": {
             "colorbar": {
              "outlinewidth": 0,
              "ticks": ""
             }
            },
            "type": "parcoords"
           }
          ],
          "pie": [
           {
            "automargin": true,
            "type": "pie"
           }
          ],
          "scatter": [
           {
            "fillpattern": {
             "fillmode": "overlay",
             "size": 10,
             "solidity": 0.2
            },
            "type": "scatter"
           }
          ],
          "scatter3d": [
           {
            "line": {
             "colorbar": {
              "outlinewidth": 0,
              "ticks": ""
             }
            },
            "marker": {
             "colorbar": {
              "outlinewidth": 0,
              "ticks": ""
             }
            },
            "type": "scatter3d"
           }
          ],
          "scattercarpet": [
           {
            "marker": {
             "colorbar": {
              "outlinewidth": 0,
              "ticks": ""
             }
            },
            "type": "scattercarpet"
           }
          ],
          "scattergeo": [
           {
            "marker": {
             "colorbar": {
              "outlinewidth": 0,
              "ticks": ""
             }
            },
            "type": "scattergeo"
           }
          ],
          "scattergl": [
           {
            "marker": {
             "colorbar": {
              "outlinewidth": 0,
              "ticks": ""
             }
            },
            "type": "scattergl"
           }
          ],
          "scattermapbox": [
           {
            "marker": {
             "colorbar": {
              "outlinewidth": 0,
              "ticks": ""
             }
            },
            "type": "scattermapbox"
           }
          ],
          "scatterpolar": [
           {
            "marker": {
             "colorbar": {
              "outlinewidth": 0,
              "ticks": ""
             }
            },
            "type": "scatterpolar"
           }
          ],
          "scatterpolargl": [
           {
            "marker": {
             "colorbar": {
              "outlinewidth": 0,
              "ticks": ""
             }
            },
            "type": "scatterpolargl"
           }
          ],
          "scatterternary": [
           {
            "marker": {
             "colorbar": {
              "outlinewidth": 0,
              "ticks": ""
             }
            },
            "type": "scatterternary"
           }
          ],
          "surface": [
           {
            "colorbar": {
             "outlinewidth": 0,
             "ticks": ""
            },
            "colorscale": [
             [
              0,
              "#0d0887"
             ],
             [
              0.1111111111111111,
              "#46039f"
             ],
             [
              0.2222222222222222,
              "#7201a8"
             ],
             [
              0.3333333333333333,
              "#9c179e"
             ],
             [
              0.4444444444444444,
              "#bd3786"
             ],
             [
              0.5555555555555556,
              "#d8576b"
             ],
             [
              0.6666666666666666,
              "#ed7953"
             ],
             [
              0.7777777777777778,
              "#fb9f3a"
             ],
             [
              0.8888888888888888,
              "#fdca26"
             ],
             [
              1,
              "#f0f921"
             ]
            ],
            "type": "surface"
           }
          ],
          "table": [
           {
            "cells": {
             "fill": {
              "color": "#EBF0F8"
             },
             "line": {
              "color": "white"
             }
            },
            "header": {
             "fill": {
              "color": "#C8D4E3"
             },
             "line": {
              "color": "white"
             }
            },
            "type": "table"
           }
          ]
         },
         "layout": {
          "annotationdefaults": {
           "arrowcolor": "#2a3f5f",
           "arrowhead": 0,
           "arrowwidth": 1
          },
          "autotypenumbers": "strict",
          "coloraxis": {
           "colorbar": {
            "outlinewidth": 0,
            "ticks": ""
           }
          },
          "colorscale": {
           "diverging": [
            [
             0,
             "#8e0152"
            ],
            [
             0.1,
             "#c51b7d"
            ],
            [
             0.2,
             "#de77ae"
            ],
            [
             0.3,
             "#f1b6da"
            ],
            [
             0.4,
             "#fde0ef"
            ],
            [
             0.5,
             "#f7f7f7"
            ],
            [
             0.6,
             "#e6f5d0"
            ],
            [
             0.7,
             "#b8e186"
            ],
            [
             0.8,
             "#7fbc41"
            ],
            [
             0.9,
             "#4d9221"
            ],
            [
             1,
             "#276419"
            ]
           ],
           "sequential": [
            [
             0,
             "#0d0887"
            ],
            [
             0.1111111111111111,
             "#46039f"
            ],
            [
             0.2222222222222222,
             "#7201a8"
            ],
            [
             0.3333333333333333,
             "#9c179e"
            ],
            [
             0.4444444444444444,
             "#bd3786"
            ],
            [
             0.5555555555555556,
             "#d8576b"
            ],
            [
             0.6666666666666666,
             "#ed7953"
            ],
            [
             0.7777777777777778,
             "#fb9f3a"
            ],
            [
             0.8888888888888888,
             "#fdca26"
            ],
            [
             1,
             "#f0f921"
            ]
           ],
           "sequentialminus": [
            [
             0,
             "#0d0887"
            ],
            [
             0.1111111111111111,
             "#46039f"
            ],
            [
             0.2222222222222222,
             "#7201a8"
            ],
            [
             0.3333333333333333,
             "#9c179e"
            ],
            [
             0.4444444444444444,
             "#bd3786"
            ],
            [
             0.5555555555555556,
             "#d8576b"
            ],
            [
             0.6666666666666666,
             "#ed7953"
            ],
            [
             0.7777777777777778,
             "#fb9f3a"
            ],
            [
             0.8888888888888888,
             "#fdca26"
            ],
            [
             1,
             "#f0f921"
            ]
           ]
          },
          "colorway": [
           "#636efa",
           "#EF553B",
           "#00cc96",
           "#ab63fa",
           "#FFA15A",
           "#19d3f3",
           "#FF6692",
           "#B6E880",
           "#FF97FF",
           "#FECB52"
          ],
          "font": {
           "color": "#2a3f5f"
          },
          "geo": {
           "bgcolor": "white",
           "lakecolor": "white",
           "landcolor": "#E5ECF6",
           "showlakes": true,
           "showland": true,
           "subunitcolor": "white"
          },
          "hoverlabel": {
           "align": "left"
          },
          "hovermode": "closest",
          "mapbox": {
           "style": "light"
          },
          "paper_bgcolor": "white",
          "plot_bgcolor": "#E5ECF6",
          "polar": {
           "angularaxis": {
            "gridcolor": "white",
            "linecolor": "white",
            "ticks": ""
           },
           "bgcolor": "#E5ECF6",
           "radialaxis": {
            "gridcolor": "white",
            "linecolor": "white",
            "ticks": ""
           }
          },
          "scene": {
           "xaxis": {
            "backgroundcolor": "#E5ECF6",
            "gridcolor": "white",
            "gridwidth": 2,
            "linecolor": "white",
            "showbackground": true,
            "ticks": "",
            "zerolinecolor": "white"
           },
           "yaxis": {
            "backgroundcolor": "#E5ECF6",
            "gridcolor": "white",
            "gridwidth": 2,
            "linecolor": "white",
            "showbackground": true,
            "ticks": "",
            "zerolinecolor": "white"
           },
           "zaxis": {
            "backgroundcolor": "#E5ECF6",
            "gridcolor": "white",
            "gridwidth": 2,
            "linecolor": "white",
            "showbackground": true,
            "ticks": "",
            "zerolinecolor": "white"
           }
          },
          "shapedefaults": {
           "line": {
            "color": "#2a3f5f"
           }
          },
          "ternary": {
           "aaxis": {
            "gridcolor": "white",
            "linecolor": "white",
            "ticks": ""
           },
           "baxis": {
            "gridcolor": "white",
            "linecolor": "white",
            "ticks": ""
           },
           "bgcolor": "#E5ECF6",
           "caxis": {
            "gridcolor": "white",
            "linecolor": "white",
            "ticks": ""
           }
          },
          "title": {
           "x": 0.05
          },
          "xaxis": {
           "automargin": true,
           "gridcolor": "white",
           "linecolor": "white",
           "ticks": "",
           "title": {
            "standoff": 15
           },
           "zerolinecolor": "white",
           "zerolinewidth": 2
          },
          "yaxis": {
           "automargin": true,
           "gridcolor": "white",
           "linecolor": "white",
           "ticks": "",
           "title": {
            "standoff": 15
           },
           "zerolinecolor": "white",
           "zerolinewidth": 2
          }
         }
        },
        "yaxis": {
         "range": [
          3,
          9
         ]
        }
       }
      }
     },
     "metadata": {},
     "output_type": "display_data"
    }
   ],
   "source": [
    "lck_spring_team_scored = lck_spring_team_scored.drop('outlier')\n",
    "\n",
    "fig = go.Figure()\n",
    "\n",
    "fig.add_trace(go.Bar(x=lck_spring_team_scored.index , y=lck_spring_team_scored['towers']) )\n",
    "fig.update_yaxes(range=[3, 9])\n",
    "\n",
    "fig.show()"
   ]
  },
  {
   "cell_type": "code",
   "execution_count": 191,
   "metadata": {},
   "outputs": [
    {
     "data": {
      "text/plain": [
       "teamname\n",
       "DRX                    60768.268293\n",
       "DWG KIA                62660.463415\n",
       "Fredit BRION           62632.363636\n",
       "Gen.G                  62042.275000\n",
       "Hanwha Life Esports    59222.232558\n",
       "KT Rolster             59835.441860\n",
       "Kwangdong Freecs       60822.285714\n",
       "Liiv SANDBOX           53638.829268\n",
       "Nongshim RedForce      60402.044444\n",
       "T1                     62690.219512\n",
       "outlier                94909.333333\n",
       "Name: totalgold, dtype: float64"
      ]
     },
     "execution_count": 191,
     "metadata": {},
     "output_type": "execute_result"
    }
   ],
   "source": [
    "lck_spring_team_total_gold = lck_spring_team_df.groupby('teamname')['totalgold'].mean()\n",
    "lck_spring_team_total_gold"
   ]
  },
  {
   "cell_type": "code",
   "execution_count": 213,
   "metadata": {},
   "outputs": [
    {
     "data": {
      "application/vnd.plotly.v1+json": {
       "config": {
        "plotlyServerURL": "https://plotly.com"
       },
       "data": [
        {
         "marker": {
          "color": [
           "#5F76C1",
           "#5F76C1",
           "#5F76C1",
           "#5F76C1",
           "#5F76C1",
           "#5F76C1",
           "#5F76C1",
           "#5F76C1",
           "#5F76C1",
           "#5F76C1",
           "#C15F5F"
          ]
         },
         "type": "bar",
         "x": [
          "DRX",
          "DWG KIA",
          "Fredit BRION",
          "Gen.G",
          "Hanwha Life Esports",
          "KT Rolster",
          "Kwangdong Freecs",
          "Liiv SANDBOX",
          "Nongshim RedForce",
          "T1",
          "outlier"
         ],
         "y": [
          60768.26829268293,
          62660.46341463415,
          62632.36363636364,
          62042.275,
          59222.232558139534,
          59835.441860465115,
          60822.28571428572,
          53638.829268292684,
          60402.044444444444,
          62690.21951219512,
          94909.33333333333
         ]
        }
       ],
       "layout": {
        "template": {
         "data": {
          "bar": [
           {
            "error_x": {
             "color": "#2a3f5f"
            },
            "error_y": {
             "color": "#2a3f5f"
            },
            "marker": {
             "line": {
              "color": "#E5ECF6",
              "width": 0.5
             },
             "pattern": {
              "fillmode": "overlay",
              "size": 10,
              "solidity": 0.2
             }
            },
            "type": "bar"
           }
          ],
          "barpolar": [
           {
            "marker": {
             "line": {
              "color": "#E5ECF6",
              "width": 0.5
             },
             "pattern": {
              "fillmode": "overlay",
              "size": 10,
              "solidity": 0.2
             }
            },
            "type": "barpolar"
           }
          ],
          "carpet": [
           {
            "aaxis": {
             "endlinecolor": "#2a3f5f",
             "gridcolor": "white",
             "linecolor": "white",
             "minorgridcolor": "white",
             "startlinecolor": "#2a3f5f"
            },
            "baxis": {
             "endlinecolor": "#2a3f5f",
             "gridcolor": "white",
             "linecolor": "white",
             "minorgridcolor": "white",
             "startlinecolor": "#2a3f5f"
            },
            "type": "carpet"
           }
          ],
          "choropleth": [
           {
            "colorbar": {
             "outlinewidth": 0,
             "ticks": ""
            },
            "type": "choropleth"
           }
          ],
          "contour": [
           {
            "colorbar": {
             "outlinewidth": 0,
             "ticks": ""
            },
            "colorscale": [
             [
              0,
              "#0d0887"
             ],
             [
              0.1111111111111111,
              "#46039f"
             ],
             [
              0.2222222222222222,
              "#7201a8"
             ],
             [
              0.3333333333333333,
              "#9c179e"
             ],
             [
              0.4444444444444444,
              "#bd3786"
             ],
             [
              0.5555555555555556,
              "#d8576b"
             ],
             [
              0.6666666666666666,
              "#ed7953"
             ],
             [
              0.7777777777777778,
              "#fb9f3a"
             ],
             [
              0.8888888888888888,
              "#fdca26"
             ],
             [
              1,
              "#f0f921"
             ]
            ],
            "type": "contour"
           }
          ],
          "contourcarpet": [
           {
            "colorbar": {
             "outlinewidth": 0,
             "ticks": ""
            },
            "type": "contourcarpet"
           }
          ],
          "heatmap": [
           {
            "colorbar": {
             "outlinewidth": 0,
             "ticks": ""
            },
            "colorscale": [
             [
              0,
              "#0d0887"
             ],
             [
              0.1111111111111111,
              "#46039f"
             ],
             [
              0.2222222222222222,
              "#7201a8"
             ],
             [
              0.3333333333333333,
              "#9c179e"
             ],
             [
              0.4444444444444444,
              "#bd3786"
             ],
             [
              0.5555555555555556,
              "#d8576b"
             ],
             [
              0.6666666666666666,
              "#ed7953"
             ],
             [
              0.7777777777777778,
              "#fb9f3a"
             ],
             [
              0.8888888888888888,
              "#fdca26"
             ],
             [
              1,
              "#f0f921"
             ]
            ],
            "type": "heatmap"
           }
          ],
          "heatmapgl": [
           {
            "colorbar": {
             "outlinewidth": 0,
             "ticks": ""
            },
            "colorscale": [
             [
              0,
              "#0d0887"
             ],
             [
              0.1111111111111111,
              "#46039f"
             ],
             [
              0.2222222222222222,
              "#7201a8"
             ],
             [
              0.3333333333333333,
              "#9c179e"
             ],
             [
              0.4444444444444444,
              "#bd3786"
             ],
             [
              0.5555555555555556,
              "#d8576b"
             ],
             [
              0.6666666666666666,
              "#ed7953"
             ],
             [
              0.7777777777777778,
              "#fb9f3a"
             ],
             [
              0.8888888888888888,
              "#fdca26"
             ],
             [
              1,
              "#f0f921"
             ]
            ],
            "type": "heatmapgl"
           }
          ],
          "histogram": [
           {
            "marker": {
             "pattern": {
              "fillmode": "overlay",
              "size": 10,
              "solidity": 0.2
             }
            },
            "type": "histogram"
           }
          ],
          "histogram2d": [
           {
            "colorbar": {
             "outlinewidth": 0,
             "ticks": ""
            },
            "colorscale": [
             [
              0,
              "#0d0887"
             ],
             [
              0.1111111111111111,
              "#46039f"
             ],
             [
              0.2222222222222222,
              "#7201a8"
             ],
             [
              0.3333333333333333,
              "#9c179e"
             ],
             [
              0.4444444444444444,
              "#bd3786"
             ],
             [
              0.5555555555555556,
              "#d8576b"
             ],
             [
              0.6666666666666666,
              "#ed7953"
             ],
             [
              0.7777777777777778,
              "#fb9f3a"
             ],
             [
              0.8888888888888888,
              "#fdca26"
             ],
             [
              1,
              "#f0f921"
             ]
            ],
            "type": "histogram2d"
           }
          ],
          "histogram2dcontour": [
           {
            "colorbar": {
             "outlinewidth": 0,
             "ticks": ""
            },
            "colorscale": [
             [
              0,
              "#0d0887"
             ],
             [
              0.1111111111111111,
              "#46039f"
             ],
             [
              0.2222222222222222,
              "#7201a8"
             ],
             [
              0.3333333333333333,
              "#9c179e"
             ],
             [
              0.4444444444444444,
              "#bd3786"
             ],
             [
              0.5555555555555556,
              "#d8576b"
             ],
             [
              0.6666666666666666,
              "#ed7953"
             ],
             [
              0.7777777777777778,
              "#fb9f3a"
             ],
             [
              0.8888888888888888,
              "#fdca26"
             ],
             [
              1,
              "#f0f921"
             ]
            ],
            "type": "histogram2dcontour"
           }
          ],
          "mesh3d": [
           {
            "colorbar": {
             "outlinewidth": 0,
             "ticks": ""
            },
            "type": "mesh3d"
           }
          ],
          "parcoords": [
           {
            "line": {
             "colorbar": {
              "outlinewidth": 0,
              "ticks": ""
             }
            },
            "type": "parcoords"
           }
          ],
          "pie": [
           {
            "automargin": true,
            "type": "pie"
           }
          ],
          "scatter": [
           {
            "fillpattern": {
             "fillmode": "overlay",
             "size": 10,
             "solidity": 0.2
            },
            "type": "scatter"
           }
          ],
          "scatter3d": [
           {
            "line": {
             "colorbar": {
              "outlinewidth": 0,
              "ticks": ""
             }
            },
            "marker": {
             "colorbar": {
              "outlinewidth": 0,
              "ticks": ""
             }
            },
            "type": "scatter3d"
           }
          ],
          "scattercarpet": [
           {
            "marker": {
             "colorbar": {
              "outlinewidth": 0,
              "ticks": ""
             }
            },
            "type": "scattercarpet"
           }
          ],
          "scattergeo": [
           {
            "marker": {
             "colorbar": {
              "outlinewidth": 0,
              "ticks": ""
             }
            },
            "type": "scattergeo"
           }
          ],
          "scattergl": [
           {
            "marker": {
             "colorbar": {
              "outlinewidth": 0,
              "ticks": ""
             }
            },
            "type": "scattergl"
           }
          ],
          "scattermapbox": [
           {
            "marker": {
             "colorbar": {
              "outlinewidth": 0,
              "ticks": ""
             }
            },
            "type": "scattermapbox"
           }
          ],
          "scatterpolar": [
           {
            "marker": {
             "colorbar": {
              "outlinewidth": 0,
              "ticks": ""
             }
            },
            "type": "scatterpolar"
           }
          ],
          "scatterpolargl": [
           {
            "marker": {
             "colorbar": {
              "outlinewidth": 0,
              "ticks": ""
             }
            },
            "type": "scatterpolargl"
           }
          ],
          "scatterternary": [
           {
            "marker": {
             "colorbar": {
              "outlinewidth": 0,
              "ticks": ""
             }
            },
            "type": "scatterternary"
           }
          ],
          "surface": [
           {
            "colorbar": {
             "outlinewidth": 0,
             "ticks": ""
            },
            "colorscale": [
             [
              0,
              "#0d0887"
             ],
             [
              0.1111111111111111,
              "#46039f"
             ],
             [
              0.2222222222222222,
              "#7201a8"
             ],
             [
              0.3333333333333333,
              "#9c179e"
             ],
             [
              0.4444444444444444,
              "#bd3786"
             ],
             [
              0.5555555555555556,
              "#d8576b"
             ],
             [
              0.6666666666666666,
              "#ed7953"
             ],
             [
              0.7777777777777778,
              "#fb9f3a"
             ],
             [
              0.8888888888888888,
              "#fdca26"
             ],
             [
              1,
              "#f0f921"
             ]
            ],
            "type": "surface"
           }
          ],
          "table": [
           {
            "cells": {
             "fill": {
              "color": "#EBF0F8"
             },
             "line": {
              "color": "white"
             }
            },
            "header": {
             "fill": {
              "color": "#C8D4E3"
             },
             "line": {
              "color": "white"
             }
            },
            "type": "table"
           }
          ]
         },
         "layout": {
          "annotationdefaults": {
           "arrowcolor": "#2a3f5f",
           "arrowhead": 0,
           "arrowwidth": 1
          },
          "autotypenumbers": "strict",
          "coloraxis": {
           "colorbar": {
            "outlinewidth": 0,
            "ticks": ""
           }
          },
          "colorscale": {
           "diverging": [
            [
             0,
             "#8e0152"
            ],
            [
             0.1,
             "#c51b7d"
            ],
            [
             0.2,
             "#de77ae"
            ],
            [
             0.3,
             "#f1b6da"
            ],
            [
             0.4,
             "#fde0ef"
            ],
            [
             0.5,
             "#f7f7f7"
            ],
            [
             0.6,
             "#e6f5d0"
            ],
            [
             0.7,
             "#b8e186"
            ],
            [
             0.8,
             "#7fbc41"
            ],
            [
             0.9,
             "#4d9221"
            ],
            [
             1,
             "#276419"
            ]
           ],
           "sequential": [
            [
             0,
             "#0d0887"
            ],
            [
             0.1111111111111111,
             "#46039f"
            ],
            [
             0.2222222222222222,
             "#7201a8"
            ],
            [
             0.3333333333333333,
             "#9c179e"
            ],
            [
             0.4444444444444444,
             "#bd3786"
            ],
            [
             0.5555555555555556,
             "#d8576b"
            ],
            [
             0.6666666666666666,
             "#ed7953"
            ],
            [
             0.7777777777777778,
             "#fb9f3a"
            ],
            [
             0.8888888888888888,
             "#fdca26"
            ],
            [
             1,
             "#f0f921"
            ]
           ],
           "sequentialminus": [
            [
             0,
             "#0d0887"
            ],
            [
             0.1111111111111111,
             "#46039f"
            ],
            [
             0.2222222222222222,
             "#7201a8"
            ],
            [
             0.3333333333333333,
             "#9c179e"
            ],
            [
             0.4444444444444444,
             "#bd3786"
            ],
            [
             0.5555555555555556,
             "#d8576b"
            ],
            [
             0.6666666666666666,
             "#ed7953"
            ],
            [
             0.7777777777777778,
             "#fb9f3a"
            ],
            [
             0.8888888888888888,
             "#fdca26"
            ],
            [
             1,
             "#f0f921"
            ]
           ]
          },
          "colorway": [
           "#636efa",
           "#EF553B",
           "#00cc96",
           "#ab63fa",
           "#FFA15A",
           "#19d3f3",
           "#FF6692",
           "#B6E880",
           "#FF97FF",
           "#FECB52"
          ],
          "font": {
           "color": "#2a3f5f"
          },
          "geo": {
           "bgcolor": "white",
           "lakecolor": "white",
           "landcolor": "#E5ECF6",
           "showlakes": true,
           "showland": true,
           "subunitcolor": "white"
          },
          "hoverlabel": {
           "align": "left"
          },
          "hovermode": "closest",
          "mapbox": {
           "style": "light"
          },
          "paper_bgcolor": "white",
          "plot_bgcolor": "#E5ECF6",
          "polar": {
           "angularaxis": {
            "gridcolor": "white",
            "linecolor": "white",
            "ticks": ""
           },
           "bgcolor": "#E5ECF6",
           "radialaxis": {
            "gridcolor": "white",
            "linecolor": "white",
            "ticks": ""
           }
          },
          "scene": {
           "xaxis": {
            "backgroundcolor": "#E5ECF6",
            "gridcolor": "white",
            "gridwidth": 2,
            "linecolor": "white",
            "showbackground": true,
            "ticks": "",
            "zerolinecolor": "white"
           },
           "yaxis": {
            "backgroundcolor": "#E5ECF6",
            "gridcolor": "white",
            "gridwidth": 2,
            "linecolor": "white",
            "showbackground": true,
            "ticks": "",
            "zerolinecolor": "white"
           },
           "zaxis": {
            "backgroundcolor": "#E5ECF6",
            "gridcolor": "white",
            "gridwidth": 2,
            "linecolor": "white",
            "showbackground": true,
            "ticks": "",
            "zerolinecolor": "white"
           }
          },
          "shapedefaults": {
           "line": {
            "color": "#2a3f5f"
           }
          },
          "ternary": {
           "aaxis": {
            "gridcolor": "white",
            "linecolor": "white",
            "ticks": ""
           },
           "baxis": {
            "gridcolor": "white",
            "linecolor": "white",
            "ticks": ""
           },
           "bgcolor": "#E5ECF6",
           "caxis": {
            "gridcolor": "white",
            "linecolor": "white",
            "ticks": ""
           }
          },
          "title": {
           "x": 0.05
          },
          "xaxis": {
           "automargin": true,
           "gridcolor": "white",
           "linecolor": "white",
           "ticks": "",
           "title": {
            "standoff": 15
           },
           "zerolinecolor": "white",
           "zerolinewidth": 2
          },
          "yaxis": {
           "automargin": true,
           "gridcolor": "white",
           "linecolor": "white",
           "ticks": "",
           "title": {
            "standoff": 15
           },
           "zerolinecolor": "white",
           "zerolinewidth": 2
          }
         }
        },
        "yaxis": {
         "range": [
          53000,
          65000
         ]
        }
       }
      }
     },
     "metadata": {},
     "output_type": "display_data"
    }
   ],
   "source": [
    "fig = go.Figure()\n",
    "\n",
    "colors = ['#5F76C1',] * len(lck_spring_team_total_gold.index)\n",
    "colors[-1] = '#C15F5F'\n",
    "\n",
    "\n",
    "fig.add_trace(go.Bar(x=lck_spring_team_total_gold.index , y=lck_spring_team_total_gold.values, marker_color = colors) )\n",
    "fig.update_yaxes(range=[53000, 65000])\n",
    "\n",
    "fig.show()"
   ]
  },
  {
   "cell_type": "code",
   "execution_count": 210,
   "metadata": {},
   "outputs": [
    {
     "data": {
      "text/plain": [
       "teamname\n",
       "DRX                      20.097561\n",
       "DWG KIA                 729.365854\n",
       "Fredit BRION           -586.863636\n",
       "Gen.G                   619.775000\n",
       "Hanwha Life Esports    -519.813953\n",
       "KT Rolster             -221.209302\n",
       "Kwangdong Freecs       -221.333333\n",
       "Liiv SANDBOX          -1731.609756\n",
       "Nongshim RedForce        11.177778\n",
       "T1                     2012.756098\n",
       "Name: golddiffat15, dtype: float64"
      ]
     },
     "execution_count": 210,
     "metadata": {},
     "output_type": "execute_result"
    }
   ],
   "source": [
    "# 15분 gold차이 평균 지표\n",
    "lck_spring_team_golddiff_mean = lck_spring_team_df.groupby('teamname')['golddiffat15'].mean()\n",
    "lck_spring_team_golddiff_mean = lck_spring_team_golddiff_mean.drop('outlier')\n",
    "lck_spring_team_golddiff_mean"
   ]
  },
  {
   "cell_type": "code",
   "execution_count": 212,
   "metadata": {},
   "outputs": [
    {
     "data": {
      "application/vnd.plotly.v1+json": {
       "config": {
        "plotlyServerURL": "https://plotly.com"
       },
       "data": [
        {
         "marker": {
          "color": [
           "#5F76C1",
           "#C15F5F",
           "#5F76C1",
           "#C15F5F",
           "#5F76C1",
           "#5F76C1",
           "#5F76C1",
           "#5F76C1",
           "#5F76C1",
           "#C15F5F"
          ]
         },
         "type": "bar",
         "x": [
          "DRX",
          "DWG KIA",
          "Fredit BRION",
          "Gen.G",
          "Hanwha Life Esports",
          "KT Rolster",
          "Kwangdong Freecs",
          "Liiv SANDBOX",
          "Nongshim RedForce",
          "T1"
         ],
         "y": [
          20.097560975609756,
          729.3658536585366,
          -586.8636363636364,
          619.775,
          -519.8139534883721,
          -221.2093023255814,
          -221.33333333333334,
          -1731.6097560975609,
          11.177777777777777,
          2012.7560975609756
         ]
        }
       ],
       "layout": {
        "template": {
         "data": {
          "bar": [
           {
            "error_x": {
             "color": "#2a3f5f"
            },
            "error_y": {
             "color": "#2a3f5f"
            },
            "marker": {
             "line": {
              "color": "#E5ECF6",
              "width": 0.5
             },
             "pattern": {
              "fillmode": "overlay",
              "size": 10,
              "solidity": 0.2
             }
            },
            "type": "bar"
           }
          ],
          "barpolar": [
           {
            "marker": {
             "line": {
              "color": "#E5ECF6",
              "width": 0.5
             },
             "pattern": {
              "fillmode": "overlay",
              "size": 10,
              "solidity": 0.2
             }
            },
            "type": "barpolar"
           }
          ],
          "carpet": [
           {
            "aaxis": {
             "endlinecolor": "#2a3f5f",
             "gridcolor": "white",
             "linecolor": "white",
             "minorgridcolor": "white",
             "startlinecolor": "#2a3f5f"
            },
            "baxis": {
             "endlinecolor": "#2a3f5f",
             "gridcolor": "white",
             "linecolor": "white",
             "minorgridcolor": "white",
             "startlinecolor": "#2a3f5f"
            },
            "type": "carpet"
           }
          ],
          "choropleth": [
           {
            "colorbar": {
             "outlinewidth": 0,
             "ticks": ""
            },
            "type": "choropleth"
           }
          ],
          "contour": [
           {
            "colorbar": {
             "outlinewidth": 0,
             "ticks": ""
            },
            "colorscale": [
             [
              0,
              "#0d0887"
             ],
             [
              0.1111111111111111,
              "#46039f"
             ],
             [
              0.2222222222222222,
              "#7201a8"
             ],
             [
              0.3333333333333333,
              "#9c179e"
             ],
             [
              0.4444444444444444,
              "#bd3786"
             ],
             [
              0.5555555555555556,
              "#d8576b"
             ],
             [
              0.6666666666666666,
              "#ed7953"
             ],
             [
              0.7777777777777778,
              "#fb9f3a"
             ],
             [
              0.8888888888888888,
              "#fdca26"
             ],
             [
              1,
              "#f0f921"
             ]
            ],
            "type": "contour"
           }
          ],
          "contourcarpet": [
           {
            "colorbar": {
             "outlinewidth": 0,
             "ticks": ""
            },
            "type": "contourcarpet"
           }
          ],
          "heatmap": [
           {
            "colorbar": {
             "outlinewidth": 0,
             "ticks": ""
            },
            "colorscale": [
             [
              0,
              "#0d0887"
             ],
             [
              0.1111111111111111,
              "#46039f"
             ],
             [
              0.2222222222222222,
              "#7201a8"
             ],
             [
              0.3333333333333333,
              "#9c179e"
             ],
             [
              0.4444444444444444,
              "#bd3786"
             ],
             [
              0.5555555555555556,
              "#d8576b"
             ],
             [
              0.6666666666666666,
              "#ed7953"
             ],
             [
              0.7777777777777778,
              "#fb9f3a"
             ],
             [
              0.8888888888888888,
              "#fdca26"
             ],
             [
              1,
              "#f0f921"
             ]
            ],
            "type": "heatmap"
           }
          ],
          "heatmapgl": [
           {
            "colorbar": {
             "outlinewidth": 0,
             "ticks": ""
            },
            "colorscale": [
             [
              0,
              "#0d0887"
             ],
             [
              0.1111111111111111,
              "#46039f"
             ],
             [
              0.2222222222222222,
              "#7201a8"
             ],
             [
              0.3333333333333333,
              "#9c179e"
             ],
             [
              0.4444444444444444,
              "#bd3786"
             ],
             [
              0.5555555555555556,
              "#d8576b"
             ],
             [
              0.6666666666666666,
              "#ed7953"
             ],
             [
              0.7777777777777778,
              "#fb9f3a"
             ],
             [
              0.8888888888888888,
              "#fdca26"
             ],
             [
              1,
              "#f0f921"
             ]
            ],
            "type": "heatmapgl"
           }
          ],
          "histogram": [
           {
            "marker": {
             "pattern": {
              "fillmode": "overlay",
              "size": 10,
              "solidity": 0.2
             }
            },
            "type": "histogram"
           }
          ],
          "histogram2d": [
           {
            "colorbar": {
             "outlinewidth": 0,
             "ticks": ""
            },
            "colorscale": [
             [
              0,
              "#0d0887"
             ],
             [
              0.1111111111111111,
              "#46039f"
             ],
             [
              0.2222222222222222,
              "#7201a8"
             ],
             [
              0.3333333333333333,
              "#9c179e"
             ],
             [
              0.4444444444444444,
              "#bd3786"
             ],
             [
              0.5555555555555556,
              "#d8576b"
             ],
             [
              0.6666666666666666,
              "#ed7953"
             ],
             [
              0.7777777777777778,
              "#fb9f3a"
             ],
             [
              0.8888888888888888,
              "#fdca26"
             ],
             [
              1,
              "#f0f921"
             ]
            ],
            "type": "histogram2d"
           }
          ],
          "histogram2dcontour": [
           {
            "colorbar": {
             "outlinewidth": 0,
             "ticks": ""
            },
            "colorscale": [
             [
              0,
              "#0d0887"
             ],
             [
              0.1111111111111111,
              "#46039f"
             ],
             [
              0.2222222222222222,
              "#7201a8"
             ],
             [
              0.3333333333333333,
              "#9c179e"
             ],
             [
              0.4444444444444444,
              "#bd3786"
             ],
             [
              0.5555555555555556,
              "#d8576b"
             ],
             [
              0.6666666666666666,
              "#ed7953"
             ],
             [
              0.7777777777777778,
              "#fb9f3a"
             ],
             [
              0.8888888888888888,
              "#fdca26"
             ],
             [
              1,
              "#f0f921"
             ]
            ],
            "type": "histogram2dcontour"
           }
          ],
          "mesh3d": [
           {
            "colorbar": {
             "outlinewidth": 0,
             "ticks": ""
            },
            "type": "mesh3d"
           }
          ],
          "parcoords": [
           {
            "line": {
             "colorbar": {
              "outlinewidth": 0,
              "ticks": ""
             }
            },
            "type": "parcoords"
           }
          ],
          "pie": [
           {
            "automargin": true,
            "type": "pie"
           }
          ],
          "scatter": [
           {
            "fillpattern": {
             "fillmode": "overlay",
             "size": 10,
             "solidity": 0.2
            },
            "type": "scatter"
           }
          ],
          "scatter3d": [
           {
            "line": {
             "colorbar": {
              "outlinewidth": 0,
              "ticks": ""
             }
            },
            "marker": {
             "colorbar": {
              "outlinewidth": 0,
              "ticks": ""
             }
            },
            "type": "scatter3d"
           }
          ],
          "scattercarpet": [
           {
            "marker": {
             "colorbar": {
              "outlinewidth": 0,
              "ticks": ""
             }
            },
            "type": "scattercarpet"
           }
          ],
          "scattergeo": [
           {
            "marker": {
             "colorbar": {
              "outlinewidth": 0,
              "ticks": ""
             }
            },
            "type": "scattergeo"
           }
          ],
          "scattergl": [
           {
            "marker": {
             "colorbar": {
              "outlinewidth": 0,
              "ticks": ""
             }
            },
            "type": "scattergl"
           }
          ],
          "scattermapbox": [
           {
            "marker": {
             "colorbar": {
              "outlinewidth": 0,
              "ticks": ""
             }
            },
            "type": "scattermapbox"
           }
          ],
          "scatterpolar": [
           {
            "marker": {
             "colorbar": {
              "outlinewidth": 0,
              "ticks": ""
             }
            },
            "type": "scatterpolar"
           }
          ],
          "scatterpolargl": [
           {
            "marker": {
             "colorbar": {
              "outlinewidth": 0,
              "ticks": ""
             }
            },
            "type": "scatterpolargl"
           }
          ],
          "scatterternary": [
           {
            "marker": {
             "colorbar": {
              "outlinewidth": 0,
              "ticks": ""
             }
            },
            "type": "scatterternary"
           }
          ],
          "surface": [
           {
            "colorbar": {
             "outlinewidth": 0,
             "ticks": ""
            },
            "colorscale": [
             [
              0,
              "#0d0887"
             ],
             [
              0.1111111111111111,
              "#46039f"
             ],
             [
              0.2222222222222222,
              "#7201a8"
             ],
             [
              0.3333333333333333,
              "#9c179e"
             ],
             [
              0.4444444444444444,
              "#bd3786"
             ],
             [
              0.5555555555555556,
              "#d8576b"
             ],
             [
              0.6666666666666666,
              "#ed7953"
             ],
             [
              0.7777777777777778,
              "#fb9f3a"
             ],
             [
              0.8888888888888888,
              "#fdca26"
             ],
             [
              1,
              "#f0f921"
             ]
            ],
            "type": "surface"
           }
          ],
          "table": [
           {
            "cells": {
             "fill": {
              "color": "#EBF0F8"
             },
             "line": {
              "color": "white"
             }
            },
            "header": {
             "fill": {
              "color": "#C8D4E3"
             },
             "line": {
              "color": "white"
             }
            },
            "type": "table"
           }
          ]
         },
         "layout": {
          "annotationdefaults": {
           "arrowcolor": "#2a3f5f",
           "arrowhead": 0,
           "arrowwidth": 1
          },
          "autotypenumbers": "strict",
          "coloraxis": {
           "colorbar": {
            "outlinewidth": 0,
            "ticks": ""
           }
          },
          "colorscale": {
           "diverging": [
            [
             0,
             "#8e0152"
            ],
            [
             0.1,
             "#c51b7d"
            ],
            [
             0.2,
             "#de77ae"
            ],
            [
             0.3,
             "#f1b6da"
            ],
            [
             0.4,
             "#fde0ef"
            ],
            [
             0.5,
             "#f7f7f7"
            ],
            [
             0.6,
             "#e6f5d0"
            ],
            [
             0.7,
             "#b8e186"
            ],
            [
             0.8,
             "#7fbc41"
            ],
            [
             0.9,
             "#4d9221"
            ],
            [
             1,
             "#276419"
            ]
           ],
           "sequential": [
            [
             0,
             "#0d0887"
            ],
            [
             0.1111111111111111,
             "#46039f"
            ],
            [
             0.2222222222222222,
             "#7201a8"
            ],
            [
             0.3333333333333333,
             "#9c179e"
            ],
            [
             0.4444444444444444,
             "#bd3786"
            ],
            [
             0.5555555555555556,
             "#d8576b"
            ],
            [
             0.6666666666666666,
             "#ed7953"
            ],
            [
             0.7777777777777778,
             "#fb9f3a"
            ],
            [
             0.8888888888888888,
             "#fdca26"
            ],
            [
             1,
             "#f0f921"
            ]
           ],
           "sequentialminus": [
            [
             0,
             "#0d0887"
            ],
            [
             0.1111111111111111,
             "#46039f"
            ],
            [
             0.2222222222222222,
             "#7201a8"
            ],
            [
             0.3333333333333333,
             "#9c179e"
            ],
            [
             0.4444444444444444,
             "#bd3786"
            ],
            [
             0.5555555555555556,
             "#d8576b"
            ],
            [
             0.6666666666666666,
             "#ed7953"
            ],
            [
             0.7777777777777778,
             "#fb9f3a"
            ],
            [
             0.8888888888888888,
             "#fdca26"
            ],
            [
             1,
             "#f0f921"
            ]
           ]
          },
          "colorway": [
           "#636efa",
           "#EF553B",
           "#00cc96",
           "#ab63fa",
           "#FFA15A",
           "#19d3f3",
           "#FF6692",
           "#B6E880",
           "#FF97FF",
           "#FECB52"
          ],
          "font": {
           "color": "#2a3f5f"
          },
          "geo": {
           "bgcolor": "white",
           "lakecolor": "white",
           "landcolor": "#E5ECF6",
           "showlakes": true,
           "showland": true,
           "subunitcolor": "white"
          },
          "hoverlabel": {
           "align": "left"
          },
          "hovermode": "closest",
          "mapbox": {
           "style": "light"
          },
          "paper_bgcolor": "white",
          "plot_bgcolor": "#E5ECF6",
          "polar": {
           "angularaxis": {
            "gridcolor": "white",
            "linecolor": "white",
            "ticks": ""
           },
           "bgcolor": "#E5ECF6",
           "radialaxis": {
            "gridcolor": "white",
            "linecolor": "white",
            "ticks": ""
           }
          },
          "scene": {
           "xaxis": {
            "backgroundcolor": "#E5ECF6",
            "gridcolor": "white",
            "gridwidth": 2,
            "linecolor": "white",
            "showbackground": true,
            "ticks": "",
            "zerolinecolor": "white"
           },
           "yaxis": {
            "backgroundcolor": "#E5ECF6",
            "gridcolor": "white",
            "gridwidth": 2,
            "linecolor": "white",
            "showbackground": true,
            "ticks": "",
            "zerolinecolor": "white"
           },
           "zaxis": {
            "backgroundcolor": "#E5ECF6",
            "gridcolor": "white",
            "gridwidth": 2,
            "linecolor": "white",
            "showbackground": true,
            "ticks": "",
            "zerolinecolor": "white"
           }
          },
          "shapedefaults": {
           "line": {
            "color": "#2a3f5f"
           }
          },
          "ternary": {
           "aaxis": {
            "gridcolor": "white",
            "linecolor": "white",
            "ticks": ""
           },
           "baxis": {
            "gridcolor": "white",
            "linecolor": "white",
            "ticks": ""
           },
           "bgcolor": "#E5ECF6",
           "caxis": {
            "gridcolor": "white",
            "linecolor": "white",
            "ticks": ""
           }
          },
          "title": {
           "x": 0.05
          },
          "xaxis": {
           "automargin": true,
           "gridcolor": "white",
           "linecolor": "white",
           "ticks": "",
           "title": {
            "standoff": 15
           },
           "zerolinecolor": "white",
           "zerolinewidth": 2
          },
          "yaxis": {
           "automargin": true,
           "gridcolor": "white",
           "linecolor": "white",
           "ticks": "",
           "title": {
            "standoff": 15
           },
           "zerolinecolor": "white",
           "zerolinewidth": 2
          }
         }
        }
       }
      }
     },
     "metadata": {},
     "output_type": "display_data"
    }
   ],
   "source": [
    "fig = go.Figure()\n",
    "colors = ['#5F76C1',] * len(lck_spring_team_golddiff_mean.index)\n",
    "colors[1] = '#C15F5F'\n",
    "colors[3] = '#C15F5F'\n",
    "colors[9] = '#C15F5F'\n",
    "\n",
    "fig.add_trace( go.Bar( x=lck_spring_team_golddiff_mean.index , y=lck_spring_team_golddiff_mean.values  , marker_color = colors ) )\n",
    "\n",
    "fig.show()\n",
    "\n",
    "#따라서 diff 로 지표확인"
   ]
  },
  {
   "cell_type": "code",
   "execution_count": null,
   "metadata": {},
   "outputs": [],
   "source": [
    "# 15분 gold차이 평균 지표\n",
    "lck_spring_team_golddiff_mean = lck_spring_team_df.groupby('teamname')['tower'].mean()\n",
    "lck_spring_team_golddiff_mean"
   ]
  },
  {
   "cell_type": "code",
   "execution_count": null,
   "metadata": {},
   "outputs": [],
   "source": [
    "def lck_spring_team_goldmean_cal:\n",
    "    for i in range\n"
   ]
  },
  {
   "cell_type": "code",
   "execution_count": 2,
   "metadata": {},
   "outputs": [
    {
     "data": {
      "text/html": [
       "<div>\n",
       "<style scoped>\n",
       "    .dataframe tbody tr th:only-of-type {\n",
       "        vertical-align: middle;\n",
       "    }\n",
       "\n",
       "    .dataframe tbody tr th {\n",
       "        vertical-align: top;\n",
       "    }\n",
       "\n",
       "    .dataframe thead th {\n",
       "        text-align: right;\n",
       "    }\n",
       "</style>\n",
       "<table border=\"1\" class=\"dataframe\">\n",
       "  <thead>\n",
       "    <tr style=\"text-align: right;\">\n",
       "      <th></th>\n",
       "      <th>gameid</th>\n",
       "      <th>datacompleteness</th>\n",
       "      <th>url</th>\n",
       "      <th>league</th>\n",
       "      <th>year</th>\n",
       "      <th>split</th>\n",
       "      <th>playoffs</th>\n",
       "      <th>date</th>\n",
       "      <th>game</th>\n",
       "      <th>patch</th>\n",
       "      <th>...</th>\n",
       "      <th>opp_csat15</th>\n",
       "      <th>golddiffat15</th>\n",
       "      <th>xpdiffat15</th>\n",
       "      <th>csdiffat15</th>\n",
       "      <th>killsat15</th>\n",
       "      <th>assistsat15</th>\n",
       "      <th>deathsat15</th>\n",
       "      <th>opp_killsat15</th>\n",
       "      <th>opp_assistsat15</th>\n",
       "      <th>opp_deathsat15</th>\n",
       "    </tr>\n",
       "  </thead>\n",
       "  <tbody>\n",
       "    <tr>\n",
       "      <th>0</th>\n",
       "      <td>ESPORTSTMNT01_2690210</td>\n",
       "      <td>complete</td>\n",
       "      <td>NaN</td>\n",
       "      <td>LCK CL</td>\n",
       "      <td>2022</td>\n",
       "      <td>Spring</td>\n",
       "      <td>0</td>\n",
       "      <td>2022-01-10 07:44:08</td>\n",
       "      <td>1</td>\n",
       "      <td>12.01</td>\n",
       "      <td>...</td>\n",
       "      <td>121.0</td>\n",
       "      <td>391.0</td>\n",
       "      <td>345.0</td>\n",
       "      <td>14.0</td>\n",
       "      <td>0.0</td>\n",
       "      <td>1.0</td>\n",
       "      <td>0.0</td>\n",
       "      <td>0.0</td>\n",
       "      <td>1.0</td>\n",
       "      <td>0.0</td>\n",
       "    </tr>\n",
       "    <tr>\n",
       "      <th>1</th>\n",
       "      <td>ESPORTSTMNT01_2690210</td>\n",
       "      <td>complete</td>\n",
       "      <td>NaN</td>\n",
       "      <td>LCK CL</td>\n",
       "      <td>2022</td>\n",
       "      <td>Spring</td>\n",
       "      <td>0</td>\n",
       "      <td>2022-01-10 07:44:08</td>\n",
       "      <td>1</td>\n",
       "      <td>12.01</td>\n",
       "      <td>...</td>\n",
       "      <td>100.0</td>\n",
       "      <td>541.0</td>\n",
       "      <td>-275.0</td>\n",
       "      <td>-11.0</td>\n",
       "      <td>2.0</td>\n",
       "      <td>3.0</td>\n",
       "      <td>2.0</td>\n",
       "      <td>0.0</td>\n",
       "      <td>5.0</td>\n",
       "      <td>1.0</td>\n",
       "    </tr>\n",
       "    <tr>\n",
       "      <th>2</th>\n",
       "      <td>ESPORTSTMNT01_2690210</td>\n",
       "      <td>complete</td>\n",
       "      <td>NaN</td>\n",
       "      <td>LCK CL</td>\n",
       "      <td>2022</td>\n",
       "      <td>Spring</td>\n",
       "      <td>0</td>\n",
       "      <td>2022-01-10 07:44:08</td>\n",
       "      <td>1</td>\n",
       "      <td>12.01</td>\n",
       "      <td>...</td>\n",
       "      <td>119.0</td>\n",
       "      <td>-475.0</td>\n",
       "      <td>153.0</td>\n",
       "      <td>1.0</td>\n",
       "      <td>0.0</td>\n",
       "      <td>3.0</td>\n",
       "      <td>0.0</td>\n",
       "      <td>3.0</td>\n",
       "      <td>3.0</td>\n",
       "      <td>2.0</td>\n",
       "    </tr>\n",
       "    <tr>\n",
       "      <th>3</th>\n",
       "      <td>ESPORTSTMNT01_2690210</td>\n",
       "      <td>complete</td>\n",
       "      <td>NaN</td>\n",
       "      <td>LCK CL</td>\n",
       "      <td>2022</td>\n",
       "      <td>Spring</td>\n",
       "      <td>0</td>\n",
       "      <td>2022-01-10 07:44:08</td>\n",
       "      <td>1</td>\n",
       "      <td>12.01</td>\n",
       "      <td>...</td>\n",
       "      <td>149.0</td>\n",
       "      <td>-793.0</td>\n",
       "      <td>-1343.0</td>\n",
       "      <td>-34.0</td>\n",
       "      <td>2.0</td>\n",
       "      <td>1.0</td>\n",
       "      <td>2.0</td>\n",
       "      <td>3.0</td>\n",
       "      <td>3.0</td>\n",
       "      <td>0.0</td>\n",
       "    </tr>\n",
       "    <tr>\n",
       "      <th>4</th>\n",
       "      <td>ESPORTSTMNT01_2690210</td>\n",
       "      <td>complete</td>\n",
       "      <td>NaN</td>\n",
       "      <td>LCK CL</td>\n",
       "      <td>2022</td>\n",
       "      <td>Spring</td>\n",
       "      <td>0</td>\n",
       "      <td>2022-01-10 07:44:08</td>\n",
       "      <td>1</td>\n",
       "      <td>12.01</td>\n",
       "      <td>...</td>\n",
       "      <td>21.0</td>\n",
       "      <td>443.0</td>\n",
       "      <td>-497.0</td>\n",
       "      <td>7.0</td>\n",
       "      <td>1.0</td>\n",
       "      <td>2.0</td>\n",
       "      <td>2.0</td>\n",
       "      <td>0.0</td>\n",
       "      <td>6.0</td>\n",
       "      <td>2.0</td>\n",
       "    </tr>\n",
       "  </tbody>\n",
       "</table>\n",
       "<p>5 rows × 123 columns</p>\n",
       "</div>"
      ],
      "text/plain": [
       "                  gameid datacompleteness  url  league  year   split  \\\n",
       "0  ESPORTSTMNT01_2690210         complete  NaN  LCK CL  2022  Spring   \n",
       "1  ESPORTSTMNT01_2690210         complete  NaN  LCK CL  2022  Spring   \n",
       "2  ESPORTSTMNT01_2690210         complete  NaN  LCK CL  2022  Spring   \n",
       "3  ESPORTSTMNT01_2690210         complete  NaN  LCK CL  2022  Spring   \n",
       "4  ESPORTSTMNT01_2690210         complete  NaN  LCK CL  2022  Spring   \n",
       "\n",
       "   playoffs                 date  game  patch  ...  opp_csat15 golddiffat15  \\\n",
       "0         0  2022-01-10 07:44:08     1  12.01  ...       121.0        391.0   \n",
       "1         0  2022-01-10 07:44:08     1  12.01  ...       100.0        541.0   \n",
       "2         0  2022-01-10 07:44:08     1  12.01  ...       119.0       -475.0   \n",
       "3         0  2022-01-10 07:44:08     1  12.01  ...       149.0       -793.0   \n",
       "4         0  2022-01-10 07:44:08     1  12.01  ...        21.0        443.0   \n",
       "\n",
       "  xpdiffat15 csdiffat15 killsat15 assistsat15 deathsat15 opp_killsat15  \\\n",
       "0      345.0       14.0       0.0         1.0        0.0           0.0   \n",
       "1     -275.0      -11.0       2.0         3.0        2.0           0.0   \n",
       "2      153.0        1.0       0.0         3.0        0.0           3.0   \n",
       "3    -1343.0      -34.0       2.0         1.0        2.0           3.0   \n",
       "4     -497.0        7.0       1.0         2.0        2.0           0.0   \n",
       "\n",
       "  opp_assistsat15 opp_deathsat15  \n",
       "0             1.0            0.0  \n",
       "1             5.0            1.0  \n",
       "2             3.0            2.0  \n",
       "3             3.0            0.0  \n",
       "4             6.0            2.0  \n",
       "\n",
       "[5 rows x 123 columns]"
      ]
     },
     "execution_count": 2,
     "metadata": {},
     "output_type": "execute_result"
    }
   ],
   "source": [
    "# 승패 확인을 위한 전처리\n",
    "lol2022season.head()"
   ]
  },
  {
   "cell_type": "code",
   "execution_count": null,
   "metadata": {},
   "outputs": [],
   "source": []
  }
 ],
 "metadata": {
  "kernelspec": {
   "display_name": "Python 3",
   "language": "python",
   "name": "python3"
  },
  "language_info": {
   "codemirror_mode": {
    "name": "ipython",
    "version": 3
   },
   "file_extension": ".py",
   "mimetype": "text/x-python",
   "name": "python",
   "nbconvert_exporter": "python",
   "pygments_lexer": "ipython3",
   "version": "3.10.9"
  },
  "orig_nbformat": 4
 },
 "nbformat": 4,
 "nbformat_minor": 2
}
