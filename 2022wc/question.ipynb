{
 "cells": [
  {
   "cell_type": "markdown",
   "metadata": {},
   "source": [
    "# 2022 LOL WORLD CHAMPIONSHIP DA"
   ]
  },
  {
   "cell_type": "markdown",
   "metadata": {},
   "source": [
    "## DATA LOAD"
   ]
  },
  {
   "cell_type": "code",
   "execution_count": 2,
   "metadata": {},
   "outputs": [],
   "source": [
    "import pandas as pd\n",
    "PATH = \"\""
   ]
  },
  {
   "cell_type": "code",
   "execution_count": 80,
   "metadata": {},
   "outputs": [
    {
     "name": "stderr",
     "output_type": "stream",
     "text": [
      "C:\\Users\\Admin\\AppData\\Local\\Temp\\ipykernel_24672\\475781502.py:6: DtypeWarning: Columns (2) have mixed types. Specify dtype option on import or set low_memory=False.\n",
      "  lol2022season = pd.read_csv(PATH + \"2022matchdata.csv\" , encoding='utf-8-sig')\n"
     ]
    }
   ],
   "source": [
    "champions = pd.read_csv(PATH + \"wc_champions.csv\", encoding='utf-8-sig')\n",
    "players_main = pd.read_csv(PATH + \"wc_players_main.csv\", encoding='utf-8-sig')\n",
    "players_pi = pd.read_csv(PATH + \"wc_players_play_in.csv\", encoding='utf-8-sig')\n",
    "teams_main = pd.read_csv(PATH + \"wc_teams_main.csv\", encoding='utf-8-sig')\n",
    "teams_pi = pd.read_csv(PATH + \"wc_teams_play_in.csv\", encoding='utf-8-sig')\n",
    "lol2022season = pd.read_csv(PATH + \"2022matchdata.csv\" , encoding='utf-8-sig')\n",
    "lck2022season = pd.read_csv(PATH + \"lck2022.csv\" , encoding='utf-8-sig')\n"
   ]
  },
  {
   "cell_type": "markdown",
   "metadata": {},
   "source": [
    "### DATA 확인 및 결측값 확인"
   ]
  },
  {
   "cell_type": "markdown",
   "metadata": {},
   "source": [
    "> 데이터\n",
    "- lol2022season\n",
    "    - 2022시즌 모든 lolesports 경기데이터\n",
    "- cahmpions\n",
    "    - 게임 내 champion 통계\n",
    "- players_main\n",
    "    - main stage player들의 통계\n",
    "- players_pi\n",
    "    - playin stage player들의 통계\n",
    "- teams_main\n",
    "    - main stage team들의 통계\n",
    "- players_main\n",
    "    - palyin stage team들의 통계"
   ]
  },
  {
   "cell_type": "markdown",
   "metadata": {},
   "source": [
    "---"
   ]
  },
  {
   "cell_type": "markdown",
   "metadata": {},
   "source": []
  },
  {
   "cell_type": "code",
   "execution_count": 9,
   "metadata": {},
   "outputs": [
    {
     "name": "stdout",
     "output_type": "stream",
     "text": [
      "<class 'pandas.core.frame.DataFrame'>\n",
      "RangeIndex: 149232 entries, 0 to 149231\n",
      "Columns: 123 entries, gameid to opp_deathsat15\n",
      "dtypes: float64(93), int64(12), object(18)\n",
      "memory usage: 140.0+ MB\n"
     ]
    }
   ],
   "source": [
    "lol2022season.info(show_counts = True)"
   ]
  },
  {
   "cell_type": "code",
   "execution_count": 27,
   "metadata": {},
   "outputs": [
    {
     "data": {
      "text/html": [
       "<div>\n",
       "<style scoped>\n",
       "    .dataframe tbody tr th:only-of-type {\n",
       "        vertical-align: middle;\n",
       "    }\n",
       "\n",
       "    .dataframe tbody tr th {\n",
       "        vertical-align: top;\n",
       "    }\n",
       "\n",
       "    .dataframe thead th {\n",
       "        text-align: right;\n",
       "    }\n",
       "</style>\n",
       "<table border=\"1\" class=\"dataframe\">\n",
       "  <thead>\n",
       "    <tr style=\"text-align: right;\">\n",
       "      <th></th>\n",
       "      <th>gameid</th>\n",
       "      <th>datacompleteness</th>\n",
       "      <th>url</th>\n",
       "      <th>league</th>\n",
       "      <th>year</th>\n",
       "      <th>split</th>\n",
       "      <th>playoffs</th>\n",
       "      <th>date</th>\n",
       "      <th>game</th>\n",
       "      <th>patch</th>\n",
       "      <th>...</th>\n",
       "      <th>opp_csat15</th>\n",
       "      <th>golddiffat15</th>\n",
       "      <th>xpdiffat15</th>\n",
       "      <th>csdiffat15</th>\n",
       "      <th>killsat15</th>\n",
       "      <th>assistsat15</th>\n",
       "      <th>deathsat15</th>\n",
       "      <th>opp_killsat15</th>\n",
       "      <th>opp_assistsat15</th>\n",
       "      <th>opp_deathsat15</th>\n",
       "    </tr>\n",
       "  </thead>\n",
       "  <tbody>\n",
       "    <tr>\n",
       "      <th>1440</th>\n",
       "      <td>ESPORTSTMNT01_2700815</td>\n",
       "      <td>complete</td>\n",
       "      <td>NaN</td>\n",
       "      <td>LCK</td>\n",
       "      <td>2022</td>\n",
       "      <td>Spring</td>\n",
       "      <td>0</td>\n",
       "      <td>2022-01-12 06:20:03</td>\n",
       "      <td>1</td>\n",
       "      <td>12.01</td>\n",
       "      <td>...</td>\n",
       "      <td>135.0</td>\n",
       "      <td>-202.0</td>\n",
       "      <td>-715.0</td>\n",
       "      <td>-8.0</td>\n",
       "      <td>0.0</td>\n",
       "      <td>0.0</td>\n",
       "      <td>1.0</td>\n",
       "      <td>0.0</td>\n",
       "      <td>1.0</td>\n",
       "      <td>0.0</td>\n",
       "    </tr>\n",
       "    <tr>\n",
       "      <th>1441</th>\n",
       "      <td>ESPORTSTMNT01_2700815</td>\n",
       "      <td>complete</td>\n",
       "      <td>NaN</td>\n",
       "      <td>LCK</td>\n",
       "      <td>2022</td>\n",
       "      <td>Spring</td>\n",
       "      <td>0</td>\n",
       "      <td>2022-01-12 06:20:03</td>\n",
       "      <td>1</td>\n",
       "      <td>12.01</td>\n",
       "      <td>...</td>\n",
       "      <td>104.0</td>\n",
       "      <td>240.0</td>\n",
       "      <td>-271.0</td>\n",
       "      <td>-15.0</td>\n",
       "      <td>1.0</td>\n",
       "      <td>2.0</td>\n",
       "      <td>0.0</td>\n",
       "      <td>1.0</td>\n",
       "      <td>0.0</td>\n",
       "      <td>1.0</td>\n",
       "    </tr>\n",
       "    <tr>\n",
       "      <th>1442</th>\n",
       "      <td>ESPORTSTMNT01_2700815</td>\n",
       "      <td>complete</td>\n",
       "      <td>NaN</td>\n",
       "      <td>LCK</td>\n",
       "      <td>2022</td>\n",
       "      <td>Spring</td>\n",
       "      <td>0</td>\n",
       "      <td>2022-01-12 06:20:03</td>\n",
       "      <td>1</td>\n",
       "      <td>12.01</td>\n",
       "      <td>...</td>\n",
       "      <td>151.0</td>\n",
       "      <td>438.0</td>\n",
       "      <td>-204.0</td>\n",
       "      <td>-7.0</td>\n",
       "      <td>0.0</td>\n",
       "      <td>0.0</td>\n",
       "      <td>0.0</td>\n",
       "      <td>0.0</td>\n",
       "      <td>0.0</td>\n",
       "      <td>0.0</td>\n",
       "    </tr>\n",
       "    <tr>\n",
       "      <th>1443</th>\n",
       "      <td>ESPORTSTMNT01_2700815</td>\n",
       "      <td>complete</td>\n",
       "      <td>NaN</td>\n",
       "      <td>LCK</td>\n",
       "      <td>2022</td>\n",
       "      <td>Spring</td>\n",
       "      <td>0</td>\n",
       "      <td>2022-01-12 06:20:03</td>\n",
       "      <td>1</td>\n",
       "      <td>12.01</td>\n",
       "      <td>...</td>\n",
       "      <td>116.0</td>\n",
       "      <td>2849.0</td>\n",
       "      <td>1260.0</td>\n",
       "      <td>24.0</td>\n",
       "      <td>2.0</td>\n",
       "      <td>2.0</td>\n",
       "      <td>0.0</td>\n",
       "      <td>0.0</td>\n",
       "      <td>0.0</td>\n",
       "      <td>2.0</td>\n",
       "    </tr>\n",
       "    <tr>\n",
       "      <th>1444</th>\n",
       "      <td>ESPORTSTMNT01_2700815</td>\n",
       "      <td>complete</td>\n",
       "      <td>NaN</td>\n",
       "      <td>LCK</td>\n",
       "      <td>2022</td>\n",
       "      <td>Spring</td>\n",
       "      <td>0</td>\n",
       "      <td>2022-01-12 06:20:03</td>\n",
       "      <td>1</td>\n",
       "      <td>12.01</td>\n",
       "      <td>...</td>\n",
       "      <td>4.0</td>\n",
       "      <td>1432.0</td>\n",
       "      <td>1470.0</td>\n",
       "      <td>7.0</td>\n",
       "      <td>1.0</td>\n",
       "      <td>3.0</td>\n",
       "      <td>0.0</td>\n",
       "      <td>0.0</td>\n",
       "      <td>0.0</td>\n",
       "      <td>1.0</td>\n",
       "    </tr>\n",
       "    <tr>\n",
       "      <th>...</th>\n",
       "      <td>...</td>\n",
       "      <td>...</td>\n",
       "      <td>...</td>\n",
       "      <td>...</td>\n",
       "      <td>...</td>\n",
       "      <td>...</td>\n",
       "      <td>...</td>\n",
       "      <td>...</td>\n",
       "      <td>...</td>\n",
       "      <td>...</td>\n",
       "      <td>...</td>\n",
       "      <td>...</td>\n",
       "      <td>...</td>\n",
       "      <td>...</td>\n",
       "      <td>...</td>\n",
       "      <td>...</td>\n",
       "      <td>...</td>\n",
       "      <td>...</td>\n",
       "      <td>...</td>\n",
       "      <td>...</td>\n",
       "      <td>...</td>\n",
       "    </tr>\n",
       "    <tr>\n",
       "      <th>129535</th>\n",
       "      <td>ESPORTSTMNT04_2472111</td>\n",
       "      <td>complete</td>\n",
       "      <td>NaN</td>\n",
       "      <td>LCK</td>\n",
       "      <td>2022</td>\n",
       "      <td>Summer</td>\n",
       "      <td>1</td>\n",
       "      <td>2022-08-28 08:18:21</td>\n",
       "      <td>3</td>\n",
       "      <td>12.14</td>\n",
       "      <td>...</td>\n",
       "      <td>149.0</td>\n",
       "      <td>34.0</td>\n",
       "      <td>126.0</td>\n",
       "      <td>-1.0</td>\n",
       "      <td>0.0</td>\n",
       "      <td>1.0</td>\n",
       "      <td>0.0</td>\n",
       "      <td>0.0</td>\n",
       "      <td>0.0</td>\n",
       "      <td>0.0</td>\n",
       "    </tr>\n",
       "    <tr>\n",
       "      <th>129536</th>\n",
       "      <td>ESPORTSTMNT04_2472111</td>\n",
       "      <td>complete</td>\n",
       "      <td>NaN</td>\n",
       "      <td>LCK</td>\n",
       "      <td>2022</td>\n",
       "      <td>Summer</td>\n",
       "      <td>1</td>\n",
       "      <td>2022-08-28 08:18:21</td>\n",
       "      <td>3</td>\n",
       "      <td>12.14</td>\n",
       "      <td>...</td>\n",
       "      <td>149.0</td>\n",
       "      <td>11.0</td>\n",
       "      <td>711.0</td>\n",
       "      <td>6.0</td>\n",
       "      <td>0.0</td>\n",
       "      <td>1.0</td>\n",
       "      <td>0.0</td>\n",
       "      <td>0.0</td>\n",
       "      <td>0.0</td>\n",
       "      <td>1.0</td>\n",
       "    </tr>\n",
       "    <tr>\n",
       "      <th>129537</th>\n",
       "      <td>ESPORTSTMNT04_2472111</td>\n",
       "      <td>complete</td>\n",
       "      <td>NaN</td>\n",
       "      <td>LCK</td>\n",
       "      <td>2022</td>\n",
       "      <td>Summer</td>\n",
       "      <td>1</td>\n",
       "      <td>2022-08-28 08:18:21</td>\n",
       "      <td>3</td>\n",
       "      <td>12.14</td>\n",
       "      <td>...</td>\n",
       "      <td>8.0</td>\n",
       "      <td>38.0</td>\n",
       "      <td>-509.0</td>\n",
       "      <td>3.0</td>\n",
       "      <td>0.0</td>\n",
       "      <td>0.0</td>\n",
       "      <td>0.0</td>\n",
       "      <td>0.0</td>\n",
       "      <td>0.0</td>\n",
       "      <td>0.0</td>\n",
       "    </tr>\n",
       "    <tr>\n",
       "      <th>129538</th>\n",
       "      <td>ESPORTSTMNT04_2472111</td>\n",
       "      <td>complete</td>\n",
       "      <td>NaN</td>\n",
       "      <td>LCK</td>\n",
       "      <td>2022</td>\n",
       "      <td>Summer</td>\n",
       "      <td>1</td>\n",
       "      <td>2022-08-28 08:18:21</td>\n",
       "      <td>3</td>\n",
       "      <td>12.14</td>\n",
       "      <td>...</td>\n",
       "      <td>525.0</td>\n",
       "      <td>515.0</td>\n",
       "      <td>531.0</td>\n",
       "      <td>25.0</td>\n",
       "      <td>1.0</td>\n",
       "      <td>1.0</td>\n",
       "      <td>2.0</td>\n",
       "      <td>2.0</td>\n",
       "      <td>3.0</td>\n",
       "      <td>1.0</td>\n",
       "    </tr>\n",
       "    <tr>\n",
       "      <th>129539</th>\n",
       "      <td>ESPORTSTMNT04_2472111</td>\n",
       "      <td>complete</td>\n",
       "      <td>NaN</td>\n",
       "      <td>LCK</td>\n",
       "      <td>2022</td>\n",
       "      <td>Summer</td>\n",
       "      <td>1</td>\n",
       "      <td>2022-08-28 08:18:21</td>\n",
       "      <td>3</td>\n",
       "      <td>12.14</td>\n",
       "      <td>...</td>\n",
       "      <td>550.0</td>\n",
       "      <td>-515.0</td>\n",
       "      <td>-531.0</td>\n",
       "      <td>-25.0</td>\n",
       "      <td>2.0</td>\n",
       "      <td>3.0</td>\n",
       "      <td>1.0</td>\n",
       "      <td>1.0</td>\n",
       "      <td>1.0</td>\n",
       "      <td>2.0</td>\n",
       "    </tr>\n",
       "  </tbody>\n",
       "</table>\n",
       "<p>5604 rows × 123 columns</p>\n",
       "</div>"
      ],
      "text/plain": [
       "                       gameid datacompleteness  url league  year   split  \\\n",
       "1440    ESPORTSTMNT01_2700815         complete  NaN    LCK  2022  Spring   \n",
       "1441    ESPORTSTMNT01_2700815         complete  NaN    LCK  2022  Spring   \n",
       "1442    ESPORTSTMNT01_2700815         complete  NaN    LCK  2022  Spring   \n",
       "1443    ESPORTSTMNT01_2700815         complete  NaN    LCK  2022  Spring   \n",
       "1444    ESPORTSTMNT01_2700815         complete  NaN    LCK  2022  Spring   \n",
       "...                       ...              ...  ...    ...   ...     ...   \n",
       "129535  ESPORTSTMNT04_2472111         complete  NaN    LCK  2022  Summer   \n",
       "129536  ESPORTSTMNT04_2472111         complete  NaN    LCK  2022  Summer   \n",
       "129537  ESPORTSTMNT04_2472111         complete  NaN    LCK  2022  Summer   \n",
       "129538  ESPORTSTMNT04_2472111         complete  NaN    LCK  2022  Summer   \n",
       "129539  ESPORTSTMNT04_2472111         complete  NaN    LCK  2022  Summer   \n",
       "\n",
       "        playoffs                 date  game  patch  ...  opp_csat15  \\\n",
       "1440           0  2022-01-12 06:20:03     1  12.01  ...       135.0   \n",
       "1441           0  2022-01-12 06:20:03     1  12.01  ...       104.0   \n",
       "1442           0  2022-01-12 06:20:03     1  12.01  ...       151.0   \n",
       "1443           0  2022-01-12 06:20:03     1  12.01  ...       116.0   \n",
       "1444           0  2022-01-12 06:20:03     1  12.01  ...         4.0   \n",
       "...          ...                  ...   ...    ...  ...         ...   \n",
       "129535         1  2022-08-28 08:18:21     3  12.14  ...       149.0   \n",
       "129536         1  2022-08-28 08:18:21     3  12.14  ...       149.0   \n",
       "129537         1  2022-08-28 08:18:21     3  12.14  ...         8.0   \n",
       "129538         1  2022-08-28 08:18:21     3  12.14  ...       525.0   \n",
       "129539         1  2022-08-28 08:18:21     3  12.14  ...       550.0   \n",
       "\n",
       "       golddiffat15 xpdiffat15 csdiffat15 killsat15 assistsat15 deathsat15  \\\n",
       "1440         -202.0     -715.0       -8.0       0.0         0.0        1.0   \n",
       "1441          240.0     -271.0      -15.0       1.0         2.0        0.0   \n",
       "1442          438.0     -204.0       -7.0       0.0         0.0        0.0   \n",
       "1443         2849.0     1260.0       24.0       2.0         2.0        0.0   \n",
       "1444         1432.0     1470.0        7.0       1.0         3.0        0.0   \n",
       "...             ...        ...        ...       ...         ...        ...   \n",
       "129535         34.0      126.0       -1.0       0.0         1.0        0.0   \n",
       "129536         11.0      711.0        6.0       0.0         1.0        0.0   \n",
       "129537         38.0     -509.0        3.0       0.0         0.0        0.0   \n",
       "129538        515.0      531.0       25.0       1.0         1.0        2.0   \n",
       "129539       -515.0     -531.0      -25.0       2.0         3.0        1.0   \n",
       "\n",
       "       opp_killsat15 opp_assistsat15 opp_deathsat15  \n",
       "1440             0.0             1.0            0.0  \n",
       "1441             1.0             0.0            1.0  \n",
       "1442             0.0             0.0            0.0  \n",
       "1443             0.0             0.0            2.0  \n",
       "1444             0.0             0.0            1.0  \n",
       "...              ...             ...            ...  \n",
       "129535           0.0             0.0            0.0  \n",
       "129536           0.0             0.0            1.0  \n",
       "129537           0.0             0.0            0.0  \n",
       "129538           2.0             3.0            1.0  \n",
       "129539           1.0             1.0            2.0  \n",
       "\n",
       "[5604 rows x 123 columns]"
      ]
     },
     "execution_count": 27,
     "metadata": {},
     "output_type": "execute_result"
    }
   ],
   "source": [
    "lck = lol2022season[ lol2022season['league'] == 'LCK' ]\n",
    "lck\n"
   ]
  },
  {
   "cell_type": "code",
   "execution_count": 29,
   "metadata": {},
   "outputs": [
    {
     "data": {
      "text/html": [
       "<div>\n",
       "<style scoped>\n",
       "    .dataframe tbody tr th:only-of-type {\n",
       "        vertical-align: middle;\n",
       "    }\n",
       "\n",
       "    .dataframe tbody tr th {\n",
       "        vertical-align: top;\n",
       "    }\n",
       "\n",
       "    .dataframe thead th {\n",
       "        text-align: right;\n",
       "    }\n",
       "</style>\n",
       "<table border=\"1\" class=\"dataframe\">\n",
       "  <thead>\n",
       "    <tr style=\"text-align: right;\">\n",
       "      <th></th>\n",
       "      <th>gameid</th>\n",
       "      <th>datacompleteness</th>\n",
       "      <th>url</th>\n",
       "      <th>league</th>\n",
       "      <th>year</th>\n",
       "      <th>split</th>\n",
       "      <th>playoffs</th>\n",
       "      <th>date</th>\n",
       "      <th>game</th>\n",
       "      <th>patch</th>\n",
       "      <th>...</th>\n",
       "      <th>opp_csat15</th>\n",
       "      <th>golddiffat15</th>\n",
       "      <th>xpdiffat15</th>\n",
       "      <th>csdiffat15</th>\n",
       "      <th>killsat15</th>\n",
       "      <th>assistsat15</th>\n",
       "      <th>deathsat15</th>\n",
       "      <th>opp_killsat15</th>\n",
       "      <th>opp_assistsat15</th>\n",
       "      <th>opp_deathsat15</th>\n",
       "    </tr>\n",
       "  </thead>\n",
       "  <tbody>\n",
       "    <tr>\n",
       "      <th>1440</th>\n",
       "      <td>ESPORTSTMNT01_2700815</td>\n",
       "      <td>complete</td>\n",
       "      <td>NaN</td>\n",
       "      <td>LCK</td>\n",
       "      <td>2022</td>\n",
       "      <td>Spring</td>\n",
       "      <td>0</td>\n",
       "      <td>2022-01-12 06:20:03</td>\n",
       "      <td>1</td>\n",
       "      <td>12.01</td>\n",
       "      <td>...</td>\n",
       "      <td>135.0</td>\n",
       "      <td>-202.0</td>\n",
       "      <td>-715.0</td>\n",
       "      <td>-8.0</td>\n",
       "      <td>0.0</td>\n",
       "      <td>0.0</td>\n",
       "      <td>1.0</td>\n",
       "      <td>0.0</td>\n",
       "      <td>1.0</td>\n",
       "      <td>0.0</td>\n",
       "    </tr>\n",
       "    <tr>\n",
       "      <th>1441</th>\n",
       "      <td>ESPORTSTMNT01_2700815</td>\n",
       "      <td>complete</td>\n",
       "      <td>NaN</td>\n",
       "      <td>LCK</td>\n",
       "      <td>2022</td>\n",
       "      <td>Spring</td>\n",
       "      <td>0</td>\n",
       "      <td>2022-01-12 06:20:03</td>\n",
       "      <td>1</td>\n",
       "      <td>12.01</td>\n",
       "      <td>...</td>\n",
       "      <td>104.0</td>\n",
       "      <td>240.0</td>\n",
       "      <td>-271.0</td>\n",
       "      <td>-15.0</td>\n",
       "      <td>1.0</td>\n",
       "      <td>2.0</td>\n",
       "      <td>0.0</td>\n",
       "      <td>1.0</td>\n",
       "      <td>0.0</td>\n",
       "      <td>1.0</td>\n",
       "    </tr>\n",
       "    <tr>\n",
       "      <th>1442</th>\n",
       "      <td>ESPORTSTMNT01_2700815</td>\n",
       "      <td>complete</td>\n",
       "      <td>NaN</td>\n",
       "      <td>LCK</td>\n",
       "      <td>2022</td>\n",
       "      <td>Spring</td>\n",
       "      <td>0</td>\n",
       "      <td>2022-01-12 06:20:03</td>\n",
       "      <td>1</td>\n",
       "      <td>12.01</td>\n",
       "      <td>...</td>\n",
       "      <td>151.0</td>\n",
       "      <td>438.0</td>\n",
       "      <td>-204.0</td>\n",
       "      <td>-7.0</td>\n",
       "      <td>0.0</td>\n",
       "      <td>0.0</td>\n",
       "      <td>0.0</td>\n",
       "      <td>0.0</td>\n",
       "      <td>0.0</td>\n",
       "      <td>0.0</td>\n",
       "    </tr>\n",
       "    <tr>\n",
       "      <th>1443</th>\n",
       "      <td>ESPORTSTMNT01_2700815</td>\n",
       "      <td>complete</td>\n",
       "      <td>NaN</td>\n",
       "      <td>LCK</td>\n",
       "      <td>2022</td>\n",
       "      <td>Spring</td>\n",
       "      <td>0</td>\n",
       "      <td>2022-01-12 06:20:03</td>\n",
       "      <td>1</td>\n",
       "      <td>12.01</td>\n",
       "      <td>...</td>\n",
       "      <td>116.0</td>\n",
       "      <td>2849.0</td>\n",
       "      <td>1260.0</td>\n",
       "      <td>24.0</td>\n",
       "      <td>2.0</td>\n",
       "      <td>2.0</td>\n",
       "      <td>0.0</td>\n",
       "      <td>0.0</td>\n",
       "      <td>0.0</td>\n",
       "      <td>2.0</td>\n",
       "    </tr>\n",
       "    <tr>\n",
       "      <th>1444</th>\n",
       "      <td>ESPORTSTMNT01_2700815</td>\n",
       "      <td>complete</td>\n",
       "      <td>NaN</td>\n",
       "      <td>LCK</td>\n",
       "      <td>2022</td>\n",
       "      <td>Spring</td>\n",
       "      <td>0</td>\n",
       "      <td>2022-01-12 06:20:03</td>\n",
       "      <td>1</td>\n",
       "      <td>12.01</td>\n",
       "      <td>...</td>\n",
       "      <td>4.0</td>\n",
       "      <td>1432.0</td>\n",
       "      <td>1470.0</td>\n",
       "      <td>7.0</td>\n",
       "      <td>1.0</td>\n",
       "      <td>3.0</td>\n",
       "      <td>0.0</td>\n",
       "      <td>0.0</td>\n",
       "      <td>0.0</td>\n",
       "      <td>1.0</td>\n",
       "    </tr>\n",
       "    <tr>\n",
       "      <th>...</th>\n",
       "      <td>...</td>\n",
       "      <td>...</td>\n",
       "      <td>...</td>\n",
       "      <td>...</td>\n",
       "      <td>...</td>\n",
       "      <td>...</td>\n",
       "      <td>...</td>\n",
       "      <td>...</td>\n",
       "      <td>...</td>\n",
       "      <td>...</td>\n",
       "      <td>...</td>\n",
       "      <td>...</td>\n",
       "      <td>...</td>\n",
       "      <td>...</td>\n",
       "      <td>...</td>\n",
       "      <td>...</td>\n",
       "      <td>...</td>\n",
       "      <td>...</td>\n",
       "      <td>...</td>\n",
       "      <td>...</td>\n",
       "      <td>...</td>\n",
       "    </tr>\n",
       "    <tr>\n",
       "      <th>124770</th>\n",
       "      <td>ESPORTSTMNT04_2451582</td>\n",
       "      <td>complete</td>\n",
       "      <td>NaN</td>\n",
       "      <td>LCK</td>\n",
       "      <td>2022</td>\n",
       "      <td>Summer</td>\n",
       "      <td>1</td>\n",
       "      <td>2022-08-17 10:32:27</td>\n",
       "      <td>4</td>\n",
       "      <td>12.14</td>\n",
       "      <td>...</td>\n",
       "      <td>85.0</td>\n",
       "      <td>1.0</td>\n",
       "      <td>933.0</td>\n",
       "      <td>10.0</td>\n",
       "      <td>0.0</td>\n",
       "      <td>1.0</td>\n",
       "      <td>0.0</td>\n",
       "      <td>2.0</td>\n",
       "      <td>0.0</td>\n",
       "      <td>1.0</td>\n",
       "    </tr>\n",
       "    <tr>\n",
       "      <th>124771</th>\n",
       "      <td>ESPORTSTMNT04_2451582</td>\n",
       "      <td>complete</td>\n",
       "      <td>NaN</td>\n",
       "      <td>LCK</td>\n",
       "      <td>2022</td>\n",
       "      <td>Summer</td>\n",
       "      <td>1</td>\n",
       "      <td>2022-08-17 10:32:27</td>\n",
       "      <td>4</td>\n",
       "      <td>12.14</td>\n",
       "      <td>...</td>\n",
       "      <td>144.0</td>\n",
       "      <td>132.0</td>\n",
       "      <td>-247.0</td>\n",
       "      <td>-1.0</td>\n",
       "      <td>1.0</td>\n",
       "      <td>0.0</td>\n",
       "      <td>0.0</td>\n",
       "      <td>0.0</td>\n",
       "      <td>1.0</td>\n",
       "      <td>0.0</td>\n",
       "    </tr>\n",
       "    <tr>\n",
       "      <th>124772</th>\n",
       "      <td>ESPORTSTMNT04_2451582</td>\n",
       "      <td>complete</td>\n",
       "      <td>NaN</td>\n",
       "      <td>LCK</td>\n",
       "      <td>2022</td>\n",
       "      <td>Summer</td>\n",
       "      <td>1</td>\n",
       "      <td>2022-08-17 10:32:27</td>\n",
       "      <td>4</td>\n",
       "      <td>12.14</td>\n",
       "      <td>...</td>\n",
       "      <td>131.0</td>\n",
       "      <td>-179.0</td>\n",
       "      <td>-494.0</td>\n",
       "      <td>-2.0</td>\n",
       "      <td>0.0</td>\n",
       "      <td>0.0</td>\n",
       "      <td>0.0</td>\n",
       "      <td>0.0</td>\n",
       "      <td>1.0</td>\n",
       "      <td>0.0</td>\n",
       "    </tr>\n",
       "    <tr>\n",
       "      <th>124773</th>\n",
       "      <td>ESPORTSTMNT04_2451582</td>\n",
       "      <td>complete</td>\n",
       "      <td>NaN</td>\n",
       "      <td>LCK</td>\n",
       "      <td>2022</td>\n",
       "      <td>Summer</td>\n",
       "      <td>1</td>\n",
       "      <td>2022-08-17 10:32:27</td>\n",
       "      <td>4</td>\n",
       "      <td>12.14</td>\n",
       "      <td>...</td>\n",
       "      <td>22.0</td>\n",
       "      <td>90.0</td>\n",
       "      <td>-171.0</td>\n",
       "      <td>-15.0</td>\n",
       "      <td>0.0</td>\n",
       "      <td>1.0</td>\n",
       "      <td>1.0</td>\n",
       "      <td>0.0</td>\n",
       "      <td>2.0</td>\n",
       "      <td>0.0</td>\n",
       "    </tr>\n",
       "    <tr>\n",
       "      <th>124775</th>\n",
       "      <td>ESPORTSTMNT04_2451582</td>\n",
       "      <td>complete</td>\n",
       "      <td>NaN</td>\n",
       "      <td>LCK</td>\n",
       "      <td>2022</td>\n",
       "      <td>Summer</td>\n",
       "      <td>1</td>\n",
       "      <td>2022-08-17 10:32:27</td>\n",
       "      <td>4</td>\n",
       "      <td>12.14</td>\n",
       "      <td>...</td>\n",
       "      <td>494.0</td>\n",
       "      <td>1205.0</td>\n",
       "      <td>292.0</td>\n",
       "      <td>22.0</td>\n",
       "      <td>1.0</td>\n",
       "      <td>3.0</td>\n",
       "      <td>2.0</td>\n",
       "      <td>2.0</td>\n",
       "      <td>5.0</td>\n",
       "      <td>1.0</td>\n",
       "    </tr>\n",
       "  </tbody>\n",
       "</table>\n",
       "<p>570 rows × 123 columns</p>\n",
       "</div>"
      ],
      "text/plain": [
       "                       gameid datacompleteness  url league  year   split  \\\n",
       "1440    ESPORTSTMNT01_2700815         complete  NaN    LCK  2022  Spring   \n",
       "1441    ESPORTSTMNT01_2700815         complete  NaN    LCK  2022  Spring   \n",
       "1442    ESPORTSTMNT01_2700815         complete  NaN    LCK  2022  Spring   \n",
       "1443    ESPORTSTMNT01_2700815         complete  NaN    LCK  2022  Spring   \n",
       "1444    ESPORTSTMNT01_2700815         complete  NaN    LCK  2022  Spring   \n",
       "...                       ...              ...  ...    ...   ...     ...   \n",
       "124770  ESPORTSTMNT04_2451582         complete  NaN    LCK  2022  Summer   \n",
       "124771  ESPORTSTMNT04_2451582         complete  NaN    LCK  2022  Summer   \n",
       "124772  ESPORTSTMNT04_2451582         complete  NaN    LCK  2022  Summer   \n",
       "124773  ESPORTSTMNT04_2451582         complete  NaN    LCK  2022  Summer   \n",
       "124775  ESPORTSTMNT04_2451582         complete  NaN    LCK  2022  Summer   \n",
       "\n",
       "        playoffs                 date  game  patch  ...  opp_csat15  \\\n",
       "1440           0  2022-01-12 06:20:03     1  12.01  ...       135.0   \n",
       "1441           0  2022-01-12 06:20:03     1  12.01  ...       104.0   \n",
       "1442           0  2022-01-12 06:20:03     1  12.01  ...       151.0   \n",
       "1443           0  2022-01-12 06:20:03     1  12.01  ...       116.0   \n",
       "1444           0  2022-01-12 06:20:03     1  12.01  ...         4.0   \n",
       "...          ...                  ...   ...    ...  ...         ...   \n",
       "124770         1  2022-08-17 10:32:27     4  12.14  ...        85.0   \n",
       "124771         1  2022-08-17 10:32:27     4  12.14  ...       144.0   \n",
       "124772         1  2022-08-17 10:32:27     4  12.14  ...       131.0   \n",
       "124773         1  2022-08-17 10:32:27     4  12.14  ...        22.0   \n",
       "124775         1  2022-08-17 10:32:27     4  12.14  ...       494.0   \n",
       "\n",
       "       golddiffat15 xpdiffat15 csdiffat15 killsat15 assistsat15 deathsat15  \\\n",
       "1440         -202.0     -715.0       -8.0       0.0         0.0        1.0   \n",
       "1441          240.0     -271.0      -15.0       1.0         2.0        0.0   \n",
       "1442          438.0     -204.0       -7.0       0.0         0.0        0.0   \n",
       "1443         2849.0     1260.0       24.0       2.0         2.0        0.0   \n",
       "1444         1432.0     1470.0        7.0       1.0         3.0        0.0   \n",
       "...             ...        ...        ...       ...         ...        ...   \n",
       "124770          1.0      933.0       10.0       0.0         1.0        0.0   \n",
       "124771        132.0     -247.0       -1.0       1.0         0.0        0.0   \n",
       "124772       -179.0     -494.0       -2.0       0.0         0.0        0.0   \n",
       "124773         90.0     -171.0      -15.0       0.0         1.0        1.0   \n",
       "124775       1205.0      292.0       22.0       1.0         3.0        2.0   \n",
       "\n",
       "       opp_killsat15 opp_assistsat15 opp_deathsat15  \n",
       "1440             0.0             1.0            0.0  \n",
       "1441             1.0             0.0            1.0  \n",
       "1442             0.0             0.0            0.0  \n",
       "1443             0.0             0.0            2.0  \n",
       "1444             0.0             0.0            1.0  \n",
       "...              ...             ...            ...  \n",
       "124770           2.0             0.0            1.0  \n",
       "124771           0.0             1.0            0.0  \n",
       "124772           0.0             1.0            0.0  \n",
       "124773           0.0             2.0            0.0  \n",
       "124775           2.0             5.0            1.0  \n",
       "\n",
       "[570 rows x 123 columns]"
      ]
     },
     "execution_count": 29,
     "metadata": {},
     "output_type": "execute_result"
    }
   ],
   "source": [
    "lck_drx = lck[ lck['teamname'] == 'DRX' ]\n",
    "lck_drx"
   ]
  },
  {
   "cell_type": "code",
   "execution_count": 47,
   "metadata": {},
   "outputs": [
    {
     "data": {
      "text/html": [
       "<div>\n",
       "<style scoped>\n",
       "    .dataframe tbody tr th:only-of-type {\n",
       "        vertical-align: middle;\n",
       "    }\n",
       "\n",
       "    .dataframe tbody tr th {\n",
       "        vertical-align: top;\n",
       "    }\n",
       "\n",
       "    .dataframe thead th {\n",
       "        text-align: right;\n",
       "    }\n",
       "</style>\n",
       "<table border=\"1\" class=\"dataframe\">\n",
       "  <thead>\n",
       "    <tr style=\"text-align: right;\">\n",
       "      <th></th>\n",
       "      <th>gameid</th>\n",
       "      <th>teamname</th>\n",
       "      <th>result</th>\n",
       "      <th>playoffs</th>\n",
       "    </tr>\n",
       "  </thead>\n",
       "  <tbody>\n",
       "    <tr>\n",
       "      <th>1440</th>\n",
       "      <td>ESPORTSTMNT01_2700815</td>\n",
       "      <td>DRX</td>\n",
       "      <td>0</td>\n",
       "      <td>0</td>\n",
       "    </tr>\n",
       "    <tr>\n",
       "      <th>1441</th>\n",
       "      <td>ESPORTSTMNT01_2700815</td>\n",
       "      <td>DRX</td>\n",
       "      <td>0</td>\n",
       "      <td>0</td>\n",
       "    </tr>\n",
       "    <tr>\n",
       "      <th>1442</th>\n",
       "      <td>ESPORTSTMNT01_2700815</td>\n",
       "      <td>DRX</td>\n",
       "      <td>0</td>\n",
       "      <td>0</td>\n",
       "    </tr>\n",
       "    <tr>\n",
       "      <th>1443</th>\n",
       "      <td>ESPORTSTMNT01_2700815</td>\n",
       "      <td>DRX</td>\n",
       "      <td>0</td>\n",
       "      <td>0</td>\n",
       "    </tr>\n",
       "    <tr>\n",
       "      <th>1444</th>\n",
       "      <td>ESPORTSTMNT01_2700815</td>\n",
       "      <td>DRX</td>\n",
       "      <td>0</td>\n",
       "      <td>0</td>\n",
       "    </tr>\n",
       "    <tr>\n",
       "      <th>...</th>\n",
       "      <td>...</td>\n",
       "      <td>...</td>\n",
       "      <td>...</td>\n",
       "      <td>...</td>\n",
       "    </tr>\n",
       "    <tr>\n",
       "      <th>124770</th>\n",
       "      <td>ESPORTSTMNT04_2451582</td>\n",
       "      <td>DRX</td>\n",
       "      <td>0</td>\n",
       "      <td>1</td>\n",
       "    </tr>\n",
       "    <tr>\n",
       "      <th>124771</th>\n",
       "      <td>ESPORTSTMNT04_2451582</td>\n",
       "      <td>DRX</td>\n",
       "      <td>0</td>\n",
       "      <td>1</td>\n",
       "    </tr>\n",
       "    <tr>\n",
       "      <th>124772</th>\n",
       "      <td>ESPORTSTMNT04_2451582</td>\n",
       "      <td>DRX</td>\n",
       "      <td>0</td>\n",
       "      <td>1</td>\n",
       "    </tr>\n",
       "    <tr>\n",
       "      <th>124773</th>\n",
       "      <td>ESPORTSTMNT04_2451582</td>\n",
       "      <td>DRX</td>\n",
       "      <td>0</td>\n",
       "      <td>1</td>\n",
       "    </tr>\n",
       "    <tr>\n",
       "      <th>124775</th>\n",
       "      <td>ESPORTSTMNT04_2451582</td>\n",
       "      <td>DRX</td>\n",
       "      <td>0</td>\n",
       "      <td>1</td>\n",
       "    </tr>\n",
       "  </tbody>\n",
       "</table>\n",
       "<p>570 rows × 4 columns</p>\n",
       "</div>"
      ],
      "text/plain": [
       "                       gameid teamname  result  playoffs\n",
       "1440    ESPORTSTMNT01_2700815      DRX       0         0\n",
       "1441    ESPORTSTMNT01_2700815      DRX       0         0\n",
       "1442    ESPORTSTMNT01_2700815      DRX       0         0\n",
       "1443    ESPORTSTMNT01_2700815      DRX       0         0\n",
       "1444    ESPORTSTMNT01_2700815      DRX       0         0\n",
       "...                       ...      ...     ...       ...\n",
       "124770  ESPORTSTMNT04_2451582      DRX       0         1\n",
       "124771  ESPORTSTMNT04_2451582      DRX       0         1\n",
       "124772  ESPORTSTMNT04_2451582      DRX       0         1\n",
       "124773  ESPORTSTMNT04_2451582      DRX       0         1\n",
       "124775  ESPORTSTMNT04_2451582      DRX       0         1\n",
       "\n",
       "[570 rows x 4 columns]"
      ]
     },
     "execution_count": 47,
     "metadata": {},
     "output_type": "execute_result"
    }
   ],
   "source": [
    "lck_drx_value = lck_drx[ ['gameid','teamname','result','playoffs'] ]\n",
    "lck_drx_value"
   ]
  },
  {
   "cell_type": "code",
   "execution_count": 54,
   "metadata": {},
   "outputs": [
    {
     "data": {
      "text/html": [
       "<div>\n",
       "<style scoped>\n",
       "    .dataframe tbody tr th:only-of-type {\n",
       "        vertical-align: middle;\n",
       "    }\n",
       "\n",
       "    .dataframe tbody tr th {\n",
       "        vertical-align: top;\n",
       "    }\n",
       "\n",
       "    .dataframe thead th {\n",
       "        text-align: right;\n",
       "    }\n",
       "</style>\n",
       "<table border=\"1\" class=\"dataframe\">\n",
       "  <thead>\n",
       "    <tr style=\"text-align: right;\">\n",
       "      <th></th>\n",
       "      <th>gameid</th>\n",
       "      <th>teamname</th>\n",
       "      <th>result</th>\n",
       "      <th>playoffs</th>\n",
       "    </tr>\n",
       "  </thead>\n",
       "  <tbody>\n",
       "    <tr>\n",
       "      <th>1440</th>\n",
       "      <td>ESPORTSTMNT01_2700815</td>\n",
       "      <td>DRX</td>\n",
       "      <td>0</td>\n",
       "      <td>0</td>\n",
       "    </tr>\n",
       "    <tr>\n",
       "      <th>1441</th>\n",
       "      <td>ESPORTSTMNT01_2700815</td>\n",
       "      <td>DRX</td>\n",
       "      <td>0</td>\n",
       "      <td>0</td>\n",
       "    </tr>\n",
       "    <tr>\n",
       "      <th>1442</th>\n",
       "      <td>ESPORTSTMNT01_2700815</td>\n",
       "      <td>DRX</td>\n",
       "      <td>0</td>\n",
       "      <td>0</td>\n",
       "    </tr>\n",
       "    <tr>\n",
       "      <th>1443</th>\n",
       "      <td>ESPORTSTMNT01_2700815</td>\n",
       "      <td>DRX</td>\n",
       "      <td>0</td>\n",
       "      <td>0</td>\n",
       "    </tr>\n",
       "    <tr>\n",
       "      <th>1444</th>\n",
       "      <td>ESPORTSTMNT01_2700815</td>\n",
       "      <td>DRX</td>\n",
       "      <td>0</td>\n",
       "      <td>0</td>\n",
       "    </tr>\n",
       "    <tr>\n",
       "      <th>...</th>\n",
       "      <td>...</td>\n",
       "      <td>...</td>\n",
       "      <td>...</td>\n",
       "      <td>...</td>\n",
       "    </tr>\n",
       "    <tr>\n",
       "      <th>123313</th>\n",
       "      <td>ESPORTSTMNT04_2471386</td>\n",
       "      <td>DRX</td>\n",
       "      <td>0</td>\n",
       "      <td>0</td>\n",
       "    </tr>\n",
       "    <tr>\n",
       "      <th>123314</th>\n",
       "      <td>ESPORTSTMNT04_2471386</td>\n",
       "      <td>DRX</td>\n",
       "      <td>0</td>\n",
       "      <td>0</td>\n",
       "    </tr>\n",
       "    <tr>\n",
       "      <th>123315</th>\n",
       "      <td>ESPORTSTMNT04_2471386</td>\n",
       "      <td>DRX</td>\n",
       "      <td>0</td>\n",
       "      <td>0</td>\n",
       "    </tr>\n",
       "    <tr>\n",
       "      <th>123316</th>\n",
       "      <td>ESPORTSTMNT04_2471386</td>\n",
       "      <td>DRX</td>\n",
       "      <td>0</td>\n",
       "      <td>0</td>\n",
       "    </tr>\n",
       "    <tr>\n",
       "      <th>123322</th>\n",
       "      <td>ESPORTSTMNT04_2471386</td>\n",
       "      <td>DRX</td>\n",
       "      <td>0</td>\n",
       "      <td>0</td>\n",
       "    </tr>\n",
       "  </tbody>\n",
       "</table>\n",
       "<p>516 rows × 4 columns</p>\n",
       "</div>"
      ],
      "text/plain": [
       "                       gameid teamname  result  playoffs\n",
       "1440    ESPORTSTMNT01_2700815      DRX       0         0\n",
       "1441    ESPORTSTMNT01_2700815      DRX       0         0\n",
       "1442    ESPORTSTMNT01_2700815      DRX       0         0\n",
       "1443    ESPORTSTMNT01_2700815      DRX       0         0\n",
       "1444    ESPORTSTMNT01_2700815      DRX       0         0\n",
       "...                       ...      ...     ...       ...\n",
       "123313  ESPORTSTMNT04_2471386      DRX       0         0\n",
       "123314  ESPORTSTMNT04_2471386      DRX       0         0\n",
       "123315  ESPORTSTMNT04_2471386      DRX       0         0\n",
       "123316  ESPORTSTMNT04_2471386      DRX       0         0\n",
       "123322  ESPORTSTMNT04_2471386      DRX       0         0\n",
       "\n",
       "[516 rows x 4 columns]"
      ]
     },
     "execution_count": 54,
     "metadata": {},
     "output_type": "execute_result"
    }
   ],
   "source": [
    "lck_drx_org = lck_drx_value[ lck_drx_value['playoffs' ] == 0 ]\n",
    "lck_drx_org"
   ]
  },
  {
   "cell_type": "code",
   "execution_count": 71,
   "metadata": {},
   "outputs": [
    {
     "data": {
      "text/html": [
       "<div>\n",
       "<style scoped>\n",
       "    .dataframe tbody tr th:only-of-type {\n",
       "        vertical-align: middle;\n",
       "    }\n",
       "\n",
       "    .dataframe tbody tr th {\n",
       "        vertical-align: top;\n",
       "    }\n",
       "\n",
       "    .dataframe thead th {\n",
       "        text-align: right;\n",
       "    }\n",
       "</style>\n",
       "<table border=\"1\" class=\"dataframe\">\n",
       "  <thead>\n",
       "    <tr style=\"text-align: right;\">\n",
       "      <th></th>\n",
       "      <th></th>\n",
       "      <th>result</th>\n",
       "      <th>playoffs</th>\n",
       "    </tr>\n",
       "    <tr>\n",
       "      <th>gameid</th>\n",
       "      <th>teamname</th>\n",
       "      <th></th>\n",
       "      <th></th>\n",
       "    </tr>\n",
       "  </thead>\n",
       "  <tbody>\n",
       "    <tr>\n",
       "      <th>ESPORTSTMNT01_2690695</th>\n",
       "      <th>DRX</th>\n",
       "      <td>0</td>\n",
       "      <td>0</td>\n",
       "    </tr>\n",
       "    <tr>\n",
       "      <th>ESPORTSTMNT01_2691507</th>\n",
       "      <th>DRX</th>\n",
       "      <td>0</td>\n",
       "      <td>0</td>\n",
       "    </tr>\n",
       "    <tr>\n",
       "      <th>ESPORTSTMNT01_2691515</th>\n",
       "      <th>DRX</th>\n",
       "      <td>0</td>\n",
       "      <td>0</td>\n",
       "    </tr>\n",
       "    <tr>\n",
       "      <th>ESPORTSTMNT01_2694425</th>\n",
       "      <th>DRX</th>\n",
       "      <td>0</td>\n",
       "      <td>0</td>\n",
       "    </tr>\n",
       "    <tr>\n",
       "      <th>ESPORTSTMNT01_2700815</th>\n",
       "      <th>DRX</th>\n",
       "      <td>0</td>\n",
       "      <td>0</td>\n",
       "    </tr>\n",
       "    <tr>\n",
       "      <th>...</th>\n",
       "      <th>...</th>\n",
       "      <td>...</td>\n",
       "      <td>...</td>\n",
       "    </tr>\n",
       "    <tr>\n",
       "      <th>ESPORTSTMNT06_2532177</th>\n",
       "      <th>DRX</th>\n",
       "      <td>6</td>\n",
       "      <td>0</td>\n",
       "    </tr>\n",
       "    <tr>\n",
       "      <th>ESPORTSTMNT06_2542141</th>\n",
       "      <th>DRX</th>\n",
       "      <td>6</td>\n",
       "      <td>0</td>\n",
       "    </tr>\n",
       "    <tr>\n",
       "      <th>ESPORTSTMNT06_2542154</th>\n",
       "      <th>DRX</th>\n",
       "      <td>0</td>\n",
       "      <td>0</td>\n",
       "    </tr>\n",
       "    <tr>\n",
       "      <th>ESPORTSTMNT06_2542223</th>\n",
       "      <th>DRX</th>\n",
       "      <td>6</td>\n",
       "      <td>0</td>\n",
       "    </tr>\n",
       "    <tr>\n",
       "      <th>ESPORTSTMNT06_2542228</th>\n",
       "      <th>DRX</th>\n",
       "      <td>6</td>\n",
       "      <td>0</td>\n",
       "    </tr>\n",
       "  </tbody>\n",
       "</table>\n",
       "<p>86 rows × 2 columns</p>\n",
       "</div>"
      ],
      "text/plain": [
       "                                result  playoffs\n",
       "gameid                teamname                  \n",
       "ESPORTSTMNT01_2690695 DRX            0         0\n",
       "ESPORTSTMNT01_2691507 DRX            0         0\n",
       "ESPORTSTMNT01_2691515 DRX            0         0\n",
       "ESPORTSTMNT01_2694425 DRX            0         0\n",
       "ESPORTSTMNT01_2700815 DRX            0         0\n",
       "...                                ...       ...\n",
       "ESPORTSTMNT06_2532177 DRX            6         0\n",
       "ESPORTSTMNT06_2542141 DRX            6         0\n",
       "ESPORTSTMNT06_2542154 DRX            0         0\n",
       "ESPORTSTMNT06_2542223 DRX            6         0\n",
       "ESPORTSTMNT06_2542228 DRX            6         0\n",
       "\n",
       "[86 rows x 2 columns]"
      ]
     },
     "execution_count": 71,
     "metadata": {},
     "output_type": "execute_result"
    }
   ],
   "source": [
    "lck_drx_group = lck_drx_org.groupby(['gameid','teamname'] , group_keys=True).sum()\n",
    "lck_drx_group"
   ]
  },
  {
   "cell_type": "code",
   "execution_count": 78,
   "metadata": {},
   "outputs": [
    {
     "data": {
      "text/plain": [
       "result      42\n",
       "playoffs    42\n",
       "dtype: int64"
      ]
     },
     "execution_count": 78,
     "metadata": {},
     "output_type": "execute_result"
    }
   ],
   "source": [
    "lck_drx_group[ lck_drx_group['result']==0 ].count()"
   ]
  },
  {
   "cell_type": "code",
   "execution_count": 79,
   "metadata": {},
   "outputs": [
    {
     "data": {
      "text/plain": [
       "result      44\n",
       "playoffs    44\n",
       "dtype: int64"
      ]
     },
     "execution_count": 79,
     "metadata": {},
     "output_type": "execute_result"
    }
   ],
   "source": [
    "lck_drx_group[ lck_drx_group['result'] !=0 ].count()"
   ]
  },
  {
   "cell_type": "markdown",
   "metadata": {},
   "source": [
    "playoff 전적만"
   ]
  },
  {
   "cell_type": "code",
   "execution_count": 121,
   "metadata": {},
   "outputs": [
    {
     "data": {
      "text/plain": [
       "'ESPORTSTMNT02'"
      ]
     },
     "execution_count": 121,
     "metadata": {},
     "output_type": "execute_result"
    }
   ],
   "source": [
    "lck_drx_po['gameid'].values[0][:13]"
   ]
  },
  {
   "cell_type": "code",
   "execution_count": 134,
   "metadata": {},
   "outputs": [
    {
     "data": {
      "text/html": [
       "<div>\n",
       "<style scoped>\n",
       "    .dataframe tbody tr th:only-of-type {\n",
       "        vertical-align: middle;\n",
       "    }\n",
       "\n",
       "    .dataframe tbody tr th {\n",
       "        vertical-align: top;\n",
       "    }\n",
       "\n",
       "    .dataframe thead th {\n",
       "        text-align: right;\n",
       "    }\n",
       "</style>\n",
       "<table border=\"1\" class=\"dataframe\">\n",
       "  <thead>\n",
       "    <tr style=\"text-align: right;\">\n",
       "      <th></th>\n",
       "      <th>gameid</th>\n",
       "      <th>teamname</th>\n",
       "      <th>result</th>\n",
       "      <th>playoffs</th>\n",
       "    </tr>\n",
       "  </thead>\n",
       "  <tbody>\n",
       "    <tr>\n",
       "      <th>52044</th>\n",
       "      <td>ESPORTSTMNT02_2663759</td>\n",
       "      <td>DRX</td>\n",
       "      <td>0</td>\n",
       "      <td>1</td>\n",
       "    </tr>\n",
       "    <tr>\n",
       "      <th>52045</th>\n",
       "      <td>ESPORTSTMNT02_2663759</td>\n",
       "      <td>DRX</td>\n",
       "      <td>0</td>\n",
       "      <td>1</td>\n",
       "    </tr>\n",
       "    <tr>\n",
       "      <th>52046</th>\n",
       "      <td>ESPORTSTMNT02_2663759</td>\n",
       "      <td>DRX</td>\n",
       "      <td>0</td>\n",
       "      <td>1</td>\n",
       "    </tr>\n",
       "    <tr>\n",
       "      <th>52047</th>\n",
       "      <td>ESPORTSTMNT02_2663759</td>\n",
       "      <td>DRX</td>\n",
       "      <td>0</td>\n",
       "      <td>1</td>\n",
       "    </tr>\n",
       "    <tr>\n",
       "      <th>52048</th>\n",
       "      <td>ESPORTSTMNT02_2663759</td>\n",
       "      <td>DRX</td>\n",
       "      <td>0</td>\n",
       "      <td>1</td>\n",
       "    </tr>\n",
       "  </tbody>\n",
       "</table>\n",
       "</div>"
      ],
      "text/plain": [
       "                      gameid teamname  result  playoffs\n",
       "52044  ESPORTSTMNT02_2663759      DRX       0         1\n",
       "52045  ESPORTSTMNT02_2663759      DRX       0         1\n",
       "52046  ESPORTSTMNT02_2663759      DRX       0         1\n",
       "52047  ESPORTSTMNT02_2663759      DRX       0         1\n",
       "52048  ESPORTSTMNT02_2663759      DRX       0         1"
      ]
     },
     "execution_count": 134,
     "metadata": {},
     "output_type": "execute_result"
    }
   ],
   "source": [
    "lck_drx_po = lck_drx_value[ lck_drx_value['playoffs' ] == 1 ]\n",
    "lck_drx_po.head()"
   ]
  },
  {
   "cell_type": "code",
   "execution_count": 166,
   "metadata": {},
   "outputs": [
    {
     "name": "stderr",
     "output_type": "stream",
     "text": [
      "C:\\Users\\Admin\\AppData\\Local\\Temp\\ipykernel_24672\\2336347560.py:2: SettingWithCopyWarning: \n",
      "A value is trying to be set on a copy of a slice from a DataFrame.\n",
      "Try using .loc[row_indexer,col_indexer] = value instead\n",
      "\n",
      "See the caveats in the documentation: https://pandas.pydata.org/pandas-docs/stable/user_guide/indexing.html#returning-a-view-versus-a-copy\n",
      "  lck_drx_po['group_value'] = lck_drx_po['gameid'].str[:group_index]\n"
     ]
    },
    {
     "data": {
      "text/html": [
       "<div>\n",
       "<style scoped>\n",
       "    .dataframe tbody tr th:only-of-type {\n",
       "        vertical-align: middle;\n",
       "    }\n",
       "\n",
       "    .dataframe tbody tr th {\n",
       "        vertical-align: top;\n",
       "    }\n",
       "\n",
       "    .dataframe thead th {\n",
       "        text-align: right;\n",
       "    }\n",
       "</style>\n",
       "<table border=\"1\" class=\"dataframe\">\n",
       "  <thead>\n",
       "    <tr style=\"text-align: right;\">\n",
       "      <th></th>\n",
       "      <th>group_value</th>\n",
       "      <th>gameid</th>\n",
       "      <th>result</th>\n",
       "    </tr>\n",
       "  </thead>\n",
       "  <tbody>\n",
       "    <tr>\n",
       "      <th>0</th>\n",
       "      <td>ESPORTSTMNT02</td>\n",
       "      <td>ESPORTSTMNT02_2663759</td>\n",
       "      <td>0</td>\n",
       "    </tr>\n",
       "    <tr>\n",
       "      <th>1</th>\n",
       "      <td>ESPORTSTMNT02</td>\n",
       "      <td>ESPORTSTMNT02_2673595</td>\n",
       "      <td>1</td>\n",
       "    </tr>\n",
       "    <tr>\n",
       "      <th>2</th>\n",
       "      <td>ESPORTSTMNT02</td>\n",
       "      <td>ESPORTSTMNT02_2673596</td>\n",
       "      <td>0</td>\n",
       "    </tr>\n",
       "    <tr>\n",
       "      <th>3</th>\n",
       "      <td>ESPORTSTMNT02</td>\n",
       "      <td>ESPORTSTMNT02_2673599</td>\n",
       "      <td>1</td>\n",
       "    </tr>\n",
       "    <tr>\n",
       "      <th>4</th>\n",
       "      <td>ESPORTSTMNT02</td>\n",
       "      <td>ESPORTSTMNT02_2673605</td>\n",
       "      <td>0</td>\n",
       "    </tr>\n",
       "    <tr>\n",
       "      <th>5</th>\n",
       "      <td>ESPORTSTMNT04</td>\n",
       "      <td>ESPORTSTMNT04_2451564</td>\n",
       "      <td>0</td>\n",
       "    </tr>\n",
       "    <tr>\n",
       "      <th>6</th>\n",
       "      <td>ESPORTSTMNT04</td>\n",
       "      <td>ESPORTSTMNT04_2451579</td>\n",
       "      <td>0</td>\n",
       "    </tr>\n",
       "    <tr>\n",
       "      <th>7</th>\n",
       "      <td>ESPORTSTMNT04</td>\n",
       "      <td>ESPORTSTMNT04_2451580</td>\n",
       "      <td>1</td>\n",
       "    </tr>\n",
       "    <tr>\n",
       "      <th>8</th>\n",
       "      <td>ESPORTSTMNT04</td>\n",
       "      <td>ESPORTSTMNT04_2451582</td>\n",
       "      <td>0</td>\n",
       "    </tr>\n",
       "  </tbody>\n",
       "</table>\n",
       "</div>"
      ],
      "text/plain": [
       "     group_value                 gameid  result\n",
       "0  ESPORTSTMNT02  ESPORTSTMNT02_2663759       0\n",
       "1  ESPORTSTMNT02  ESPORTSTMNT02_2673595       1\n",
       "2  ESPORTSTMNT02  ESPORTSTMNT02_2673596       0\n",
       "3  ESPORTSTMNT02  ESPORTSTMNT02_2673599       1\n",
       "4  ESPORTSTMNT02  ESPORTSTMNT02_2673605       0\n",
       "5  ESPORTSTMNT04  ESPORTSTMNT04_2451564       0\n",
       "6  ESPORTSTMNT04  ESPORTSTMNT04_2451579       0\n",
       "7  ESPORTSTMNT04  ESPORTSTMNT04_2451580       1\n",
       "8  ESPORTSTMNT04  ESPORTSTMNT04_2451582       0"
      ]
     },
     "execution_count": 166,
     "metadata": {},
     "output_type": "execute_result"
    }
   ],
   "source": [
    "group_index = 13\n",
    "lck_drx_po['group_value'] = lck_drx_po['gameid'].str[:group_index]\n",
    "lck_drx_po_win = lck_drx_po.groupby(['group_value','gameid','result']).size().reset_index(name='group_count').drop(columns = 'group_count')\n",
    "lck_drx_po_win\n",
    "# grouped = lck_drx_po.groupby('group_value')"
   ]
  },
  {
   "cell_type": "code",
   "execution_count": 196,
   "metadata": {},
   "outputs": [
    {
     "name": "stdout",
     "output_type": "stream",
     "text": [
      "<class 'pandas.core.frame.DataFrame'>\n",
      "RangeIndex: 4 entries, 0 to 3\n",
      "Data columns (total 3 columns):\n",
      " #   Column       Non-Null Count  Dtype \n",
      "---  ------       --------------  ----- \n",
      " 0   group_value  4 non-null      object\n",
      " 1   result       4 non-null      object\n",
      " 2   count        4 non-null      int64 \n",
      "dtypes: int64(1), object(2)\n",
      "memory usage: 228.0+ bytes\n"
     ]
    }
   ],
   "source": [
    "lck_drx_po_win_gb['result'] = lck_drx_po_win_gb['result'].astype('str')\n",
    "\n",
    "lck_drx_po_win_gb.info()"
   ]
  },
  {
   "cell_type": "code",
   "execution_count": 197,
   "metadata": {},
   "outputs": [
    {
     "data": {
      "application/vnd.plotly.v1+json": {
       "config": {
        "plotlyServerURL": "https://plot.ly"
       },
       "data": [
        {
         "type": "bar",
         "x": [
          "ESPORTSTMNT02 - 0",
          "ESPORTSTMNT02 - 1",
          "ESPORTSTMNT04 - 0",
          "ESPORTSTMNT04 - 1"
         ],
         "y": [
          3,
          2,
          3,
          1
         ]
        }
       ],
       "layout": {
        "template": {
         "data": {
          "bar": [
           {
            "error_x": {
             "color": "#2a3f5f"
            },
            "error_y": {
             "color": "#2a3f5f"
            },
            "marker": {
             "line": {
              "color": "#E5ECF6",
              "width": 0.5
             },
             "pattern": {
              "fillmode": "overlay",
              "size": 10,
              "solidity": 0.2
             }
            },
            "type": "bar"
           }
          ],
          "barpolar": [
           {
            "marker": {
             "line": {
              "color": "#E5ECF6",
              "width": 0.5
             },
             "pattern": {
              "fillmode": "overlay",
              "size": 10,
              "solidity": 0.2
             }
            },
            "type": "barpolar"
           }
          ],
          "carpet": [
           {
            "aaxis": {
             "endlinecolor": "#2a3f5f",
             "gridcolor": "white",
             "linecolor": "white",
             "minorgridcolor": "white",
             "startlinecolor": "#2a3f5f"
            },
            "baxis": {
             "endlinecolor": "#2a3f5f",
             "gridcolor": "white",
             "linecolor": "white",
             "minorgridcolor": "white",
             "startlinecolor": "#2a3f5f"
            },
            "type": "carpet"
           }
          ],
          "choropleth": [
           {
            "colorbar": {
             "outlinewidth": 0,
             "ticks": ""
            },
            "type": "choropleth"
           }
          ],
          "contour": [
           {
            "colorbar": {
             "outlinewidth": 0,
             "ticks": ""
            },
            "colorscale": [
             [
              0,
              "#0d0887"
             ],
             [
              0.1111111111111111,
              "#46039f"
             ],
             [
              0.2222222222222222,
              "#7201a8"
             ],
             [
              0.3333333333333333,
              "#9c179e"
             ],
             [
              0.4444444444444444,
              "#bd3786"
             ],
             [
              0.5555555555555556,
              "#d8576b"
             ],
             [
              0.6666666666666666,
              "#ed7953"
             ],
             [
              0.7777777777777778,
              "#fb9f3a"
             ],
             [
              0.8888888888888888,
              "#fdca26"
             ],
             [
              1,
              "#f0f921"
             ]
            ],
            "type": "contour"
           }
          ],
          "contourcarpet": [
           {
            "colorbar": {
             "outlinewidth": 0,
             "ticks": ""
            },
            "type": "contourcarpet"
           }
          ],
          "heatmap": [
           {
            "colorbar": {
             "outlinewidth": 0,
             "ticks": ""
            },
            "colorscale": [
             [
              0,
              "#0d0887"
             ],
             [
              0.1111111111111111,
              "#46039f"
             ],
             [
              0.2222222222222222,
              "#7201a8"
             ],
             [
              0.3333333333333333,
              "#9c179e"
             ],
             [
              0.4444444444444444,
              "#bd3786"
             ],
             [
              0.5555555555555556,
              "#d8576b"
             ],
             [
              0.6666666666666666,
              "#ed7953"
             ],
             [
              0.7777777777777778,
              "#fb9f3a"
             ],
             [
              0.8888888888888888,
              "#fdca26"
             ],
             [
              1,
              "#f0f921"
             ]
            ],
            "type": "heatmap"
           }
          ],
          "heatmapgl": [
           {
            "colorbar": {
             "outlinewidth": 0,
             "ticks": ""
            },
            "colorscale": [
             [
              0,
              "#0d0887"
             ],
             [
              0.1111111111111111,
              "#46039f"
             ],
             [
              0.2222222222222222,
              "#7201a8"
             ],
             [
              0.3333333333333333,
              "#9c179e"
             ],
             [
              0.4444444444444444,
              "#bd3786"
             ],
             [
              0.5555555555555556,
              "#d8576b"
             ],
             [
              0.6666666666666666,
              "#ed7953"
             ],
             [
              0.7777777777777778,
              "#fb9f3a"
             ],
             [
              0.8888888888888888,
              "#fdca26"
             ],
             [
              1,
              "#f0f921"
             ]
            ],
            "type": "heatmapgl"
           }
          ],
          "histogram": [
           {
            "marker": {
             "pattern": {
              "fillmode": "overlay",
              "size": 10,
              "solidity": 0.2
             }
            },
            "type": "histogram"
           }
          ],
          "histogram2d": [
           {
            "colorbar": {
             "outlinewidth": 0,
             "ticks": ""
            },
            "colorscale": [
             [
              0,
              "#0d0887"
             ],
             [
              0.1111111111111111,
              "#46039f"
             ],
             [
              0.2222222222222222,
              "#7201a8"
             ],
             [
              0.3333333333333333,
              "#9c179e"
             ],
             [
              0.4444444444444444,
              "#bd3786"
             ],
             [
              0.5555555555555556,
              "#d8576b"
             ],
             [
              0.6666666666666666,
              "#ed7953"
             ],
             [
              0.7777777777777778,
              "#fb9f3a"
             ],
             [
              0.8888888888888888,
              "#fdca26"
             ],
             [
              1,
              "#f0f921"
             ]
            ],
            "type": "histogram2d"
           }
          ],
          "histogram2dcontour": [
           {
            "colorbar": {
             "outlinewidth": 0,
             "ticks": ""
            },
            "colorscale": [
             [
              0,
              "#0d0887"
             ],
             [
              0.1111111111111111,
              "#46039f"
             ],
             [
              0.2222222222222222,
              "#7201a8"
             ],
             [
              0.3333333333333333,
              "#9c179e"
             ],
             [
              0.4444444444444444,
              "#bd3786"
             ],
             [
              0.5555555555555556,
              "#d8576b"
             ],
             [
              0.6666666666666666,
              "#ed7953"
             ],
             [
              0.7777777777777778,
              "#fb9f3a"
             ],
             [
              0.8888888888888888,
              "#fdca26"
             ],
             [
              1,
              "#f0f921"
             ]
            ],
            "type": "histogram2dcontour"
           }
          ],
          "mesh3d": [
           {
            "colorbar": {
             "outlinewidth": 0,
             "ticks": ""
            },
            "type": "mesh3d"
           }
          ],
          "parcoords": [
           {
            "line": {
             "colorbar": {
              "outlinewidth": 0,
              "ticks": ""
             }
            },
            "type": "parcoords"
           }
          ],
          "pie": [
           {
            "automargin": true,
            "type": "pie"
           }
          ],
          "scatter": [
           {
            "fillpattern": {
             "fillmode": "overlay",
             "size": 10,
             "solidity": 0.2
            },
            "type": "scatter"
           }
          ],
          "scatter3d": [
           {
            "line": {
             "colorbar": {
              "outlinewidth": 0,
              "ticks": ""
             }
            },
            "marker": {
             "colorbar": {
              "outlinewidth": 0,
              "ticks": ""
             }
            },
            "type": "scatter3d"
           }
          ],
          "scattercarpet": [
           {
            "marker": {
             "colorbar": {
              "outlinewidth": 0,
              "ticks": ""
             }
            },
            "type": "scattercarpet"
           }
          ],
          "scattergeo": [
           {
            "marker": {
             "colorbar": {
              "outlinewidth": 0,
              "ticks": ""
             }
            },
            "type": "scattergeo"
           }
          ],
          "scattergl": [
           {
            "marker": {
             "colorbar": {
              "outlinewidth": 0,
              "ticks": ""
             }
            },
            "type": "scattergl"
           }
          ],
          "scattermapbox": [
           {
            "marker": {
             "colorbar": {
              "outlinewidth": 0,
              "ticks": ""
             }
            },
            "type": "scattermapbox"
           }
          ],
          "scatterpolar": [
           {
            "marker": {
             "colorbar": {
              "outlinewidth": 0,
              "ticks": ""
             }
            },
            "type": "scatterpolar"
           }
          ],
          "scatterpolargl": [
           {
            "marker": {
             "colorbar": {
              "outlinewidth": 0,
              "ticks": ""
             }
            },
            "type": "scatterpolargl"
           }
          ],
          "scatterternary": [
           {
            "marker": {
             "colorbar": {
              "outlinewidth": 0,
              "ticks": ""
             }
            },
            "type": "scatterternary"
           }
          ],
          "surface": [
           {
            "colorbar": {
             "outlinewidth": 0,
             "ticks": ""
            },
            "colorscale": [
             [
              0,
              "#0d0887"
             ],
             [
              0.1111111111111111,
              "#46039f"
             ],
             [
              0.2222222222222222,
              "#7201a8"
             ],
             [
              0.3333333333333333,
              "#9c179e"
             ],
             [
              0.4444444444444444,
              "#bd3786"
             ],
             [
              0.5555555555555556,
              "#d8576b"
             ],
             [
              0.6666666666666666,
              "#ed7953"
             ],
             [
              0.7777777777777778,
              "#fb9f3a"
             ],
             [
              0.8888888888888888,
              "#fdca26"
             ],
             [
              1,
              "#f0f921"
             ]
            ],
            "type": "surface"
           }
          ],
          "table": [
           {
            "cells": {
             "fill": {
              "color": "#EBF0F8"
             },
             "line": {
              "color": "white"
             }
            },
            "header": {
             "fill": {
              "color": "#C8D4E3"
             },
             "line": {
              "color": "white"
             }
            },
            "type": "table"
           }
          ]
         },
         "layout": {
          "annotationdefaults": {
           "arrowcolor": "#2a3f5f",
           "arrowhead": 0,
           "arrowwidth": 1
          },
          "autotypenumbers": "strict",
          "coloraxis": {
           "colorbar": {
            "outlinewidth": 0,
            "ticks": ""
           }
          },
          "colorscale": {
           "diverging": [
            [
             0,
             "#8e0152"
            ],
            [
             0.1,
             "#c51b7d"
            ],
            [
             0.2,
             "#de77ae"
            ],
            [
             0.3,
             "#f1b6da"
            ],
            [
             0.4,
             "#fde0ef"
            ],
            [
             0.5,
             "#f7f7f7"
            ],
            [
             0.6,
             "#e6f5d0"
            ],
            [
             0.7,
             "#b8e186"
            ],
            [
             0.8,
             "#7fbc41"
            ],
            [
             0.9,
             "#4d9221"
            ],
            [
             1,
             "#276419"
            ]
           ],
           "sequential": [
            [
             0,
             "#0d0887"
            ],
            [
             0.1111111111111111,
             "#46039f"
            ],
            [
             0.2222222222222222,
             "#7201a8"
            ],
            [
             0.3333333333333333,
             "#9c179e"
            ],
            [
             0.4444444444444444,
             "#bd3786"
            ],
            [
             0.5555555555555556,
             "#d8576b"
            ],
            [
             0.6666666666666666,
             "#ed7953"
            ],
            [
             0.7777777777777778,
             "#fb9f3a"
            ],
            [
             0.8888888888888888,
             "#fdca26"
            ],
            [
             1,
             "#f0f921"
            ]
           ],
           "sequentialminus": [
            [
             0,
             "#0d0887"
            ],
            [
             0.1111111111111111,
             "#46039f"
            ],
            [
             0.2222222222222222,
             "#7201a8"
            ],
            [
             0.3333333333333333,
             "#9c179e"
            ],
            [
             0.4444444444444444,
             "#bd3786"
            ],
            [
             0.5555555555555556,
             "#d8576b"
            ],
            [
             0.6666666666666666,
             "#ed7953"
            ],
            [
             0.7777777777777778,
             "#fb9f3a"
            ],
            [
             0.8888888888888888,
             "#fdca26"
            ],
            [
             1,
             "#f0f921"
            ]
           ]
          },
          "colorway": [
           "#636efa",
           "#EF553B",
           "#00cc96",
           "#ab63fa",
           "#FFA15A",
           "#19d3f3",
           "#FF6692",
           "#B6E880",
           "#FF97FF",
           "#FECB52"
          ],
          "font": {
           "color": "#2a3f5f"
          },
          "geo": {
           "bgcolor": "white",
           "lakecolor": "white",
           "landcolor": "#E5ECF6",
           "showlakes": true,
           "showland": true,
           "subunitcolor": "white"
          },
          "hoverlabel": {
           "align": "left"
          },
          "hovermode": "closest",
          "mapbox": {
           "style": "light"
          },
          "paper_bgcolor": "white",
          "plot_bgcolor": "#E5ECF6",
          "polar": {
           "angularaxis": {
            "gridcolor": "white",
            "linecolor": "white",
            "ticks": ""
           },
           "bgcolor": "#E5ECF6",
           "radialaxis": {
            "gridcolor": "white",
            "linecolor": "white",
            "ticks": ""
           }
          },
          "scene": {
           "xaxis": {
            "backgroundcolor": "#E5ECF6",
            "gridcolor": "white",
            "gridwidth": 2,
            "linecolor": "white",
            "showbackground": true,
            "ticks": "",
            "zerolinecolor": "white"
           },
           "yaxis": {
            "backgroundcolor": "#E5ECF6",
            "gridcolor": "white",
            "gridwidth": 2,
            "linecolor": "white",
            "showbackground": true,
            "ticks": "",
            "zerolinecolor": "white"
           },
           "zaxis": {
            "backgroundcolor": "#E5ECF6",
            "gridcolor": "white",
            "gridwidth": 2,
            "linecolor": "white",
            "showbackground": true,
            "ticks": "",
            "zerolinecolor": "white"
           }
          },
          "shapedefaults": {
           "line": {
            "color": "#2a3f5f"
           }
          },
          "ternary": {
           "aaxis": {
            "gridcolor": "white",
            "linecolor": "white",
            "ticks": ""
           },
           "baxis": {
            "gridcolor": "white",
            "linecolor": "white",
            "ticks": ""
           },
           "bgcolor": "#E5ECF6",
           "caxis": {
            "gridcolor": "white",
            "linecolor": "white",
            "ticks": ""
           }
          },
          "title": {
           "x": 0.05
          },
          "xaxis": {
           "automargin": true,
           "gridcolor": "white",
           "linecolor": "white",
           "ticks": "",
           "title": {
            "standoff": 15
           },
           "zerolinecolor": "white",
           "zerolinewidth": 2
          },
          "yaxis": {
           "automargin": true,
           "gridcolor": "white",
           "linecolor": "white",
           "ticks": "",
           "title": {
            "standoff": 15
           },
           "zerolinecolor": "white",
           "zerolinewidth": 2
          }
         }
        }
       }
      },
      "text/html": [
       "<div>                            <div id=\"63a9c285-d45b-4e6d-9496-d5f68bc79681\" class=\"plotly-graph-div\" style=\"height:525px; width:100%;\"></div>            <script type=\"text/javascript\">                require([\"plotly\"], function(Plotly) {                    window.PLOTLYENV=window.PLOTLYENV || {};                                    if (document.getElementById(\"63a9c285-d45b-4e6d-9496-d5f68bc79681\")) {                    Plotly.newPlot(                        \"63a9c285-d45b-4e6d-9496-d5f68bc79681\",                        [{\"x\":[\"ESPORTSTMNT02 - 0\",\"ESPORTSTMNT02 - 1\",\"ESPORTSTMNT04 - 0\",\"ESPORTSTMNT04 - 1\"],\"y\":[3,2,3,1],\"type\":\"bar\"}],                        {\"template\":{\"data\":{\"histogram2dcontour\":[{\"type\":\"histogram2dcontour\",\"colorbar\":{\"outlinewidth\":0,\"ticks\":\"\"},\"colorscale\":[[0.0,\"#0d0887\"],[0.1111111111111111,\"#46039f\"],[0.2222222222222222,\"#7201a8\"],[0.3333333333333333,\"#9c179e\"],[0.4444444444444444,\"#bd3786\"],[0.5555555555555556,\"#d8576b\"],[0.6666666666666666,\"#ed7953\"],[0.7777777777777778,\"#fb9f3a\"],[0.8888888888888888,\"#fdca26\"],[1.0,\"#f0f921\"]]}],\"choropleth\":[{\"type\":\"choropleth\",\"colorbar\":{\"outlinewidth\":0,\"ticks\":\"\"}}],\"histogram2d\":[{\"type\":\"histogram2d\",\"colorbar\":{\"outlinewidth\":0,\"ticks\":\"\"},\"colorscale\":[[0.0,\"#0d0887\"],[0.1111111111111111,\"#46039f\"],[0.2222222222222222,\"#7201a8\"],[0.3333333333333333,\"#9c179e\"],[0.4444444444444444,\"#bd3786\"],[0.5555555555555556,\"#d8576b\"],[0.6666666666666666,\"#ed7953\"],[0.7777777777777778,\"#fb9f3a\"],[0.8888888888888888,\"#fdca26\"],[1.0,\"#f0f921\"]]}],\"heatmap\":[{\"type\":\"heatmap\",\"colorbar\":{\"outlinewidth\":0,\"ticks\":\"\"},\"colorscale\":[[0.0,\"#0d0887\"],[0.1111111111111111,\"#46039f\"],[0.2222222222222222,\"#7201a8\"],[0.3333333333333333,\"#9c179e\"],[0.4444444444444444,\"#bd3786\"],[0.5555555555555556,\"#d8576b\"],[0.6666666666666666,\"#ed7953\"],[0.7777777777777778,\"#fb9f3a\"],[0.8888888888888888,\"#fdca26\"],[1.0,\"#f0f921\"]]}],\"heatmapgl\":[{\"type\":\"heatmapgl\",\"colorbar\":{\"outlinewidth\":0,\"ticks\":\"\"},\"colorscale\":[[0.0,\"#0d0887\"],[0.1111111111111111,\"#46039f\"],[0.2222222222222222,\"#7201a8\"],[0.3333333333333333,\"#9c179e\"],[0.4444444444444444,\"#bd3786\"],[0.5555555555555556,\"#d8576b\"],[0.6666666666666666,\"#ed7953\"],[0.7777777777777778,\"#fb9f3a\"],[0.8888888888888888,\"#fdca26\"],[1.0,\"#f0f921\"]]}],\"contourcarpet\":[{\"type\":\"contourcarpet\",\"colorbar\":{\"outlinewidth\":0,\"ticks\":\"\"}}],\"contour\":[{\"type\":\"contour\",\"colorbar\":{\"outlinewidth\":0,\"ticks\":\"\"},\"colorscale\":[[0.0,\"#0d0887\"],[0.1111111111111111,\"#46039f\"],[0.2222222222222222,\"#7201a8\"],[0.3333333333333333,\"#9c179e\"],[0.4444444444444444,\"#bd3786\"],[0.5555555555555556,\"#d8576b\"],[0.6666666666666666,\"#ed7953\"],[0.7777777777777778,\"#fb9f3a\"],[0.8888888888888888,\"#fdca26\"],[1.0,\"#f0f921\"]]}],\"surface\":[{\"type\":\"surface\",\"colorbar\":{\"outlinewidth\":0,\"ticks\":\"\"},\"colorscale\":[[0.0,\"#0d0887\"],[0.1111111111111111,\"#46039f\"],[0.2222222222222222,\"#7201a8\"],[0.3333333333333333,\"#9c179e\"],[0.4444444444444444,\"#bd3786\"],[0.5555555555555556,\"#d8576b\"],[0.6666666666666666,\"#ed7953\"],[0.7777777777777778,\"#fb9f3a\"],[0.8888888888888888,\"#fdca26\"],[1.0,\"#f0f921\"]]}],\"mesh3d\":[{\"type\":\"mesh3d\",\"colorbar\":{\"outlinewidth\":0,\"ticks\":\"\"}}],\"scatter\":[{\"fillpattern\":{\"fillmode\":\"overlay\",\"size\":10,\"solidity\":0.2},\"type\":\"scatter\"}],\"parcoords\":[{\"type\":\"parcoords\",\"line\":{\"colorbar\":{\"outlinewidth\":0,\"ticks\":\"\"}}}],\"scatterpolargl\":[{\"type\":\"scatterpolargl\",\"marker\":{\"colorbar\":{\"outlinewidth\":0,\"ticks\":\"\"}}}],\"bar\":[{\"error_x\":{\"color\":\"#2a3f5f\"},\"error_y\":{\"color\":\"#2a3f5f\"},\"marker\":{\"line\":{\"color\":\"#E5ECF6\",\"width\":0.5},\"pattern\":{\"fillmode\":\"overlay\",\"size\":10,\"solidity\":0.2}},\"type\":\"bar\"}],\"scattergeo\":[{\"type\":\"scattergeo\",\"marker\":{\"colorbar\":{\"outlinewidth\":0,\"ticks\":\"\"}}}],\"scatterpolar\":[{\"type\":\"scatterpolar\",\"marker\":{\"colorbar\":{\"outlinewidth\":0,\"ticks\":\"\"}}}],\"histogram\":[{\"marker\":{\"pattern\":{\"fillmode\":\"overlay\",\"size\":10,\"solidity\":0.2}},\"type\":\"histogram\"}],\"scattergl\":[{\"type\":\"scattergl\",\"marker\":{\"colorbar\":{\"outlinewidth\":0,\"ticks\":\"\"}}}],\"scatter3d\":[{\"type\":\"scatter3d\",\"line\":{\"colorbar\":{\"outlinewidth\":0,\"ticks\":\"\"}},\"marker\":{\"colorbar\":{\"outlinewidth\":0,\"ticks\":\"\"}}}],\"scattermapbox\":[{\"type\":\"scattermapbox\",\"marker\":{\"colorbar\":{\"outlinewidth\":0,\"ticks\":\"\"}}}],\"scatterternary\":[{\"type\":\"scatterternary\",\"marker\":{\"colorbar\":{\"outlinewidth\":0,\"ticks\":\"\"}}}],\"scattercarpet\":[{\"type\":\"scattercarpet\",\"marker\":{\"colorbar\":{\"outlinewidth\":0,\"ticks\":\"\"}}}],\"carpet\":[{\"aaxis\":{\"endlinecolor\":\"#2a3f5f\",\"gridcolor\":\"white\",\"linecolor\":\"white\",\"minorgridcolor\":\"white\",\"startlinecolor\":\"#2a3f5f\"},\"baxis\":{\"endlinecolor\":\"#2a3f5f\",\"gridcolor\":\"white\",\"linecolor\":\"white\",\"minorgridcolor\":\"white\",\"startlinecolor\":\"#2a3f5f\"},\"type\":\"carpet\"}],\"table\":[{\"cells\":{\"fill\":{\"color\":\"#EBF0F8\"},\"line\":{\"color\":\"white\"}},\"header\":{\"fill\":{\"color\":\"#C8D4E3\"},\"line\":{\"color\":\"white\"}},\"type\":\"table\"}],\"barpolar\":[{\"marker\":{\"line\":{\"color\":\"#E5ECF6\",\"width\":0.5},\"pattern\":{\"fillmode\":\"overlay\",\"size\":10,\"solidity\":0.2}},\"type\":\"barpolar\"}],\"pie\":[{\"automargin\":true,\"type\":\"pie\"}]},\"layout\":{\"autotypenumbers\":\"strict\",\"colorway\":[\"#636efa\",\"#EF553B\",\"#00cc96\",\"#ab63fa\",\"#FFA15A\",\"#19d3f3\",\"#FF6692\",\"#B6E880\",\"#FF97FF\",\"#FECB52\"],\"font\":{\"color\":\"#2a3f5f\"},\"hovermode\":\"closest\",\"hoverlabel\":{\"align\":\"left\"},\"paper_bgcolor\":\"white\",\"plot_bgcolor\":\"#E5ECF6\",\"polar\":{\"bgcolor\":\"#E5ECF6\",\"angularaxis\":{\"gridcolor\":\"white\",\"linecolor\":\"white\",\"ticks\":\"\"},\"radialaxis\":{\"gridcolor\":\"white\",\"linecolor\":\"white\",\"ticks\":\"\"}},\"ternary\":{\"bgcolor\":\"#E5ECF6\",\"aaxis\":{\"gridcolor\":\"white\",\"linecolor\":\"white\",\"ticks\":\"\"},\"baxis\":{\"gridcolor\":\"white\",\"linecolor\":\"white\",\"ticks\":\"\"},\"caxis\":{\"gridcolor\":\"white\",\"linecolor\":\"white\",\"ticks\":\"\"}},\"coloraxis\":{\"colorbar\":{\"outlinewidth\":0,\"ticks\":\"\"}},\"colorscale\":{\"sequential\":[[0.0,\"#0d0887\"],[0.1111111111111111,\"#46039f\"],[0.2222222222222222,\"#7201a8\"],[0.3333333333333333,\"#9c179e\"],[0.4444444444444444,\"#bd3786\"],[0.5555555555555556,\"#d8576b\"],[0.6666666666666666,\"#ed7953\"],[0.7777777777777778,\"#fb9f3a\"],[0.8888888888888888,\"#fdca26\"],[1.0,\"#f0f921\"]],\"sequentialminus\":[[0.0,\"#0d0887\"],[0.1111111111111111,\"#46039f\"],[0.2222222222222222,\"#7201a8\"],[0.3333333333333333,\"#9c179e\"],[0.4444444444444444,\"#bd3786\"],[0.5555555555555556,\"#d8576b\"],[0.6666666666666666,\"#ed7953\"],[0.7777777777777778,\"#fb9f3a\"],[0.8888888888888888,\"#fdca26\"],[1.0,\"#f0f921\"]],\"diverging\":[[0,\"#8e0152\"],[0.1,\"#c51b7d\"],[0.2,\"#de77ae\"],[0.3,\"#f1b6da\"],[0.4,\"#fde0ef\"],[0.5,\"#f7f7f7\"],[0.6,\"#e6f5d0\"],[0.7,\"#b8e186\"],[0.8,\"#7fbc41\"],[0.9,\"#4d9221\"],[1,\"#276419\"]]},\"xaxis\":{\"gridcolor\":\"white\",\"linecolor\":\"white\",\"ticks\":\"\",\"title\":{\"standoff\":15},\"zerolinecolor\":\"white\",\"automargin\":true,\"zerolinewidth\":2},\"yaxis\":{\"gridcolor\":\"white\",\"linecolor\":\"white\",\"ticks\":\"\",\"title\":{\"standoff\":15},\"zerolinecolor\":\"white\",\"automargin\":true,\"zerolinewidth\":2},\"scene\":{\"xaxis\":{\"backgroundcolor\":\"#E5ECF6\",\"gridcolor\":\"white\",\"linecolor\":\"white\",\"showbackground\":true,\"ticks\":\"\",\"zerolinecolor\":\"white\",\"gridwidth\":2},\"yaxis\":{\"backgroundcolor\":\"#E5ECF6\",\"gridcolor\":\"white\",\"linecolor\":\"white\",\"showbackground\":true,\"ticks\":\"\",\"zerolinecolor\":\"white\",\"gridwidth\":2},\"zaxis\":{\"backgroundcolor\":\"#E5ECF6\",\"gridcolor\":\"white\",\"linecolor\":\"white\",\"showbackground\":true,\"ticks\":\"\",\"zerolinecolor\":\"white\",\"gridwidth\":2}},\"shapedefaults\":{\"line\":{\"color\":\"#2a3f5f\"}},\"annotationdefaults\":{\"arrowcolor\":\"#2a3f5f\",\"arrowhead\":0,\"arrowwidth\":1},\"geo\":{\"bgcolor\":\"white\",\"landcolor\":\"#E5ECF6\",\"subunitcolor\":\"white\",\"showland\":true,\"showlakes\":true,\"lakecolor\":\"white\"},\"title\":{\"x\":0.05},\"mapbox\":{\"style\":\"light\"}}}},                        {\"responsive\": true}                    ).then(function(){\n",
       "                            \n",
       "var gd = document.getElementById('63a9c285-d45b-4e6d-9496-d5f68bc79681');\n",
       "var x = new MutationObserver(function (mutations, observer) {{\n",
       "        var display = window.getComputedStyle(gd).display;\n",
       "        if (!display || display === 'none') {{\n",
       "            console.log([gd, 'removed!']);\n",
       "            Plotly.purge(gd);\n",
       "            observer.disconnect();\n",
       "        }}\n",
       "}});\n",
       "\n",
       "// Listen for the removal of the full notebook cells\n",
       "var notebookContainer = gd.closest('#notebook-container');\n",
       "if (notebookContainer) {{\n",
       "    x.observe(notebookContainer, {childList: true});\n",
       "}}\n",
       "\n",
       "// Listen for the clearing of the current output cell\n",
       "var outputEl = gd.closest('.output');\n",
       "if (outputEl) {{\n",
       "    x.observe(outputEl, {childList: true});\n",
       "}}\n",
       "\n",
       "                        })                };                });            </script>        </div>"
      ]
     },
     "metadata": {},
     "output_type": "display_data"
    }
   ],
   "source": [
    "import plotly.graph_objects as go\n",
    "\n",
    "# 그룹화하여 각 그룹의 'group_value'와 'result' 값 개수를 계산합니다\n",
    "lck_drx_po_win_gb = lck_drx_po_win.groupby(['group_value', 'result']).size().reset_index(name='count')\n",
    "lck_drx_po_win_gb['result'] = lck_drx_po_win_gb['result'].astype('str')\n",
    "\n",
    "# 바 차트 생성\n",
    "fig = go.Figure()\n",
    "fig.add_trace(go.Bar(x=lck_drx_po_win_gb['group_value'] + ' - ' + lck_drx_po_win_gb['result'],\n",
    "                     y=lck_drx_po_win_gb['count']))\n",
    "\n",
    "# 그래프 출력\n",
    "fig.show()"
   ]
  },
  {
   "cell_type": "code",
   "execution_count": 189,
   "metadata": {},
   "outputs": [
    {
     "data": {
      "text/plain": [
       "0    0\n",
       "1    1\n",
       "2    0\n",
       "3    1\n",
       "Name: result, dtype: int64"
      ]
     },
     "execution_count": 189,
     "metadata": {},
     "output_type": "execute_result"
    }
   ],
   "source": [
    "lck_drx_po_win_gb['result'].astype('str')\n",
    "# import chart_studio.plotly as py\n",
    "# import cufflinks as cf\n",
    "# cf.go_offline(connected=True)\n",
    "# import plotly.graph_objects as go\n",
    "\n",
    "# lck_drx_po_win_gb = lck_drx_po_win.groupby(['group_value','result']).count()\n",
    "\n",
    "# fig = go.Figure()\n",
    "# fig.add_trace(\n",
    "#     go.Bar(\n",
    "#         x=lck_drx_po_win_gb.index, \n",
    "#         y=lck_drx_po_win_gb.values\n",
    "#     )\n",
    "# )\n",
    "# fig.show()"
   ]
  },
  {
   "cell_type": "code",
   "execution_count": 186,
   "metadata": {},
   "outputs": [
    {
     "data": {
      "application/vnd.plotly.v1+json": {
       "config": {
        "plotlyServerURL": "https://plot.ly"
       },
       "data": [
        {
         "text": [
          [
           3
          ],
          [
           2
          ],
          [
           3
          ],
          [
           1
          ]
         ],
         "textposition": "auto",
         "texttemplate": "R$ %{text:.0f}",
         "type": "bar",
         "x": [
          [
           "ESPORTSTMNT02",
           0
          ],
          [
           "ESPORTSTMNT02",
           1
          ],
          [
           "ESPORTSTMNT04",
           0
          ],
          [
           "ESPORTSTMNT04",
           1
          ]
         ],
         "y": [
          [
           3
          ],
          [
           2
          ],
          [
           3
          ],
          [
           1
          ]
         ]
        }
       ],
       "layout": {
        "template": {
         "data": {
          "bar": [
           {
            "error_x": {
             "color": "#2a3f5f"
            },
            "error_y": {
             "color": "#2a3f5f"
            },
            "marker": {
             "line": {
              "color": "#E5ECF6",
              "width": 0.5
             },
             "pattern": {
              "fillmode": "overlay",
              "size": 10,
              "solidity": 0.2
             }
            },
            "type": "bar"
           }
          ],
          "barpolar": [
           {
            "marker": {
             "line": {
              "color": "#E5ECF6",
              "width": 0.5
             },
             "pattern": {
              "fillmode": "overlay",
              "size": 10,
              "solidity": 0.2
             }
            },
            "type": "barpolar"
           }
          ],
          "carpet": [
           {
            "aaxis": {
             "endlinecolor": "#2a3f5f",
             "gridcolor": "white",
             "linecolor": "white",
             "minorgridcolor": "white",
             "startlinecolor": "#2a3f5f"
            },
            "baxis": {
             "endlinecolor": "#2a3f5f",
             "gridcolor": "white",
             "linecolor": "white",
             "minorgridcolor": "white",
             "startlinecolor": "#2a3f5f"
            },
            "type": "carpet"
           }
          ],
          "choropleth": [
           {
            "colorbar": {
             "outlinewidth": 0,
             "ticks": ""
            },
            "type": "choropleth"
           }
          ],
          "contour": [
           {
            "colorbar": {
             "outlinewidth": 0,
             "ticks": ""
            },
            "colorscale": [
             [
              0,
              "#0d0887"
             ],
             [
              0.1111111111111111,
              "#46039f"
             ],
             [
              0.2222222222222222,
              "#7201a8"
             ],
             [
              0.3333333333333333,
              "#9c179e"
             ],
             [
              0.4444444444444444,
              "#bd3786"
             ],
             [
              0.5555555555555556,
              "#d8576b"
             ],
             [
              0.6666666666666666,
              "#ed7953"
             ],
             [
              0.7777777777777778,
              "#fb9f3a"
             ],
             [
              0.8888888888888888,
              "#fdca26"
             ],
             [
              1,
              "#f0f921"
             ]
            ],
            "type": "contour"
           }
          ],
          "contourcarpet": [
           {
            "colorbar": {
             "outlinewidth": 0,
             "ticks": ""
            },
            "type": "contourcarpet"
           }
          ],
          "heatmap": [
           {
            "colorbar": {
             "outlinewidth": 0,
             "ticks": ""
            },
            "colorscale": [
             [
              0,
              "#0d0887"
             ],
             [
              0.1111111111111111,
              "#46039f"
             ],
             [
              0.2222222222222222,
              "#7201a8"
             ],
             [
              0.3333333333333333,
              "#9c179e"
             ],
             [
              0.4444444444444444,
              "#bd3786"
             ],
             [
              0.5555555555555556,
              "#d8576b"
             ],
             [
              0.6666666666666666,
              "#ed7953"
             ],
             [
              0.7777777777777778,
              "#fb9f3a"
             ],
             [
              0.8888888888888888,
              "#fdca26"
             ],
             [
              1,
              "#f0f921"
             ]
            ],
            "type": "heatmap"
           }
          ],
          "heatmapgl": [
           {
            "colorbar": {
             "outlinewidth": 0,
             "ticks": ""
            },
            "colorscale": [
             [
              0,
              "#0d0887"
             ],
             [
              0.1111111111111111,
              "#46039f"
             ],
             [
              0.2222222222222222,
              "#7201a8"
             ],
             [
              0.3333333333333333,
              "#9c179e"
             ],
             [
              0.4444444444444444,
              "#bd3786"
             ],
             [
              0.5555555555555556,
              "#d8576b"
             ],
             [
              0.6666666666666666,
              "#ed7953"
             ],
             [
              0.7777777777777778,
              "#fb9f3a"
             ],
             [
              0.8888888888888888,
              "#fdca26"
             ],
             [
              1,
              "#f0f921"
             ]
            ],
            "type": "heatmapgl"
           }
          ],
          "histogram": [
           {
            "marker": {
             "pattern": {
              "fillmode": "overlay",
              "size": 10,
              "solidity": 0.2
             }
            },
            "type": "histogram"
           }
          ],
          "histogram2d": [
           {
            "colorbar": {
             "outlinewidth": 0,
             "ticks": ""
            },
            "colorscale": [
             [
              0,
              "#0d0887"
             ],
             [
              0.1111111111111111,
              "#46039f"
             ],
             [
              0.2222222222222222,
              "#7201a8"
             ],
             [
              0.3333333333333333,
              "#9c179e"
             ],
             [
              0.4444444444444444,
              "#bd3786"
             ],
             [
              0.5555555555555556,
              "#d8576b"
             ],
             [
              0.6666666666666666,
              "#ed7953"
             ],
             [
              0.7777777777777778,
              "#fb9f3a"
             ],
             [
              0.8888888888888888,
              "#fdca26"
             ],
             [
              1,
              "#f0f921"
             ]
            ],
            "type": "histogram2d"
           }
          ],
          "histogram2dcontour": [
           {
            "colorbar": {
             "outlinewidth": 0,
             "ticks": ""
            },
            "colorscale": [
             [
              0,
              "#0d0887"
             ],
             [
              0.1111111111111111,
              "#46039f"
             ],
             [
              0.2222222222222222,
              "#7201a8"
             ],
             [
              0.3333333333333333,
              "#9c179e"
             ],
             [
              0.4444444444444444,
              "#bd3786"
             ],
             [
              0.5555555555555556,
              "#d8576b"
             ],
             [
              0.6666666666666666,
              "#ed7953"
             ],
             [
              0.7777777777777778,
              "#fb9f3a"
             ],
             [
              0.8888888888888888,
              "#fdca26"
             ],
             [
              1,
              "#f0f921"
             ]
            ],
            "type": "histogram2dcontour"
           }
          ],
          "mesh3d": [
           {
            "colorbar": {
             "outlinewidth": 0,
             "ticks": ""
            },
            "type": "mesh3d"
           }
          ],
          "parcoords": [
           {
            "line": {
             "colorbar": {
              "outlinewidth": 0,
              "ticks": ""
             }
            },
            "type": "parcoords"
           }
          ],
          "pie": [
           {
            "automargin": true,
            "type": "pie"
           }
          ],
          "scatter": [
           {
            "fillpattern": {
             "fillmode": "overlay",
             "size": 10,
             "solidity": 0.2
            },
            "type": "scatter"
           }
          ],
          "scatter3d": [
           {
            "line": {
             "colorbar": {
              "outlinewidth": 0,
              "ticks": ""
             }
            },
            "marker": {
             "colorbar": {
              "outlinewidth": 0,
              "ticks": ""
             }
            },
            "type": "scatter3d"
           }
          ],
          "scattercarpet": [
           {
            "marker": {
             "colorbar": {
              "outlinewidth": 0,
              "ticks": ""
             }
            },
            "type": "scattercarpet"
           }
          ],
          "scattergeo": [
           {
            "marker": {
             "colorbar": {
              "outlinewidth": 0,
              "ticks": ""
             }
            },
            "type": "scattergeo"
           }
          ],
          "scattergl": [
           {
            "marker": {
             "colorbar": {
              "outlinewidth": 0,
              "ticks": ""
             }
            },
            "type": "scattergl"
           }
          ],
          "scattermapbox": [
           {
            "marker": {
             "colorbar": {
              "outlinewidth": 0,
              "ticks": ""
             }
            },
            "type": "scattermapbox"
           }
          ],
          "scatterpolar": [
           {
            "marker": {
             "colorbar": {
              "outlinewidth": 0,
              "ticks": ""
             }
            },
            "type": "scatterpolar"
           }
          ],
          "scatterpolargl": [
           {
            "marker": {
             "colorbar": {
              "outlinewidth": 0,
              "ticks": ""
             }
            },
            "type": "scatterpolargl"
           }
          ],
          "scatterternary": [
           {
            "marker": {
             "colorbar": {
              "outlinewidth": 0,
              "ticks": ""
             }
            },
            "type": "scatterternary"
           }
          ],
          "surface": [
           {
            "colorbar": {
             "outlinewidth": 0,
             "ticks": ""
            },
            "colorscale": [
             [
              0,
              "#0d0887"
             ],
             [
              0.1111111111111111,
              "#46039f"
             ],
             [
              0.2222222222222222,
              "#7201a8"
             ],
             [
              0.3333333333333333,
              "#9c179e"
             ],
             [
              0.4444444444444444,
              "#bd3786"
             ],
             [
              0.5555555555555556,
              "#d8576b"
             ],
             [
              0.6666666666666666,
              "#ed7953"
             ],
             [
              0.7777777777777778,
              "#fb9f3a"
             ],
             [
              0.8888888888888888,
              "#fdca26"
             ],
             [
              1,
              "#f0f921"
             ]
            ],
            "type": "surface"
           }
          ],
          "table": [
           {
            "cells": {
             "fill": {
              "color": "#EBF0F8"
             },
             "line": {
              "color": "white"
             }
            },
            "header": {
             "fill": {
              "color": "#C8D4E3"
             },
             "line": {
              "color": "white"
             }
            },
            "type": "table"
           }
          ]
         },
         "layout": {
          "annotationdefaults": {
           "arrowcolor": "#2a3f5f",
           "arrowhead": 0,
           "arrowwidth": 1
          },
          "autotypenumbers": "strict",
          "coloraxis": {
           "colorbar": {
            "outlinewidth": 0,
            "ticks": ""
           }
          },
          "colorscale": {
           "diverging": [
            [
             0,
             "#8e0152"
            ],
            [
             0.1,
             "#c51b7d"
            ],
            [
             0.2,
             "#de77ae"
            ],
            [
             0.3,
             "#f1b6da"
            ],
            [
             0.4,
             "#fde0ef"
            ],
            [
             0.5,
             "#f7f7f7"
            ],
            [
             0.6,
             "#e6f5d0"
            ],
            [
             0.7,
             "#b8e186"
            ],
            [
             0.8,
             "#7fbc41"
            ],
            [
             0.9,
             "#4d9221"
            ],
            [
             1,
             "#276419"
            ]
           ],
           "sequential": [
            [
             0,
             "#0d0887"
            ],
            [
             0.1111111111111111,
             "#46039f"
            ],
            [
             0.2222222222222222,
             "#7201a8"
            ],
            [
             0.3333333333333333,
             "#9c179e"
            ],
            [
             0.4444444444444444,
             "#bd3786"
            ],
            [
             0.5555555555555556,
             "#d8576b"
            ],
            [
             0.6666666666666666,
             "#ed7953"
            ],
            [
             0.7777777777777778,
             "#fb9f3a"
            ],
            [
             0.8888888888888888,
             "#fdca26"
            ],
            [
             1,
             "#f0f921"
            ]
           ],
           "sequentialminus": [
            [
             0,
             "#0d0887"
            ],
            [
             0.1111111111111111,
             "#46039f"
            ],
            [
             0.2222222222222222,
             "#7201a8"
            ],
            [
             0.3333333333333333,
             "#9c179e"
            ],
            [
             0.4444444444444444,
             "#bd3786"
            ],
            [
             0.5555555555555556,
             "#d8576b"
            ],
            [
             0.6666666666666666,
             "#ed7953"
            ],
            [
             0.7777777777777778,
             "#fb9f3a"
            ],
            [
             0.8888888888888888,
             "#fdca26"
            ],
            [
             1,
             "#f0f921"
            ]
           ]
          },
          "colorway": [
           "#636efa",
           "#EF553B",
           "#00cc96",
           "#ab63fa",
           "#FFA15A",
           "#19d3f3",
           "#FF6692",
           "#B6E880",
           "#FF97FF",
           "#FECB52"
          ],
          "font": {
           "color": "#2a3f5f"
          },
          "geo": {
           "bgcolor": "white",
           "lakecolor": "white",
           "landcolor": "#E5ECF6",
           "showlakes": true,
           "showland": true,
           "subunitcolor": "white"
          },
          "hoverlabel": {
           "align": "left"
          },
          "hovermode": "closest",
          "mapbox": {
           "style": "light"
          },
          "paper_bgcolor": "white",
          "plot_bgcolor": "#E5ECF6",
          "polar": {
           "angularaxis": {
            "gridcolor": "white",
            "linecolor": "white",
            "ticks": ""
           },
           "bgcolor": "#E5ECF6",
           "radialaxis": {
            "gridcolor": "white",
            "linecolor": "white",
            "ticks": ""
           }
          },
          "scene": {
           "xaxis": {
            "backgroundcolor": "#E5ECF6",
            "gridcolor": "white",
            "gridwidth": 2,
            "linecolor": "white",
            "showbackground": true,
            "ticks": "",
            "zerolinecolor": "white"
           },
           "yaxis": {
            "backgroundcolor": "#E5ECF6",
            "gridcolor": "white",
            "gridwidth": 2,
            "linecolor": "white",
            "showbackground": true,
            "ticks": "",
            "zerolinecolor": "white"
           },
           "zaxis": {
            "backgroundcolor": "#E5ECF6",
            "gridcolor": "white",
            "gridwidth": 2,
            "linecolor": "white",
            "showbackground": true,
            "ticks": "",
            "zerolinecolor": "white"
           }
          },
          "shapedefaults": {
           "line": {
            "color": "#2a3f5f"
           }
          },
          "ternary": {
           "aaxis": {
            "gridcolor": "white",
            "linecolor": "white",
            "ticks": ""
           },
           "baxis": {
            "gridcolor": "white",
            "linecolor": "white",
            "ticks": ""
           },
           "bgcolor": "#E5ECF6",
           "caxis": {
            "gridcolor": "white",
            "linecolor": "white",
            "ticks": ""
           }
          },
          "title": {
           "x": 0.05
          },
          "xaxis": {
           "automargin": true,
           "gridcolor": "white",
           "linecolor": "white",
           "ticks": "",
           "title": {
            "standoff": 15
           },
           "zerolinecolor": "white",
           "zerolinewidth": 2
          },
          "yaxis": {
           "automargin": true,
           "gridcolor": "white",
           "linecolor": "white",
           "ticks": "",
           "title": {
            "standoff": 15
           },
           "zerolinecolor": "white",
           "zerolinewidth": 2
          }
         }
        },
        "title": {
         "font": {
          "size": 15
         },
         "text": "<b>Turnover per Month in Brazilian Olist E-Commerce company</b>",
         "x": 0.5,
         "y": 0.9
        },
        "xaxis": {
         "dtick": "M1",
         "showticklabels": true,
         "tickfont": {
          "size": 7
         },
         "title": {
          "text": "from Oct. 2016 to Sep. 2018"
         }
        },
        "yaxis": {
         "title": {
          "text": "Turnover per Month"
         }
        }
       }
      },
      "text/html": [
       "<div>                            <div id=\"48ad4701-6c7d-46a2-bc54-eee3aed0d65a\" class=\"plotly-graph-div\" style=\"height:525px; width:100%;\"></div>            <script type=\"text/javascript\">                require([\"plotly\"], function(Plotly) {                    window.PLOTLYENV=window.PLOTLYENV || {};                                    if (document.getElementById(\"48ad4701-6c7d-46a2-bc54-eee3aed0d65a\")) {                    Plotly.newPlot(                        \"48ad4701-6c7d-46a2-bc54-eee3aed0d65a\",                        [{\"text\":[[3.0],[2.0],[3.0],[1.0]],\"textposition\":\"auto\",\"texttemplate\":\"R$ %{text:.0f}\",\"x\":[[\"ESPORTSTMNT02\",0],[\"ESPORTSTMNT02\",1],[\"ESPORTSTMNT04\",0],[\"ESPORTSTMNT04\",1]],\"y\":[[3],[2],[3],[1]],\"type\":\"bar\"}],                        {\"template\":{\"data\":{\"histogram2dcontour\":[{\"type\":\"histogram2dcontour\",\"colorbar\":{\"outlinewidth\":0,\"ticks\":\"\"},\"colorscale\":[[0.0,\"#0d0887\"],[0.1111111111111111,\"#46039f\"],[0.2222222222222222,\"#7201a8\"],[0.3333333333333333,\"#9c179e\"],[0.4444444444444444,\"#bd3786\"],[0.5555555555555556,\"#d8576b\"],[0.6666666666666666,\"#ed7953\"],[0.7777777777777778,\"#fb9f3a\"],[0.8888888888888888,\"#fdca26\"],[1.0,\"#f0f921\"]]}],\"choropleth\":[{\"type\":\"choropleth\",\"colorbar\":{\"outlinewidth\":0,\"ticks\":\"\"}}],\"histogram2d\":[{\"type\":\"histogram2d\",\"colorbar\":{\"outlinewidth\":0,\"ticks\":\"\"},\"colorscale\":[[0.0,\"#0d0887\"],[0.1111111111111111,\"#46039f\"],[0.2222222222222222,\"#7201a8\"],[0.3333333333333333,\"#9c179e\"],[0.4444444444444444,\"#bd3786\"],[0.5555555555555556,\"#d8576b\"],[0.6666666666666666,\"#ed7953\"],[0.7777777777777778,\"#fb9f3a\"],[0.8888888888888888,\"#fdca26\"],[1.0,\"#f0f921\"]]}],\"heatmap\":[{\"type\":\"heatmap\",\"colorbar\":{\"outlinewidth\":0,\"ticks\":\"\"},\"colorscale\":[[0.0,\"#0d0887\"],[0.1111111111111111,\"#46039f\"],[0.2222222222222222,\"#7201a8\"],[0.3333333333333333,\"#9c179e\"],[0.4444444444444444,\"#bd3786\"],[0.5555555555555556,\"#d8576b\"],[0.6666666666666666,\"#ed7953\"],[0.7777777777777778,\"#fb9f3a\"],[0.8888888888888888,\"#fdca26\"],[1.0,\"#f0f921\"]]}],\"heatmapgl\":[{\"type\":\"heatmapgl\",\"colorbar\":{\"outlinewidth\":0,\"ticks\":\"\"},\"colorscale\":[[0.0,\"#0d0887\"],[0.1111111111111111,\"#46039f\"],[0.2222222222222222,\"#7201a8\"],[0.3333333333333333,\"#9c179e\"],[0.4444444444444444,\"#bd3786\"],[0.5555555555555556,\"#d8576b\"],[0.6666666666666666,\"#ed7953\"],[0.7777777777777778,\"#fb9f3a\"],[0.8888888888888888,\"#fdca26\"],[1.0,\"#f0f921\"]]}],\"contourcarpet\":[{\"type\":\"contourcarpet\",\"colorbar\":{\"outlinewidth\":0,\"ticks\":\"\"}}],\"contour\":[{\"type\":\"contour\",\"colorbar\":{\"outlinewidth\":0,\"ticks\":\"\"},\"colorscale\":[[0.0,\"#0d0887\"],[0.1111111111111111,\"#46039f\"],[0.2222222222222222,\"#7201a8\"],[0.3333333333333333,\"#9c179e\"],[0.4444444444444444,\"#bd3786\"],[0.5555555555555556,\"#d8576b\"],[0.6666666666666666,\"#ed7953\"],[0.7777777777777778,\"#fb9f3a\"],[0.8888888888888888,\"#fdca26\"],[1.0,\"#f0f921\"]]}],\"surface\":[{\"type\":\"surface\",\"colorbar\":{\"outlinewidth\":0,\"ticks\":\"\"},\"colorscale\":[[0.0,\"#0d0887\"],[0.1111111111111111,\"#46039f\"],[0.2222222222222222,\"#7201a8\"],[0.3333333333333333,\"#9c179e\"],[0.4444444444444444,\"#bd3786\"],[0.5555555555555556,\"#d8576b\"],[0.6666666666666666,\"#ed7953\"],[0.7777777777777778,\"#fb9f3a\"],[0.8888888888888888,\"#fdca26\"],[1.0,\"#f0f921\"]]}],\"mesh3d\":[{\"type\":\"mesh3d\",\"colorbar\":{\"outlinewidth\":0,\"ticks\":\"\"}}],\"scatter\":[{\"fillpattern\":{\"fillmode\":\"overlay\",\"size\":10,\"solidity\":0.2},\"type\":\"scatter\"}],\"parcoords\":[{\"type\":\"parcoords\",\"line\":{\"colorbar\":{\"outlinewidth\":0,\"ticks\":\"\"}}}],\"scatterpolargl\":[{\"type\":\"scatterpolargl\",\"marker\":{\"colorbar\":{\"outlinewidth\":0,\"ticks\":\"\"}}}],\"bar\":[{\"error_x\":{\"color\":\"#2a3f5f\"},\"error_y\":{\"color\":\"#2a3f5f\"},\"marker\":{\"line\":{\"color\":\"#E5ECF6\",\"width\":0.5},\"pattern\":{\"fillmode\":\"overlay\",\"size\":10,\"solidity\":0.2}},\"type\":\"bar\"}],\"scattergeo\":[{\"type\":\"scattergeo\",\"marker\":{\"colorbar\":{\"outlinewidth\":0,\"ticks\":\"\"}}}],\"scatterpolar\":[{\"type\":\"scatterpolar\",\"marker\":{\"colorbar\":{\"outlinewidth\":0,\"ticks\":\"\"}}}],\"histogram\":[{\"marker\":{\"pattern\":{\"fillmode\":\"overlay\",\"size\":10,\"solidity\":0.2}},\"type\":\"histogram\"}],\"scattergl\":[{\"type\":\"scattergl\",\"marker\":{\"colorbar\":{\"outlinewidth\":0,\"ticks\":\"\"}}}],\"scatter3d\":[{\"type\":\"scatter3d\",\"line\":{\"colorbar\":{\"outlinewidth\":0,\"ticks\":\"\"}},\"marker\":{\"colorbar\":{\"outlinewidth\":0,\"ticks\":\"\"}}}],\"scattermapbox\":[{\"type\":\"scattermapbox\",\"marker\":{\"colorbar\":{\"outlinewidth\":0,\"ticks\":\"\"}}}],\"scatterternary\":[{\"type\":\"scatterternary\",\"marker\":{\"colorbar\":{\"outlinewidth\":0,\"ticks\":\"\"}}}],\"scattercarpet\":[{\"type\":\"scattercarpet\",\"marker\":{\"colorbar\":{\"outlinewidth\":0,\"ticks\":\"\"}}}],\"carpet\":[{\"aaxis\":{\"endlinecolor\":\"#2a3f5f\",\"gridcolor\":\"white\",\"linecolor\":\"white\",\"minorgridcolor\":\"white\",\"startlinecolor\":\"#2a3f5f\"},\"baxis\":{\"endlinecolor\":\"#2a3f5f\",\"gridcolor\":\"white\",\"linecolor\":\"white\",\"minorgridcolor\":\"white\",\"startlinecolor\":\"#2a3f5f\"},\"type\":\"carpet\"}],\"table\":[{\"cells\":{\"fill\":{\"color\":\"#EBF0F8\"},\"line\":{\"color\":\"white\"}},\"header\":{\"fill\":{\"color\":\"#C8D4E3\"},\"line\":{\"color\":\"white\"}},\"type\":\"table\"}],\"barpolar\":[{\"marker\":{\"line\":{\"color\":\"#E5ECF6\",\"width\":0.5},\"pattern\":{\"fillmode\":\"overlay\",\"size\":10,\"solidity\":0.2}},\"type\":\"barpolar\"}],\"pie\":[{\"automargin\":true,\"type\":\"pie\"}]},\"layout\":{\"autotypenumbers\":\"strict\",\"colorway\":[\"#636efa\",\"#EF553B\",\"#00cc96\",\"#ab63fa\",\"#FFA15A\",\"#19d3f3\",\"#FF6692\",\"#B6E880\",\"#FF97FF\",\"#FECB52\"],\"font\":{\"color\":\"#2a3f5f\"},\"hovermode\":\"closest\",\"hoverlabel\":{\"align\":\"left\"},\"paper_bgcolor\":\"white\",\"plot_bgcolor\":\"#E5ECF6\",\"polar\":{\"bgcolor\":\"#E5ECF6\",\"angularaxis\":{\"gridcolor\":\"white\",\"linecolor\":\"white\",\"ticks\":\"\"},\"radialaxis\":{\"gridcolor\":\"white\",\"linecolor\":\"white\",\"ticks\":\"\"}},\"ternary\":{\"bgcolor\":\"#E5ECF6\",\"aaxis\":{\"gridcolor\":\"white\",\"linecolor\":\"white\",\"ticks\":\"\"},\"baxis\":{\"gridcolor\":\"white\",\"linecolor\":\"white\",\"ticks\":\"\"},\"caxis\":{\"gridcolor\":\"white\",\"linecolor\":\"white\",\"ticks\":\"\"}},\"coloraxis\":{\"colorbar\":{\"outlinewidth\":0,\"ticks\":\"\"}},\"colorscale\":{\"sequential\":[[0.0,\"#0d0887\"],[0.1111111111111111,\"#46039f\"],[0.2222222222222222,\"#7201a8\"],[0.3333333333333333,\"#9c179e\"],[0.4444444444444444,\"#bd3786\"],[0.5555555555555556,\"#d8576b\"],[0.6666666666666666,\"#ed7953\"],[0.7777777777777778,\"#fb9f3a\"],[0.8888888888888888,\"#fdca26\"],[1.0,\"#f0f921\"]],\"sequentialminus\":[[0.0,\"#0d0887\"],[0.1111111111111111,\"#46039f\"],[0.2222222222222222,\"#7201a8\"],[0.3333333333333333,\"#9c179e\"],[0.4444444444444444,\"#bd3786\"],[0.5555555555555556,\"#d8576b\"],[0.6666666666666666,\"#ed7953\"],[0.7777777777777778,\"#fb9f3a\"],[0.8888888888888888,\"#fdca26\"],[1.0,\"#f0f921\"]],\"diverging\":[[0,\"#8e0152\"],[0.1,\"#c51b7d\"],[0.2,\"#de77ae\"],[0.3,\"#f1b6da\"],[0.4,\"#fde0ef\"],[0.5,\"#f7f7f7\"],[0.6,\"#e6f5d0\"],[0.7,\"#b8e186\"],[0.8,\"#7fbc41\"],[0.9,\"#4d9221\"],[1,\"#276419\"]]},\"xaxis\":{\"gridcolor\":\"white\",\"linecolor\":\"white\",\"ticks\":\"\",\"title\":{\"standoff\":15},\"zerolinecolor\":\"white\",\"automargin\":true,\"zerolinewidth\":2},\"yaxis\":{\"gridcolor\":\"white\",\"linecolor\":\"white\",\"ticks\":\"\",\"title\":{\"standoff\":15},\"zerolinecolor\":\"white\",\"automargin\":true,\"zerolinewidth\":2},\"scene\":{\"xaxis\":{\"backgroundcolor\":\"#E5ECF6\",\"gridcolor\":\"white\",\"linecolor\":\"white\",\"showbackground\":true,\"ticks\":\"\",\"zerolinecolor\":\"white\",\"gridwidth\":2},\"yaxis\":{\"backgroundcolor\":\"#E5ECF6\",\"gridcolor\":\"white\",\"linecolor\":\"white\",\"showbackground\":true,\"ticks\":\"\",\"zerolinecolor\":\"white\",\"gridwidth\":2},\"zaxis\":{\"backgroundcolor\":\"#E5ECF6\",\"gridcolor\":\"white\",\"linecolor\":\"white\",\"showbackground\":true,\"ticks\":\"\",\"zerolinecolor\":\"white\",\"gridwidth\":2}},\"shapedefaults\":{\"line\":{\"color\":\"#2a3f5f\"}},\"annotationdefaults\":{\"arrowcolor\":\"#2a3f5f\",\"arrowhead\":0,\"arrowwidth\":1},\"geo\":{\"bgcolor\":\"white\",\"landcolor\":\"#E5ECF6\",\"subunitcolor\":\"white\",\"showland\":true,\"showlakes\":true,\"lakecolor\":\"white\"},\"title\":{\"x\":0.05},\"mapbox\":{\"style\":\"light\"}}},\"title\":{\"font\":{\"size\":15},\"text\":\"\\u003cb\\u003eTurnover per Month in Brazilian Olist E-Commerce company\\u003c\\u002fb\\u003e\",\"x\":0.5,\"y\":0.9},\"xaxis\":{\"tickfont\":{\"size\":7},\"title\":{\"text\":\"from Oct. 2016 to Sep. 2018\"},\"showticklabels\":true,\"dtick\":\"M1\"},\"yaxis\":{\"title\":{\"text\":\"Turnover per Month\"}}},                        {\"responsive\": true}                    ).then(function(){\n",
       "                            \n",
       "var gd = document.getElementById('48ad4701-6c7d-46a2-bc54-eee3aed0d65a');\n",
       "var x = new MutationObserver(function (mutations, observer) {{\n",
       "        var display = window.getComputedStyle(gd).display;\n",
       "        if (!display || display === 'none') {{\n",
       "            console.log([gd, 'removed!']);\n",
       "            Plotly.purge(gd);\n",
       "            observer.disconnect();\n",
       "        }}\n",
       "}});\n",
       "\n",
       "// Listen for the removal of the full notebook cells\n",
       "var notebookContainer = gd.closest('#notebook-container');\n",
       "if (notebookContainer) {{\n",
       "    x.observe(notebookContainer, {childList: true});\n",
       "}}\n",
       "\n",
       "// Listen for the clearing of the current output cell\n",
       "var outputEl = gd.closest('.output');\n",
       "if (outputEl) {{\n",
       "    x.observe(outputEl, {childList: true});\n",
       "}}\n",
       "\n",
       "                        })                };                });            </script>        </div>"
      ]
     },
     "metadata": {},
     "output_type": "display_data"
    }
   ],
   "source": [
    "import plotly.graph_objects as go\n",
    "fig = go.Figure()\n",
    "fig.add_trace(\n",
    "    go.Bar(\n",
    "        x=lck_drx_po_win_gb.index, \n",
    "        y=lck_drx_po_win_gb.values, \n",
    "        text=lck_drx_po_win_gb.values, \n",
    "        textposition='auto', \n",
    "        texttemplate='R$ %{text:.0f}'\n",
    "    )\n",
    ")\n",
    "\n",
    "fig.update_layout(\n",
    "    {\n",
    "        \"title\": {\n",
    "            \"text\": \"<b>Turnover per Month in Brazilian Olist E-Commerce company</b>\",\n",
    "            \"x\": 0.5,\n",
    "            \"y\": 0.9,\n",
    "            \"font\": {\n",
    "                \"size\": 15\n",
    "            }\n",
    "        },\n",
    "        \"xaxis\": {\n",
    "            \"title\": \"from Oct. 2016 to Sep. 2018\",\n",
    "            \"showticklabels\":True,\n",
    "            \"dtick\": \"M1\",\n",
    "            \"tickfont\": {\n",
    "                \"size\": 7                \n",
    "            }\n",
    "        },\n",
    "        \"yaxis\": {\n",
    "            \"title\": \"Turnover per Month\"\n",
    "        }\n",
    "    }\n",
    ")\n",
    "\n",
    "fig.show()"
   ]
  },
  {
   "cell_type": "code",
   "execution_count": 181,
   "metadata": {},
   "outputs": [
    {
     "data": {
      "text/plain": [
       "MultiIndex([('ESPORTSTMNT02', 0),\n",
       "            ('ESPORTSTMNT02', 1),\n",
       "            ('ESPORTSTMNT04', 0),\n",
       "            ('ESPORTSTMNT04', 1)],\n",
       "           names=['group_value', 'result'])"
      ]
     },
     "execution_count": 181,
     "metadata": {},
     "output_type": "execute_result"
    }
   ],
   "source": [
    "lck_drx_po_win_gb.index"
   ]
  },
  {
   "cell_type": "code",
   "execution_count": 182,
   "metadata": {},
   "outputs": [
    {
     "data": {
      "text/plain": [
       "array([[3],\n",
       "       [2],\n",
       "       [3],\n",
       "       [1]], dtype=int64)"
      ]
     },
     "execution_count": 182,
     "metadata": {},
     "output_type": "execute_result"
    }
   ],
   "source": [
    "lck_drx_po_win_gb.values"
   ]
  },
  {
   "cell_type": "code",
   "execution_count": 179,
   "metadata": {},
   "outputs": [
    {
     "data": {
      "text/plain": [
       "[     group_value                 gameid  result\n",
       " 0  ESPORTSTMNT02  ESPORTSTMNT02_2663759       0\n",
       " 2  ESPORTSTMNT02  ESPORTSTMNT02_2673596       0\n",
       " 4  ESPORTSTMNT02  ESPORTSTMNT02_2673605       0,\n",
       "      group_value                 gameid  result\n",
       " 1  ESPORTSTMNT02  ESPORTSTMNT02_2673595       1\n",
       " 3  ESPORTSTMNT02  ESPORTSTMNT02_2673599       1,\n",
       "      group_value                 gameid  result\n",
       " 5  ESPORTSTMNT04  ESPORTSTMNT04_2451564       0\n",
       " 6  ESPORTSTMNT04  ESPORTSTMNT04_2451579       0\n",
       " 8  ESPORTSTMNT04  ESPORTSTMNT04_2451582       0,\n",
       "      group_value                 gameid  result\n",
       " 7  ESPORTSTMNT04  ESPORTSTMNT04_2451580       1]"
      ]
     },
     "execution_count": 179,
     "metadata": {},
     "output_type": "execute_result"
    }
   ],
   "source": [
    "import plotly.express as px\n",
    "\n",
    "\n",
    "# 그룹화된 데이터프레임을 그룹별로 추출하여 리스트로 저장\n",
    "grouped_data = [group_data for _, group_data in lck_drx_po_win.groupby(['group_value','result'])]\n",
    "grouped_data\n",
    "\n",
    "# Plotly 바 차트 생성\n",
    "fig = px.bar()\n",
    "for group_data in grouped_data:\n",
    "    fig.add_trace(px.bar(group_data, x='gameid', y='result', text='result'))\n",
    "\n",
    "# 레이아웃 설정\n",
    "fig.update_layout(barmode='group', xaxis_tickangle=-45)\n",
    "\n",
    "# 차트 출력\n",
    "fig.show()"
   ]
  },
  {
   "cell_type": "code",
   "execution_count": 132,
   "metadata": {},
   "outputs": [
    {
     "data": {
      "text/plain": [
       "52044     ESPORTSTMNT02_2663759\n",
       "52045     ESPORTSTMNT02_2663759\n",
       "52046     ESPORTSTMNT02_2663759\n",
       "52047     ESPORTSTMNT02_2663759\n",
       "52048     ESPORTSTMNT02_2663759\n",
       "52054     ESPORTSTMNT02_2663759\n",
       "52116     ESPORTSTMNT02_2673595\n",
       "52117     ESPORTSTMNT02_2673595\n",
       "52118     ESPORTSTMNT02_2673595\n",
       "52119     ESPORTSTMNT02_2673595\n",
       "52120     ESPORTSTMNT02_2673595\n",
       "52126     ESPORTSTMNT02_2673595\n",
       "52157     ESPORTSTMNT02_2673596\n",
       "52158     ESPORTSTMNT02_2673596\n",
       "52159     ESPORTSTMNT02_2673596\n",
       "52160     ESPORTSTMNT02_2673596\n",
       "52161     ESPORTSTMNT02_2673596\n",
       "52163     ESPORTSTMNT02_2673596\n",
       "52188     ESPORTSTMNT02_2673599\n",
       "52189     ESPORTSTMNT02_2673599\n",
       "52190     ESPORTSTMNT02_2673599\n",
       "52191     ESPORTSTMNT02_2673599\n",
       "52192     ESPORTSTMNT02_2673599\n",
       "52198     ESPORTSTMNT02_2673599\n",
       "52241     ESPORTSTMNT02_2673605\n",
       "52242     ESPORTSTMNT02_2673605\n",
       "52243     ESPORTSTMNT02_2673605\n",
       "52244     ESPORTSTMNT02_2673605\n",
       "52245     ESPORTSTMNT02_2673605\n",
       "52247     ESPORTSTMNT02_2673605\n",
       "124661    ESPORTSTMNT04_2451564\n",
       "124662    ESPORTSTMNT04_2451564\n",
       "124663    ESPORTSTMNT04_2451564\n",
       "124664    ESPORTSTMNT04_2451564\n",
       "124665    ESPORTSTMNT04_2451564\n",
       "124667    ESPORTSTMNT04_2451564\n",
       "124692    ESPORTSTMNT04_2451579\n",
       "124693    ESPORTSTMNT04_2451579\n",
       "124694    ESPORTSTMNT04_2451579\n",
       "124695    ESPORTSTMNT04_2451579\n",
       "124696    ESPORTSTMNT04_2451579\n",
       "124702    ESPORTSTMNT04_2451579\n",
       "124728    ESPORTSTMNT04_2451580\n",
       "124729    ESPORTSTMNT04_2451580\n",
       "124730    ESPORTSTMNT04_2451580\n",
       "124731    ESPORTSTMNT04_2451580\n",
       "124732    ESPORTSTMNT04_2451580\n",
       "124738    ESPORTSTMNT04_2451580\n",
       "124769    ESPORTSTMNT04_2451582\n",
       "124770    ESPORTSTMNT04_2451582\n",
       "124771    ESPORTSTMNT04_2451582\n",
       "124772    ESPORTSTMNT04_2451582\n",
       "124773    ESPORTSTMNT04_2451582\n",
       "124775    ESPORTSTMNT04_2451582\n",
       "Name: gameid, dtype: object"
      ]
     },
     "execution_count": 132,
     "metadata": {},
     "output_type": "execute_result"
    }
   ],
   "source": [
    "lck_drx_po['gameid']"
   ]
  },
  {
   "cell_type": "code",
   "execution_count": null,
   "metadata": {},
   "outputs": [],
   "source": [
    "lck_drx_po.groupby('성별').agg({'키':get_count_by_height})"
   ]
  },
  {
   "cell_type": "code",
   "execution_count": 111,
   "metadata": {},
   "outputs": [
    {
     "data": {
      "text/html": [
       "<div>\n",
       "<style scoped>\n",
       "    .dataframe tbody tr th:only-of-type {\n",
       "        vertical-align: middle;\n",
       "    }\n",
       "\n",
       "    .dataframe tbody tr th {\n",
       "        vertical-align: top;\n",
       "    }\n",
       "\n",
       "    .dataframe thead th {\n",
       "        text-align: right;\n",
       "    }\n",
       "</style>\n",
       "<table border=\"1\" class=\"dataframe\">\n",
       "  <thead>\n",
       "    <tr style=\"text-align: right;\">\n",
       "      <th></th>\n",
       "      <th></th>\n",
       "      <th></th>\n",
       "      <th>gameid</th>\n",
       "      <th>teamname</th>\n",
       "      <th>result</th>\n",
       "      <th>playoffs</th>\n",
       "    </tr>\n",
       "    <tr>\n",
       "      <th>gameid</th>\n",
       "      <th>teamname</th>\n",
       "      <th></th>\n",
       "      <th></th>\n",
       "      <th></th>\n",
       "      <th></th>\n",
       "      <th></th>\n",
       "    </tr>\n",
       "  </thead>\n",
       "  <tbody>\n",
       "    <tr>\n",
       "      <th rowspan=\"6\" valign=\"top\">ESPORTSTMNT02_2663759</th>\n",
       "      <th rowspan=\"6\" valign=\"top\">DRX</th>\n",
       "      <th>52044</th>\n",
       "      <td>ESPORTSTMNT02_2663759</td>\n",
       "      <td>DRX</td>\n",
       "      <td>0</td>\n",
       "      <td>1</td>\n",
       "    </tr>\n",
       "    <tr>\n",
       "      <th>52045</th>\n",
       "      <td>ESPORTSTMNT02_2663759</td>\n",
       "      <td>DRX</td>\n",
       "      <td>0</td>\n",
       "      <td>1</td>\n",
       "    </tr>\n",
       "    <tr>\n",
       "      <th>52046</th>\n",
       "      <td>ESPORTSTMNT02_2663759</td>\n",
       "      <td>DRX</td>\n",
       "      <td>0</td>\n",
       "      <td>1</td>\n",
       "    </tr>\n",
       "    <tr>\n",
       "      <th>52047</th>\n",
       "      <td>ESPORTSTMNT02_2663759</td>\n",
       "      <td>DRX</td>\n",
       "      <td>0</td>\n",
       "      <td>1</td>\n",
       "    </tr>\n",
       "    <tr>\n",
       "      <th>52048</th>\n",
       "      <td>ESPORTSTMNT02_2663759</td>\n",
       "      <td>DRX</td>\n",
       "      <td>0</td>\n",
       "      <td>1</td>\n",
       "    </tr>\n",
       "    <tr>\n",
       "      <th>52054</th>\n",
       "      <td>ESPORTSTMNT02_2663759</td>\n",
       "      <td>DRX</td>\n",
       "      <td>0</td>\n",
       "      <td>1</td>\n",
       "    </tr>\n",
       "    <tr>\n",
       "      <th rowspan=\"6\" valign=\"top\">ESPORTSTMNT02_2673595</th>\n",
       "      <th rowspan=\"6\" valign=\"top\">DRX</th>\n",
       "      <th>52116</th>\n",
       "      <td>ESPORTSTMNT02_2673595</td>\n",
       "      <td>DRX</td>\n",
       "      <td>1</td>\n",
       "      <td>1</td>\n",
       "    </tr>\n",
       "    <tr>\n",
       "      <th>52117</th>\n",
       "      <td>ESPORTSTMNT02_2673595</td>\n",
       "      <td>DRX</td>\n",
       "      <td>1</td>\n",
       "      <td>1</td>\n",
       "    </tr>\n",
       "    <tr>\n",
       "      <th>52118</th>\n",
       "      <td>ESPORTSTMNT02_2673595</td>\n",
       "      <td>DRX</td>\n",
       "      <td>1</td>\n",
       "      <td>1</td>\n",
       "    </tr>\n",
       "    <tr>\n",
       "      <th>52119</th>\n",
       "      <td>ESPORTSTMNT02_2673595</td>\n",
       "      <td>DRX</td>\n",
       "      <td>1</td>\n",
       "      <td>1</td>\n",
       "    </tr>\n",
       "    <tr>\n",
       "      <th>52120</th>\n",
       "      <td>ESPORTSTMNT02_2673595</td>\n",
       "      <td>DRX</td>\n",
       "      <td>1</td>\n",
       "      <td>1</td>\n",
       "    </tr>\n",
       "    <tr>\n",
       "      <th>52126</th>\n",
       "      <td>ESPORTSTMNT02_2673595</td>\n",
       "      <td>DRX</td>\n",
       "      <td>1</td>\n",
       "      <td>1</td>\n",
       "    </tr>\n",
       "    <tr>\n",
       "      <th rowspan=\"6\" valign=\"top\">ESPORTSTMNT02_2673596</th>\n",
       "      <th rowspan=\"6\" valign=\"top\">DRX</th>\n",
       "      <th>52157</th>\n",
       "      <td>ESPORTSTMNT02_2673596</td>\n",
       "      <td>DRX</td>\n",
       "      <td>0</td>\n",
       "      <td>1</td>\n",
       "    </tr>\n",
       "    <tr>\n",
       "      <th>52158</th>\n",
       "      <td>ESPORTSTMNT02_2673596</td>\n",
       "      <td>DRX</td>\n",
       "      <td>0</td>\n",
       "      <td>1</td>\n",
       "    </tr>\n",
       "    <tr>\n",
       "      <th>52159</th>\n",
       "      <td>ESPORTSTMNT02_2673596</td>\n",
       "      <td>DRX</td>\n",
       "      <td>0</td>\n",
       "      <td>1</td>\n",
       "    </tr>\n",
       "    <tr>\n",
       "      <th>52160</th>\n",
       "      <td>ESPORTSTMNT02_2673596</td>\n",
       "      <td>DRX</td>\n",
       "      <td>0</td>\n",
       "      <td>1</td>\n",
       "    </tr>\n",
       "    <tr>\n",
       "      <th>52161</th>\n",
       "      <td>ESPORTSTMNT02_2673596</td>\n",
       "      <td>DRX</td>\n",
       "      <td>0</td>\n",
       "      <td>1</td>\n",
       "    </tr>\n",
       "    <tr>\n",
       "      <th>52163</th>\n",
       "      <td>ESPORTSTMNT02_2673596</td>\n",
       "      <td>DRX</td>\n",
       "      <td>0</td>\n",
       "      <td>1</td>\n",
       "    </tr>\n",
       "    <tr>\n",
       "      <th rowspan=\"6\" valign=\"top\">ESPORTSTMNT02_2673599</th>\n",
       "      <th rowspan=\"6\" valign=\"top\">DRX</th>\n",
       "      <th>52188</th>\n",
       "      <td>ESPORTSTMNT02_2673599</td>\n",
       "      <td>DRX</td>\n",
       "      <td>1</td>\n",
       "      <td>1</td>\n",
       "    </tr>\n",
       "    <tr>\n",
       "      <th>52189</th>\n",
       "      <td>ESPORTSTMNT02_2673599</td>\n",
       "      <td>DRX</td>\n",
       "      <td>1</td>\n",
       "      <td>1</td>\n",
       "    </tr>\n",
       "    <tr>\n",
       "      <th>52190</th>\n",
       "      <td>ESPORTSTMNT02_2673599</td>\n",
       "      <td>DRX</td>\n",
       "      <td>1</td>\n",
       "      <td>1</td>\n",
       "    </tr>\n",
       "    <tr>\n",
       "      <th>52191</th>\n",
       "      <td>ESPORTSTMNT02_2673599</td>\n",
       "      <td>DRX</td>\n",
       "      <td>1</td>\n",
       "      <td>1</td>\n",
       "    </tr>\n",
       "    <tr>\n",
       "      <th>52192</th>\n",
       "      <td>ESPORTSTMNT02_2673599</td>\n",
       "      <td>DRX</td>\n",
       "      <td>1</td>\n",
       "      <td>1</td>\n",
       "    </tr>\n",
       "    <tr>\n",
       "      <th>52198</th>\n",
       "      <td>ESPORTSTMNT02_2673599</td>\n",
       "      <td>DRX</td>\n",
       "      <td>1</td>\n",
       "      <td>1</td>\n",
       "    </tr>\n",
       "    <tr>\n",
       "      <th rowspan=\"6\" valign=\"top\">ESPORTSTMNT02_2673605</th>\n",
       "      <th rowspan=\"6\" valign=\"top\">DRX</th>\n",
       "      <th>52241</th>\n",
       "      <td>ESPORTSTMNT02_2673605</td>\n",
       "      <td>DRX</td>\n",
       "      <td>0</td>\n",
       "      <td>1</td>\n",
       "    </tr>\n",
       "    <tr>\n",
       "      <th>52242</th>\n",
       "      <td>ESPORTSTMNT02_2673605</td>\n",
       "      <td>DRX</td>\n",
       "      <td>0</td>\n",
       "      <td>1</td>\n",
       "    </tr>\n",
       "    <tr>\n",
       "      <th>52243</th>\n",
       "      <td>ESPORTSTMNT02_2673605</td>\n",
       "      <td>DRX</td>\n",
       "      <td>0</td>\n",
       "      <td>1</td>\n",
       "    </tr>\n",
       "    <tr>\n",
       "      <th>52244</th>\n",
       "      <td>ESPORTSTMNT02_2673605</td>\n",
       "      <td>DRX</td>\n",
       "      <td>0</td>\n",
       "      <td>1</td>\n",
       "    </tr>\n",
       "    <tr>\n",
       "      <th>52245</th>\n",
       "      <td>ESPORTSTMNT02_2673605</td>\n",
       "      <td>DRX</td>\n",
       "      <td>0</td>\n",
       "      <td>1</td>\n",
       "    </tr>\n",
       "    <tr>\n",
       "      <th>52247</th>\n",
       "      <td>ESPORTSTMNT02_2673605</td>\n",
       "      <td>DRX</td>\n",
       "      <td>0</td>\n",
       "      <td>1</td>\n",
       "    </tr>\n",
       "    <tr>\n",
       "      <th rowspan=\"6\" valign=\"top\">ESPORTSTMNT04_2451564</th>\n",
       "      <th rowspan=\"6\" valign=\"top\">DRX</th>\n",
       "      <th>124661</th>\n",
       "      <td>ESPORTSTMNT04_2451564</td>\n",
       "      <td>DRX</td>\n",
       "      <td>0</td>\n",
       "      <td>1</td>\n",
       "    </tr>\n",
       "    <tr>\n",
       "      <th>124662</th>\n",
       "      <td>ESPORTSTMNT04_2451564</td>\n",
       "      <td>DRX</td>\n",
       "      <td>0</td>\n",
       "      <td>1</td>\n",
       "    </tr>\n",
       "    <tr>\n",
       "      <th>124663</th>\n",
       "      <td>ESPORTSTMNT04_2451564</td>\n",
       "      <td>DRX</td>\n",
       "      <td>0</td>\n",
       "      <td>1</td>\n",
       "    </tr>\n",
       "    <tr>\n",
       "      <th>124664</th>\n",
       "      <td>ESPORTSTMNT04_2451564</td>\n",
       "      <td>DRX</td>\n",
       "      <td>0</td>\n",
       "      <td>1</td>\n",
       "    </tr>\n",
       "    <tr>\n",
       "      <th>124665</th>\n",
       "      <td>ESPORTSTMNT04_2451564</td>\n",
       "      <td>DRX</td>\n",
       "      <td>0</td>\n",
       "      <td>1</td>\n",
       "    </tr>\n",
       "    <tr>\n",
       "      <th>124667</th>\n",
       "      <td>ESPORTSTMNT04_2451564</td>\n",
       "      <td>DRX</td>\n",
       "      <td>0</td>\n",
       "      <td>1</td>\n",
       "    </tr>\n",
       "    <tr>\n",
       "      <th rowspan=\"6\" valign=\"top\">ESPORTSTMNT04_2451579</th>\n",
       "      <th rowspan=\"6\" valign=\"top\">DRX</th>\n",
       "      <th>124692</th>\n",
       "      <td>ESPORTSTMNT04_2451579</td>\n",
       "      <td>DRX</td>\n",
       "      <td>0</td>\n",
       "      <td>1</td>\n",
       "    </tr>\n",
       "    <tr>\n",
       "      <th>124693</th>\n",
       "      <td>ESPORTSTMNT04_2451579</td>\n",
       "      <td>DRX</td>\n",
       "      <td>0</td>\n",
       "      <td>1</td>\n",
       "    </tr>\n",
       "    <tr>\n",
       "      <th>124694</th>\n",
       "      <td>ESPORTSTMNT04_2451579</td>\n",
       "      <td>DRX</td>\n",
       "      <td>0</td>\n",
       "      <td>1</td>\n",
       "    </tr>\n",
       "    <tr>\n",
       "      <th>124695</th>\n",
       "      <td>ESPORTSTMNT04_2451579</td>\n",
       "      <td>DRX</td>\n",
       "      <td>0</td>\n",
       "      <td>1</td>\n",
       "    </tr>\n",
       "    <tr>\n",
       "      <th>124696</th>\n",
       "      <td>ESPORTSTMNT04_2451579</td>\n",
       "      <td>DRX</td>\n",
       "      <td>0</td>\n",
       "      <td>1</td>\n",
       "    </tr>\n",
       "    <tr>\n",
       "      <th>124702</th>\n",
       "      <td>ESPORTSTMNT04_2451579</td>\n",
       "      <td>DRX</td>\n",
       "      <td>0</td>\n",
       "      <td>1</td>\n",
       "    </tr>\n",
       "    <tr>\n",
       "      <th rowspan=\"6\" valign=\"top\">ESPORTSTMNT04_2451580</th>\n",
       "      <th rowspan=\"6\" valign=\"top\">DRX</th>\n",
       "      <th>124728</th>\n",
       "      <td>ESPORTSTMNT04_2451580</td>\n",
       "      <td>DRX</td>\n",
       "      <td>1</td>\n",
       "      <td>1</td>\n",
       "    </tr>\n",
       "    <tr>\n",
       "      <th>124729</th>\n",
       "      <td>ESPORTSTMNT04_2451580</td>\n",
       "      <td>DRX</td>\n",
       "      <td>1</td>\n",
       "      <td>1</td>\n",
       "    </tr>\n",
       "    <tr>\n",
       "      <th>124730</th>\n",
       "      <td>ESPORTSTMNT04_2451580</td>\n",
       "      <td>DRX</td>\n",
       "      <td>1</td>\n",
       "      <td>1</td>\n",
       "    </tr>\n",
       "    <tr>\n",
       "      <th>124731</th>\n",
       "      <td>ESPORTSTMNT04_2451580</td>\n",
       "      <td>DRX</td>\n",
       "      <td>1</td>\n",
       "      <td>1</td>\n",
       "    </tr>\n",
       "    <tr>\n",
       "      <th>124732</th>\n",
       "      <td>ESPORTSTMNT04_2451580</td>\n",
       "      <td>DRX</td>\n",
       "      <td>1</td>\n",
       "      <td>1</td>\n",
       "    </tr>\n",
       "    <tr>\n",
       "      <th>124738</th>\n",
       "      <td>ESPORTSTMNT04_2451580</td>\n",
       "      <td>DRX</td>\n",
       "      <td>1</td>\n",
       "      <td>1</td>\n",
       "    </tr>\n",
       "    <tr>\n",
       "      <th rowspan=\"6\" valign=\"top\">ESPORTSTMNT04_2451582</th>\n",
       "      <th rowspan=\"6\" valign=\"top\">DRX</th>\n",
       "      <th>124769</th>\n",
       "      <td>ESPORTSTMNT04_2451582</td>\n",
       "      <td>DRX</td>\n",
       "      <td>0</td>\n",
       "      <td>1</td>\n",
       "    </tr>\n",
       "    <tr>\n",
       "      <th>124770</th>\n",
       "      <td>ESPORTSTMNT04_2451582</td>\n",
       "      <td>DRX</td>\n",
       "      <td>0</td>\n",
       "      <td>1</td>\n",
       "    </tr>\n",
       "    <tr>\n",
       "      <th>124771</th>\n",
       "      <td>ESPORTSTMNT04_2451582</td>\n",
       "      <td>DRX</td>\n",
       "      <td>0</td>\n",
       "      <td>1</td>\n",
       "    </tr>\n",
       "    <tr>\n",
       "      <th>124772</th>\n",
       "      <td>ESPORTSTMNT04_2451582</td>\n",
       "      <td>DRX</td>\n",
       "      <td>0</td>\n",
       "      <td>1</td>\n",
       "    </tr>\n",
       "    <tr>\n",
       "      <th>124773</th>\n",
       "      <td>ESPORTSTMNT04_2451582</td>\n",
       "      <td>DRX</td>\n",
       "      <td>0</td>\n",
       "      <td>1</td>\n",
       "    </tr>\n",
       "    <tr>\n",
       "      <th>124775</th>\n",
       "      <td>ESPORTSTMNT04_2451582</td>\n",
       "      <td>DRX</td>\n",
       "      <td>0</td>\n",
       "      <td>1</td>\n",
       "    </tr>\n",
       "  </tbody>\n",
       "</table>\n",
       "</div>"
      ],
      "text/plain": [
       "                                                      gameid teamname  result  \\\n",
       "gameid                teamname                                                  \n",
       "ESPORTSTMNT02_2663759 DRX      52044   ESPORTSTMNT02_2663759      DRX       0   \n",
       "                               52045   ESPORTSTMNT02_2663759      DRX       0   \n",
       "                               52046   ESPORTSTMNT02_2663759      DRX       0   \n",
       "                               52047   ESPORTSTMNT02_2663759      DRX       0   \n",
       "                               52048   ESPORTSTMNT02_2663759      DRX       0   \n",
       "                               52054   ESPORTSTMNT02_2663759      DRX       0   \n",
       "ESPORTSTMNT02_2673595 DRX      52116   ESPORTSTMNT02_2673595      DRX       1   \n",
       "                               52117   ESPORTSTMNT02_2673595      DRX       1   \n",
       "                               52118   ESPORTSTMNT02_2673595      DRX       1   \n",
       "                               52119   ESPORTSTMNT02_2673595      DRX       1   \n",
       "                               52120   ESPORTSTMNT02_2673595      DRX       1   \n",
       "                               52126   ESPORTSTMNT02_2673595      DRX       1   \n",
       "ESPORTSTMNT02_2673596 DRX      52157   ESPORTSTMNT02_2673596      DRX       0   \n",
       "                               52158   ESPORTSTMNT02_2673596      DRX       0   \n",
       "                               52159   ESPORTSTMNT02_2673596      DRX       0   \n",
       "                               52160   ESPORTSTMNT02_2673596      DRX       0   \n",
       "                               52161   ESPORTSTMNT02_2673596      DRX       0   \n",
       "                               52163   ESPORTSTMNT02_2673596      DRX       0   \n",
       "ESPORTSTMNT02_2673599 DRX      52188   ESPORTSTMNT02_2673599      DRX       1   \n",
       "                               52189   ESPORTSTMNT02_2673599      DRX       1   \n",
       "                               52190   ESPORTSTMNT02_2673599      DRX       1   \n",
       "                               52191   ESPORTSTMNT02_2673599      DRX       1   \n",
       "                               52192   ESPORTSTMNT02_2673599      DRX       1   \n",
       "                               52198   ESPORTSTMNT02_2673599      DRX       1   \n",
       "ESPORTSTMNT02_2673605 DRX      52241   ESPORTSTMNT02_2673605      DRX       0   \n",
       "                               52242   ESPORTSTMNT02_2673605      DRX       0   \n",
       "                               52243   ESPORTSTMNT02_2673605      DRX       0   \n",
       "                               52244   ESPORTSTMNT02_2673605      DRX       0   \n",
       "                               52245   ESPORTSTMNT02_2673605      DRX       0   \n",
       "                               52247   ESPORTSTMNT02_2673605      DRX       0   \n",
       "ESPORTSTMNT04_2451564 DRX      124661  ESPORTSTMNT04_2451564      DRX       0   \n",
       "                               124662  ESPORTSTMNT04_2451564      DRX       0   \n",
       "                               124663  ESPORTSTMNT04_2451564      DRX       0   \n",
       "                               124664  ESPORTSTMNT04_2451564      DRX       0   \n",
       "                               124665  ESPORTSTMNT04_2451564      DRX       0   \n",
       "                               124667  ESPORTSTMNT04_2451564      DRX       0   \n",
       "ESPORTSTMNT04_2451579 DRX      124692  ESPORTSTMNT04_2451579      DRX       0   \n",
       "                               124693  ESPORTSTMNT04_2451579      DRX       0   \n",
       "                               124694  ESPORTSTMNT04_2451579      DRX       0   \n",
       "                               124695  ESPORTSTMNT04_2451579      DRX       0   \n",
       "                               124696  ESPORTSTMNT04_2451579      DRX       0   \n",
       "                               124702  ESPORTSTMNT04_2451579      DRX       0   \n",
       "ESPORTSTMNT04_2451580 DRX      124728  ESPORTSTMNT04_2451580      DRX       1   \n",
       "                               124729  ESPORTSTMNT04_2451580      DRX       1   \n",
       "                               124730  ESPORTSTMNT04_2451580      DRX       1   \n",
       "                               124731  ESPORTSTMNT04_2451580      DRX       1   \n",
       "                               124732  ESPORTSTMNT04_2451580      DRX       1   \n",
       "                               124738  ESPORTSTMNT04_2451580      DRX       1   \n",
       "ESPORTSTMNT04_2451582 DRX      124769  ESPORTSTMNT04_2451582      DRX       0   \n",
       "                               124770  ESPORTSTMNT04_2451582      DRX       0   \n",
       "                               124771  ESPORTSTMNT04_2451582      DRX       0   \n",
       "                               124772  ESPORTSTMNT04_2451582      DRX       0   \n",
       "                               124773  ESPORTSTMNT04_2451582      DRX       0   \n",
       "                               124775  ESPORTSTMNT04_2451582      DRX       0   \n",
       "\n",
       "                                       playoffs  \n",
       "gameid                teamname                   \n",
       "ESPORTSTMNT02_2663759 DRX      52044          1  \n",
       "                               52045          1  \n",
       "                               52046          1  \n",
       "                               52047          1  \n",
       "                               52048          1  \n",
       "                               52054          1  \n",
       "ESPORTSTMNT02_2673595 DRX      52116          1  \n",
       "                               52117          1  \n",
       "                               52118          1  \n",
       "                               52119          1  \n",
       "                               52120          1  \n",
       "                               52126          1  \n",
       "ESPORTSTMNT02_2673596 DRX      52157          1  \n",
       "                               52158          1  \n",
       "                               52159          1  \n",
       "                               52160          1  \n",
       "                               52161          1  \n",
       "                               52163          1  \n",
       "ESPORTSTMNT02_2673599 DRX      52188          1  \n",
       "                               52189          1  \n",
       "                               52190          1  \n",
       "                               52191          1  \n",
       "                               52192          1  \n",
       "                               52198          1  \n",
       "ESPORTSTMNT02_2673605 DRX      52241          1  \n",
       "                               52242          1  \n",
       "                               52243          1  \n",
       "                               52244          1  \n",
       "                               52245          1  \n",
       "                               52247          1  \n",
       "ESPORTSTMNT04_2451564 DRX      124661         1  \n",
       "                               124662         1  \n",
       "                               124663         1  \n",
       "                               124664         1  \n",
       "                               124665         1  \n",
       "                               124667         1  \n",
       "ESPORTSTMNT04_2451579 DRX      124692         1  \n",
       "                               124693         1  \n",
       "                               124694         1  \n",
       "                               124695         1  \n",
       "                               124696         1  \n",
       "                               124702         1  \n",
       "ESPORTSTMNT04_2451580 DRX      124728         1  \n",
       "                               124729         1  \n",
       "                               124730         1  \n",
       "                               124731         1  \n",
       "                               124732         1  \n",
       "                               124738         1  \n",
       "ESPORTSTMNT04_2451582 DRX      124769         1  \n",
       "                               124770         1  \n",
       "                               124771         1  \n",
       "                               124772         1  \n",
       "                               124773         1  \n",
       "                               124775         1  "
      ]
     },
     "execution_count": 111,
     "metadata": {},
     "output_type": "execute_result"
    }
   ],
   "source": [
    "lck_drx_po.groupby(['gameid','teamname'] , group_keys=True).apply(lambda x:x)"
   ]
  },
  {
   "cell_type": "code",
   "execution_count": 104,
   "metadata": {},
   "outputs": [
    {
     "data": {
      "text/html": [
       "<div>\n",
       "<style scoped>\n",
       "    .dataframe tbody tr th:only-of-type {\n",
       "        vertical-align: middle;\n",
       "    }\n",
       "\n",
       "    .dataframe tbody tr th {\n",
       "        vertical-align: top;\n",
       "    }\n",
       "\n",
       "    .dataframe thead th {\n",
       "        text-align: right;\n",
       "    }\n",
       "</style>\n",
       "<table border=\"1\" class=\"dataframe\">\n",
       "  <thead>\n",
       "    <tr style=\"text-align: right;\">\n",
       "      <th></th>\n",
       "      <th></th>\n",
       "      <th>result</th>\n",
       "      <th>playoffs</th>\n",
       "    </tr>\n",
       "    <tr>\n",
       "      <th>gameid</th>\n",
       "      <th>teamname</th>\n",
       "      <th></th>\n",
       "      <th></th>\n",
       "    </tr>\n",
       "  </thead>\n",
       "  <tbody>\n",
       "    <tr>\n",
       "      <th>ESPORTSTMNT02_2663759</th>\n",
       "      <th>DRX</th>\n",
       "      <td>0</td>\n",
       "      <td>6</td>\n",
       "    </tr>\n",
       "    <tr>\n",
       "      <th>ESPORTSTMNT02_2673595</th>\n",
       "      <th>DRX</th>\n",
       "      <td>6</td>\n",
       "      <td>6</td>\n",
       "    </tr>\n",
       "    <tr>\n",
       "      <th>ESPORTSTMNT02_2673596</th>\n",
       "      <th>DRX</th>\n",
       "      <td>0</td>\n",
       "      <td>6</td>\n",
       "    </tr>\n",
       "    <tr>\n",
       "      <th>ESPORTSTMNT02_2673599</th>\n",
       "      <th>DRX</th>\n",
       "      <td>6</td>\n",
       "      <td>6</td>\n",
       "    </tr>\n",
       "    <tr>\n",
       "      <th>ESPORTSTMNT02_2673605</th>\n",
       "      <th>DRX</th>\n",
       "      <td>0</td>\n",
       "      <td>6</td>\n",
       "    </tr>\n",
       "    <tr>\n",
       "      <th>ESPORTSTMNT04_2451564</th>\n",
       "      <th>DRX</th>\n",
       "      <td>0</td>\n",
       "      <td>6</td>\n",
       "    </tr>\n",
       "    <tr>\n",
       "      <th>ESPORTSTMNT04_2451579</th>\n",
       "      <th>DRX</th>\n",
       "      <td>0</td>\n",
       "      <td>6</td>\n",
       "    </tr>\n",
       "    <tr>\n",
       "      <th>ESPORTSTMNT04_2451580</th>\n",
       "      <th>DRX</th>\n",
       "      <td>6</td>\n",
       "      <td>6</td>\n",
       "    </tr>\n",
       "    <tr>\n",
       "      <th>ESPORTSTMNT04_2451582</th>\n",
       "      <th>DRX</th>\n",
       "      <td>0</td>\n",
       "      <td>6</td>\n",
       "    </tr>\n",
       "  </tbody>\n",
       "</table>\n",
       "</div>"
      ],
      "text/plain": [
       "                                result  playoffs\n",
       "gameid                teamname                  \n",
       "ESPORTSTMNT02_2663759 DRX            0         6\n",
       "ESPORTSTMNT02_2673595 DRX            6         6\n",
       "ESPORTSTMNT02_2673596 DRX            0         6\n",
       "ESPORTSTMNT02_2673599 DRX            6         6\n",
       "ESPORTSTMNT02_2673605 DRX            0         6\n",
       "ESPORTSTMNT04_2451564 DRX            0         6\n",
       "ESPORTSTMNT04_2451579 DRX            0         6\n",
       "ESPORTSTMNT04_2451580 DRX            6         6\n",
       "ESPORTSTMNT04_2451582 DRX            0         6"
      ]
     },
     "execution_count": 104,
     "metadata": {},
     "output_type": "execute_result"
    }
   ],
   "source": [
    "lck_drx_group_po = lck_drx_po.groupby(['gameid','teamname'] , group_keys=True).sum()\n",
    "lck_drx_group_po"
   ]
  },
  {
   "cell_type": "code",
   "execution_count": 106,
   "metadata": {},
   "outputs": [
    {
     "data": {
      "text/plain": [
       "result      6\n",
       "playoffs    6\n",
       "dtype: int64"
      ]
     },
     "execution_count": 106,
     "metadata": {},
     "output_type": "execute_result"
    }
   ],
   "source": [
    "lck_drx_group_po[ lck_drx_group_po['result']==0 ].count()"
   ]
  },
  {
   "cell_type": "code",
   "execution_count": 107,
   "metadata": {},
   "outputs": [
    {
     "data": {
      "text/plain": [
       "result      3\n",
       "playoffs    3\n",
       "dtype: int64"
      ]
     },
     "execution_count": 107,
     "metadata": {},
     "output_type": "execute_result"
    }
   ],
   "source": [
    "lck_drx_group_po[ lck_drx_group_po['result']!=0 ].count()"
   ]
  },
  {
   "cell_type": "markdown",
   "metadata": {},
   "source": [
    "총 47번의 승리 48번의 패배 result =0 승리 result =1 패배\n",
    "정규시즌 42승 플레이오프 6승\n",
    "정규시즌 44패 플레이오프 3패"
   ]
  },
  {
   "cell_type": "markdown",
   "metadata": {},
   "source": [
    "---"
   ]
  },
  {
   "cell_type": "code",
   "execution_count": 82,
   "metadata": {},
   "outputs": [
    {
     "name": "stdout",
     "output_type": "stream",
     "text": [
      "<class 'pandas.core.frame.DataFrame'>\n",
      "RangeIndex: 467 entries, 0 to 466\n",
      "Data columns (total 16 columns):\n",
      " #   Column      Non-Null Count  Dtype \n",
      "---  ------      --------------  ----- \n",
      " 0   Unnamed: 0  467 non-null    int64 \n",
      " 1   gameid      467 non-null    object\n",
      " 2   date        467 non-null    object\n",
      " 3   blue_team   467 non-null    object\n",
      " 4   blue_top    467 non-null    object\n",
      " 5   blue_jg     467 non-null    object\n",
      " 6   blue_mid    467 non-null    object\n",
      " 7   blue_adc    467 non-null    object\n",
      " 8   blue_supp   467 non-null    object\n",
      " 9   red_team    467 non-null    object\n",
      " 10  red_top     467 non-null    object\n",
      " 11  red_jg      467 non-null    object\n",
      " 12  red_mid     467 non-null    object\n",
      " 13  red_adc     467 non-null    object\n",
      " 14  red_supp    467 non-null    object\n",
      " 15  winner      467 non-null    object\n",
      "dtypes: int64(1), object(15)\n",
      "memory usage: 58.5+ KB\n"
     ]
    }
   ],
   "source": [
    "lck2022season.info()"
   ]
  },
  {
   "cell_type": "code",
   "execution_count": 83,
   "metadata": {},
   "outputs": [
    {
     "data": {
      "text/html": [
       "<div>\n",
       "<style scoped>\n",
       "    .dataframe tbody tr th:only-of-type {\n",
       "        vertical-align: middle;\n",
       "    }\n",
       "\n",
       "    .dataframe tbody tr th {\n",
       "        vertical-align: top;\n",
       "    }\n",
       "\n",
       "    .dataframe thead th {\n",
       "        text-align: right;\n",
       "    }\n",
       "</style>\n",
       "<table border=\"1\" class=\"dataframe\">\n",
       "  <thead>\n",
       "    <tr style=\"text-align: right;\">\n",
       "      <th></th>\n",
       "      <th>Unnamed: 0</th>\n",
       "      <th>gameid</th>\n",
       "      <th>date</th>\n",
       "      <th>blue_team</th>\n",
       "      <th>blue_top</th>\n",
       "      <th>blue_jg</th>\n",
       "      <th>blue_mid</th>\n",
       "      <th>blue_adc</th>\n",
       "      <th>blue_supp</th>\n",
       "      <th>red_team</th>\n",
       "      <th>red_top</th>\n",
       "      <th>red_jg</th>\n",
       "      <th>red_mid</th>\n",
       "      <th>red_adc</th>\n",
       "      <th>red_supp</th>\n",
       "      <th>winner</th>\n",
       "    </tr>\n",
       "  </thead>\n",
       "  <tbody>\n",
       "    <tr>\n",
       "      <th>0</th>\n",
       "      <td>0</td>\n",
       "      <td>ESPORTSTMNT01_2700815</td>\n",
       "      <td>2022-01-12 06:20:03</td>\n",
       "      <td>DRX</td>\n",
       "      <td>Kingen</td>\n",
       "      <td>Pyosik</td>\n",
       "      <td>Zeka</td>\n",
       "      <td>Deft</td>\n",
       "      <td>BeryL</td>\n",
       "      <td>Liiv SANDBOX</td>\n",
       "      <td>Dove</td>\n",
       "      <td>Croco</td>\n",
       "      <td>Clozer</td>\n",
       "      <td>Envyy</td>\n",
       "      <td>Kael</td>\n",
       "      <td>Red</td>\n",
       "    </tr>\n",
       "    <tr>\n",
       "      <th>1</th>\n",
       "      <td>1</td>\n",
       "      <td>ESPORTSTMNT01_2690695</td>\n",
       "      <td>2022-01-12 09:02:13</td>\n",
       "      <td>DRX</td>\n",
       "      <td>Kingen</td>\n",
       "      <td>Pyosik</td>\n",
       "      <td>Zeka</td>\n",
       "      <td>Deft</td>\n",
       "      <td>BeryL</td>\n",
       "      <td>Liiv SANDBOX</td>\n",
       "      <td>Dove</td>\n",
       "      <td>Croco</td>\n",
       "      <td>Clozer</td>\n",
       "      <td>Envyy</td>\n",
       "      <td>Kael</td>\n",
       "      <td>Red</td>\n",
       "    </tr>\n",
       "    <tr>\n",
       "      <th>2</th>\n",
       "      <td>2</td>\n",
       "      <td>ESPORTSTMNT01_2690705</td>\n",
       "      <td>2022-01-12 10:07:10</td>\n",
       "      <td>T1</td>\n",
       "      <td>Zeus</td>\n",
       "      <td>Oner</td>\n",
       "      <td>Faker</td>\n",
       "      <td>Gumayusi</td>\n",
       "      <td>Keria</td>\n",
       "      <td>Kwangdong Freecs</td>\n",
       "      <td>Kiin</td>\n",
       "      <td>Ellim</td>\n",
       "      <td>FATE</td>\n",
       "      <td>Teddy</td>\n",
       "      <td>Hoit</td>\n",
       "      <td>Blue</td>\n",
       "    </tr>\n",
       "    <tr>\n",
       "      <th>3</th>\n",
       "      <td>3</td>\n",
       "      <td>ESPORTSTMNT01_2690725</td>\n",
       "      <td>2022-01-12 11:49:28</td>\n",
       "      <td>Kwangdong Freecs</td>\n",
       "      <td>Kiin</td>\n",
       "      <td>Ellim</td>\n",
       "      <td>FATE</td>\n",
       "      <td>Teddy</td>\n",
       "      <td>Hoit</td>\n",
       "      <td>T1</td>\n",
       "      <td>Zeus</td>\n",
       "      <td>Oner</td>\n",
       "      <td>Faker</td>\n",
       "      <td>Gumayusi</td>\n",
       "      <td>Keria</td>\n",
       "      <td>Red</td>\n",
       "    </tr>\n",
       "    <tr>\n",
       "      <th>4</th>\n",
       "      <td>4</td>\n",
       "      <td>ESPORTSTMNT01_2701248</td>\n",
       "      <td>2022-01-13 06:51:40</td>\n",
       "      <td>Nongshim RedForce</td>\n",
       "      <td>Canna</td>\n",
       "      <td>Dread</td>\n",
       "      <td>Bdd</td>\n",
       "      <td>Ghost</td>\n",
       "      <td>Effort</td>\n",
       "      <td>Hanwha Life Esports</td>\n",
       "      <td>DuDu</td>\n",
       "      <td>OnFleek</td>\n",
       "      <td>Karis</td>\n",
       "      <td>SamD</td>\n",
       "      <td>Vsta</td>\n",
       "      <td>Blue</td>\n",
       "    </tr>\n",
       "  </tbody>\n",
       "</table>\n",
       "</div>"
      ],
      "text/plain": [
       "   Unnamed: 0                 gameid                 date          blue_team  \\\n",
       "0           0  ESPORTSTMNT01_2700815  2022-01-12 06:20:03                DRX   \n",
       "1           1  ESPORTSTMNT01_2690695  2022-01-12 09:02:13                DRX   \n",
       "2           2  ESPORTSTMNT01_2690705  2022-01-12 10:07:10                 T1   \n",
       "3           3  ESPORTSTMNT01_2690725  2022-01-12 11:49:28   Kwangdong Freecs   \n",
       "4           4  ESPORTSTMNT01_2701248  2022-01-13 06:51:40  Nongshim RedForce   \n",
       "\n",
       "  blue_top blue_jg blue_mid  blue_adc blue_supp             red_team red_top  \\\n",
       "0   Kingen  Pyosik     Zeka      Deft     BeryL         Liiv SANDBOX    Dove   \n",
       "1   Kingen  Pyosik     Zeka      Deft     BeryL         Liiv SANDBOX    Dove   \n",
       "2     Zeus    Oner    Faker  Gumayusi     Keria     Kwangdong Freecs    Kiin   \n",
       "3     Kiin   Ellim     FATE     Teddy      Hoit                   T1    Zeus   \n",
       "4    Canna   Dread      Bdd     Ghost    Effort  Hanwha Life Esports    DuDu   \n",
       "\n",
       "    red_jg red_mid   red_adc red_supp winner  \n",
       "0    Croco  Clozer     Envyy     Kael    Red  \n",
       "1    Croco  Clozer     Envyy     Kael    Red  \n",
       "2    Ellim    FATE     Teddy     Hoit   Blue  \n",
       "3     Oner   Faker  Gumayusi    Keria    Red  \n",
       "4  OnFleek   Karis      SamD     Vsta   Blue  "
      ]
     },
     "execution_count": 83,
     "metadata": {},
     "output_type": "execute_result"
    }
   ],
   "source": [
    "lck2022season.head()"
   ]
  },
  {
   "cell_type": "code",
   "execution_count": 86,
   "metadata": {},
   "outputs": [
    {
     "data": {
      "text/html": [
       "<div>\n",
       "<style scoped>\n",
       "    .dataframe tbody tr th:only-of-type {\n",
       "        vertical-align: middle;\n",
       "    }\n",
       "\n",
       "    .dataframe tbody tr th {\n",
       "        vertical-align: top;\n",
       "    }\n",
       "\n",
       "    .dataframe thead th {\n",
       "        text-align: right;\n",
       "    }\n",
       "</style>\n",
       "<table border=\"1\" class=\"dataframe\">\n",
       "  <thead>\n",
       "    <tr style=\"text-align: right;\">\n",
       "      <th></th>\n",
       "      <th>blue_team</th>\n",
       "      <th>red_team</th>\n",
       "      <th>winner</th>\n",
       "    </tr>\n",
       "  </thead>\n",
       "  <tbody>\n",
       "    <tr>\n",
       "      <th>0</th>\n",
       "      <td>DRX</td>\n",
       "      <td>Liiv SANDBOX</td>\n",
       "      <td>Red</td>\n",
       "    </tr>\n",
       "    <tr>\n",
       "      <th>1</th>\n",
       "      <td>DRX</td>\n",
       "      <td>Liiv SANDBOX</td>\n",
       "      <td>Red</td>\n",
       "    </tr>\n",
       "    <tr>\n",
       "      <th>2</th>\n",
       "      <td>T1</td>\n",
       "      <td>Kwangdong Freecs</td>\n",
       "      <td>Blue</td>\n",
       "    </tr>\n",
       "    <tr>\n",
       "      <th>3</th>\n",
       "      <td>Kwangdong Freecs</td>\n",
       "      <td>T1</td>\n",
       "      <td>Red</td>\n",
       "    </tr>\n",
       "    <tr>\n",
       "      <th>4</th>\n",
       "      <td>Nongshim RedForce</td>\n",
       "      <td>Hanwha Life Esports</td>\n",
       "      <td>Blue</td>\n",
       "    </tr>\n",
       "    <tr>\n",
       "      <th>...</th>\n",
       "      <td>...</td>\n",
       "      <td>...</td>\n",
       "      <td>...</td>\n",
       "    </tr>\n",
       "    <tr>\n",
       "      <th>462</th>\n",
       "      <td>T1</td>\n",
       "      <td>DWG KIA</td>\n",
       "      <td>Red</td>\n",
       "    </tr>\n",
       "    <tr>\n",
       "      <th>463</th>\n",
       "      <td>T1</td>\n",
       "      <td>DWG KIA</td>\n",
       "      <td>Blue</td>\n",
       "    </tr>\n",
       "    <tr>\n",
       "      <th>464</th>\n",
       "      <td>T1</td>\n",
       "      <td>Gen.G</td>\n",
       "      <td>Red</td>\n",
       "    </tr>\n",
       "    <tr>\n",
       "      <th>465</th>\n",
       "      <td>T1</td>\n",
       "      <td>Gen.G</td>\n",
       "      <td>Red</td>\n",
       "    </tr>\n",
       "    <tr>\n",
       "      <th>466</th>\n",
       "      <td>Gen.G</td>\n",
       "      <td>T1</td>\n",
       "      <td>Blue</td>\n",
       "    </tr>\n",
       "  </tbody>\n",
       "</table>\n",
       "<p>467 rows × 3 columns</p>\n",
       "</div>"
      ],
      "text/plain": [
       "             blue_team             red_team winner\n",
       "0                  DRX         Liiv SANDBOX    Red\n",
       "1                  DRX         Liiv SANDBOX    Red\n",
       "2                   T1     Kwangdong Freecs   Blue\n",
       "3     Kwangdong Freecs                   T1    Red\n",
       "4    Nongshim RedForce  Hanwha Life Esports   Blue\n",
       "..                 ...                  ...    ...\n",
       "462                 T1              DWG KIA    Red\n",
       "463                 T1              DWG KIA   Blue\n",
       "464                 T1                Gen.G    Red\n",
       "465                 T1                Gen.G    Red\n",
       "466              Gen.G                   T1   Blue\n",
       "\n",
       "[467 rows x 3 columns]"
      ]
     },
     "execution_count": 86,
     "metadata": {},
     "output_type": "execute_result"
    }
   ],
   "source": [
    "lck_winner = lck2022season[ ['blue_team','red_team','winner'] ]\n",
    "lck_winner"
   ]
  },
  {
   "cell_type": "code",
   "execution_count": 89,
   "metadata": {},
   "outputs": [
    {
     "name": "stderr",
     "output_type": "stream",
     "text": [
      "C:\\Users\\Admin\\AppData\\Local\\Temp\\ipykernel_24672\\56983536.py:2: SettingWithCopyWarning: \n",
      "A value is trying to be set on a copy of a slice from a DataFrame.\n",
      "Try using .loc[row_indexer,col_indexer] = value instead\n",
      "\n",
      "See the caveats in the documentation: https://pandas.pydata.org/pandas-docs/stable/user_guide/indexing.html#returning-a-view-versus-a-copy\n",
      "  lck_winner['win_team'] = np.where( lck_winner['winner'] == 'Red', lck_winner['red_team'], lck_winner['blue_team'])\n"
     ]
    }
   ],
   "source": [
    "import numpy as np\n",
    "lck_winner['win_team'] = np.where( lck_winner['winner'] == 'Red', lck_winner['red_team'], lck_winner['blue_team'])"
   ]
  },
  {
   "cell_type": "code",
   "execution_count": 90,
   "metadata": {},
   "outputs": [
    {
     "data": {
      "text/html": [
       "<div>\n",
       "<style scoped>\n",
       "    .dataframe tbody tr th:only-of-type {\n",
       "        vertical-align: middle;\n",
       "    }\n",
       "\n",
       "    .dataframe tbody tr th {\n",
       "        vertical-align: top;\n",
       "    }\n",
       "\n",
       "    .dataframe thead th {\n",
       "        text-align: right;\n",
       "    }\n",
       "</style>\n",
       "<table border=\"1\" class=\"dataframe\">\n",
       "  <thead>\n",
       "    <tr style=\"text-align: right;\">\n",
       "      <th></th>\n",
       "      <th>blue_team</th>\n",
       "      <th>red_team</th>\n",
       "      <th>winner</th>\n",
       "      <th>win_team</th>\n",
       "    </tr>\n",
       "  </thead>\n",
       "  <tbody>\n",
       "    <tr>\n",
       "      <th>0</th>\n",
       "      <td>DRX</td>\n",
       "      <td>Liiv SANDBOX</td>\n",
       "      <td>Red</td>\n",
       "      <td>Liiv SANDBOX</td>\n",
       "    </tr>\n",
       "    <tr>\n",
       "      <th>1</th>\n",
       "      <td>DRX</td>\n",
       "      <td>Liiv SANDBOX</td>\n",
       "      <td>Red</td>\n",
       "      <td>Liiv SANDBOX</td>\n",
       "    </tr>\n",
       "    <tr>\n",
       "      <th>2</th>\n",
       "      <td>T1</td>\n",
       "      <td>Kwangdong Freecs</td>\n",
       "      <td>Blue</td>\n",
       "      <td>T1</td>\n",
       "    </tr>\n",
       "    <tr>\n",
       "      <th>3</th>\n",
       "      <td>Kwangdong Freecs</td>\n",
       "      <td>T1</td>\n",
       "      <td>Red</td>\n",
       "      <td>T1</td>\n",
       "    </tr>\n",
       "    <tr>\n",
       "      <th>4</th>\n",
       "      <td>Nongshim RedForce</td>\n",
       "      <td>Hanwha Life Esports</td>\n",
       "      <td>Blue</td>\n",
       "      <td>Nongshim RedForce</td>\n",
       "    </tr>\n",
       "    <tr>\n",
       "      <th>...</th>\n",
       "      <td>...</td>\n",
       "      <td>...</td>\n",
       "      <td>...</td>\n",
       "      <td>...</td>\n",
       "    </tr>\n",
       "    <tr>\n",
       "      <th>462</th>\n",
       "      <td>T1</td>\n",
       "      <td>DWG KIA</td>\n",
       "      <td>Red</td>\n",
       "      <td>DWG KIA</td>\n",
       "    </tr>\n",
       "    <tr>\n",
       "      <th>463</th>\n",
       "      <td>T1</td>\n",
       "      <td>DWG KIA</td>\n",
       "      <td>Blue</td>\n",
       "      <td>T1</td>\n",
       "    </tr>\n",
       "    <tr>\n",
       "      <th>464</th>\n",
       "      <td>T1</td>\n",
       "      <td>Gen.G</td>\n",
       "      <td>Red</td>\n",
       "      <td>Gen.G</td>\n",
       "    </tr>\n",
       "    <tr>\n",
       "      <th>465</th>\n",
       "      <td>T1</td>\n",
       "      <td>Gen.G</td>\n",
       "      <td>Red</td>\n",
       "      <td>Gen.G</td>\n",
       "    </tr>\n",
       "    <tr>\n",
       "      <th>466</th>\n",
       "      <td>Gen.G</td>\n",
       "      <td>T1</td>\n",
       "      <td>Blue</td>\n",
       "      <td>Gen.G</td>\n",
       "    </tr>\n",
       "  </tbody>\n",
       "</table>\n",
       "<p>467 rows × 4 columns</p>\n",
       "</div>"
      ],
      "text/plain": [
       "             blue_team             red_team winner           win_team\n",
       "0                  DRX         Liiv SANDBOX    Red       Liiv SANDBOX\n",
       "1                  DRX         Liiv SANDBOX    Red       Liiv SANDBOX\n",
       "2                   T1     Kwangdong Freecs   Blue                 T1\n",
       "3     Kwangdong Freecs                   T1    Red                 T1\n",
       "4    Nongshim RedForce  Hanwha Life Esports   Blue  Nongshim RedForce\n",
       "..                 ...                  ...    ...                ...\n",
       "462                 T1              DWG KIA    Red            DWG KIA\n",
       "463                 T1              DWG KIA   Blue                 T1\n",
       "464                 T1                Gen.G    Red              Gen.G\n",
       "465                 T1                Gen.G    Red              Gen.G\n",
       "466              Gen.G                   T1   Blue              Gen.G\n",
       "\n",
       "[467 rows x 4 columns]"
      ]
     },
     "execution_count": 90,
     "metadata": {},
     "output_type": "execute_result"
    }
   ],
   "source": [
    "lck_winner"
   ]
  },
  {
   "cell_type": "code",
   "execution_count": 97,
   "metadata": {},
   "outputs": [
    {
     "data": {
      "text/html": [
       "<div>\n",
       "<style scoped>\n",
       "    .dataframe tbody tr th:only-of-type {\n",
       "        vertical-align: middle;\n",
       "    }\n",
       "\n",
       "    .dataframe tbody tr th {\n",
       "        vertical-align: top;\n",
       "    }\n",
       "\n",
       "    .dataframe thead th {\n",
       "        text-align: right;\n",
       "    }\n",
       "</style>\n",
       "<table border=\"1\" class=\"dataframe\">\n",
       "  <thead>\n",
       "    <tr style=\"text-align: right;\">\n",
       "      <th></th>\n",
       "      <th>blue_team</th>\n",
       "      <th>red_team</th>\n",
       "      <th>winner</th>\n",
       "      <th>win_team</th>\n",
       "    </tr>\n",
       "  </thead>\n",
       "  <tbody>\n",
       "    <tr>\n",
       "      <th>0</th>\n",
       "      <td>DRX</td>\n",
       "      <td>Liiv SANDBOX</td>\n",
       "      <td>Red</td>\n",
       "      <td>Liiv SANDBOX</td>\n",
       "    </tr>\n",
       "    <tr>\n",
       "      <th>1</th>\n",
       "      <td>DRX</td>\n",
       "      <td>Liiv SANDBOX</td>\n",
       "      <td>Red</td>\n",
       "      <td>Liiv SANDBOX</td>\n",
       "    </tr>\n",
       "    <tr>\n",
       "      <th>9</th>\n",
       "      <td>DRX</td>\n",
       "      <td>Gen.G</td>\n",
       "      <td>Red</td>\n",
       "      <td>Gen.G</td>\n",
       "    </tr>\n",
       "    <tr>\n",
       "      <th>10</th>\n",
       "      <td>Gen.G</td>\n",
       "      <td>DRX</td>\n",
       "      <td>Blue</td>\n",
       "      <td>Gen.G</td>\n",
       "    </tr>\n",
       "    <tr>\n",
       "      <th>29</th>\n",
       "      <td>DRX</td>\n",
       "      <td>T1</td>\n",
       "      <td>Red</td>\n",
       "      <td>T1</td>\n",
       "    </tr>\n",
       "    <tr>\n",
       "      <th>...</th>\n",
       "      <td>...</td>\n",
       "      <td>...</td>\n",
       "      <td>...</td>\n",
       "      <td>...</td>\n",
       "    </tr>\n",
       "    <tr>\n",
       "      <th>443</th>\n",
       "      <td>DRX</td>\n",
       "      <td>Hanwha Life Esports</td>\n",
       "      <td>Red</td>\n",
       "      <td>Hanwha Life Esports</td>\n",
       "    </tr>\n",
       "    <tr>\n",
       "      <th>446</th>\n",
       "      <td>Liiv SANDBOX</td>\n",
       "      <td>DRX</td>\n",
       "      <td>Blue</td>\n",
       "      <td>Liiv SANDBOX</td>\n",
       "    </tr>\n",
       "    <tr>\n",
       "      <th>447</th>\n",
       "      <td>DRX</td>\n",
       "      <td>Liiv SANDBOX</td>\n",
       "      <td>Red</td>\n",
       "      <td>Liiv SANDBOX</td>\n",
       "    </tr>\n",
       "    <tr>\n",
       "      <th>448</th>\n",
       "      <td>DRX</td>\n",
       "      <td>Liiv SANDBOX</td>\n",
       "      <td>Blue</td>\n",
       "      <td>DRX</td>\n",
       "    </tr>\n",
       "    <tr>\n",
       "      <th>449</th>\n",
       "      <td>Liiv SANDBOX</td>\n",
       "      <td>DRX</td>\n",
       "      <td>Blue</td>\n",
       "      <td>Liiv SANDBOX</td>\n",
       "    </tr>\n",
       "  </tbody>\n",
       "</table>\n",
       "<p>95 rows × 4 columns</p>\n",
       "</div>"
      ],
      "text/plain": [
       "        blue_team             red_team winner             win_team\n",
       "0             DRX         Liiv SANDBOX    Red         Liiv SANDBOX\n",
       "1             DRX         Liiv SANDBOX    Red         Liiv SANDBOX\n",
       "9             DRX                Gen.G    Red                Gen.G\n",
       "10          Gen.G                  DRX   Blue                Gen.G\n",
       "29            DRX                   T1    Red                   T1\n",
       "..            ...                  ...    ...                  ...\n",
       "443           DRX  Hanwha Life Esports    Red  Hanwha Life Esports\n",
       "446  Liiv SANDBOX                  DRX   Blue         Liiv SANDBOX\n",
       "447           DRX         Liiv SANDBOX    Red         Liiv SANDBOX\n",
       "448           DRX         Liiv SANDBOX   Blue                  DRX\n",
       "449  Liiv SANDBOX                  DRX   Blue         Liiv SANDBOX\n",
       "\n",
       "[95 rows x 4 columns]"
      ]
     },
     "execution_count": 97,
     "metadata": {},
     "output_type": "execute_result"
    }
   ],
   "source": [
    "lck_drx_match = lck_winner[ (lck_winner['blue_team'] == 'DRX') | (lck_winner['red_team'] =='DRX') ]\n",
    "lck_drx_match"
   ]
  },
  {
   "cell_type": "code",
   "execution_count": 100,
   "metadata": {},
   "outputs": [
    {
     "data": {
      "text/plain": [
       "blue_team    47\n",
       "red_team     47\n",
       "winner       47\n",
       "win_team     47\n",
       "dtype: int64"
      ]
     },
     "execution_count": 100,
     "metadata": {},
     "output_type": "execute_result"
    }
   ],
   "source": [
    "lck_drx_match[ lck_drx_match['win_team'] == 'DRX' ].count() #47 번의 승리"
   ]
  },
  {
   "cell_type": "code",
   "execution_count": 101,
   "metadata": {},
   "outputs": [
    {
     "data": {
      "text/plain": [
       "blue_team    48\n",
       "red_team     48\n",
       "winner       48\n",
       "win_team     48\n",
       "dtype: int64"
      ]
     },
     "execution_count": 101,
     "metadata": {},
     "output_type": "execute_result"
    }
   ],
   "source": [
    "lck_drx_match[ lck_drx_match['win_team'] != 'DRX' ].count() #48번의 패배"
   ]
  },
  {
   "cell_type": "markdown",
   "metadata": {},
   "source": [
    "---"
   ]
  },
  {
   "cell_type": "markdown",
   "metadata": {},
   "source": [
    "> champions 데이터 정의 테이블\n",
    "\n",
    "| 변수명 | 정의 |\n",
    "|------|:-------------------------------------|\n",
    "| champion | 챔피언명 |\n",
    "| sum_total | 총 pick 횟수 |\n",
    "| win_total | 이긴 pick 횟수 |"
   ]
  },
  {
   "cell_type": "code",
   "execution_count": 8,
   "metadata": {},
   "outputs": [
    {
     "name": "stdout",
     "output_type": "stream",
     "text": [
      "<class 'pandas.core.frame.DataFrame'>\n",
      "RangeIndex: 108 entries, 0 to 107\n",
      "Data columns (total 19 columns):\n",
      " #   Column             Non-Null Count  Dtype \n",
      "---  ------             --------------  ----- \n",
      " 0   Unnamed: 0         108 non-null    int64 \n",
      " 1   champion           108 non-null    object\n",
      " 2   sum_total          108 non-null    int64 \n",
      " 3   win_total          108 non-null    int64 \n",
      " 4   lose_total         108 non-null    int64 \n",
      " 5   winrate_total      108 non-null    object\n",
      " 6   pick_rate          108 non-null    object\n",
      " 7   sum_blue_side      108 non-null    int64 \n",
      " 8   win_blue_side      108 non-null    int64 \n",
      " 9   lose_blue_side     108 non-null    int64 \n",
      " 10  winrate_blue_side  108 non-null    object\n",
      " 11  sum_red_side       108 non-null    int64 \n",
      " 12  win_red_side       108 non-null    int64 \n",
      " 13  lose_red_side      108 non-null    int64 \n",
      " 14  winrate_red_side   108 non-null    object\n",
      " 15  sum_bans           108 non-null    int64 \n",
      " 16  ban_rate           108 non-null    object\n",
      " 17  sum_pick_ban       108 non-null    int64 \n",
      " 18  pick_ban_rate      108 non-null    object\n",
      "dtypes: int64(12), object(7)\n",
      "memory usage: 16.2+ KB\n"
     ]
    }
   ],
   "source": [
    "champions.info()"
   ]
  },
  {
   "cell_type": "code",
   "execution_count": 4,
   "metadata": {},
   "outputs": [
    {
     "data": {
      "text/html": [
       "<div>\n",
       "<style scoped>\n",
       "    .dataframe tbody tr th:only-of-type {\n",
       "        vertical-align: middle;\n",
       "    }\n",
       "\n",
       "    .dataframe tbody tr th {\n",
       "        vertical-align: top;\n",
       "    }\n",
       "\n",
       "    .dataframe thead th {\n",
       "        text-align: right;\n",
       "    }\n",
       "</style>\n",
       "<table border=\"1\" class=\"dataframe\">\n",
       "  <thead>\n",
       "    <tr style=\"text-align: right;\">\n",
       "      <th></th>\n",
       "      <th>Unnamed: 0</th>\n",
       "      <th>champion</th>\n",
       "      <th>sum_total</th>\n",
       "      <th>win_total</th>\n",
       "      <th>lose_total</th>\n",
       "      <th>winrate_total</th>\n",
       "      <th>pick_rate</th>\n",
       "      <th>sum_blue_side</th>\n",
       "      <th>win_blue_side</th>\n",
       "      <th>lose_blue_side</th>\n",
       "      <th>winrate_blue_side</th>\n",
       "      <th>sum_red_side</th>\n",
       "      <th>win_red_side</th>\n",
       "      <th>lose_red_side</th>\n",
       "      <th>winrate_red_side</th>\n",
       "      <th>sum_bans</th>\n",
       "      <th>ban_rate</th>\n",
       "      <th>sum_pick_ban</th>\n",
       "      <th>pick_ban_rate</th>\n",
       "    </tr>\n",
       "  </thead>\n",
       "  <tbody>\n",
       "    <tr>\n",
       "      <th>0</th>\n",
       "      <td>0</td>\n",
       "      <td>Sylas</td>\n",
       "      <td>50</td>\n",
       "      <td>33</td>\n",
       "      <td>17</td>\n",
       "      <td>66.00%</td>\n",
       "      <td>39.37%</td>\n",
       "      <td>28</td>\n",
       "      <td>21</td>\n",
       "      <td>7</td>\n",
       "      <td>75.00%</td>\n",
       "      <td>22</td>\n",
       "      <td>12</td>\n",
       "      <td>10</td>\n",
       "      <td>54.55%</td>\n",
       "      <td>49</td>\n",
       "      <td>38.58%</td>\n",
       "      <td>99</td>\n",
       "      <td>77.95%</td>\n",
       "    </tr>\n",
       "    <tr>\n",
       "      <th>1</th>\n",
       "      <td>1</td>\n",
       "      <td>Sejuani</td>\n",
       "      <td>49</td>\n",
       "      <td>24</td>\n",
       "      <td>25</td>\n",
       "      <td>48.98%</td>\n",
       "      <td>38.58%</td>\n",
       "      <td>23</td>\n",
       "      <td>12</td>\n",
       "      <td>11</td>\n",
       "      <td>52.17%</td>\n",
       "      <td>26</td>\n",
       "      <td>12</td>\n",
       "      <td>14</td>\n",
       "      <td>46.15%</td>\n",
       "      <td>57</td>\n",
       "      <td>44.88%</td>\n",
       "      <td>106</td>\n",
       "      <td>83.46%</td>\n",
       "    </tr>\n",
       "    <tr>\n",
       "      <th>2</th>\n",
       "      <td>2</td>\n",
       "      <td>Azir</td>\n",
       "      <td>48</td>\n",
       "      <td>24</td>\n",
       "      <td>24</td>\n",
       "      <td>50.00%</td>\n",
       "      <td>37.80%</td>\n",
       "      <td>27</td>\n",
       "      <td>14</td>\n",
       "      <td>13</td>\n",
       "      <td>51.85%</td>\n",
       "      <td>21</td>\n",
       "      <td>10</td>\n",
       "      <td>11</td>\n",
       "      <td>47.62%</td>\n",
       "      <td>43</td>\n",
       "      <td>33.86%</td>\n",
       "      <td>91</td>\n",
       "      <td>71.65%</td>\n",
       "    </tr>\n",
       "    <tr>\n",
       "      <th>3</th>\n",
       "      <td>3</td>\n",
       "      <td>Aatrox</td>\n",
       "      <td>46</td>\n",
       "      <td>29</td>\n",
       "      <td>17</td>\n",
       "      <td>63.04%</td>\n",
       "      <td>36.22%</td>\n",
       "      <td>35</td>\n",
       "      <td>24</td>\n",
       "      <td>11</td>\n",
       "      <td>68.57%</td>\n",
       "      <td>11</td>\n",
       "      <td>5</td>\n",
       "      <td>6</td>\n",
       "      <td>45.45%</td>\n",
       "      <td>79</td>\n",
       "      <td>62.20%</td>\n",
       "      <td>125</td>\n",
       "      <td>98.43%</td>\n",
       "    </tr>\n",
       "    <tr>\n",
       "      <th>4</th>\n",
       "      <td>4</td>\n",
       "      <td>Aphelios</td>\n",
       "      <td>43</td>\n",
       "      <td>23</td>\n",
       "      <td>20</td>\n",
       "      <td>53.49%</td>\n",
       "      <td>33.86%</td>\n",
       "      <td>20</td>\n",
       "      <td>10</td>\n",
       "      <td>10</td>\n",
       "      <td>50.00%</td>\n",
       "      <td>23</td>\n",
       "      <td>13</td>\n",
       "      <td>10</td>\n",
       "      <td>56.52%</td>\n",
       "      <td>20</td>\n",
       "      <td>15.75%</td>\n",
       "      <td>63</td>\n",
       "      <td>49.61%</td>\n",
       "    </tr>\n",
       "  </tbody>\n",
       "</table>\n",
       "</div>"
      ],
      "text/plain": [
       "   Unnamed: 0  champion  sum_total  win_total  lose_total winrate_total  \\\n",
       "0           0     Sylas         50         33          17        66.00%   \n",
       "1           1   Sejuani         49         24          25        48.98%   \n",
       "2           2      Azir         48         24          24        50.00%   \n",
       "3           3    Aatrox         46         29          17        63.04%   \n",
       "4           4  Aphelios         43         23          20        53.49%   \n",
       "\n",
       "  pick_rate  sum_blue_side  win_blue_side  lose_blue_side winrate_blue_side  \\\n",
       "0    39.37%             28             21               7            75.00%   \n",
       "1    38.58%             23             12              11            52.17%   \n",
       "2    37.80%             27             14              13            51.85%   \n",
       "3    36.22%             35             24              11            68.57%   \n",
       "4    33.86%             20             10              10            50.00%   \n",
       "\n",
       "   sum_red_side  win_red_side  lose_red_side winrate_red_side  sum_bans  \\\n",
       "0            22            12             10           54.55%        49   \n",
       "1            26            12             14           46.15%        57   \n",
       "2            21            10             11           47.62%        43   \n",
       "3            11             5              6           45.45%        79   \n",
       "4            23            13             10           56.52%        20   \n",
       "\n",
       "  ban_rate  sum_pick_ban pick_ban_rate  \n",
       "0   38.58%            99        77.95%  \n",
       "1   44.88%           106        83.46%  \n",
       "2   33.86%            91        71.65%  \n",
       "3   62.20%           125        98.43%  \n",
       "4   15.75%            63        49.61%  "
      ]
     },
     "execution_count": 4,
     "metadata": {},
     "output_type": "execute_result"
    }
   ],
   "source": [
    "champions.head()"
   ]
  },
  {
   "cell_type": "markdown",
   "metadata": {},
   "source": [
    "---"
   ]
  },
  {
   "cell_type": "markdown",
   "metadata": {},
   "source": [
    "players_main"
   ]
  },
  {
   "cell_type": "code",
   "execution_count": 10,
   "metadata": {},
   "outputs": [
    {
     "name": "stdout",
     "output_type": "stream",
     "text": [
      "<class 'pandas.core.frame.DataFrame'>\n",
      "RangeIndex: 82 entries, 0 to 81\n",
      "Data columns (total 28 columns):\n",
      " #   Column                     Non-Null Count  Dtype  \n",
      "---  ------                     --------------  -----  \n",
      " 0   player                     82 non-null     object \n",
      " 1   team                       82 non-null     object \n",
      " 2   position                   82 non-null     object \n",
      " 3   gold_per_minute            82 non-null     int64  \n",
      " 4   winrate                    82 non-null     object \n",
      " 5   counter_pickrate           82 non-null     object \n",
      " 6   kills                      82 non-null     int64  \n",
      " 7   deaths                     82 non-null     int64  \n",
      " 8   assists                    82 non-null     int64  \n",
      " 9   kda                        82 non-null     float64\n",
      " 10  kp                         82 non-null     object \n",
      " 11  kill_share                 82 non-null     object \n",
      " 12  share_team_deaths          82 non-null     object \n",
      " 13  first_blood_rate           82 non-null     object \n",
      " 14  gold_diff_10               82 non-null     int64  \n",
      " 15  xp_diff_10                 82 non-null     int64  \n",
      " 16  cs_diff_10                 82 non-null     float64\n",
      " 17  cspm                       82 non-null     float64\n",
      " 18  share_team_deaths_15       82 non-null     object \n",
      " 19  damage_per_minute          82 non-null     int64  \n",
      " 20  share_damage               82 non-null     object \n",
      " 21  share_team_damage_15       82 non-null     object \n",
      " 22  average_gold_per_minute    82 non-null     int64  \n",
      " 23  gold_share                 82 non-null     object \n",
      " 24  neutral_objectives_stolen  82 non-null     int64  \n",
      " 25  wards_per_minute           82 non-null     float64\n",
      " 26  control_wards_per_minute   82 non-null     float64\n",
      " 27  wards_cleared_per_minute   82 non-null     float64\n",
      "dtypes: float64(6), int64(9), object(13)\n",
      "memory usage: 18.1+ KB\n"
     ]
    }
   ],
   "source": [
    "players_main.info()"
   ]
  },
  {
   "cell_type": "code",
   "execution_count": 11,
   "metadata": {},
   "outputs": [
    {
     "data": {
      "text/html": [
       "<div>\n",
       "<style scoped>\n",
       "    .dataframe tbody tr th:only-of-type {\n",
       "        vertical-align: middle;\n",
       "    }\n",
       "\n",
       "    .dataframe tbody tr th {\n",
       "        vertical-align: top;\n",
       "    }\n",
       "\n",
       "    .dataframe thead th {\n",
       "        text-align: right;\n",
       "    }\n",
       "</style>\n",
       "<table border=\"1\" class=\"dataframe\">\n",
       "  <thead>\n",
       "    <tr style=\"text-align: right;\">\n",
       "      <th></th>\n",
       "      <th>player</th>\n",
       "      <th>team</th>\n",
       "      <th>position</th>\n",
       "      <th>gold_per_minute</th>\n",
       "      <th>winrate</th>\n",
       "      <th>counter_pickrate</th>\n",
       "      <th>kills</th>\n",
       "      <th>deaths</th>\n",
       "      <th>assists</th>\n",
       "      <th>kda</th>\n",
       "      <th>...</th>\n",
       "      <th>share_team_deaths_15</th>\n",
       "      <th>damage_per_minute</th>\n",
       "      <th>share_damage</th>\n",
       "      <th>share_team_damage_15</th>\n",
       "      <th>average_gold_per_minute</th>\n",
       "      <th>gold_share</th>\n",
       "      <th>neutral_objectives_stolen</th>\n",
       "      <th>wards_per_minute</th>\n",
       "      <th>control_wards_per_minute</th>\n",
       "      <th>wards_cleared_per_minute</th>\n",
       "    </tr>\n",
       "  </thead>\n",
       "  <tbody>\n",
       "    <tr>\n",
       "      <th>0</th>\n",
       "      <td>369</td>\n",
       "      <td>JD Gaming</td>\n",
       "      <td>Top</td>\n",
       "      <td>14</td>\n",
       "      <td>71%</td>\n",
       "      <td>57%</td>\n",
       "      <td>46</td>\n",
       "      <td>47</td>\n",
       "      <td>89</td>\n",
       "      <td>2.9</td>\n",
       "      <td>...</td>\n",
       "      <td>21.1%</td>\n",
       "      <td>594</td>\n",
       "      <td>25.1%</td>\n",
       "      <td>22.7%</td>\n",
       "      <td>265</td>\n",
       "      <td>21.6%</td>\n",
       "      <td>0</td>\n",
       "      <td>0.38</td>\n",
       "      <td>0.17</td>\n",
       "      <td>0.22</td>\n",
       "    </tr>\n",
       "    <tr>\n",
       "      <th>1</th>\n",
       "      <td>Abbedagge</td>\n",
       "      <td>100 Thieves</td>\n",
       "      <td>Middle</td>\n",
       "      <td>6</td>\n",
       "      <td>17%</td>\n",
       "      <td>67%</td>\n",
       "      <td>11</td>\n",
       "      <td>17</td>\n",
       "      <td>23</td>\n",
       "      <td>2.0</td>\n",
       "      <td>...</td>\n",
       "      <td>26.4%</td>\n",
       "      <td>454</td>\n",
       "      <td>27.2%</td>\n",
       "      <td>29.4%</td>\n",
       "      <td>246</td>\n",
       "      <td>24.2%</td>\n",
       "      <td>0</td>\n",
       "      <td>0.42</td>\n",
       "      <td>0.17</td>\n",
       "      <td>0.17</td>\n",
       "    </tr>\n",
       "    <tr>\n",
       "      <th>2</th>\n",
       "      <td>Atlen</td>\n",
       "      <td>CTBC Flying Oyster</td>\n",
       "      <td>ADC</td>\n",
       "      <td>1</td>\n",
       "      <td>0%</td>\n",
       "      <td>100%</td>\n",
       "      <td>3</td>\n",
       "      <td>5</td>\n",
       "      <td>2</td>\n",
       "      <td>1.0</td>\n",
       "      <td>...</td>\n",
       "      <td>23.0%</td>\n",
       "      <td>163</td>\n",
       "      <td>11.2%</td>\n",
       "      <td>8.5%</td>\n",
       "      <td>271</td>\n",
       "      <td>26.6%</td>\n",
       "      <td>0</td>\n",
       "      <td>0.38</td>\n",
       "      <td>0.16</td>\n",
       "      <td>0.41</td>\n",
       "    </tr>\n",
       "    <tr>\n",
       "      <th>3</th>\n",
       "      <td>Berserker</td>\n",
       "      <td>Cloud9</td>\n",
       "      <td>ADC</td>\n",
       "      <td>6</td>\n",
       "      <td>17%</td>\n",
       "      <td>83%</td>\n",
       "      <td>8</td>\n",
       "      <td>12</td>\n",
       "      <td>16</td>\n",
       "      <td>2.0</td>\n",
       "      <td>...</td>\n",
       "      <td>31.1%</td>\n",
       "      <td>389</td>\n",
       "      <td>22.2%</td>\n",
       "      <td>25.1%</td>\n",
       "      <td>246</td>\n",
       "      <td>25.9%</td>\n",
       "      <td>0</td>\n",
       "      <td>0.45</td>\n",
       "      <td>0.10</td>\n",
       "      <td>0.16</td>\n",
       "    </tr>\n",
       "    <tr>\n",
       "      <th>4</th>\n",
       "      <td>BeryL</td>\n",
       "      <td>DRX</td>\n",
       "      <td>Support</td>\n",
       "      <td>21</td>\n",
       "      <td>67%</td>\n",
       "      <td>57%</td>\n",
       "      <td>16</td>\n",
       "      <td>47</td>\n",
       "      <td>168</td>\n",
       "      <td>3.9</td>\n",
       "      <td>...</td>\n",
       "      <td>3.6%</td>\n",
       "      <td>292</td>\n",
       "      <td>13.3%</td>\n",
       "      <td>11.7%</td>\n",
       "      <td>120</td>\n",
       "      <td>10.1%</td>\n",
       "      <td>0</td>\n",
       "      <td>1.64</td>\n",
       "      <td>0.46</td>\n",
       "      <td>0.41</td>\n",
       "    </tr>\n",
       "  </tbody>\n",
       "</table>\n",
       "<p>5 rows × 28 columns</p>\n",
       "</div>"
      ],
      "text/plain": [
       "      player                team position  gold_per_minute winrate  \\\n",
       "0        369           JD Gaming      Top               14     71%   \n",
       "1  Abbedagge         100 Thieves   Middle                6     17%   \n",
       "2      Atlen  CTBC Flying Oyster      ADC                1      0%   \n",
       "3  Berserker              Cloud9      ADC                6     17%   \n",
       "4      BeryL                 DRX  Support               21     67%   \n",
       "\n",
       "  counter_pickrate  kills  deaths  assists  kda  ... share_team_deaths_15  \\\n",
       "0              57%     46      47       89  2.9  ...                21.1%   \n",
       "1              67%     11      17       23  2.0  ...                26.4%   \n",
       "2             100%      3       5        2  1.0  ...                23.0%   \n",
       "3              83%      8      12       16  2.0  ...                31.1%   \n",
       "4              57%     16      47      168  3.9  ...                 3.6%   \n",
       "\n",
       "  damage_per_minute share_damage share_team_damage_15  \\\n",
       "0               594        25.1%                22.7%   \n",
       "1               454        27.2%                29.4%   \n",
       "2               163        11.2%                 8.5%   \n",
       "3               389        22.2%                25.1%   \n",
       "4               292        13.3%                11.7%   \n",
       "\n",
       "   average_gold_per_minute  gold_share  neutral_objectives_stolen  \\\n",
       "0                      265       21.6%                          0   \n",
       "1                      246       24.2%                          0   \n",
       "2                      271       26.6%                          0   \n",
       "3                      246       25.9%                          0   \n",
       "4                      120       10.1%                          0   \n",
       "\n",
       "   wards_per_minute control_wards_per_minute  wards_cleared_per_minute  \n",
       "0              0.38                     0.17                      0.22  \n",
       "1              0.42                     0.17                      0.17  \n",
       "2              0.38                     0.16                      0.41  \n",
       "3              0.45                     0.10                      0.16  \n",
       "4              1.64                     0.46                      0.41  \n",
       "\n",
       "[5 rows x 28 columns]"
      ]
     },
     "execution_count": 11,
     "metadata": {},
     "output_type": "execute_result"
    }
   ],
   "source": [
    "players_main.head()"
   ]
  },
  {
   "cell_type": "markdown",
   "metadata": {},
   "source": [
    "---"
   ]
  },
  {
   "cell_type": "code",
   "execution_count": 12,
   "metadata": {},
   "outputs": [
    {
     "name": "stdout",
     "output_type": "stream",
     "text": [
      "<class 'pandas.core.frame.DataFrame'>\n",
      "RangeIndex: 63 entries, 0 to 62\n",
      "Data columns (total 28 columns):\n",
      " #   Column                     Non-Null Count  Dtype  \n",
      "---  ------                     --------------  -----  \n",
      " 0   player                     63 non-null     object \n",
      " 1   team                       63 non-null     object \n",
      " 2   position                   63 non-null     object \n",
      " 3   gold_per_minute            63 non-null     int64  \n",
      " 4   winrate                    63 non-null     object \n",
      " 5   counter_pickrate           63 non-null     object \n",
      " 6   kills                      63 non-null     int64  \n",
      " 7   deaths                     63 non-null     int64  \n",
      " 8   assists                    63 non-null     int64  \n",
      " 9   kda                        63 non-null     float64\n",
      " 10  kp                         63 non-null     object \n",
      " 11  kill_share                 63 non-null     object \n",
      " 12  share_team_deaths          63 non-null     object \n",
      " 13  first_blood_rate           63 non-null     object \n",
      " 14  gold_diff_10               63 non-null     int64  \n",
      " 15  xp_diff_10                 63 non-null     int64  \n",
      " 16  cs_diff_10                 63 non-null     float64\n",
      " 17  cspm                       63 non-null     float64\n",
      " 18  share_team_deaths_15       63 non-null     object \n",
      " 19  damage_per_minute          63 non-null     int64  \n",
      " 20  share_damage               63 non-null     object \n",
      " 21  share_team_damage_15       63 non-null     object \n",
      " 22  average_gold_per_minute    63 non-null     int64  \n",
      " 23  gold_share                 63 non-null     object \n",
      " 24  neutral_objectives_stolen  63 non-null     int64  \n",
      " 25  wards_per_minute           63 non-null     float64\n",
      " 26  control_wards_per_minute   63 non-null     float64\n",
      " 27  wards_cleared_per_minute   63 non-null     float64\n",
      "dtypes: float64(6), int64(9), object(13)\n",
      "memory usage: 13.9+ KB\n"
     ]
    }
   ],
   "source": [
    "players_pi.info()"
   ]
  },
  {
   "cell_type": "code",
   "execution_count": 13,
   "metadata": {},
   "outputs": [
    {
     "data": {
      "text/html": [
       "<div>\n",
       "<style scoped>\n",
       "    .dataframe tbody tr th:only-of-type {\n",
       "        vertical-align: middle;\n",
       "    }\n",
       "\n",
       "    .dataframe tbody tr th {\n",
       "        vertical-align: top;\n",
       "    }\n",
       "\n",
       "    .dataframe thead th {\n",
       "        text-align: right;\n",
       "    }\n",
       "</style>\n",
       "<table border=\"1\" class=\"dataframe\">\n",
       "  <thead>\n",
       "    <tr style=\"text-align: right;\">\n",
       "      <th></th>\n",
       "      <th>player</th>\n",
       "      <th>team</th>\n",
       "      <th>position</th>\n",
       "      <th>gold_per_minute</th>\n",
       "      <th>winrate</th>\n",
       "      <th>counter_pickrate</th>\n",
       "      <th>kills</th>\n",
       "      <th>deaths</th>\n",
       "      <th>assists</th>\n",
       "      <th>kda</th>\n",
       "      <th>...</th>\n",
       "      <th>share_team_deaths_15</th>\n",
       "      <th>damage_per_minute</th>\n",
       "      <th>share_damage</th>\n",
       "      <th>share_team_damage_15</th>\n",
       "      <th>average_gold_per_minute</th>\n",
       "      <th>gold_share</th>\n",
       "      <th>neutral_objectives_stolen</th>\n",
       "      <th>wards_per_minute</th>\n",
       "      <th>control_wards_per_minute</th>\n",
       "      <th>wards_cleared_per_minute</th>\n",
       "    </tr>\n",
       "  </thead>\n",
       "  <tbody>\n",
       "    <tr>\n",
       "      <th>0</th>\n",
       "      <td>ADD</td>\n",
       "      <td>Isurus</td>\n",
       "      <td>Top</td>\n",
       "      <td>5</td>\n",
       "      <td>20%</td>\n",
       "      <td>60%</td>\n",
       "      <td>13</td>\n",
       "      <td>25</td>\n",
       "      <td>23</td>\n",
       "      <td>1.4</td>\n",
       "      <td>...</td>\n",
       "      <td>20.5%</td>\n",
       "      <td>519</td>\n",
       "      <td>26.5%</td>\n",
       "      <td>25.3%</td>\n",
       "      <td>206</td>\n",
       "      <td>21.5%</td>\n",
       "      <td>0</td>\n",
       "      <td>0.39</td>\n",
       "      <td>0.11</td>\n",
       "      <td>0.25</td>\n",
       "    </tr>\n",
       "    <tr>\n",
       "      <th>1</th>\n",
       "      <td>Aladoric</td>\n",
       "      <td>Chiefs Esports Club</td>\n",
       "      <td>Support</td>\n",
       "      <td>5</td>\n",
       "      <td>0%</td>\n",
       "      <td>80%</td>\n",
       "      <td>2</td>\n",
       "      <td>21</td>\n",
       "      <td>28</td>\n",
       "      <td>1.4</td>\n",
       "      <td>...</td>\n",
       "      <td>2.3%</td>\n",
       "      <td>143</td>\n",
       "      <td>7.5%</td>\n",
       "      <td>6.3%</td>\n",
       "      <td>77</td>\n",
       "      <td>8.1%</td>\n",
       "      <td>0</td>\n",
       "      <td>1.56</td>\n",
       "      <td>0.47</td>\n",
       "      <td>0.26</td>\n",
       "    </tr>\n",
       "    <tr>\n",
       "      <th>2</th>\n",
       "      <td>Armut</td>\n",
       "      <td>MAD Lions</td>\n",
       "      <td>Top</td>\n",
       "      <td>12</td>\n",
       "      <td>50%</td>\n",
       "      <td>25%</td>\n",
       "      <td>21</td>\n",
       "      <td>35</td>\n",
       "      <td>76</td>\n",
       "      <td>2.8</td>\n",
       "      <td>...</td>\n",
       "      <td>23.2%</td>\n",
       "      <td>439</td>\n",
       "      <td>22.2%</td>\n",
       "      <td>19.7%</td>\n",
       "      <td>253</td>\n",
       "      <td>21.6%</td>\n",
       "      <td>0</td>\n",
       "      <td>0.49</td>\n",
       "      <td>0.18</td>\n",
       "      <td>0.20</td>\n",
       "    </tr>\n",
       "    <tr>\n",
       "      <th>3</th>\n",
       "      <td>BeanJ</td>\n",
       "      <td>Saigon Buffalo</td>\n",
       "      <td>Jungle</td>\n",
       "      <td>9</td>\n",
       "      <td>33%</td>\n",
       "      <td>44%</td>\n",
       "      <td>17</td>\n",
       "      <td>32</td>\n",
       "      <td>54</td>\n",
       "      <td>2.2</td>\n",
       "      <td>...</td>\n",
       "      <td>13.4%</td>\n",
       "      <td>305</td>\n",
       "      <td>14.8%</td>\n",
       "      <td>13.4%</td>\n",
       "      <td>184</td>\n",
       "      <td>17.1%</td>\n",
       "      <td>1</td>\n",
       "      <td>0.34</td>\n",
       "      <td>0.28</td>\n",
       "      <td>0.28</td>\n",
       "    </tr>\n",
       "    <tr>\n",
       "      <th>4</th>\n",
       "      <td>BeryL</td>\n",
       "      <td>DRX</td>\n",
       "      <td>Support</td>\n",
       "      <td>5</td>\n",
       "      <td>100%</td>\n",
       "      <td>0%</td>\n",
       "      <td>8</td>\n",
       "      <td>7</td>\n",
       "      <td>45</td>\n",
       "      <td>7.6</td>\n",
       "      <td>...</td>\n",
       "      <td>2.2%</td>\n",
       "      <td>230</td>\n",
       "      <td>8.6%</td>\n",
       "      <td>7.9%</td>\n",
       "      <td>123</td>\n",
       "      <td>9.7%</td>\n",
       "      <td>0</td>\n",
       "      <td>1.57</td>\n",
       "      <td>0.42</td>\n",
       "      <td>0.29</td>\n",
       "    </tr>\n",
       "  </tbody>\n",
       "</table>\n",
       "<p>5 rows × 28 columns</p>\n",
       "</div>"
      ],
      "text/plain": [
       "     player                 team position  gold_per_minute winrate  \\\n",
       "0       ADD               Isurus      Top                5     20%   \n",
       "1  Aladoric  Chiefs Esports Club  Support                5      0%   \n",
       "2     Armut            MAD Lions      Top               12     50%   \n",
       "3     BeanJ       Saigon Buffalo   Jungle                9     33%   \n",
       "4     BeryL                  DRX  Support                5    100%   \n",
       "\n",
       "  counter_pickrate  kills  deaths  assists  kda  ... share_team_deaths_15  \\\n",
       "0              60%     13      25       23  1.4  ...                20.5%   \n",
       "1              80%      2      21       28  1.4  ...                 2.3%   \n",
       "2              25%     21      35       76  2.8  ...                23.2%   \n",
       "3              44%     17      32       54  2.2  ...                13.4%   \n",
       "4               0%      8       7       45  7.6  ...                 2.2%   \n",
       "\n",
       "  damage_per_minute share_damage share_team_damage_15  \\\n",
       "0               519        26.5%                25.3%   \n",
       "1               143         7.5%                 6.3%   \n",
       "2               439        22.2%                19.7%   \n",
       "3               305        14.8%                13.4%   \n",
       "4               230         8.6%                 7.9%   \n",
       "\n",
       "   average_gold_per_minute  gold_share  neutral_objectives_stolen  \\\n",
       "0                      206       21.5%                          0   \n",
       "1                       77        8.1%                          0   \n",
       "2                      253       21.6%                          0   \n",
       "3                      184       17.1%                          1   \n",
       "4                      123        9.7%                          0   \n",
       "\n",
       "   wards_per_minute control_wards_per_minute  wards_cleared_per_minute  \n",
       "0              0.39                     0.11                      0.25  \n",
       "1              1.56                     0.47                      0.26  \n",
       "2              0.49                     0.18                      0.20  \n",
       "3              0.34                     0.28                      0.28  \n",
       "4              1.57                     0.42                      0.29  \n",
       "\n",
       "[5 rows x 28 columns]"
      ]
     },
     "execution_count": 13,
     "metadata": {},
     "output_type": "execute_result"
    }
   ],
   "source": [
    "players_pi.head()"
   ]
  },
  {
   "cell_type": "markdown",
   "metadata": {},
   "source": [
    "---"
   ]
  },
  {
   "cell_type": "code",
   "execution_count": 14,
   "metadata": {},
   "outputs": [
    {
     "name": "stdout",
     "output_type": "stream",
     "text": [
      "<class 'pandas.core.frame.DataFrame'>\n",
      "RangeIndex: 16 entries, 0 to 15\n",
      "Data columns (total 29 columns):\n",
      " #   Column                      Non-Null Count  Dtype  \n",
      "---  ------                      --------------  -----  \n",
      " 0   team                        16 non-null     object \n",
      " 1   games_played                16 non-null     int64  \n",
      " 2   wins                        16 non-null     int64  \n",
      " 3   loses                       16 non-null     int64  \n",
      " 4   average_game_duration       16 non-null     float64\n",
      " 5   kills                       16 non-null     int64  \n",
      " 6   deaths                      16 non-null     int64  \n",
      " 7   kd                          16 non-null     float64\n",
      " 8   combined_kills_per_minute   16 non-null     float64\n",
      " 9   gold_percent_rating         16 non-null     float64\n",
      " 10  gold_spent_difference       16 non-null     object \n",
      " 11  early_game_rating           16 non-null     float64\n",
      " 12  mid_late_rating             16 non-null     float64\n",
      " 13  gold_diff_15                16 non-null     int64  \n",
      " 14  first_blood_rate            16 non-null     object \n",
      " 15  first_tower_rate            16 non-null     object \n",
      " 16  first_to_three_towers_rate  16 non-null     object \n",
      " 17  turrent_plates_destroyed    16 non-null     float64\n",
      " 18  rift_herald_rate            16 non-null     object \n",
      " 19  first_dragon_rate           16 non-null     object \n",
      " 20  dragon_control_rate         16 non-null     object \n",
      " 21  elder_dragon_rate           8 non-null      object \n",
      " 22  first_baron_rate            16 non-null     object \n",
      " 23  baron_control_rate          16 non-null     object \n",
      " 24  lane_control                16 non-null     object \n",
      " 25  jungle_control              16 non-null     object \n",
      " 26  wards_per_minute            16 non-null     float64\n",
      " 27  control_wards_per_minute    16 non-null     float64\n",
      " 28  wards_cleared_per_minute    16 non-null     float64\n",
      "dtypes: float64(10), int64(6), object(13)\n",
      "memory usage: 3.8+ KB\n"
     ]
    }
   ],
   "source": [
    "teams_main.info()"
   ]
  },
  {
   "cell_type": "code",
   "execution_count": 16,
   "metadata": {},
   "outputs": [
    {
     "data": {
      "text/html": [
       "<div>\n",
       "<style scoped>\n",
       "    .dataframe tbody tr th:only-of-type {\n",
       "        vertical-align: middle;\n",
       "    }\n",
       "\n",
       "    .dataframe tbody tr th {\n",
       "        vertical-align: top;\n",
       "    }\n",
       "\n",
       "    .dataframe thead th {\n",
       "        text-align: right;\n",
       "    }\n",
       "</style>\n",
       "<table border=\"1\" class=\"dataframe\">\n",
       "  <thead>\n",
       "    <tr style=\"text-align: right;\">\n",
       "      <th></th>\n",
       "      <th>team</th>\n",
       "      <th>games_played</th>\n",
       "      <th>wins</th>\n",
       "      <th>loses</th>\n",
       "      <th>average_game_duration</th>\n",
       "      <th>kills</th>\n",
       "      <th>deaths</th>\n",
       "      <th>kd</th>\n",
       "      <th>combined_kills_per_minute</th>\n",
       "      <th>gold_percent_rating</th>\n",
       "      <th>...</th>\n",
       "      <th>first_dragon_rate</th>\n",
       "      <th>dragon_control_rate</th>\n",
       "      <th>elder_dragon_rate</th>\n",
       "      <th>first_baron_rate</th>\n",
       "      <th>baron_control_rate</th>\n",
       "      <th>lane_control</th>\n",
       "      <th>jungle_control</th>\n",
       "      <th>wards_per_minute</th>\n",
       "      <th>control_wards_per_minute</th>\n",
       "      <th>wards_cleared_per_minute</th>\n",
       "    </tr>\n",
       "  </thead>\n",
       "  <tbody>\n",
       "    <tr>\n",
       "      <th>0</th>\n",
       "      <td>100 Thieves</td>\n",
       "      <td>6</td>\n",
       "      <td>1</td>\n",
       "      <td>5</td>\n",
       "      <td>30.7</td>\n",
       "      <td>53</td>\n",
       "      <td>83</td>\n",
       "      <td>0.64</td>\n",
       "      <td>0.74</td>\n",
       "      <td>-1.05</td>\n",
       "      <td>...</td>\n",
       "      <td>33%</td>\n",
       "      <td>33%</td>\n",
       "      <td>NaN</td>\n",
       "      <td>33%</td>\n",
       "      <td>43%</td>\n",
       "      <td>47.8%</td>\n",
       "      <td>45.6%</td>\n",
       "      <td>3.04</td>\n",
       "      <td>1.18</td>\n",
       "      <td>1.34</td>\n",
       "    </tr>\n",
       "    <tr>\n",
       "      <th>1</th>\n",
       "      <td>Cloud9</td>\n",
       "      <td>6</td>\n",
       "      <td>1</td>\n",
       "      <td>5</td>\n",
       "      <td>27.2</td>\n",
       "      <td>40</td>\n",
       "      <td>88</td>\n",
       "      <td>0.45</td>\n",
       "      <td>0.78</td>\n",
       "      <td>-1.92</td>\n",
       "      <td>...</td>\n",
       "      <td>50%</td>\n",
       "      <td>33%</td>\n",
       "      <td>NaN</td>\n",
       "      <td>17%</td>\n",
       "      <td>29%</td>\n",
       "      <td>48.1%</td>\n",
       "      <td>45.0%</td>\n",
       "      <td>2.58</td>\n",
       "      <td>0.79</td>\n",
       "      <td>0.99</td>\n",
       "    </tr>\n",
       "    <tr>\n",
       "      <th>2</th>\n",
       "      <td>CTBC Flying Oyster</td>\n",
       "      <td>6</td>\n",
       "      <td>1</td>\n",
       "      <td>5</td>\n",
       "      <td>31.7</td>\n",
       "      <td>48</td>\n",
       "      <td>118</td>\n",
       "      <td>0.41</td>\n",
       "      <td>0.87</td>\n",
       "      <td>-1.31</td>\n",
       "      <td>...</td>\n",
       "      <td>50%</td>\n",
       "      <td>24%</td>\n",
       "      <td>NaN</td>\n",
       "      <td>33%</td>\n",
       "      <td>22%</td>\n",
       "      <td>49.9%</td>\n",
       "      <td>44.4%</td>\n",
       "      <td>3.29</td>\n",
       "      <td>1.25</td>\n",
       "      <td>1.32</td>\n",
       "    </tr>\n",
       "    <tr>\n",
       "      <th>3</th>\n",
       "      <td>DRX</td>\n",
       "      <td>21</td>\n",
       "      <td>14</td>\n",
       "      <td>7</td>\n",
       "      <td>34.5</td>\n",
       "      <td>276</td>\n",
       "      <td>200</td>\n",
       "      <td>1.38</td>\n",
       "      <td>0.66</td>\n",
       "      <td>0.68</td>\n",
       "      <td>...</td>\n",
       "      <td>48%</td>\n",
       "      <td>53%</td>\n",
       "      <td>67%</td>\n",
       "      <td>67%</td>\n",
       "      <td>58%</td>\n",
       "      <td>50.4%</td>\n",
       "      <td>51.3%</td>\n",
       "      <td>3.63</td>\n",
       "      <td>1.54</td>\n",
       "      <td>1.82</td>\n",
       "    </tr>\n",
       "    <tr>\n",
       "      <th>4</th>\n",
       "      <td>DWG KIA</td>\n",
       "      <td>12</td>\n",
       "      <td>7</td>\n",
       "      <td>5</td>\n",
       "      <td>31.6</td>\n",
       "      <td>174</td>\n",
       "      <td>133</td>\n",
       "      <td>1.31</td>\n",
       "      <td>0.81</td>\n",
       "      <td>1.53</td>\n",
       "      <td>...</td>\n",
       "      <td>58%</td>\n",
       "      <td>70%</td>\n",
       "      <td>NaN</td>\n",
       "      <td>75%</td>\n",
       "      <td>71%</td>\n",
       "      <td>48.9%</td>\n",
       "      <td>53.8%</td>\n",
       "      <td>3.59</td>\n",
       "      <td>1.47</td>\n",
       "      <td>1.44</td>\n",
       "    </tr>\n",
       "  </tbody>\n",
       "</table>\n",
       "<p>5 rows × 29 columns</p>\n",
       "</div>"
      ],
      "text/plain": [
       "                 team  games_played  wins  loses  average_game_duration  \\\n",
       "0         100 Thieves             6     1      5                   30.7   \n",
       "1              Cloud9             6     1      5                   27.2   \n",
       "2  CTBC Flying Oyster             6     1      5                   31.7   \n",
       "3                 DRX            21    14      7                   34.5   \n",
       "4             DWG KIA            12     7      5                   31.6   \n",
       "\n",
       "   kills  deaths    kd  combined_kills_per_minute  gold_percent_rating  ...  \\\n",
       "0     53      83  0.64                       0.74                -1.05  ...   \n",
       "1     40      88  0.45                       0.78                -1.92  ...   \n",
       "2     48     118  0.41                       0.87                -1.31  ...   \n",
       "3    276     200  1.38                       0.66                 0.68  ...   \n",
       "4    174     133  1.31                       0.81                 1.53  ...   \n",
       "\n",
       "  first_dragon_rate  dragon_control_rate  elder_dragon_rate  first_baron_rate  \\\n",
       "0               33%                  33%                NaN               33%   \n",
       "1               50%                  33%                NaN               17%   \n",
       "2               50%                  24%                NaN               33%   \n",
       "3               48%                  53%                67%               67%   \n",
       "4               58%                  70%                NaN               75%   \n",
       "\n",
       "  baron_control_rate lane_control jungle_control  wards_per_minute  \\\n",
       "0                43%        47.8%          45.6%              3.04   \n",
       "1                29%        48.1%          45.0%              2.58   \n",
       "2                22%        49.9%          44.4%              3.29   \n",
       "3                58%        50.4%          51.3%              3.63   \n",
       "4                71%        48.9%          53.8%              3.59   \n",
       "\n",
       "  control_wards_per_minute wards_cleared_per_minute  \n",
       "0                     1.18                     1.34  \n",
       "1                     0.79                     0.99  \n",
       "2                     1.25                     1.32  \n",
       "3                     1.54                     1.82  \n",
       "4                     1.47                     1.44  \n",
       "\n",
       "[5 rows x 29 columns]"
      ]
     },
     "execution_count": 16,
     "metadata": {},
     "output_type": "execute_result"
    }
   ],
   "source": [
    "teams_main.head()"
   ]
  },
  {
   "cell_type": "markdown",
   "metadata": {},
   "source": [
    "---"
   ]
  },
  {
   "cell_type": "code",
   "execution_count": 17,
   "metadata": {},
   "outputs": [
    {
     "name": "stdout",
     "output_type": "stream",
     "text": [
      "<class 'pandas.core.frame.DataFrame'>\n",
      "RangeIndex: 12 entries, 0 to 11\n",
      "Data columns (total 29 columns):\n",
      " #   Column                      Non-Null Count  Dtype  \n",
      "---  ------                      --------------  -----  \n",
      " 0   team                        12 non-null     object \n",
      " 1   games_played                12 non-null     int64  \n",
      " 2   wins                        12 non-null     int64  \n",
      " 3   loses                       12 non-null     int64  \n",
      " 4   average_game_duration       12 non-null     float64\n",
      " 5   kills                       12 non-null     int64  \n",
      " 6   deaths                      12 non-null     int64  \n",
      " 7   kd                          12 non-null     float64\n",
      " 8   combined_kills_per_minute   12 non-null     float64\n",
      " 9   gold_percent_rating         12 non-null     float64\n",
      " 10  gold_spent_difference       12 non-null     object \n",
      " 11  early_game_rating           12 non-null     float64\n",
      " 12  mid_late_rating             12 non-null     float64\n",
      " 13  gold_diff_15                12 non-null     int64  \n",
      " 14  first_blood_rate            12 non-null     object \n",
      " 15  first_tower_rate            12 non-null     object \n",
      " 16  first_to_three_towers_rate  12 non-null     object \n",
      " 17  turrent_plates_destroyed    12 non-null     float64\n",
      " 18  rift_herald_rate            12 non-null     object \n",
      " 19  first_dragon_rate           12 non-null     object \n",
      " 20  dragon_control_rate         12 non-null     object \n",
      " 21  elder_dragon_rate           2 non-null      object \n",
      " 22  first_baron_rate            12 non-null     object \n",
      " 23  baron_control_rate          12 non-null     object \n",
      " 24  lane_control                12 non-null     object \n",
      " 25  jungle_control              12 non-null     object \n",
      " 26  wards_per_minute            12 non-null     float64\n",
      " 27  control_wards_per_minute    12 non-null     float64\n",
      " 28  wards_cleared_per_minute    12 non-null     float64\n",
      "dtypes: float64(10), int64(6), object(13)\n",
      "memory usage: 2.8+ KB\n"
     ]
    }
   ],
   "source": [
    "teams_pi.info()"
   ]
  },
  {
   "cell_type": "code",
   "execution_count": 199,
   "metadata": {},
   "outputs": [
    {
     "data": {
      "text/html": [
       "<div>\n",
       "<style scoped>\n",
       "    .dataframe tbody tr th:only-of-type {\n",
       "        vertical-align: middle;\n",
       "    }\n",
       "\n",
       "    .dataframe tbody tr th {\n",
       "        vertical-align: top;\n",
       "    }\n",
       "\n",
       "    .dataframe thead th {\n",
       "        text-align: right;\n",
       "    }\n",
       "</style>\n",
       "<table border=\"1\" class=\"dataframe\">\n",
       "  <thead>\n",
       "    <tr style=\"text-align: right;\">\n",
       "      <th></th>\n",
       "      <th>team</th>\n",
       "      <th>games_played</th>\n",
       "      <th>wins</th>\n",
       "      <th>loses</th>\n",
       "      <th>average_game_duration</th>\n",
       "      <th>kills</th>\n",
       "      <th>deaths</th>\n",
       "      <th>kd</th>\n",
       "      <th>combined_kills_per_minute</th>\n",
       "      <th>gold_percent_rating</th>\n",
       "      <th>...</th>\n",
       "      <th>first_dragon_rate</th>\n",
       "      <th>dragon_control_rate</th>\n",
       "      <th>elder_dragon_rate</th>\n",
       "      <th>first_baron_rate</th>\n",
       "      <th>baron_control_rate</th>\n",
       "      <th>lane_control</th>\n",
       "      <th>jungle_control</th>\n",
       "      <th>wards_per_minute</th>\n",
       "      <th>control_wards_per_minute</th>\n",
       "      <th>wards_cleared_per_minute</th>\n",
       "    </tr>\n",
       "  </thead>\n",
       "  <tbody>\n",
       "    <tr>\n",
       "      <th>0</th>\n",
       "      <td>100 Thieves</td>\n",
       "      <td>6</td>\n",
       "      <td>1</td>\n",
       "      <td>5</td>\n",
       "      <td>30.7</td>\n",
       "      <td>53</td>\n",
       "      <td>83</td>\n",
       "      <td>0.64</td>\n",
       "      <td>0.74</td>\n",
       "      <td>-1.05</td>\n",
       "      <td>...</td>\n",
       "      <td>33%</td>\n",
       "      <td>33%</td>\n",
       "      <td>NaN</td>\n",
       "      <td>33%</td>\n",
       "      <td>43%</td>\n",
       "      <td>47.8%</td>\n",
       "      <td>45.6%</td>\n",
       "      <td>3.04</td>\n",
       "      <td>1.18</td>\n",
       "      <td>1.34</td>\n",
       "    </tr>\n",
       "    <tr>\n",
       "      <th>1</th>\n",
       "      <td>Cloud9</td>\n",
       "      <td>6</td>\n",
       "      <td>1</td>\n",
       "      <td>5</td>\n",
       "      <td>27.2</td>\n",
       "      <td>40</td>\n",
       "      <td>88</td>\n",
       "      <td>0.45</td>\n",
       "      <td>0.78</td>\n",
       "      <td>-1.92</td>\n",
       "      <td>...</td>\n",
       "      <td>50%</td>\n",
       "      <td>33%</td>\n",
       "      <td>NaN</td>\n",
       "      <td>17%</td>\n",
       "      <td>29%</td>\n",
       "      <td>48.1%</td>\n",
       "      <td>45.0%</td>\n",
       "      <td>2.58</td>\n",
       "      <td>0.79</td>\n",
       "      <td>0.99</td>\n",
       "    </tr>\n",
       "    <tr>\n",
       "      <th>2</th>\n",
       "      <td>CTBC Flying Oyster</td>\n",
       "      <td>6</td>\n",
       "      <td>1</td>\n",
       "      <td>5</td>\n",
       "      <td>31.7</td>\n",
       "      <td>48</td>\n",
       "      <td>118</td>\n",
       "      <td>0.41</td>\n",
       "      <td>0.87</td>\n",
       "      <td>-1.31</td>\n",
       "      <td>...</td>\n",
       "      <td>50%</td>\n",
       "      <td>24%</td>\n",
       "      <td>NaN</td>\n",
       "      <td>33%</td>\n",
       "      <td>22%</td>\n",
       "      <td>49.9%</td>\n",
       "      <td>44.4%</td>\n",
       "      <td>3.29</td>\n",
       "      <td>1.25</td>\n",
       "      <td>1.32</td>\n",
       "    </tr>\n",
       "    <tr>\n",
       "      <th>3</th>\n",
       "      <td>DRX</td>\n",
       "      <td>21</td>\n",
       "      <td>14</td>\n",
       "      <td>7</td>\n",
       "      <td>34.5</td>\n",
       "      <td>276</td>\n",
       "      <td>200</td>\n",
       "      <td>1.38</td>\n",
       "      <td>0.66</td>\n",
       "      <td>0.68</td>\n",
       "      <td>...</td>\n",
       "      <td>48%</td>\n",
       "      <td>53%</td>\n",
       "      <td>67%</td>\n",
       "      <td>67%</td>\n",
       "      <td>58%</td>\n",
       "      <td>50.4%</td>\n",
       "      <td>51.3%</td>\n",
       "      <td>3.63</td>\n",
       "      <td>1.54</td>\n",
       "      <td>1.82</td>\n",
       "    </tr>\n",
       "    <tr>\n",
       "      <th>4</th>\n",
       "      <td>DWG KIA</td>\n",
       "      <td>12</td>\n",
       "      <td>7</td>\n",
       "      <td>5</td>\n",
       "      <td>31.6</td>\n",
       "      <td>174</td>\n",
       "      <td>133</td>\n",
       "      <td>1.31</td>\n",
       "      <td>0.81</td>\n",
       "      <td>1.53</td>\n",
       "      <td>...</td>\n",
       "      <td>58%</td>\n",
       "      <td>70%</td>\n",
       "      <td>NaN</td>\n",
       "      <td>75%</td>\n",
       "      <td>71%</td>\n",
       "      <td>48.9%</td>\n",
       "      <td>53.8%</td>\n",
       "      <td>3.59</td>\n",
       "      <td>1.47</td>\n",
       "      <td>1.44</td>\n",
       "    </tr>\n",
       "    <tr>\n",
       "      <th>5</th>\n",
       "      <td>EDward Gaming</td>\n",
       "      <td>11</td>\n",
       "      <td>6</td>\n",
       "      <td>5</td>\n",
       "      <td>33.5</td>\n",
       "      <td>144</td>\n",
       "      <td>123</td>\n",
       "      <td>1.17</td>\n",
       "      <td>0.73</td>\n",
       "      <td>0.23</td>\n",
       "      <td>...</td>\n",
       "      <td>45%</td>\n",
       "      <td>50%</td>\n",
       "      <td>100%</td>\n",
       "      <td>55%</td>\n",
       "      <td>56%</td>\n",
       "      <td>49.9%</td>\n",
       "      <td>50.6%</td>\n",
       "      <td>3.23</td>\n",
       "      <td>1.23</td>\n",
       "      <td>1.73</td>\n",
       "    </tr>\n",
       "    <tr>\n",
       "      <th>6</th>\n",
       "      <td>Evil Geniuses</td>\n",
       "      <td>6</td>\n",
       "      <td>1</td>\n",
       "      <td>5</td>\n",
       "      <td>28.7</td>\n",
       "      <td>53</td>\n",
       "      <td>96</td>\n",
       "      <td>0.55</td>\n",
       "      <td>0.86</td>\n",
       "      <td>-1.02</td>\n",
       "      <td>...</td>\n",
       "      <td>50%</td>\n",
       "      <td>33%</td>\n",
       "      <td>NaN</td>\n",
       "      <td>17%</td>\n",
       "      <td>33%</td>\n",
       "      <td>48.9%</td>\n",
       "      <td>46.7%</td>\n",
       "      <td>2.66</td>\n",
       "      <td>0.83</td>\n",
       "      <td>1.34</td>\n",
       "    </tr>\n",
       "    <tr>\n",
       "      <th>7</th>\n",
       "      <td>Fnatic</td>\n",
       "      <td>6</td>\n",
       "      <td>2</td>\n",
       "      <td>4</td>\n",
       "      <td>30.8</td>\n",
       "      <td>57</td>\n",
       "      <td>83</td>\n",
       "      <td>0.69</td>\n",
       "      <td>0.76</td>\n",
       "      <td>-1.36</td>\n",
       "      <td>...</td>\n",
       "      <td>50%</td>\n",
       "      <td>43%</td>\n",
       "      <td>NaN</td>\n",
       "      <td>33%</td>\n",
       "      <td>20%</td>\n",
       "      <td>51.0%</td>\n",
       "      <td>48.5%</td>\n",
       "      <td>2.79</td>\n",
       "      <td>0.87</td>\n",
       "      <td>1.12</td>\n",
       "    </tr>\n",
       "    <tr>\n",
       "      <th>8</th>\n",
       "      <td>G2 Esports</td>\n",
       "      <td>6</td>\n",
       "      <td>1</td>\n",
       "      <td>5</td>\n",
       "      <td>30.1</td>\n",
       "      <td>55</td>\n",
       "      <td>84</td>\n",
       "      <td>0.65</td>\n",
       "      <td>0.77</td>\n",
       "      <td>-2.19</td>\n",
       "      <td>...</td>\n",
       "      <td>17%</td>\n",
       "      <td>30%</td>\n",
       "      <td>NaN</td>\n",
       "      <td>33%</td>\n",
       "      <td>22%</td>\n",
       "      <td>49.8%</td>\n",
       "      <td>41.4%</td>\n",
       "      <td>2.99</td>\n",
       "      <td>0.88</td>\n",
       "      <td>1.35</td>\n",
       "    </tr>\n",
       "    <tr>\n",
       "      <th>9</th>\n",
       "      <td>GAM Esports</td>\n",
       "      <td>6</td>\n",
       "      <td>1</td>\n",
       "      <td>5</td>\n",
       "      <td>31.6</td>\n",
       "      <td>54</td>\n",
       "      <td>107</td>\n",
       "      <td>0.50</td>\n",
       "      <td>0.85</td>\n",
       "      <td>-2.35</td>\n",
       "      <td>...</td>\n",
       "      <td>67%</td>\n",
       "      <td>52%</td>\n",
       "      <td>0%</td>\n",
       "      <td>17%</td>\n",
       "      <td>13%</td>\n",
       "      <td>48.6%</td>\n",
       "      <td>47.6%</td>\n",
       "      <td>3.89</td>\n",
       "      <td>1.22</td>\n",
       "      <td>1.46</td>\n",
       "    </tr>\n",
       "    <tr>\n",
       "      <th>10</th>\n",
       "      <td>Gen.G</td>\n",
       "      <td>16</td>\n",
       "      <td>10</td>\n",
       "      <td>6</td>\n",
       "      <td>31.4</td>\n",
       "      <td>200</td>\n",
       "      <td>152</td>\n",
       "      <td>1.32</td>\n",
       "      <td>0.70</td>\n",
       "      <td>0.37</td>\n",
       "      <td>...</td>\n",
       "      <td>56%</td>\n",
       "      <td>49%</td>\n",
       "      <td>0%</td>\n",
       "      <td>50%</td>\n",
       "      <td>53%</td>\n",
       "      <td>51.5%</td>\n",
       "      <td>52.5%</td>\n",
       "      <td>3.18</td>\n",
       "      <td>1.37</td>\n",
       "      <td>1.82</td>\n",
       "    </tr>\n",
       "    <tr>\n",
       "      <th>11</th>\n",
       "      <td>JD Gaming</td>\n",
       "      <td>14</td>\n",
       "      <td>10</td>\n",
       "      <td>4</td>\n",
       "      <td>31.4</td>\n",
       "      <td>218</td>\n",
       "      <td>200</td>\n",
       "      <td>1.09</td>\n",
       "      <td>0.95</td>\n",
       "      <td>0.33</td>\n",
       "      <td>...</td>\n",
       "      <td>43%</td>\n",
       "      <td>47%</td>\n",
       "      <td>100%</td>\n",
       "      <td>36%</td>\n",
       "      <td>44%</td>\n",
       "      <td>50.8%</td>\n",
       "      <td>54.7%</td>\n",
       "      <td>3.35</td>\n",
       "      <td>1.25</td>\n",
       "      <td>1.83</td>\n",
       "    </tr>\n",
       "    <tr>\n",
       "      <th>12</th>\n",
       "      <td>Rogue</td>\n",
       "      <td>10</td>\n",
       "      <td>4</td>\n",
       "      <td>6</td>\n",
       "      <td>31.0</td>\n",
       "      <td>110</td>\n",
       "      <td>123</td>\n",
       "      <td>0.89</td>\n",
       "      <td>0.75</td>\n",
       "      <td>-0.69</td>\n",
       "      <td>...</td>\n",
       "      <td>30%</td>\n",
       "      <td>52%</td>\n",
       "      <td>NaN</td>\n",
       "      <td>30%</td>\n",
       "      <td>46%</td>\n",
       "      <td>49.2%</td>\n",
       "      <td>45.4%</td>\n",
       "      <td>2.89</td>\n",
       "      <td>0.88</td>\n",
       "      <td>1.49</td>\n",
       "    </tr>\n",
       "    <tr>\n",
       "      <th>13</th>\n",
       "      <td>Royal Never Give Up</td>\n",
       "      <td>10</td>\n",
       "      <td>5</td>\n",
       "      <td>5</td>\n",
       "      <td>31.6</td>\n",
       "      <td>132</td>\n",
       "      <td>120</td>\n",
       "      <td>1.10</td>\n",
       "      <td>0.80</td>\n",
       "      <td>0.19</td>\n",
       "      <td>...</td>\n",
       "      <td>60%</td>\n",
       "      <td>63%</td>\n",
       "      <td>0%</td>\n",
       "      <td>40%</td>\n",
       "      <td>42%</td>\n",
       "      <td>49.9%</td>\n",
       "      <td>50.9%</td>\n",
       "      <td>3.06</td>\n",
       "      <td>1.17</td>\n",
       "      <td>1.66</td>\n",
       "    </tr>\n",
       "    <tr>\n",
       "      <th>14</th>\n",
       "      <td>T1</td>\n",
       "      <td>18</td>\n",
       "      <td>13</td>\n",
       "      <td>5</td>\n",
       "      <td>31.9</td>\n",
       "      <td>291</td>\n",
       "      <td>211</td>\n",
       "      <td>1.38</td>\n",
       "      <td>0.87</td>\n",
       "      <td>0.94</td>\n",
       "      <td>...</td>\n",
       "      <td>61%</td>\n",
       "      <td>56%</td>\n",
       "      <td>33%</td>\n",
       "      <td>78%</td>\n",
       "      <td>84%</td>\n",
       "      <td>50.3%</td>\n",
       "      <td>51.6%</td>\n",
       "      <td>3.47</td>\n",
       "      <td>1.50</td>\n",
       "      <td>1.31</td>\n",
       "    </tr>\n",
       "    <tr>\n",
       "      <th>15</th>\n",
       "      <td>Top Esports</td>\n",
       "      <td>6</td>\n",
       "      <td>3</td>\n",
       "      <td>3</td>\n",
       "      <td>31.5</td>\n",
       "      <td>82</td>\n",
       "      <td>71</td>\n",
       "      <td>1.15</td>\n",
       "      <td>0.81</td>\n",
       "      <td>0.76</td>\n",
       "      <td>...</td>\n",
       "      <td>67%</td>\n",
       "      <td>57%</td>\n",
       "      <td>100%</td>\n",
       "      <td>67%</td>\n",
       "      <td>63%</td>\n",
       "      <td>51.0%</td>\n",
       "      <td>50.9%</td>\n",
       "      <td>3.32</td>\n",
       "      <td>1.40</td>\n",
       "      <td>1.86</td>\n",
       "    </tr>\n",
       "  </tbody>\n",
       "</table>\n",
       "<p>16 rows × 29 columns</p>\n",
       "</div>"
      ],
      "text/plain": [
       "                   team  games_played  wins  loses  average_game_duration  \\\n",
       "0           100 Thieves             6     1      5                   30.7   \n",
       "1                Cloud9             6     1      5                   27.2   \n",
       "2    CTBC Flying Oyster             6     1      5                   31.7   \n",
       "3                   DRX            21    14      7                   34.5   \n",
       "4               DWG KIA            12     7      5                   31.6   \n",
       "5         EDward Gaming            11     6      5                   33.5   \n",
       "6         Evil Geniuses             6     1      5                   28.7   \n",
       "7                Fnatic             6     2      4                   30.8   \n",
       "8            G2 Esports             6     1      5                   30.1   \n",
       "9           GAM Esports             6     1      5                   31.6   \n",
       "10                Gen.G            16    10      6                   31.4   \n",
       "11            JD Gaming            14    10      4                   31.4   \n",
       "12                Rogue            10     4      6                   31.0   \n",
       "13  Royal Never Give Up            10     5      5                   31.6   \n",
       "14                   T1            18    13      5                   31.9   \n",
       "15          Top Esports             6     3      3                   31.5   \n",
       "\n",
       "    kills  deaths    kd  combined_kills_per_minute  gold_percent_rating  ...  \\\n",
       "0      53      83  0.64                       0.74                -1.05  ...   \n",
       "1      40      88  0.45                       0.78                -1.92  ...   \n",
       "2      48     118  0.41                       0.87                -1.31  ...   \n",
       "3     276     200  1.38                       0.66                 0.68  ...   \n",
       "4     174     133  1.31                       0.81                 1.53  ...   \n",
       "5     144     123  1.17                       0.73                 0.23  ...   \n",
       "6      53      96  0.55                       0.86                -1.02  ...   \n",
       "7      57      83  0.69                       0.76                -1.36  ...   \n",
       "8      55      84  0.65                       0.77                -2.19  ...   \n",
       "9      54     107  0.50                       0.85                -2.35  ...   \n",
       "10    200     152  1.32                       0.70                 0.37  ...   \n",
       "11    218     200  1.09                       0.95                 0.33  ...   \n",
       "12    110     123  0.89                       0.75                -0.69  ...   \n",
       "13    132     120  1.10                       0.80                 0.19  ...   \n",
       "14    291     211  1.38                       0.87                 0.94  ...   \n",
       "15     82      71  1.15                       0.81                 0.76  ...   \n",
       "\n",
       "   first_dragon_rate  dragon_control_rate  elder_dragon_rate  \\\n",
       "0                33%                  33%                NaN   \n",
       "1                50%                  33%                NaN   \n",
       "2                50%                  24%                NaN   \n",
       "3                48%                  53%                67%   \n",
       "4                58%                  70%                NaN   \n",
       "5                45%                  50%               100%   \n",
       "6                50%                  33%                NaN   \n",
       "7                50%                  43%                NaN   \n",
       "8                17%                  30%                NaN   \n",
       "9                67%                  52%                 0%   \n",
       "10               56%                  49%                 0%   \n",
       "11               43%                  47%               100%   \n",
       "12               30%                  52%                NaN   \n",
       "13               60%                  63%                 0%   \n",
       "14               61%                  56%                33%   \n",
       "15               67%                  57%               100%   \n",
       "\n",
       "    first_baron_rate baron_control_rate lane_control jungle_control  \\\n",
       "0                33%                43%        47.8%          45.6%   \n",
       "1                17%                29%        48.1%          45.0%   \n",
       "2                33%                22%        49.9%          44.4%   \n",
       "3                67%                58%        50.4%          51.3%   \n",
       "4                75%                71%        48.9%          53.8%   \n",
       "5                55%                56%        49.9%          50.6%   \n",
       "6                17%                33%        48.9%          46.7%   \n",
       "7                33%                20%        51.0%          48.5%   \n",
       "8                33%                22%        49.8%          41.4%   \n",
       "9                17%                13%        48.6%          47.6%   \n",
       "10               50%                53%        51.5%          52.5%   \n",
       "11               36%                44%        50.8%          54.7%   \n",
       "12               30%                46%        49.2%          45.4%   \n",
       "13               40%                42%        49.9%          50.9%   \n",
       "14               78%                84%        50.3%          51.6%   \n",
       "15               67%                63%        51.0%          50.9%   \n",
       "\n",
       "    wards_per_minute control_wards_per_minute wards_cleared_per_minute  \n",
       "0               3.04                     1.18                     1.34  \n",
       "1               2.58                     0.79                     0.99  \n",
       "2               3.29                     1.25                     1.32  \n",
       "3               3.63                     1.54                     1.82  \n",
       "4               3.59                     1.47                     1.44  \n",
       "5               3.23                     1.23                     1.73  \n",
       "6               2.66                     0.83                     1.34  \n",
       "7               2.79                     0.87                     1.12  \n",
       "8               2.99                     0.88                     1.35  \n",
       "9               3.89                     1.22                     1.46  \n",
       "10              3.18                     1.37                     1.82  \n",
       "11              3.35                     1.25                     1.83  \n",
       "12              2.89                     0.88                     1.49  \n",
       "13              3.06                     1.17                     1.66  \n",
       "14              3.47                     1.50                     1.31  \n",
       "15              3.32                     1.40                     1.86  \n",
       "\n",
       "[16 rows x 29 columns]"
      ]
     },
     "execution_count": 199,
     "metadata": {},
     "output_type": "execute_result"
    }
   ],
   "source": [
    "teams_main"
   ]
  },
  {
   "cell_type": "code",
   "execution_count": null,
   "metadata": {},
   "outputs": [],
   "source": []
  },
  {
   "cell_type": "code",
   "execution_count": null,
   "metadata": {},
   "outputs": [],
   "source": []
  }
 ],
 "metadata": {
  "kernelspec": {
   "display_name": "Python 3",
   "language": "python",
   "name": "python3"
  },
  "language_info": {
   "codemirror_mode": {
    "name": "ipython",
    "version": 3
   },
   "file_extension": ".py",
   "mimetype": "text/x-python",
   "name": "python",
   "nbconvert_exporter": "python",
   "pygments_lexer": "ipython3",
   "version": "3.11.4"
  },
  "orig_nbformat": 4
 },
 "nbformat": 4,
 "nbformat_minor": 2
}
